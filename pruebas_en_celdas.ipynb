{
 "cells": [
  {
   "cell_type": "code",
   "execution_count": 12,
   "metadata": {},
   "outputs": [
    {
     "name": "stderr",
     "output_type": "stream",
     "text": [
      "C:\\Users\\juanj\\AppData\\Local\\Temp\\ipykernel_15732\\1114574131.py:13: DtypeWarning: Columns (10) have mixed types. Specify dtype option on import or set low_memory=False.\n",
      "  movies = pd.read_csv('C:/Users/juanj/OneDrive/Documentos/3er cuatri/modelado/modelado_p1/movies_metadata.csv')\n"
     ]
    },
    {
     "ename": "ValueError",
     "evalue": "malformed node or string: 0        30000000\n1        65000000\n2               0\n3        16000000\n4               0\n           ...   \n45461           0\n45462           0\n45463           0\n45464           0\n45465           0\nName: budget, Length: 45466, dtype: object",
     "output_type": "error",
     "traceback": [
      "\u001b[1;31m---------------------------------------------------------------------------\u001b[0m",
      "\u001b[1;31mValueError\u001b[0m                                Traceback (most recent call last)",
      "\u001b[1;32mc:\\Users\\juanj\\OneDrive\\Documentos\\3er cuatri\\repositorio2\\repositorio2\\pruebas_en_celdas.ipynb Celda 1\u001b[0m line \u001b[0;36m2\n\u001b[0;32m     <a href='vscode-notebook-cell:/c%3A/Users/juanj/OneDrive/Documentos/3er%20cuatri/repositorio2/repositorio2/pruebas_en_celdas.ipynb#W0sZmlsZQ%3D%3D?line=21'>22</a>\u001b[0m \u001b[39mimport\u001b[39;00m \u001b[39mast\u001b[39;00m\n\u001b[0;32m     <a href='vscode-notebook-cell:/c%3A/Users/juanj/OneDrive/Documentos/3er%20cuatri/repositorio2/repositorio2/pruebas_en_celdas.ipynb#W0sZmlsZQ%3D%3D?line=23'>24</a>\u001b[0m pd\u001b[39m.\u001b[39mto_numeric(movies[\u001b[39m'\u001b[39m\u001b[39mbudget\u001b[39m\u001b[39m'\u001b[39m],errors\u001b[39m=\u001b[39m\u001b[39m'\u001b[39m\u001b[39mignore\u001b[39m\u001b[39m'\u001b[39m)\n\u001b[1;32m---> <a href='vscode-notebook-cell:/c%3A/Users/juanj/OneDrive/Documentos/3er%20cuatri/repositorio2/repositorio2/pruebas_en_celdas.ipynb#W0sZmlsZQ%3D%3D?line=24'>25</a>\u001b[0m \u001b[39mtype\u001b[39m(ast\u001b[39m.\u001b[39;49mliteral_eval(movies[\u001b[39m'\u001b[39;49m\u001b[39mbudget\u001b[39;49m\u001b[39m'\u001b[39;49m]))\n",
      "File \u001b[1;32mC:\\Program Files\\WindowsApps\\PythonSoftwareFoundation.Python.3.10_3.10.3056.0_x64__qbz5n2kfra8p0\\lib\\ast.py:110\u001b[0m, in \u001b[0;36mliteral_eval\u001b[1;34m(node_or_string)\u001b[0m\n\u001b[0;32m    108\u001b[0m                 \u001b[39mreturn\u001b[39;00m left \u001b[39m-\u001b[39m right\n\u001b[0;32m    109\u001b[0m     \u001b[39mreturn\u001b[39;00m _convert_signed_num(node)\n\u001b[1;32m--> 110\u001b[0m \u001b[39mreturn\u001b[39;00m _convert(node_or_string)\n",
      "File \u001b[1;32mC:\\Program Files\\WindowsApps\\PythonSoftwareFoundation.Python.3.10_3.10.3056.0_x64__qbz5n2kfra8p0\\lib\\ast.py:109\u001b[0m, in \u001b[0;36mliteral_eval.<locals>._convert\u001b[1;34m(node)\u001b[0m\n\u001b[0;32m    107\u001b[0m         \u001b[39melse\u001b[39;00m:\n\u001b[0;32m    108\u001b[0m             \u001b[39mreturn\u001b[39;00m left \u001b[39m-\u001b[39m right\n\u001b[1;32m--> 109\u001b[0m \u001b[39mreturn\u001b[39;00m _convert_signed_num(node)\n",
      "File \u001b[1;32mC:\\Program Files\\WindowsApps\\PythonSoftwareFoundation.Python.3.10_3.10.3056.0_x64__qbz5n2kfra8p0\\lib\\ast.py:83\u001b[0m, in \u001b[0;36mliteral_eval.<locals>._convert_signed_num\u001b[1;34m(node)\u001b[0m\n\u001b[0;32m     81\u001b[0m     \u001b[39melse\u001b[39;00m:\n\u001b[0;32m     82\u001b[0m         \u001b[39mreturn\u001b[39;00m \u001b[39m-\u001b[39m operand\n\u001b[1;32m---> 83\u001b[0m \u001b[39mreturn\u001b[39;00m _convert_num(node)\n",
      "File \u001b[1;32mC:\\Program Files\\WindowsApps\\PythonSoftwareFoundation.Python.3.10_3.10.3056.0_x64__qbz5n2kfra8p0\\lib\\ast.py:74\u001b[0m, in \u001b[0;36mliteral_eval.<locals>._convert_num\u001b[1;34m(node)\u001b[0m\n\u001b[0;32m     72\u001b[0m \u001b[39mdef\u001b[39;00m \u001b[39m_convert_num\u001b[39m(node):\n\u001b[0;32m     73\u001b[0m     \u001b[39mif\u001b[39;00m \u001b[39mnot\u001b[39;00m \u001b[39misinstance\u001b[39m(node, Constant) \u001b[39mor\u001b[39;00m \u001b[39mtype\u001b[39m(node\u001b[39m.\u001b[39mvalue) \u001b[39mnot\u001b[39;00m \u001b[39min\u001b[39;00m (\u001b[39mint\u001b[39m, \u001b[39mfloat\u001b[39m, \u001b[39mcomplex\u001b[39m):\n\u001b[1;32m---> 74\u001b[0m         _raise_malformed_node(node)\n\u001b[0;32m     75\u001b[0m     \u001b[39mreturn\u001b[39;00m node\u001b[39m.\u001b[39mvalue\n",
      "File \u001b[1;32mC:\\Program Files\\WindowsApps\\PythonSoftwareFoundation.Python.3.10_3.10.3056.0_x64__qbz5n2kfra8p0\\lib\\ast.py:71\u001b[0m, in \u001b[0;36mliteral_eval.<locals>._raise_malformed_node\u001b[1;34m(node)\u001b[0m\n\u001b[0;32m     69\u001b[0m \u001b[39mif\u001b[39;00m lno \u001b[39m:=\u001b[39m \u001b[39mgetattr\u001b[39m(node, \u001b[39m'\u001b[39m\u001b[39mlineno\u001b[39m\u001b[39m'\u001b[39m, \u001b[39mNone\u001b[39;00m):\n\u001b[0;32m     70\u001b[0m     msg \u001b[39m+\u001b[39m\u001b[39m=\u001b[39m \u001b[39mf\u001b[39m\u001b[39m'\u001b[39m\u001b[39m on line \u001b[39m\u001b[39m{\u001b[39;00mlno\u001b[39m}\u001b[39;00m\u001b[39m'\u001b[39m\n\u001b[1;32m---> 71\u001b[0m \u001b[39mraise\u001b[39;00m \u001b[39mValueError\u001b[39;00m(msg \u001b[39m+\u001b[39m \u001b[39mf\u001b[39m\u001b[39m'\u001b[39m\u001b[39m: \u001b[39m\u001b[39m{\u001b[39;00mnode\u001b[39m!r}\u001b[39;00m\u001b[39m'\u001b[39m)\n",
      "\u001b[1;31mValueError\u001b[0m: malformed node or string: 0        30000000\n1        65000000\n2               0\n3        16000000\n4               0\n           ...   \n45461           0\n45462           0\n45463           0\n45464           0\n45465           0\nName: budget, Length: 45466, dtype: object"
     ]
    }
   ],
   "source": [
    "import pandas as pd\n",
    "pd.set_option('display.max_columns', None)\n",
    "pd.set_option('display.max_rows', None)\n",
    "pd.options.display.max_columns = 100\n",
    "'''try:\n",
    "    movies = pd.read_csv('C:/Users/juanj/Documents/3ercuatri/modelado/modelado_p1/movies_metadata.csv')\n",
    "    keywords = pd.read_csv('C:/Users/juanj/Documents/3ercuatri/modelado/modelado_p1/keywords.csv')\n",
    "    credits = pd.read_csv('C:/Users/juanj/Documents/3ercuatri/modelado/modelado_p1/credits.csv')\n",
    "    links = pd.read_csv('C:/Users/juanj/Documents/3ercuatri/modelado/modelado_p1/links.csv')\n",
    "    ratings = pd.read_csv('C:/Users/juanj/Documents/3ercuatri/modelado/modelado_p1/keywords.csv')\n",
    "    links = pd.read_csv('C:/Users/juanj/Documents/3ercuatri/modelado/modelado_p1/links.csv')'''\n",
    "\n",
    "movies = pd.read_csv('C:/Users/juanj/OneDrive/Documentos/3er cuatri/modelado/modelado_p1/movies_metadata.csv')\n",
    "keywords = pd.read_csv('C:/Users/juanj/OneDrive/Documentos/3er cuatri/modelado/modelado_p1/keywords.csv')\n",
    "credits = pd.read_csv('C:/Users/juanj/OneDrive/Documentos/3er cuatri/modelado/modelado_p1/credits.csv')\n",
    "links = pd.read_csv('C:/Users/juanj/OneDrive/Documentos/3er cuatri/modelado/modelado_p1/links.csv')\n",
    "ratings = pd.read_csv('C:/Users/juanj/OneDrive/Documentos/3er cuatri/modelado/modelado_p1/keywords.csv')\n",
    "links = pd.read_csv('C:/Users/juanj/OneDrive/Documentos/3er cuatri/modelado/modelado_p1/links.csv')\n",
    "pd.set_option('display.max_rows',1000)\n",
    "\n",
    "a=pd.read_csv('./countries.csv')\n",
    "import ast\n",
    "\n",
    "pd.to_numeric(movies['budget'],errors='ignore')\n",
    "type(ast.literal_eval(movies['budget']))\n"
   ]
  }
 ],
 "metadata": {
  "kernelspec": {
   "display_name": "Python 3",
   "language": "python",
   "name": "python3"
  },
  "language_info": {
   "codemirror_mode": {
    "name": "ipython",
    "version": 3
   },
   "file_extension": ".py",
   "mimetype": "text/x-python",
   "name": "python",
   "nbconvert_exporter": "python",
   "pygments_lexer": "ipython3",
   "version": "3.10.11"
  }
 },
 "nbformat": 4,
 "nbformat_minor": 2
}
