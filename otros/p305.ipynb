{
 "cells": [
  {
   "cell_type": "code",
   "execution_count": 2,
   "metadata": {},
   "outputs": [],
   "source": [
    "from typing import Tuple,Dict,List"
   ]
  },
  {
   "cell_type": "code",
   "execution_count": 3,
   "metadata": {},
   "outputs": [
    {
     "ename": "ModuleNotFoundError",
     "evalue": "No module named 'cvxpy'",
     "output_type": "error",
     "traceback": [
      "\u001b[1;31m---------------------------------------------------------------------------\u001b[0m",
      "\u001b[1;31mModuleNotFoundError\u001b[0m                       Traceback (most recent call last)",
      "\u001b[1;32mc:\\Users\\juanj\\OneDrive\\Documentos\\3er cuatri\\repositorio2\\repositorio2\\otros\\p305.ipynb Celda 2\u001b[0m line \u001b[0;36m1\n\u001b[1;32m----> <a href='vscode-notebook-cell:/c%3A/Users/juanj/OneDrive/Documentos/3er%20cuatri/repositorio2/repositorio2/otros/p305.ipynb#W1sZmlsZQ%3D%3D?line=0'>1</a>\u001b[0m \u001b[39mimport\u001b[39;00m \u001b[39mnumpy\u001b[39;00m \u001b[39mas\u001b[39;00m \u001b[39mnp\u001b[39;00m; \u001b[39mimport\u001b[39;00m \u001b[39mcvxpy\u001b[39;00m;\n\u001b[0;32m      <a href='vscode-notebook-cell:/c%3A/Users/juanj/OneDrive/Documentos/3er%20cuatri/repositorio2/repositorio2/otros/p305.ipynb#W1sZmlsZQ%3D%3D?line=1'>2</a>\u001b[0m \u001b[39mfrom\u001b[39;00m \u001b[39mcollections\u001b[39;00m \u001b[39mimport\u001b[39;00m OrderedDict\n\u001b[0;32m      <a href='vscode-notebook-cell:/c%3A/Users/juanj/OneDrive/Documentos/3er%20cuatri/repositorio2/repositorio2/otros/p305.ipynb#W1sZmlsZQ%3D%3D?line=2'>3</a>\u001b[0m \u001b[39m#crear una lista con los pi de mayor a menor, \u001b[39;00m\n\u001b[0;32m      <a href='vscode-notebook-cell:/c%3A/Users/juanj/OneDrive/Documentos/3er%20cuatri/repositorio2/repositorio2/otros/p305.ipynb#W1sZmlsZQ%3D%3D?line=3'>4</a>\u001b[0m \u001b[39m#\u001b[39;00m\n",
      "\u001b[1;31mModuleNotFoundError\u001b[0m: No module named 'cvxpy'"
     ]
    }
   ],
   "source": [
    "import numpy as np; import cvxpy;\n",
    "from collections import OrderedDict\n",
    "#crear una lista con los pi de mayor a menor, \n",
    "#\n",
    "def knapsack_fract_greedy(a_weights: np.ndarray, a_values: np.ndarray, bound: int)-> np.ndarray:\n",
    "    pi_array=a_values/a_weights\n",
    "    indices_ordenados=np.argsort(pi_array)[::-1]\n",
    "    capacidad_restante=bound\n",
    "    mochila={}\n",
    "    valor_en_mochila=0.\n",
    "    for i in indices_ordenados:\n",
    "    #while carga<bound and contador<num_elementos: #esta ultima condición nos ayuda a no salirnos del index del array\n",
    "        if a_weights[i]<=capacidad_restante:#entra_entero:\n",
    "            mochila[i]=a_weights[i]\n",
    "            capacidad_restante -= a_weights[i]\n",
    "            valor_en_mochila += a_values[i]\n",
    "        elif capacidad_restante > 0.:\n",
    "            mochila[i]=capacidad_restante\n",
    "            capacidad_restante=0.\n",
    "            valor_en_mochila += a_values[i]*mochila[i]/a_weights[i]\n",
    "        else: \n",
    "            mochila[i]=0\n",
    "    \n",
    "    mochila=dict(OrderedDict(sorted(mochila.items())))\n",
    "    return valor_en_mochila,mochila\n",
    "        \n",
    "pesos=np.array([1,4,2,3])\n",
    "valores=np.array([4,4,2,2])\n",
    "print(knapsack_fract_greedy(pesos,valores,4))"
   ]
  },
  {
   "cell_type": "code",
   "execution_count": null,
   "metadata": {},
   "outputs": [
    {
     "name": "stdout",
     "output_type": "stream",
     "text": [
      "(10.0, array([ 1.,  2.,  2., -0.]))\n"
     ]
    }
   ],
   "source": [
    "import cvxpy as cp ; #import psycipopt\n",
    "def knapsack_fract_lin_prog(a_weights: np.ndarray, a_values: np.ndarray, bound: float)-> tuple[float, dict]:\n",
    "    c=a_values #supongo que x es un vector que me dirá cuánto peso cojo para llenar la muchila con el mayor valor\n",
    "    pi_array=a_values/a_weights\n",
    "    x = cp.Variable(len(a_weights))\n",
    "    l_constraint=[x<=a_weights,cp.sum(x)<=bound]\n",
    "    cost =cp.sum(pi_array @ x)    #c.T @ x\n",
    "    objetive = cp.Maximize(cost)\n",
    "    problema= cp.Problem(objetive,l_constraint)\n",
    "    problema.solve()\n",
    "    return round(problema.value,4), np.round(x.value,4)\n",
    "\n",
    "pesos=np.array([1,2,2,4])\n",
    "valores=np.array([4,4,2,2])\n",
    "print(knapsack_fract_lin_prog(pesos,valores,5))\n",
    "\n",
    "\n"
   ]
  },
  {
   "cell_type": "code",
   "execution_count": 40,
   "metadata": {},
   "outputs": [
    {
     "name": "stdout",
     "output_type": "stream",
     "text": [
      "[[ 0.  0.  0.  0. 10. 10. 10. 10. 10.]\n",
      " [ 0.  0.  0.  0. 11. 11. 11. 11. 21.]\n",
      " [ 0.  0.  0.  0. 11. 15. 15. 15. 21.]]\n",
      "[(4, 10), (4, 11), (5, 15)]\n"
     ]
    }
   ],
   "source": [
    "def knapsack_01_pd_matrix(a_weights: np.ndarray, a_values: np.ndarray, bound: int)-> np.ndarray:\n",
    "    ordenado = sorted(list(zip(a_weights,a_values)))\n",
    "    \n",
    "    matriz=np.zeros((len(ordenado),bound+1))\n",
    "    for fila in range(len(ordenado)):\n",
    "        for columna in range(bound+1):\n",
    "            if columna == 0:\n",
    "                matriz[fila, columna] = 0\n",
    "            elif fila-1>=0:           #cogemos el [0] porque las tuplas que hay en ordenado tienen como primer elemento son los pesos\n",
    "                if columna-ordenado[fila][0]>=0: #entramos aqui cuando podamos coger el elemento que este en la fila anterior,en la columna w-wi\n",
    "                    matriz[fila,columna]=max(ordenado[fila][1]+matriz[fila-1,columna-ordenado[fila][0]], matriz[fila-1,columna])           \n",
    "                else:\n",
    "                    matriz[fila,columna]=matriz[fila-1,columna]\n",
    "            elif columna>=ordenado[fila][0]:  #llegamos aquí cuando estamos en la 1a fila \n",
    "                matriz[fila,columna]=ordenado[fila][1] #si el elemento entra,entramos dentro\n",
    "                \n",
    "            else: # no entra el elemento\n",
    "                matriz[fila, columna] = 0\n",
    "                \n",
    "    return matriz\n",
    "\n",
    "\n",
    "pesos=np.array([4, 4, 5])\n",
    "valores=np.array([10, 11, 15])\n",
    "pesos2=np.array([2,3,4,5])\n",
    "valores2=np.array([3,4,5,6])\n",
    "m = knapsack_01_pd_matrix(pesos, valores, 8)\n",
    "print(m)\n",
    "print(sorted(list(zip(pesos,valores))))\n",
    "        "
   ]
  },
  {
   "cell_type": "code",
   "execution_count": 41,
   "metadata": {},
   "outputs": [
    {
     "name": "stdout",
     "output_type": "stream",
     "text": [
      "[[0. 0. 3. 3. 3. 3.]\n",
      " [0. 0. 3. 4. 4. 7.]\n",
      " [0. 0. 3. 4. 5. 7.]\n",
      " [0. 0. 3. 4. 5. 7.]]\n",
      "7.0\n",
      "7.0\n",
      "3.0\n",
      "5.0\n",
      "{4: 0, 3: 0, 2: 1, 1: 1}\n"
     ]
    }
   ],
   "source": [
    "        \n",
    "\n",
    "def knapsack_01_int_prog(a_weights: np.ndarray, a_values: np.ndarray, bound: int)-> Tuple[int, Dict]:\n",
    "    ordenado = sorted(list(zip(a_weights,a_values)))\n",
    "    matriz=knapsack_01_pd_matrix(a_weights,a_values,bound)\n",
    "    print(matriz)\n",
    "    num_cols=bound+1\n",
    "    i=len(a_weights)-1 ; j=bound ;d={}\n",
    "    last=matriz[i][j] #el valor total que nos llevamos con la solución óptima al problema de la mochila 01\n",
    "    \n",
    "    while i>=0:    \n",
    "        if i==0: #si estamos en la fila con el 1er elemento (fila 0), sabemos que su casilla superior sería cero\n",
    "            upper=0\n",
    "        else:\n",
    "            upper=matriz[i-1][j]\n",
    "        if last == upper:  #no cogemos ese elemento en la solución óptima\n",
    "                        \n",
    "            d[i+1]=0\n",
    "            i -= 1 ; last=matriz[i][j] #nos quedamos con el elemento de arriba\n",
    "        \n",
    "        else:\n",
    "            \n",
    "            d[i+1]=1\n",
    "            i -= 1 ; j -= ordenado[i][0] # w-w_i\n",
    "            last=matriz[i][j]\n",
    "        print(last)\n",
    "            \n",
    "    return d   \n",
    "\n",
    "m=knapsack_01_int_prog(pesos2,valores2,5)   \n",
    "print(m)    \n",
    "         "
   ]
  },
  {
   "cell_type": "code",
   "execution_count": 29,
   "metadata": {},
   "outputs": [
    {
     "data": {
      "text/plain": [
       "2"
      ]
     },
     "execution_count": 29,
     "metadata": {},
     "output_type": "execute_result"
    }
   ],
   "source": [
    "#db[\"ejs mongo\"].aggregate([{$group:{_id:\"$code\",count:{$count: {}}},$sort:{count:-1}}, {limit:10}]);\n",
    "#db[\"ejs mongo\"].aggregate([{$match:{code:\"ESP\"}},{$group:}])"
   ]
  },
  {
   "cell_type": "code",
   "execution_count": 13,
   "metadata": {},
   "outputs": [
    {
     "name": "stdout",
     "output_type": "stream",
     "text": [
      "[(2, 2), (2, 8), (4, 2), (7, 4)]\n",
      "[0]\n"
     ]
    }
   ],
   "source": [
    "pesos=np.array([7,2,2,4])\n",
    "valores=np.array([4,8,2,2])\n",
    "lista_de_tuplas=sorted(list(zip(pesos,valores)))\n",
    "indices_ordenados=np.argsort(np.array(zip(pesos,valores)))[::-1]\n",
    "\n",
    "print(lista_de_tuplas)\n",
    "print(indices_ordenados)"
   ]
  },
  {
   "cell_type": "code",
   "execution_count": 10,
   "metadata": {},
   "outputs": [
    {
     "name": "stdout",
     "output_type": "stream",
     "text": [
      "3\n",
      "2\n",
      "1\n"
     ]
    }
   ],
   "source": [
    "for i in range(3,0,-1):\n",
    "    print(i)"
   ]
  }
 ],
 "metadata": {
  "kernelspec": {
   "display_name": "Python 3",
   "language": "python",
   "name": "python3"
  },
  "language_info": {
   "codemirror_mode": {
    "name": "ipython",
    "version": 3
   },
   "file_extension": ".py",
   "mimetype": "text/x-python",
   "name": "python",
   "nbconvert_exporter": "python",
   "pygments_lexer": "ipython3",
   "version": "3.10.11"
  }
 },
 "nbformat": 4,
 "nbformat_minor": 2
}
