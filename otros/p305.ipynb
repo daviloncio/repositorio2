{
 "cells": [
  {
   "cell_type": "code",
   "execution_count": null,
   "metadata": {},
   "outputs": [],
   "source": [
    "from typing import Tuple,Dict,List"
   ]
  },
  {
   "cell_type": "code",
   "execution_count": 2,
   "metadata": {},
   "outputs": [
    {
     "name": "stdout",
     "output_type": "stream",
     "text": [
      "(7.0, {0: 1, 1: 1, 2: 2, 3: 0})\n"
     ]
    }
   ],
   "source": [
    "import numpy as np; import cvxpy;\n",
    "from collections import OrderedDict\n",
    "#crear una lista con los pi de mayor a menor, \n",
    "#\n",
    "def knapsack_fract_greedy(a_weights: np.ndarray, a_values: np.ndarray, bound: int)-> np.ndarray:\n",
    "    pi_array=a_values/a_weights\n",
    "    indices_ordenados=np.argsort(pi_array)[::-1]\n",
    "    capacidad_restante=bound\n",
    "    mochila={}\n",
    "    valor_en_mochila=0.\n",
    "    for i in indices_ordenados:\n",
    "    #while carga<bound and contador<num_elementos: #esta ultima condición nos ayuda a no salirnos del index del array\n",
    "        if a_weights[i]<=capacidad_restante:#entra_entero:\n",
    "            mochila[i]=a_weights[i]\n",
    "            capacidad_restante -= a_weights[i]\n",
    "            valor_en_mochila += a_values[i]\n",
    "        elif capacidad_restante > 0.:\n",
    "            mochila[i]=capacidad_restante\n",
    "            capacidad_restante=0.\n",
    "            valor_en_mochila += a_values[i]*mochila[i]/a_weights[i]\n",
    "        else: \n",
    "            mochila[i]=0\n",
    "    \n",
    "    mochila=dict(OrderedDict(sorted(mochila.items())))\n",
    "    return valor_en_mochila,mochila\n",
    "        \n",
    "pesos=np.array([1,4,2,3])\n",
    "valores=np.array([4,4,2,2])\n",
    "print(knapsack_fract_greedy(pesos,valores,4))"
   ]
  },
  {
   "cell_type": "code",
   "execution_count": 12,
   "metadata": {},
   "outputs": [
    {
     "name": "stdout",
     "output_type": "stream",
     "text": [
      "(10.0, array([ 1.,  2.,  2., -0.]))\n"
     ]
    }
   ],
   "source": [
    "import cvxpy as cp ; #import psycipopt\n",
    "def knapsack_fract_lin_prog(a_weights: np.ndarray, a_values: np.ndarray, bound: float)-> tuple[float, dict]:\n",
    "    c=a_values #supongo que x es un vector que me dirá cuánto peso cojo para llenar la muchila con el mayor valor\n",
    "    pi_array=a_values/a_weights\n",
    "    x = cp.Variable(len(a_weights))\n",
    "    l_constraint=[x<=a_weights,cp.sum(x)<=bound]\n",
    "    cost =cp.sum(pi_array @ x)    #c.T @ x\n",
    "    objetive = cp.Maximize(cost)\n",
    "    problema= cp.Problem(objetive,l_constraint)\n",
    "    problema.solve()\n",
    "    return round(problema.value,4), np.round(x.value,4)\n",
    "\n",
    "pesos=np.array([1,2,2,4])\n",
    "valores=np.array([4,4,2,2])\n",
    "print(knapsack_fract_lin_prog(pesos,valores,5))\n",
    "\n",
    "\n"
   ]
  },
  {
   "cell_type": "code",
   "execution_count": 32,
   "metadata": {},
   "outputs": [
    {
     "name": "stdout",
     "output_type": "stream",
     "text": [
      "[[ 0.  0.  0.  0. 10. 10. 10. 10. 10.]\n",
      " [ 0.  0.  0.  0. 11. 11. 11. 11. 21.]\n",
      " [ 0.  0.  0.  0. 11. 15. 15. 15. 21.]]\n"
     ]
    }
   ],
   "source": [
    "def knapsack_01_pd_matrix(a_weights: np.ndarray, a_values: np.ndarray, bound: int)-> np.ndarray:\n",
    "    ordenado = sorted(list(zip(a_weights,a_values)))\n",
    "    \n",
    "    matriz=np.zeros((len(ordenado),bound+1))\n",
    "    for fila in range(len(ordenado)):\n",
    "        for columna in range(bound+1):\n",
    "            if columna == 0:\n",
    "                matriz[fila, columna] = 0\n",
    "            elif fila-1>=0:           #cogemos el [0] porque las tuplas que hay en ordenado tienen como primer elemento son los pesos\n",
    "                if columna-ordenado[fila][0]>=0: #entramos aqui cuando podamos coger el elemento que este en la fila anterior,en la columna w-wi\n",
    "                    matriz[fila,columna]=max(ordenado[fila][1]+matriz[fila-1,columna-ordenado[fila][0]], matriz[fila-1,columna])           \n",
    "                else:\n",
    "                    matriz[fila,columna]=matriz[fila-1,columna]\n",
    "            elif columna>=ordenado[fila][0]:  #llegamos aquí cuando estamos en la 1a fila \n",
    "                matriz[fila,columna]=ordenado[fila][1] #si el elemento entra,entramos dentro\n",
    "                \n",
    "            else: # no entra el elemento\n",
    "                matriz[fila, columna] = 0\n",
    "                \n",
    "    return matriz\n",
    "\n",
    "\n",
    "pesos=np.array([4, 4, 5])\n",
    "valores=np.array([10, 11, 15])\n",
    "m = knapsack_01_pd_matrix(pesos, valores, 8)\n",
    "print(m)\n",
    "        \n",
    "        "
   ]
  },
  {
   "cell_type": "code",
   "execution_count": null,
   "metadata": {},
   "outputs": [],
   "source": [
    "def knapsack_01_int_prog(a_weights: np.ndarray, a_values: np.ndarray, bound: int)-> Tuple[int, Dict]:\n",
    "    "
   ]
  },
  {
   "cell_type": "code",
   "execution_count": 29,
   "metadata": {},
   "outputs": [
    {
     "data": {
      "text/plain": [
       "2"
      ]
     },
     "execution_count": 29,
     "metadata": {},
     "output_type": "execute_result"
    }
   ],
   "source": [
    "#db[\"ejs mongo\"].aggregate([{$group:{_id:\"$code\",count:{$count: {}}},$sort:{count:-1}}, {limit:10}]);\n",
    "#db[\"ejs mongo\"].aggregate([{$match:{code:\"ESP\"}},{$group:}])"
   ]
  },
  {
   "cell_type": "code",
   "execution_count": 24,
   "metadata": {},
   "outputs": [
    {
     "name": "stdout",
     "output_type": "stream",
     "text": [
      "2\n"
     ]
    }
   ],
   "source": [
    "pesos=np.array([7,2,2,4])\n",
    "valores=np.array([4,8,2,2])\n",
    "lista_de_tuplas=sorted(list(zip(pesos,valores)))\n",
    "\n",
    "print(lista_de_tuplas[1][0])"
   ]
  },
  {
   "cell_type": "code",
   "execution_count": null,
   "metadata": {},
   "outputs": [],
   "source": []
  }
 ],
 "metadata": {
  "kernelspec": {
   "display_name": "Python 3",
   "language": "python",
   "name": "python3"
  },
  "language_info": {
   "codemirror_mode": {
    "name": "ipython",
    "version": 3
   },
   "file_extension": ".py",
   "mimetype": "text/x-python",
   "name": "python",
   "nbconvert_exporter": "python",
   "pygments_lexer": "ipython3",
   "version": "3.10.11"
  }
 },
 "nbformat": 4,
 "nbformat_minor": 2
}
