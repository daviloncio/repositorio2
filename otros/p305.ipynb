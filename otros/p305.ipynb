{
 "cells": [
  {
   "cell_type": "code",
   "execution_count": 379,
   "metadata": {},
   "outputs": [],
   "source": [
    "from typing import Tuple,Dict,List"
   ]
  },
  {
   "cell_type": "code",
   "execution_count": 380,
   "metadata": {},
   "outputs": [
    {
     "name": "stdout",
     "output_type": "stream",
     "text": [
      "(10.666666666666666, {0: 1, 1: 1, 2: 4, 3: 2})\n"
     ]
    }
   ],
   "source": [
    "import numpy as np; import cvxpy;\n",
    "from collections import OrderedDict\n",
    "#crear una lista con los pi de mayor a menor, \n",
    "#\n",
    "def knapsack_fract_greedy(a_weights: np.ndarray, a_values: np.ndarray, bound: int)-> np.ndarray:\n",
    "    pi_array=a_values/a_weights\n",
    "    indices_ordenados=np.argsort(pi_array)[::-1]\n",
    "    capacidad_restante=bound\n",
    "    mochila={}\n",
    "    valor_en_mochila=0.\n",
    "    for i in indices_ordenados:\n",
    "    #while carga<bound and contador<num_elementos: #esta ultima condición nos ayuda a no salirnos del index del array\n",
    "        if a_weights[i]<=capacidad_restante:#entra_entero:\n",
    "            mochila[i]=a_weights[i]\n",
    "            capacidad_restante -= a_weights[i]\n",
    "            valor_en_mochila += a_values[i]\n",
    "        elif capacidad_restante > 0.:\n",
    "            mochila[i]=capacidad_restante\n",
    "            capacidad_restante=0.\n",
    "            valor_en_mochila += a_values[i]*mochila[i]/a_weights[i]\n",
    "        else: \n",
    "            mochila[i]=0\n",
    "    \n",
    "    mochila=dict(OrderedDict(sorted(mochila.items())))\n",
    "    return valor_en_mochila,mochila\n",
    "        \n",
    "pesos=np.array([3,1,4,2])\n",
    "valores=np.array([2,4,4,2])\n",
    "print(knapsack_fract_greedy(pesos,valores,8))"
   ]
  },
  {
   "cell_type": "code",
   "execution_count": 381,
   "metadata": {},
   "outputs": [
    {
     "name": "stdout",
     "output_type": "stream",
     "text": [
      "(10.0, array([ 1.,  2.,  2., -0.]))\n"
     ]
    },
    {
     "name": "stderr",
     "output_type": "stream",
     "text": [
      "C:\\Users\\juanj\\AppData\\Local\\Packages\\PythonSoftwareFoundation.Python.3.10_qbz5n2kfra8p0\\LocalCache\\local-packages\\Python310\\site-packages\\cvxpy\\reductions\\solvers\\solving_chain.py:336: FutureWarning: \n",
      "    Your problem is being solved with the ECOS solver by default. Starting in \n",
      "    CVXPY 1.5.0, Clarabel will be used as the default solver instead. To continue \n",
      "    using ECOS, specify the ECOS solver explicitly using the ``solver=cp.ECOS`` \n",
      "    argument to the ``problem.solve`` method.\n",
      "    \n",
      "  warnings.warn(ECOS_DEPRECATION_MSG, FutureWarning)\n"
     ]
    }
   ],
   "source": [
    "import cvxpy as cp ; #import psycipopt\n",
    "def knapsack_fract_lin_prog(a_weights: np.ndarray, a_values: np.ndarray, bound: float)-> tuple[float, dict]:\n",
    "    c=a_values #supongo que x es un vector que me dirá cuánto peso cojo para llenar la muchila con el mayor valor\n",
    "    pi_array=a_values/a_weights\n",
    "    x = cp.Variable(len(a_weights))\n",
    "    l_constraint=[x<=a_weights,cp.sum(x)<=bound]\n",
    "    cost =cp.sum(pi_array @ x)    #c.T @ x\n",
    "    objetive = cp.Maximize(cost)\n",
    "    problema= cp.Problem(objetive,l_constraint)\n",
    "    problema.solve()\n",
    "    return round(problema.value,4), np.round(x.value,4)\n",
    "\n",
    "pesos=np.array([1,2,2,4])\n",
    "valores=np.array([4,4,2,2])\n",
    "print(knapsack_fract_lin_prog(pesos,valores,5))\n",
    "\n",
    "\n"
   ]
  },
  {
   "cell_type": "code",
   "execution_count": 382,
   "metadata": {},
   "outputs": [
    {
     "name": "stdout",
     "output_type": "stream",
     "text": [
      "[[ 0.  0.  0.  0. 10. 10. 10. 10. 10.]\n",
      " [ 0.  0.  0.  0. 11. 11. 11. 11. 21.]\n",
      " [ 0.  0.  0.  0. 11. 15. 15. 15. 21.]]\n",
      "[(4, 10), (4, 11), (5, 15)]\n"
     ]
    }
   ],
   "source": [
    "def knapsack_01_pd_matrix(a_weights: np.ndarray, a_values: np.ndarray, bound: int)-> np.ndarray:\n",
    "    ordenado = sorted(list(zip(a_weights,a_values)))\n",
    "    \n",
    "    matriz=np.zeros((len(ordenado),bound+1))\n",
    "    for fila in range(len(ordenado)):\n",
    "        for columna in range(bound+1):\n",
    "            if columna == 0:\n",
    "                matriz[fila, columna] = 0\n",
    "            elif fila-1>=0:           #cogemos el [0] porque las tuplas que hay en ordenado tienen como primer elemento son los pesos\n",
    "                if columna-ordenado[fila][0]>=0: #entramos aqui cuando podamos coger el elemento que este en la fila anterior,en la columna w-wi\n",
    "                    matriz[fila,columna]=max(ordenado[fila][1]+matriz[fila-1,columna-ordenado[fila][0]], matriz[fila-1,columna])           \n",
    "                else:\n",
    "                    matriz[fila,columna]=matriz[fila-1,columna]\n",
    "            elif columna>=ordenado[fila][0]:  #llegamos aquí cuando estamos en la 1a fila \n",
    "                matriz[fila,columna]=ordenado[fila][1] #si el elemento entra,entramos dentro\n",
    "                \n",
    "            else: # no entra el elemento\n",
    "                matriz[fila, columna] = 0\n",
    "                \n",
    "    return matriz\n",
    "\n",
    "\n",
    "pesos=np.array([4, 4, 5])\n",
    "valores=np.array([10, 11, 15])\n",
    "pesos2=np.array([4,2,3,5])\n",
    "valores2=np.array([5,3,4,6])\n",
    "m = knapsack_01_pd_matrix(pesos, valores, 8)\n",
    "print(m)\n",
    "print(sorted(list(zip(pesos,valores))))\n",
    "        "
   ]
  },
  {
   "cell_type": "code",
   "execution_count": 383,
   "metadata": {},
   "outputs": [
    {
     "name": "stdout",
     "output_type": "stream",
     "text": [
      "(7.0, {1: 0, 2: 1, 3: 1, 4: 0})\n"
     ]
    }
   ],
   "source": [
    "pesos=np.array([ 4,5,4])\n",
    "valores=np.array([11,15,10])   \n",
    "def knapsack_01_pd(a_weights: np.ndarray, a_values: np.ndarray, bound: int)-> Tuple[int, Dict]:\n",
    "    tuplas_originales=list(zip(a_weights,a_values)) #con las posiciones originales de la información recibida\n",
    "    ordenado = sorted(tuplas_originales)\n",
    "    matriz=knapsack_01_pd_matrix(a_weights,a_values,bound)\n",
    "    \n",
    "    num_cols=bound+1\n",
    "    i=len(a_weights)-1 ; j=bound ;d={}\n",
    "    last=matriz[i][j] #el valor total que nos llevamos con la solución óptima al problema de la mochila 01\n",
    "    \n",
    "    while i>=0:    \n",
    "        if i==0: #si estamos en la fila con el 1er elemento (fila 0), sabemos que su casilla superior sería cero\n",
    "            upper=0\n",
    "        else:\n",
    "            upper=matriz[i-1][j]\n",
    "        if last == upper:  #no cogemos ese elemento en la solución óptima\n",
    "            \n",
    "            #i-posción del elemento en la tabla original, que puede estar ordenada o no   \n",
    "            i_pos=tuplas_originales.index(ordenado[i])+1\n",
    "            d[i_pos]=0\n",
    "            i -= 1 ; last=matriz[i][j] #nos quedamos con el elemento de arriba\n",
    "        \n",
    "        else:\n",
    "            \n",
    "            i_pos=tuplas_originales.index(ordenado[i])+1\n",
    "            d[i_pos]=1\n",
    "            i -= 1 ; j -= ordenado[i][0] # w-w_i\n",
    "            last=matriz[i][j]\n",
    "        \n",
    "            \n",
    "    return matriz[-1][-1],dict(sorted(d.items())) #para enseñar el output con los elementos en el orden que se nos han introducido\n",
    "\n",
    "m=knapsack_01_pd(pesos2,valores2,5)   \n",
    "print(m)    \n",
    "         "
   ]
  },
  {
   "cell_type": "code",
   "execution_count": 384,
   "metadata": {},
   "outputs": [
    {
     "data": {
      "text/plain": [
       "(21.0, array([1., 0., 1.]))"
      ]
     },
     "execution_count": 384,
     "metadata": {},
     "output_type": "execute_result"
    }
   ],
   "source": [
    "pesos=np.array([ 4,5,4])\n",
    "valores=np.array([11,15,10])\n",
    "\n",
    "def knapsack_01_int_prog(a_weights: np.ndarray, a_values: np.ndarray, bound: int)-> Tuple[int, Dict]:\n",
    "    \n",
    "    x = cp.Variable(len(a_weights), boolean=True)\n",
    "    m_valor= x.T @ a_values #a maximizar\n",
    "    cost = cp.sum(m_valor)\n",
    "    m_peso= x.T @ a_weights \n",
    "    l_constraint = [cp.sum(m_peso) <= bound]\n",
    "    objetive = cp.Maximize(cost)\n",
    "    problema= cp.Problem(objetive,l_constraint)\n",
    "    valor_opt=problema.solve()\n",
    "    \n",
    "    return valor_opt, x.value \n",
    "#en comparación con la anterior,en esta función tenemos la ventaja de que no es necesario ordenar los elementos 1ª por su peso y luego por el valor.\n",
    "\n",
    "knapsack_01_int_prog(pesos,valores,8)   \n",
    " \n",
    "    \n",
    "    "
   ]
  },
  {
   "cell_type": "code",
   "execution_count": 385,
   "metadata": {},
   "outputs": [],
   "source": [
    "#db[\"ejs mongo\"].aggregate([{$group:{_id:\"$code\",count:{$count: {}}},$sort:{count:-1}}, {limit:10}]);\n",
    "#db[\"ejs mongo\"].aggregate([{$match:{code:\"ESP\"}},{$group:}])"
   ]
  },
  {
   "cell_type": "code",
   "execution_count": 403,
   "metadata": {},
   "outputs": [
    {
     "name": "stdout",
     "output_type": "stream",
     "text": [
      "[19, 31, 55, 76]\n"
     ]
    },
    {
     "data": {
      "image/png": "[encoded data removed]",
      "text/plain": [
       "<Figure size 640x480 with 1 Axes>"
      ]
     },
     "metadata": {},
     "output_type": "display_data"
    }
   ],
   "source": [
    "from matplotlib import pyplot as plt ; import time ; import random\n",
    "\n",
    "bounds = sorted(np.random.randint(10,100,size=4))\n",
    "print(bounds)\n",
    "first_dim=2\n",
    "last_dim=100\n",
    "\n",
    "a_weights=np.random.randint(1,first_dim+1,size=first_dim)\n",
    "a_values=np.random.randint(1,first_dim+1,size=first_dim)\n",
    "a_weights=a_weights.tolist() ; a_values=a_values.tolist()\n",
    "\n",
    "for bound in bounds:\n",
    "    ejex=[]\n",
    "    l_timings=[]\n",
    "    for dim in range(first_dim,last_dim):\n",
    "        \n",
    "        if dim==first_dim: continue\n",
    "        ejex.append(dim)\n",
    "        a=np.random.randint(1,dim+1)\n",
    "        b=np.random.randint(1,dim+1)\n",
    "        a_values.append(a) ; a_weights.append(b)\n",
    "        \n",
    "\n",
    "\n",
    "        #a_values=np.random.randint(1,dim+1,size=dim)\n",
    "        \n",
    "        try:\n",
    "            timings = %timeit -o -n 10 -r 5 -q knapsack_fract_greedy(np.array(a_weights),np.array(a_values),bound)\n",
    "            \n",
    "        except:\n",
    "            print(a_weights,a_values,bound)\n",
    "            \n",
    "            raise Exception\n",
    "       \n",
    "        l_timings.append(timings.best)\n",
    "    plt.plot(ejex,l_timings,'.',label=str(bound))\n",
    "    plt.legend()\n",
    "\n",
    "\n",
    "\n",
    "    "
   ]
  },
  {
   "cell_type": "code",
   "execution_count": 406,
   "metadata": {},
   "outputs": [
    {
     "name": "stdout",
     "output_type": "stream",
     "text": [
      "[1, 12, 16, 19]\n"
     ]
    },
    {
     "data": {
      "image/png": "[encoded data removed]",
      "text/plain": [
       "<Figure size 640x480 with 1 Axes>"
      ]
     },
     "metadata": {},
     "output_type": "display_data"
    }
   ],
   "source": [
    "from matplotlib import pyplot as plt ; import time ; import random\n",
    "\n",
    "bounds = sorted(np.random.randint(1,30,size=4))\n",
    "print(bounds)\n",
    "first_dim=2\n",
    "last_dim=100\n",
    "\n",
    "a_weights=np.random.randint(1,first_dim+1,size=first_dim)\n",
    "a_values=np.random.randint(1,first_dim+1,size=first_dim)\n",
    "a_weights=a_weights.tolist() ; a_values=a_values.tolist()\n",
    "\n",
    "for bound in bounds:\n",
    "    ejex=[]\n",
    "    l_timings=[]\n",
    "    for dim in range(first_dim,last_dim):\n",
    "        \n",
    "        if dim==first_dim: continue\n",
    "        ejex.append(dim)\n",
    "        a=np.random.randint(1,dim+1)\n",
    "        b=np.random.randint(1,dim+1)\n",
    "        a_values.append(a) ; a_weights.append(b)\n",
    "        \n",
    "\n",
    "\n",
    "        #a_values=np.random.randint(1,dim+1,size=dim)\n",
    "        \n",
    "        try:\n",
    "            timings = %timeit -o -n 10 -r 5 -q knapsack_01_pd(np.array(a_weights),np.array(a_values),bound)\n",
    "            \n",
    "        except:\n",
    "            print(a_weights,a_values,bound)\n",
    "            \n",
    "            raise Exception\n",
    "       \n",
    "        l_timings.append(timings.best)\n",
    "    plt.plot(ejex,l_timings,'.',label=str(bound))\n",
    "    plt.legend()\n",
    "\n",
    "\n",
    "\n",
    "\n",
    "    "
   ]
  }
 ],
 "metadata": {
  "kernelspec": {
   "display_name": "Python 3",
   "language": "python",
   "name": "python3"
  },
  "language_info": {
   "codemirror_mode": {
    "name": "ipython",
    "version": 3
   },
   "file_extension": ".py",
   "mimetype": "text/x-python",
   "name": "python",
   "nbconvert_exporter": "python",
   "pygments_lexer": "ipython3",
   "version": "3.10.11"
  }
 },
 "nbformat": 4,
 "nbformat_minor": 2
}
