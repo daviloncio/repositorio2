{
 "cells": [
  {
   "cell_type": "code",
   "execution_count": 2,
   "metadata": {},
   "outputs": [
    {
     "name": "stdout",
     "output_type": "stream",
     "text": [
      "(21, {2: 4, 1: 4})\n"
     ]
    }
   ],
   "source": [
    "import numpy as np; import cvxpy;\n",
    "#crear una lista con los pi de mayor a menor, \n",
    "#\n",
    "def knapsack_01_pd_matrix(a_weights: np.ndarray, a_values: np.ndarray, bound: int)-> np.ndarray:\n",
    "    pi_array=a_values/a_values\n",
    "    indices_ordenados=np.argsort(pi_array)[::-1]\n",
    "    \n",
    "    contador=0\n",
    "    carga=0\n",
    "    capacidad_restante=bound\n",
    "    num_elementos=len(indices_ordenados)\n",
    "    mochila={}\n",
    "    valor_en_mochila=0\n",
    "    while carga<bound and contador<num_elementos: #esta ultima condición nos ayuda a no salirnos del index del array\n",
    "        indice_cogemos = indices_ordenados[contador]\n",
    "        peso_metemos = a_weights[indice_cogemos]\n",
    "        if capacidad_restante < peso_metemos:\n",
    "            mochila[indice_cogemos] = capacidad_restante\n",
    "            valor_en_mochila += (a_values[indice_cogemos]/peso_metemos)*capacidad_restante\n",
    "        else:\n",
    "            mochila[indice_cogemos] = peso_metemos\n",
    "            valor_en_mochila += a_values[indice_cogemos]\n",
    "        capacidad_restante -= peso_metemos\n",
    "        carga += peso_metemos\n",
    "        contador +=1\n",
    "    return valor_en_mochila,mochila\n",
    "        \n",
    "pesos=np.array([5,4,4])\n",
    "valores=np.array([15,11,10])\n",
    "print(knapsack_01_pd_matrix(pesos,valores,8))"
   ]
  }
 ],
 "metadata": {
  "kernelspec": {
   "display_name": "Python 3",
   "language": "python",
   "name": "python3"
  },
  "language_info": {
   "codemirror_mode": {
    "name": "ipython",
    "version": 3
   },
   "file_extension": ".py",
   "mimetype": "text/x-python",
   "name": "python",
   "nbconvert_exporter": "python",
   "pygments_lexer": "ipython3",
   "version": "3.10.11"
  }
 },
 "nbformat": 4,
 "nbformat_minor": 2
}
