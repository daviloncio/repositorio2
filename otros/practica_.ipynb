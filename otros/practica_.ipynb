{
 "cells": [
  {
   "cell_type": "code",
   "execution_count": 64,
   "metadata": {},
   "outputs": [
    {
     "name": "stdout",
     "output_type": "stream",
     "text": [
      "(array([0.25691065, 0.05939363]), [array([0.0513, 0.0347]), array([0.04535525, 0.00393599]), array([0.26508659, 0.04796882]), array([0.25448414, 0.06030156]), array([0.25773829, 0.05880904]), array([0.2566045 , 0.05957018]), array([0.2570217 , 0.05932445]), array([0.25687002, 0.05941825]), array([0.25692548, 0.05938456]), array([0.25690524, 0.05939693]), array([0.25691263, 0.05939242]), array([0.25690993, 0.05939407]), array([0.25691091, 0.05939347]), array([0.25691055, 0.05939369]), array([0.25691068, 0.05939361]), array([0.25691064, 0.05939364]), array([0.25691065, 0.05939363]), array([0.25691065, 0.05939363]), array([0.25691065, 0.05939363]), array([0.25691065, 0.05939363]), array([0.25691065, 0.05939363]), array([0.25691065, 0.05939363]), array([0.25691065, 0.05939363]), array([0.25691065, 0.05939363]), array([0.25691065, 0.05939363]), array([0.25691065, 0.05939363]), array([0.25691065, 0.05939363]), array([0.25691065, 0.05939363]), array([0.25691065, 0.05939363]), array([0.25691065, 0.05939363]), array([0.25691065, 0.05939363]), array([0.25691065, 0.05939363]), array([0.25691065, 0.05939363]), array([0.25691065, 0.05939363]), array([0.25691065, 0.05939363]), array([0.25691065, 0.05939363]), array([0.25691065, 0.05939363]), array([0.25691065, 0.05939363]), array([0.25691065, 0.05939363]), array([0.25691065, 0.05939363]), array([0.25691065, 0.05939363]), array([0.25691065, 0.05939363]), array([0.25691065, 0.05939363]), array([0.25691065, 0.05939363]), array([0.25691065, 0.05939363]), array([0.25691065, 0.05939363]), array([0.25691065, 0.05939363]), array([0.25691065, 0.05939363]), array([0.25691065, 0.05939363]), array([0.25691065, 0.05939363]), array([0.25691065, 0.05939363]), array([0.25691065, 0.05939363]), array([0.25691065, 0.05939363]), array([0.25691065, 0.05939363]), array([0.25691065, 0.05939363]), array([0.25691065, 0.05939363]), array([0.25691065, 0.05939363]), array([0.25691065, 0.05939363]), array([0.25691065, 0.05939363]), array([0.25691065, 0.05939363]), array([0.25691065, 0.05939363]), array([0.25691065, 0.05939363]), array([0.25691065, 0.05939363]), array([0.25691065, 0.05939363]), array([0.25691065, 0.05939363]), array([0.25691065, 0.05939363]), array([0.25691065, 0.05939363]), array([0.25691065, 0.05939363]), array([0.25691065, 0.05939363]), array([0.25691065, 0.05939363]), array([0.25691065, 0.05939363]), array([0.25691065, 0.05939363]), array([0.25691065, 0.05939363]), array([0.25691065, 0.05939363]), array([0.25691065, 0.05939363]), array([0.25691065, 0.05939363]), array([0.25691065, 0.05939363]), array([0.25691065, 0.05939363]), array([0.25691065, 0.05939363]), array([0.25691065, 0.05939363]), array([0.25691065, 0.05939363]), array([0.25691065, 0.05939363]), array([0.25691065, 0.05939363]), array([0.25691065, 0.05939363]), array([0.25691065, 0.05939363]), array([0.25691065, 0.05939363]), array([0.25691065, 0.05939363]), array([0.25691065, 0.05939363]), array([0.25691065, 0.05939363]), array([0.25691065, 0.05939363]), array([0.25691065, 0.05939363]), array([0.25691065, 0.05939363]), array([0.25691065, 0.05939363]), array([0.25691065, 0.05939363]), array([0.25691065, 0.05939363]), array([0.25691065, 0.05939363]), array([0.25691065, 0.05939363]), array([0.25691065, 0.05939363]), array([0.25691065, 0.05939363]), array([0.25691065, 0.05939363]), array([0.25691065, 0.05939363]), array([0.25691065, 0.05939363])], 101)\n"
     ]
    }
   ],
   "source": [
    "import numpy as np\n",
    "from autograd import jacobian  #jf= jacobian(f)  \n",
    "from typing import Tuple, List, Callable\n",
    "\n",
    "import numpy as np\n",
    "from scipy.optimize import minimize_scalar\n",
    "from scipy.linalg import inv\n",
    "\n",
    "def f_ellipse(x: np.ndarray)-> float:\n",
    "    return x[0]**2+12*x[1]**2\n",
    " \n",
    "\n",
    "\n",
    "def g_ellipse(x: np.ndarray)-> np.ndarray:\n",
    "    return np.array((2*x[0],24*x[1]))  #mínimo en x,y = 0,0\n",
    "\n",
    "def f_rosen(x: np.ndarray)-> float:\n",
    "    return (1-x[0])**2+100*(x[1]-x[0]**2)**2\n",
    "\n",
    "\n",
    "def g_rosen(x: np.ndarray)-> np.ndarray:\n",
    "    return np.array((2*(1-x[0])+200*(x[1]-x[0]**2)*(-2*x[0]),200*(x[1]-x[0]**2)))\n",
    "\n",
    "\n",
    "def grad_desc(x: np.array, f: callable, gf: callable, lr_ini=0.01, lr_decr=0.999, maxiter=100, tol=0.001)-> Tuple[np.ndarray, List[np.ndarray], int]:\n",
    "    n_iter = 0\n",
    "    evolucion_x=[x]\n",
    "    while np.linalg.norm(gf(x)) > tol and n_iter <= maxiter:\n",
    "        x = x - lr_ini*gf(x)\n",
    "        evolucion_x.append(x)   \n",
    "        lr_ini *= lr_decr\n",
    "        n_iter += 1\n",
    "    print(x)\n",
    "    print(np.array(x, f(x)))\n",
    "    return (np.array(x, f(x)), evolucion_x, n_iter)\n",
    "    # en el array de la linea de arriba no se imprime f(x), aunque el ennunciado tampoco lo pide\n",
    "a=np.array([0.0513,0.0347]) \n",
    "b = np.ndarray([1,0])\n",
    "        \n",
    "\n",
    "#(array([7.36614028e-03, 1.46580770e-13])\n",
    "\n",
    "def f_md(f: Callable, x: np.array, gx: np.array)-> Callable:\n",
    "    # gx gradiente de f en x.\n",
    "    def f_1d(t: float)-> float:\n",
    "        return f(x - t*gx)\n",
    "    return f_1d\n",
    "\n",
    "\n",
    "def grad_desc_ls(x: np.array, f: Callable, gf: Callable, maxiter=100, tol=0.001, method ='brent')-> Tuple[np.ndarray, List [np.array], int]:\n",
    "    n_iter = 0\n",
    "    evolucion_x=[x]\n",
    "    opt = {'maxiter': maxiter}\n",
    "    while np.linalg.norm(gf(x)) > tol and n_iter <= maxiter:\n",
    "        mu = minimize_scalar(f_md(f, x, gf(x)),method=method, tol=0.001, options = opt)['x']\n",
    "        #minimize scalar saca el valor de t para que tk = arg min {f(xk − t∇f(xk)}, concepto clava para la busqueda en linea\n",
    "        #print(mu['x'])\n",
    "        x = x - mu*gf(x)\n",
    "        evolucion_x.append(x)\n",
    "        n_iter += 1\n",
    "    \n",
    "    return (np.array(x, f(x)), evolucion_x, n_iter)\n",
    "\n",
    "#print(grad_desc_ls(b,f_rosen,g_rosen))\n",
    "\n",
    "print(grad_desc_ls(a,f_rosen,g_rosen))  #tanto grad_desc como grad_desc_ls se aproximan a 0,0 para la elipse, pero grad_desc hace 101 iteraciones y el otro 7\n",
    "\n"
   ]
  },
  {
   "cell_type": "code",
   "execution_count": 65,
   "metadata": {},
   "outputs": [
    {
     "ename": "LinAlgError",
     "evalue": "Singular matrix",
     "output_type": "error",
     "traceback": [
      "\u001b[1;31m---------------------------------------------------------------------------\u001b[0m",
      "\u001b[1;31mLinAlgError\u001b[0m                               Traceback (most recent call last)",
      "\u001b[1;32mc:\\Users\\juanj\\OneDrive\\Documentos\\3er cuatri\\repositorio2\\repositorio2\\practica_.ipynb Celda 2\u001b[0m line \u001b[0;36m2\n\u001b[0;32m     <a href='vscode-notebook-cell:/c%3A/Users/juanj/OneDrive/Documentos/3er%20cuatri/repositorio2/repositorio2/practica_.ipynb#W3sZmlsZQ%3D%3D?line=19'>20</a>\u001b[0m         n_iter \u001b[39m+\u001b[39m\u001b[39m=\u001b[39m \u001b[39m1\u001b[39m\n\u001b[0;32m     <a href='vscode-notebook-cell:/c%3A/Users/juanj/OneDrive/Documentos/3er%20cuatri/repositorio2/repositorio2/practica_.ipynb#W3sZmlsZQ%3D%3D?line=21'>22</a>\u001b[0m     \u001b[39mreturn\u001b[39;00m (x, evolucion_x, n_iter) \u001b[39m#pide explicitamente que devolvamos f(x) ???\u001b[39;00m\n\u001b[1;32m---> <a href='vscode-notebook-cell:/c%3A/Users/juanj/OneDrive/Documentos/3er%20cuatri/repositorio2/repositorio2/practica_.ipynb#W3sZmlsZQ%3D%3D?line=25'>26</a>\u001b[0m newton(a,f_rosen,g_rosen,h_rosen)\n",
      "\u001b[1;32mc:\\Users\\juanj\\OneDrive\\Documentos\\3er cuatri\\repositorio2\\repositorio2\\practica_.ipynb Celda 2\u001b[0m line \u001b[0;36m1\n\u001b[0;32m     <a href='vscode-notebook-cell:/c%3A/Users/juanj/OneDrive/Documentos/3er%20cuatri/repositorio2/repositorio2/practica_.ipynb#W3sZmlsZQ%3D%3D?line=12'>13</a>\u001b[0m \u001b[39mwhile\u001b[39;00m np\u001b[39m.\u001b[39mlinalg\u001b[39m.\u001b[39mnorm(gf(x)) \u001b[39m>\u001b[39m tol \u001b[39mand\u001b[39;00m n_iter \u001b[39m<\u001b[39m\u001b[39m=\u001b[39m maxiter:\n\u001b[0;32m     <a href='vscode-notebook-cell:/c%3A/Users/juanj/OneDrive/Documentos/3er%20cuatri/repositorio2/repositorio2/practica_.ipynb#W3sZmlsZQ%3D%3D?line=13'>14</a>\u001b[0m     m_hessiana\u001b[39m=\u001b[39m hf(x)\n\u001b[1;32m---> <a href='vscode-notebook-cell:/c%3A/Users/juanj/OneDrive/Documentos/3er%20cuatri/repositorio2/repositorio2/practica_.ipynb#W3sZmlsZQ%3D%3D?line=14'>15</a>\u001b[0m     inv_hf\u001b[39m=\u001b[39mnp\u001b[39m.\u001b[39;49mlinalg\u001b[39m.\u001b[39;49minv(m_hessiana)  \n\u001b[0;32m     <a href='vscode-notebook-cell:/c%3A/Users/juanj/OneDrive/Documentos/3er%20cuatri/repositorio2/repositorio2/practica_.ipynb#W3sZmlsZQ%3D%3D?line=16'>17</a>\u001b[0m     x \u001b[39m=\u001b[39m x \u001b[39m-\u001b[39m lr \u001b[39m*\u001b[39m inv_hf  \u001b[39m*\u001b[39m gf(x)\n\u001b[0;32m     <a href='vscode-notebook-cell:/c%3A/Users/juanj/OneDrive/Documentos/3er%20cuatri/repositorio2/repositorio2/practica_.ipynb#W3sZmlsZQ%3D%3D?line=17'>18</a>\u001b[0m     lr \u001b[39m*\u001b[39m\u001b[39m=\u001b[39m lr_decr\n",
      "File \u001b[1;32m<__array_function__ internals>:200\u001b[0m, in \u001b[0;36minv\u001b[1;34m(*args, **kwargs)\u001b[0m\n",
      "File \u001b[1;32m~\\AppData\\Local\\Packages\\PythonSoftwareFoundation.Python.3.10_qbz5n2kfra8p0\\LocalCache\\local-packages\\Python310\\site-packages\\numpy\\linalg\\linalg.py:538\u001b[0m, in \u001b[0;36minv\u001b[1;34m(a)\u001b[0m\n\u001b[0;32m    536\u001b[0m signature \u001b[39m=\u001b[39m \u001b[39m'\u001b[39m\u001b[39mD->D\u001b[39m\u001b[39m'\u001b[39m \u001b[39mif\u001b[39;00m isComplexType(t) \u001b[39melse\u001b[39;00m \u001b[39m'\u001b[39m\u001b[39md->d\u001b[39m\u001b[39m'\u001b[39m\n\u001b[0;32m    537\u001b[0m extobj \u001b[39m=\u001b[39m get_linalg_error_extobj(_raise_linalgerror_singular)\n\u001b[1;32m--> 538\u001b[0m ainv \u001b[39m=\u001b[39m _umath_linalg\u001b[39m.\u001b[39;49minv(a, signature\u001b[39m=\u001b[39;49msignature, extobj\u001b[39m=\u001b[39;49mextobj)\n\u001b[0;32m    539\u001b[0m \u001b[39mreturn\u001b[39;00m wrap(ainv\u001b[39m.\u001b[39mastype(result_t, copy\u001b[39m=\u001b[39m\u001b[39mFalse\u001b[39;00m))\n",
      "File \u001b[1;32m~\\AppData\\Local\\Packages\\PythonSoftwareFoundation.Python.3.10_qbz5n2kfra8p0\\LocalCache\\local-packages\\Python310\\site-packages\\numpy\\linalg\\linalg.py:89\u001b[0m, in \u001b[0;36m_raise_linalgerror_singular\u001b[1;34m(err, flag)\u001b[0m\n\u001b[0;32m     88\u001b[0m \u001b[39mdef\u001b[39;00m \u001b[39m_raise_linalgerror_singular\u001b[39m(err, flag):\n\u001b[1;32m---> 89\u001b[0m     \u001b[39mraise\u001b[39;00m LinAlgError(\u001b[39m\"\u001b[39m\u001b[39mSingular matrix\u001b[39m\u001b[39m\"\u001b[39m)\n",
      "\u001b[1;31mLinAlgError\u001b[0m: Singular matrix"
     ]
    }
   ],
   "source": [
    "#hacer el jacobiano de una funcion -> gradiente\n",
    "#hacer el jacobiano del gradiente -> matriz hessiana\n",
    "def h_rosen(x: np.ndarray)-> np.ndarray:\n",
    "    h=jacobian(jacobian(f_rosen))\n",
    "    return h(x)\n",
    "    \n",
    "def newton(x: np.array, f: Callable, gf: Callable, hf: Callable, lr=0.01, lr_decr=0.999, maxiter=100, tol=0.001)-> Tuple[np.ndarray, List[np.array], int]:\n",
    "    n_iter=0\n",
    "    \n",
    "\n",
    "\n",
    "    evolucion_x=[x]\n",
    "    while np.linalg.norm(gf(x)) > tol and n_iter <= maxiter:\n",
    "        m_hessiana= hf(x)\n",
    "        inv_hf=np.linalg.inv(m_hessiana)  #calculamos la inversa del hessiano en cada punto\n",
    "        \n",
    "        x = x - lr * inv_hf  * gf(x)\n",
    "        lr *= lr_decr\n",
    "        evolucion_x.append(x)\n",
    "        n_iter += 1\n",
    "    \n",
    "    return (x, evolucion_x, n_iter) #pide explicitamente que devolvamos f(x) ???\n",
    "\n",
    "\n",
    "\n",
    "newton(a,f_rosen,g_rosen,h_rosen)"
   ]
  },
  {
   "cell_type": "code",
   "execution_count": 15,
   "metadata": {},
   "outputs": [
    {
     "ename": "LinAlgError",
     "evalue": "Singular matrix",
     "output_type": "error",
     "traceback": [
      "\u001b[1;31m---------------------------------------------------------------------------\u001b[0m",
      "\u001b[1;31mLinAlgError\u001b[0m                               Traceback (most recent call last)",
      "\u001b[1;32mc:\\Users\\juanj\\OneDrive\\Documentos\\3er cuatri\\repositorio2\\repositorio2\\practica_.ipynb Celda 3\u001b[0m line \u001b[0;36m1\n\u001b[0;32m     <a href='vscode-notebook-cell:/c%3A/Users/juanj/OneDrive/Documentos/3er%20cuatri/repositorio2/repositorio2/practica_.ipynb#W2sZmlsZQ%3D%3D?line=12'>13</a>\u001b[0m hessian_at_x \u001b[39m=\u001b[39m hessian_matrix(x_val)\n\u001b[0;32m     <a href='vscode-notebook-cell:/c%3A/Users/juanj/OneDrive/Documentos/3er%20cuatri/repositorio2/repositorio2/practica_.ipynb#W2sZmlsZQ%3D%3D?line=14'>15</a>\u001b[0m \u001b[39m# Calcula la inversa de la matriz hessiana en el punto específico\u001b[39;00m\n\u001b[1;32m---> <a href='vscode-notebook-cell:/c%3A/Users/juanj/OneDrive/Documentos/3er%20cuatri/repositorio2/repositorio2/practica_.ipynb#W2sZmlsZQ%3D%3D?line=15'>16</a>\u001b[0m hessian_inverse_at_x \u001b[39m=\u001b[39m np\u001b[39m.\u001b[39;49mlinalg\u001b[39m.\u001b[39;49minv(hessian_at_x)\n\u001b[0;32m     <a href='vscode-notebook-cell:/c%3A/Users/juanj/OneDrive/Documentos/3er%20cuatri/repositorio2/repositorio2/practica_.ipynb#W2sZmlsZQ%3D%3D?line=17'>18</a>\u001b[0m \u001b[39mprint\u001b[39m(\u001b[39m\"\u001b[39m\u001b[39m\\n\u001b[39;00m\u001b[39mInversa de la Matriz Hessiana de f en x:\u001b[39m\u001b[39m\"\u001b[39m)\n\u001b[0;32m     <a href='vscode-notebook-cell:/c%3A/Users/juanj/OneDrive/Documentos/3er%20cuatri/repositorio2/repositorio2/practica_.ipynb#W2sZmlsZQ%3D%3D?line=18'>19</a>\u001b[0m \u001b[39mprint\u001b[39m(hessian_inverse_at_x)\n",
      "File \u001b[1;32m~\\AppData\\Local\\Packages\\PythonSoftwareFoundation.Python.3.10_qbz5n2kfra8p0\\LocalCache\\local-packages\\Python310\\site-packages\\autograd\\tracer.py:48\u001b[0m, in \u001b[0;36mprimitive.<locals>.f_wrapped\u001b[1;34m(*args, **kwargs)\u001b[0m\n\u001b[0;32m     46\u001b[0m     \u001b[39mreturn\u001b[39;00m new_box(ans, trace, node)\n\u001b[0;32m     47\u001b[0m \u001b[39melse\u001b[39;00m:\n\u001b[1;32m---> 48\u001b[0m     \u001b[39mreturn\u001b[39;00m f_raw(\u001b[39m*\u001b[39margs, \u001b[39m*\u001b[39m\u001b[39m*\u001b[39mkwargs)\n",
      "File \u001b[1;32m<__array_function__ internals>:200\u001b[0m, in \u001b[0;36minv\u001b[1;34m(*args, **kwargs)\u001b[0m\n",
      "File \u001b[1;32m~\\AppData\\Local\\Packages\\PythonSoftwareFoundation.Python.3.10_qbz5n2kfra8p0\\LocalCache\\local-packages\\Python310\\site-packages\\numpy\\linalg\\linalg.py:538\u001b[0m, in \u001b[0;36minv\u001b[1;34m(a)\u001b[0m\n\u001b[0;32m    536\u001b[0m signature \u001b[39m=\u001b[39m \u001b[39m'\u001b[39m\u001b[39mD->D\u001b[39m\u001b[39m'\u001b[39m \u001b[39mif\u001b[39;00m isComplexType(t) \u001b[39melse\u001b[39;00m \u001b[39m'\u001b[39m\u001b[39md->d\u001b[39m\u001b[39m'\u001b[39m\n\u001b[0;32m    537\u001b[0m extobj \u001b[39m=\u001b[39m get_linalg_error_extobj(_raise_linalgerror_singular)\n\u001b[1;32m--> 538\u001b[0m ainv \u001b[39m=\u001b[39m _umath_linalg\u001b[39m.\u001b[39;49minv(a, signature\u001b[39m=\u001b[39;49msignature, extobj\u001b[39m=\u001b[39;49mextobj)\n\u001b[0;32m    539\u001b[0m \u001b[39mreturn\u001b[39;00m wrap(ainv\u001b[39m.\u001b[39mastype(result_t, copy\u001b[39m=\u001b[39m\u001b[39mFalse\u001b[39;00m))\n",
      "File \u001b[1;32m~\\AppData\\Local\\Packages\\PythonSoftwareFoundation.Python.3.10_qbz5n2kfra8p0\\LocalCache\\local-packages\\Python310\\site-packages\\numpy\\linalg\\linalg.py:89\u001b[0m, in \u001b[0;36m_raise_linalgerror_singular\u001b[1;34m(err, flag)\u001b[0m\n\u001b[0;32m     88\u001b[0m \u001b[39mdef\u001b[39;00m \u001b[39m_raise_linalgerror_singular\u001b[39m(err, flag):\n\u001b[1;32m---> 89\u001b[0m     \u001b[39mraise\u001b[39;00m LinAlgError(\u001b[39m\"\u001b[39m\u001b[39mSingular matrix\u001b[39m\u001b[39m\"\u001b[39m)\n",
      "\u001b[1;31mLinAlgError\u001b[0m: Singular matrix"
     ]
    }
   ],
   "source": [
    "import autograd.numpy as np\n",
    "from autograd import jacobian\n",
    "\n",
    "# Define tu función vectorial\n",
    "def f(x):\n",
    "    return np.array([x[0]**2, x[0]*x[1], x[1]**2])\n",
    "\n",
    "# Calcula la matriz hessiana utilizando jacobian\n",
    "hessian_matrix = jacobian(jacobian(f))\n",
    "\n",
    "# Puedes calcular la matriz hessiana en un punto específico\n",
    "x_val = np.array([1.0, 2.0])\n",
    "hessian_at_x = hessian_matrix(x_val)\n",
    "\n",
    "# Calcula la inversa de la matriz hessiana en el punto específico\n",
    "hessian_inverse_at_x = np.linalg.inv(hessian_at_x)\n",
    "\n",
    "print(\"\\nInversa de la Matriz Hessiana de f en x:\")\n",
    "print(hessian_inverse_at_x)\n"
   ]
  }
 ],
 "metadata": {
  "kernelspec": {
   "display_name": "Python 3",
   "language": "python",
   "name": "python3"
  },
  "language_info": {
   "codemirror_mode": {
    "name": "ipython",
    "version": 3
   },
   "file_extension": ".py",
   "mimetype": "text/x-python",
   "name": "python",
   "nbconvert_exporter": "python",
   "pygments_lexer": "ipython3",
   "version": "3.10.11"
  }
 },
 "nbformat": 4,
 "nbformat_minor": 2
}
