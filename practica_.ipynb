{
 "cells": [
  {
   "cell_type": "code",
   "execution_count": 6,
   "metadata": {},
   "outputs": [
    {
     "ename": "TypeError",
     "evalue": "can't multiply sequence by non-int of type 'float'",
     "output_type": "error",
     "traceback": [
      "\u001b[1;31m---------------------------------------------------------------------------\u001b[0m",
      "\u001b[1;31mTypeError\u001b[0m                                 Traceback (most recent call last)",
      "\u001b[1;32mc:\\Users\\juanj\\Documents\\3ercuatri\\repositorio2\\practica_.ipynb Celda 1\u001b[0m line \u001b[0;36m4\n\u001b[0;32m     <a href='vscode-notebook-cell:/c%3A/Users/juanj/Documents/3ercuatri/repositorio2/practica_.ipynb#W0sZmlsZQ%3D%3D?line=35'>36</a>\u001b[0m     \u001b[39mreturn\u001b[39;00m (np\u001b[39m.\u001b[39marray(x, f(x)), evolucion_x, n_iter)\n\u001b[0;32m     <a href='vscode-notebook-cell:/c%3A/Users/juanj/Documents/3ercuatri/repositorio2/practica_.ipynb#W0sZmlsZQ%3D%3D?line=37'>38</a>\u001b[0m a\u001b[39m=\u001b[39mnp\u001b[39m.\u001b[39marray([\u001b[39m1\u001b[39m,\u001b[39m0\u001b[39m]) \n\u001b[1;32m---> <a href='vscode-notebook-cell:/c%3A/Users/juanj/Documents/3ercuatri/repositorio2/practica_.ipynb#W0sZmlsZQ%3D%3D?line=39'>40</a>\u001b[0m \u001b[39mprint\u001b[39m(grad_desc(a,f_ellipse,g_ellipse))\n",
      "\u001b[1;32mc:\\Users\\juanj\\Documents\\3ercuatri\\repositorio2\\practica_.ipynb Celda 1\u001b[0m line \u001b[0;36m2\n\u001b[0;32m     <a href='vscode-notebook-cell:/c%3A/Users/juanj/Documents/3ercuatri/repositorio2/practica_.ipynb#W0sZmlsZQ%3D%3D?line=25'>26</a>\u001b[0m evolucion_x\u001b[39m=\u001b[39m[x]\n\u001b[0;32m     <a href='vscode-notebook-cell:/c%3A/Users/juanj/Documents/3ercuatri/repositorio2/practica_.ipynb#W0sZmlsZQ%3D%3D?line=26'>27</a>\u001b[0m \u001b[39mwhile\u001b[39;00m np\u001b[39m.\u001b[39mlinalg\u001b[39m.\u001b[39mnorm(gf(x)) \u001b[39m>\u001b[39m tol \u001b[39mand\u001b[39;00m n_iter \u001b[39m<\u001b[39m\u001b[39m=\u001b[39m maxiter:\n\u001b[1;32m---> <a href='vscode-notebook-cell:/c%3A/Users/juanj/Documents/3ercuatri/repositorio2/practica_.ipynb#W0sZmlsZQ%3D%3D?line=27'>28</a>\u001b[0m     x \u001b[39m-\u001b[39m\u001b[39m=\u001b[39m lr_ini\u001b[39m*\u001b[39;49mgf(x)\n\u001b[0;32m     <a href='vscode-notebook-cell:/c%3A/Users/juanj/Documents/3ercuatri/repositorio2/practica_.ipynb#W0sZmlsZQ%3D%3D?line=28'>29</a>\u001b[0m     evolucion_x\u001b[39m.\u001b[39mappend(x)\n\u001b[0;32m     <a href='vscode-notebook-cell:/c%3A/Users/juanj/Documents/3ercuatri/repositorio2/practica_.ipynb#W0sZmlsZQ%3D%3D?line=29'>30</a>\u001b[0m     lr_ini \u001b[39m*\u001b[39m\u001b[39m=\u001b[39m lr_decr\n",
      "\u001b[1;31mTypeError\u001b[0m: can't multiply sequence by non-int of type 'float'"
     ]
    }
   ],
   "source": [
    "import numpy as np\n",
    "from autograd import jacobian  #jf= jacobian(f)  \n",
    "from typing import Tuple, List, Callable\n",
    "#hacer el jacobiano de una funcion -> gradiente\n",
    "#hacer el jacobiano del gradiente -> matriz hessiana\n",
    "import numpy as np\n",
    "def f_ellipse(x: np.ndarray)-> float:\n",
    "    return x[0]**2+12*x[1]**2\n",
    "\n",
    "    \n",
    "\n",
    "\n",
    "def g_ellipse(x: np.ndarray)-> np.ndarray:\n",
    "    return (2*x[0],24*x[1])\n",
    "\n",
    "def f_rosen(x: np.ndarray)-> float:\n",
    "    return (1-x[0])**2+100*(x[1]-x[0]**2)**2\n",
    "\n",
    "\n",
    "def g_rosen(x: np.ndarray)-> np.ndarray:\n",
    "    return (2*(1-x[0])+200*(x[1]-x[0]**2)*(-2*x[0]),200*(x[1]-x[0]**2))\n",
    "\n",
    "\n",
    "def grad_desc(x: np.array, f: callable, gf: callable, lr_ini=0.01, lr_decr=0.999, maxiter=100, tol=0.001)-> tuple[np.ndarray, list[np.ndarray], int]:\n",
    "    n_iter = 0\n",
    "    evolucion_x=[x]\n",
    "    while np.linalg.norm(gf(x)) > tol and n_iter <= maxiter:\n",
    "        x -= lr_ini*gf(x)\n",
    "        evolucion_x.append(x)\n",
    "        lr_ini *= lr_decr\n",
    "        iter += 1\n",
    "        \n",
    "    if n_iter > maxiter:\n",
    "        raise Exception('Se ha superado el número máximo de n_iteraciones')\n",
    "    \n",
    "    return (np.array(x, f(x)), evolucion_x, n_iter)\n",
    "\n",
    "a=np.array([1,0]) \n",
    "        \n",
    "print(grad_desc(a,f_ellipse,g_ellipse))\n",
    "    \n",
    "\n",
    "\n"
   ]
  },
  {
   "cell_type": "code",
   "execution_count": 4,
   "metadata": {},
   "outputs": [
    {
     "data": {
      "text/plain": [
       "3"
      ]
     },
     "execution_count": 4,
     "metadata": {},
     "output_type": "execute_result"
    }
   ],
   "source": [
    "import numpy as np\n",
    "\n",
    "a[0]"
   ]
  }
 ],
 "metadata": {
  "kernelspec": {
   "display_name": "Python 3",
   "language": "python",
   "name": "python3"
  },
  "language_info": {
   "codemirror_mode": {
    "name": "ipython",
    "version": 3
   },
   "file_extension": ".py",
   "mimetype": "text/x-python",
   "name": "python",
   "nbconvert_exporter": "python",
   "pygments_lexer": "ipython3",
   "version": "3.10.11"
  }
 },
 "nbformat": 4,
 "nbformat_minor": 2
}
