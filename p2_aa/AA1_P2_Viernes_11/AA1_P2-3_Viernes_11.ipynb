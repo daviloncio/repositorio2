{
 "cells": [
  {
   "cell_type": "markdown",
   "metadata": {},
   "source": [
    "SEMANA 3"
   ]
  },
  {
   "cell_type": "markdown",
   "metadata": {},
   "source": [
    "Primero importamos las librerías necesarias para realizar el modelo y diferenciamos entre los datos de entrenamiento y los datos de prueba:"
   ]
  },
  {
   "cell_type": "code",
   "execution_count": 416,
   "metadata": {},
   "outputs": [],
   "source": [
    "import pandas as pd, numpy as np, seaborn as sns, matplotlib.pyplot as plt\n",
    "data_train = pd.read_csv('baseball_construccion.csv')\n",
    "data_test = pd.read_csv('baseball_explotacion.csv')"
   ]
  },
  {
   "cell_type": "markdown",
   "metadata": {},
   "source": [
    "Al igual que hicimos en la práctica 1, lo primero que debmos hacer es limpiarlos datos de entrenamiento. A continuación vamos a ir analizando cada columna por separado:"
   ]
  },
  {
   "cell_type": "markdown",
   "metadata": {},
   "source": [
    "- Lo primero que vamos a hacer es tratar los valores nulos. Para facilitar el preprocesado de los datos veamos cuantos missing values hay en cada columna"
   ]
  },
  {
   "cell_type": "code",
   "execution_count": 417,
   "metadata": {},
   "outputs": [
    {
     "data": {
      "text/plain": [
       "Unnamed: 0            0\n",
       "year                  0\n",
       "home_team             0\n",
       "month                 0\n",
       "day                   0\n",
       "attend                0\n",
       "day_of_week           0\n",
       "opponent              0\n",
       "temp                  0\n",
       "skies                 0\n",
       "day_night             0\n",
       "cap                   0\n",
       "shirt                 0\n",
       "fireworks             0\n",
       "bobblehead            0\n",
       "hum>average         108\n",
       "attend_inc           30\n",
       "attend_thousands      0\n",
       "dtype: int64"
      ]
     },
     "execution_count": 417,
     "metadata": {},
     "output_type": "execute_result"
    }
   ],
   "source": [
    "data_train.isnull().sum()"
   ]
  },
  {
   "cell_type": "markdown",
   "metadata": {},
   "source": [
    "- Además también vamnos a comprobar en que columnas hay outliers para poder tratarlos con más detalle más adelante:"
   ]
  },
  {
   "cell_type": "code",
   "execution_count": 418,
   "metadata": {},
   "outputs": [
    {
     "data": {
      "text/plain": [
       "Unnamed: 0          False\n",
       "year                False\n",
       "day                 False\n",
       "attend              False\n",
       "temp                 True\n",
       "attend_inc           True\n",
       "attend_thousands    False\n",
       "dtype: bool"
      ]
     },
     "execution_count": 418,
     "metadata": {},
     "output_type": "execute_result"
    }
   ],
   "source": [
    "#Función para detectar outliers:\n",
    "def is_outlier_IQR(df):\n",
    "    Q1=df.quantile(0.25)\n",
    "    Q3=df.quantile(0.75)\n",
    "    IQR = Q3-Q1\n",
    "    return (df<(Q1-1.5*IQR)) | (df>(Q3+1.5*IQR))\n",
    "\n",
    "#Tomamos solo las variables numéricas\n",
    "data_train2 = data_train.loc[:, data_train.dtypes != object]\n",
    "is_outlier_IQR(data_train2).any()"
   ]
  },
  {
   "cell_type": "markdown",
   "metadata": {},
   "source": [
    "**1. Unnamed**"
   ]
  },
  {
   "cell_type": "markdown",
   "metadata": {},
   "source": [
    "- Empecemos viendo los valores únicos de esta variable:"
   ]
  },
  {
   "cell_type": "code",
   "execution_count": 419,
   "metadata": {},
   "outputs": [
    {
     "data": {
      "text/plain": [
       "array([   0,    1,    2, ..., 2410, 2411, 2412])"
      ]
     },
     "execution_count": 419,
     "metadata": {},
     "output_type": "execute_result"
    }
   ],
   "source": [
    "data_train['Unnamed: 0'].unique()"
   ]
  },
  {
   "cell_type": "markdown",
   "metadata": {},
   "source": [
    "- Por el aspecto de estos valores únicos, se puede suponer que esta columna hace referencia a los índices del dataset. Veamos si el tamaño del array coincide con el número de filas del dataset"
   ]
  },
  {
   "cell_type": "code",
   "execution_count": 420,
   "metadata": {},
   "outputs": [
    {
     "data": {
      "text/plain": [
       "True"
      ]
     },
     "execution_count": 420,
     "metadata": {},
     "output_type": "execute_result"
    }
   ],
   "source": [
    "data_train.shape[0] == len(data_train['Unnamed: 0'].unique())"
   ]
  },
  {
   "cell_type": "markdown",
   "metadata": {},
   "source": [
    "- Esta columna no es relevante para el modelo ya que no nos da ninguna información que nos ayude a predecir los datos deseados, por tanto se puede eliminar"
   ]
  },
  {
   "cell_type": "code",
   "execution_count": 421,
   "metadata": {},
   "outputs": [],
   "source": [
    "data_train = data_train.drop('Unnamed: 0', axis = 1)"
   ]
  },
  {
   "cell_type": "markdown",
   "metadata": {},
   "source": [
    "**2. Year**"
   ]
  },
  {
   "cell_type": "markdown",
   "metadata": {},
   "source": [
    "- Veamos los valores únicos de esta variable"
   ]
  },
  {
   "cell_type": "code",
   "execution_count": 422,
   "metadata": {},
   "outputs": [
    {
     "data": {
      "text/plain": [
       "array([2012])"
      ]
     },
     "execution_count": 422,
     "metadata": {},
     "output_type": "execute_result"
    }
   ],
   "source": [
    "data_train['year'].unique()"
   ]
  },
  {
   "cell_type": "markdown",
   "metadata": {},
   "source": [
    "- Acabamos de observar que esta columna presenta una valor constante para todas las instancias es inútil a la hora de construir el modelo, por ello es mejor eliminarla"
   ]
  },
  {
   "cell_type": "code",
   "execution_count": 423,
   "metadata": {},
   "outputs": [],
   "source": [
    "data_train = data_train.drop('year', axis= 1)"
   ]
  },
  {
   "cell_type": "markdown",
   "metadata": {},
   "source": [
    "**3. Home team**"
   ]
  },
  {
   "cell_type": "markdown",
   "metadata": {},
   "source": [
    "- Veamos los valores únicos de esta columna:"
   ]
  },
  {
   "cell_type": "code",
   "execution_count": 424,
   "metadata": {},
   "outputs": [
    {
     "data": {
      "text/plain": [
       "array(['Baltimore Orioles', 'Boston Red Sox', 'Chicago White Sox',\n",
       "       'Cleveland Indians', 'Detroit Tigers', 'Houston Astros',\n",
       "       'Kansas City Royals', 'Los Angeles Angels', 'Minnesota Twins',\n",
       "       'New York Yankees', 'Oakland Athletics', 'Seattle Mariners',\n",
       "       'Tampa Bay Rays', 'Texas Rangers', 'Toronto Blue Jays',\n",
       "       'Arizona Diamondbacks', 'Atlanta Braves', 'Chicago Cubs',\n",
       "       'Cincinnati Reds', 'Colorado Rockies', 'Los Angeles Dodgers',\n",
       "       'Miami Marlins', 'Milwaukee Brewers', 'New York Mets',\n",
       "       'Philadelphia Phillies', 'Pittsburgh Pirates', 'San Diego Padres',\n",
       "       'San Francisco Giants', 'St. Louis Cardinals',\n",
       "       'Washington Nationals'], dtype=object)"
      ]
     },
     "execution_count": 424,
     "metadata": {},
     "output_type": "execute_result"
    }
   ],
   "source": [
    "data_train['home_team'].unique()"
   ]
  },
  {
   "cell_type": "markdown",
   "metadata": {},
   "source": [
    "- Esta variable hace referencia al equipo local. No tiene valores nulos. Pero como se trata de una variable categórica no ordinal, lo mejor es codificarla con 'one hot'."
   ]
  },
  {
   "cell_type": "code",
   "execution_count": 425,
   "metadata": {},
   "outputs": [],
   "source": [
    "data_train = pd.get_dummies(data_train, columns=['home_team'], dtype= int)"
   ]
  },
  {
   "cell_type": "markdown",
   "metadata": {},
   "source": [
    "**4. Month y Day**"
   ]
  },
  {
   "cell_type": "markdown",
   "metadata": {},
   "source": [
    "- Veamos las variables únicas de ambas columnas"
   ]
  },
  {
   "cell_type": "code",
   "execution_count": 426,
   "metadata": {},
   "outputs": [
    {
     "data": {
      "text/plain": [
       "array(['APR', 'MAY', 'JUN', 'JUL', 'AUG', 'SEP'], dtype=object)"
      ]
     },
     "execution_count": 426,
     "metadata": {},
     "output_type": "execute_result"
    }
   ],
   "source": [
    "data_train['month'].unique()"
   ]
  },
  {
   "cell_type": "code",
   "execution_count": 427,
   "metadata": {},
   "outputs": [
    {
     "data": {
      "text/plain": [
       "array([ 6,  7,  8,  9, 10, 11, 24, 25, 26, 27, 28, 29, 12, 13, 14, 15, 21,\n",
       "       22, 23, 30,  1, 16, 17, 18, 20,  2,  4,  5, 31, 19,  3])"
      ]
     },
     "execution_count": 427,
     "metadata": {},
     "output_type": "execute_result"
    }
   ],
   "source": [
    "data_train['day'].unique()"
   ]
  },
  {
   "cell_type": "markdown",
   "metadata": {},
   "source": [
    "- En este caso se nos presenta un problema con componentes estacionales, ya que a la hora de predecir la afluencia de público en un partido de béisbol es importante saber en que época del año se celebró. En cambio el día exacto del partido no es tan relevante para el modelo y puede entorpecer la realización de este, por tanto esa columna es mejor eliminarla. Los meses vamos a tratarlas como variables categóricas sin orden y a codificarlas."
   ]
  },
  {
   "cell_type": "code",
   "execution_count": 428,
   "metadata": {},
   "outputs": [],
   "source": [
    "data_train = data_train.drop('day', axis= 1) #Eliminamos el día"
   ]
  },
  {
   "cell_type": "code",
   "execution_count": 429,
   "metadata": {},
   "outputs": [],
   "source": [
    "data_train = pd.get_dummies(data_train, columns=['month'], dtype= int)\n",
    "#Añadimos la columna de octubre presente en data_test para que no de errores porsteriormente\n",
    "data_train['month_OCT'] = 0"
   ]
  },
  {
   "cell_type": "markdown",
   "metadata": {},
   "source": [
    "**5. Attend**"
   ]
  },
  {
   "cell_type": "markdown",
   "metadata": {},
   "source": [
    "- Valores únicos:"
   ]
  },
  {
   "cell_type": "code",
   "execution_count": 430,
   "metadata": {},
   "outputs": [
    {
     "data": {
      "text/plain": [
       "array([32741, 22072, 10317, ..., 19973, 20202, 17077])"
      ]
     },
     "execution_count": 430,
     "metadata": {},
     "output_type": "execute_result"
    }
   ],
   "source": [
    "data_train['attend'].unique()"
   ]
  },
  {
   "cell_type": "markdown",
   "metadata": {},
   "source": [
    "En esta columna no hay valores nulos y la variable es de tipo numérico. Antes de seguir vamos a comprobar que no tienen una distribución de cola pesada"
   ]
  },
  {
   "cell_type": "code",
   "execution_count": 431,
   "metadata": {},
   "outputs": [
    {
     "data": {
      "image/png": "[encoded data removed]",
      "text/plain": [
       "<Figure size 400x200 with 1 Axes>"
      ]
     },
     "metadata": {},
     "output_type": "display_data"
    }
   ],
   "source": [
    "data_train[\"attend\"].hist(bins=15, figsize=(4,2), color= 'darkcyan') # 4 ancho, 2 alto\n",
    "plt.xlim(0,40000);"
   ]
  },
  {
   "cell_type": "markdown",
   "metadata": {},
   "source": [
    "- Gracias al histograma vemos que que la variable no sigue una distribución de cola pesada y por tanto no hay que hacer una transformación logarítmica"
   ]
  },
  {
   "cell_type": "markdown",
   "metadata": {},
   "source": [
    "**6. Day of week**"
   ]
  },
  {
   "cell_type": "markdown",
   "metadata": {},
   "source": [
    "- Valores únicos de la columna:"
   ]
  },
  {
   "cell_type": "code",
   "execution_count": 432,
   "metadata": {},
   "outputs": [
    {
     "data": {
      "text/plain": [
       "array(['Friday', 'Saturday', 'Sunday', 'Monday', 'Tuesday', 'Wednesday',\n",
       "       'Thursday'], dtype=object)"
      ]
     },
     "execution_count": 432,
     "metadata": {},
     "output_type": "execute_result"
    }
   ],
   "source": [
    "data_train['day_of_week'].unique()"
   ]
  },
  {
   "cell_type": "markdown",
   "metadata": {},
   "source": [
    "- Volvemos a estar ante un componente estacional sin valores nulos, por tanto vamos a tratar los días de la semana como variables categóricas no ordenadas y a dicotomizarlas"
   ]
  },
  {
   "cell_type": "code",
   "execution_count": 433,
   "metadata": {},
   "outputs": [],
   "source": [
    "data_train = pd.get_dummies(data_train, columns=['day_of_week'], dtype= int)"
   ]
  },
  {
   "cell_type": "markdown",
   "metadata": {},
   "source": [
    "**7. Opponent**"
   ]
  },
  {
   "cell_type": "markdown",
   "metadata": {},
   "source": [
    "- Valores únicos:"
   ]
  },
  {
   "cell_type": "code",
   "execution_count": 434,
   "metadata": {},
   "outputs": [
    {
     "data": {
      "text/plain": [
       "array(['Minnesota Twins', 'New York Yankees', 'Toronto Blue Jays',\n",
       "       'Oakland Athletics', 'Texas Rangers', 'Tampa Bay Rays',\n",
       "       'Boston Red Sox', 'Kansas City Royals', 'Philadelphia Phillies',\n",
       "       'Pittsburgh Pirates', 'Washington Nationals', 'Los Angeles Angels',\n",
       "       'Cleveland Indians', 'Detroit Tigers', 'Seattle Mariners',\n",
       "       'Chicago White Sox', 'Baltimore Orioles', 'Miami Marlins',\n",
       "       'Atlanta Braves', 'Houston Astros', 'Chicago Cubs',\n",
       "       'Milwaukee Brewers', 'Cincinnati Reds', 'Colorado Rockies',\n",
       "       'St. Louis Cardinals', 'Los Angeles Dodgers', 'New York Mets',\n",
       "       'San Diego Padres', 'Arizona Diamondbacks', 'San Francisco Giants'],\n",
       "      dtype=object)"
      ]
     },
     "execution_count": 434,
     "metadata": {},
     "output_type": "execute_result"
    }
   ],
   "source": [
    "data_train['opponent'].unique()"
   ]
  },
  {
   "cell_type": "markdown",
   "metadata": {},
   "source": [
    "- Se trata de los equipos rivales del equipo local. Por tanto vamos a seguir el mismo procedimiento en esta columna"
   ]
  },
  {
   "cell_type": "code",
   "execution_count": 435,
   "metadata": {},
   "outputs": [],
   "source": [
    "data_train = pd.get_dummies(data_train, columns=['opponent'], dtype= int)"
   ]
  },
  {
   "cell_type": "markdown",
   "metadata": {},
   "source": [
    "**8. Temp**"
   ]
  },
  {
   "cell_type": "markdown",
   "metadata": {},
   "source": [
    "- Valores únicos:"
   ]
  },
  {
   "cell_type": "code",
   "execution_count": 436,
   "metadata": {},
   "outputs": [
    {
     "data": {
      "text/plain": [
       "array([ 59,  63,  68,  65,  62,  53,  60,  70,  64,  56,  67,  61,  71,\n",
       "        77,  79,  66,  78,  72,  76,  75,  82,  87,  86,  81,  90,  88,\n",
       "        85,  92, 100,  91,  95,  84,  73,  80,  83,  74,  58,  51,  52,\n",
       "        46,  47,  54,  57,  69,  55,  96,  89,  50,  39,  93,  97,  99,\n",
       "        44,  48,  45,   6,  43,  42,  94,  98, 103,  49, 104, 102, 105,\n",
       "       101,  40, 106])"
      ]
     },
     "execution_count": 436,
     "metadata": {},
     "output_type": "execute_result"
    }
   ],
   "source": [
    "data_train['temp'].unique()"
   ]
  },
  {
   "cell_type": "markdown",
   "metadata": {},
   "source": [
    "- En esta variable númerica no había valores nulos pero sí que había outliers. Vamos a ver cuántos hay y que impacto pueden tener en el modelo antes"
   ]
  },
  {
   "cell_type": "code",
   "execution_count": 437,
   "metadata": {},
   "outputs": [
    {
     "data": {
      "text/plain": [
       "151      39\n",
       "152      39\n",
       "217      44\n",
       "221      45\n",
       "222       6\n",
       "226      43\n",
       "290      43\n",
       "293      42\n",
       "297      43\n",
       "581      45\n",
       "1240     40\n",
       "1241     44\n",
       "1243     42\n",
       "1244     43\n",
       "1245     45\n",
       "1246     44\n",
       "1823     45\n",
       "1824     44\n",
       "2078    106\n",
       "Name: temp, dtype: int64"
      ]
     },
     "execution_count": 437,
     "metadata": {},
     "output_type": "execute_result"
    }
   ],
   "source": [
    "outliermss1 = data_train['temp'][is_outlier_IQR(data_train['temp'])]\n",
    "outliermss1"
   ]
  },
  {
   "cell_type": "code",
   "execution_count": 438,
   "metadata": {},
   "outputs": [
    {
     "name": "stdout",
     "output_type": "stream",
     "text": [
      "Número de outliers en un dataset de tamaño 2181 es : 19\n"
     ]
    }
   ],
   "source": [
    "print(f'Número de outliers en un dataset de tamaño {data_train.shape[0]} es : {len(outliermss1)}')"
   ]
  },
  {
   "cell_type": "markdown",
   "metadata": {},
   "source": [
    "- Hay mu pocos outliers, pero una de las formas de tratar con ellos es sustituirlos por la media, pero como tenemos el dato de 106 (que seguramente sea un error de medición) la media nos sale 74 grados, lo cual no tiene sentido. Por tanto creemos que lo mejor es eliminarlo."
   ]
  },
  {
   "cell_type": "code",
   "execution_count": 439,
   "metadata": {},
   "outputs": [],
   "source": [
    "data_train = data_train.drop([151,152,217,221,222,226,290,293,297,581,1240,1241,1243,1244,1245,1246,1823,1824,2078])"
   ]
  },
  {
   "cell_type": "markdown",
   "metadata": {},
   "source": [
    "**9. Skies**"
   ]
  },
  {
   "cell_type": "markdown",
   "metadata": {},
   "source": [
    "- Valores únicos:"
   ]
  },
  {
   "cell_type": "code",
   "execution_count": 440,
   "metadata": {},
   "outputs": [
    {
     "data": {
      "text/plain": [
       "array(['Clear', 'Cloudy', 'Rainy', 'Dome'], dtype=object)"
      ]
     },
     "execution_count": 440,
     "metadata": {},
     "output_type": "execute_result"
    }
   ],
   "source": [
    "data_train['skies'].unique()"
   ]
  },
  {
   "cell_type": "markdown",
   "metadata": {},
   "source": [
    "- Representa como estaba el cielo el día del partido. Creemos que es importante matener la columna ya que la temperatura no es capaz de determinar si llueve o no con precisión, y las condiciones metereológicas pueden ser de ayuda a la hora de predecir la afluencia de gente en el partido. Como es una variable categórica no ordenada, la codificamos usando 'one hot':"
   ]
  },
  {
   "cell_type": "code",
   "execution_count": 441,
   "metadata": {},
   "outputs": [
    {
     "data": {
      "text/plain": [
       "Clear      691.0\n",
       "Cloudy    1153.0\n",
       "Dome       300.0\n",
       "Rainy       18.0\n",
       "dtype: float64"
      ]
     },
     "execution_count": 441,
     "metadata": {},
     "output_type": "execute_result"
    }
   ],
   "source": [
    "data_train3 = pd.get_dummies(data_train['skies'], dtype= int)\n",
    "data_train3[data_train3.iloc[:] == 1].sum() "
   ]
  },
  {
   "cell_type": "code",
   "execution_count": 442,
   "metadata": {},
   "outputs": [],
   "source": [
    "data_train = pd.get_dummies(data_train, columns=['skies'], dtype= int)"
   ]
  },
  {
   "cell_type": "markdown",
   "metadata": {},
   "source": [
    "**10. Day-Night**"
   ]
  },
  {
   "cell_type": "markdown",
   "metadata": {},
   "source": [
    "- Veamos el número de veces que es de día o de noche:"
   ]
  },
  {
   "cell_type": "code",
   "execution_count": 443,
   "metadata": {},
   "outputs": [
    {
     "data": {
      "text/plain": [
       "Day       700.0\n",
       "Night    1462.0\n",
       "dtype: float64"
      ]
     },
     "execution_count": 443,
     "metadata": {},
     "output_type": "execute_result"
    }
   ],
   "source": [
    "data_train_ = pd.get_dummies(data_train['day_night'], dtype= int)\n",
    "data_train_[data_train_.iloc[:] == 1].sum() "
   ]
  },
  {
   "cell_type": "markdown",
   "metadata": {},
   "source": [
    "- No creemos que sea necesario eliminarla ya que no hay suficientes pocos valores de Day como para que Night sea un atributo constante, además de que saber cuando ocurrió el partido es relevante a la hora de predecir el modelo. Al ser una variable categórica no ordenada hay que codificarla, pero podemos prescindir de un valor."
   ]
  },
  {
   "cell_type": "code",
   "execution_count": 444,
   "metadata": {},
   "outputs": [],
   "source": [
    "data_train = pd.get_dummies(data_train, columns=['day_night'],drop_first=True, dtype= int)"
   ]
  },
  {
   "cell_type": "markdown",
   "metadata": {},
   "source": [
    "**11. Cap**"
   ]
  },
  {
   "cell_type": "markdown",
   "metadata": {},
   "source": [
    "- Hace referencia a una promoción gorras. Veamos los valores únicos y cuántas veces aparecen:"
   ]
  },
  {
   "cell_type": "code",
   "execution_count": 445,
   "metadata": {},
   "outputs": [
    {
     "data": {
      "text/plain": [
       "array(['NO', 'YES'], dtype=object)"
      ]
     },
     "execution_count": 445,
     "metadata": {},
     "output_type": "execute_result"
    }
   ],
   "source": [
    "data_train['cap'].unique()"
   ]
  },
  {
   "cell_type": "code",
   "execution_count": 446,
   "metadata": {},
   "outputs": [
    {
     "data": {
      "text/plain": [
       "NO     2080.0\n",
       "YES      82.0\n",
       "dtype: float64"
      ]
     },
     "execution_count": 446,
     "metadata": {},
     "output_type": "execute_result"
    }
   ],
   "source": [
    "data_train_2 = pd.get_dummies(data_train['cap'], dtype= int)\n",
    "data_train_2[data_train_2.iloc[:] == 1].sum() "
   ]
  },
  {
   "cell_type": "markdown",
   "metadata": {},
   "source": [
    "- Usamos 'one hot':"
   ]
  },
  {
   "cell_type": "code",
   "execution_count": 447,
   "metadata": {},
   "outputs": [],
   "source": [
    "data_train = pd.get_dummies(data_train, columns=['cap'], dtype= int) \n",
    "data_train = data_train.drop('cap_YES', axis= 1) #Quitamos esta columna ya que no está en data_test y es como si hiciéramos 'drop_first' = True\n",
    "#pero dejando sólo la columna de 'cap_NO'"
   ]
  },
  {
   "cell_type": "markdown",
   "metadata": {},
   "source": [
    "**12. Shirt**"
   ]
  },
  {
   "cell_type": "markdown",
   "metadata": {},
   "source": [
    "- Procedemos igual que con Cap, viendo cuántes veces aparece cada valor único en la columna:"
   ]
  },
  {
   "cell_type": "code",
   "execution_count": 448,
   "metadata": {},
   "outputs": [
    {
     "data": {
      "text/plain": [
       "NO     2056.0\n",
       "YES     106.0\n",
       "dtype: float64"
      ]
     },
     "execution_count": 448,
     "metadata": {},
     "output_type": "execute_result"
    }
   ],
   "source": [
    "data_train_3 = pd.get_dummies(data_train['shirt'], dtype= int)\n",
    "data_train_3[data_train_3.iloc[:] == 1].sum() "
   ]
  },
  {
   "cell_type": "markdown",
   "metadata": {},
   "source": [
    "- Decidimos mantenerla y codificarla"
   ]
  },
  {
   "cell_type": "code",
   "execution_count": 449,
   "metadata": {},
   "outputs": [],
   "source": [
    "data_train = pd.get_dummies(data_train, columns=['shirt'],drop_first=True, dtype= int)"
   ]
  },
  {
   "cell_type": "markdown",
   "metadata": {},
   "source": [
    "**13. Fireworks**"
   ]
  },
  {
   "cell_type": "markdown",
   "metadata": {},
   "source": [
    "- Representa si ese día hubo fuegos artificiales. Hacemos lo mismo que con Cap y Shirt:"
   ]
  },
  {
   "cell_type": "code",
   "execution_count": 450,
   "metadata": {},
   "outputs": [
    {
     "data": {
      "text/plain": [
       "NO     1990.0\n",
       "YES     172.0\n",
       "dtype: float64"
      ]
     },
     "execution_count": 450,
     "metadata": {},
     "output_type": "execute_result"
    }
   ],
   "source": [
    "data_train_ = pd.get_dummies(data_train['fireworks'], dtype= int)\n",
    "data_train_[data_train_.iloc[:] == 1].sum() "
   ]
  },
  {
   "cell_type": "code",
   "execution_count": 451,
   "metadata": {},
   "outputs": [],
   "source": [
    "data_train = pd.get_dummies(data_train, columns=['fireworks'],drop_first=True, dtype= int)"
   ]
  },
  {
   "cell_type": "markdown",
   "metadata": {},
   "source": [
    "**14. Bobblehead**"
   ]
  },
  {
   "cell_type": "markdown",
   "metadata": {},
   "source": [
    "- Hace referencia a si ese día regalaban a la entrada muñequitos de los jugadores. Hacemos lo mismo que en las tres anteriores, vemos la diferencia entre el número de valores para ver si consideramos a uno de los atributos constante y si debemos eliminar la columna:"
   ]
  },
  {
   "cell_type": "code",
   "execution_count": 452,
   "metadata": {},
   "outputs": [
    {
     "data": {
      "text/plain": [
       "NO     2073.0\n",
       "YES      89.0\n",
       "dtype: float64"
      ]
     },
     "execution_count": 452,
     "metadata": {},
     "output_type": "execute_result"
    }
   ],
   "source": [
    "data_train_ = pd.get_dummies(data_train['bobblehead'], dtype= int)\n",
    "data_train_[data_train_.iloc[:] == 1].sum() "
   ]
  },
  {
   "cell_type": "markdown",
   "metadata": {},
   "source": [
    "- Decidimos mantenerla:"
   ]
  },
  {
   "cell_type": "code",
   "execution_count": 453,
   "metadata": {},
   "outputs": [],
   "source": [
    "data_train = pd.get_dummies(data_train, columns=['bobblehead'],drop_first=True, dtype= int)"
   ]
  },
  {
   "cell_type": "markdown",
   "metadata": {},
   "source": [
    "**15. Hum>average**"
   ]
  },
  {
   "cell_type": "markdown",
   "metadata": {},
   "source": [
    "- Representa si la humedad está por encima de la media. Veamos los valores únicos:"
   ]
  },
  {
   "cell_type": "code",
   "execution_count": 454,
   "metadata": {},
   "outputs": [
    {
     "data": {
      "text/plain": [
       "array(['NO', 'YES', nan], dtype=object)"
      ]
     },
     "execution_count": 454,
     "metadata": {},
     "output_type": "execute_result"
    }
   ],
   "source": [
    "data_train['hum>average'].unique()"
   ]
  },
  {
   "cell_type": "markdown",
   "metadata": {},
   "source": [
    "- Esta variable categórica no ordenada tiene missing values. No creemos que sea muy importante para el modelo, por eso creemos que es mejor eliminarla, además de que en el dataset de prueba también hay missing values en esta columna"
   ]
  },
  {
   "cell_type": "code",
   "execution_count": 455,
   "metadata": {},
   "outputs": [],
   "source": [
    "data_train = data_train.drop('hum>average', axis= 1)"
   ]
  },
  {
   "cell_type": "markdown",
   "metadata": {},
   "source": [
    "**16. Attend_inc**"
   ]
  },
  {
   "cell_type": "markdown",
   "metadata": {},
   "source": [
    "- Se refiere al incremento de espectadores respecto al último partido del equipo local en ese estadio. Se trata de una variable numérica que tenía tanto outliers como missing values. Nuestra varible target es 'attend', por tanto no sabemos si está variable nos será de utilidad para nuestro modelo. Veamos la correlación que tiene con 'attend':"
   ]
  },
  {
   "cell_type": "code",
   "execution_count": 456,
   "metadata": {},
   "outputs": [
    {
     "data": {
      "text/plain": [
       "0.3244710484481578"
      ]
     },
     "execution_count": 456,
     "metadata": {},
     "output_type": "execute_result"
    }
   ],
   "source": [
    "data_train['attend'].corr(data_train['attend_inc'])"
   ]
  },
  {
   "cell_type": "markdown",
   "metadata": {},
   "source": [
    "- Commo se puede observar, la correlación con el taget es bastante baja, por tanto estamos delante de un falso predictor, ya que a pesar de mostrar una aparente correlación con la variable de interés 'attend', no tiene una relación causal real o una capacidad predictiva sustancial. Por tanto, la eliminamos:"
   ]
  },
  {
   "cell_type": "code",
   "execution_count": 457,
   "metadata": {},
   "outputs": [],
   "source": [
    "data_train = data_train.drop('attend_inc', axis= 1)"
   ]
  },
  {
   "cell_type": "markdown",
   "metadata": {},
   "source": [
    "**17. Attend thousands**"
   ]
  },
  {
   "cell_type": "markdown",
   "metadata": {},
   "source": [
    "- Indica el número de espectadores en millares. Veamos los valores únicos:"
   ]
  },
  {
   "cell_type": "code",
   "execution_count": 458,
   "metadata": {},
   "outputs": [
    {
     "data": {
      "text/plain": [
       "array([33, 22, 10, 18, 17, 16,  8,  7, 13, 19, 23, 21, 12, 11, 20, 24, 28,\n",
       "       32, 29, 25, 30, 14, 15,  9, 26, 27,  6, 31, 35, 34, 39, 38, 36, 37])"
      ]
     },
     "execution_count": 458,
     "metadata": {},
     "output_type": "execute_result"
    }
   ],
   "source": [
    "data_train['attend_thousands'].unique()"
   ]
  },
  {
   "cell_type": "markdown",
   "metadata": {},
   "source": [
    "- Como ya tenemos la columna de *attend* que indica el número de personas exacto que acudió al evento, esta columna nos parece repetitiva, por eso creemos que es mejor eliminarla:"
   ]
  },
  {
   "cell_type": "code",
   "execution_count": 459,
   "metadata": {},
   "outputs": [],
   "source": [
    "data_train = data_train.drop('attend_thousands', axis = 1)"
   ]
  },
  {
   "cell_type": "markdown",
   "metadata": {},
   "source": [
    "Una vez hemos limpiado los datos, empezamos siguiendo los pasos de la SEMANA 1 de esta práctica"
   ]
  },
  {
   "cell_type": "markdown",
   "metadata": {},
   "source": [
    "1. Eliminación de las variables colineales"
   ]
  },
  {
   "cell_type": "markdown",
   "metadata": {},
   "source": [
    "- A continuación reduciremos el datset a un conjunto de variables independientes:"
   ]
  },
  {
   "cell_type": "code",
   "execution_count": 460,
   "metadata": {},
   "outputs": [
    {
     "data": {
      "text/plain": [
       "85"
      ]
     },
     "execution_count": 460,
     "metadata": {},
     "output_type": "execute_result"
    }
   ],
   "source": [
    "len(data_train.columns) #Nº columnas"
   ]
  },
  {
   "cell_type": "code",
   "execution_count": 461,
   "metadata": {},
   "outputs": [
    {
     "data": {
      "text/plain": [
       "79"
      ]
     },
     "execution_count": 461,
     "metadata": {},
     "output_type": "execute_result"
    }
   ],
   "source": [
    "np.linalg.matrix_rank(data_train.cov()) #Rango"
   ]
  },
  {
   "cell_type": "code",
   "execution_count": 462,
   "metadata": {},
   "outputs": [],
   "source": [
    "data_train2 = data_train #Copia del dataset auxiliar\n",
    "cols = data_train.columns #columnas del dataset\n",
    "rank1 = np.linalg.matrix_rank(data_train.cov())\n",
    "\n",
    "for col in cols:\n",
    "    cols2 = cols.drop(col) #Eliminamos una columna para ver si cambia el rango\n",
    "    data_train2 = data_train2[cols2] #Cogemos el dataset sin esa columna\n",
    "    rank2 = np.linalg.matrix_rank(data_train2.cov()) #Hallamos el rango de ese datset\n",
    "    if rank1 == rank2: #Si los rangos siguen igual, se elimina esa columna porque es linealmente dependiente\n",
    "        cols = cols2\n",
    "    else:\n",
    "        data_train2 = data_train #si son distintos, esa columna es linealmente independiente y no se quita\n",
    "\n",
    "\n",
    "data_train = data_train[cols]"
   ]
  },
  {
   "cell_type": "code",
   "execution_count": 463,
   "metadata": {},
   "outputs": [
    {
     "data": {
      "text/plain": [
       "79"
      ]
     },
     "execution_count": 463,
     "metadata": {},
     "output_type": "execute_result"
    }
   ],
   "source": [
    "len(data_train.columns)"
   ]
  },
  {
   "cell_type": "code",
   "execution_count": 464,
   "metadata": {},
   "outputs": [
    {
     "data": {
      "text/plain": [
       "79"
      ]
     },
     "execution_count": 464,
     "metadata": {},
     "output_type": "execute_result"
    }
   ],
   "source": [
    "np.linalg.matrix_rank(data_train.cov())"
   ]
  },
  {
   "cell_type": "markdown",
   "metadata": {},
   "source": [
    "2. Construimos el modelo de regresión lineal y calculamos el coeficiente de determinación R2"
   ]
  },
  {
   "cell_type": "markdown",
   "metadata": {},
   "source": [
    "- Primero, data_test debe tener las mismas columnas que data_train, por eso las modificamos:"
   ]
  },
  {
   "cell_type": "code",
   "execution_count": 465,
   "metadata": {},
   "outputs": [],
   "source": [
    "#CODIFICAMOS LAS VARIABLES NUMÉRICAS EN TEST\n",
    "data_test = pd.get_dummies(data_test, columns=['home_team'], dtype= int)\n",
    "data_test = pd.get_dummies(data_test, columns=['month'], dtype= int)\n",
    "#Añadimos las columnas que faltan de los meses\n",
    "data_test['month_APR'] = 0\n",
    "data_test['month_AUG'] = 0\n",
    "data_test['month_JUL'] = 0\n",
    "data_test['month_JUN'] = 0\n",
    "data_test['month_MAY'] = 0\n",
    "data_test = pd.get_dummies(data_test, columns=['day_of_week'], dtype= int)\n",
    "data_test = pd.get_dummies(data_test, columns=['opponent'], dtype= int)\n",
    "data_test = pd.get_dummies(data_test, columns=['skies'], dtype= int)\n",
    "data_test = pd.get_dummies(data_test, columns=['day_night'],drop_first=True, dtype= int)\n",
    "data_test = pd.get_dummies(data_test, columns=['cap'], dtype= int)\n",
    "data_test = pd.get_dummies(data_test, columns=['shirt'],drop_first=True, dtype= int)\n",
    "data_test= pd.get_dummies(data_test, columns=['fireworks'],drop_first=True, dtype= int)\n",
    "data_test = pd.get_dummies(data_test, columns=['bobblehead'],drop_first=True, dtype= int)\n",
    "#data_test = data_test.fillna({'attend': data_train['attend']})"
   ]
  },
  {
   "cell_type": "code",
   "execution_count": 466,
   "metadata": {},
   "outputs": [],
   "source": [
    "data_test = data_test[cols] #Tomamos las columnas de data_train"
   ]
  },
  {
   "cell_type": "markdown",
   "metadata": {},
   "source": [
    "- Definimos el modelo de regresión:"
   ]
  },
  {
   "cell_type": "code",
   "execution_count": 467,
   "metadata": {},
   "outputs": [],
   "source": [
    "from sklearn.linear_model import LinearRegression\n",
    "from sklearn.metrics import r2_score"
   ]
  },
  {
   "cell_type": "code",
   "execution_count": 468,
   "metadata": {},
   "outputs": [],
   "source": [
    "x_train = data_train.drop('attend', axis=1)\n",
    "y_train = data_train['attend']\n",
    "x_test  = data_test.drop(\"attend\", axis=1)"
   ]
  },
  {
   "cell_type": "code",
   "execution_count": 469,
   "metadata": {},
   "outputs": [
    {
     "data": {
      "text/html": [
       "<style>#sk-container-id-7 {color: black;}#sk-container-id-7 pre{padding: 0;}#sk-container-id-7 div.sk-toggleable {background-color: white;}#sk-container-id-7 label.sk-toggleable__label {cursor: pointer;display: block;width: 100%;margin-bottom: 0;padding: 0.3em;box-sizing: border-box;text-align: center;}#sk-container-id-7 label.sk-toggleable__label-arrow:before {content: \"▸\";float: left;margin-right: 0.25em;color: #696969;}#sk-container-id-7 label.sk-toggleable__label-arrow:hover:before {color: black;}#sk-container-id-7 div.sk-estimator:hover label.sk-toggleable__label-arrow:before {color: black;}#sk-container-id-7 div.sk-toggleable__content {max-height: 0;max-width: 0;overflow: hidden;text-align: left;background-color: #f0f8ff;}#sk-container-id-7 div.sk-toggleable__content pre {margin: 0.2em;color: black;border-radius: 0.25em;background-color: #f0f8ff;}#sk-container-id-7 input.sk-toggleable__control:checked~div.sk-toggleable__content {max-height: 200px;max-width: 100%;overflow: auto;}#sk-container-id-7 input.sk-toggleable__control:checked~label.sk-toggleable__label-arrow:before {content: \"▾\";}#sk-container-id-7 div.sk-estimator input.sk-toggleable__control:checked~label.sk-toggleable__label {background-color: #d4ebff;}#sk-container-id-7 div.sk-label input.sk-toggleable__control:checked~label.sk-toggleable__label {background-color: #d4ebff;}#sk-container-id-7 input.sk-hidden--visually {border: 0;clip: rect(1px 1px 1px 1px);clip: rect(1px, 1px, 1px, 1px);height: 1px;margin: -1px;overflow: hidden;padding: 0;position: absolute;width: 1px;}#sk-container-id-7 div.sk-estimator {font-family: monospace;background-color: #f0f8ff;border: 1px dotted black;border-radius: 0.25em;box-sizing: border-box;margin-bottom: 0.5em;}#sk-container-id-7 div.sk-estimator:hover {background-color: #d4ebff;}#sk-container-id-7 div.sk-parallel-item::after {content: \"\";width: 100%;border-bottom: 1px solid gray;flex-grow: 1;}#sk-container-id-7 div.sk-label:hover label.sk-toggleable__label {background-color: #d4ebff;}#sk-container-id-7 div.sk-serial::before {content: \"\";position: absolute;border-left: 1px solid gray;box-sizing: border-box;top: 0;bottom: 0;left: 50%;z-index: 0;}#sk-container-id-7 div.sk-serial {display: flex;flex-direction: column;align-items: center;background-color: white;padding-right: 0.2em;padding-left: 0.2em;position: relative;}#sk-container-id-7 div.sk-item {position: relative;z-index: 1;}#sk-container-id-7 div.sk-parallel {display: flex;align-items: stretch;justify-content: center;background-color: white;position: relative;}#sk-container-id-7 div.sk-item::before, #sk-container-id-7 div.sk-parallel-item::before {content: \"\";position: absolute;border-left: 1px solid gray;box-sizing: border-box;top: 0;bottom: 0;left: 50%;z-index: -1;}#sk-container-id-7 div.sk-parallel-item {display: flex;flex-direction: column;z-index: 1;position: relative;background-color: white;}#sk-container-id-7 div.sk-parallel-item:first-child::after {align-self: flex-end;width: 50%;}#sk-container-id-7 div.sk-parallel-item:last-child::after {align-self: flex-start;width: 50%;}#sk-container-id-7 div.sk-parallel-item:only-child::after {width: 0;}#sk-container-id-7 div.sk-dashed-wrapped {border: 1px dashed gray;margin: 0 0.4em 0.5em 0.4em;box-sizing: border-box;padding-bottom: 0.4em;background-color: white;}#sk-container-id-7 div.sk-label label {font-family: monospace;font-weight: bold;display: inline-block;line-height: 1.2em;}#sk-container-id-7 div.sk-label-container {text-align: center;}#sk-container-id-7 div.sk-container {/* jupyter's `normalize.less` sets `[hidden] { display: none; }` but bootstrap.min.css set `[hidden] { display: none !important; }` so we also need the `!important` here to be able to override the default hidden behavior on the sphinx rendered scikit-learn.org. See: https://github.com/scikit-learn/scikit-learn/issues/21755 */display: inline-block !important;position: relative;}#sk-container-id-7 div.sk-text-repr-fallback {display: none;}</style><div id=\"sk-container-id-7\" class=\"sk-top-container\"><div class=\"sk-text-repr-fallback\"><pre>LinearRegression()</pre><b>In a Jupyter environment, please rerun this cell to show the HTML representation or trust the notebook. <br />On GitHub, the HTML representation is unable to render, please try loading this page with nbviewer.org.</b></div><div class=\"sk-container\" hidden><div class=\"sk-item\"><div class=\"sk-estimator sk-toggleable\"><input class=\"sk-toggleable__control sk-hidden--visually\" id=\"sk-estimator-id-7\" type=\"checkbox\" checked><label for=\"sk-estimator-id-7\" class=\"sk-toggleable__label sk-toggleable__label-arrow\">LinearRegression</label><div class=\"sk-toggleable__content\"><pre>LinearRegression()</pre></div></div></div></div></div>"
      ],
      "text/plain": [
       "LinearRegression()"
      ]
     },
     "execution_count": 469,
     "metadata": {},
     "output_type": "execute_result"
    }
   ],
   "source": [
    "model = LinearRegression()\n",
    "model.fit(x_train, y_train)"
   ]
  },
  {
   "cell_type": "markdown",
   "metadata": {},
   "source": [
    "- Coeficientes de determinación R2:"
   ]
  },
  {
   "cell_type": "code",
   "execution_count": 470,
   "metadata": {},
   "outputs": [
    {
     "data": {
      "text/plain": [
       "0.7607628677872806"
      ]
     },
     "execution_count": 470,
     "metadata": {},
     "output_type": "execute_result"
    }
   ],
   "source": [
    "model.score(x_train, y_train)"
   ]
  },
  {
   "cell_type": "markdown",
   "metadata": {},
   "source": [
    "CREACIÓN DEL FICHERO CON LAS PREDICCIONES"
   ]
  },
  {
   "cell_type": "markdown",
   "metadata": {},
   "source": [
    "- Definimos los datos de las predicciones:"
   ]
  },
  {
   "cell_type": "code",
   "execution_count": 471,
   "metadata": {},
   "outputs": [],
   "source": [
    "predicciones_target = list(model.predict(x_test))"
   ]
  },
  {
   "cell_type": "markdown",
   "metadata": {},
   "source": [
    "- Sustituimos los valores en el fichero de 'predicciones.csv':"
   ]
  },
  {
   "cell_type": "code",
   "execution_count": 472,
   "metadata": {},
   "outputs": [],
   "source": [
    "predicciones_df = pd.read_csv('predicciones.csv') #Abrimos el fichero\n",
    "predicciones_df['attend'] = predicciones_target #Cambiamos los valores\n",
    "predicciones_df.to_csv('predicciones.csv', index=False) #Volvemos a pasarlo a csv"
   ]
  },
  {
   "cell_type": "code",
   "execution_count": 475,
   "metadata": {},
   "outputs": [
    {
     "data": {
      "text/plain": [
       "[18053.752902087203,\n",
       " 18599.982406756768,\n",
       " 17684.52054380218,\n",
       " 19536.86461391917,\n",
       " 19455.120084849725,\n",
       " 19484.120731051895,\n",
       " 13463.433822111301,\n",
       " 13563.583847553346,\n",
       " 15663.700432926387,\n",
       " 16617.97472972444,\n",
       " 18130.766216936518,\n",
       " 17284.39996756858,\n",
       " 14986.186256702633,\n",
       " 14961.72884159278,\n",
       " 17056.55777362926,\n",
       " 16346.857194462147,\n",
       " 18006.667365571473,\n",
       " 18294.975188375276,\n",
       " 18671.500073045907,\n",
       " 20025.345636059697,\n",
       " 16982.42817753229,\n",
       " 16978.60671877344,\n",
       " 18102.91493313422,\n",
       " 19203.303912927655,\n",
       " 19259.11646740294,\n",
       " 19209.928213426025,\n",
       " 20879.993080237207,\n",
       " 23602.975455943706,\n",
       " 21580.811578666362,\n",
       " 16109.804121211619,\n",
       " 16168.68223395165,\n",
       " 17577.515952093243,\n",
       " 20363.972584909847,\n",
       " 23976.227384014885,\n",
       " 21085.427039690006,\n",
       " 18512.9992084863,\n",
       " 17397.88014095952,\n",
       " 18225.501685751657,\n",
       " 21520.133745545783,\n",
       " 21479.645170383043,\n",
       " 19083.29254454131,\n",
       " 22566.066443875297,\n",
       " 23254.165327228344,\n",
       " 22465.54364120097,\n",
       " 14976.629695671014,\n",
       " 16225.520189935432,\n",
       " 18205.675250498265,\n",
       " 22404.324807615274,\n",
       " 20101.515097190397,\n",
       " 20327.91505094118,\n",
       " 13148.928537946536,\n",
       " 13096.956514368674,\n",
       " 14382.498166241676,\n",
       " 15933.300432114123,\n",
       " 16519.490757975025,\n",
       " 18018.83403336973,\n",
       " 18318.641263383965,\n",
       " 16959.705488028456,\n",
       " 16993.326889324053,\n",
       " 17125.088606490088,\n",
       " 19397.340482289892,\n",
       " 19495.19149126479,\n",
       " 14287.59646015502,\n",
       " 14219.609235319582,\n",
       " 14253.230636615179,\n",
       " 15450.42245540196,\n",
       " 19013.52994081084,\n",
       " 21554.422791691024,\n",
       " 23062.902616226307,\n",
       " 22161.198057505724,\n",
       " 12438.230661011687,\n",
       " 25769.747212430408,\n",
       " 27454.81409498417,\n",
       " 25434.908114730395,\n",
       " 23200.34995014033,\n",
       " 23443.004496046327,\n",
       " 23318.41689865088,\n",
       " 32259.94930214838,\n",
       " 33841.83640294711,\n",
       " 22721.752806662775,\n",
       " 21776.90163374364,\n",
       " 23147.55410046087,\n",
       " 24683.431859749693,\n",
       " 28665.52223056723,\n",
       " 26631.85894607945,\n",
       " 23254.478198243007,\n",
       " 25832.022206731774,\n",
       " 27480.43793167695,\n",
       " 26539.71935727793,\n",
       " 23830.100893524228,\n",
       " 24958.23816053257,\n",
       " 25233.27074931762,\n",
       " 26890.823023403373,\n",
       " 25851.545422342748,\n",
       " 26405.719533278538,\n",
       " 25327.226462712086,\n",
       " 25436.513037294702,\n",
       " 25577.411303601315,\n",
       " 24900.608436838542,\n",
       " 24982.380402953153,\n",
       " 25123.278669259762,\n",
       " 29144.94846098672,\n",
       " 31879.430243903647,\n",
       " 29815.99445392429,\n",
       " 25100.88879236934,\n",
       " 25313.35514870699,\n",
       " 25390.08764893701,\n",
       " 28461.547600934315,\n",
       " 29988.40548479703,\n",
       " 29125.714941754883,\n",
       " 24496.558563710627,\n",
       " 24444.58654013276,\n",
       " 25617.045319312554,\n",
       " 32876.055599450796,\n",
       " 35562.386817548715,\n",
       " 34499.21461295154,\n",
       " 32486.18728481477,\n",
       " 24391.386673966128,\n",
       " 24399.06462241771,\n",
       " 24379.914703800867,\n",
       " 24527.69162222448,\n",
       " 26785.810310050772,\n",
       " 28395.21201931751,\n",
       " 27527.900721181937,\n",
       " 26646.46043567061,\n",
       " 25266.593895811693,\n",
       " 25362.5825896137,\n",
       " 23834.759363064142,\n",
       " 26412.303371552913,\n",
       " 27939.161255415627,\n",
       " 27058.09265304605,\n",
       " 23837.683379555543,\n",
       " 23778.83270386068,\n",
       " 24978.80609150848,\n",
       " 24448.231529442175,\n",
       " 24474.97427862077,\n",
       " 24677.7804139804,\n",
       " 25279.83067770089,\n",
       " 26861.71777849962,\n",
       " 25902.726105819445,\n",
       " 23675.046593346386,\n",
       " 24378.10566561448,\n",
       " 25966.871418530212,\n",
       " 24948.229773820596,\n",
       " 19228.4373313037,\n",
       " 22034.730074211824,\n",
       " 18859.204973018674,\n",
       " 13385.710304210668,\n",
       " 13310.844427258226,\n",
       " 13518.690028502448,\n",
       " 14598.944761300196,\n",
       " 22729.741094885663,\n",
       " 19119.59480223185,\n",
       " 13575.692174039614,\n",
       " 13774.401226143258,\n",
       " 13949.692753034878,\n",
       " 18535.042649339357,\n",
       " 20016.00786540663,\n",
       " 16426.497529103828,\n",
       " 15916.204042390777,\n",
       " 17014.56880390754,\n",
       " 14076.315542944138,\n",
       " 14236.010579369346,\n",
       " 14409.044209237392,\n",
       " 19027.061034923237,\n",
       " 22391.312859414113,\n",
       " 17214.297955718794,\n",
       " 19393.601487827145,\n",
       " 19525.079215589452,\n",
       " 17518.93053956968,\n",
       " 14883.03306957199,\n",
       " 14999.19829627161,\n",
       " 15174.489823163232,\n",
       " 20049.098318574914,\n",
       " 20038.48720995003,\n",
       " 18062.111039421845,\n",
       " 16738.526994066196,\n",
       " 16736.96343233092,\n",
       " 16754.56963236894,\n",
       " 21052.85079730089,\n",
       " 22641.616550216622,\n",
       " 21098.4891134777,\n",
       " 15762.46833580178,\n",
       " 18518.288775264606,\n",
       " 17039.174223679598,\n",
       " 20118.422180582278,\n",
       " 23324.465006382103,\n",
       " 18009.87706034675,\n",
       " 15572.031612874864,\n",
       " 15437.515763892978,\n",
       " 16685.63971635979,\n",
       " 20381.576729490615,\n",
       " 22572.59791551228,\n",
       " 18367.074841869537,\n",
       " 13135.122640616037,\n",
       " 13161.07368734877,\n",
       " 13132.78721959135,\n",
       " 19113.178390896323,\n",
       " 19243.164763432662,\n",
       " 17133.069763860258,\n",
       " 19321.368644134258,\n",
       " 19274.017375649822,\n",
       " 19355.789341764434,\n",
       " 17889.200660804578,\n",
       " 19491.723717954315,\n",
       " 14482.638490825855,\n",
       " 13003.860072723954,\n",
       " 12981.66055463767,\n",
       " 14174.75529016847,\n",
       " 15825.657178986023,\n",
       " 17308.21871132555,\n",
       " 15253.919470486764,\n",
       " 14679.460217697122,\n",
       " 14712.289916546857,\n",
       " 14807.819186895473,\n",
       " 14791.169935705635,\n",
       " 12821.672417294449,\n",
       " 9724.17238575708,\n",
       " 9301.790174858299,\n",
       " 10526.496602113088,\n",
       " 13787.108733888319,\n",
       " 14483.306477224043,\n",
       " 16396.377193450022,\n",
       " 17210.767781100803,\n",
       " 14290.194931284346,\n",
       " 11288.783620394206,\n",
       " 10191.218155212024,\n",
       " 10201.154000687178,\n",
       " 10214.139445631768,\n",
       " 9059.456322165708,\n",
       " 10270.405445186494,\n",
       " 15975.642488910904,\n",
       " 16001.682537894609,\n",
       " 17326.866985265005,\n",
       " 12472.242963649242,\n",
       " 12531.121076389272,\n",
       " 13845.249981165089,\n",
       " 12990.784903371015,\n",
       " 9815.500471398094,\n",
       " 10875.64291968228,\n",
       " 17799.93493893744,\n",
       " 19464.365865140193,\n",
       " 19155.78019038497,\n",
       " 17558.209777302865,\n",
       " 17591.12847840357,\n",
       " 17548.818876543657,\n",
       " 14901.513018537038,\n",
       " 11614.509001207036,\n",
       " 13710.528503324094,\n",
       " 12986.412451018863,\n",
       " 15636.003509257223,\n",
       " 17472.62559059597,\n",
       " 11187.200174159281,\n",
       " 16438.792655996265,\n",
       " 15344.373386423205,\n",
       " 14348.625595088168,\n",
       " 17212.227527615963,\n",
       " 18856.02249746771,\n",
       " 17237.22988744177,\n",
       " 11939.00928648609,\n",
       " 13801.412782082924,\n",
       " 13919.835905806118,\n",
       " 13991.94765094271,\n",
       " 10786.183801783362,\n",
       " 10782.362343024512,\n",
       " 11957.079019227876,\n",
       " 13115.246749580705,\n",
       " 18332.44597083268,\n",
       " 17219.64864193219,\n",
       " 19591.99009264218,\n",
       " 21376.92699109536,\n",
       " 23016.10120585368,\n",
       " 19376.18240770829,\n",
       " 10429.593035275344,\n",
       " 10368.484462556908,\n",
       " 10402.105863852505,\n",
       " 11619.933638990293,\n",
       " 16425.626527524048,\n",
       " 16833.200844099698,\n",
       " 13216.175899328886,\n",
       " 16647.853984160774,\n",
       " 16673.89403314448,\n",
       " 14681.502661358712,\n",
       " 9514.006326186976,\n",
       " 30086.418786513535,\n",
       " 28038.998197791752,\n",
       " 22420.549308798305,\n",
       " 22609.59813992393,\n",
       " 22945.4966221098,\n",
       " 26971.97544415069,\n",
       " 26038.135521868666,\n",
       " 20828.80472839045,\n",
       " 20896.819390271055,\n",
       " 22080.253904823832,\n",
       " 21895.27664716717,\n",
       " 23136.521947516987,\n",
       " 25177.445547004278,\n",
       " 27820.246955376606,\n",
       " 25793.462323005828,\n",
       " 23054.49209019779,\n",
       " 24194.396795024983,\n",
       " 28113.577302162208,\n",
       " 31468.692577512506,\n",
       " 26147.225979360148,\n",
       " 35192.61530779522,\n",
       " 36884.56084246599,\n",
       " 33279.0353049056,\n",
       " 24163.95591496629,\n",
       " 24300.75709801692,\n",
       " 25518.584873154705,\n",
       " 29608.282984661117,\n",
       " 29650.338234902396,\n",
       " 27582.281689829608,\n",
       " 25830.603090562083,\n",
       " 25891.739100325685,\n",
       " 27125.582076721053,\n",
       " 25656.190678514715,\n",
       " 24338.541100125447,\n",
       " 25617.204099881445,\n",
       " 25603.747580792835,\n",
       " 28788.131657380087,\n",
       " 28759.142489427773,\n",
       " 26670.44998800398,\n",
       " 25309.199347906586,\n",
       " 25326.013845498743,\n",
       " 25270.212769273316,\n",
       " 26377.982110539073,\n",
       " 29166.90653455217,\n",
       " 29186.06793141887,\n",
       " 27195.93445665668,\n",
       " 27998.607617931746,\n",
       " 29603.388572105054,\n",
       " 25938.213062515228,\n",
       " 28227.014735460154,\n",
       " 28243.82923305231,\n",
       " 28334.737748307496,\n",
       " 29380.599220520235,\n",
       " 28154.912972809863,\n",
       " 29686.391611766005,\n",
       " 26106.017824603776,\n",
       " 25429.887850106436,\n",
       " 22235.355909766895,\n",
       " 23460.062337021685,\n",
       " 29289.480717840084,\n",
       " 30898.882427106822,\n",
       " 27233.706917516996,\n",
       " 27977.044484064547,\n",
       " 28322.71093158718,\n",
       " 23621.877825868185,\n",
       " 22472.054999742497,\n",
       " 21386.683277059044,\n",
       " 21440.940634705647,\n",
       " 21344.9922722965,\n",
       " 21461.157498996123,\n",
       " 15765.177218599383,\n",
       " 14663.879296909323,\n",
       " 13421.402207575662,\n",
       " 11354.123177669193,\n",
       " 12540.31410043473,\n",
       " 11397.680424439946,\n",
       " 16147.618068672062,\n",
       " 17220.785834161372,\n",
       " 15060.282372746382,\n",
       " 11696.95855906983,\n",
       " 12096.017103689332,\n",
       " 12904.809498881468,\n",
       " 17802.73217308389,\n",
       " 17969.36970322881,\n",
       " 15424.563901475158,\n",
       " 10853.52818575591,\n",
       " 10822.192118529054,\n",
       " 11212.601251695305,\n",
       " 10879.05107980119,\n",
       " 11013.0706939908,\n",
       " 18609.984193292643,\n",
       " 18848.66571236488,\n",
       " 14604.1286230437,\n",
       " 11856.296139978633,\n",
       " 11824.960072751775,\n",
       " 13110.501724624777,\n",
       " 19146.42761364039,\n",
       " 16090.427166931047,\n",
       " 15140.572043391448,\n",
       " 13693.313392234248,\n",
       " 13754.449401997854,\n",
       " 13888.469016187462,\n",
       " 11660.027130895884,\n",
       " 11628.691063669028,\n",
       " 13984.283572256205,\n",
       " 20882.775477175695,\n",
       " 17579.740299792807,\n",
       " 15559.834319539033,\n",
       " 12243.131716965647,\n",
       " 12211.79564973879,\n",
       " 12272.931659502396,\n",
       " 12406.951273692006,\n",
       " 17472.275153179005,\n",
       " 20758.60390735928,\n",
       " 15444.015961323923,\n",
       " 11383.85120321223,\n",
       " 11352.515135985373,\n",
       " 12638.056787858375,\n",
       " 12131.788010741671,\n",
       " 18573.392874103043,\n",
       " 19565.265129459745,\n",
       " 15320.728040138565,\n",
       " 12133.501599654326,\n",
       " 12102.16553242747,\n",
       " 12163.301542191075,\n",
       " 12297.321156380685,\n",
       " 18133.93584595563,\n",
       " 15077.935399246287,\n",
       " 14128.080275706689,\n",
       " 16995.423934500363,\n",
       " 17987.296189857065,\n",
       " 13742.759100535884,\n",
       " 12634.282573138757,\n",
       " 12695.41858290236,\n",
       " 12829.438197091971,\n",
       " 15448.934295573328,\n",
       " 13223.732051502775,\n",
       " 12273.876927963176,\n",
       " 10941.946786570621,\n",
       " 10604.2314493157,\n",
       " 10665.367459079305,\n",
       " 11661.922720859544,\n",
       " 16879.121942111517,\n",
       " 15092.390449401793,\n",
       " 14349.739453468741,\n",
       " 16680.11851315963,\n",
       " 13507.608003192776,\n",
       " 13510.66519655093,\n",
       " 13619.951771133548,\n",
       " 16288.975948405994,\n",
       " 17250.076127537395,\n",
       " 14283.610609925494,\n",
       " 10949.229083129676,\n",
       " 17704.732959296012,\n",
       " 22935.68948478199,\n",
       " 21841.27021520893,\n",
       " 19515.370010569262,\n",
       " 14395.615458621796,\n",
       " 16385.405579514387,\n",
       " 14411.65809692454,\n",
       " 12044.290489260613,\n",
       " 13305.648074123987,\n",
       " 17146.541484541278,\n",
       " 16045.243562851218,\n",
       " 15035.738467282175,\n",
       " 20056.3856919527,\n",
       " 20137.454957872418,\n",
       " 16874.765276181817,\n",
       " 14009.290846789618,\n",
       " 13929.804214743748,\n",
       " 13977.18292027335,\n",
       " 15692.662223050365,\n",
       " 13810.595115005119,\n",
       " 13951.49338131173,\n",
       " 20384.367128534166,\n",
       " 20350.757205488426,\n",
       " 18431.773109966107,\n",
       " 12852.62890651135,\n",
       " 14826.403826146365,\n",
       " 14007.508922698291,\n",
       " 18441.268014565678,\n",
       " 17394.999309811632,\n",
       " 16424.50822992103,\n",
       " 11962.853227080876,\n",
       " 11952.153116205023,\n",
       " 12017.909881062058,\n",
       " 13187.587091380832,\n",
       " 19006.98432706299,\n",
       " 21264.534137231105,\n",
       " 17013.11839579292,\n",
       " 15131.252463376582,\n",
       " 11891.97775701209,\n",
       " 11991.604110616689,\n",
       " 17921.957980740102,\n",
       " 16829.79660819062,\n",
       " 15822.654370691429,\n",
       " 13739.232512411794,\n",
       " 11967.22383823858,\n",
       " 11993.44291557973,\n",
       " 17054.28791075485,\n",
       " 19293.45966159553,\n",
       " 15012.271414665767,\n",
       " 14009.323158149753,\n",
       " 14084.216472147362,\n",
       " 14225.114738453973,\n",
       " 15385.56046899475,\n",
       " 14467.84070901659,\n",
       " 12413.783421878286,\n",
       " 11326.153802171259,\n",
       " 11380.411159817862,\n",
       " 11507.552121890469,\n",
       " 17245.07771917347,\n",
       " 17404.83659720139,\n",
       " 15230.575831552394,\n",
       " 10398.833760156562,\n",
       " 27509.46299159223,\n",
       " 27611.16821386296,\n",
       " 25556.868973024175,\n",
       " 22805.767114296304,\n",
       " 26105.764170459617,\n",
       " 22814.93110048205,\n",
       " 24949.4409464401,\n",
       " 28244.951312551682,\n",
       " 28397.831538462597,\n",
       " 26260.221930422187,\n",
       " 23159.995022734463,\n",
       " 23531.53895888596,\n",
       " 23613.310925000573,\n",
       " 22956.23213864485,\n",
       " 28180.310012013826,\n",
       " 27079.012090323762,\n",
       " 26149.79292313517,\n",
       " 23229.28307402566,\n",
       " 23225.461615266813,\n",
       " 26406.547305407716,\n",
       " 24295.299854178913,\n",
       " 31492.540578590142,\n",
       " 28780.277385898065,\n",
       " 28813.898787193662,\n",
       " 30802.49653709654,\n",
       " 30978.270616382037,\n",
       " 28831.52445920105,\n",
       " 23536.592646960653,\n",
       " 23516.755986944227,\n",
       " 23598.527953058838,\n",
       " 30037.95131564431,\n",
       " 28957.289350305255,\n",
       " 28055.584791584668,\n",
       " 26944.051070829388,\n",
       " 26898.957699368526,\n",
       " 26953.215057015128,\n",
       " 31472.088106138544,\n",
       " 30428.07729840807,\n",
       " 29491.979479102476,\n",
       " 24771.19635927589,\n",
       " 29986.13768350429,\n",
       " 30899.087297816677,\n",
       " 27999.150404351225,\n",
       " 30501.715064795604,\n",
       " 30500.240505311303,\n",
       " 27375.890407758343,\n",
       " 23855.873280332504,\n",
       " 25021.428246747037,\n",
       " 24941.966775349425,\n",
       " 29095.76572589556,\n",
       " 28065.51222239909,\n",
       " 27101.89979462549,\n",
       " 27335.287527605826,\n",
       " 26250.00480717334,\n",
       " 25318.527742961174,\n",
       " 23151.15096331176,\n",
       " 23117.55699906133,\n",
       " 23139.678993146495,\n",
       " 22631.41734019637,\n",
       " 27885.267719056927,\n",
       " 26777.091145249862,\n",
       " 25882.26523864628,\n",
       " 25799.43896029442,\n",
       " 25812.424405239013,\n",
       " 25953.322671545626,\n",
       " 29591.3675849043,\n",
       " 28506.084864471813,\n",
       " 27631.894914219236,\n",
       " 22093.356173017182,\n",
       " 22027.626845205315,\n",
       " 22079.626305828344,\n",
       " 23345.604645785148,\n",
       " 22612.869053984105,\n",
       " 21969.502624112938,\n",
       " 23244.617513210316,\n",
       " 24034.561274584397,\n",
       " 26773.663812594757,\n",
       " 24762.894381481558,\n",
       " 23371.983455602953,\n",
       " 23372.78275193753,\n",
       " 23433.918761701138,\n",
       " 22824.767485035645,\n",
       " 23477.435418645786,\n",
       " 22503.04958066916,\n",
       " 22382.291035921276,\n",
       " 22532.84952320591,\n",
       " 21037.37044102736,\n",
       " 23465.841999965658,\n",
       " 26373.05662760524,\n",
       " 24242.325671681832,\n",
       " 21301.598958281847,\n",
       " 22257.769922365143,\n",
       " 28771.676669640423,\n",
       " 29953.335839563504,\n",
       " 26874.111868008382,\n",
       " 22419.381287754506,\n",
       " 21235.450538409452,\n",
       " 22339.122796419222,\n",
       " 26990.99556616122,\n",
       " 29599.40371394854,\n",
       " 29600.623921814215,\n",
       " 24934.121989829247,\n",
       " 25080.059722020455,\n",
       " 25152.171467157044,\n",
       " 25908.285390160003,\n",
       " 28539.587391321904,\n",
       " 26554.07467165314,\n",
       " 22790.79213213666,\n",
       " 22793.84932549481,\n",
       " 23938.7934962066,\n",
       " 25141.881412969273,\n",
       " 27750.28956075659,\n",
       " 26721.510616744432,\n",
       " 25367.694239148863,\n",
       " 25263.912713021666,\n",
       " 27004.00881251144,\n",
       " 27271.68067896424,\n",
       " 22832.966799389087,\n",
       " 22783.2526728348,\n",
       " 22748.087552960376,\n",
       " 23945.279371747158,\n",
       " 27876.4724093774,\n",
       " 26832.461601646923,\n",
       " 25813.819956937306,\n",
       " 22478.511252625292,\n",
       " 22392.14596846242,\n",
       " 22234.911757790975,\n",
       " 25892.99874517599,\n",
       " 24821.47332897751,\n",
       " 23809.710336384895,\n",
       " 23413.028573619114,\n",
       " 23347.299245807248,\n",
       " 24457.850155934022,\n",
       " 19980.37783507399,\n",
       " 19971.935621221714,\n",
       " 20058.32834242975,\n",
       " 21250.899406123106,\n",
       " 22657.14624925285,\n",
       " 24287.183914870595,\n",
       " 23344.207443448,\n",
       " 20053.355726377762,\n",
       " 19534.622028660455,\n",
       " 19384.77771982057,\n",
       " 19592.204610273628,\n",
       " 23848.594311330897,\n",
       " 32448.75866992263,\n",
       " 34129.20479738296,\n",
       " 31080.519873117024,\n",
       " 27975.426049142698,\n",
       " 27916.575373447835,\n",
       " 27874.53160145641,\n",
       " 28022.30851988002,\n",
       " 32206.66615217194,\n",
       " 34941.14793508887,\n",
       " 32884.59079722651,\n",
       " 27544.04841566512,\n",
       " 28039.408089922646,\n",
       " 28011.12162216523,\n",
       " 27114.6428717289,\n",
       " 27210.172142077517,\n",
       " 27309.798495682116,\n",
       " 29321.347111462208,\n",
       " 32071.844095636712,\n",
       " 30065.695419616946,\n",
       " 32083.442079509754,\n",
       " 34044.09716979121,\n",
       " 30786.028243194036,\n",
       " 27259.590662903032,\n",
       " 27269.52650837819,\n",
       " 27358.1771266098,\n",
       " 28767.488015838102,\n",
       " 28869.895938303718,\n",
       " 29017.67285672733,\n",
       " 33527.24125835823,\n",
       " 35102.24970703997,\n",
       " 34193.66649620238,\n",
       " 30408.649051157467,\n",
       " 30411.70624451562,\n",
       " 31664.45095207586,\n",
       " 30697.646355875528,\n",
       " 31474.530241869154,\n",
       " 30669.392642655086,\n",
       " 29730.17632559075,\n",
       " 32298.583784938943,\n",
       " 34973.41559582643,\n",
       " 32533.53316025911,\n",
       " 34456.61615716606,\n",
       " 35918.54173315459,\n",
       " 33912.39305713482,\n",
       " 28918.635367432977,\n",
       " 28928.571212908133,\n",
       " 30052.87942726891,\n",
       " 34586.56821877284,\n",
       " 37128.447742413715,\n",
       " 34086.641470264774,\n",
       " 29388.414568372755,\n",
       " 29350.199849028897,\n",
       " 29192.96563835745,\n",
       " 29387.247603144817,\n",
       " 33318.62041970313,\n",
       " 30060.55149310596,\n",
       " 28581.177611929834,\n",
       " 28508.569632000967,\n",
       " 28521.55507694556,\n",
       " 29801.290721136364,\n",
       " 33215.60331621958,\n",
       " 35844.64742035791,\n",
       " 32743.191176179535,\n",
       " 27527.03450852872,\n",
       " 27500.31919639529,\n",
       " 28583.355498054058,\n",
       " 30825.341855181076,\n",
       " 32374.011446664495,\n",
       " 30299.076249474707,\n",
       " 28707.88579343682,\n",
       " 31373.58105518373,\n",
       " 29353.67507492996,\n",
       " 27404.42195873755,\n",
       " 11089.240329434935,\n",
       " 13805.344053024433,\n",
       " 10145.68530240895,\n",
       " 7741.660573631298,\n",
       " 10202.999853413708,\n",
       " 12389.302324874234,\n",
       " 18397.83011722174,\n",
       " 13007.576997899361,\n",
       " 9585.103713089897,\n",
       " 9567.524950097046,\n",
       " 10705.590468691826,\n",
       " 9738.144213310374,\n",
       " 10855.573775554149,\n",
       " 12503.17816453712,\n",
       " 15018.814303972867,\n",
       " 17838.864351115,\n",
       " 15680.618786723582,\n",
       " 11412.73628113939,\n",
       " 11379.142316888963,\n",
       " 12524.086487600747,\n",
       " 21146.701115301134,\n",
       " 21138.347903699825,\n",
       " 19097.805967095046,\n",
       " 12409.939903901097,\n",
       " 12406.118445142249,\n",
       " 12430.60329729727,\n",
       " 13655.30972455206,\n",
       " 17198.662738985448,\n",
       " 17284.352759998597,\n",
       " 15147.50969375579,\n",
       " 13045.937508692668,\n",
       " 13093.31621422227,\n",
       " 14258.372669447615,\n",
       " 16632.60486812539,\n",
       " 18235.127925275126,\n",
       " 17299.03010596953,\n",
       " 13972.448065183205,\n",
       " 16622.039123421568,\n",
       " 16317.340462894532,\n",
       " 12837.305352504547,\n",
       " 14426.07110542028,\n",
       " 14696.00086889665,\n",
       " 11979.263337711702,\n",
       " 13110.450204189483,\n",
       " 17183.00653919582,\n",
       " 19767.42919980159,\n",
       " 21369.95225695133,\n",
       " 20406.339829177723,\n",
       " 10721.587152027547,\n",
       " 10671.873025473258,\n",
       " 10457.351700842222,\n",
       " 9875.384590840162,\n",
       " 15078.826507858132,\n",
       " 15077.351948373827,\n",
       " 13064.324620237056,\n",
       " 11364.062544902823,\n",
       " 11332.726477675966,\n",
       " 12484.549300504754,\n",
       " 12748.024386063164,\n",
       " 17645.229408994484,\n",
       " 15334.758888341577,\n",
       " 10479.769581284556,\n",
       " 10485.084671666282,\n",
       " 11623.150190261065,\n",
       " 15372.619233336663,\n",
       " 15812.32891347375,\n",
       " 14917.503006870167,\n",
       " 11328.587138563937,\n",
       " 10144.656389218882,\n",
       " 11305.615761188245,\n",
       " 14491.230010563868,\n",
       " 14205.434769321155,\n",
       " 15785.063973096312,\n",
       " 14809.95213811228,\n",
       " 11028.215932250037,\n",
       " 11361.337951456697,\n",
       " 11257.764816788262,\n",
       " 17290.991189113443,\n",
       " 16694.139848640203,\n",
       " 14653.597912035426,\n",
       " 14692.919529764466,\n",
       " 18567.9188281257,\n",
       " 15610.694820700657,\n",
       " 14087.123623148193,\n",
       " 13987.001034751316,\n",
       " 13993.107827578904,\n",
       " 12516.359182339762,\n",
       " 12457.508506644896,\n",
       " 13581.816721005674,\n",
       " 13315.184304062606,\n",
       " 19228.682191034968,\n",
       " 17550.280586637127,\n",
       " 16511.002985576502,\n",
       " 17223.371728835435,\n",
       " 18839.652090219173,\n",
       " 18143.4049167952,\n",
       " 13518.057707860116,\n",
       " 13517.285848570704,\n",
       " 13651.305462760312,\n",
       " 21700.308560688838,\n",
       " 20001.27099993999,\n",
       " 20255.185562158782,\n",
       " 13602.340176997603,\n",
       " 13557.246805536743,\n",
       " 14665.539818639943,\n",
       " 16082.536506006352,\n",
       " 18913.688464610743,\n",
       " 20454.303652707462,\n",
       " 19086.729970877896,\n",
       " 13037.32965368807,\n",
       " 13259.601536576836,\n",
       " 14404.54570728862,\n",
       " 16520.363941842123,\n",
       " 20189.90585490675,\n",
       " 17145.517266984254,\n",
       " 18787.5879541579,\n",
       " 18747.11533779047,\n",
       " 19871.423552151246,\n",
       " 12751.404203132035,\n",
       " 15276.176891708361,\n",
       " 21215.91816288585,\n",
       " 15878.436363475912,\n",
       " 12793.643794395903,\n",
       " 12782.943683520052,\n",
       " 11498.371502174841,\n",
       " 11164.915888958174,\n",
       " 13111.176200125181,\n",
       " 12292.281296677105,\n",
       " 15056.062742334565,\n",
       " 16592.057175337854,\n",
       " 17626.67708230912,\n",
       " 11811.81791119134,\n",
       " 13746.578815147916,\n",
       " 12865.776042646823,\n",
       " 15809.661315729794,\n",
       " 17273.529184785617,\n",
       " 15290.274362140426,\n",
       " 14332.150830955936,\n",
       " 13272.035819716915,\n",
       " 13319.414525246517,\n",
       " 13509.143990345892,\n",
       " 15127.682248753206,\n",
       " 14102.161951926586,\n",
       " 10896.990263601405,\n",
       " 18998.3317309447,\n",
       " 19517.046627146257,\n",
       " 18567.19150360666,\n",
       " 15779.961002238897,\n",
       " 14321.079520046591,\n",
       " 14595.63003861639,\n",
       " 10830.149794073142,\n",
       " 10891.285803836747,\n",
       " 12095.35627474053,\n",
       " 8311.822678654373,\n",
       " 8710.881223273875,\n",
       " 8772.01723303748,\n",
       " 9976.087703941264,\n",
       " 14767.698789605489,\n",
       " 14378.868164127358,\n",
       " 13429.01304058776,\n",
       " 12641.644858814261,\n",
       " 12775.664473003872,\n",
       " 15565.953176717312,\n",
       " 16247.173407953358,\n",
       " 17521.94939348117,\n",
       " 9637.125065333763,\n",
       " 9605.788998106907,\n",
       " 10736.975864584687,\n",
       " 10957.814721540393,\n",
       " 9856.427797599361,\n",
       " 10987.61466407714,\n",
       " 14549.263540416883,\n",
       " 17208.08015004679,\n",
       " 18482.8561355746,\n",
       " 12825.094995625306,\n",
       " 12886.23100538891,\n",
       " 14090.301476292696,\n",
       " 17913.531471506227,\n",
       " 16207.615258640377,\n",
       " 15257.76013510078,\n",
       " 13982.396180740838,\n",
       " 16532.4255807616,\n",
       " 18121.19133367733,\n",
       " 20062.05692186335,\n",
       " 16886.831767265998,\n",
       " 16855.49570003914,\n",
       " 17986.68256651692,\n",
       " 16567.699110960864,\n",
       " 18156.464863876594,\n",
       " 17206.609740336997,\n",
       " 11201.740698472237,\n",
       " 11170.40463124538,\n",
       " 11231.540641008984,\n",
       " 12435.611111912769,\n",
       " 14675.667863577943,\n",
       " 14286.837238099812,\n",
       " 16631.664080341798,\n",
       " 14806.962979137545,\n",
       " 14418.132353659415,\n",
       " 16762.9591959014,\n",
       " 9531.858550425903,\n",
       " 9592.994560189509,\n",
       " 10797.065031093294,\n",
       " 9338.757410335103,\n",
       " 9307.421343108246,\n",
       " 10438.608209586027,\n",
       " 10166.142563509864,\n",
       " 14693.768341924484,\n",
       " 15374.98857316053,\n",
       " 15494.148762607865,\n",
       " 16370.358217060697,\n",
       " 14453.897848430439,\n",
       " 13367.522231453306,\n",
       " 13731.88234225964,\n",
       " 12782.027218720043,\n",
       " 11391.116292841438,\n",
       " 11359.78022561458,\n",
       " 29628.08989080634,\n",
       " 30194.95535182691,\n",
       " 28087.88479107568,\n",
       " 24728.416008511136,\n",
       " 24745.230506103297,\n",
       " 24799.4878637499,\n",
       " 25976.043726185675,\n",
       " 31601.25274184859,\n",
       " 31645.581847908757,\n",
       " 31720.475161906368,\n",
       " 30725.94360208702,\n",
       " 32965.1153529277,\n",
       " 29584.593975560623,\n",
       " 33075.73527674745,\n",
       " 34264.27309878753,\n",
       " 32003.172171391074,\n",
       " 25863.67444845788,\n",
       " 25852.974337582033,\n",
       " 26575.418046770465,\n",
       " 27772.60986555725,\n",
       " 31508.14444943231,\n",
       " 31536.44239543959,\n",
       " 31443.72433173709,\n",
       " 25282.62635846353,\n",
       " 25230.654334885672,\n",
       " 25262.017839157696,\n",
       " 27935.052848530177,\n",
       " 28030.58211887879,\n",
       " 28182.979792395832,\n",
       " 32708.340433829184,\n",
       " 33641.926004492576,\n",
       " 30707.595850442114,\n",
       " 33485.694746695524,\n",
       " 33447.56902960264,\n",
       " 30371.36949686869,\n",
       " 30377.363751304714,\n",
       " 30366.663640428866,\n",
       " 30400.285041724463,\n",
       " 28424.190674122292,\n",
       " 33664.28374874884,\n",
       " 34533.70355333564,\n",
       " 30072.5899686026,\n",
       " 33646.68576669248,\n",
       " 32465.101916621963,\n",
       " 30534.618413889217,\n",
       " 30392.00132515297,\n",
       " 30340.02930157511,\n",
       " 30428.679919806724,\n",
       " 33035.181747446004,\n",
       " 31991.170939715532,\n",
       " 31976.375946323627,\n",
       " 29106.430142606823,\n",
       " 29081.97272749697,\n",
       " 27840.930355877346,\n",
       " 27954.31401371595,\n",
       " 34010.97098114184,\n",
       " 34910.16329122022,\n",
       " 35304.90836353635,\n",
       " 26621.53345137436,\n",
       " 26500.774906626473,\n",
       " 26628.43954053653,\n",
       " 27042.506441629674,\n",
       " 32259.705662881646,\n",
       " 35568.9282704365,\n",
       " 30226.82571593314,\n",
       " 25751.79745011663,\n",
       " ...]"
      ]
     },
     "execution_count": 475,
     "metadata": {},
     "output_type": "execute_result"
    }
   ],
   "source": [
    "list(model.predict(x_train))"
   ]
  },
  {
   "cell_type": "markdown",
   "metadata": {},
   "source": [
    "- Comprobemos la eficiencia del modelo usando el error relativo medio"
   ]
  },
  {
   "cell_type": "code",
   "execution_count": 492,
   "metadata": {},
   "outputs": [
    {
     "name": "stdout",
     "output_type": "stream",
     "text": [
      "El error relativo medio es de 0.05011541471820052%\n"
     ]
    }
   ],
   "source": [
    "sumatorio = sum(abs(model.predict(x_train)-y_train)) #Suma de la diferencia entre la estimación y los valores reales\n",
    "sumatorio2 = sum(y_train) #Suma de los valores reales\n",
    "n = predicciones_df.shape[0] #Tamaño de los datos\n",
    "error = 100*(1/n)*(sumatorio/sumatorio2) #Calculo del error\n",
    "print(f'El error relativo medio es de {error}%')"
   ]
  }
 ],
 "metadata": {
  "kernelspec": {
   "display_name": "Python 3",
   "language": "python",
   "name": "python3"
  },
  "language_info": {
   "codemirror_mode": {
    "name": "ipython",
    "version": 3
   },
   "file_extension": ".py",
   "mimetype": "text/x-python",
   "name": "python",
   "nbconvert_exporter": "python",
   "pygments_lexer": "ipython3",
   "version": "3.10.12"
  }
 },
 "nbformat": 4,
 "nbformat_minor": 2
}
