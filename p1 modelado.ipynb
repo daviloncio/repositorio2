{
 "cells": [
  {
   "cell_type": "code",
   "execution_count": 1,
   "metadata": {},
   "outputs": [
    {
     "name": "stderr",
     "output_type": "stream",
     "text": [
      "C:\\Users\\juanj\\AppData\\Local\\Temp\\ipykernel_4460\\253897215.py:4: DtypeWarning: Columns (10) have mixed types. Specify dtype option on import or set low_memory=False.\n",
      "  movies=pd.read_csv('C:/Users/juanj/OneDrive/Documentos/3er cuatri/repositorio2/repositorio2/movies_metadata.csv')\n"
     ]
    },
    {
     "name": "stdout",
     "output_type": "stream",
     "text": [
      "91106\n",
      "32\n"
     ]
    }
   ],
   "source": [
    "import pandas as pd\n",
    "import ast\n",
    "\n",
    "movies=pd.read_csv('C:/Users/juanj/OneDrive/Documentos/3er cuatri/repositorio2/repositorio2/movies_metadata.csv')\n",
    "\n",
    "unique_genres=list()\n",
    "for i in range(len(movies[\"genres\"])):\n",
    "    j = ast.literal_eval(movies[\"genres\"].iloc[i])\n",
    "    for element in j:\n",
    "        unique_genres.append(element)\n",
    "\n",
    "print(len(unique_genres))\n",
    "juan = pd.DataFrame(unique_genres).drop_duplicates()\n",
    "print(len(juan))\n"
   ]
  }
 ],
 "metadata": {
  "kernelspec": {
   "display_name": "Python 3",
   "language": "python",
   "name": "python3"
  },
  "language_info": {
   "codemirror_mode": {
    "name": "ipython",
    "version": 3
   },
   "file_extension": ".py",
   "mimetype": "text/x-python",
   "name": "python",
   "nbconvert_exporter": "python",
   "pygments_lexer": "ipython3",
   "version": "3.10.11"
  },
  "orig_nbformat": 4
 },
 "nbformat": 4,
 "nbformat_minor": 2
}
