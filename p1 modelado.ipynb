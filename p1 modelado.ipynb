{
 "cells": [
  {
   "cell_type": "code",
   "execution_count": 11,
   "metadata": {},
   "outputs": [
    {
     "ename": "SyntaxError",
     "evalue": "(unicode error) 'unicodeescape' codec can't decode bytes in position 2-3: truncated \\UXXXXXXXX escape (864037939.py, line 4)",
     "output_type": "error",
     "traceback": [
      "\u001b[1;36m  Cell \u001b[1;32mIn[11], line 4\u001b[1;36m\u001b[0m\n\u001b[1;33m    movies=pd.read_csv('C:\\Users\\juanj\\Documentos\\3er cuatri\\repositorio2\\repositorio2\\movies_dataset.csv')\u001b[0m\n\u001b[1;37m                                                                                                          ^\u001b[0m\n\u001b[1;31mSyntaxError\u001b[0m\u001b[1;31m:\u001b[0m (unicode error) 'unicodeescape' codec can't decode bytes in position 2-3: truncated \\UXXXXXXXX escape\n"
     ]
    }
   ],
   "source": [
    "import pandas as pd\n",
    "import ast\n",
    "\n",
    "movies=pd.read_csv('C:/Users/juanj/Documentos/3er cuatri/repositorio2/repositorio2/movies_dataset.csv')\n",
    "\n",
    "unique_genres=list()\n",
    "for i in range(len(movies[\"genres\"])):\n",
    "    j = ast.literal_eval(movies[\"genres\"].iloc[i])\n",
    "    for element in j:\n",
    "        unique_genres.append(element)\n",
    "\n",
    "print(len(unique_genres))\n",
    "juan = pd.DataFrame(unique_genres).drop_duplicates()\n",
    "print(len(juan))\n"
   ]
  }
 ],
 "metadata": {
  "kernelspec": {
   "display_name": "Python 3",
   "language": "python",
   "name": "python3"
  },
  "language_info": {
   "codemirror_mode": {
    "name": "ipython",
    "version": 3
   },
   "file_extension": ".py",
   "mimetype": "text/x-python",
   "name": "python",
   "nbconvert_exporter": "python",
   "pygments_lexer": "ipython3",
   "version": "3.10.11"
  },
  "orig_nbformat": 4
 },
 "nbformat": 4,
 "nbformat_minor": 2
}
