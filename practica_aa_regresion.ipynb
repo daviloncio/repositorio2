{
 "cells": [
  {
   "cell_type": "code",
   "execution_count": 152,
   "metadata": {},
   "outputs": [],
   "source": [
    "import pandas as pd \n",
    "pd.set_option('display.max_columns', None)\n",
    "pd.set_option('display.max_rows', 14)\n",
    "data=pd.read_csv('C:/Users/juanj/Documents/3ercuatri/aprendizaje automatico/dataset_housing_preprocesado_train.csv')\n",
    "\n"
   ]
  },
  {
   "cell_type": "code",
   "execution_count": 153,
   "metadata": {},
   "outputs": [
    {
     "name": "stdout",
     "output_type": "stream",
     "text": [
      "<class 'pandas.core.frame.DataFrame'>\n",
      "RangeIndex: 781 entries, 0 to 780\n",
      "Columns: 153 entries, LotFrontage to Foundation_PConc\n",
      "dtypes: float64(2), int64(151)\n",
      "memory usage: 933.7 KB\n"
     ]
    }
   ],
   "source": [
    "data.info()"
   ]
  },
  {
   "cell_type": "code",
   "execution_count": 154,
   "metadata": {},
   "outputs": [],
   "source": [
    "del(data['Exterior_CBlock'])  #borramos la columna de ceros que no nos dejaba hacer la matriz de covarianza"
   ]
  },
  {
   "cell_type": "markdown",
   "metadata": {},
   "source": [
    "Ahora procedemos a eliminar aquellas variables colineales, las detectaremos al ver en la matriz de correlación valores superiores a | 0.8 |, ya que nos ha parecido un valor óptimo para ver las colineales. Tiene que ser valor absoluto ya que pueder ser colineales y tener correlación negativa."
   ]
  },
  {
   "cell_type": "code",
   "execution_count": 155,
   "metadata": {},
   "outputs": [
    {
     "name": "stdout",
     "output_type": "stream",
     "text": [
      "<class 'pandas.core.frame.DataFrame'>\n",
      "RangeIndex: 781 entries, 0 to 780\n",
      "Columns: 152 entries, LotFrontage to Foundation_PConc\n",
      "dtypes: float64(2), int64(150)\n",
      "memory usage: 927.6 KB\n"
     ]
    }
   ],
   "source": [
    "matriz_cor=data.corr()\n",
    "data.info()"
   ]
  },
  {
   "cell_type": "code",
   "execution_count": 156,
   "metadata": {},
   "outputs": [
    {
     "name": "stdout",
     "output_type": "stream",
     "text": [
      "<class 'pandas.core.frame.DataFrame'>\n"
     ]
    }
   ],
   "source": [
    "#si detectamos una correlación entre dos variables, tenemos que borrar ambas?\n",
    "print(type(data))\n",
    "numsmasque08=[]\n",
    "list_columnas_a_eliminar=[]\n",
    "a=0 ; import numpy as np ;\n",
    "for tupla in matriz_cor.iterrows(): #saco variable\n",
    "    \n",
    "    serie=tupla[1]\n",
    "    nombre_columna=tupla[0]   \n",
    "    for num in serie:\n",
    "        \n",
    "        if abs(num)>0.8:\n",
    "            if num==1:\n",
    "                pass\n",
    "            else:\n",
    "                numsmasque08.append(num)\n",
    "                list_columnas_a_eliminar.append(nombre_columna)\n",
    "                \n",
    "                   #eliminamos la columna/fila de matriz_cor o de data?\n",
    "                \n",
    "for nombre in list_columnas_a_eliminar:\n",
    "    del(data[nombre])\n",
    "    \n",
    "\n",
    "\n",
    "   #hay 15 nums cuyo valor absoluto es mayor que 0.8\n",
    "\n"
   ]
  },
  {
   "cell_type": "code",
   "execution_count": 157,
   "metadata": {},
   "outputs": [
    {
     "name": "stdout",
     "output_type": "stream",
     "text": [
      "<class 'pandas.core.frame.DataFrame'>\n",
      "RangeIndex: 781 entries, 0 to 780\n",
      "Columns: 122 entries, LotFrontage to Foundation_PConc\n",
      "dtypes: float64(2), int64(120)\n",
      "memory usage: 744.5 KB\n",
      "119\n"
     ]
    }
   ],
   "source": [
    "data.info()  #ahora salen 122 cols\n",
    "matriz_cor=data.corr() #redefino la matriz de correlación\n",
    "\n",
    "print(np.linalg.matrix_rank(data.cov()))"
   ]
  }
 ],
 "metadata": {
  "kernelspec": {
   "display_name": "Python 3",
   "language": "python",
   "name": "python3"
  },
  "language_info": {
   "codemirror_mode": {
    "name": "ipython",
    "version": 3
   },
   "file_extension": ".py",
   "mimetype": "text/x-python",
   "name": "python",
   "nbconvert_exporter": "python",
   "pygments_lexer": "ipython3",
   "version": "3.10.11"
  },
  "orig_nbformat": 4
 },
 "nbformat": 4,
 "nbformat_minor": 2
}
