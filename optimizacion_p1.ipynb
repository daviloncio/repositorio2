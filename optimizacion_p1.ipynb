{
 "cells": [
  {
   "cell_type": "code",
   "execution_count": 10,
   "metadata": {},
   "outputs": [
    {
     "name": "stdout",
     "output_type": "stream",
     "text": [
      "(2, 3.4000000000000012)\n",
      "(0.2705078125, 12)\n",
      "aaaaaa\n",
      "(0.27094690823040474, 7)\n",
      "(0.2706061078224684, 7)\n"
     ]
    }
   ],
   "source": [
    "import numpy as np\n",
    "\n",
    "def funcion(x):\n",
    "    return x**2-3*x-1\n",
    "def funcion2(x):\n",
    "    return x**2+4*x-6\n",
    "def funcion3(x):\n",
    "    return x**3+ 2*x**2 +10*x -20\n",
    "def funcion4(x):\n",
    "    return 0.5 + -(x + np.sin(x)) * np.exp(-x**2.0)\n",
    "    \n",
    "    \n",
    "\n",
    "def root_bracket(f: callable, a: float, b: float, delta=1.)-> tuple:\n",
    "    '''\n",
    "    Summary: \n",
    "    Se devuelve el intervalo '''\n",
    "    if a > b:\n",
    "        raise Exception('a debe de ser menor que b')\n",
    "    if delta<=0:\n",
    "        raise Exception('delta debe ser un numero positivo')\n",
    "    x = a + delta\n",
    "    f_a = f(a)\n",
    "\n",
    "    while f_a*f(x)>0:\n",
    "        \n",
    "        if x > b:\n",
    "            return (-np.inf,np.inf)\n",
    "        x += delta\n",
    "    return (a,x)\n",
    "\n",
    "print(root_bracket(funcion,2,4,0.1))\n",
    "\n",
    "def bisection(f: callable, a: float, b: float, tol=0.001, maxiter=100)-> tuple[float, int]:\n",
    "    # PREGUNTAR A PROFE.\n",
    "    nit = 0\n",
    "    a,b = root_bracket(f,a,b)\n",
    "    if b == np.inf:\n",
    "        return False\n",
    "    f_a=f(a)\n",
    "    while nit<= maxiter :\n",
    "        mediatriz=(a+b)/2\n",
    "        f_m=f(mediatriz)\n",
    "        nit += 1\n",
    "        if abs(f_m )<=tol:\n",
    "            return (mediatriz,nit)\n",
    "        if f_a*f_m<0:\n",
    "            b=mediatriz\n",
    "\n",
    "        else:\n",
    "            a=mediatriz\n",
    "            f_a=f_m\n",
    "            \n",
    "    \n",
    "\n",
    "print(bisection(funcion4,-3,3))\n",
    "def regula_falsi(f: callable, a: float, b: float, tol=0.001, maxiter=100)-> tuple[float, int]:\n",
    "    nit = 0\n",
    "    a,b = root_bracket(f,a,b)\n",
    "    if b == np.inf:\n",
    "        return False\n",
    "    f_a=f(a); f_b=f(b)\n",
    "\n",
    "    while nit<= maxiter:\n",
    "        nit +=1\n",
    "        pendiente=(f_b-f_a)/(b-a)\n",
    "        x_new=a-f_a/pendiente\n",
    "        f_x_new=f(x_new)\n",
    "        if abs(f_x_new)<=tol:\n",
    "            return (x_new,nit)\n",
    "        if f_a*f_x_new>0:\n",
    "            a,f_a=x_new,f_x_new\n",
    "        else:\n",
    "            b,f_b=x_new,f_x_new\n",
    "            \n",
    "print('aaaaaa')\n",
    "print(regula_falsi(funcion4,-3,3))\n",
    "\n",
    "def secant(f: callable, a: float, b: float, tol=0.001, maxiter=100)-> tuple[float, int]:\n",
    "    nit = 0\n",
    "    a,b = root_bracket(f,a,b)\n",
    "    if b == np.inf:\n",
    "        return False\n",
    "    f_a=f(a); f_b=f(b)\n",
    "    pendiente=(f_b-f_a)/(b-a)\n",
    "    x_new=a-f_a/pendiente\n",
    "    f_x_new=f(x_new)\n",
    "    while abs(f_x_new) > tol and nit<= maxiter:\n",
    "        nit += 1\n",
    "        if a == b:\n",
    "            print(nit)\n",
    "            raise Exception('a y b tiene el mismo valor')\n",
    "        pendiente=(f_b-f_a)/(b-a)\n",
    "        x_new=a-f_a/pendiente\n",
    "        f_x_new=f(x_new)\n",
    "        a, b=b, x_new\n",
    "        f_a, f_b = f_b, f_x_new\n",
    "        \n",
    "        \n",
    "    if abs(f_x_new)<=tol:\n",
    "        return (x_new,nit)\n",
    "    \n",
    "    if nit>maxiter:\n",
    "        return a,b\n",
    "       \n",
    "print(secant(funcion4,-3,3))"
   ]
  },
  {
   "cell_type": "markdown",
   "metadata": {},
   "source": [
    "## III. MINIMIZACION DE FUNCIONES  1-DIMENSIONALES"
   ]
  },
  {
   "cell_type": "code",
   "execution_count": 20,
   "metadata": {},
   "outputs": [
    {
     "name": "stdout",
     "output_type": "stream",
     "text": [
      "(-inf, inf)\n"
     ]
    }
   ],
   "source": [
    "import numpy as np\n",
    "def min_bracket(f: callable, x0: float, x2: float, delta=1.)-> tuple[float, float, float, int]:\n",
    "    f_x0=f(x0) ; f_x2=f(x2)\n",
    "    def operacion(a, suma:bool):\n",
    "        if suma==True:\n",
    "            return a+delta\n",
    "        else:\n",
    "            return a-delta\n",
    "    def next_en_intervalo(next,suma):\n",
    "        if suma==True:\n",
    "            return next < x2\n",
    "        else:\n",
    "            return next < x0\n",
    "    if x0 > x2:\n",
    "        raise Exception('a debe de ser menor que b')\n",
    "    if delta<=0:\n",
    "        raise Exception('delta debe ser un numero positivo')\n",
    "    if f_x0<f_x2: #en este caso empezaremos el proceso en a, si no se cumple en b\n",
    "        suma=True\n",
    "        x1 = x0\n",
    "    else:\n",
    "        x1= x2\n",
    "        suma = False\n",
    "    next= operacion(x1,suma)\n",
    "    while f(next)<f(x1) and next_en_intervalo(next,suma) : \n",
    "          \n",
    "        x1=next\n",
    "        next= operacion(x1,suma)\n",
    "    \n",
    "    if f(next)<f(x1): #si esto es True lo que no se está cumpliendo es f(next)<f(x1), por lo que hallamos un mínimo.\n",
    "        return (-np.inf,np.inf)\n",
    "    else:\n",
    "        return (x0, x1, x2)\n",
    "    \n",
    "    \n",
    "print(min_bracket(funcion4, -3, 1, delta = (1+3)/50))"
   ]
  },
  {
   "cell_type": "code",
   "execution_count": 19,
   "metadata": {},
   "outputs": [
    {
     "name": "stdout",
     "output_type": "stream",
     "text": [
      "(-3, 1.0)\n",
      "(-3, 0.6800000000000002, 1)\n"
     ]
    }
   ],
   "source": [
    "def min_bracket(f: callable, x0: float, x2: float, delta=1.)-> tuple[float, float, float, int]:\n",
    "    f_x0=f(x0) ; f_x2=f(x2)\n",
    "\n",
    "    if x0 > x2:\n",
    "        raise Exception('a debe de ser menor que b')\n",
    "\n",
    "    if delta<=0:\n",
    "        raise Exception('delta debe ser un numero positivo')\n",
    "    \n",
    "    if f(x0) < f(x2):\n",
    "        x1 = x0\n",
    "        next=x1 + delta\n",
    "        while f(next)<f(x1) and x1<x2:\n",
    "            x1, next = next, next + delta\n",
    "            \n",
    "    else:\n",
    "        x1 = x2\n",
    "        next=x1 - delta\n",
    "        while f(next)<f(x1) and x1>x0:   \n",
    "            x1, next = next, next - delta\n",
    "        \n",
    "\n",
    "    if f(next)<f(x1): #si esto es True lo que no se está cumpliendo es f(next)<f(x1), por lo que hallamos un mínimo.\n",
    "        return (-np.inf,np.inf)\n",
    "    else:\n",
    "        return (x0, x1, x2)\n",
    "        \n",
    "#(-2,4)\n",
    "print(root_bracket(funcion4, -3, 3))\n",
    "print(min_bracket(funcion4, -3, 1 , delta = (1+3)/50))"
   ]
  },
  {
   "cell_type": "code",
   "execution_count": 2,
   "metadata": {},
   "outputs": [
    {
     "data": {
      "text/plain": [
       "7"
      ]
     },
     "execution_count": 2,
     "metadata": {},
     "output_type": "execute_result"
    }
   ],
   "source": [
    "eval(\"5\" + \"+\" + \"2\")"
   ]
  },
  {
   "cell_type": "code",
   "execution_count": null,
   "metadata": {},
   "outputs": [],
   "source": []
  }
 ],
 "metadata": {
  "kernelspec": {
   "display_name": "Python 3",
   "language": "python",
   "name": "python3"
  },
  "language_info": {
   "codemirror_mode": {
    "name": "ipython",
    "version": 3
   },
   "file_extension": ".py",
   "mimetype": "text/x-python",
   "name": "python",
   "nbconvert_exporter": "python",
   "pygments_lexer": "ipython3",
   "version": "3.10.11"
  },
  "orig_nbformat": 4
 },
 "nbformat": 4,
 "nbformat_minor": 2
}
