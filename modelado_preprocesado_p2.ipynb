{
 "cells": [
  {
   "cell_type": "code",
   "execution_count": null,
   "metadata": {},
   "outputs": [],
   "source": []
  },
  {
   "cell_type": "code",
   "execution_count": null,
   "metadata": {},
   "outputs": [],
   "source": []
  },
  {
   "cell_type": "code",
   "execution_count": null,
   "metadata": {},
   "outputs": [],
   "source": [
    "#tenemos que crear una función para ,después de haber leido los seis csv de la anterior practica, \n",
    "# y devolver tantos csv nuevos como entidades . Condiciones a tener en cuenta, si es json,\n",
    "#,si en la relación que existe de por medio hay una entidad como pasa con countries o companies\n",
    "\n",
    "#creo que la función ha de coger como parametro una lista, con el nombre de todos aquellos atributos\n",
    "\n",
    "#en los datos nos encontraremos que hay cosas que no encajan, como que budget es un float (usaremos\n",
    "# una func con nombre similar a to int),fillna y isnan, \n",
    "# segun el profe este tratamiento le ha supuesto unas seis lineas de codigo\n",
    "\n",
    "#2a función:sirve para hacer uno a uno los csv que actúan o sirven para relacionar entidades:\n",
    "# en el caso de movie_id e id,pues serán muchas filas donde haya una conexión entre dos identificadores\n",
    "\n",
    "#el sql y el python se conectan de la siguiente forma: en el mismo directorio que el makefile guardaremos nuestros csv, \n",
    "#entraremos a la terminal de postgres y ejecutaremos y enlazaremos nuestos csv de información y haremos una copia de ellos,\n",
    "#para posteriormente meter toda esa info en nuestra database, llenando de información así nuestra base de"
   ]
  },
  {
   "cell_type": "code",
   "execution_count": null,
   "metadata": {},
   "outputs": [],
   "source": [
    "import pandas as pd\n",
    "import ast\n",
    "movies = pd.read_csv('C:/Users/juanj/Documents/3ercuatri/modelado/modelado_p1/movies_metadata.csv')\n",
    "keywords = pd.read_csv('C:/Users/juanj/Documents/3ercuatri/modelado/modelado_p1/keywords.csv')\n",
    "credits = pd.read_csv('C:/Users/juanj/Documents/3ercuatri/modelado/modelado_p1/credits.csv')\n",
    "links = pd.read_csv('C:/Users/juanj/Documents/3ercuatri/modelado/modelado_p1/links.csv')\n",
    "ratings = pd.read_csv('C:/Users/juanj/Documents/3ercuatri/modelado/modelado_p1/keywords.csv')\n",
    "links = pd.read_csv('C:/Users/juanj/Documents/3ercuatri/modelado/modelado_p1/links.csv')"
   ]
  },
  {
   "cell_type": "code",
   "execution_count": null,
   "metadata": {},
   "outputs": [],
   "source": [
    "import pandas as pd  #intentar generalizar\n",
    "import ast\n",
    "#?movies = pd.read_csv(\"C:/Users/Jaime Fuentes/Documents/seg/Modelado/archive/movies_metadata.csv\",low_memory=False)\n",
    "genres_list=list()\n",
    "for i in range(len(movies[\"genres\"])):\n",
    "    j = ast.literal_eval(movies[\"genres\"].iloc[i])\n",
    "    for element in j:\n",
    "        genres_list.append(element)\n",
    "        \n",
    "print(genres_list)\n",
    "genres_df = pd.DataFrame(genres_list).drop_duplicates()\n",
    "genres_df.to_csv(\"generos.csv\", index=False)"
   ]
  },
  {
   "cell_type": "code",
   "execution_count": null,
   "metadata": {},
   "outputs": [],
   "source": [
    "#el type de los json es str\n",
    "#tras los literealeval es lista de diccionarios\n",
    "def la_funcion():\n",
    "    pass\n",
    "        \n",
    "la_funcion()\n"
   ]
  },
  {
   "cell_type": "code",
   "execution_count": null,
   "metadata": {},
   "outputs": [],
   "source": [
    "def la_funcion(dataset, name, atributos = list ):  #func para usar en un bucle\n",
    "    dataset= pd.read_csv(dataset, low_memory=False)\n",
    "    name=pd.DataFrame()\n",
    "    for element in atributos:\n",
    "        name[element]=dataset[element]\n",
    "    \n",
    "\n",
    "    \n",
    "la_funcion('C:/Users/juanj/Documents/3ercuatri/modelado/modelado_p1/movies_metadata.csv', \"budget\", \"budget\")"
   ]
  },
  {
   "cell_type": "code",
   "execution_count": null,
   "metadata": {},
   "outputs": [],
   "source": [
    "def get_jsons(filename, name, keys = list):\n",
    "    dataframe = pd.read_csv(filename, low_memory=False)\n",
    "    element_list=list()\n",
    "    for i in range(len(dataframe[keys])):\n",
    "        j = ast.literal_eval(movies[\"genres\"].iloc[i])\n",
    "        for element in j:\n",
    "            element_list.append(element)\n",
    "    df = pd.DataFrame(genres_list).drop_duplicates()\n",
    "    df.to_csv(name, index=False)\n",
    "    \n",
    "    "
   ]
  },
  {
   "cell_type": "code",
   "execution_count": null,
   "metadata": {},
   "outputs": [],
   "source": [
    "def get_dict_list(filename, atribute_name,row -> [tuple]):  #estamos dentro de una columna json\n",
    "    "
   ]
  },
  {
   "cell_type": "code",
   "execution_count": null,
   "metadata": {},
   "outputs": [],
   "source": [
    "def union_celdas_columna():\n",
    "    "
   ]
  }
 ],
 "metadata": {
  "kernelspec": {
   "display_name": "Python 3",
   "language": "python",
   "name": "python3"
  },
  "language_info": {
   "codemirror_mode": {
    "name": "ipython",
    "version": 3
   },
   "file_extension": ".py",
   "mimetype": "text/x-python",
   "name": "python",
   "nbconvert_exporter": "python",
   "pygments_lexer": "ipython3",
   "version": "3.10.11"
  }
 },
 "nbformat": 4,
 "nbformat_minor": 2
}
