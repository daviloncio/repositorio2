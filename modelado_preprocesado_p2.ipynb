{
 "cells": [
  {
   "cell_type": "code",
   "execution_count": null,
   "metadata": {},
   "outputs": [],
   "source": [
    "#tenemos que crear una función para ,después de haber leido los seis csv de la anterior practica, \n",
    "# y devolver tantos csv nuevos como entidades . Condiciones a tener en cuenta, si es json,\n",
    "#,si en la relación que existe de por medio hay una entidad como pasa con countries o companies\n",
    "\n",
    "#creo que la función ha de coger como parametro una lista, con el nombre de todos aquellos atributos\n",
    "\n",
    "#en los datos nos encontraremos que hay cosas que no encajan, como que budget es un float (usaremos\n",
    "# una func con nombre similar a to int),fillna y isnan, \n",
    "# segun el profe este tratamiento le ha supuesto unas seis lineas de codigo\n",
    "\n",
    "#2a función:sirve para hacer uno a uno los csv que actúan o sirven para relacionar entidades:\n",
    "# en el caso de movie_id e id,pues serán muchas filas donde haya una conexión entre dos identificadores\n",
    "\n",
    "#el sql y el python se conectan de la siguiente forma: en el mismo directorio que el makefile guardaremos nuestros csv, \n",
    "#entraremos a la terminal de postgres y ejecutaremos y enlazaremos nuestos csv de información y haremos una copia de ellos,\n",
    "#para posteriormente meter toda esa info en nuestra database, llenando de información así nuestra base de"
   ]
  }
 ],
 "metadata": {
  "language_info": {
   "name": "python"
  }
 },
 "nbformat": 4,
 "nbformat_minor": 2
}
