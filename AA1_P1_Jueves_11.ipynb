{
 "cells": [
  {
   "cell_type": "code",
   "execution_count": 2,
   "metadata": {},
   "outputs": [],
   "source": [
    "#-- EJERCICIO 1 --\n",
    "import numpy as np, pandas as pd, seaborn as sns\n",
    "from matplotlib import pyplot as plt\n",
    "pd.options.display.max_rows = 500"
   ]
  },
  {
   "cell_type": "code",
   "execution_count": 3,
   "metadata": {},
   "outputs": [
    {
     "data": {
      "text/html": [
       "<div>\n",
       "<style scoped>\n",
       "    .dataframe tbody tr th:only-of-type {\n",
       "        vertical-align: middle;\n",
       "    }\n",
       "\n",
       "    .dataframe tbody tr th {\n",
       "        vertical-align: top;\n",
       "    }\n",
       "\n",
       "    .dataframe thead th {\n",
       "        text-align: right;\n",
       "    }\n",
       "</style>\n",
       "<table border=\"1\" class=\"dataframe\">\n",
       "  <thead>\n",
       "    <tr style=\"text-align: right;\">\n",
       "      <th></th>\n",
       "      <th>Id</th>\n",
       "      <th>MSSubClass</th>\n",
       "      <th>MSZoning</th>\n",
       "      <th>LotFrontage</th>\n",
       "      <th>LotArea</th>\n",
       "      <th>Street</th>\n",
       "      <th>Alley</th>\n",
       "      <th>LotShape</th>\n",
       "      <th>LandContour</th>\n",
       "      <th>Utilities</th>\n",
       "      <th>...</th>\n",
       "      <th>PoolArea</th>\n",
       "      <th>PoolQC</th>\n",
       "      <th>Fence</th>\n",
       "      <th>MiscFeature</th>\n",
       "      <th>MiscVal</th>\n",
       "      <th>MoSold</th>\n",
       "      <th>YrSold</th>\n",
       "      <th>SaleType</th>\n",
       "      <th>SaleCondition</th>\n",
       "      <th>SalePrice</th>\n",
       "    </tr>\n",
       "  </thead>\n",
       "  <tbody>\n",
       "    <tr>\n",
       "      <th>0</th>\n",
       "      <td>1</td>\n",
       "      <td>60</td>\n",
       "      <td>RL</td>\n",
       "      <td>65.0</td>\n",
       "      <td>8450</td>\n",
       "      <td>Pave</td>\n",
       "      <td>NaN</td>\n",
       "      <td>Reg</td>\n",
       "      <td>Lvl</td>\n",
       "      <td>AllPub</td>\n",
       "      <td>...</td>\n",
       "      <td>0</td>\n",
       "      <td>NaN</td>\n",
       "      <td>NaN</td>\n",
       "      <td>NaN</td>\n",
       "      <td>0</td>\n",
       "      <td>2</td>\n",
       "      <td>2008</td>\n",
       "      <td>WD</td>\n",
       "      <td>Normal</td>\n",
       "      <td>208500</td>\n",
       "    </tr>\n",
       "    <tr>\n",
       "      <th>1</th>\n",
       "      <td>2</td>\n",
       "      <td>20</td>\n",
       "      <td>RL</td>\n",
       "      <td>80.0</td>\n",
       "      <td>9600</td>\n",
       "      <td>Pave</td>\n",
       "      <td>NaN</td>\n",
       "      <td>Reg</td>\n",
       "      <td>Lvl</td>\n",
       "      <td>AllPub</td>\n",
       "      <td>...</td>\n",
       "      <td>0</td>\n",
       "      <td>NaN</td>\n",
       "      <td>NaN</td>\n",
       "      <td>NaN</td>\n",
       "      <td>0</td>\n",
       "      <td>5</td>\n",
       "      <td>2007</td>\n",
       "      <td>WD</td>\n",
       "      <td>Normal</td>\n",
       "      <td>181500</td>\n",
       "    </tr>\n",
       "    <tr>\n",
       "      <th>2</th>\n",
       "      <td>3</td>\n",
       "      <td>60</td>\n",
       "      <td>RL</td>\n",
       "      <td>68.0</td>\n",
       "      <td>11250</td>\n",
       "      <td>Pave</td>\n",
       "      <td>NaN</td>\n",
       "      <td>IR1</td>\n",
       "      <td>Lvl</td>\n",
       "      <td>AllPub</td>\n",
       "      <td>...</td>\n",
       "      <td>0</td>\n",
       "      <td>NaN</td>\n",
       "      <td>NaN</td>\n",
       "      <td>NaN</td>\n",
       "      <td>0</td>\n",
       "      <td>9</td>\n",
       "      <td>2008</td>\n",
       "      <td>WD</td>\n",
       "      <td>Normal</td>\n",
       "      <td>223500</td>\n",
       "    </tr>\n",
       "    <tr>\n",
       "      <th>3</th>\n",
       "      <td>4</td>\n",
       "      <td>70</td>\n",
       "      <td>RL</td>\n",
       "      <td>60.0</td>\n",
       "      <td>9550</td>\n",
       "      <td>Pave</td>\n",
       "      <td>NaN</td>\n",
       "      <td>IR1</td>\n",
       "      <td>Lvl</td>\n",
       "      <td>AllPub</td>\n",
       "      <td>...</td>\n",
       "      <td>0</td>\n",
       "      <td>NaN</td>\n",
       "      <td>NaN</td>\n",
       "      <td>NaN</td>\n",
       "      <td>0</td>\n",
       "      <td>2</td>\n",
       "      <td>2006</td>\n",
       "      <td>WD</td>\n",
       "      <td>Abnorml</td>\n",
       "      <td>140000</td>\n",
       "    </tr>\n",
       "    <tr>\n",
       "      <th>4</th>\n",
       "      <td>5</td>\n",
       "      <td>60</td>\n",
       "      <td>RL</td>\n",
       "      <td>84.0</td>\n",
       "      <td>14260</td>\n",
       "      <td>Pave</td>\n",
       "      <td>NaN</td>\n",
       "      <td>IR1</td>\n",
       "      <td>Lvl</td>\n",
       "      <td>AllPub</td>\n",
       "      <td>...</td>\n",
       "      <td>0</td>\n",
       "      <td>NaN</td>\n",
       "      <td>NaN</td>\n",
       "      <td>NaN</td>\n",
       "      <td>0</td>\n",
       "      <td>12</td>\n",
       "      <td>2008</td>\n",
       "      <td>WD</td>\n",
       "      <td>Normal</td>\n",
       "      <td>250000</td>\n",
       "    </tr>\n",
       "  </tbody>\n",
       "</table>\n",
       "<p>5 rows × 81 columns</p>\n",
       "</div>"
      ],
      "text/plain": [
       "   Id  MSSubClass MSZoning  LotFrontage  LotArea Street Alley LotShape  \\\n",
       "0   1          60       RL         65.0     8450   Pave   NaN      Reg   \n",
       "1   2          20       RL         80.0     9600   Pave   NaN      Reg   \n",
       "2   3          60       RL         68.0    11250   Pave   NaN      IR1   \n",
       "3   4          70       RL         60.0     9550   Pave   NaN      IR1   \n",
       "4   5          60       RL         84.0    14260   Pave   NaN      IR1   \n",
       "\n",
       "  LandContour Utilities  ... PoolArea PoolQC Fence MiscFeature MiscVal MoSold  \\\n",
       "0         Lvl    AllPub  ...        0    NaN   NaN         NaN       0      2   \n",
       "1         Lvl    AllPub  ...        0    NaN   NaN         NaN       0      5   \n",
       "2         Lvl    AllPub  ...        0    NaN   NaN         NaN       0      9   \n",
       "3         Lvl    AllPub  ...        0    NaN   NaN         NaN       0      2   \n",
       "4         Lvl    AllPub  ...        0    NaN   NaN         NaN       0     12   \n",
       "\n",
       "  YrSold  SaleType  SaleCondition  SalePrice  \n",
       "0   2008        WD         Normal     208500  \n",
       "1   2007        WD         Normal     181500  \n",
       "2   2008        WD         Normal     223500  \n",
       "3   2006        WD        Abnorml     140000  \n",
       "4   2008        WD         Normal     250000  \n",
       "\n",
       "[5 rows x 81 columns]"
      ]
     },
     "execution_count": 3,
     "metadata": {},
     "output_type": "execute_result"
    }
   ],
   "source": [
    "#-- EJERCICIO 2A) --\n",
    "data = pd.read_csv('dataset_housing.csv')\n",
    "data.head(5)"
   ]
  },
  {
   "cell_type": "code",
   "execution_count": 4,
   "metadata": {},
   "outputs": [
    {
     "data": {
      "text/plain": [
       "Id                 int64\n",
       "MSSubClass         int64\n",
       "MSZoning          object\n",
       "LotFrontage      float64\n",
       "LotArea            int64\n",
       "Street            object\n",
       "Alley             object\n",
       "LotShape          object\n",
       "LandContour       object\n",
       "Utilities         object\n",
       "LotConfig         object\n",
       "LandSlope         object\n",
       "Neighborhood      object\n",
       "Condition1        object\n",
       "Condition2        object\n",
       "BldgType          object\n",
       "HouseStyle        object\n",
       "OverallQual        int64\n",
       "OverallCond        int64\n",
       "YearBuilt          int64\n",
       "YearRemodAdd       int64\n",
       "RoofStyle         object\n",
       "RoofMatl          object\n",
       "Exterior1st       object\n",
       "Exterior2nd       object\n",
       "MasVnrType        object\n",
       "MasVnrArea       float64\n",
       "ExterQual         object\n",
       "ExterCond         object\n",
       "Foundation        object\n",
       "BsmtQual          object\n",
       "BsmtCond          object\n",
       "BsmtExposure      object\n",
       "BsmtFinType1      object\n",
       "BsmtFinSF1         int64\n",
       "BsmtFinType2      object\n",
       "BsmtFinSF2         int64\n",
       "BsmtUnfSF          int64\n",
       "TotalBsmtSF        int64\n",
       "Heating           object\n",
       "HeatingQC         object\n",
       "CentralAir        object\n",
       "Electrical        object\n",
       "1stFlrSF           int64\n",
       "2ndFlrSF           int64\n",
       "LowQualFinSF       int64\n",
       "GrLivArea          int64\n",
       "BsmtFullBath       int64\n",
       "BsmtHalfBath       int64\n",
       "FullBath           int64\n",
       "HalfBath           int64\n",
       "BedroomAbvGr       int64\n",
       "KitchenAbvGr       int64\n",
       "KitchenQual       object\n",
       "TotRmsAbvGrd       int64\n",
       "Functional        object\n",
       "Fireplaces         int64\n",
       "FireplaceQu       object\n",
       "GarageType        object\n",
       "GarageYrBlt      float64\n",
       "GarageFinish      object\n",
       "GarageCars         int64\n",
       "GarageArea         int64\n",
       "GarageQual        object\n",
       "GarageCond        object\n",
       "PavedDrive        object\n",
       "WoodDeckSF         int64\n",
       "OpenPorchSF        int64\n",
       "EnclosedPorch      int64\n",
       "3SsnPorch          int64\n",
       "ScreenPorch        int64\n",
       "PoolArea           int64\n",
       "PoolQC            object\n",
       "Fence             object\n",
       "MiscFeature       object\n",
       "MiscVal            int64\n",
       "MoSold             int64\n",
       "YrSold             int64\n",
       "SaleType          object\n",
       "SaleCondition     object\n",
       "SalePrice          int64\n",
       "dtype: object"
      ]
     },
     "execution_count": 4,
     "metadata": {},
     "output_type": "execute_result"
    }
   ],
   "source": [
    "#-- EJERCICIO 2 B) --\n",
    "data.dtypes"
   ]
  },
  {
   "cell_type": "code",
   "execution_count": 5,
   "metadata": {},
   "outputs": [
    {
     "name": "stdout",
     "output_type": "stream",
     "text": [
      "Las viviendas que hay en el conjunto de datos son 1460\n"
     ]
    }
   ],
   "source": [
    "#-- EJERCICIO 3 A) --\n",
    "houses = len(data)\n",
    "print(f'Las viviendas que hay en el conjunto de datos son {houses}')"
   ]
  },
  {
   "cell_type": "markdown",
   "metadata": {},
   "source": [
    "-- EJERCICIO 3 B --\n",
    "\n",
    "\n",
    "Al ejecutar este código nos sale el número de valores nulos que supuestamente hay en cada columna. Pero hay que tener cuidado, ya que si miramos la documentación, el valor de algunas variables puede ser 'NA' haciendo referncia a 'NO _', pero pandas lo puede confundir con el valor 'NaN', lo cual complicaría el procesado de los datos. En el siguiente ejercicio trataremos este problema con más detalle."
   ]
  },
  {
   "cell_type": "code",
   "execution_count": 6,
   "metadata": {},
   "outputs": [
    {
     "data": {
      "text/plain": [
       "Id                  0\n",
       "MSSubClass          0\n",
       "MSZoning            0\n",
       "LotFrontage       259\n",
       "LotArea             0\n",
       "Street              0\n",
       "Alley            1369\n",
       "LotShape            0\n",
       "LandContour         0\n",
       "Utilities           0\n",
       "LotConfig           0\n",
       "LandSlope           0\n",
       "Neighborhood        0\n",
       "Condition1          0\n",
       "Condition2          0\n",
       "BldgType            0\n",
       "HouseStyle          0\n",
       "OverallQual         0\n",
       "OverallCond         0\n",
       "YearBuilt           0\n",
       "YearRemodAdd        0\n",
       "RoofStyle           0\n",
       "RoofMatl            0\n",
       "Exterior1st         0\n",
       "Exterior2nd         0\n",
       "MasVnrType        872\n",
       "MasVnrArea          8\n",
       "ExterQual           0\n",
       "ExterCond           0\n",
       "Foundation          0\n",
       "BsmtQual           37\n",
       "BsmtCond           37\n",
       "BsmtExposure       38\n",
       "BsmtFinType1       37\n",
       "BsmtFinSF1          0\n",
       "BsmtFinType2       38\n",
       "BsmtFinSF2          0\n",
       "BsmtUnfSF           0\n",
       "TotalBsmtSF         0\n",
       "Heating             0\n",
       "HeatingQC           0\n",
       "CentralAir          0\n",
       "Electrical          1\n",
       "1stFlrSF            0\n",
       "2ndFlrSF            0\n",
       "LowQualFinSF        0\n",
       "GrLivArea           0\n",
       "BsmtFullBath        0\n",
       "BsmtHalfBath        0\n",
       "FullBath            0\n",
       "HalfBath            0\n",
       "BedroomAbvGr        0\n",
       "KitchenAbvGr        0\n",
       "KitchenQual         0\n",
       "TotRmsAbvGrd        0\n",
       "Functional          0\n",
       "Fireplaces          0\n",
       "FireplaceQu       690\n",
       "GarageType         81\n",
       "GarageYrBlt        81\n",
       "GarageFinish       81\n",
       "GarageCars          0\n",
       "GarageArea          0\n",
       "GarageQual         81\n",
       "GarageCond         81\n",
       "PavedDrive          0\n",
       "WoodDeckSF          0\n",
       "OpenPorchSF         0\n",
       "EnclosedPorch       0\n",
       "3SsnPorch           0\n",
       "ScreenPorch         0\n",
       "PoolArea            0\n",
       "PoolQC           1453\n",
       "Fence            1179\n",
       "MiscFeature      1406\n",
       "MiscVal             0\n",
       "MoSold              0\n",
       "YrSold              0\n",
       "SaleType            0\n",
       "SaleCondition       0\n",
       "SalePrice           0\n",
       "dtype: int64"
      ]
     },
     "execution_count": 6,
     "metadata": {},
     "output_type": "execute_result"
    }
   ],
   "source": [
    "data.isnull().sum()"
   ]
  },
  {
   "cell_type": "markdown",
   "metadata": {},
   "source": [
    "-- EJERCICIO 4 --"
   ]
  },
  {
   "cell_type": "markdown",
   "metadata": {},
   "source": [
    "2. MSSubClass"
   ]
  },
  {
   "cell_type": "code",
   "execution_count": 13,
   "metadata": {},
   "outputs": [
    {
     "name": "stdout",
     "output_type": "stream",
     "text": [
      "- MSSubClass:\n",
      "Los valores únicos son: [ 60  20  70  50 190  45  90 120  30  85  80 160  75 180  40]\n",
      "Las variables son numéricas discretas: int64\n",
      "Cada número representa el tipo de vivienda que se está ofertando:\n",
      "---  -----------------------------------------------------\n",
      " 20  1-STORY 1946 & NEWER ALL STYLES\n",
      " 30  1-STORY 1945 & OLDER\n",
      " 40  1-STORY W/FINISHED ATTIC ALL AGES\n",
      " 45  1-1/2 STORY - UNFINISHED ALL AGES\n",
      " 50  1-1/2 STORY FINISHED ALL AGES\n",
      " 60  2-STORY 1946 & NEWER\n",
      " 70  2-STORY 1945 & OLDER\n",
      " 75  2-1/2 STORY ALL AGES\n",
      " 80  SPLIT OR MULTI-LEVEL\n",
      " 85  SPLIT FOYER\n",
      " 90  DUPLEX - ALL STYLES AND AGES\n",
      "120  1-STORY PUD (Planned Unit Development) - 1946 & NEWER\n",
      "150  1-1/2 STORY PUD - ALL AGES\n",
      "160  2-STORY PUD - 1946 & NEWER\n",
      "180  PUD - MULTILEVEL - INCL SPLIT LEV/FOYER\n",
      "190  2 FAMILY CONVERSION - ALL STYLES AND AGES\n",
      "---  -----------------------------------------------------\n",
      "No hay valores nulos: 0\n",
      "Los valores máximo y mínimo: \n",
      "max    190.0\n",
      "Name: MSSubClass, dtype: float64\n",
      "min    20.0\n",
      "Name: MSSubClass, dtype: float64\n",
      "Los valores de los outliers son: [190 160 180], y en total son 103 \n"
     ]
    }
   ],
   "source": [
    "print('- MSSubClass:')\n",
    "\n",
    "#Hallar los valores únicos\n",
    "unique = data['MSSubClass'].unique()\n",
    "\n",
    "print(f'Los valores únicos son: {unique}')\n",
    "\n",
    "#Ver el tipo en el dataframe\n",
    "tipo = data['MSSubClass'].dtype \n",
    "\n",
    "print(f'Las variables son numéricas discretas: {tipo}')\n",
    "print('Cada número representa el tipo de vivienda que se está ofertando:')\n",
    "#from tabulate import tabulate #para mostrar el valor de las variables\n",
    "mssubclass = [[20, '1-STORY 1946 & NEWER ALL STYLES'],\n",
    "        [30,'1-STORY 1945 & OLDER'],\n",
    "        [40, '1-STORY W/FINISHED ATTIC ALL AGES'],\n",
    "        [45, '1-1/2 STORY - UNFINISHED ALL AGES'],\n",
    "        [50, '1-1/2 STORY FINISHED ALL AGES'],\n",
    "        [60, '2-STORY 1946 & NEWER'],\n",
    "        [70,'2-STORY 1945 & OLDER'],\n",
    "        [75,'2-1/2 STORY ALL AGES'],\n",
    "        [80,'SPLIT OR MULTI-LEVEL'],\n",
    "        [85,'SPLIT FOYER'],\n",
    "        [90,'DUPLEX - ALL STYLES AND AGES'],\n",
    "       [120,'1-STORY PUD (Planned Unit Development) - 1946 & NEWER'],\n",
    "       [150,'1-1/2 STORY PUD - ALL AGES'],\n",
    "       [160,'2-STORY PUD - 1946 & NEWER'],\n",
    "       [180,'PUD - MULTILEVEL - INCL SPLIT LEV/FOYER'],\n",
    "       [190,'2 FAMILY CONVERSION - ALL STYLES AND AGES']]\n",
    "#print(tabulate(mssubclass))\n",
    "\n",
    "#Hallar los valores nulos\n",
    "n = data['MSSubClass'].isnull().sum() \n",
    "\n",
    "print(f'No hay valores nulos: {n}')\n",
    "\n",
    "#Obtenemos el valor máximo\n",
    "max = data['MSSubClass'].describe().T[['max']] \n",
    "\n",
    "###ASI ES COMO LO HACE EL PROFE, HAY OTRA FORMA MÁS BONITA DE HACERLO\n",
    "#Obtenemos el valor mínimo\n",
    "min = data['MSSubClass'].describe().T[['min']] \n",
    "\n",
    "print(f'Los valores máximo y mínimo: \\n{max}\\n{min}')\n",
    "\n",
    "#Sacamos los outliers a partir de esta función:\n",
    "def is_outlier_IQR(df):\n",
    "    Q1=df.quantile(0.25)\n",
    "    Q3=df.quantile(0.75)\n",
    "    IQR = Q3-Q1\n",
    "    return (df<(Q1-1.5*IQR)) | (df>(Q3+1.5*IQR))\n",
    "outliermss1 = data['MSSubClass'][is_outlier_IQR(data['MSSubClass'])]\n",
    "\n",
    "#Hacemos unique para ver los valores exactos\n",
    "outliermss2 = outliermss1.unique()\n",
    "\n",
    "#Usamos len() para ver cuantos outliers hay en la columna\n",
    "print(f'Los valores de los outliers son: {outliermss2}, y en total son {len(outliermss1)} ')"
   ]
  },
  {
   "cell_type": "markdown",
   "metadata": {},
   "source": [
    "No vamos a eliminar la columna MSSubClass porque no hay valores nulos, y a la hora de analizar los outliers, hemos visto que es mejor no eliminarlos ni reemplazarlos ya que el número que acompaña al tipo de vivienda está estrechamente relacionado con la calidad de está; siendo los valores 160, 180 y 190 de las viviendas más caras. Al ser mejores que el resto, es normal que no haya tantas viviendas así. Por estos motivos no vamos a eliminar ni modificar MSSubClass."
   ]
  },
  {
   "cell_type": "markdown",
   "metadata": {},
   "source": [
    "4. LotFrontage"
   ]
  },
  {
   "cell_type": "code",
   "execution_count": 34,
   "metadata": {},
   "outputs": [
    {
     "name": "stdout",
     "output_type": "stream",
     "text": [
      "- LotFrontage:\n",
      "Los valores únicos son: [ 65.  80.  68.  60.  84.  85.  75.  nan  51.  50.  70.  91.  72.  66.\n",
      " 101.  57.  44. 110.  98.  47. 108. 112.  74. 115.  61.  48.  33.  52.\n",
      " 100.  24.  89.  63.  76.  81.  95.  69.  21.  32.  78. 121. 122.  40.\n",
      " 105.  73.  77.  64.  94.  34.  90.  55.  88.  82.  71. 120. 107.  92.\n",
      " 134.  62.  86. 141.  97.  54.  41.  79. 174.  99.  67.  83.  43. 103.\n",
      "  93.  30. 129. 140.  35.  37. 118.  87. 116. 150. 111.  49.  96.  59.\n",
      "  36.  56. 102.  58.  38. 109. 130.  53. 137.  45. 106. 104.  42.  39.\n",
      " 144. 114. 128. 149. 313. 168. 182. 138. 160. 152. 124. 153.  46.]\n",
      "Las variables son numéricas continuas: float64 \n",
      "Representa los pies de porción de suelo conectada a la propieda\n",
      "Los valores nulos son: 259\n",
      "Los valores máximo y mínimo: \n",
      "max    313.0\n",
      "Name: LotFrontage, dtype: float64\n",
      "min    21.0\n",
      "Name: LotFrontage, dtype: float64\n",
      "Los valores de los outliers son: [112. 115.  24.  21. 121. 122. 120. 134. 141. 174. 129. 140. 118. 116.\n",
      " 150. 130. 137. 144. 114. 128. 149. 313. 168. 182. 138. 160. 152. 124.\n",
      " 153.], y en total son 88 \n"
     ]
    },
    {
     "data": {
      "text/plain": [
       "0"
      ]
     },
     "execution_count": 34,
     "metadata": {},
     "output_type": "execute_result"
    }
   ],
   "source": [
    "print('- LotFrontage:')\n",
    "\n",
    "#Hallar los valores únicos\n",
    "unique = data['LotFrontage'].unique()\n",
    "\n",
    "print(f'Los valores únicos son: {unique}')\n",
    "\n",
    "#Ver el tipo en el dataframe\n",
    "tipo = data['LotFrontage'].dtype \n",
    "\n",
    "print(f'Las variables son numéricas continuas: {tipo} \\nRepresenta los pies de porción de suelo conectada a la propieda')\n",
    "\n",
    "#Hallar los valores nulos\n",
    "n = data['LotFrontage'].isnull().sum()\n",
    "\n",
    "print(f'Los valores nulos son: {n}')\n",
    "\n",
    "#Obtenemos el valor máximo\n",
    "max = data['LotFrontage'].describe().T[['max']] \n",
    "\n",
    "#Obtenemos el valor mínimo\n",
    "min = data['LotFrontage'].describe().T[['min']]\n",
    "\n",
    "print(f'Los valores máximo y mínimo: \\n{max}\\n{min}')\n",
    "\n",
    "#Sacamos los outliers a partir de esta función:\n",
    "def is_outlier_IQR(df):\n",
    "    Q1=df.quantile(0.25)\n",
    "    Q3=df.quantile(0.75)\n",
    "    IQR = Q3-Q1\n",
    "    return (df<(Q1-1.5*IQR)) | (df>(Q3+1.5*IQR))\n",
    "outlierlot1 = data['LotFrontage'][is_outlier_IQR(data['LotFrontage'])]\n",
    "\n",
    "#Hacemos unique para ver los valores exactos\n",
    "outlierlot2 = outlierlot1.unique()\n",
    "\n",
    "#Usamos len() para ver cuantos outliers hay en la columna\n",
    "print(f'Los valores de los outliers son: {outlierlot2}, y en total son {len(outlierlot1)} ')\n",
    "\n",
    "#ES IMPOSIBLE QUE A UNA CASA NO LE CORRESPONDA NINGUN TROZO DE CALLE ASI QUE VAMOS ASÍ QUE YO SUSTITUIRIA LOS VALORES POR LA MEDIA\n",
    "data2 = data['LotFrontage'].fillna(data['LotFrontage'].mean())\n",
    "data2.isnull().sum() #AHORA NO HAY VALORES NaN, pero los outliers cambian"
   ]
  },
  {
   "cell_type": "markdown",
   "metadata": {},
   "source": [
    "- Creemos que aquí las variables son continuas porque al ser la medida en pies del fragmento de suelo conectada a la propieda y estar definidas como un float, pueden tomar todo tipo de valores en un cierto intervalo.\n",
    "- AÑADIR SI ESTA BIEN LO DE LOS NaN\n",
    "- YO NO LA ELIMINARÍA, ESTÁ RELACIONADA CON EL VALOR DE LA CAS"
   ]
  },
  {
   "cell_type": "markdown",
   "metadata": {},
   "source": [
    "6. Street"
   ]
  },
  {
   "cell_type": "code",
   "execution_count": 39,
   "metadata": {},
   "outputs": [
    {
     "name": "stdout",
     "output_type": "stream",
     "text": [
      "- Street:\n",
      "Los valores únicos son: ['Pave' 'Grvl']\n",
      "Las variables son categóticas sin orden: object \n",
      "Representa el tipo de suelo que accede a la propiedad\n",
      "No hay valores nulos: 0\n"
     ]
    }
   ],
   "source": [
    "print('- Street:')\n",
    "\n",
    "#Hallar los valores únicos\n",
    "unique = data['Street'].unique()\n",
    "\n",
    "print(f'Los valores únicos son: {unique}')\n",
    "\n",
    "#Ver el tipo en el dataframe\n",
    "tipo = data['Street'].dtype \n",
    "\n",
    "print(f'Las variables son categóricas sin orden: {tipo} \\nRepresenta el tipo de suelo que accede a la propiedad') #Cambiarlo a tipo numerico\n",
    "\n",
    "#Hallar los valores nulos\n",
    "n = data['Street'].isnull().sum() \n",
    "\n",
    "print(f'No hay valores nulos: {n}')"
   ]
  },
  {
   "cell_type": "code",
   "execution_count": 54,
   "metadata": {},
   "outputs": [
    {
     "data": {
      "text/plain": [
       "Grvl       6.0\n",
       "Pave    1454.0\n",
       "dtype: float64"
      ]
     },
     "execution_count": 54,
     "metadata": {},
     "output_type": "execute_result"
    }
   ],
   "source": [
    "#VOY A CAMBIAR LOS VALORES CATEGORICOS A NUMERICOS BINARIOS CON LO DE DUMMIES\n",
    "streetdummies = pd.get_dummies(data['Street'], dtype=int) #pone un 1 si está en esa fila\n",
    "streetdummies\n",
    "streetdummies[streetdummies.iloc[:] == 1].sum()"
   ]
  },
  {
   "cell_type": "markdown",
   "metadata": {},
   "source": [
    "8. LotShape"
   ]
  },
  {
   "cell_type": "code",
   "execution_count": 59,
   "metadata": {},
   "outputs": [
    {
     "name": "stdout",
     "output_type": "stream",
     "text": [
      "- LotShape:\n",
      "Los valores únicos son: ['Reg' 'IR1' 'IR2' 'IR3']\n",
      "Las variables son categóticas sin orden: object \n",
      "Representa la forma general de la propiedad\n",
      "No hay valores nulos: 0\n"
     ]
    }
   ],
   "source": [
    "print('- LotShape:')\n",
    "\n",
    "#Hallar los valores únicos\n",
    "unique = data['LotShape'].unique()\n",
    "\n",
    "print(f'Los valores únicos son: {unique}')\n",
    "\n",
    "#Ver el tipo en el dataframe\n",
    "tipo = data['LotShape'].dtype \n",
    "\n",
    "print(f'Las variables son categóricas sin orden: {tipo} \\nRepresenta la forma general de la propiedad') #Cambiarlo a tipo numerico\n",
    "\n",
    "#Hallar los valores nulos\n",
    "n = data['LotShape'].isnull().sum() \n",
    "\n",
    "print(f'No hay valores nulos: {n}')"
   ]
  },
  {
   "cell_type": "code",
   "execution_count": 65,
   "metadata": {},
   "outputs": [
    {
     "data": {
      "text/plain": [
       "IR1    484\n",
       "IR2     41\n",
       "IR3     10\n",
       "Reg    925\n",
       "dtype: object"
      ]
     },
     "execution_count": 65,
     "metadata": {},
     "output_type": "execute_result"
    }
   ],
   "source": [
    "lotdummies = pd.get_dummies(data['LotShape'],) #pone un 1 si está en esa fila\n",
    "lotdummies\n",
    "lotdummies[lotdummies.iloc[:] == 1].sum() #nº de filas con 1 en esa categoría"
   ]
  },
  {
   "cell_type": "markdown",
   "metadata": {},
   "source": [
    "10. Utilities"
   ]
  },
  {
   "cell_type": "code",
   "execution_count": 72,
   "metadata": {},
   "outputs": [
    {
     "name": "stdout",
     "output_type": "stream",
     "text": [
      "- Utilities:\n",
      "Los valores únicos son: ['AllPub' 'NoSeWa']\n",
      "Las variables son categóticas sin orden: object \n",
      "Representa los servicios disponibles en la vivienda\n",
      "No hay valores nulos: 0\n"
     ]
    }
   ],
   "source": [
    "print('- Utilities:')\n",
    "\n",
    "#Hallar los valores únicos\n",
    "unique = data['Utilities'].unique()\n",
    "\n",
    "print(f'Los valores únicos son: {unique}')\n",
    "\n",
    "#Ver el tipo en el dataframe\n",
    "tipo = data['Utilities'].dtype \n",
    "\n",
    "print(f'Las variables son categóricas sin orden: {tipo} \\nRepresenta los servicios disponibles en la vivienda') #Cambiarlo a tipo numerico\n",
    "\n",
    "#Hallar los valores nulos\n",
    "n = data['Utilities'].isnull().sum() \n",
    "\n",
    "print(f'No hay valores nulos: {n}')"
   ]
  },
  {
   "cell_type": "code",
   "execution_count": 73,
   "metadata": {},
   "outputs": [
    {
     "data": {
      "text/plain": [
       "AllPub    1459\n",
       "NoSeWa       1\n",
       "dtype: object"
      ]
     },
     "execution_count": 73,
     "metadata": {},
     "output_type": "execute_result"
    }
   ],
   "source": [
    "utidummies = pd.get_dummies(data['Utilities'],) #pone un 1 si está en esa fila\n",
    "utidummies\n",
    "utidummies[utidummies.iloc[:] == 1].sum() #nº de filas con 1 en esa categoría"
   ]
  },
  {
   "cell_type": "markdown",
   "metadata": {},
   "source": [
    "12. Neighborhood"
   ]
  },
  {
   "cell_type": "code",
   "execution_count": 78,
   "metadata": {},
   "outputs": [
    {
     "name": "stdout",
     "output_type": "stream",
     "text": [
      "- Neighborhood:\n",
      "Los valores únicos son: ['CollgCr' 'Veenker' 'Crawfor' 'NoRidge' 'Mitchel' 'Somerst' 'NWAmes'\n",
      " 'OldTown' 'BrkSide' 'Sawyer' 'NridgHt' 'NAmes' 'SawyerW' 'IDOTRR'\n",
      " 'MeadowV' 'Edwards' 'Timber' 'Gilbert' 'StoneBr' 'ClearCr' 'NPkVill'\n",
      " 'Blmngtn' 'BrDale' 'SWISU' 'Blueste']\n",
      "Las variables son categóticas sin orden: object \n",
      "Representa las ubicaciones dentro de los límites de la ciudad de Ames\n",
      "No hay valores nulos: 0\n"
     ]
    }
   ],
   "source": [
    "print('- Neighborhood:')\n",
    "\n",
    "#Hallar los valores únicos\n",
    "unique = data['Neighborhood'].unique()\n",
    "\n",
    "print(f'Los valores únicos son: {unique}')\n",
    "\n",
    "#Ver el tipo en el dataframe\n",
    "tipo = data['Neighborhood'].dtype \n",
    "\n",
    "print(f'Las variables son categóricas sin orden: {tipo} \\nRepresenta las ubicaciones dentro de los límites de la ciudad de Ames') #Cambiarlo a tipo numerico\n",
    "\n",
    "#Hallar los valores nulos\n",
    "n = data['Neighborhood'].isnull().sum() \n",
    "\n",
    "print(f'No hay valores nulos: {n}')"
   ]
  },
  {
   "cell_type": "code",
   "execution_count": 95,
   "metadata": {},
   "outputs": [
    {
     "data": {
      "text/plain": [
       "Blmngtn     17\n",
       "Blueste      2\n",
       "BrDale      16\n",
       "BrkSide     58\n",
       "ClearCr     28\n",
       "CollgCr    150\n",
       "Crawfor     51\n",
       "Edwards    100\n",
       "Gilbert     79\n",
       "IDOTRR      37\n",
       "MeadowV     17\n",
       "Mitchel     49\n",
       "NAmes      225\n",
       "NPkVill      9\n",
       "NWAmes      73\n",
       "NoRidge     41\n",
       "NridgHt     77\n",
       "OldTown    113\n",
       "SWISU       25\n",
       "Sawyer      74\n",
       "SawyerW     59\n",
       "Somerst     86\n",
       "StoneBr     25\n",
       "Timber      38\n",
       "Veenker     11\n",
       "dtype: object"
      ]
     },
     "execution_count": 95,
     "metadata": {},
     "output_type": "execute_result"
    }
   ],
   "source": [
    "neidummies = pd.get_dummies(data['Neighborhood']) #pone un 1 si está en esa fila\n",
    "neidummies\n",
    "neidummies[neidummies.iloc[:] == 1].sum() #nº de filas con 1 en esa categoría"
   ]
  },
  {
   "cell_type": "markdown",
   "metadata": {},
   "source": [
    "14. GarageCars, GarageArea, GarageQual, GarageCond, GarageType,\n",
    "GarageYrBlt y GarageFinish"
   ]
  },
  {
   "cell_type": "code",
   "execution_count": 84,
   "metadata": {},
   "outputs": [
    {
     "name": "stdout",
     "output_type": "stream",
     "text": [
      "- GarageCars:\n",
      "Los valores únicos son: [2 3 1 0 4]\n",
      "Las variables son numéricas discretas: int64 \n",
      "Representa cuántos coches caben en el garaje\n",
      "No hay valores nulos: 0\n",
      "Los valores máximo y mínimo: \n",
      "max    4.0\n",
      "Name: GarageCars, dtype: float64\n",
      "min    0.0\n",
      "Name: GarageCars, dtype: float64\n",
      "Los valor del outlier es: 4, y en total son 5 \n"
     ]
    }
   ],
   "source": [
    "print('- GarageCars:')\n",
    "\n",
    "#Hallar los valores únicos\n",
    "unique = data['GarageCars'].unique()\n",
    "\n",
    "print(f'Los valores únicos son: {unique}')\n",
    "\n",
    "#Ver el tipo en el dataframe\n",
    "tipo = data['GarageCars'].dtype \n",
    "\n",
    "print(f'Las variables son numéricas discretas: {tipo} \\nRepresenta cuántos coches caben en el garaje') #Cambiarlo a tipo numerico\n",
    "\n",
    "#Hallar los valores nulos\n",
    "n = data['GarageCars'].isnull().sum() \n",
    "\n",
    "print(f'No hay valores nulos: {n}')\n",
    "\n",
    "#Obtenemos el valor máximo\n",
    "max = data['GarageCars'].describe().T[['max']] \n",
    "\n",
    "###ASI ES COMO LO HACE EL PROFE, HAY OTRA FORMA MÁS BONITA DE HACERLO\n",
    "#Obtenemos el valor mínimo\n",
    "min = data['GarageCars'].describe().T[['min']] \n",
    "\n",
    "print(f'Los valores máximo y mínimo: \\n{max}\\n{min}')\n",
    "\n",
    "#Sacamos los outliers a partir de esta función:\n",
    "def is_outlier_IQR(df):\n",
    "    Q1=df.quantile(0.25)\n",
    "    Q3=df.quantile(0.75)\n",
    "    IQR = Q3-Q1\n",
    "    return (df<(Q1-1.5*IQR)) | (df>(Q3+1.5*IQR))\n",
    "outliergaca1 = data['GarageCars'][is_outlier_IQR(data['GarageCars'])]\n",
    "\n",
    "#Hacemos unique para ver los valores exactos\n",
    "outliergaca2 = outliergaca1.unique()\n",
    "\n",
    "#Usamos len() para ver cuantos outliers hay en la columna\n",
    "print(f'Los valor del outlier es: {int(outliergaca2)}, y en total son {len(outliergaca1)} ')"
   ]
  },
  {
   "cell_type": "code",
   "execution_count": 87,
   "metadata": {},
   "outputs": [
    {
     "name": "stdout",
     "output_type": "stream",
     "text": [
      "- GarageArea:\n",
      "Los valores únicos son: [ 548  460  608  642  836  480  636  484  468  205  384  736  352  840\n",
      "  576  516  294  853  280  534  572  270  890  772  319  240  250  271\n",
      "  447  556  691  672  498  246    0  440  308  504  300  670  826  386\n",
      "  388  528  894  565  641  288  645  852  558  220  667  360  427  490\n",
      "  379  297  283  509  405  758  461  400  462  420  432  506  684  472\n",
      "  366  476  410  740  648  273  546  325  792  450  180  430  594  390\n",
      "  540  264  530  435  453  750  487  624  471  318  766  660  470  720\n",
      "  577  380  434  866  495  564  312  625  680  678  726  532  216  303\n",
      "  789  511  616  521  451 1166  252  497  682  666  786  795  856  473\n",
      "  398  500  349  454  644  299  210  431  438  675  968  721  336  810\n",
      "  494  457  818  463  604  389  538  520  309  429  673  884  868  492\n",
      "  413  924 1053  439  671  338  573  732  505  575  626  898  529  685\n",
      "  281  539  418  588  282  375  683  843  552  870  888  746  708  513\n",
      " 1025  656  872  292  441  189  880  676  301  474  706  617  445  200\n",
      "  592  566  514  296  244  610  834  639  501  846  560  596  600  373\n",
      "  947  350  396  864  304  784  696  569  628  550  493  578  198  422\n",
      "  228  526  525  908  499  508  694  874  164  402  515  286  603  900\n",
      "  583  889  858  502  392  403  527  765  367  426  615  871  570  406\n",
      "  590  612  650 1390  275  452  842  816  621  544  486  230  261  531\n",
      "  393  774  749  364  627  260  256  478  442  562  512  839  330  711\n",
      " 1134  416  779  702  567  832  326  551  606  739  408  475  704  983\n",
      "  768  632  541  320  800  831  554  878  752  614  481  496  423  841\n",
      "  895  412  865  630  605  602  618  444  397  455  409  820 1020  598\n",
      "  857  595  433  776 1220  458  613  456  436  812  686  611  425  343\n",
      "  479  619  902  574  523  414  738  354  483  327  756  690  284  833\n",
      "  601  533  522  788  555  689  796  808  510  255  424  305  368  824\n",
      "  328  160  437  665  290  912  905  542  716  586  467  582 1248 1043\n",
      "  254  712  719  862  928  782  466  714 1052  225  234  324  306  830\n",
      "  807  358  186  693  482  813  995  757 1356  459  701  322  315  668\n",
      "  404  543  954  850  477  276  518 1014  753 1418  213  844  860  748\n",
      "  248  287  825  647  342  770  663  377  804  936  722  208  662  754\n",
      "  622  620  370 1069  372  923  192]\n",
      "Las variables son numéricas continua: int64 \n",
      "Representa el tamaño del garaje en pies cuadrados\n",
      "No hay valores nulos: 0\n",
      "Los valores máximo y mínimo: \n",
      "max    1418.0\n",
      "Name: GarageArea, dtype: float64\n",
      "min    0.0\n",
      "Name: GarageArea, dtype: float64\n",
      "Los valores de los outliers son: [1166  968 1053 1025  947 1390 1134  983 1020 1220 1248 1043 1052  995\n",
      " 1356  954 1014 1418 1069], y en total son 21 \n"
     ]
    }
   ],
   "source": [
    "print('- GarageArea:')\n",
    "\n",
    "#Hallar los valores únicos\n",
    "unique = data['GarageArea'].unique()\n",
    "\n",
    "print(f'Los valores únicos son: {unique}')\n",
    "\n",
    "#Ver el tipo en el dataframe\n",
    "tipo = data['GarageArea'].dtype \n",
    "\n",
    "print(f'Las variables son numéricas continua: {tipo} \\nRepresenta el tamaño del garaje en pies cuadrados') #Cambiarlo a tipo numerico\n",
    "\n",
    "#Hallar los valores nulos\n",
    "n = data['GarageArea'].isnull().sum() \n",
    "\n",
    "print(f'No hay valores nulos: {n}') #SI NO TIENE GARAJE SALE 0\n",
    "\n",
    "#Obtenemos el valor máximo\n",
    "max = data['GarageArea'].describe().T[['max']] \n",
    "\n",
    "#Obtenemos el valor mínimo\n",
    "min = data['GarageArea'].describe().T[['min']] \n",
    "\n",
    "print(f'Los valores máximo y mínimo: \\n{max}\\n{min}')\n",
    "\n",
    "#Sacamos los outliers a partir de esta función:\n",
    "def is_outlier_IQR(df):\n",
    "    Q1=df.quantile(0.25)\n",
    "    Q3=df.quantile(0.75)\n",
    "    IQR = Q3-Q1\n",
    "    return (df<(Q1-1.5*IQR)) | (df>(Q3+1.5*IQR))\n",
    "outliergaa1 = data['GarageArea'][is_outlier_IQR(data['GarageArea'])]\n",
    "\n",
    "#Hacemos unique para ver los valores exactos\n",
    "outliergaa2 = outliergaa1.unique()\n",
    "\n",
    "#Usamos len() para ver cuantos outliers hay en la columna\n",
    "print(f'Los valores de los outliers son: {outliergaa2}, y en total son {len(outliergaa1)} ')"
   ]
  },
  {
   "cell_type": "markdown",
   "metadata": {},
   "source": [
    "YO NO QUITABA LOS OUTLIERS AQUI, PORQUE PUEDE SER UNA CASA MUY GRANDE\n",
    "SÍ ELIMINABA GarageCars PORQUE AMBOS INDICAN EL TAMAÑO, PERO GarageArea ES MÁS PRECISO"
   ]
  },
  {
   "cell_type": "code",
   "execution_count": 93,
   "metadata": {},
   "outputs": [
    {
     "name": "stdout",
     "output_type": "stream",
     "text": [
      "- GarageQual:\n",
      "Los valores únicos son: ['TA' 'Fa' 'Gd' nan 'Ex' 'Po']\n",
      "Las variables son categóricas con orden: object \n",
      "Representa la calidad del garaje\n",
      "No hay valores nulos: 81\n"
     ]
    }
   ],
   "source": [
    "print('- GarageQual:')\n",
    "\n",
    "#Hallar los valores únicos\n",
    "unique = data['GarageQual'].unique()\n",
    "\n",
    "print(f'Los valores únicos son: {unique}')\n",
    "\n",
    "#Ver el tipo en el dataframe\n",
    "tipo = data['GarageQual'].dtype \n",
    "\n",
    "print(f'Las variables son categóricas con orden: {tipo} \\nRepresenta la calidad del garaje') \n",
    "\n",
    "#Hallar los valores nulos\n",
    "n = data['GarageQual'].isnull().sum() \n",
    "\n",
    "print(f'Los valores nulos son: {n}') "
   ]
  },
  {
   "cell_type": "markdown",
   "metadata": {},
   "source": [
    "Aquí nos encontramos con el problema descrito en el ejercicio 3. Al mirar la documentación vemos que 'nan' se está confundiendo con 'NA', que significa 'NO GARAGE'. Por tanto vamos a cambiarlo."
   ]
  },
  {
   "cell_type": "code",
   "execution_count": 92,
   "metadata": {},
   "outputs": [
    {
     "name": "stdout",
     "output_type": "stream",
     "text": [
      "No hay valores nulos: 0\n"
     ]
    }
   ],
   "source": [
    "new_GarageQual = data['GarageQual'].fillna('NG') #ESTA EN EL NOTEBOOK DEL PROFE\n",
    "\n",
    "#Veamos ahora si hay valores nulos:\n",
    "n = new_GarageQual.isnull().sum() \n",
    "\n",
    "print(f'No hay valores nulos: {n}')\n"
   ]
  },
  {
   "cell_type": "code",
   "execution_count": 102,
   "metadata": {},
   "outputs": [
    {
     "data": {
      "text/plain": [
       "Ex       3\n",
       "Fa      48\n",
       "Gd      14\n",
       "NG      81\n",
       "Po       3\n",
       "TA    1311\n",
       "dtype: object"
      ]
     },
     "execution_count": 102,
     "metadata": {},
     "output_type": "execute_result"
    }
   ],
   "source": [
    "#convertimos la variable categorica\n",
    "gaquadummies = pd.get_dummies(new_GarageQual)#ponemos el que no tiene valores nulos\n",
    "new_data = pd.merge(data, gaquadummies, left_index = True, right_index = True)\n",
    "new_data[new_data.iloc[:] == 1].sum().tail(6)"
   ]
  },
  {
   "cell_type": "code",
   "execution_count": 103,
   "metadata": {},
   "outputs": [
    {
     "name": "stdout",
     "output_type": "stream",
     "text": [
      "- GarageCond:\n",
      "Los valores únicos son: ['TA' 'Fa' nan 'Gd' 'Po' 'Ex']\n",
      "Las variables son categóricas con orden: object \n",
      "Representa la calidad del garaje\n",
      "No hay valores nulos: 81\n"
     ]
    }
   ],
   "source": [
    "print('- GarageCond:')\n",
    "\n",
    "#Hallar los valores únicos\n",
    "unique = data['GarageCond'].unique()\n",
    "\n",
    "print(f'Los valores únicos son: {unique}')\n",
    "\n",
    "#Ver el tipo en el dataframe\n",
    "tipo = data['GarageCond'].dtype \n",
    "\n",
    "print(f'Las variables son categóricas con orden: {tipo} \\nRepresenta la condición del garaje') \n",
    "\n",
    "#Hallar los valores nulos\n",
    "n = data['GarageCond'].isnull().sum() \n",
    "\n",
    "print(f'Los valores nulos son: {n}') \n",
    "\n",
    "#ES LITERALMENTE IGUAL QUE LA ANTERIOR, YO LA ELIMINABA"
   ]
  },
  {
   "cell_type": "code",
   "execution_count": 104,
   "metadata": {},
   "outputs": [
    {
     "name": "stdout",
     "output_type": "stream",
     "text": [
      "- GarageType:\n",
      "Los valores únicos son: ['Attchd' 'Detchd' 'BuiltIn' 'CarPort' nan 'Basment' '2Types']\n",
      "Las variables son categóricas con orden: object \n",
      "Representa la condición del garaje\n",
      "No hay valores nulos: 81\n"
     ]
    }
   ],
   "source": [
    "print('- GarageType:')\n",
    "\n",
    "#Hallar los valores únicos\n",
    "unique = data['GarageType'].unique()\n",
    "\n",
    "print(f'Los valores únicos son: {unique}')\n",
    "\n",
    "#Ver el tipo en el dataframe\n",
    "tipo = data['GarageType'].dtype \n",
    "\n",
    "print(f'Las variables son categóricas sin orden: {tipo} \\nRepresenta la ubicación del garaje en la vivienda') \n",
    "\n",
    "#Hallar los valores nulos\n",
    "n = data['GarageType'].isnull().sum() \n",
    "\n",
    "print(f'Los valores nulos son: {n}') "
   ]
  },
  {
   "cell_type": "code",
   "execution_count": 106,
   "metadata": {},
   "outputs": [
    {
     "name": "stdout",
     "output_type": "stream",
     "text": [
      "No hay valores nulos: 0\n"
     ]
    },
    {
     "data": {
      "text/plain": [
       "2Types       6\n",
       "Attchd     870\n",
       "Basment     19\n",
       "BuiltIn     88\n",
       "CarPort      9\n",
       "Detchd     387\n",
       "NG          81\n",
       "dtype: object"
      ]
     },
     "execution_count": 106,
     "metadata": {},
     "output_type": "execute_result"
    }
   ],
   "source": [
    "#mismo problema con el na\n",
    "new_GarageType = data['GarageType'].fillna('NG') #ESTA EN EL NOTEBOOK DEL PROFE\n",
    "\n",
    "#Veamos ahora si hay valores nulos:\n",
    "gt = new_GarageType.isnull().sum() \n",
    "\n",
    "print(f'No hay valores nulos: {gt}')\n",
    "\n",
    "#convertimos la variable categorica\n",
    "gatydummies = pd.get_dummies(new_GarageType)#ponemos el que no tiene valores nulos\n",
    "new_data = pd.merge(data, gatydummies, left_index = True, right_index = True)\n",
    "new_data[new_data.iloc[:] == 1].sum().tail(7)"
   ]
  },
  {
   "cell_type": "code",
   "execution_count": 109,
   "metadata": {},
   "outputs": [
    {
     "name": "stdout",
     "output_type": "stream",
     "text": [
      "- GarageYrBlt:\n",
      "Los valores únicos son: [2003. 1976. 2001. 1998. 2000. 1993. 2004. 1973. 1931. 1939. 1965. 2005.\n",
      " 1962. 2006. 1960. 1991. 1970. 1967. 1958. 1930. 2002. 1968. 2007. 2008.\n",
      " 1957. 1920. 1966. 1959. 1995. 1954. 1953.   nan 1983. 1977. 1997. 1985.\n",
      " 1963. 1981. 1964. 1999. 1935. 1990. 1945. 1987. 1989. 1915. 1956. 1948.\n",
      " 1974. 2009. 1950. 1961. 1921. 1900. 1979. 1951. 1969. 1936. 1975. 1971.\n",
      " 1923. 1984. 1926. 1955. 1986. 1988. 1916. 1932. 1972. 1918. 1980. 1924.\n",
      " 1996. 1940. 1949. 1994. 1910. 1978. 1982. 1992. 1925. 1941. 2010. 1927.\n",
      " 1947. 1937. 1942. 1938. 1952. 1928. 1922. 1934. 1906. 1914. 1946. 1908.\n",
      " 1929. 1933.]\n",
      "Las variables son numéricas discretas: float64 \n",
      "Representa el año en el que se construyó el garaje\n",
      "Los valores nulos son: 81\n",
      "Los valores máximo y mínimo: \n",
      "max    2010.0\n",
      "Name: GarageYrBlt, dtype: float64\n",
      "min    1900.0\n",
      "Name: GarageYrBlt, dtype: float64\n",
      "No hay outliers: 0 \n"
     ]
    }
   ],
   "source": [
    "print('- GarageYrBlt:')\n",
    "\n",
    "#Hallar los valores únicos\n",
    "unique = data['GarageYrBlt'].unique()\n",
    "\n",
    "print(f'Los valores únicos son: {unique}')\n",
    "\n",
    "#Ver el tipo en el dataframe\n",
    "tipo = data['GarageYrBlt'].dtype \n",
    "\n",
    "print(f'Las variables son numéricas discretas: {tipo} \\nRepresenta el año en el que se construyó el garaje') \n",
    "\n",
    "#Hallar los valores nulos\n",
    "n = data['GarageYrBlt'].isnull().sum() \n",
    "\n",
    "print(f'Los valores nulos son: {n}')\n",
    "\n",
    "#Obtenemos el valor máximo\n",
    "max = data['GarageYrBlt'].describe().T[['max']] \n",
    "\n",
    "#Obtenemos el valor mínimo\n",
    "min = data['GarageYrBlt'].describe().T[['min']] \n",
    "\n",
    "print(f'Los valores máximo y mínimo: \\n{max}\\n{min}')\n",
    "\n",
    "#Sacamos los outliers a partir de esta función:\n",
    "def is_outlier_IQR(df):\n",
    "    Q1=df.quantile(0.25)\n",
    "    Q3=df.quantile(0.75)\n",
    "    IQR = Q3-Q1\n",
    "    return (df<(Q1-1.5*IQR)) | (df>(Q3+1.5*IQR))\n",
    "outliergay1 = data['GarageYrBlt'][is_outlier_IQR(data['GarageYrBlt'])]\n",
    "\n",
    "#Hacemos unique para ver los valores exactos\n",
    "outliergay2 = outliergay1.unique()\n",
    "\n",
    "#Usamos len() para ver cuantos outliers hay en la columna\n",
    "print(f'No hay outliers: {len(outliergay1)} ')"
   ]
  },
  {
   "cell_type": "code",
   "execution_count": 117,
   "metadata": {},
   "outputs": [
    {
     "data": {
      "text/plain": [
       "array([2003.0, 1976.0, 2001.0, 1998.0, 2000.0, 1993.0, 2004.0, 1973.0,\n",
       "       1931.0, 1939.0, 1965.0, 2005.0, 1962.0, 2006.0, 1960.0, 1991.0,\n",
       "       1970.0, 1967.0, 1958.0, 1930.0, 2002.0, 1968.0, 2007.0, 2008.0,\n",
       "       1957.0, 1920.0, 1966.0, 1959.0, 1995.0, 1954.0, 1953.0, 'NoGarage',\n",
       "       1983.0, 1977.0, 1997.0, 1985.0, 1963.0, 1981.0, 1964.0, 1999.0,\n",
       "       1935.0, 1990.0, 1945.0, 1987.0, 1989.0, 1915.0, 1956.0, 1948.0,\n",
       "       1974.0, 2009.0, 1950.0, 1961.0, 1921.0, 1900.0, 1979.0, 1951.0,\n",
       "       1969.0, 1936.0, 1975.0, 1971.0, 1923.0, 1984.0, 1926.0, 1955.0,\n",
       "       1986.0, 1988.0, 1916.0, 1932.0, 1972.0, 1918.0, 1980.0, 1924.0,\n",
       "       1996.0, 1940.0, 1949.0, 1994.0, 1910.0, 1978.0, 1982.0, 1992.0,\n",
       "       1925.0, 1941.0, 2010.0, 1927.0, 1947.0, 1937.0, 1942.0, 1938.0,\n",
       "       1952.0, 1928.0, 1922.0, 1934.0, 1906.0, 1914.0, 1946.0, 1908.0,\n",
       "       1929.0, 1933.0], dtype=object)"
      ]
     },
     "execution_count": 117,
     "metadata": {},
     "output_type": "execute_result"
    }
   ],
   "source": [
    "#AQUÍ SI NOS FIJAMOS, EL Nº DE nan COINCIDE CON EL Nº DE NO GARAJES EN LAS COLUMNAS ANTERIORES, POR TANTO SIGNIFICA QUE NO TIENE GARAJE, YO LO SUSTITUIRÍA ASÍ:\n",
    "new_GarageYear = data['GarageYrBlt'].fillna('NoGarage') #ESTA EN EL NOTEBOOK DEL PROFE\n",
    "\n",
    "#Veamos ahora si hay valores nulos:\n",
    "gt = new_GarageYear.isnull().sum()\n",
    "new_GarageYear.unique()\n"
   ]
  },
  {
   "cell_type": "code",
   "execution_count": 119,
   "metadata": {},
   "outputs": [
    {
     "name": "stdout",
     "output_type": "stream",
     "text": [
      "- GarageFinish:\n",
      "Los valores únicos son: ['RFn' 'Unf' 'Fin' nan]\n",
      "Las variables son categóricas con orden: object \n",
      "Representa la calidad del garaje\n",
      "Los valores nulos son: 81\n"
     ]
    }
   ],
   "source": [
    "print('- GarageFinish:')\n",
    "\n",
    "#Hallar los valores únicos\n",
    "unique = data['GarageFinish'].unique()\n",
    "\n",
    "print(f'Los valores únicos son: {unique}')\n",
    "\n",
    "#Ver el tipo en el dataframe\n",
    "tipo = data['GarageFinish'].dtype \n",
    "\n",
    "print(f'Las variables son categóricas con orden: {tipo} \\nRepresenta el acabado del garaje') \n",
    "\n",
    "#Hallar los valores nulos\n",
    "n = data['GarageFinish'].isnull().sum() \n",
    "\n",
    "print(f'Los valores nulos son: {n}')"
   ]
  },
  {
   "cell_type": "code",
   "execution_count": 121,
   "metadata": {},
   "outputs": [
    {
     "name": "stdout",
     "output_type": "stream",
     "text": [
      "No hay valores nulos: 0\n"
     ]
    },
    {
     "data": {
      "text/plain": [
       "Fin    352\n",
       "NG      81\n",
       "RFn    422\n",
       "Unf    605\n",
       "dtype: object"
      ]
     },
     "execution_count": 121,
     "metadata": {},
     "output_type": "execute_result"
    }
   ],
   "source": [
    "#mismo problema con el na\n",
    "new_GarageF = data['GarageFinish'].fillna('NG') #ESTA EN EL NOTEBOOK DEL PROFE\n",
    "\n",
    "#Veamos ahora si hay valores nulos:\n",
    "gt = new_GarageF.isnull().sum() \n",
    "\n",
    "print(f'No hay valores nulos: {gt}')\n",
    "\n",
    "#convertimos la variable categorica\n",
    "gafidummies = pd.get_dummies(new_GarageF)#ponemos el que no tiene valores nulos\n",
    "new_data = pd.merge(data, gafidummies, left_index = True, right_index = True)\n",
    "new_data[new_data.iloc[:] == 1].sum().tail(4)"
   ]
  },
  {
   "cell_type": "markdown",
   "metadata": {},
   "source": [
    "16. OverallCond"
   ]
  },
  {
   "cell_type": "code",
   "execution_count": 122,
   "metadata": {},
   "outputs": [
    {
     "name": "stdout",
     "output_type": "stream",
     "text": [
      "- OverallCond:\n",
      "Los valores únicos son: [5 8 6 7 4 2 3 9 1]\n",
      "Las variables son numéricas discretas: int64 \n",
      "Representa la condición total de la casa\n",
      "Los valores nulos son: 0\n",
      "Los valores máximo y mínimo: \n",
      "max    9.0\n",
      "Name: OverallCond, dtype: float64\n",
      "min    1.0\n",
      "Name: OverallCond, dtype: float64\n",
      "Los valores de los outliers son: [8 2 3 9 1], y en total son 125 \n"
     ]
    }
   ],
   "source": [
    "print('- OverallCond:')\n",
    "\n",
    "#Hallar los valores únicos\n",
    "unique = data['OverallCond'].unique()\n",
    "\n",
    "print(f'Los valores únicos son: {unique}')\n",
    "\n",
    "#Ver el tipo en el dataframe\n",
    "tipo = data['OverallCond'].dtype \n",
    "\n",
    "print(f'Las variables son numéricas discretas: {tipo} \\nRepresenta la condición total de la casa') \n",
    "\n",
    "#Hallar los valores nulos\n",
    "n = data['OverallCond'].isnull().sum() \n",
    "\n",
    "print(f'Los valores nulos son: {n}')\n",
    "\n",
    "#Obtenemos el valor máximo\n",
    "max = data['OverallCond'].describe().T[['max']] \n",
    "\n",
    "#Obtenemos el valor mínimo\n",
    "min = data['OverallCond'].describe().T[['min']] \n",
    "\n",
    "print(f'Los valores máximo y mínimo: \\n{max}\\n{min}')\n",
    "\n",
    "#Sacamos los outliers a partir de esta función:\n",
    "def is_outlier_IQR(df):\n",
    "    Q1=df.quantile(0.25)\n",
    "    Q3=df.quantile(0.75)\n",
    "    IQR = Q3-Q1\n",
    "    return (df<(Q1-1.5*IQR)) | (df>(Q3+1.5*IQR))\n",
    "outliercon1 = data['OverallCond'][is_outlier_IQR(data['OverallCond'])]\n",
    "\n",
    "#Hacemos unique para ver los valores exactos\n",
    "outliercon2 = outliercon1.unique()\n",
    "\n",
    "#Usamos len() para ver cuantos outliers hay en la columna\n",
    "print(f'Los valores de los outliers son: {outliercon2}, y en total son {len(outliercon1)} ')"
   ]
  }
 ],
 "metadata": {
  "kernelspec": {
   "display_name": "Python 3",
   "language": "python",
   "name": "python3"
  },
  "language_info": {
   "codemirror_mode": {
    "name": "ipython",
    "version": 3
   },
   "file_extension": ".py",
   "mimetype": "text/x-python",
   "name": "python",
   "nbconvert_exporter": "python",
   "pygments_lexer": "ipython3",
   "version": "3.11.2"
  },
  "orig_nbformat": 4
 },
 "nbformat": 4,
 "nbformat_minor": 2
}
