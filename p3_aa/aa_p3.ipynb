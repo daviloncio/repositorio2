{
 "cells": [
  {
   "cell_type": "code",
   "execution_count": 22,
   "metadata": {},
   "outputs": [
    {
     "name": "stdout",
     "output_type": "stream",
     "text": [
      "16\n",
      "26\n",
      "columna que hemos eliminado: Network type subscription in Month 1_Other\n"
     ]
    },
    {
     "data": {
      "text/plain": [
       "25"
      ]
     },
     "execution_count": 22,
     "metadata": {},
     "output_type": "execute_result"
    }
   ],
   "source": [
    "import pandas as pd ; import numpy as np\n",
    "data=pd.read_csv('./fuga_clientes_empresa_telefonica_construccion.csv')\n",
    "data_explot=pd.read_csv('./fuga_clientes_empresa_telefonica_explotacion.csv')\n",
    "#que es network age, dummy_encoding, todas las posibilidades que hay de tratar outliers y sus razones\n",
    "data = pd.get_dummies(data, columns=['Most Loved Competitor network in Month 2'], dtype= int, drop_first= True)\n",
    "data = pd.get_dummies(data, columns=['Most Loved Competitor network in Month 1'], dtype= int, drop_first= True)\n",
    "data = pd.get_dummies(data, columns=['Network type subscription in Month 1'], dtype= int, drop_first= True)\n",
    "data = pd.get_dummies(data, columns=['Network type subscription in Month 2'], dtype= int, drop_first= True)\n",
    "\n",
    "\n",
    "data_explot = pd.get_dummies(data_explot, columns=['Most Loved Competitor network in Month 2'], dtype= int, drop_first= True)\n",
    "data_explot = pd.get_dummies(data_explot, columns=['Most Loved Competitor network in Month 1'], dtype= int, drop_first= True)\n",
    "data_explot = pd.get_dummies(data_explot, columns=['Network type subscription in Month 1'], dtype= int, drop_first= True)\n",
    "data_explot = pd.get_dummies(data_explot, columns=['Network type subscription in Month 2'], dtype= int, drop_first= True)\n",
    "\n",
    "data=data.drop('Customer ID',axis=1)\n",
    "print(len(data.columns))\n",
    "\n"
   ]
  },
  {
   "cell_type": "code",
   "execution_count": null,
   "metadata": {},
   "outputs": [],
   "source": []
  },
  {
   "cell_type": "code",
   "execution_count": 20,
   "metadata": {},
   "outputs": [
    {
     "data": {
      "text/plain": [
       "network_age                                          0\n",
       "Customer tenure in month                             0\n",
       "Total Spend in Months 1 and 2 of 2017                0\n",
       "Total SMS Spend                                      0\n",
       "Total Data Spend                                     0\n",
       "Total Data Consumption                               0\n",
       "Total Unique Calls                                   0\n",
       "Total Onnet spend                                    0\n",
       "Total Offnet spend                                   0\n",
       "Total Call centre complaint calls                    0\n",
       "Churn Status                                         0\n",
       "Most Loved Competitor network in Month 2_PQza        0\n",
       "Most Loved Competitor network in Month 2_ToCall      0\n",
       "Most Loved Competitor network in Month 2_Uxaa        0\n",
       "Most Loved Competitor network in Month 2_Weematel    0\n",
       "Most Loved Competitor network in Month 2_Zintel      0\n",
       "Most Loved Competitor network in Month 1_Mango       0\n",
       "Most Loved Competitor network in Month 1_PQza        0\n",
       "Most Loved Competitor network in Month 1_ToCall      0\n",
       "Most Loved Competitor network in Month 1_Uxaa        0\n",
       "Most Loved Competitor network in Month 1_Weematel    0\n",
       "Most Loved Competitor network in Month 1_Zintel      0\n",
       "Network type subscription in Month 1_3G              0\n",
       "Network type subscription in Month 1_Other           0\n",
       "Network type subscription in Month 2_3G              0\n",
       "Network type subscription in Month 2_Other           0\n",
       "dtype: int64"
      ]
     },
     "execution_count": 20,
     "metadata": {},
     "output_type": "execute_result"
    }
   ],
   "source": [
    "#eliminar la fila con valor nulo en print('valores nulos:')\n",
    "data.isnull().sum()\n",
    "#NO BORRAMOS VALORES NULOS YA QUE EN LAS COLS DONDE HABIA NaN SE NOS INFORMABA DE QUE NO SE CONOCÍA DICHA INFORMACIÓN, \n",
    "#PERO SE PUEDE TRABAJAR CON LA FILA YA QUE NO ES INFORMACIÓN REALMENTE RELEVANTE\n",
    "#UNA VEZ HEMOS HECHO DUMMIES YA NO NOS QUEDAN VALORES NULOS,"
   ]
  },
  {
   "cell_type": "code",
   "execution_count": 7,
   "metadata": {},
   "outputs": [
    {
     "name": "stdout",
     "output_type": "stream",
     "text": [
      "outliers:\n"
     ]
    },
    {
     "data": {
      "text/plain": [
       "network_age                                5\n",
       "Customer tenure in month                   5\n",
       "Total Spend in Months 1 and 2 of 2017     62\n",
       "Total SMS Spend                          111\n",
       "Total Data Spend                         114\n",
       "Total Data Consumption                   157\n",
       "Total Unique Calls                       101\n",
       "Total Onnet spend                        120\n",
       "Total Offnet spend                       145\n",
       "Total Call centre complaint calls        124\n",
       "Churn Status                               0\n",
       "dtype: int64"
      ]
     },
     "execution_count": 7,
     "metadata": {},
     "output_type": "execute_result"
    }
   ],
   "source": [
    "data_num = pd.DataFrame(data.loc[:, data.dtypes != object])\n",
    "\n",
    "def is_outlier_IQR(df):\n",
    "    Q1=df.quantile(0.25)\n",
    "    Q3=df.quantile(0.75)\n",
    "    IQR = Q3-Q1\n",
    "    return (df<(Q1-1.5*IQR)) | (df>(Q3+1.5*IQR))\n",
    "\n",
    "def transformacion_log(elemento):\n",
    "    '''con apply podremos aplicar esta transformacion a cada elemento de cada columna con outliers'''\n",
    "    return np.log(elemento)+1\n",
    "\n",
    "\n",
    "print('outliers:')\n",
    "is_outlier_IQR(data_num).sum()\n",
    "\n",
    "#eiminar la fila con valor nulo en \n",
    "\n",
    "\n"
   ]
  },
  {
   "cell_type": "code",
   "execution_count": 8,
   "metadata": {},
   "outputs": [
    {
     "name": "stdout",
     "output_type": "stream",
     "text": [
      "outliers después de la transformación:\n"
     ]
    },
    {
     "name": "stderr",
     "output_type": "stream",
     "text": [
      "C:\\Users\\juanj\\AppData\\Local\\Packages\\PythonSoftwareFoundation.Python.3.10_qbz5n2kfra8p0\\LocalCache\\local-packages\\Python310\\site-packages\\pandas\\core\\arraylike.py:396: RuntimeWarning: invalid value encountered in log\n",
      "  result = getattr(ufunc, method)(*inputs, **kwargs)\n",
      "C:\\Users\\juanj\\AppData\\Local\\Packages\\PythonSoftwareFoundation.Python.3.10_qbz5n2kfra8p0\\LocalCache\\local-packages\\Python310\\site-packages\\pandas\\core\\arraylike.py:396: RuntimeWarning: divide by zero encountered in log\n",
      "  result = getattr(ufunc, method)(*inputs, **kwargs)\n"
     ]
    },
    {
     "data": {
      "text/plain": [
       "network_age                                1\n",
       "Customer tenure in month                   1\n",
       "Total Spend in Months 1 and 2 of 2017      5\n",
       "Total Call centre complaint calls         61\n",
       "Total Offnet spend                        35\n",
       "Total Onnet spend                        252\n",
       "Total Unique Calls                         0\n",
       "Total Data Consumption                     0\n",
       "Total Data Spend                         223\n",
       "Total SMS Spend                          191\n",
       "dtype: int64"
      ]
     },
     "execution_count": 8,
     "metadata": {},
     "output_type": "execute_result"
    }
   ],
   "source": [
    "cols_outliers=['network_age','Customer tenure in month','Total Spend in Months 1 and 2 of 2017','Total Call centre complaint calls','Total Offnet spend', 'Total Onnet spend','Total Unique Calls','Total Data Consumption','Total Data Spend','Total SMS Spend']\n",
    "\n",
    "data=data[cols_outliers].apply(transformacion_log)  #APLICAMOS TRANSFORMACIÓN SOLO EN COLS DONDE HAY OUTLIERS\n",
    "\n",
    "data_num = pd.DataFrame(data.loc[:, data.dtypes != object])  \n",
    "print('outliers después de la transformación:')\n",
    "is_outlier_IQR(data_num).sum()\n",
    "\n"
   ]
  },
  {
   "cell_type": "code",
   "execution_count": 4,
   "metadata": {},
   "outputs": [
    {
     "name": "stdout",
     "output_type": "stream",
     "text": [
      "1111\n",
      "588\n"
     ]
    }
   ],
   "source": [
    "\n",
    "print(len(data_num))\n",
    "is_outlier = is_outlier_IQR(data_num)\n",
    "data_num = data_num[~is_outlier.any(axis=1)]\n",
    "print(len(data_num))\n"
   ]
  },
  {
   "cell_type": "code",
   "execution_count": null,
   "metadata": {},
   "outputs": [],
   "source": []
  },
  {
   "cell_type": "code",
   "execution_count": 5,
   "metadata": {},
   "outputs": [
    {
     "name": "stdout",
     "output_type": "stream",
     "text": [
      "588 1111\n"
     ]
    }
   ],
   "source": [
    "\n",
    "\n",
    "print(len(data_num),len(data))"
   ]
  },
  {
   "cell_type": "code",
   "execution_count": 6,
   "metadata": {},
   "outputs": [
    {
     "data": {
      "text/html": [
       "<div>\n",
       "<style scoped>\n",
       "    .dataframe tbody tr th:only-of-type {\n",
       "        vertical-align: middle;\n",
       "    }\n",
       "\n",
       "    .dataframe tbody tr th {\n",
       "        vertical-align: top;\n",
       "    }\n",
       "\n",
       "    .dataframe thead th {\n",
       "        text-align: right;\n",
       "    }\n",
       "</style>\n",
       "<table border=\"1\" class=\"dataframe\">\n",
       "  <thead>\n",
       "    <tr style=\"text-align: right;\">\n",
       "      <th></th>\n",
       "      <th>network_age</th>\n",
       "      <th>Customer tenure in month</th>\n",
       "      <th>Total Spend in Months 1 and 2 of 2017</th>\n",
       "      <th>Total Call centre complaint calls</th>\n",
       "      <th>Total Offnet spend</th>\n",
       "      <th>Total Onnet spend</th>\n",
       "      <th>Total Unique Calls</th>\n",
       "      <th>Total Data Consumption</th>\n",
       "      <th>Total Data Spend</th>\n",
       "      <th>Total SMS Spend</th>\n",
       "    </tr>\n",
       "  </thead>\n",
       "  <tbody>\n",
       "    <tr>\n",
       "      <th>0</th>\n",
       "      <td>False</td>\n",
       "      <td>False</td>\n",
       "      <td>False</td>\n",
       "      <td>False</td>\n",
       "      <td>False</td>\n",
       "      <td>False</td>\n",
       "      <td>False</td>\n",
       "      <td>False</td>\n",
       "      <td>True</td>\n",
       "      <td>True</td>\n",
       "    </tr>\n",
       "    <tr>\n",
       "      <th>1</th>\n",
       "      <td>False</td>\n",
       "      <td>False</td>\n",
       "      <td>False</td>\n",
       "      <td>False</td>\n",
       "      <td>False</td>\n",
       "      <td>True</td>\n",
       "      <td>False</td>\n",
       "      <td>False</td>\n",
       "      <td>False</td>\n",
       "      <td>False</td>\n",
       "    </tr>\n",
       "    <tr>\n",
       "      <th>2</th>\n",
       "      <td>False</td>\n",
       "      <td>False</td>\n",
       "      <td>False</td>\n",
       "      <td>False</td>\n",
       "      <td>False</td>\n",
       "      <td>False</td>\n",
       "      <td>False</td>\n",
       "      <td>False</td>\n",
       "      <td>False</td>\n",
       "      <td>False</td>\n",
       "    </tr>\n",
       "    <tr>\n",
       "      <th>3</th>\n",
       "      <td>False</td>\n",
       "      <td>False</td>\n",
       "      <td>False</td>\n",
       "      <td>False</td>\n",
       "      <td>False</td>\n",
       "      <td>False</td>\n",
       "      <td>False</td>\n",
       "      <td>False</td>\n",
       "      <td>True</td>\n",
       "      <td>False</td>\n",
       "    </tr>\n",
       "    <tr>\n",
       "      <th>4</th>\n",
       "      <td>False</td>\n",
       "      <td>False</td>\n",
       "      <td>False</td>\n",
       "      <td>False</td>\n",
       "      <td>False</td>\n",
       "      <td>False</td>\n",
       "      <td>False</td>\n",
       "      <td>False</td>\n",
       "      <td>False</td>\n",
       "      <td>False</td>\n",
       "    </tr>\n",
       "    <tr>\n",
       "      <th>...</th>\n",
       "      <td>...</td>\n",
       "      <td>...</td>\n",
       "      <td>...</td>\n",
       "      <td>...</td>\n",
       "      <td>...</td>\n",
       "      <td>...</td>\n",
       "      <td>...</td>\n",
       "      <td>...</td>\n",
       "      <td>...</td>\n",
       "      <td>...</td>\n",
       "    </tr>\n",
       "    <tr>\n",
       "      <th>1106</th>\n",
       "      <td>False</td>\n",
       "      <td>False</td>\n",
       "      <td>True</td>\n",
       "      <td>True</td>\n",
       "      <td>False</td>\n",
       "      <td>False</td>\n",
       "      <td>False</td>\n",
       "      <td>False</td>\n",
       "      <td>False</td>\n",
       "      <td>False</td>\n",
       "    </tr>\n",
       "    <tr>\n",
       "      <th>1107</th>\n",
       "      <td>False</td>\n",
       "      <td>False</td>\n",
       "      <td>False</td>\n",
       "      <td>False</td>\n",
       "      <td>False</td>\n",
       "      <td>False</td>\n",
       "      <td>False</td>\n",
       "      <td>False</td>\n",
       "      <td>False</td>\n",
       "      <td>False</td>\n",
       "    </tr>\n",
       "    <tr>\n",
       "      <th>1108</th>\n",
       "      <td>False</td>\n",
       "      <td>False</td>\n",
       "      <td>False</td>\n",
       "      <td>False</td>\n",
       "      <td>False</td>\n",
       "      <td>True</td>\n",
       "      <td>False</td>\n",
       "      <td>False</td>\n",
       "      <td>False</td>\n",
       "      <td>True</td>\n",
       "    </tr>\n",
       "    <tr>\n",
       "      <th>1109</th>\n",
       "      <td>False</td>\n",
       "      <td>False</td>\n",
       "      <td>False</td>\n",
       "      <td>False</td>\n",
       "      <td>False</td>\n",
       "      <td>False</td>\n",
       "      <td>False</td>\n",
       "      <td>False</td>\n",
       "      <td>False</td>\n",
       "      <td>False</td>\n",
       "    </tr>\n",
       "    <tr>\n",
       "      <th>1110</th>\n",
       "      <td>False</td>\n",
       "      <td>False</td>\n",
       "      <td>False</td>\n",
       "      <td>True</td>\n",
       "      <td>False</td>\n",
       "      <td>False</td>\n",
       "      <td>False</td>\n",
       "      <td>False</td>\n",
       "      <td>True</td>\n",
       "      <td>False</td>\n",
       "    </tr>\n",
       "  </tbody>\n",
       "</table>\n",
       "<p>1111 rows × 10 columns</p>\n",
       "</div>"
      ],
      "text/plain": [
       "      network_age  Customer tenure in month  \\\n",
       "0           False                     False   \n",
       "1           False                     False   \n",
       "2           False                     False   \n",
       "3           False                     False   \n",
       "4           False                     False   \n",
       "...           ...                       ...   \n",
       "1106        False                     False   \n",
       "1107        False                     False   \n",
       "1108        False                     False   \n",
       "1109        False                     False   \n",
       "1110        False                     False   \n",
       "\n",
       "      Total Spend in Months 1 and 2 of 2017  \\\n",
       "0                                     False   \n",
       "1                                     False   \n",
       "2                                     False   \n",
       "3                                     False   \n",
       "4                                     False   \n",
       "...                                     ...   \n",
       "1106                                   True   \n",
       "1107                                  False   \n",
       "1108                                  False   \n",
       "1109                                  False   \n",
       "1110                                  False   \n",
       "\n",
       "      Total Call centre complaint calls  Total Offnet spend  \\\n",
       "0                                 False               False   \n",
       "1                                 False               False   \n",
       "2                                 False               False   \n",
       "3                                 False               False   \n",
       "4                                 False               False   \n",
       "...                                 ...                 ...   \n",
       "1106                               True               False   \n",
       "1107                              False               False   \n",
       "1108                              False               False   \n",
       "1109                              False               False   \n",
       "1110                               True               False   \n",
       "\n",
       "      Total Onnet spend  Total Unique Calls  Total Data Consumption  \\\n",
       "0                 False               False                   False   \n",
       "1                  True               False                   False   \n",
       "2                 False               False                   False   \n",
       "3                 False               False                   False   \n",
       "4                 False               False                   False   \n",
       "...                 ...                 ...                     ...   \n",
       "1106              False               False                   False   \n",
       "1107              False               False                   False   \n",
       "1108               True               False                   False   \n",
       "1109              False               False                   False   \n",
       "1110              False               False                   False   \n",
       "\n",
       "      Total Data Spend  Total SMS Spend  \n",
       "0                 True             True  \n",
       "1                False            False  \n",
       "2                False            False  \n",
       "3                 True            False  \n",
       "4                False            False  \n",
       "...                ...              ...  \n",
       "1106             False            False  \n",
       "1107             False            False  \n",
       "1108             False             True  \n",
       "1109             False            False  \n",
       "1110              True            False  \n",
       "\n",
       "[1111 rows x 10 columns]"
      ]
     },
     "execution_count": 6,
     "metadata": {},
     "output_type": "execute_result"
    }
   ],
   "source": [
    "is_outlier"
   ]
  },
  {
   "cell_type": "code",
   "execution_count": 7,
   "metadata": {},
   "outputs": [
    {
     "name": "stderr",
     "output_type": "stream",
     "text": [
      "C:\\Users\\juanj\\AppData\\Local\\Temp\\ipykernel_13448\\1126237896.py:2: UserWarning: Boolean Series key will be reindexed to match DataFrame index.\n",
      "  data_num=data_num[~is_outlier.any(axis = 1)]  #solo salen filas que pasadas por is_outlier devuelvan false\n"
     ]
    },
    {
     "data": {
      "text/plain": [
       "network_age                                1\n",
       "Customer tenure in month                   1\n",
       "Total Spend in Months 1 and 2 of 2017      5\n",
       "Total Call centre complaint calls         61\n",
       "Total Offnet spend                        35\n",
       "Total Onnet spend                        252\n",
       "Total Unique Calls                         0\n",
       "Total Data Consumption                     0\n",
       "Total Data Spend                         223\n",
       "Total SMS Spend                          191\n",
       "dtype: int64"
      ]
     },
     "execution_count": 7,
     "metadata": {},
     "output_type": "execute_result"
    }
   ],
   "source": [
    "\n",
    "# Eliminación de todas las filas que contienen algún valor atípico:\n",
    "data_num=data_num[~is_outlier.any(axis = 1)]  #solo salen filas que pasadas por is_outlier devuelvan false\n",
    "is_outlier.sum()"
   ]
  },
  {
   "cell_type": "code",
   "execution_count": 8,
   "metadata": {},
   "outputs": [
    {
     "name": "stdout",
     "output_type": "stream",
     "text": [
      "duplicados en la primary key:\n"
     ]
    },
    {
     "ename": "KeyError",
     "evalue": "'Customer ID'",
     "output_type": "error",
     "traceback": [
      "\u001b[1;31m---------------------------------------------------------------------------\u001b[0m",
      "\u001b[1;31mKeyError\u001b[0m                                  Traceback (most recent call last)",
      "File \u001b[1;32m~\\AppData\\Local\\Packages\\PythonSoftwareFoundation.Python.3.10_qbz5n2kfra8p0\\LocalCache\\local-packages\\Python310\\site-packages\\pandas\\core\\indexes\\base.py:3790\u001b[0m, in \u001b[0;36mIndex.get_loc\u001b[1;34m(self, key)\u001b[0m\n\u001b[0;32m   3789\u001b[0m \u001b[39mtry\u001b[39;00m:\n\u001b[1;32m-> 3790\u001b[0m     \u001b[39mreturn\u001b[39;00m \u001b[39mself\u001b[39;49m\u001b[39m.\u001b[39;49m_engine\u001b[39m.\u001b[39;49mget_loc(casted_key)\n\u001b[0;32m   3791\u001b[0m \u001b[39mexcept\u001b[39;00m \u001b[39mKeyError\u001b[39;00m \u001b[39mas\u001b[39;00m err:\n",
      "File \u001b[1;32mindex.pyx:152\u001b[0m, in \u001b[0;36mpandas._libs.index.IndexEngine.get_loc\u001b[1;34m()\u001b[0m\n",
      "File \u001b[1;32mindex.pyx:181\u001b[0m, in \u001b[0;36mpandas._libs.index.IndexEngine.get_loc\u001b[1;34m()\u001b[0m\n",
      "File \u001b[1;32mpandas\\_libs\\hashtable_class_helper.pxi:7080\u001b[0m, in \u001b[0;36mpandas._libs.hashtable.PyObjectHashTable.get_item\u001b[1;34m()\u001b[0m\n",
      "File \u001b[1;32mpandas\\_libs\\hashtable_class_helper.pxi:7088\u001b[0m, in \u001b[0;36mpandas._libs.hashtable.PyObjectHashTable.get_item\u001b[1;34m()\u001b[0m\n",
      "\u001b[1;31mKeyError\u001b[0m: 'Customer ID'",
      "\nThe above exception was the direct cause of the following exception:\n",
      "\u001b[1;31mKeyError\u001b[0m                                  Traceback (most recent call last)",
      "\u001b[1;32mc:\\Users\\juanj\\OneDrive\\Documentos\\3er cuatri\\repositorio2\\repositorio2\\p3_aa\\aa_p3.ipynb Celda 9\u001b[0m line \u001b[0;36m2\n\u001b[0;32m      <a href='vscode-notebook-cell:/c%3A/Users/juanj/OneDrive/Documentos/3er%20cuatri/repositorio2/repositorio2/p3_aa/aa_p3.ipynb#X11sZmlsZQ%3D%3D?line=0'>1</a>\u001b[0m \u001b[39mprint\u001b[39m(\u001b[39m'\u001b[39m\u001b[39mduplicados en la primary key:\u001b[39m\u001b[39m'\u001b[39m)\n\u001b[1;32m----> <a href='vscode-notebook-cell:/c%3A/Users/juanj/OneDrive/Documentos/3er%20cuatri/repositorio2/repositorio2/p3_aa/aa_p3.ipynb#X11sZmlsZQ%3D%3D?line=1'>2</a>\u001b[0m \u001b[39mprint\u001b[39m(data[\u001b[39m'\u001b[39;49m\u001b[39mCustomer ID\u001b[39;49m\u001b[39m'\u001b[39;49m]\u001b[39m.\u001b[39mduplicated()\u001b[39m.\u001b[39many())\n",
      "File \u001b[1;32m~\\AppData\\Local\\Packages\\PythonSoftwareFoundation.Python.3.10_qbz5n2kfra8p0\\LocalCache\\local-packages\\Python310\\site-packages\\pandas\\core\\frame.py:3893\u001b[0m, in \u001b[0;36mDataFrame.__getitem__\u001b[1;34m(self, key)\u001b[0m\n\u001b[0;32m   3891\u001b[0m \u001b[39mif\u001b[39;00m \u001b[39mself\u001b[39m\u001b[39m.\u001b[39mcolumns\u001b[39m.\u001b[39mnlevels \u001b[39m>\u001b[39m \u001b[39m1\u001b[39m:\n\u001b[0;32m   3892\u001b[0m     \u001b[39mreturn\u001b[39;00m \u001b[39mself\u001b[39m\u001b[39m.\u001b[39m_getitem_multilevel(key)\n\u001b[1;32m-> 3893\u001b[0m indexer \u001b[39m=\u001b[39m \u001b[39mself\u001b[39;49m\u001b[39m.\u001b[39;49mcolumns\u001b[39m.\u001b[39;49mget_loc(key)\n\u001b[0;32m   3894\u001b[0m \u001b[39mif\u001b[39;00m is_integer(indexer):\n\u001b[0;32m   3895\u001b[0m     indexer \u001b[39m=\u001b[39m [indexer]\n",
      "File \u001b[1;32m~\\AppData\\Local\\Packages\\PythonSoftwareFoundation.Python.3.10_qbz5n2kfra8p0\\LocalCache\\local-packages\\Python310\\site-packages\\pandas\\core\\indexes\\base.py:3797\u001b[0m, in \u001b[0;36mIndex.get_loc\u001b[1;34m(self, key)\u001b[0m\n\u001b[0;32m   3792\u001b[0m     \u001b[39mif\u001b[39;00m \u001b[39misinstance\u001b[39m(casted_key, \u001b[39mslice\u001b[39m) \u001b[39mor\u001b[39;00m (\n\u001b[0;32m   3793\u001b[0m         \u001b[39misinstance\u001b[39m(casted_key, abc\u001b[39m.\u001b[39mIterable)\n\u001b[0;32m   3794\u001b[0m         \u001b[39mand\u001b[39;00m \u001b[39many\u001b[39m(\u001b[39misinstance\u001b[39m(x, \u001b[39mslice\u001b[39m) \u001b[39mfor\u001b[39;00m x \u001b[39min\u001b[39;00m casted_key)\n\u001b[0;32m   3795\u001b[0m     ):\n\u001b[0;32m   3796\u001b[0m         \u001b[39mraise\u001b[39;00m InvalidIndexError(key)\n\u001b[1;32m-> 3797\u001b[0m     \u001b[39mraise\u001b[39;00m \u001b[39mKeyError\u001b[39;00m(key) \u001b[39mfrom\u001b[39;00m \u001b[39merr\u001b[39;00m\n\u001b[0;32m   3798\u001b[0m \u001b[39mexcept\u001b[39;00m \u001b[39mTypeError\u001b[39;00m:\n\u001b[0;32m   3799\u001b[0m     \u001b[39m# If we have a listlike key, _check_indexing_error will raise\u001b[39;00m\n\u001b[0;32m   3800\u001b[0m     \u001b[39m#  InvalidIndexError. Otherwise we fall through and re-raise\u001b[39;00m\n\u001b[0;32m   3801\u001b[0m     \u001b[39m#  the TypeError.\u001b[39;00m\n\u001b[0;32m   3802\u001b[0m     \u001b[39mself\u001b[39m\u001b[39m.\u001b[39m_check_indexing_error(key)\n",
      "\u001b[1;31mKeyError\u001b[0m: 'Customer ID'"
     ]
    }
   ],
   "source": [
    "\n",
    "print('duplicados en la primary key:')\n",
    "print(data['Customer ID'].duplicated().any())"
   ]
  },
  {
   "cell_type": "code",
   "execution_count": 10,
   "metadata": {},
   "outputs": [
    {
     "name": "stdout",
     "output_type": "stream",
     "text": [
      "valores nulos:\n"
     ]
    },
    {
     "data": {
      "text/plain": [
       "Customer ID                                  0\n",
       "network_age                                  0\n",
       "Customer tenure in month                     0\n",
       "Total Spend in Months 1 and 2 of 2017        0\n",
       "Total SMS Spend                              0\n",
       "Total Data Spend                             0\n",
       "Total Data Consumption                       0\n",
       "Total Unique Calls                           0\n",
       "Total Onnet spend                            0\n",
       "Total Offnet spend                           0\n",
       "Total Call centre complaint calls            0\n",
       "Network type subscription in Month 1         0\n",
       "Network type subscription in Month 2        22\n",
       "Most Loved Competitor network in Month 1     1\n",
       "Most Loved Competitor network in Month 2     1\n",
       "Churn Status                                 0\n",
       "dtype: int64"
      ]
     },
     "execution_count": 10,
     "metadata": {},
     "output_type": "execute_result"
    }
   ],
   "source": []
  },
  {
   "cell_type": "markdown",
   "metadata": {},
   "source": [
    "b) network_age"
   ]
  },
  {
   "cell_type": "markdown",
   "metadata": {},
   "source": []
  },
  {
   "cell_type": "code",
   "execution_count": null,
   "metadata": {},
   "outputs": [
    {
     "data": {
      "text/plain": [
       "network_age\n",
       "False    1111\n",
       "Name: count, dtype: int64"
      ]
     },
     "execution_count": 36,
     "metadata": {},
     "output_type": "execute_result"
    },
    {
     "data": {
      "image/png": "[encoded data removed]",
      "text/plain": [
       "<Figure size 640x480 with 1 Axes>"
      ]
     },
     "metadata": {},
     "output_type": "display_data"
    }
   ],
   "source": [
    "#TODAS LAS COLS CON OUTLIERS TIENEN COLA PESADA\n",
    "data['network_age'].hist()\n",
    "is_outlier_IQR(data['Total Call centre complaint calls']).value_counts()\n",
    "\n",
    "data['network_age'].isna().value_counts()"
   ]
  },
  {
   "cell_type": "markdown",
   "metadata": {},
   "source": [
    "d) Total Spend in Months 1 and 2 of 2017"
   ]
  },
  {
   "cell_type": "code",
   "execution_count": null,
   "metadata": {},
   "outputs": [],
   "source": []
  },
  {
   "cell_type": "markdown",
   "metadata": {},
   "source": [
    "# Total Data Spend"
   ]
  },
  {
   "cell_type": "code",
   "execution_count": null,
   "metadata": {},
   "outputs": [],
   "source": []
  },
  {
   "cell_type": "markdown",
   "metadata": {},
   "source": [
    "# Total Unique Calls"
   ]
  },
  {
   "cell_type": "code",
   "execution_count": null,
   "metadata": {},
   "outputs": [],
   "source": []
  },
  {
   "cell_type": "markdown",
   "metadata": {},
   "source": [
    "# Total Offnet spend"
   ]
  },
  {
   "cell_type": "code",
   "execution_count": null,
   "metadata": {},
   "outputs": [],
   "source": []
  },
  {
   "cell_type": "markdown",
   "metadata": {},
   "source": [
    "# Network type subscription in Month 1"
   ]
  },
  {
   "cell_type": "code",
   "execution_count": null,
   "metadata": {},
   "outputs": [],
   "source": []
  },
  {
   "cell_type": "markdown",
   "metadata": {},
   "source": [
    "# Most Loved Competitor network in in Month 1"
   ]
  },
  {
   "cell_type": "code",
   "execution_count": null,
   "metadata": {},
   "outputs": [],
   "source": []
  },
  {
   "cell_type": "markdown",
   "metadata": {},
   "source": [
    "# Churn Status (variable a predecir)"
   ]
  },
  {
   "cell_type": "code",
   "execution_count": null,
   "metadata": {},
   "outputs": [],
   "source": []
  }
 ],
 "metadata": {
  "kernelspec": {
   "display_name": "Python 3",
   "language": "python",
   "name": "python3"
  },
  "language_info": {
   "codemirror_mode": {
    "name": "ipython",
    "version": 3
   },
   "file_extension": ".py",
   "mimetype": "text/x-python",
   "name": "python",
   "nbconvert_exporter": "python",
   "pygments_lexer": "ipython3",
   "version": "3.10.11"
  }
 },
 "nbformat": 4,
 "nbformat_minor": 2
}
