{
 "cells": [
  {
   "cell_type": "markdown",
   "metadata": {},
   "source": [
    "David López Valdivia y Jimena de Prado González"
   ]
  },
  {
   "cell_type": "markdown",
   "metadata": {},
   "source": [
    "# <span style='color:tan'> SEMANA 1 </span>"
   ]
  },
  {
   "cell_type": "markdown",
   "metadata": {},
   "source": [
    "- Empezamos importando las librerías que vamos a usar y el dataset"
   ]
  },
  {
   "cell_type": "code",
   "execution_count": 429,
   "metadata": {},
   "outputs": [],
   "source": [
    "import numpy as np, pandas as pd, seaborn as sns\n",
    "import scipy\n",
    "from matplotlib import pyplot as plt\n",
    "pd.set_option.display_maxcolumns = 100\n",
    "data = pd.read_csv('fuga_clientes_empresa_telefonica_construccion.csv')\n",
    "data_explot=pd.read_csv('fuga_clientes_empresa_telefonica_explotacion.csv')"
   ]
  },
  {
   "cell_type": "markdown",
   "metadata": {},
   "source": [
    "## <span style='color:darksalmon'> Paso 1: Limpieza del dataset </span>"
   ]
  },
  {
   "cell_type": "markdown",
   "metadata": {},
   "source": [
    "- Vamos a empezar indicando que variables tienen valores nulos y cuáles tienen outliers para facilitar el preprocesado. \n",
    "\n",
    "Haremos la partición de train y test al final del preprocesado para evitar más lineas de las necesarias, ya que todas las modificaciones que aplicamos son válidas para ambos conjuntos. Una vez creemos test haremos algún cambio adicional sobre este, como borrar Churn Status."
   ]
  },
  {
   "cell_type": "markdown",
   "metadata": {},
   "source": [
    "#### <span style='color:sienna'> Valores nulos: </span>"
   ]
  },
  {
   "cell_type": "code",
   "execution_count": 430,
   "metadata": {},
   "outputs": [
    {
     "data": {
      "text/plain": [
       "Customer ID                                  0\n",
       "network_age                                  0\n",
       "Customer tenure in month                     0\n",
       "Total Spend in Months 1 and 2 of 2017        0\n",
       "Total SMS Spend                              0\n",
       "Total Data Spend                             0\n",
       "Total Data Consumption                       0\n",
       "Total Unique Calls                           0\n",
       "Total Onnet spend                            0\n",
       "Total Offnet spend                           0\n",
       "Total Call centre complaint calls            0\n",
       "Network type subscription in Month 1         0\n",
       "Network type subscription in Month 2        22\n",
       "Most Loved Competitor network in Month 1     1\n",
       "Most Loved Competitor network in Month 2     1\n",
       "Churn Status                                 0\n",
       "dtype: int64"
      ]
     },
     "execution_count": 430,
     "metadata": {},
     "output_type": "execute_result"
    }
   ],
   "source": [
    "data.isnull().sum()"
   ]
  },
  {
   "cell_type": "markdown",
   "metadata": {},
   "source": [
    "#### <span style='color:sienna'> Outliers: </span>"
   ]
  },
  {
   "cell_type": "code",
   "execution_count": 431,
   "metadata": {},
   "outputs": [
    {
     "data": {
      "text/plain": [
       "network_age                                5\n",
       "Customer tenure in month                   5\n",
       "Total Spend in Months 1 and 2 of 2017     62\n",
       "Total SMS Spend                          111\n",
       "Total Data Spend                         114\n",
       "Total Data Consumption                   157\n",
       "Total Unique Calls                       101\n",
       "Total Onnet spend                        120\n",
       "Total Offnet spend                       145\n",
       "Total Call centre complaint calls        124\n",
       "Churn Status                               0\n",
       "dtype: int64"
      ]
     },
     "execution_count": 431,
     "metadata": {},
     "output_type": "execute_result"
    }
   ],
   "source": [
    "#Función para detectar outliers:\n",
    "def is_outlier_IQR(df):\n",
    "    Q1=df.quantile(0.25)\n",
    "    Q3=df.quantile(0.75)\n",
    "    IQR = Q3-Q1\n",
    "    return (df<(Q1-1.5*IQR)) | (df>(Q3+1.5*IQR))\n",
    "#Tomamos solo las variables numéricas\n",
    "data_numericos = data.loc[:, data.dtypes != object]\n",
    "is_outlier_IQR(data_numericos).sum()"
   ]
  },
  {
   "cell_type": "markdown",
   "metadata": {},
   "source": [
    "### <span style='color:burlywood'> a) Customer ID </span>"
   ]
  },
  {
   "cell_type": "markdown",
   "metadata": {},
   "source": [
    "- Esta variable representa los ID de todos los clientes, veamos sus valores únicos para comprobarlo:"
   ]
  },
  {
   "cell_type": "code",
   "execution_count": 432,
   "metadata": {},
   "outputs": [
    {
     "data": {
      "text/plain": [
       "array(['ADF0039', 'ADF0040', 'ADF0041', ..., 'ADF1998', 'ADF1999',\n",
       "       'ADF2000'], dtype=object)"
      ]
     },
     "execution_count": 432,
     "metadata": {},
     "output_type": "execute_result"
    }
   ],
   "source": [
    "data['Customer ID'].unique()"
   ]
  },
  {
   "cell_type": "markdown",
   "metadata": {},
   "source": [
    "- Como esta variable no es relevante podemos eliminarla"
   ]
  },
  {
   "cell_type": "code",
   "execution_count": 433,
   "metadata": {},
   "outputs": [],
   "source": [
    "data= data.drop('Customer ID', axis = 1)\n",
    "data_explot = data_explot.drop('Customer ID', axis= 1) #También lo quitamos del conjunto de entrenamiento"
   ]
  },
  {
   "cell_type": "markdown",
   "metadata": {},
   "source": [
    "### <span style='color:burlywood'> b) network_age </span>"
   ]
  },
  {
   "cell_type": "markdown",
   "metadata": {},
   "source": [
    "- Esta variable numérica informa sobre el tiempo que llevan usando esa red.Nos encontramos 5 outliers"
   ]
  },
  {
   "cell_type": "code",
   "execution_count": 434,
   "metadata": {},
   "outputs": [
    {
     "name": "stdout",
     "output_type": "stream",
     "text": [
      "Número de outliers: 5\n",
      "Numero de valores nulos: 0\n"
     ]
    }
   ],
   "source": [
    "print('Número de outliers:',is_outlier_IQR(data['network_age']).sum())\n",
    "print('Numero de valores nulos:',data['network_age'].isnull().sum())"
   ]
  },
  {
   "cell_type": "code",
   "execution_count": 435,
   "metadata": {},
   "outputs": [
    {
     "data": {
      "image/png": "[encoded data removed]",
      "text/plain": [
       "<Figure size 640x480 with 1 Axes>"
      ]
     },
     "metadata": {},
     "output_type": "display_data"
    }
   ],
   "source": [
    "fig, ax = plt.subplots(1, 1) \n",
    "ax.hist(data['network_age'],color = \"green\") \n",
    "  \n",
    "ax.set_title(\"network_age\")\n",
    "plt.grid()\n",
    "plt.show()"
   ]
  },
  {
   "cell_type": "markdown",
   "metadata": {},
   "source": [
    "- Se ve que tiene distribución de cola pesada. No creemos que sea necesario hacer un ajuste logarítmico en ninguna de las siguientes variables con outliers ya que este puede aumentar la sensibilidad a outliers (hemos comprobado que magnifica los efectos de los outliers) y da problemas con los valores negativos que hay en el dataset"
   ]
  },
  {
   "cell_type": "markdown",
   "metadata": {},
   "source": [
    "### <span style='color:burlywood'> c) Customer tenure in month </span>"
   ]
  },
  {
   "cell_type": "code",
   "execution_count": 436,
   "metadata": {},
   "outputs": [
    {
     "data": {
      "text/plain": [
       "Customer tenure in month\n",
       "3.90      7\n",
       "3.67      6\n",
       "4.17      5\n",
       "4.00      4\n",
       "3.57      4\n",
       "         ..\n",
       "20.87     1\n",
       "107.10    1\n",
       "23.97     1\n",
       "73.83     1\n",
       "31.23     1\n",
       "Name: count, Length: 883, dtype: int64"
      ]
     },
     "execution_count": 436,
     "metadata": {},
     "output_type": "execute_result"
    }
   ],
   "source": [
    "data['Customer tenure in month'].value_counts()"
   ]
  },
  {
   "cell_type": "markdown",
   "metadata": {},
   "source": [
    "- Por sus valores se puede deducir que se trata de una variable numérica representa los meses que lleva un cliente en la compañía"
   ]
  },
  {
   "cell_type": "markdown",
   "metadata": {},
   "source": [
    "### <span style='color:burlywood'> d) Total Spend in Months 1 and 2 of 2017 </span>"
   ]
  },
  {
   "cell_type": "code",
   "execution_count": 437,
   "metadata": {},
   "outputs": [
    {
     "data": {
      "text/plain": [
       "Total Spend in Months 1 and 2 of 2017\n",
       "875.4000     4\n",
       "437.7000     2\n",
       "1841.6900    2\n",
       "125.1500     2\n",
       "1248.5104    2\n",
       "            ..\n",
       "767.6400     1\n",
       "905.4300     1\n",
       "85.4300      1\n",
       "48.3496      1\n",
       "172.1000     1\n",
       "Name: count, Length: 1103, dtype: int64"
      ]
     },
     "execution_count": 437,
     "metadata": {},
     "output_type": "execute_result"
    }
   ],
   "source": [
    "data['Total Spend in Months 1 and 2 of 2017'].value_counts()"
   ]
  },
  {
   "cell_type": "markdown",
   "metadata": {},
   "source": [
    "- Esta variable numérica nos habla de lo que se ha gastado cada cliente en los dos meses"
   ]
  },
  {
   "cell_type": "markdown",
   "metadata": {},
   "source": [
    "### <span style='color:burlywood'> e) Total SMS Spend </span>"
   ]
  },
  {
   "cell_type": "code",
   "execution_count": 438,
   "metadata": {},
   "outputs": [
    {
     "data": {
      "text/plain": [
       "Total SMS Spend\n",
       "0.00     163\n",
       "1.75      42\n",
       "3.50      20\n",
       "0.01      19\n",
       "5.25      18\n",
       "        ... \n",
       "56.72      1\n",
       "35.32      1\n",
       "26.18      1\n",
       "9.49       1\n",
       "32.40      1\n",
       "Name: count, Length: 601, dtype: int64"
      ]
     },
     "execution_count": 438,
     "metadata": {},
     "output_type": "execute_result"
    }
   ],
   "source": [
    "data['Total SMS Spend'].value_counts()"
   ]
  },
  {
   "cell_type": "markdown",
   "metadata": {},
   "source": [
    "- Por estos valores podemos deducir que se trata del gasto en mensajes SMS de cada cliente "
   ]
  },
  {
   "cell_type": "markdown",
   "metadata": {},
   "source": [
    "### <span style='color:burlywood'> f) Total Data Spend </span>"
   ]
  },
  {
   "cell_type": "code",
   "execution_count": 439,
   "metadata": {},
   "outputs": [
    {
     "data": {
      "text/plain": [
       "Total Data Spend\n",
       "0.00       223\n",
       "1.25        96\n",
       "2.50        45\n",
       "3.75        42\n",
       "5.00        34\n",
       "          ... \n",
       "24.80        1\n",
       "505.00       1\n",
       "353.75       1\n",
       "23.50        1\n",
       "8295.00      1\n",
       "Name: count, Length: 229, dtype: int64"
      ]
     },
     "execution_count": 439,
     "metadata": {},
     "output_type": "execute_result"
    }
   ],
   "source": [
    "data['Total Data Spend'].value_counts()"
   ]
  },
  {
   "cell_type": "markdown",
   "metadata": {},
   "source": [
    "- Variable numérica que nos indica el total de datos gastados"
   ]
  },
  {
   "cell_type": "markdown",
   "metadata": {},
   "source": [
    "### <span style='color:burlywood'> g) Total Data Consumption </span>"
   ]
  },
  {
   "cell_type": "code",
   "execution_count": 440,
   "metadata": {},
   "outputs": [
    {
     "data": {
      "text/plain": [
       "array([1.47383000e+01, 8.34497342e+07, 7.11599229e+04, ...,\n",
       "       1.31274587e+05, 2.16600627e+06, 1.82811500e+02])"
      ]
     },
     "execution_count": 440,
     "metadata": {},
     "output_type": "execute_result"
    }
   ],
   "source": [
    "data['Total Data Consumption'].unique()"
   ]
  },
  {
   "cell_type": "markdown",
   "metadata": {},
   "source": [
    "- Variable numérica que nos dice el consumo total de datos"
   ]
  },
  {
   "cell_type": "markdown",
   "metadata": {},
   "source": [
    "### <span style='color:burlywood'> h) Total Unique Calls </span>"
   ]
  },
  {
   "cell_type": "code",
   "execution_count": 441,
   "metadata": {},
   "outputs": [
    {
     "data": {
      "text/plain": [
       "array([ 788, 1127,   15,   70,   98,   72,   92,   49, 1460,  757,   52,\n",
       "          5,  687,  195,   13,   77,  119,   44,   87,   39,  570,   19,\n",
       "         11,    9,   35,   12,   33,  571,  587,  241,  104,  223, 1605,\n",
       "          4,   20,   28,    8,  153,  657,   14,   82,  660,  408,  444,\n",
       "        141,   16,  198,  332,   99,  207,   91,   21,    3,  460, 1238,\n",
       "         29,  463,    7,  340,  209,   23,  528,   22,  954,  575,    1,\n",
       "         45,  182,   34,  172,   41,  300,  163,  120,   18,  218,  116,\n",
       "         27,  178,    2,  647,   24,  269,  146,  130,  225,  315,  397,\n",
       "       1090,   50,   32,   53,  671,  122,  527,   65,  395,  186,  136,\n",
       "        293,  200,  125,  278,  415,   76,   89,  420,  267,  224,  170,\n",
       "        763,   75,  114,   42,   54, 1253,  138,  151,   73,  247,  113,\n",
       "        436,  111,  166,   79,  191,   96,  147,   94,  231, 1470,   10,\n",
       "        927,  112,  117,  500,  659,  324,  296,  813,    6,  339,  263,\n",
       "        155, 1038,  279,   40, 1864,  105,  641,   25,  317,  474,  162,\n",
       "        308,   46,  662,  421,   51,  483,  779,  175,  656,  132,   74,\n",
       "        143,  800,  582,  273,   93,  234,  260,  157,  873,  259,  290,\n",
       "         26,  361,   84,  101,  482,   38,  732,   30,  268,  158,   78,\n",
       "        233,  353,  177,  417,  216,  934,   95,   88,  337,   17, 1805,\n",
       "         56,   69,   67,  471,  370,  822,  184,   48,  334,  107,  135,\n",
       "        469,  131,  523,  210,   81,  714,  694,  753,  782,  947,   61,\n",
       "        197,  228,  974,  142,  165,  134,  253,  554,  251,  506,   31,\n",
       "        547,  375,  214,  123,  193,  276,  539,  168,  961, 1232,   36,\n",
       "        581,  102,  206,  249,  199,   43,   62,   37,  196,   85,  352,\n",
       "        306,  204,   60,  127,  176,  776,  524,  682,  562,  254,  319,\n",
       "       1256,  190,  342,  392,  303,  128,  478,  333,  226, 1809,   55,\n",
       "        341,  129,   71, 1578,  416,   90,  159,  627,  139,  691,  329,\n",
       "        985,   47,  619,  152,  313,  868,  144,  597,  220,  561,  265,\n",
       "       1073,  145, 1020,  252,  425,   63,  106,  351,  229,  633,  939,\n",
       "        239,  401,  544,  148,  100,   58,   68,  716,  786,   97,  489,\n",
       "        174,  487,   57,  590,  285,  865,   64,  391,  346, 1156,  675,\n",
       "        545,  240,  857,  537,  336,  636, 2016,  725,  522,  530,  232,\n",
       "        801, 1170,  328,  512,  674,  150,  708,  690,  126,   83,  164,\n",
       "       1115,  304,  932,  213,  289,  624,  578,  612,  205,  109, 1378,\n",
       "        445,  652, 1149,   66,  585, 2075,  432,  510,  462,  189,  805,\n",
       "        345,  222,  787,  531, 1059,  156,  257,  600,  262,  103,  118,\n",
       "        169,  748,  514,  137,  292,  427,  215,  385,  712,  723,  167,\n",
       "        108, 1580,  389,  742,  569, 1807, 1320,  398,  888, 1152,  486,\n",
       "        238,  645, 1206,  271,  468,  430,  244,  598,  325,  121,  494,\n",
       "        338,  110,  173,  567,  502,  192,  221,  246,  410, 1575,  456,\n",
       "       2184,  411,  700,  386,  678,  245,  439,  642, 1252,  560,  466,\n",
       "        526], dtype=int64)"
      ]
     },
     "execution_count": 441,
     "metadata": {},
     "output_type": "execute_result"
    }
   ],
   "source": [
    "data['Total Unique Calls'].unique()"
   ]
  },
  {
   "cell_type": "markdown",
   "metadata": {},
   "source": [
    "- Variable numérioca que nos muestra el número total de llamadas únicas"
   ]
  },
  {
   "cell_type": "markdown",
   "metadata": {},
   "source": [
    "### <span style='color:burlywood'> i) Total Onnet spend </span>"
   ]
  },
  {
   "cell_type": "code",
   "execution_count": 442,
   "metadata": {},
   "outputs": [
    {
     "data": {
      "text/plain": [
       "array([  2940,      0,    131,    696,  18635,   5532,    600,   2892,\n",
       "        15225,   1428,   2155,    120,  10578,  17184,  10305,   1470,\n",
       "        13980,    885,   7260,   2832,     60,    480,   1024,    906,\n",
       "          228,     24,    168,    888,  38778,  10255,    486,  24828,\n",
       "         1254,  31601,   2710,    502,  11478,   1908,     12,  75699,\n",
       "          564,   3024,  10516,   5080,    275,  24450,   5271,  11378,\n",
       "          813,  18100,   4744,    992,   1092,   5713,    804,   4338,\n",
       "          558,   1304,  49351,   5568,  10008,    324,  55390,   5287,\n",
       "         1506,   2799,   9395,   1829,   5472,  71208,   3387,  12324,\n",
       "          287,    216,  48720,   2850,    970,  16087,    753,  64872,\n",
       "         4131,    526,   4584,   4853,   8928,   2421,    738,   1243,\n",
       "         4569,   5634,    570,    132,   7608,  18603,   9666,   2700,\n",
       "         2268,   3452,   4434,   8856,  17408,   2634,  10137,   1248,\n",
       "        18157,    610,  15228,   7852,  37401,   4260,   8608,    240,\n",
       "         1836,   3786,   5844,   3000,   3513,  20376,  17496,   3819,\n",
       "         3504,    954,   1734,  25356,    684,   2488,   4386,   2571,\n",
       "         6678,   3012,  18714,  41538,    348,   8227,   5873,  18144,\n",
       "         5478,   1932,   4595,   2514,   2400,   6199,    622,  10267,\n",
       "         3172,   5856,   7644,   3454,   2640,  24774,   2069,   1746,\n",
       "        57341,   1626,   1032,  15406,   4936,  34495,  24636,   1296,\n",
       "         7465,   8979,  10044,   3526,  18510,  22188,   2572,    859,\n",
       "        99804,   2325,    144,  16540,  11485,  24468,   4032,  14752,\n",
       "         6250,  17862,   7866,    360,    980,    114,  29832,   9504,\n",
       "          239,  20951,   7980,   5323,    726,   7290,   5166,   7155,\n",
       "         3672,   3036,   4344,   3732,  16709,    874,  20568,   6201,\n",
       "        24903,   3612,  30120,  10542,    318,  19687,  13155,   1231,\n",
       "         3167,    264,  20034,   9279,  21177,   6036,    801,  18048,\n",
       "        36480,  16650,   3384,   1949,  10971,   2350,   4996,    546,\n",
       "        10035,   1095,   2737,  15888,    108,   9843,   9096,  30142,\n",
       "         1996,   1548,   2367,    936,  12432,   1608,  41184,    798,\n",
       "         1494,   7683,   2379,    741,   4650,    378,  21714,   2112,\n",
       "         6569,   1212,   1745,   6408,   6876,    780,  10617,  17103,\n",
       "         9108,    852,     36,   7761,   8964,   2082,    912,   8124,\n",
       "         3353,   4914,   4104,   3062,  42736,   1386,  27228,   8904,\n",
       "         9179,  45413,  18540,    744,    516,   1146,    956,     48,\n",
       "         4230,   8067,  22247,   3564,   1673,  53448,  21012,  20668,\n",
       "        31977,  46380,   3924,   2292,    489,  29382,   3222,  10411,\n",
       "         1944,   1372,   2714,  28218,   5403,    204,   6816,  13988,\n",
       "         4522,   5260,   1194,   5390,    358,   1464,   7628,  19614,\n",
       "         4195,    634,    716,    587,   2385,  30071,  12593,   5263,\n",
       "         3050,    252,   9002,    477,    816,    762,  10926,   4752,\n",
       "        43740,   2445,   5076,   4320,   4770,   7690,    490,   4717,\n",
       "          420,  22176,   4112,   3941,   1232,   3156,   5130,  13704,\n",
       "         3516,   8907,   4057,  29724, 112074,   6786,    858,   4151,\n",
       "         1979,   2524,   8088,  17831,   2952,   3408,  12186,    609,\n",
       "         3636,   3507,  34918,    708,  21708,    525,  18306,   9732,\n",
       "          765,    894,  17148,   6552,    396,   4728,    366,   4665,\n",
       "         1937,  13888,   6225,   8753,  12652,   7733,  51846,    729,\n",
       "         3816,   8649,   5227,    900,   7110,   1920,  21304,    369,\n",
       "         1308,   2763,   3647,   1579,  24956,   9024,   9552,  18528,\n",
       "        23007,  20400,  31716,   6328,    288,  17224,   5955,    857,\n",
       "         9384,   2904,  14616,    300,  13961,    789,    672,    990,\n",
       "        30422,   3251,   2962,   9468,   9872,  24918,   1509,   2689,\n",
       "        31482,   6847,    882,   2235,   1224,   2963,   3478,   9894,\n",
       "         5474,   6335,   5105,   8218,  18775,  10105,   1872,   3474,\n",
       "        16159,   1551,   6503,   1722,  35499,   8700,  24804,  12999,\n",
       "          330,   5450,    660,   4830,   5123,   1728,  12645,   5890,\n",
       "        21872,  15524,   1781,   8796,    311,   4095,  16344,   6822,\n",
       "        14665,  13503,   1644,   4904,   4140,  23760,   6638,   6792,\n",
       "         1933,  16902,   8208,   1458,   1340,   8076,   1974,  13904,\n",
       "           96,  34344,   5247,  30838,  13608,   4518,   3450,  18288,\n",
       "         1190,  11520,   5607,   7331,  37349,  22380,   3972,   4007,\n",
       "         1164,  14663,  36300,   1524,   1004,   7793,   3400,   7296,\n",
       "         9298,   3246,  20988,  23016,    335,  10428,   7584,   2175,\n",
       "         1229,  42894,  11688,    945,  26400,   2484,   1980,   3648,\n",
       "         5124,    251,  10912,    933,   8557,  10014,   5298,  35856,\n",
       "         2916,   9700,  16452,  14497,   4143,   1040,   1434,   2724,\n",
       "         7422,    540,   4257,   2304,   7051,   2582,  39261,   2900,\n",
       "        13920,  18814,   1080,  14796,  15682,  11760,   8408,   1238,\n",
       "         6840,  16934,  11973,  14845,   1956,    323,  12671,   2580,\n",
       "         1928,    909,   1014,  62690,  16290,    372,   2272,   8220,\n",
       "         2184,    102,  30069,    492,     84,  25523,   1733,   4980,\n",
       "        15741,   1320,  29173,  52860,   9952,  14310,  14584,   4629,\n",
       "       146344,  21518,    636,   4302,   5244,   2409,    620,   5775,\n",
       "         2508,   2666,   1500,   9462,  10828,  11969,   4685,   2893,\n",
       "         6169,   2761,  10655,    718,  13724,  12856,   4222,   1811,\n",
       "         2988,    618,  50556,   3351,   2670,  40032,    408,   7635,\n",
       "          534,  20963,    846,  85260,    276,   6209,   1344,  51329,\n",
       "         4266,   2665,  14788,    630,    432,   3489,   2978,   2826,\n",
       "         3378,   1482,  12642,   1556,   2152,  15468,   5367,   1697,\n",
       "         6276,  10087,  12564,   1116,   1451,   2378,   5884,    263,\n",
       "         2656,   7360,   6948,   1176,   1279,   9406,  30445,    946,\n",
       "        17628,    156,   7668,   1762,   4722,   1416,   9480,   4560,\n",
       "        56040,   3585,   9782,    192,   5019,   1124,   2537,  20812,\n",
       "         8820,   2011,   4488,   2964,   5964,  72120,   2532,   1205],\n",
       "      dtype=int64)"
      ]
     },
     "execution_count": 442,
     "metadata": {},
     "output_type": "execute_result"
    }
   ],
   "source": [
    "data['Total Onnet spend'].unique()"
   ]
  },
  {
   "cell_type": "markdown",
   "metadata": {},
   "source": [
    "- Variable numérica que nos dice el tiempo que se han pasado conectados "
   ]
  },
  {
   "cell_type": "markdown",
   "metadata": {},
   "source": [
    "### <span style='color:burlywood'> j) Total Offnet spend </span>"
   ]
  },
  {
   "cell_type": "code",
   "execution_count": 443,
   "metadata": {},
   "outputs": [
    {
     "data": {
      "text/plain": [
       "Total Offnet spend\n",
       "179      45\n",
       "0        33\n",
       "358      33\n",
       "537      22\n",
       "716      11\n",
       "         ..\n",
       "13308     1\n",
       "3604      1\n",
       "17895     1\n",
       "1424      1\n",
       "4794      1\n",
       "Name: count, Length: 899, dtype: int64"
      ]
     },
     "execution_count": 443,
     "metadata": {},
     "output_type": "execute_result"
    }
   ],
   "source": [
    "data['Total Offnet spend'].value_counts()"
   ]
  },
  {
   "cell_type": "markdown",
   "metadata": {},
   "source": [
    "- Igual que la anterior pero esta nos indica el tiempo que han pasado desconectados"
   ]
  },
  {
   "cell_type": "markdown",
   "metadata": {},
   "source": [
    "###  <span style='color:burlywood'> k) Total Call centre complaint calls </span>"
   ]
  },
  {
   "cell_type": "code",
   "execution_count": 444,
   "metadata": {},
   "outputs": [
    {
     "data": {
      "text/plain": [
       "array([ 4,  2,  1,  3,  5, 13, 12,  6, 14,  8, 16,  7, 11, 21, 10,  9, 18,\n",
       "       15, 49], dtype=int64)"
      ]
     },
     "execution_count": 444,
     "metadata": {},
     "output_type": "execute_result"
    }
   ],
   "source": [
    "data['Total Call centre complaint calls'].unique()"
   ]
  },
  {
   "cell_type": "markdown",
   "metadata": {},
   "source": [
    "- Variable numérica que nos indica el número de llamdas que se han hecho para poner una queja"
   ]
  },
  {
   "cell_type": "markdown",
   "metadata": {},
   "source": [
    "### <span style='color:burlywood'>l) Network type subscription in Month 1</span>"
   ]
  },
  {
   "cell_type": "code",
   "execution_count": 445,
   "metadata": {},
   "outputs": [
    {
     "data": {
      "text/plain": [
       "array(['2G', '3G', 'Other'], dtype=object)"
      ]
     },
     "execution_count": 445,
     "metadata": {},
     "output_type": "execute_result"
    }
   ],
   "source": [
    "data['Network type subscription in Month 1'].unique()"
   ]
  },
  {
   "cell_type": "markdown",
   "metadata": {},
   "source": [
    "- Variable categórica que nos indica el tipo de red a la que se suscribió el cliente  en el primer mes. Creemos que se trata de una variable categórica no ordenada ya que el valor 'Other' puede ser 5G ó E, por tanto como no sabemos si 'Other' es mejor o peor no podemos codificarla como una ordenada."
   ]
  },
  {
   "cell_type": "code",
   "execution_count": 446,
   "metadata": {},
   "outputs": [],
   "source": [
    "data = pd.get_dummies(data, columns=['Network type subscription in Month 1'], dtype= int)\n",
    "data_explot = pd.get_dummies(data_explot, columns=['Network type subscription in Month 1'], dtype= int, drop_first= True) #Hacemos lo mismo para el conjunto de explotación\n",
    "data = data.drop('Network type subscription in Month 1_Other', axis=1)\n",
    "data_explot = data_explot.drop('Network type subscription in Month 1_Other', axis=1)"
   ]
  },
  {
   "cell_type": "markdown",
   "metadata": {},
   "source": [
    "### <span style='color:burlywood'> m) Network type subscription in Month 2</span>"
   ]
  },
  {
   "cell_type": "markdown",
   "metadata": {},
   "source": [
    "- Igual que la anterior, pero en el segundo mes"
   ]
  },
  {
   "cell_type": "code",
   "execution_count": 447,
   "metadata": {},
   "outputs": [
    {
     "data": {
      "text/plain": [
       "array(['2G', '3G', 'Other', nan], dtype=object)"
      ]
     },
     "execution_count": 447,
     "metadata": {},
     "output_type": "execute_result"
    }
   ],
   "source": [
    "data['Network type subscription in Month 2'].unique()"
   ]
  },
  {
   "cell_type": "markdown",
   "metadata": {},
   "source": [
    "- Hacemos la codificación 'one-hot' como antes"
   ]
  },
  {
   "cell_type": "code",
   "execution_count": 448,
   "metadata": {},
   "outputs": [],
   "source": [
    "data = pd.get_dummies(data, columns=['Network type subscription in Month 2'], dtype= int)\n",
    "data_explot= pd.get_dummies(data_explot, columns=['Network type subscription in Month 2'], dtype= int, drop_first= True)"
   ]
  },
  {
   "cell_type": "markdown",
   "metadata": {},
   "source": [
    "- Drop_first pero para el valor 'other'"
   ]
  },
  {
   "cell_type": "code",
   "execution_count": 449,
   "metadata": {},
   "outputs": [],
   "source": [
    "data = data.drop('Network type subscription in Month 2_Other', axis=1)\n",
    "data_explot = data_explot.drop('Network type subscription in Month 2_Other', axis=1)"
   ]
  },
  {
   "cell_type": "markdown",
   "metadata": {},
   "source": [
    "### <span style='color:burlywood'> n) Most Loved Competitor network in in Month 1 </span>"
   ]
  },
  {
   "cell_type": "code",
   "execution_count": 450,
   "metadata": {},
   "outputs": [
    {
     "data": {
      "text/plain": [
       "array(['Weematel', 'Uxaa', 'PQza', 'ToCall', '0', 'Mango', 'Zintel', nan],\n",
       "      dtype=object)"
      ]
     },
     "execution_count": 450,
     "metadata": {},
     "output_type": "execute_result"
    }
   ],
   "source": [
    "data['Most Loved Competitor network in Month 1'].unique()"
   ]
  },
  {
   "cell_type": "markdown",
   "metadata": {},
   "source": [
    "- Variable categórica ordenada que nos informa de la empresa rival favorita en el mes 1"
   ]
  },
  {
   "cell_type": "code",
   "execution_count": 451,
   "metadata": {},
   "outputs": [],
   "source": [
    "data= pd.get_dummies(data, columns=['Most Loved Competitor network in Month 1'], dtype= int, drop_first= True)\n",
    "data_explot = pd.get_dummies(data_explot, columns=['Most Loved Competitor network in Month 1'], dtype= int, drop_first= True)"
   ]
  },
  {
   "cell_type": "markdown",
   "metadata": {},
   "source": [
    "### <span style='color:burlywood'> ñ) Most Loved Competitor network in Month 2 </span>"
   ]
  },
  {
   "cell_type": "markdown",
   "metadata": {},
   "source": [
    "- Igual que la anterior pero para el mes 2"
   ]
  },
  {
   "cell_type": "code",
   "execution_count": 452,
   "metadata": {},
   "outputs": [
    {
     "data": {
      "text/plain": [
       "array(['Uxaa', 'PQza', 'Mango', 'Weematel', 'ToCall', 'Zintel', nan],\n",
       "      dtype=object)"
      ]
     },
     "execution_count": 452,
     "metadata": {},
     "output_type": "execute_result"
    }
   ],
   "source": [
    "data['Most Loved Competitor network in Month 2'].unique()"
   ]
  },
  {
   "cell_type": "markdown",
   "metadata": {},
   "source": [
    "- Son categóricas, codificamos"
   ]
  },
  {
   "cell_type": "code",
   "execution_count": 453,
   "metadata": {},
   "outputs": [],
   "source": [
    "data = pd.get_dummies(data, columns=['Most Loved Competitor network in Month 2'], dtype= int, drop_first= True)\n",
    "data_explot = pd.get_dummies(data_explot, columns=['Most Loved Competitor network in Month 2'], dtype= int, drop_first= True)"
   ]
  },
  {
   "cell_type": "markdown",
   "metadata": {},
   "source": [
    "### <span style='color:burlywood'> o) Churn Status </span>"
   ]
  },
  {
   "cell_type": "markdown",
   "metadata": {},
   "source": [
    "- Variable categórica dicotómica, es 0 si el cliente no abandona la compañía y 1 si lo hace.\n",
    "Es nuestra variable a predecir, por tanto, eliminamos la columna de nuestro conjunto test que introducimos en el modelo (x_test).\n",
    "En cuanto hagamos la partición de train y test, haremos esta separación entre x_test e y_test (esta última es la columna Churn)"
   ]
  },
  {
   "cell_type": "markdown",
   "metadata": {},
   "source": [
    "### <span style='color:burlywood'> Eliminación de variables dependientes </span>"
   ]
  },
  {
   "cell_type": "markdown",
   "metadata": {},
   "source": [
    "- Implementamos el algoritmo de la práctica anterior"
   ]
  },
  {
   "cell_type": "code",
   "execution_count": 454,
   "metadata": {},
   "outputs": [
    {
     "name": "stdout",
     "output_type": "stream",
     "text": [
      "26\n"
     ]
    }
   ],
   "source": [
    "matriz_corr=data.corr()\n",
    "\n",
    "data2=data.copy()\n",
    "rank1=np.linalg.matrix_rank(matriz_corr) #hay una columna a eliminar\n",
    "cols=data.columns\n",
    "for col in cols:\n",
    "    cols2 = cols.drop(col) #Eliminamos una columna para ver si cambia el rango\n",
    "    data2 = data2[cols2] #Cogemos el dataset sin esa columna\n",
    "    rank2 = np.linalg.matrix_rank(data2.corr()) #Hallamos el rango de ese datset\n",
    "    if rank1 == rank2: #Si los rangos siguen igual, se elimina esa columna porque es linealmente dependiente\n",
    "        cols = cols2\n",
    "        print(f'columna que hemos eliminado: {col}')\n",
    "    else:\n",
    "        data2 = data #si son distintos, esa columna es linealmente independiente y no se quita\n",
    "\n",
    "#Nos quedamos con las columnas linealmente independientes\n",
    "data= data[cols] \n",
    "#nos quitamos la columna Network type subscription in Month 1, que tb quitamos del conjunto de explotacion\n",
    "data_explot=data[cols]\n",
    "\n",
    "print(len(data.columns)) #trabajaremos con 26 variables, han aumentado tras la codificación de dummies"
   ]
  },
  {
   "cell_type": "markdown",
   "metadata": {},
   "source": [
    "- Columnas resultantes:"
   ]
  },
  {
   "cell_type": "code",
   "execution_count": 455,
   "metadata": {},
   "outputs": [
    {
     "data": {
      "text/plain": [
       "Index(['network_age', 'Customer tenure in month',\n",
       "       'Total Spend in Months 1 and 2 of 2017', 'Total SMS Spend',\n",
       "       'Total Data Spend', 'Total Data Consumption', 'Total Unique Calls',\n",
       "       'Total Onnet spend', 'Total Offnet spend',\n",
       "       'Total Call centre complaint calls', 'Churn Status',\n",
       "       'Network type subscription in Month 1_2G',\n",
       "       'Network type subscription in Month 1_3G',\n",
       "       'Network type subscription in Month 2_2G',\n",
       "       'Network type subscription in Month 2_3G',\n",
       "       'Most Loved Competitor network in Month 1_Mango',\n",
       "       'Most Loved Competitor network in Month 1_PQza',\n",
       "       'Most Loved Competitor network in Month 1_ToCall',\n",
       "       'Most Loved Competitor network in Month 1_Uxaa',\n",
       "       'Most Loved Competitor network in Month 1_Weematel',\n",
       "       'Most Loved Competitor network in Month 1_Zintel',\n",
       "       'Most Loved Competitor network in Month 2_PQza',\n",
       "       'Most Loved Competitor network in Month 2_ToCall',\n",
       "       'Most Loved Competitor network in Month 2_Uxaa',\n",
       "       'Most Loved Competitor network in Month 2_Weematel',\n",
       "       'Most Loved Competitor network in Month 2_Zintel'],\n",
       "      dtype='object')"
      ]
     },
     "execution_count": 455,
     "metadata": {},
     "output_type": "execute_result"
    }
   ],
   "source": [
    "data.columns"
   ]
  },
  {
   "cell_type": "markdown",
   "metadata": {},
   "source": [
    "## <span style='color:darksalmon'> Paso 2: Construcción y análisis de un modelo dummy usando la librería scikitklearn (sklearn) </span>"
   ]
  },
  {
   "cell_type": "markdown",
   "metadata": {},
   "source": [
    "### <span style='color:burlywood'> 1.2.1 Construye con el modelo DummyClassifier (sklearn.dummy.DummyClassifier) un modelo que predice siempre la clase más frecuente </span>"
   ]
  },
  {
   "cell_type": "markdown",
   "metadata": {},
   "source": [
    "- Importamos lo necesario y hace la partición de los datos antes de crear el modelo"
   ]
  },
  {
   "cell_type": "code",
   "execution_count": 456,
   "metadata": {},
   "outputs": [
    {
     "data": {
      "text/html": [
       "<style>#sk-container-id-24 {color: black;background-color: white;}#sk-container-id-24 pre{padding: 0;}#sk-container-id-24 div.sk-toggleable {background-color: white;}#sk-container-id-24 label.sk-toggleable__label {cursor: pointer;display: block;width: 100%;margin-bottom: 0;padding: 0.3em;box-sizing: border-box;text-align: center;}#sk-container-id-24 label.sk-toggleable__label-arrow:before {content: \"▸\";float: left;margin-right: 0.25em;color: #696969;}#sk-container-id-24 label.sk-toggleable__label-arrow:hover:before {color: black;}#sk-container-id-24 div.sk-estimator:hover label.sk-toggleable__label-arrow:before {color: black;}#sk-container-id-24 div.sk-toggleable__content {max-height: 0;max-width: 0;overflow: hidden;text-align: left;background-color: #f0f8ff;}#sk-container-id-24 div.sk-toggleable__content pre {margin: 0.2em;color: black;border-radius: 0.25em;background-color: #f0f8ff;}#sk-container-id-24 input.sk-toggleable__control:checked~div.sk-toggleable__content {max-height: 200px;max-width: 100%;overflow: auto;}#sk-container-id-24 input.sk-toggleable__control:checked~label.sk-toggleable__label-arrow:before {content: \"▾\";}#sk-container-id-24 div.sk-estimator input.sk-toggleable__control:checked~label.sk-toggleable__label {background-color: #d4ebff;}#sk-container-id-24 div.sk-label input.sk-toggleable__control:checked~label.sk-toggleable__label {background-color: #d4ebff;}#sk-container-id-24 input.sk-hidden--visually {border: 0;clip: rect(1px 1px 1px 1px);clip: rect(1px, 1px, 1px, 1px);height: 1px;margin: -1px;overflow: hidden;padding: 0;position: absolute;width: 1px;}#sk-container-id-24 div.sk-estimator {font-family: monospace;background-color: #f0f8ff;border: 1px dotted black;border-radius: 0.25em;box-sizing: border-box;margin-bottom: 0.5em;}#sk-container-id-24 div.sk-estimator:hover {background-color: #d4ebff;}#sk-container-id-24 div.sk-parallel-item::after {content: \"\";width: 100%;border-bottom: 1px solid gray;flex-grow: 1;}#sk-container-id-24 div.sk-label:hover label.sk-toggleable__label {background-color: #d4ebff;}#sk-container-id-24 div.sk-serial::before {content: \"\";position: absolute;border-left: 1px solid gray;box-sizing: border-box;top: 0;bottom: 0;left: 50%;z-index: 0;}#sk-container-id-24 div.sk-serial {display: flex;flex-direction: column;align-items: center;background-color: white;padding-right: 0.2em;padding-left: 0.2em;position: relative;}#sk-container-id-24 div.sk-item {position: relative;z-index: 1;}#sk-container-id-24 div.sk-parallel {display: flex;align-items: stretch;justify-content: center;background-color: white;position: relative;}#sk-container-id-24 div.sk-item::before, #sk-container-id-24 div.sk-parallel-item::before {content: \"\";position: absolute;border-left: 1px solid gray;box-sizing: border-box;top: 0;bottom: 0;left: 50%;z-index: -1;}#sk-container-id-24 div.sk-parallel-item {display: flex;flex-direction: column;z-index: 1;position: relative;background-color: white;}#sk-container-id-24 div.sk-parallel-item:first-child::after {align-self: flex-end;width: 50%;}#sk-container-id-24 div.sk-parallel-item:last-child::after {align-self: flex-start;width: 50%;}#sk-container-id-24 div.sk-parallel-item:only-child::after {width: 0;}#sk-container-id-24 div.sk-dashed-wrapped {border: 1px dashed gray;margin: 0 0.4em 0.5em 0.4em;box-sizing: border-box;padding-bottom: 0.4em;background-color: white;}#sk-container-id-24 div.sk-label label {font-family: monospace;font-weight: bold;display: inline-block;line-height: 1.2em;}#sk-container-id-24 div.sk-label-container {text-align: center;}#sk-container-id-24 div.sk-container {/* jupyter's `normalize.less` sets `[hidden] { display: none; }` but bootstrap.min.css set `[hidden] { display: none !important; }` so we also need the `!important` here to be able to override the default hidden behavior on the sphinx rendered scikit-learn.org. See: https://github.com/scikit-learn/scikit-learn/issues/21755 */display: inline-block !important;position: relative;}#sk-container-id-24 div.sk-text-repr-fallback {display: none;}</style><div id=\"sk-container-id-24\" class=\"sk-top-container\"><div class=\"sk-text-repr-fallback\"><pre>DummyClassifier(strategy=&#x27;most_frequent&#x27;)</pre><b>In a Jupyter environment, please rerun this cell to show the HTML representation or trust the notebook. <br />On GitHub, the HTML representation is unable to render, please try loading this page with nbviewer.org.</b></div><div class=\"sk-container\" hidden><div class=\"sk-item\"><div class=\"sk-estimator sk-toggleable\"><input class=\"sk-toggleable__control sk-hidden--visually\" id=\"sk-estimator-id-24\" type=\"checkbox\" checked><label for=\"sk-estimator-id-24\" class=\"sk-toggleable__label sk-toggleable__label-arrow\">DummyClassifier</label><div class=\"sk-toggleable__content\"><pre>DummyClassifier(strategy=&#x27;most_frequent&#x27;)</pre></div></div></div></div></div>"
      ],
      "text/plain": [
       "DummyClassifier(strategy='most_frequent')"
      ]
     },
     "execution_count": 456,
     "metadata": {},
     "output_type": "execute_result"
    }
   ],
   "source": [
    "from sklearn.model_selection import train_test_split\n",
    "from sklearn.dummy import DummyClassifier\n",
    "\n",
    "x = data.drop('Churn Status', axis=1)\n",
    "y = data['Churn Status']\n",
    "\n",
    "#la vairable y contienen la columna churn\n",
    "x_train, x_test, y_train, y_test = train_test_split(x, y, test_size=0.3, random_state=1) #partición train y test\n",
    "#Llamamos al modelo DummyClassifier\n",
    "dummyclassifier = DummyClassifier(strategy='most_frequent')\n",
    "#Entrenamos al modelo con los datos de entrenamiento\n",
    "dummyclassifier.fit(x_train,y_train)"
   ]
  },
  {
   "cell_type": "markdown",
   "metadata": {},
   "source": [
    "### <span style='color:burlywood'> 1.2.2 Calcula sus scores de clasificación en el dataset de entrenamiento y de test.¿Hay sobreajuste? </span>"
   ]
  },
  {
   "cell_type": "code",
   "execution_count": 457,
   "metadata": {},
   "outputs": [
    {
     "name": "stderr",
     "output_type": "stream",
     "text": [
      "C:\\Users\\juanj\\AppData\\Local\\Packages\\PythonSoftwareFoundation.Python.3.10_qbz5n2kfra8p0\\LocalCache\\local-packages\\Python310\\site-packages\\sklearn\\utils\\validation.py:605: FutureWarning: is_sparse is deprecated and will be removed in a future version. Check `isinstance(dtype, pd.SparseDtype)` instead.\n",
      "  if is_sparse(pd_dtype):\n",
      "C:\\Users\\juanj\\AppData\\Local\\Packages\\PythonSoftwareFoundation.Python.3.10_qbz5n2kfra8p0\\LocalCache\\local-packages\\Python310\\site-packages\\sklearn\\utils\\validation.py:614: FutureWarning: is_sparse is deprecated and will be removed in a future version. Check `isinstance(dtype, pd.SparseDtype)` instead.\n",
      "  if is_sparse(pd_dtype) or not is_extension_array_dtype(pd_dtype):\n",
      "C:\\Users\\juanj\\AppData\\Local\\Packages\\PythonSoftwareFoundation.Python.3.10_qbz5n2kfra8p0\\LocalCache\\local-packages\\Python310\\site-packages\\sklearn\\utils\\validation.py:605: FutureWarning: is_sparse is deprecated and will be removed in a future version. Check `isinstance(dtype, pd.SparseDtype)` instead.\n",
      "  if is_sparse(pd_dtype):\n",
      "C:\\Users\\juanj\\AppData\\Local\\Packages\\PythonSoftwareFoundation.Python.3.10_qbz5n2kfra8p0\\LocalCache\\local-packages\\Python310\\site-packages\\sklearn\\utils\\validation.py:614: FutureWarning: is_sparse is deprecated and will be removed in a future version. Check `isinstance(dtype, pd.SparseDtype)` instead.\n",
      "  if is_sparse(pd_dtype) or not is_extension_array_dtype(pd_dtype):\n",
      "C:\\Users\\juanj\\AppData\\Local\\Packages\\PythonSoftwareFoundation.Python.3.10_qbz5n2kfra8p0\\LocalCache\\local-packages\\Python310\\site-packages\\sklearn\\utils\\validation.py:605: FutureWarning: is_sparse is deprecated and will be removed in a future version. Check `isinstance(dtype, pd.SparseDtype)` instead.\n",
      "  if is_sparse(pd_dtype):\n",
      "C:\\Users\\juanj\\AppData\\Local\\Packages\\PythonSoftwareFoundation.Python.3.10_qbz5n2kfra8p0\\LocalCache\\local-packages\\Python310\\site-packages\\sklearn\\utils\\validation.py:614: FutureWarning: is_sparse is deprecated and will be removed in a future version. Check `isinstance(dtype, pd.SparseDtype)` instead.\n",
      "  if is_sparse(pd_dtype) or not is_extension_array_dtype(pd_dtype):\n"
     ]
    }
   ],
   "source": [
    "#Calculamos la precision del modelo\n",
    "train_score = dummyclassifier.score(x_train,y_train)"
   ]
  },
  {
   "cell_type": "code",
   "execution_count": 458,
   "metadata": {},
   "outputs": [
    {
     "name": "stdout",
     "output_type": "stream",
     "text": [
      "Score en train: 0.5186615186615187\n"
     ]
    }
   ],
   "source": [
    "print('Score en train:',train_score )"
   ]
  },
  {
   "cell_type": "code",
   "execution_count": 459,
   "metadata": {},
   "outputs": [
    {
     "name": "stderr",
     "output_type": "stream",
     "text": [
      "C:\\Users\\juanj\\AppData\\Local\\Packages\\PythonSoftwareFoundation.Python.3.10_qbz5n2kfra8p0\\LocalCache\\local-packages\\Python310\\site-packages\\sklearn\\utils\\validation.py:605: FutureWarning: is_sparse is deprecated and will be removed in a future version. Check `isinstance(dtype, pd.SparseDtype)` instead.\n",
      "  if is_sparse(pd_dtype):\n",
      "C:\\Users\\juanj\\AppData\\Local\\Packages\\PythonSoftwareFoundation.Python.3.10_qbz5n2kfra8p0\\LocalCache\\local-packages\\Python310\\site-packages\\sklearn\\utils\\validation.py:614: FutureWarning: is_sparse is deprecated and will be removed in a future version. Check `isinstance(dtype, pd.SparseDtype)` instead.\n",
      "  if is_sparse(pd_dtype) or not is_extension_array_dtype(pd_dtype):\n",
      "C:\\Users\\juanj\\AppData\\Local\\Packages\\PythonSoftwareFoundation.Python.3.10_qbz5n2kfra8p0\\LocalCache\\local-packages\\Python310\\site-packages\\sklearn\\utils\\validation.py:605: FutureWarning: is_sparse is deprecated and will be removed in a future version. Check `isinstance(dtype, pd.SparseDtype)` instead.\n",
      "  if is_sparse(pd_dtype):\n",
      "C:\\Users\\juanj\\AppData\\Local\\Packages\\PythonSoftwareFoundation.Python.3.10_qbz5n2kfra8p0\\LocalCache\\local-packages\\Python310\\site-packages\\sklearn\\utils\\validation.py:614: FutureWarning: is_sparse is deprecated and will be removed in a future version. Check `isinstance(dtype, pd.SparseDtype)` instead.\n",
      "  if is_sparse(pd_dtype) or not is_extension_array_dtype(pd_dtype):\n",
      "C:\\Users\\juanj\\AppData\\Local\\Packages\\PythonSoftwareFoundation.Python.3.10_qbz5n2kfra8p0\\LocalCache\\local-packages\\Python310\\site-packages\\sklearn\\utils\\validation.py:605: FutureWarning: is_sparse is deprecated and will be removed in a future version. Check `isinstance(dtype, pd.SparseDtype)` instead.\n",
      "  if is_sparse(pd_dtype):\n",
      "C:\\Users\\juanj\\AppData\\Local\\Packages\\PythonSoftwareFoundation.Python.3.10_qbz5n2kfra8p0\\LocalCache\\local-packages\\Python310\\site-packages\\sklearn\\utils\\validation.py:614: FutureWarning: is_sparse is deprecated and will be removed in a future version. Check `isinstance(dtype, pd.SparseDtype)` instead.\n",
      "  if is_sparse(pd_dtype) or not is_extension_array_dtype(pd_dtype):\n"
     ]
    }
   ],
   "source": [
    "#Lo mismo para test\n",
    "test_score = dummyclassifier.score(x_test,y_test)"
   ]
  },
  {
   "cell_type": "code",
   "execution_count": 460,
   "metadata": {},
   "outputs": [
    {
     "name": "stdout",
     "output_type": "stream",
     "text": [
      "Score en test: 0.5059880239520959\n"
     ]
    }
   ],
   "source": [
    "\n",
    "print('Score en test:',test_score )"
   ]
  },
  {
   "cell_type": "markdown",
   "metadata": {},
   "source": [
    "- No hay sobreajuste ya que el score es bastante parecido en ambos. El sobreajuste se produciría si el score con el dataset de entrenamiento fuese demasiado alto y con el de test muy bajo, ya que entonces el modelo se estaría ajustando demasiado bien a los datos de entrenamiento y captura patrones específicos de ese conjunto de datos que no son representativos de la población general"
   ]
  },
  {
   "cell_type": "markdown",
   "metadata": {},
   "source": [
    "### <span style='color:burlywood'> 1.2.3 Analiza las predicciones de clase que da en el conjunto de test (model.predict) y las estimaciones de las probabilidades de las clases (model.predict_proba). Encuentra qué relación hay entre esas salidas y las estadísticas de entrenamiento.</span>"
   ]
  },
  {
   "cell_type": "code",
   "execution_count": 461,
   "metadata": {},
   "outputs": [],
   "source": [
    "#Predicciones en test\n",
    "y_pred_test = dummyclassifier.predict(x_test)"
   ]
  },
  {
   "cell_type": "code",
   "execution_count": 462,
   "metadata": {},
   "outputs": [
    {
     "data": {
      "text/plain": [
       "array([0, 0, 0, 0, 0, 0, 0, 0, 0, 0, 0, 0, 0, 0, 0, 0, 0, 0, 0, 0, 0, 0,\n",
       "       0, 0, 0, 0, 0, 0, 0, 0, 0, 0, 0, 0, 0, 0, 0, 0, 0, 0, 0, 0, 0, 0,\n",
       "       0, 0, 0, 0, 0, 0, 0, 0, 0, 0, 0, 0, 0, 0, 0, 0, 0, 0, 0, 0, 0, 0,\n",
       "       0, 0, 0, 0, 0, 0, 0, 0, 0, 0, 0, 0, 0, 0, 0, 0, 0, 0, 0, 0, 0, 0,\n",
       "       0, 0, 0, 0, 0, 0, 0, 0, 0, 0, 0, 0, 0, 0, 0, 0, 0, 0, 0, 0, 0, 0,\n",
       "       0, 0, 0, 0, 0, 0, 0, 0, 0, 0, 0, 0, 0, 0, 0, 0, 0, 0, 0, 0, 0, 0,\n",
       "       0, 0, 0, 0, 0, 0, 0, 0, 0, 0, 0, 0, 0, 0, 0, 0, 0, 0, 0, 0, 0, 0,\n",
       "       0, 0, 0, 0, 0, 0, 0, 0, 0, 0, 0, 0, 0, 0, 0, 0, 0, 0, 0, 0, 0, 0,\n",
       "       0, 0, 0, 0, 0, 0, 0, 0, 0, 0, 0, 0, 0, 0, 0, 0, 0, 0, 0, 0, 0, 0,\n",
       "       0, 0, 0, 0, 0, 0, 0, 0, 0, 0, 0, 0, 0, 0, 0, 0, 0, 0, 0, 0, 0, 0,\n",
       "       0, 0, 0, 0, 0, 0, 0, 0, 0, 0, 0, 0, 0, 0, 0, 0, 0, 0, 0, 0, 0, 0,\n",
       "       0, 0, 0, 0, 0, 0, 0, 0, 0, 0, 0, 0, 0, 0, 0, 0, 0, 0, 0, 0, 0, 0,\n",
       "       0, 0, 0, 0, 0, 0, 0, 0, 0, 0, 0, 0, 0, 0, 0, 0, 0, 0, 0, 0, 0, 0,\n",
       "       0, 0, 0, 0, 0, 0, 0, 0, 0, 0, 0, 0, 0, 0, 0, 0, 0, 0, 0, 0, 0, 0,\n",
       "       0, 0, 0, 0, 0, 0, 0, 0, 0, 0, 0, 0, 0, 0, 0, 0, 0, 0, 0, 0, 0, 0,\n",
       "       0, 0, 0, 0], dtype=int64)"
      ]
     },
     "execution_count": 462,
     "metadata": {},
     "output_type": "execute_result"
    }
   ],
   "source": [
    "y_pred_test"
   ]
  },
  {
   "cell_type": "code",
   "execution_count": 463,
   "metadata": {},
   "outputs": [],
   "source": [
    "#Estimaciones de las probabilidades de las clases\n",
    "probabilidades = dummyclassifier.predict_proba(x_test)"
   ]
  },
  {
   "cell_type": "code",
   "execution_count": 464,
   "metadata": {},
   "outputs": [
    {
     "data": {
      "text/plain": [
       "array([[1., 0.],\n",
       "       [1., 0.],\n",
       "       [1., 0.],\n",
       "       [1., 0.],\n",
       "       [1., 0.],\n",
       "       [1., 0.],\n",
       "       [1., 0.],\n",
       "       [1., 0.],\n",
       "       [1., 0.],\n",
       "       [1., 0.],\n",
       "       [1., 0.],\n",
       "       [1., 0.],\n",
       "       [1., 0.],\n",
       "       [1., 0.],\n",
       "       [1., 0.],\n",
       "       [1., 0.],\n",
       "       [1., 0.],\n",
       "       [1., 0.],\n",
       "       [1., 0.],\n",
       "       [1., 0.],\n",
       "       [1., 0.],\n",
       "       [1., 0.],\n",
       "       [1., 0.],\n",
       "       [1., 0.],\n",
       "       [1., 0.],\n",
       "       [1., 0.],\n",
       "       [1., 0.],\n",
       "       [1., 0.],\n",
       "       [1., 0.],\n",
       "       [1., 0.],\n",
       "       [1., 0.],\n",
       "       [1., 0.],\n",
       "       [1., 0.],\n",
       "       [1., 0.],\n",
       "       [1., 0.],\n",
       "       [1., 0.],\n",
       "       [1., 0.],\n",
       "       [1., 0.],\n",
       "       [1., 0.],\n",
       "       [1., 0.],\n",
       "       [1., 0.],\n",
       "       [1., 0.],\n",
       "       [1., 0.],\n",
       "       [1., 0.],\n",
       "       [1., 0.],\n",
       "       [1., 0.],\n",
       "       [1., 0.],\n",
       "       [1., 0.],\n",
       "       [1., 0.],\n",
       "       [1., 0.],\n",
       "       [1., 0.],\n",
       "       [1., 0.],\n",
       "       [1., 0.],\n",
       "       [1., 0.],\n",
       "       [1., 0.],\n",
       "       [1., 0.],\n",
       "       [1., 0.],\n",
       "       [1., 0.],\n",
       "       [1., 0.],\n",
       "       [1., 0.],\n",
       "       [1., 0.],\n",
       "       [1., 0.],\n",
       "       [1., 0.],\n",
       "       [1., 0.],\n",
       "       [1., 0.],\n",
       "       [1., 0.],\n",
       "       [1., 0.],\n",
       "       [1., 0.],\n",
       "       [1., 0.],\n",
       "       [1., 0.],\n",
       "       [1., 0.],\n",
       "       [1., 0.],\n",
       "       [1., 0.],\n",
       "       [1., 0.],\n",
       "       [1., 0.],\n",
       "       [1., 0.],\n",
       "       [1., 0.],\n",
       "       [1., 0.],\n",
       "       [1., 0.],\n",
       "       [1., 0.],\n",
       "       [1., 0.],\n",
       "       [1., 0.],\n",
       "       [1., 0.],\n",
       "       [1., 0.],\n",
       "       [1., 0.],\n",
       "       [1., 0.],\n",
       "       [1., 0.],\n",
       "       [1., 0.],\n",
       "       [1., 0.],\n",
       "       [1., 0.],\n",
       "       [1., 0.],\n",
       "       [1., 0.],\n",
       "       [1., 0.],\n",
       "       [1., 0.],\n",
       "       [1., 0.],\n",
       "       [1., 0.],\n",
       "       [1., 0.],\n",
       "       [1., 0.],\n",
       "       [1., 0.],\n",
       "       [1., 0.],\n",
       "       [1., 0.],\n",
       "       [1., 0.],\n",
       "       [1., 0.],\n",
       "       [1., 0.],\n",
       "       [1., 0.],\n",
       "       [1., 0.],\n",
       "       [1., 0.],\n",
       "       [1., 0.],\n",
       "       [1., 0.],\n",
       "       [1., 0.],\n",
       "       [1., 0.],\n",
       "       [1., 0.],\n",
       "       [1., 0.],\n",
       "       [1., 0.],\n",
       "       [1., 0.],\n",
       "       [1., 0.],\n",
       "       [1., 0.],\n",
       "       [1., 0.],\n",
       "       [1., 0.],\n",
       "       [1., 0.],\n",
       "       [1., 0.],\n",
       "       [1., 0.],\n",
       "       [1., 0.],\n",
       "       [1., 0.],\n",
       "       [1., 0.],\n",
       "       [1., 0.],\n",
       "       [1., 0.],\n",
       "       [1., 0.],\n",
       "       [1., 0.],\n",
       "       [1., 0.],\n",
       "       [1., 0.],\n",
       "       [1., 0.],\n",
       "       [1., 0.],\n",
       "       [1., 0.],\n",
       "       [1., 0.],\n",
       "       [1., 0.],\n",
       "       [1., 0.],\n",
       "       [1., 0.],\n",
       "       [1., 0.],\n",
       "       [1., 0.],\n",
       "       [1., 0.],\n",
       "       [1., 0.],\n",
       "       [1., 0.],\n",
       "       [1., 0.],\n",
       "       [1., 0.],\n",
       "       [1., 0.],\n",
       "       [1., 0.],\n",
       "       [1., 0.],\n",
       "       [1., 0.],\n",
       "       [1., 0.],\n",
       "       [1., 0.],\n",
       "       [1., 0.],\n",
       "       [1., 0.],\n",
       "       [1., 0.],\n",
       "       [1., 0.],\n",
       "       [1., 0.],\n",
       "       [1., 0.],\n",
       "       [1., 0.],\n",
       "       [1., 0.],\n",
       "       [1., 0.],\n",
       "       [1., 0.],\n",
       "       [1., 0.],\n",
       "       [1., 0.],\n",
       "       [1., 0.],\n",
       "       [1., 0.],\n",
       "       [1., 0.],\n",
       "       [1., 0.],\n",
       "       [1., 0.],\n",
       "       [1., 0.],\n",
       "       [1., 0.],\n",
       "       [1., 0.],\n",
       "       [1., 0.],\n",
       "       [1., 0.],\n",
       "       [1., 0.],\n",
       "       [1., 0.],\n",
       "       [1., 0.],\n",
       "       [1., 0.],\n",
       "       [1., 0.],\n",
       "       [1., 0.],\n",
       "       [1., 0.],\n",
       "       [1., 0.],\n",
       "       [1., 0.],\n",
       "       [1., 0.],\n",
       "       [1., 0.],\n",
       "       [1., 0.],\n",
       "       [1., 0.],\n",
       "       [1., 0.],\n",
       "       [1., 0.],\n",
       "       [1., 0.],\n",
       "       [1., 0.],\n",
       "       [1., 0.],\n",
       "       [1., 0.],\n",
       "       [1., 0.],\n",
       "       [1., 0.],\n",
       "       [1., 0.],\n",
       "       [1., 0.],\n",
       "       [1., 0.],\n",
       "       [1., 0.],\n",
       "       [1., 0.],\n",
       "       [1., 0.],\n",
       "       [1., 0.],\n",
       "       [1., 0.],\n",
       "       [1., 0.],\n",
       "       [1., 0.],\n",
       "       [1., 0.],\n",
       "       [1., 0.],\n",
       "       [1., 0.],\n",
       "       [1., 0.],\n",
       "       [1., 0.],\n",
       "       [1., 0.],\n",
       "       [1., 0.],\n",
       "       [1., 0.],\n",
       "       [1., 0.],\n",
       "       [1., 0.],\n",
       "       [1., 0.],\n",
       "       [1., 0.],\n",
       "       [1., 0.],\n",
       "       [1., 0.],\n",
       "       [1., 0.],\n",
       "       [1., 0.],\n",
       "       [1., 0.],\n",
       "       [1., 0.],\n",
       "       [1., 0.],\n",
       "       [1., 0.],\n",
       "       [1., 0.],\n",
       "       [1., 0.],\n",
       "       [1., 0.],\n",
       "       [1., 0.],\n",
       "       [1., 0.],\n",
       "       [1., 0.],\n",
       "       [1., 0.],\n",
       "       [1., 0.],\n",
       "       [1., 0.],\n",
       "       [1., 0.],\n",
       "       [1., 0.],\n",
       "       [1., 0.],\n",
       "       [1., 0.],\n",
       "       [1., 0.],\n",
       "       [1., 0.],\n",
       "       [1., 0.],\n",
       "       [1., 0.],\n",
       "       [1., 0.],\n",
       "       [1., 0.],\n",
       "       [1., 0.],\n",
       "       [1., 0.],\n",
       "       [1., 0.],\n",
       "       [1., 0.],\n",
       "       [1., 0.],\n",
       "       [1., 0.],\n",
       "       [1., 0.],\n",
       "       [1., 0.],\n",
       "       [1., 0.],\n",
       "       [1., 0.],\n",
       "       [1., 0.],\n",
       "       [1., 0.],\n",
       "       [1., 0.],\n",
       "       [1., 0.],\n",
       "       [1., 0.],\n",
       "       [1., 0.],\n",
       "       [1., 0.],\n",
       "       [1., 0.],\n",
       "       [1., 0.],\n",
       "       [1., 0.],\n",
       "       [1., 0.],\n",
       "       [1., 0.],\n",
       "       [1., 0.],\n",
       "       [1., 0.],\n",
       "       [1., 0.],\n",
       "       [1., 0.],\n",
       "       [1., 0.],\n",
       "       [1., 0.],\n",
       "       [1., 0.],\n",
       "       [1., 0.],\n",
       "       [1., 0.],\n",
       "       [1., 0.],\n",
       "       [1., 0.],\n",
       "       [1., 0.],\n",
       "       [1., 0.],\n",
       "       [1., 0.],\n",
       "       [1., 0.],\n",
       "       [1., 0.],\n",
       "       [1., 0.],\n",
       "       [1., 0.],\n",
       "       [1., 0.],\n",
       "       [1., 0.],\n",
       "       [1., 0.],\n",
       "       [1., 0.],\n",
       "       [1., 0.],\n",
       "       [1., 0.],\n",
       "       [1., 0.],\n",
       "       [1., 0.],\n",
       "       [1., 0.],\n",
       "       [1., 0.],\n",
       "       [1., 0.],\n",
       "       [1., 0.],\n",
       "       [1., 0.],\n",
       "       [1., 0.],\n",
       "       [1., 0.],\n",
       "       [1., 0.],\n",
       "       [1., 0.],\n",
       "       [1., 0.],\n",
       "       [1., 0.],\n",
       "       [1., 0.],\n",
       "       [1., 0.],\n",
       "       [1., 0.],\n",
       "       [1., 0.],\n",
       "       [1., 0.],\n",
       "       [1., 0.],\n",
       "       [1., 0.],\n",
       "       [1., 0.],\n",
       "       [1., 0.],\n",
       "       [1., 0.],\n",
       "       [1., 0.],\n",
       "       [1., 0.],\n",
       "       [1., 0.],\n",
       "       [1., 0.],\n",
       "       [1., 0.],\n",
       "       [1., 0.],\n",
       "       [1., 0.],\n",
       "       [1., 0.],\n",
       "       [1., 0.],\n",
       "       [1., 0.],\n",
       "       [1., 0.],\n",
       "       [1., 0.],\n",
       "       [1., 0.],\n",
       "       [1., 0.],\n",
       "       [1., 0.],\n",
       "       [1., 0.],\n",
       "       [1., 0.],\n",
       "       [1., 0.],\n",
       "       [1., 0.],\n",
       "       [1., 0.],\n",
       "       [1., 0.],\n",
       "       [1., 0.]])"
      ]
     },
     "execution_count": 464,
     "metadata": {},
     "output_type": "execute_result"
    }
   ],
   "source": [
    "probabilidades"
   ]
  },
  {
   "cell_type": "markdown",
   "metadata": {},
   "source": [
    "- Lo que nos model.predict_proba son las probabilidades estimadas para cada clase en lugar de las predicciones de clase directas (como hace model.predict, que predice la clase más frecuente). Esto significa que en lugar de obtener una clase específica para cada instancia en x_test, obtendrás un conjunto de probabilidades asociadas a cada clase. En este caso, model.predict_proba nos indica que la probabilidad de pertenecer a la clase 0 es 1 (probabilidad máxima), mientras que la probabilidad de pertenecer a la clase 1 es 0 (probabilidad mínima). Por eso model.predict nos devuelve todo 0 "
   ]
  },
  {
   "cell_type": "markdown",
   "metadata": {},
   "source": [
    "## <span style='color:darksalmon'> Paso 3: Construcción y análisis de un modelo de regresión logística usando la librería scikit-klearn (sklearn) </span>"
   ]
  },
  {
   "cell_type": "markdown",
   "metadata": {},
   "source": [
    "### <span style='color:burlywood'> 1.3.1 Construye con sklearn un modelo de regresión logística (clase sklearn.lineal_model.LogisticRegression). No te olvides de estandarizar las variables de entrada. ¿Cuáles son los scores obtenidos en entrenamiento y en test? ¿Hay sobreajuste? ¿Cómo se comparan con los obtenidos con el DummyClassifier?</span>"
   ]
  },
  {
   "cell_type": "markdown",
   "metadata": {},
   "source": [
    "- Importamos las librerías necesarias"
   ]
  },
  {
   "cell_type": "code",
   "execution_count": 465,
   "metadata": {},
   "outputs": [],
   "source": [
    "import sklearn ; from sklearn import linear_model\n",
    "from sklearn.preprocessing import StandardScaler"
   ]
  },
  {
   "cell_type": "markdown",
   "metadata": {},
   "source": [
    "- Estandarizamos las variables de entrada"
   ]
  },
  {
   "cell_type": "code",
   "execution_count": 466,
   "metadata": {},
   "outputs": [
    {
     "name": "stderr",
     "output_type": "stream",
     "text": [
      "C:\\Users\\juanj\\AppData\\Local\\Packages\\PythonSoftwareFoundation.Python.3.10_qbz5n2kfra8p0\\LocalCache\\local-packages\\Python310\\site-packages\\sklearn\\utils\\validation.py:767: FutureWarning: is_sparse is deprecated and will be removed in a future version. Check `isinstance(dtype, pd.SparseDtype)` instead.\n",
      "  if not hasattr(array, \"sparse\") and array.dtypes.apply(is_sparse).any():\n",
      "C:\\Users\\juanj\\AppData\\Local\\Packages\\PythonSoftwareFoundation.Python.3.10_qbz5n2kfra8p0\\LocalCache\\local-packages\\Python310\\site-packages\\sklearn\\utils\\validation.py:605: FutureWarning: is_sparse is deprecated and will be removed in a future version. Check `isinstance(dtype, pd.SparseDtype)` instead.\n",
      "  if is_sparse(pd_dtype):\n",
      "C:\\Users\\juanj\\AppData\\Local\\Packages\\PythonSoftwareFoundation.Python.3.10_qbz5n2kfra8p0\\LocalCache\\local-packages\\Python310\\site-packages\\sklearn\\utils\\validation.py:614: FutureWarning: is_sparse is deprecated and will be removed in a future version. Check `isinstance(dtype, pd.SparseDtype)` instead.\n",
      "  if is_sparse(pd_dtype) or not is_extension_array_dtype(pd_dtype):\n",
      "C:\\Users\\juanj\\AppData\\Local\\Packages\\PythonSoftwareFoundation.Python.3.10_qbz5n2kfra8p0\\LocalCache\\local-packages\\Python310\\site-packages\\sklearn\\utils\\validation.py:767: FutureWarning: is_sparse is deprecated and will be removed in a future version. Check `isinstance(dtype, pd.SparseDtype)` instead.\n",
      "  if not hasattr(array, \"sparse\") and array.dtypes.apply(is_sparse).any():\n",
      "C:\\Users\\juanj\\AppData\\Local\\Packages\\PythonSoftwareFoundation.Python.3.10_qbz5n2kfra8p0\\LocalCache\\local-packages\\Python310\\site-packages\\sklearn\\utils\\validation.py:605: FutureWarning: is_sparse is deprecated and will be removed in a future version. Check `isinstance(dtype, pd.SparseDtype)` instead.\n",
      "  if is_sparse(pd_dtype):\n",
      "C:\\Users\\juanj\\AppData\\Local\\Packages\\PythonSoftwareFoundation.Python.3.10_qbz5n2kfra8p0\\LocalCache\\local-packages\\Python310\\site-packages\\sklearn\\utils\\validation.py:614: FutureWarning: is_sparse is deprecated and will be removed in a future version. Check `isinstance(dtype, pd.SparseDtype)` instead.\n",
      "  if is_sparse(pd_dtype) or not is_extension_array_dtype(pd_dtype):\n",
      "C:\\Users\\juanj\\AppData\\Local\\Packages\\PythonSoftwareFoundation.Python.3.10_qbz5n2kfra8p0\\LocalCache\\local-packages\\Python310\\site-packages\\sklearn\\utils\\validation.py:767: FutureWarning: is_sparse is deprecated and will be removed in a future version. Check `isinstance(dtype, pd.SparseDtype)` instead.\n",
      "  if not hasattr(array, \"sparse\") and array.dtypes.apply(is_sparse).any():\n",
      "C:\\Users\\juanj\\AppData\\Local\\Packages\\PythonSoftwareFoundation.Python.3.10_qbz5n2kfra8p0\\LocalCache\\local-packages\\Python310\\site-packages\\sklearn\\utils\\validation.py:605: FutureWarning: is_sparse is deprecated and will be removed in a future version. Check `isinstance(dtype, pd.SparseDtype)` instead.\n",
      "  if is_sparse(pd_dtype):\n",
      "C:\\Users\\juanj\\AppData\\Local\\Packages\\PythonSoftwareFoundation.Python.3.10_qbz5n2kfra8p0\\LocalCache\\local-packages\\Python310\\site-packages\\sklearn\\utils\\validation.py:614: FutureWarning: is_sparse is deprecated and will be removed in a future version. Check `isinstance(dtype, pd.SparseDtype)` instead.\n",
      "  if is_sparse(pd_dtype) or not is_extension_array_dtype(pd_dtype):\n"
     ]
    }
   ],
   "source": [
    "xscaler = StandardScaler() ; \n",
    "modelo= sklearn.linear_model.LogisticRegression()\n",
    "\n",
    "xscaler.fit(x_train)\n",
    "x_train_scaled = xscaler.transform(x_train) ; x_test_scaled = xscaler.transform(x_test)"
   ]
  },
  {
   "cell_type": "markdown",
   "metadata": {},
   "source": [
    "- El método transform realiza la estandarización de las características basándose en las estadísticas aprendidas durante la fase de ajuste de fit()."
   ]
  },
  {
   "cell_type": "markdown",
   "metadata": {},
   "source": [
    "- Construimos el modelo"
   ]
  },
  {
   "cell_type": "code",
   "execution_count": 467,
   "metadata": {},
   "outputs": [
    {
     "name": "stderr",
     "output_type": "stream",
     "text": [
      "C:\\Users\\juanj\\AppData\\Local\\Packages\\PythonSoftwareFoundation.Python.3.10_qbz5n2kfra8p0\\LocalCache\\local-packages\\Python310\\site-packages\\sklearn\\utils\\validation.py:605: FutureWarning: is_sparse is deprecated and will be removed in a future version. Check `isinstance(dtype, pd.SparseDtype)` instead.\n",
      "  if is_sparse(pd_dtype):\n",
      "C:\\Users\\juanj\\AppData\\Local\\Packages\\PythonSoftwareFoundation.Python.3.10_qbz5n2kfra8p0\\LocalCache\\local-packages\\Python310\\site-packages\\sklearn\\utils\\validation.py:614: FutureWarning: is_sparse is deprecated and will be removed in a future version. Check `isinstance(dtype, pd.SparseDtype)` instead.\n",
      "  if is_sparse(pd_dtype) or not is_extension_array_dtype(pd_dtype):\n"
     ]
    },
    {
     "data": {
      "text/html": [
       "<style>#sk-container-id-25 {color: black;background-color: white;}#sk-container-id-25 pre{padding: 0;}#sk-container-id-25 div.sk-toggleable {background-color: white;}#sk-container-id-25 label.sk-toggleable__label {cursor: pointer;display: block;width: 100%;margin-bottom: 0;padding: 0.3em;box-sizing: border-box;text-align: center;}#sk-container-id-25 label.sk-toggleable__label-arrow:before {content: \"▸\";float: left;margin-right: 0.25em;color: #696969;}#sk-container-id-25 label.sk-toggleable__label-arrow:hover:before {color: black;}#sk-container-id-25 div.sk-estimator:hover label.sk-toggleable__label-arrow:before {color: black;}#sk-container-id-25 div.sk-toggleable__content {max-height: 0;max-width: 0;overflow: hidden;text-align: left;background-color: #f0f8ff;}#sk-container-id-25 div.sk-toggleable__content pre {margin: 0.2em;color: black;border-radius: 0.25em;background-color: #f0f8ff;}#sk-container-id-25 input.sk-toggleable__control:checked~div.sk-toggleable__content {max-height: 200px;max-width: 100%;overflow: auto;}#sk-container-id-25 input.sk-toggleable__control:checked~label.sk-toggleable__label-arrow:before {content: \"▾\";}#sk-container-id-25 div.sk-estimator input.sk-toggleable__control:checked~label.sk-toggleable__label {background-color: #d4ebff;}#sk-container-id-25 div.sk-label input.sk-toggleable__control:checked~label.sk-toggleable__label {background-color: #d4ebff;}#sk-container-id-25 input.sk-hidden--visually {border: 0;clip: rect(1px 1px 1px 1px);clip: rect(1px, 1px, 1px, 1px);height: 1px;margin: -1px;overflow: hidden;padding: 0;position: absolute;width: 1px;}#sk-container-id-25 div.sk-estimator {font-family: monospace;background-color: #f0f8ff;border: 1px dotted black;border-radius: 0.25em;box-sizing: border-box;margin-bottom: 0.5em;}#sk-container-id-25 div.sk-estimator:hover {background-color: #d4ebff;}#sk-container-id-25 div.sk-parallel-item::after {content: \"\";width: 100%;border-bottom: 1px solid gray;flex-grow: 1;}#sk-container-id-25 div.sk-label:hover label.sk-toggleable__label {background-color: #d4ebff;}#sk-container-id-25 div.sk-serial::before {content: \"\";position: absolute;border-left: 1px solid gray;box-sizing: border-box;top: 0;bottom: 0;left: 50%;z-index: 0;}#sk-container-id-25 div.sk-serial {display: flex;flex-direction: column;align-items: center;background-color: white;padding-right: 0.2em;padding-left: 0.2em;position: relative;}#sk-container-id-25 div.sk-item {position: relative;z-index: 1;}#sk-container-id-25 div.sk-parallel {display: flex;align-items: stretch;justify-content: center;background-color: white;position: relative;}#sk-container-id-25 div.sk-item::before, #sk-container-id-25 div.sk-parallel-item::before {content: \"\";position: absolute;border-left: 1px solid gray;box-sizing: border-box;top: 0;bottom: 0;left: 50%;z-index: -1;}#sk-container-id-25 div.sk-parallel-item {display: flex;flex-direction: column;z-index: 1;position: relative;background-color: white;}#sk-container-id-25 div.sk-parallel-item:first-child::after {align-self: flex-end;width: 50%;}#sk-container-id-25 div.sk-parallel-item:last-child::after {align-self: flex-start;width: 50%;}#sk-container-id-25 div.sk-parallel-item:only-child::after {width: 0;}#sk-container-id-25 div.sk-dashed-wrapped {border: 1px dashed gray;margin: 0 0.4em 0.5em 0.4em;box-sizing: border-box;padding-bottom: 0.4em;background-color: white;}#sk-container-id-25 div.sk-label label {font-family: monospace;font-weight: bold;display: inline-block;line-height: 1.2em;}#sk-container-id-25 div.sk-label-container {text-align: center;}#sk-container-id-25 div.sk-container {/* jupyter's `normalize.less` sets `[hidden] { display: none; }` but bootstrap.min.css set `[hidden] { display: none !important; }` so we also need the `!important` here to be able to override the default hidden behavior on the sphinx rendered scikit-learn.org. See: https://github.com/scikit-learn/scikit-learn/issues/21755 */display: inline-block !important;position: relative;}#sk-container-id-25 div.sk-text-repr-fallback {display: none;}</style><div id=\"sk-container-id-25\" class=\"sk-top-container\"><div class=\"sk-text-repr-fallback\"><pre>LogisticRegression()</pre><b>In a Jupyter environment, please rerun this cell to show the HTML representation or trust the notebook. <br />On GitHub, the HTML representation is unable to render, please try loading this page with nbviewer.org.</b></div><div class=\"sk-container\" hidden><div class=\"sk-item\"><div class=\"sk-estimator sk-toggleable\"><input class=\"sk-toggleable__control sk-hidden--visually\" id=\"sk-estimator-id-25\" type=\"checkbox\" checked><label for=\"sk-estimator-id-25\" class=\"sk-toggleable__label sk-toggleable__label-arrow\">LogisticRegression</label><div class=\"sk-toggleable__content\"><pre>LogisticRegression()</pre></div></div></div></div></div>"
      ],
      "text/plain": [
       "LogisticRegression()"
      ]
     },
     "execution_count": 467,
     "metadata": {},
     "output_type": "execute_result"
    }
   ],
   "source": [
    "modelo.fit(x_train_scaled,y_train)"
   ]
  },
  {
   "cell_type": "markdown",
   "metadata": {},
   "source": [
    "- Obtenemos las predicciones y los scores"
   ]
  },
  {
   "cell_type": "code",
   "execution_count": 468,
   "metadata": {},
   "outputs": [
    {
     "name": "stdout",
     "output_type": "stream",
     "text": [
      "[0 0 1 1 1 0 1 0 0 0 0 0 1 0 1 1 0 1 1 0 1 1 1 0 1 0 1 0 1 0 0 1 1 1 0 0 1\n",
      " 0 1 1 0 0 0 0 1 1 1 1 1 0 1 1 1 1 0 0 0 1 0 0 1 0 0 1 1 0 0 1 1 1 1 0 1 0\n",
      " 0 0 0 1 1 1 1 0 0 0 0 0 0 0 1 0 0 1 0 1 0 0 0 1 1 0 0 1 1 0 1 0 1 0 1 0 1\n",
      " 0 0 0 0 1 1 1 1 1 0 1 1 1 0 0 0 1 1 0 0 1 0 0 0 1 1 0 1 0 1 1 1 0 0 0 0 1\n",
      " 1 1 0 1 1 0 1 1 0 1 1 0 0 0 0 0 1 0 0 0 0 1 0 1 0 0 0 1 0 0 0 1 1 1 0 1 1\n",
      " 1 0 1 1 0 0 1 1 0 0 1 0 0 1 1 1 0 0 0 1 1 1 0 1 1 1 0 1 1 0 1 0 1 1 1 0 1\n",
      " 1 1 0 1 1 1 0 0 0 1 0 0 0 0 1 1 0 1 0 0 0 0 0 1 1 1 0 0 1 0 1 0 0 1 0 0 1\n",
      " 1 1 1 0 0 0 1 1 1 1 0 1 0 1 1 0 1 0 0 1 1 0 1 0 1 1 0 0 1 1 0 0 1 1 1 1 0\n",
      " 1 1 1 0 0 0 1 1 1 1 1 1 1 1 1 1 0 0 0 0 1 1 1 0 1 1 0 1 0 1 0 1 1 1 1 1 1\n",
      " 0]\n",
      "Tasa de acierto en train: 0.7232947232947233\n",
      "Tasa de acierto en test: 0.6826347305389222\n"
     ]
    },
    {
     "name": "stderr",
     "output_type": "stream",
     "text": [
      "C:\\Users\\juanj\\AppData\\Local\\Packages\\PythonSoftwareFoundation.Python.3.10_qbz5n2kfra8p0\\LocalCache\\local-packages\\Python310\\site-packages\\sklearn\\utils\\validation.py:605: FutureWarning: is_sparse is deprecated and will be removed in a future version. Check `isinstance(dtype, pd.SparseDtype)` instead.\n",
      "  if is_sparse(pd_dtype):\n",
      "C:\\Users\\juanj\\AppData\\Local\\Packages\\PythonSoftwareFoundation.Python.3.10_qbz5n2kfra8p0\\LocalCache\\local-packages\\Python310\\site-packages\\sklearn\\utils\\validation.py:614: FutureWarning: is_sparse is deprecated and will be removed in a future version. Check `isinstance(dtype, pd.SparseDtype)` instead.\n",
      "  if is_sparse(pd_dtype) or not is_extension_array_dtype(pd_dtype):\n",
      "C:\\Users\\juanj\\AppData\\Local\\Packages\\PythonSoftwareFoundation.Python.3.10_qbz5n2kfra8p0\\LocalCache\\local-packages\\Python310\\site-packages\\sklearn\\utils\\validation.py:605: FutureWarning: is_sparse is deprecated and will be removed in a future version. Check `isinstance(dtype, pd.SparseDtype)` instead.\n",
      "  if is_sparse(pd_dtype):\n",
      "C:\\Users\\juanj\\AppData\\Local\\Packages\\PythonSoftwareFoundation.Python.3.10_qbz5n2kfra8p0\\LocalCache\\local-packages\\Python310\\site-packages\\sklearn\\utils\\validation.py:614: FutureWarning: is_sparse is deprecated and will be removed in a future version. Check `isinstance(dtype, pd.SparseDtype)` instead.\n",
      "  if is_sparse(pd_dtype) or not is_extension_array_dtype(pd_dtype):\n",
      "C:\\Users\\juanj\\AppData\\Local\\Packages\\PythonSoftwareFoundation.Python.3.10_qbz5n2kfra8p0\\LocalCache\\local-packages\\Python310\\site-packages\\sklearn\\utils\\validation.py:605: FutureWarning: is_sparse is deprecated and will be removed in a future version. Check `isinstance(dtype, pd.SparseDtype)` instead.\n",
      "  if is_sparse(pd_dtype):\n",
      "C:\\Users\\juanj\\AppData\\Local\\Packages\\PythonSoftwareFoundation.Python.3.10_qbz5n2kfra8p0\\LocalCache\\local-packages\\Python310\\site-packages\\sklearn\\utils\\validation.py:614: FutureWarning: is_sparse is deprecated and will be removed in a future version. Check `isinstance(dtype, pd.SparseDtype)` instead.\n",
      "  if is_sparse(pd_dtype) or not is_extension_array_dtype(pd_dtype):\n",
      "C:\\Users\\juanj\\AppData\\Local\\Packages\\PythonSoftwareFoundation.Python.3.10_qbz5n2kfra8p0\\LocalCache\\local-packages\\Python310\\site-packages\\sklearn\\utils\\validation.py:605: FutureWarning: is_sparse is deprecated and will be removed in a future version. Check `isinstance(dtype, pd.SparseDtype)` instead.\n",
      "  if is_sparse(pd_dtype):\n",
      "C:\\Users\\juanj\\AppData\\Local\\Packages\\PythonSoftwareFoundation.Python.3.10_qbz5n2kfra8p0\\LocalCache\\local-packages\\Python310\\site-packages\\sklearn\\utils\\validation.py:614: FutureWarning: is_sparse is deprecated and will be removed in a future version. Check `isinstance(dtype, pd.SparseDtype)` instead.\n",
      "  if is_sparse(pd_dtype) or not is_extension_array_dtype(pd_dtype):\n",
      "C:\\Users\\juanj\\AppData\\Local\\Packages\\PythonSoftwareFoundation.Python.3.10_qbz5n2kfra8p0\\LocalCache\\local-packages\\Python310\\site-packages\\sklearn\\utils\\validation.py:605: FutureWarning: is_sparse is deprecated and will be removed in a future version. Check `isinstance(dtype, pd.SparseDtype)` instead.\n",
      "  if is_sparse(pd_dtype):\n",
      "C:\\Users\\juanj\\AppData\\Local\\Packages\\PythonSoftwareFoundation.Python.3.10_qbz5n2kfra8p0\\LocalCache\\local-packages\\Python310\\site-packages\\sklearn\\utils\\validation.py:614: FutureWarning: is_sparse is deprecated and will be removed in a future version. Check `isinstance(dtype, pd.SparseDtype)` instead.\n",
      "  if is_sparse(pd_dtype) or not is_extension_array_dtype(pd_dtype):\n",
      "C:\\Users\\juanj\\AppData\\Local\\Packages\\PythonSoftwareFoundation.Python.3.10_qbz5n2kfra8p0\\LocalCache\\local-packages\\Python310\\site-packages\\sklearn\\utils\\validation.py:605: FutureWarning: is_sparse is deprecated and will be removed in a future version. Check `isinstance(dtype, pd.SparseDtype)` instead.\n",
      "  if is_sparse(pd_dtype):\n",
      "C:\\Users\\juanj\\AppData\\Local\\Packages\\PythonSoftwareFoundation.Python.3.10_qbz5n2kfra8p0\\LocalCache\\local-packages\\Python310\\site-packages\\sklearn\\utils\\validation.py:614: FutureWarning: is_sparse is deprecated and will be removed in a future version. Check `isinstance(dtype, pd.SparseDtype)` instead.\n",
      "  if is_sparse(pd_dtype) or not is_extension_array_dtype(pd_dtype):\n"
     ]
    }
   ],
   "source": [
    "#Predicciones\n",
    "predicciones_01=modelo.predict(x_test_scaled) # Estimación clases, y_pred\n",
    "print(predicciones_01)\n",
    "#Scores\n",
    "print('Tasa de acierto en train:',modelo.score(x_train_scaled,y_train) )\n",
    "print('Tasa de acierto en test:',modelo.score(x_test_scaled,y_test))"
   ]
  },
  {
   "cell_type": "markdown",
   "metadata": {},
   "source": [
    "-  Nos encontramos sobreajuste cuando a la hora de hacer la tasa de acierto sobre el conjunto de test encontramos un valor más pequeño que el score del entrenamiento, lo que quiere decir que el modelo se ajusta demasaido a los datos de entrenamiento y por tanto no generaliza bien. Como es un poco más alto el score de test, podemos decir que no hay sobreajuste."
   ]
  },
  {
   "cell_type": "markdown",
   "metadata": {},
   "source": [
    "- Si comparamos los scores con los de el DummyClasifier, es evidente que este modelo es mucho más preciso que un modelo basado en predecir siempre la clase que más se repite en los datos, ya que DummyClassifier tiene scores mucho más bajos que este modelo"
   ]
  },
  {
   "cell_type": "markdown",
   "metadata": {},
   "source": [
    "### <span style='color:burlywood'> 1.3.2 Si no se especifica en LogisticRegression el parámetro C, este es 1, indicando un grado medio de regularización. Al igual que con la regresión lineal, podemos hacer que sklearn ajuste automáticamente ese parámetro de regularización usando LogisticRegressionCV. ¿Qué obtienes ahora? ¿es mejor que el anterior modelo??</span>"
   ]
  },
  {
   "cell_type": "markdown",
   "metadata": {},
   "source": [
    "- Aplicamos LogisticRegressionCV"
   ]
  },
  {
   "cell_type": "code",
   "execution_count": 469,
   "metadata": {},
   "outputs": [
    {
     "name": "stderr",
     "output_type": "stream",
     "text": [
      "C:\\Users\\juanj\\AppData\\Local\\Packages\\PythonSoftwareFoundation.Python.3.10_qbz5n2kfra8p0\\LocalCache\\local-packages\\Python310\\site-packages\\sklearn\\utils\\validation.py:767: FutureWarning: is_sparse is deprecated and will be removed in a future version. Check `isinstance(dtype, pd.SparseDtype)` instead.\n",
      "  if not hasattr(array, \"sparse\") and array.dtypes.apply(is_sparse).any():\n",
      "C:\\Users\\juanj\\AppData\\Local\\Packages\\PythonSoftwareFoundation.Python.3.10_qbz5n2kfra8p0\\LocalCache\\local-packages\\Python310\\site-packages\\sklearn\\utils\\validation.py:605: FutureWarning: is_sparse is deprecated and will be removed in a future version. Check `isinstance(dtype, pd.SparseDtype)` instead.\n",
      "  if is_sparse(pd_dtype):\n",
      "C:\\Users\\juanj\\AppData\\Local\\Packages\\PythonSoftwareFoundation.Python.3.10_qbz5n2kfra8p0\\LocalCache\\local-packages\\Python310\\site-packages\\sklearn\\utils\\validation.py:614: FutureWarning: is_sparse is deprecated and will be removed in a future version. Check `isinstance(dtype, pd.SparseDtype)` instead.\n",
      "  if is_sparse(pd_dtype) or not is_extension_array_dtype(pd_dtype):\n",
      "C:\\Users\\juanj\\AppData\\Local\\Packages\\PythonSoftwareFoundation.Python.3.10_qbz5n2kfra8p0\\LocalCache\\local-packages\\Python310\\site-packages\\sklearn\\utils\\validation.py:767: FutureWarning: is_sparse is deprecated and will be removed in a future version. Check `isinstance(dtype, pd.SparseDtype)` instead.\n",
      "  if not hasattr(array, \"sparse\") and array.dtypes.apply(is_sparse).any():\n",
      "C:\\Users\\juanj\\AppData\\Local\\Packages\\PythonSoftwareFoundation.Python.3.10_qbz5n2kfra8p0\\LocalCache\\local-packages\\Python310\\site-packages\\sklearn\\utils\\validation.py:605: FutureWarning: is_sparse is deprecated and will be removed in a future version. Check `isinstance(dtype, pd.SparseDtype)` instead.\n",
      "  if is_sparse(pd_dtype):\n",
      "C:\\Users\\juanj\\AppData\\Local\\Packages\\PythonSoftwareFoundation.Python.3.10_qbz5n2kfra8p0\\LocalCache\\local-packages\\Python310\\site-packages\\sklearn\\utils\\validation.py:614: FutureWarning: is_sparse is deprecated and will be removed in a future version. Check `isinstance(dtype, pd.SparseDtype)` instead.\n",
      "  if is_sparse(pd_dtype) or not is_extension_array_dtype(pd_dtype):\n",
      "C:\\Users\\juanj\\AppData\\Local\\Packages\\PythonSoftwareFoundation.Python.3.10_qbz5n2kfra8p0\\LocalCache\\local-packages\\Python310\\site-packages\\sklearn\\utils\\validation.py:767: FutureWarning: is_sparse is deprecated and will be removed in a future version. Check `isinstance(dtype, pd.SparseDtype)` instead.\n",
      "  if not hasattr(array, \"sparse\") and array.dtypes.apply(is_sparse).any():\n",
      "C:\\Users\\juanj\\AppData\\Local\\Packages\\PythonSoftwareFoundation.Python.3.10_qbz5n2kfra8p0\\LocalCache\\local-packages\\Python310\\site-packages\\sklearn\\utils\\validation.py:605: FutureWarning: is_sparse is deprecated and will be removed in a future version. Check `isinstance(dtype, pd.SparseDtype)` instead.\n",
      "  if is_sparse(pd_dtype):\n",
      "C:\\Users\\juanj\\AppData\\Local\\Packages\\PythonSoftwareFoundation.Python.3.10_qbz5n2kfra8p0\\LocalCache\\local-packages\\Python310\\site-packages\\sklearn\\utils\\validation.py:614: FutureWarning: is_sparse is deprecated and will be removed in a future version. Check `isinstance(dtype, pd.SparseDtype)` instead.\n",
      "  if is_sparse(pd_dtype) or not is_extension_array_dtype(pd_dtype):\n",
      "C:\\Users\\juanj\\AppData\\Local\\Packages\\PythonSoftwareFoundation.Python.3.10_qbz5n2kfra8p0\\LocalCache\\local-packages\\Python310\\site-packages\\sklearn\\utils\\validation.py:767: FutureWarning: is_sparse is deprecated and will be removed in a future version. Check `isinstance(dtype, pd.SparseDtype)` instead.\n",
      "  if not hasattr(array, \"sparse\") and array.dtypes.apply(is_sparse).any():\n",
      "C:\\Users\\juanj\\AppData\\Local\\Packages\\PythonSoftwareFoundation.Python.3.10_qbz5n2kfra8p0\\LocalCache\\local-packages\\Python310\\site-packages\\sklearn\\utils\\validation.py:605: FutureWarning: is_sparse is deprecated and will be removed in a future version. Check `isinstance(dtype, pd.SparseDtype)` instead.\n",
      "  if is_sparse(pd_dtype):\n",
      "C:\\Users\\juanj\\AppData\\Local\\Packages\\PythonSoftwareFoundation.Python.3.10_qbz5n2kfra8p0\\LocalCache\\local-packages\\Python310\\site-packages\\sklearn\\utils\\validation.py:614: FutureWarning: is_sparse is deprecated and will be removed in a future version. Check `isinstance(dtype, pd.SparseDtype)` instead.\n",
      "  if is_sparse(pd_dtype) or not is_extension_array_dtype(pd_dtype):\n",
      "C:\\Users\\juanj\\AppData\\Local\\Packages\\PythonSoftwareFoundation.Python.3.10_qbz5n2kfra8p0\\LocalCache\\local-packages\\Python310\\site-packages\\sklearn\\utils\\validation.py:605: FutureWarning: is_sparse is deprecated and will be removed in a future version. Check `isinstance(dtype, pd.SparseDtype)` instead.\n",
      "  if is_sparse(pd_dtype):\n",
      "C:\\Users\\juanj\\AppData\\Local\\Packages\\PythonSoftwareFoundation.Python.3.10_qbz5n2kfra8p0\\LocalCache\\local-packages\\Python310\\site-packages\\sklearn\\utils\\validation.py:614: FutureWarning: is_sparse is deprecated and will be removed in a future version. Check `isinstance(dtype, pd.SparseDtype)` instead.\n",
      "  if is_sparse(pd_dtype) or not is_extension_array_dtype(pd_dtype):\n"
     ]
    },
    {
     "data": {
      "text/html": [
       "<style>#sk-container-id-26 {color: black;background-color: white;}#sk-container-id-26 pre{padding: 0;}#sk-container-id-26 div.sk-toggleable {background-color: white;}#sk-container-id-26 label.sk-toggleable__label {cursor: pointer;display: block;width: 100%;margin-bottom: 0;padding: 0.3em;box-sizing: border-box;text-align: center;}#sk-container-id-26 label.sk-toggleable__label-arrow:before {content: \"▸\";float: left;margin-right: 0.25em;color: #696969;}#sk-container-id-26 label.sk-toggleable__label-arrow:hover:before {color: black;}#sk-container-id-26 div.sk-estimator:hover label.sk-toggleable__label-arrow:before {color: black;}#sk-container-id-26 div.sk-toggleable__content {max-height: 0;max-width: 0;overflow: hidden;text-align: left;background-color: #f0f8ff;}#sk-container-id-26 div.sk-toggleable__content pre {margin: 0.2em;color: black;border-radius: 0.25em;background-color: #f0f8ff;}#sk-container-id-26 input.sk-toggleable__control:checked~div.sk-toggleable__content {max-height: 200px;max-width: 100%;overflow: auto;}#sk-container-id-26 input.sk-toggleable__control:checked~label.sk-toggleable__label-arrow:before {content: \"▾\";}#sk-container-id-26 div.sk-estimator input.sk-toggleable__control:checked~label.sk-toggleable__label {background-color: #d4ebff;}#sk-container-id-26 div.sk-label input.sk-toggleable__control:checked~label.sk-toggleable__label {background-color: #d4ebff;}#sk-container-id-26 input.sk-hidden--visually {border: 0;clip: rect(1px 1px 1px 1px);clip: rect(1px, 1px, 1px, 1px);height: 1px;margin: -1px;overflow: hidden;padding: 0;position: absolute;width: 1px;}#sk-container-id-26 div.sk-estimator {font-family: monospace;background-color: #f0f8ff;border: 1px dotted black;border-radius: 0.25em;box-sizing: border-box;margin-bottom: 0.5em;}#sk-container-id-26 div.sk-estimator:hover {background-color: #d4ebff;}#sk-container-id-26 div.sk-parallel-item::after {content: \"\";width: 100%;border-bottom: 1px solid gray;flex-grow: 1;}#sk-container-id-26 div.sk-label:hover label.sk-toggleable__label {background-color: #d4ebff;}#sk-container-id-26 div.sk-serial::before {content: \"\";position: absolute;border-left: 1px solid gray;box-sizing: border-box;top: 0;bottom: 0;left: 50%;z-index: 0;}#sk-container-id-26 div.sk-serial {display: flex;flex-direction: column;align-items: center;background-color: white;padding-right: 0.2em;padding-left: 0.2em;position: relative;}#sk-container-id-26 div.sk-item {position: relative;z-index: 1;}#sk-container-id-26 div.sk-parallel {display: flex;align-items: stretch;justify-content: center;background-color: white;position: relative;}#sk-container-id-26 div.sk-item::before, #sk-container-id-26 div.sk-parallel-item::before {content: \"\";position: absolute;border-left: 1px solid gray;box-sizing: border-box;top: 0;bottom: 0;left: 50%;z-index: -1;}#sk-container-id-26 div.sk-parallel-item {display: flex;flex-direction: column;z-index: 1;position: relative;background-color: white;}#sk-container-id-26 div.sk-parallel-item:first-child::after {align-self: flex-end;width: 50%;}#sk-container-id-26 div.sk-parallel-item:last-child::after {align-self: flex-start;width: 50%;}#sk-container-id-26 div.sk-parallel-item:only-child::after {width: 0;}#sk-container-id-26 div.sk-dashed-wrapped {border: 1px dashed gray;margin: 0 0.4em 0.5em 0.4em;box-sizing: border-box;padding-bottom: 0.4em;background-color: white;}#sk-container-id-26 div.sk-label label {font-family: monospace;font-weight: bold;display: inline-block;line-height: 1.2em;}#sk-container-id-26 div.sk-label-container {text-align: center;}#sk-container-id-26 div.sk-container {/* jupyter's `normalize.less` sets `[hidden] { display: none; }` but bootstrap.min.css set `[hidden] { display: none !important; }` so we also need the `!important` here to be able to override the default hidden behavior on the sphinx rendered scikit-learn.org. See: https://github.com/scikit-learn/scikit-learn/issues/21755 */display: inline-block !important;position: relative;}#sk-container-id-26 div.sk-text-repr-fallback {display: none;}</style><div id=\"sk-container-id-26\" class=\"sk-top-container\"><div class=\"sk-text-repr-fallback\"><pre>LogisticRegressionCV()</pre><b>In a Jupyter environment, please rerun this cell to show the HTML representation or trust the notebook. <br />On GitHub, the HTML representation is unable to render, please try loading this page with nbviewer.org.</b></div><div class=\"sk-container\" hidden><div class=\"sk-item\"><div class=\"sk-estimator sk-toggleable\"><input class=\"sk-toggleable__control sk-hidden--visually\" id=\"sk-estimator-id-26\" type=\"checkbox\" checked><label for=\"sk-estimator-id-26\" class=\"sk-toggleable__label sk-toggleable__label-arrow\">LogisticRegressionCV</label><div class=\"sk-toggleable__content\"><pre>LogisticRegressionCV()</pre></div></div></div></div></div>"
      ],
      "text/plain": [
       "LogisticRegressionCV()"
      ]
     },
     "execution_count": 469,
     "metadata": {},
     "output_type": "execute_result"
    }
   ],
   "source": [
    "xscaler = StandardScaler() ; \n",
    "modelo= sklearn.linear_model.LogisticRegressionCV()\n",
    "\n",
    "xscaler.fit(x_train)\n",
    "x_train_scaled = xscaler.transform(x_train) \n",
    "xscaler = StandardScaler() \n",
    "xscaler.fit(x_test)\n",
    "x_test_scaled = xscaler.transform(x_test)\n",
    "\n",
    "modelo.fit(x_train_scaled,y_train)"
   ]
  },
  {
   "cell_type": "markdown",
   "metadata": {},
   "source": [
    "- Coeficientes"
   ]
  },
  {
   "cell_type": "code",
   "execution_count": 470,
   "metadata": {},
   "outputs": [
    {
     "name": "stdout",
     "output_type": "stream",
     "text": [
      "Coeficientes con sklearn [[-0.12242687 -0.12174568 -0.80377483  0.28572892  1.04778753 -0.81410911\n",
      "  -0.14172972 -0.04079986  0.88991957 -0.06612198  0.17305035  0.36540457\n",
      "   0.16085872  0.00767519  0.45249904  0.3248517   0.18573357  0.33715672\n",
      "   0.12281394  0.12878352  0.31945302  0.16557181 -0.44829595  0.03117301\n",
      "   0.13318622]]\n"
     ]
    }
   ],
   "source": [
    "print('Coeficientes con sklearn',modelo.coef_)"
   ]
  },
  {
   "cell_type": "markdown",
   "metadata": {},
   "source": [
    "- Predicciones y scores"
   ]
  },
  {
   "cell_type": "code",
   "execution_count": 471,
   "metadata": {},
   "outputs": [
    {
     "data": {
      "text/plain": [
       "array([0, 0, 1, 1, 1, 0, 1, 0, 0, 0, 0, 0, 1, 0, 1, 1, 0, 1, 1, 0, 1, 1,\n",
       "       1, 0, 1, 0, 1, 0, 1, 0, 0, 1, 1, 1, 0, 0, 1, 0, 1, 1, 0, 0, 0, 0,\n",
       "       1, 1, 1, 1, 1, 0, 0, 1, 1, 1, 0, 0, 0, 0, 0, 0, 1, 0, 0, 1, 0, 0,\n",
       "       0, 1, 1, 1, 1, 0, 1, 0, 0, 0, 0, 1, 1, 1, 1, 0, 0, 0, 0, 0, 0, 0,\n",
       "       1, 0, 0, 0, 0, 1, 0, 0, 0, 1, 1, 0, 0, 1, 1, 0, 1, 0, 1, 0, 0, 0,\n",
       "       1, 0, 0, 0, 0, 1, 1, 1, 1, 1, 0, 1, 1, 1, 0, 0, 0, 1, 0, 0, 0, 1,\n",
       "       0, 0, 0, 1, 1, 0, 1, 0, 1, 1, 0, 0, 0, 0, 0, 1, 1, 1, 0, 1, 1, 0,\n",
       "       1, 1, 0, 1, 1, 0, 0, 0, 0, 0, 1, 0, 0, 0, 0, 1, 0, 1, 0, 0, 0, 1,\n",
       "       0, 0, 0, 1, 1, 1, 0, 1, 1, 1, 0, 1, 1, 1, 0, 1, 1, 0, 0, 1, 0, 0,\n",
       "       1, 1, 1, 0, 0, 0, 1, 1, 1, 0, 1, 1, 1, 0, 1, 1, 0, 1, 0, 1, 1, 1,\n",
       "       0, 1, 1, 1, 0, 1, 1, 1, 0, 0, 0, 1, 0, 0, 0, 0, 1, 1, 0, 0, 0, 0,\n",
       "       0, 0, 0, 1, 1, 1, 0, 0, 1, 0, 1, 0, 0, 1, 0, 0, 1, 0, 1, 1, 0, 0,\n",
       "       0, 1, 1, 1, 1, 0, 0, 0, 1, 1, 0, 1, 0, 0, 1, 1, 0, 1, 0, 0, 1, 0,\n",
       "       0, 1, 1, 0, 0, 1, 1, 1, 1, 0, 1, 1, 1, 0, 0, 0, 1, 1, 1, 1, 1, 1,\n",
       "       1, 1, 1, 1, 0, 0, 0, 0, 1, 1, 1, 0, 1, 1, 0, 1, 0, 0, 0, 1, 1, 1,\n",
       "       1, 1, 1, 0], dtype=int64)"
      ]
     },
     "execution_count": 471,
     "metadata": {},
     "output_type": "execute_result"
    }
   ],
   "source": [
    "y_pred=modelo.predict(x_test_scaled) # Estimación clases\n",
    "y_pred"
   ]
  },
  {
   "cell_type": "code",
   "execution_count": 472,
   "metadata": {},
   "outputs": [
    {
     "name": "stdout",
     "output_type": "stream",
     "text": [
      "Tasa de acierto en train: 0.7258687258687259\n",
      "Tasa de acierto en test: 0.6676646706586826\n"
     ]
    },
    {
     "name": "stderr",
     "output_type": "stream",
     "text": [
      "C:\\Users\\juanj\\AppData\\Local\\Packages\\PythonSoftwareFoundation.Python.3.10_qbz5n2kfra8p0\\LocalCache\\local-packages\\Python310\\site-packages\\sklearn\\utils\\validation.py:605: FutureWarning: is_sparse is deprecated and will be removed in a future version. Check `isinstance(dtype, pd.SparseDtype)` instead.\n",
      "  if is_sparse(pd_dtype):\n",
      "C:\\Users\\juanj\\AppData\\Local\\Packages\\PythonSoftwareFoundation.Python.3.10_qbz5n2kfra8p0\\LocalCache\\local-packages\\Python310\\site-packages\\sklearn\\utils\\validation.py:614: FutureWarning: is_sparse is deprecated and will be removed in a future version. Check `isinstance(dtype, pd.SparseDtype)` instead.\n",
      "  if is_sparse(pd_dtype) or not is_extension_array_dtype(pd_dtype):\n",
      "C:\\Users\\juanj\\AppData\\Local\\Packages\\PythonSoftwareFoundation.Python.3.10_qbz5n2kfra8p0\\LocalCache\\local-packages\\Python310\\site-packages\\sklearn\\utils\\validation.py:605: FutureWarning: is_sparse is deprecated and will be removed in a future version. Check `isinstance(dtype, pd.SparseDtype)` instead.\n",
      "  if is_sparse(pd_dtype):\n",
      "C:\\Users\\juanj\\AppData\\Local\\Packages\\PythonSoftwareFoundation.Python.3.10_qbz5n2kfra8p0\\LocalCache\\local-packages\\Python310\\site-packages\\sklearn\\utils\\validation.py:614: FutureWarning: is_sparse is deprecated and will be removed in a future version. Check `isinstance(dtype, pd.SparseDtype)` instead.\n",
      "  if is_sparse(pd_dtype) or not is_extension_array_dtype(pd_dtype):\n",
      "C:\\Users\\juanj\\AppData\\Local\\Packages\\PythonSoftwareFoundation.Python.3.10_qbz5n2kfra8p0\\LocalCache\\local-packages\\Python310\\site-packages\\sklearn\\utils\\validation.py:605: FutureWarning: is_sparse is deprecated and will be removed in a future version. Check `isinstance(dtype, pd.SparseDtype)` instead.\n",
      "  if is_sparse(pd_dtype):\n",
      "C:\\Users\\juanj\\AppData\\Local\\Packages\\PythonSoftwareFoundation.Python.3.10_qbz5n2kfra8p0\\LocalCache\\local-packages\\Python310\\site-packages\\sklearn\\utils\\validation.py:614: FutureWarning: is_sparse is deprecated and will be removed in a future version. Check `isinstance(dtype, pd.SparseDtype)` instead.\n",
      "  if is_sparse(pd_dtype) or not is_extension_array_dtype(pd_dtype):\n",
      "C:\\Users\\juanj\\AppData\\Local\\Packages\\PythonSoftwareFoundation.Python.3.10_qbz5n2kfra8p0\\LocalCache\\local-packages\\Python310\\site-packages\\sklearn\\utils\\validation.py:605: FutureWarning: is_sparse is deprecated and will be removed in a future version. Check `isinstance(dtype, pd.SparseDtype)` instead.\n",
      "  if is_sparse(pd_dtype):\n",
      "C:\\Users\\juanj\\AppData\\Local\\Packages\\PythonSoftwareFoundation.Python.3.10_qbz5n2kfra8p0\\LocalCache\\local-packages\\Python310\\site-packages\\sklearn\\utils\\validation.py:614: FutureWarning: is_sparse is deprecated and will be removed in a future version. Check `isinstance(dtype, pd.SparseDtype)` instead.\n",
      "  if is_sparse(pd_dtype) or not is_extension_array_dtype(pd_dtype):\n",
      "C:\\Users\\juanj\\AppData\\Local\\Packages\\PythonSoftwareFoundation.Python.3.10_qbz5n2kfra8p0\\LocalCache\\local-packages\\Python310\\site-packages\\sklearn\\utils\\validation.py:605: FutureWarning: is_sparse is deprecated and will be removed in a future version. Check `isinstance(dtype, pd.SparseDtype)` instead.\n",
      "  if is_sparse(pd_dtype):\n",
      "C:\\Users\\juanj\\AppData\\Local\\Packages\\PythonSoftwareFoundation.Python.3.10_qbz5n2kfra8p0\\LocalCache\\local-packages\\Python310\\site-packages\\sklearn\\utils\\validation.py:614: FutureWarning: is_sparse is deprecated and will be removed in a future version. Check `isinstance(dtype, pd.SparseDtype)` instead.\n",
      "  if is_sparse(pd_dtype) or not is_extension_array_dtype(pd_dtype):\n",
      "C:\\Users\\juanj\\AppData\\Local\\Packages\\PythonSoftwareFoundation.Python.3.10_qbz5n2kfra8p0\\LocalCache\\local-packages\\Python310\\site-packages\\sklearn\\utils\\validation.py:605: FutureWarning: is_sparse is deprecated and will be removed in a future version. Check `isinstance(dtype, pd.SparseDtype)` instead.\n",
      "  if is_sparse(pd_dtype):\n",
      "C:\\Users\\juanj\\AppData\\Local\\Packages\\PythonSoftwareFoundation.Python.3.10_qbz5n2kfra8p0\\LocalCache\\local-packages\\Python310\\site-packages\\sklearn\\utils\\validation.py:614: FutureWarning: is_sparse is deprecated and will be removed in a future version. Check `isinstance(dtype, pd.SparseDtype)` instead.\n",
      "  if is_sparse(pd_dtype) or not is_extension_array_dtype(pd_dtype):\n"
     ]
    }
   ],
   "source": [
    "print('Tasa de acierto en train:',modelo.score(x_train_scaled,y_train) )\n",
    "print('Tasa de acierto en test:',modelo.score(x_test_scaled,y_test) )"
   ]
  },
  {
   "cell_type": "markdown",
   "metadata": {},
   "source": [
    "- Al usar LogisticRegressionCV() permitimos una selección automática el parametro C. Si eligiésemos LogisticRegression() con el parámetro C por defecto, corremos el riesgo \n",
    "de obtener un modelo menos robusto y generalizable, es decir, hay más probabilidades de que haya sobreajuste. Sin embargo, LogisticRegressionCV() ayuda a mitigar este riesgo al seleccionar automáticamente el mejor valor de C basándose en validación cruzada.\n",
    "- Podemos observar que los coeficientes son muy similares y los scores son iguales, pero en caso de que al usar LogisticRegresion() con C=1 tuviésemos sobreajuste, ajustar la regularización podría ayudarnos a conseguir un mejor modelo, pero en esto, no podemos decir que sea un mejor modelo ya que ambos tienen la misma precisión."
   ]
  },
  {
   "cell_type": "markdown",
   "metadata": {},
   "source": [
    "# <span style='color:tan'> SEMANA 2 </span>"
   ]
  },
  {
   "cell_type": "markdown",
   "metadata": {},
   "source": [
    "## <span style='color:darksalmon'> Paso 1: Construcción y análisis de un modelo de regresión logística usando la librería statsmodels </span>"
   ]
  },
  {
   "cell_type": "markdown",
   "metadata": {},
   "source": [
    "### <span style='color:burlywood'> 2.1.1 Construye un modelo de regresión logística usando la librería statsmodels (clase Logit de statsmodels.api). ¿Obtiene los mismos coeficientes que sklearn? ¿Los scores son los mismos? </span>"
   ]
  },
  {
   "cell_type": "markdown",
   "metadata": {},
   "source": [
    "- Como esta librería no tiene una función que devuelva la precisión en el contexto de la clasificación como lo hace scikit-learn, hemos creado el modelo con statsmodels y para  medir el score hemos usado la función accuracy_score de sklearn.metrics."
   ]
  },
  {
   "cell_type": "markdown",
   "metadata": {},
   "source": [
    "- Imports"
   ]
  },
  {
   "cell_type": "code",
   "execution_count": 473,
   "metadata": {},
   "outputs": [],
   "source": [
    "import statsmodels.api as sm ; from sklearn.metrics import accuracy_score"
   ]
  },
  {
   "cell_type": "markdown",
   "metadata": {},
   "source": [
    "- Definimos el modelo "
   ]
  },
  {
   "cell_type": "code",
   "execution_count": 474,
   "metadata": {},
   "outputs": [
    {
     "name": "stdout",
     "output_type": "stream",
     "text": [
      "Optimization terminated successfully.\n",
      "         Current function value: 0.541777\n",
      "         Iterations 7\n"
     ]
    }
   ],
   "source": [
    "model = sm.Logit(y_train, sm.add_constant(x_train)).fit()"
   ]
  },
  {
   "cell_type": "markdown",
   "metadata": {},
   "source": [
    "- Coeficientes"
   ]
  },
  {
   "cell_type": "code",
   "execution_count": 475,
   "metadata": {},
   "outputs": [
    {
     "name": "stdout",
     "output_type": "stream",
     "text": [
      "Coeficientes con statsmodels: const                                               -0.690363\n",
      "network_age                                         -0.262878\n",
      "Customer tenure in month                             7.880554\n",
      "Total Spend in Months 1 and 2 of 2017               -0.000579\n",
      "Total SMS Spend                                      0.005459\n",
      "                                                       ...   \n",
      "Most Loved Competitor network in Month 2_PQza        0.765809\n",
      "Most Loved Competitor network in Month 2_ToCall      0.776775\n",
      "Most Loved Competitor network in Month 2_Uxaa       -0.908580\n",
      "Most Loved Competitor network in Month 2_Weematel    0.166274\n",
      "Most Loved Competitor network in Month 2_Zintel      0.821604\n",
      "Length: 26, dtype: float64\n"
     ]
    }
   ],
   "source": [
    "print('Coeficientes con statsmodels:',model.params)"
   ]
  },
  {
   "cell_type": "markdown",
   "metadata": {},
   "source": [
    "- Scores"
   ]
  },
  {
   "cell_type": "code",
   "execution_count": 476,
   "metadata": {},
   "outputs": [
    {
     "name": "stdout",
     "output_type": "stream",
     "text": [
      "score de train con statsmodels:  0.7245817245817245\n",
      "score de test con statsmodels:  0.688622754491018\n"
     ]
    },
    {
     "name": "stderr",
     "output_type": "stream",
     "text": [
      "C:\\Users\\juanj\\AppData\\Local\\Packages\\PythonSoftwareFoundation.Python.3.10_qbz5n2kfra8p0\\LocalCache\\local-packages\\Python310\\site-packages\\sklearn\\utils\\validation.py:605: FutureWarning: is_sparse is deprecated and will be removed in a future version. Check `isinstance(dtype, pd.SparseDtype)` instead.\n",
      "  if is_sparse(pd_dtype):\n",
      "C:\\Users\\juanj\\AppData\\Local\\Packages\\PythonSoftwareFoundation.Python.3.10_qbz5n2kfra8p0\\LocalCache\\local-packages\\Python310\\site-packages\\sklearn\\utils\\validation.py:614: FutureWarning: is_sparse is deprecated and will be removed in a future version. Check `isinstance(dtype, pd.SparseDtype)` instead.\n",
      "  if is_sparse(pd_dtype) or not is_extension_array_dtype(pd_dtype):\n",
      "C:\\Users\\juanj\\AppData\\Local\\Packages\\PythonSoftwareFoundation.Python.3.10_qbz5n2kfra8p0\\LocalCache\\local-packages\\Python310\\site-packages\\sklearn\\utils\\validation.py:605: FutureWarning: is_sparse is deprecated and will be removed in a future version. Check `isinstance(dtype, pd.SparseDtype)` instead.\n",
      "  if is_sparse(pd_dtype):\n",
      "C:\\Users\\juanj\\AppData\\Local\\Packages\\PythonSoftwareFoundation.Python.3.10_qbz5n2kfra8p0\\LocalCache\\local-packages\\Python310\\site-packages\\sklearn\\utils\\validation.py:614: FutureWarning: is_sparse is deprecated and will be removed in a future version. Check `isinstance(dtype, pd.SparseDtype)` instead.\n",
      "  if is_sparse(pd_dtype) or not is_extension_array_dtype(pd_dtype):\n",
      "C:\\Users\\juanj\\AppData\\Local\\Packages\\PythonSoftwareFoundation.Python.3.10_qbz5n2kfra8p0\\LocalCache\\local-packages\\Python310\\site-packages\\sklearn\\utils\\validation.py:605: FutureWarning: is_sparse is deprecated and will be removed in a future version. Check `isinstance(dtype, pd.SparseDtype)` instead.\n",
      "  if is_sparse(pd_dtype):\n",
      "C:\\Users\\juanj\\AppData\\Local\\Packages\\PythonSoftwareFoundation.Python.3.10_qbz5n2kfra8p0\\LocalCache\\local-packages\\Python310\\site-packages\\sklearn\\utils\\validation.py:614: FutureWarning: is_sparse is deprecated and will be removed in a future version. Check `isinstance(dtype, pd.SparseDtype)` instead.\n",
      "  if is_sparse(pd_dtype) or not is_extension_array_dtype(pd_dtype):\n",
      "C:\\Users\\juanj\\AppData\\Local\\Packages\\PythonSoftwareFoundation.Python.3.10_qbz5n2kfra8p0\\LocalCache\\local-packages\\Python310\\site-packages\\sklearn\\utils\\validation.py:605: FutureWarning: is_sparse is deprecated and will be removed in a future version. Check `isinstance(dtype, pd.SparseDtype)` instead.\n",
      "  if is_sparse(pd_dtype):\n",
      "C:\\Users\\juanj\\AppData\\Local\\Packages\\PythonSoftwareFoundation.Python.3.10_qbz5n2kfra8p0\\LocalCache\\local-packages\\Python310\\site-packages\\sklearn\\utils\\validation.py:614: FutureWarning: is_sparse is deprecated and will be removed in a future version. Check `isinstance(dtype, pd.SparseDtype)` instead.\n",
      "  if is_sparse(pd_dtype) or not is_extension_array_dtype(pd_dtype):\n",
      "C:\\Users\\juanj\\AppData\\Local\\Packages\\PythonSoftwareFoundation.Python.3.10_qbz5n2kfra8p0\\LocalCache\\local-packages\\Python310\\site-packages\\sklearn\\utils\\validation.py:605: FutureWarning: is_sparse is deprecated and will be removed in a future version. Check `isinstance(dtype, pd.SparseDtype)` instead.\n",
      "  if is_sparse(pd_dtype):\n",
      "C:\\Users\\juanj\\AppData\\Local\\Packages\\PythonSoftwareFoundation.Python.3.10_qbz5n2kfra8p0\\LocalCache\\local-packages\\Python310\\site-packages\\sklearn\\utils\\validation.py:614: FutureWarning: is_sparse is deprecated and will be removed in a future version. Check `isinstance(dtype, pd.SparseDtype)` instead.\n",
      "  if is_sparse(pd_dtype) or not is_extension_array_dtype(pd_dtype):\n",
      "C:\\Users\\juanj\\AppData\\Local\\Packages\\PythonSoftwareFoundation.Python.3.10_qbz5n2kfra8p0\\LocalCache\\local-packages\\Python310\\site-packages\\sklearn\\utils\\validation.py:605: FutureWarning: is_sparse is deprecated and will be removed in a future version. Check `isinstance(dtype, pd.SparseDtype)` instead.\n",
      "  if is_sparse(pd_dtype):\n",
      "C:\\Users\\juanj\\AppData\\Local\\Packages\\PythonSoftwareFoundation.Python.3.10_qbz5n2kfra8p0\\LocalCache\\local-packages\\Python310\\site-packages\\sklearn\\utils\\validation.py:614: FutureWarning: is_sparse is deprecated and will be removed in a future version. Check `isinstance(dtype, pd.SparseDtype)` instead.\n",
      "  if is_sparse(pd_dtype) or not is_extension_array_dtype(pd_dtype):\n",
      "C:\\Users\\juanj\\AppData\\Local\\Packages\\PythonSoftwareFoundation.Python.3.10_qbz5n2kfra8p0\\LocalCache\\local-packages\\Python310\\site-packages\\sklearn\\utils\\validation.py:605: FutureWarning: is_sparse is deprecated and will be removed in a future version. Check `isinstance(dtype, pd.SparseDtype)` instead.\n",
      "  if is_sparse(pd_dtype):\n",
      "C:\\Users\\juanj\\AppData\\Local\\Packages\\PythonSoftwareFoundation.Python.3.10_qbz5n2kfra8p0\\LocalCache\\local-packages\\Python310\\site-packages\\sklearn\\utils\\validation.py:614: FutureWarning: is_sparse is deprecated and will be removed in a future version. Check `isinstance(dtype, pd.SparseDtype)` instead.\n",
      "  if is_sparse(pd_dtype) or not is_extension_array_dtype(pd_dtype):\n",
      "C:\\Users\\juanj\\AppData\\Local\\Packages\\PythonSoftwareFoundation.Python.3.10_qbz5n2kfra8p0\\LocalCache\\local-packages\\Python310\\site-packages\\sklearn\\utils\\validation.py:605: FutureWarning: is_sparse is deprecated and will be removed in a future version. Check `isinstance(dtype, pd.SparseDtype)` instead.\n",
      "  if is_sparse(pd_dtype):\n",
      "C:\\Users\\juanj\\AppData\\Local\\Packages\\PythonSoftwareFoundation.Python.3.10_qbz5n2kfra8p0\\LocalCache\\local-packages\\Python310\\site-packages\\sklearn\\utils\\validation.py:614: FutureWarning: is_sparse is deprecated and will be removed in a future version. Check `isinstance(dtype, pd.SparseDtype)` instead.\n",
      "  if is_sparse(pd_dtype) or not is_extension_array_dtype(pd_dtype):\n",
      "C:\\Users\\juanj\\AppData\\Local\\Packages\\PythonSoftwareFoundation.Python.3.10_qbz5n2kfra8p0\\LocalCache\\local-packages\\Python310\\site-packages\\sklearn\\utils\\validation.py:605: FutureWarning: is_sparse is deprecated and will be removed in a future version. Check `isinstance(dtype, pd.SparseDtype)` instead.\n",
      "  if is_sparse(pd_dtype):\n",
      "C:\\Users\\juanj\\AppData\\Local\\Packages\\PythonSoftwareFoundation.Python.3.10_qbz5n2kfra8p0\\LocalCache\\local-packages\\Python310\\site-packages\\sklearn\\utils\\validation.py:614: FutureWarning: is_sparse is deprecated and will be removed in a future version. Check `isinstance(dtype, pd.SparseDtype)` instead.\n",
      "  if is_sparse(pd_dtype) or not is_extension_array_dtype(pd_dtype):\n",
      "C:\\Users\\juanj\\AppData\\Local\\Packages\\PythonSoftwareFoundation.Python.3.10_qbz5n2kfra8p0\\LocalCache\\local-packages\\Python310\\site-packages\\sklearn\\utils\\validation.py:605: FutureWarning: is_sparse is deprecated and will be removed in a future version. Check `isinstance(dtype, pd.SparseDtype)` instead.\n",
      "  if is_sparse(pd_dtype):\n",
      "C:\\Users\\juanj\\AppData\\Local\\Packages\\PythonSoftwareFoundation.Python.3.10_qbz5n2kfra8p0\\LocalCache\\local-packages\\Python310\\site-packages\\sklearn\\utils\\validation.py:614: FutureWarning: is_sparse is deprecated and will be removed in a future version. Check `isinstance(dtype, pd.SparseDtype)` instead.\n",
      "  if is_sparse(pd_dtype) or not is_extension_array_dtype(pd_dtype):\n",
      "C:\\Users\\juanj\\AppData\\Local\\Packages\\PythonSoftwareFoundation.Python.3.10_qbz5n2kfra8p0\\LocalCache\\local-packages\\Python310\\site-packages\\sklearn\\utils\\validation.py:605: FutureWarning: is_sparse is deprecated and will be removed in a future version. Check `isinstance(dtype, pd.SparseDtype)` instead.\n",
      "  if is_sparse(pd_dtype):\n",
      "C:\\Users\\juanj\\AppData\\Local\\Packages\\PythonSoftwareFoundation.Python.3.10_qbz5n2kfra8p0\\LocalCache\\local-packages\\Python310\\site-packages\\sklearn\\utils\\validation.py:614: FutureWarning: is_sparse is deprecated and will be removed in a future version. Check `isinstance(dtype, pd.SparseDtype)` instead.\n",
      "  if is_sparse(pd_dtype) or not is_extension_array_dtype(pd_dtype):\n",
      "C:\\Users\\juanj\\AppData\\Local\\Packages\\PythonSoftwareFoundation.Python.3.10_qbz5n2kfra8p0\\LocalCache\\local-packages\\Python310\\site-packages\\sklearn\\utils\\validation.py:605: FutureWarning: is_sparse is deprecated and will be removed in a future version. Check `isinstance(dtype, pd.SparseDtype)` instead.\n",
      "  if is_sparse(pd_dtype):\n",
      "C:\\Users\\juanj\\AppData\\Local\\Packages\\PythonSoftwareFoundation.Python.3.10_qbz5n2kfra8p0\\LocalCache\\local-packages\\Python310\\site-packages\\sklearn\\utils\\validation.py:614: FutureWarning: is_sparse is deprecated and will be removed in a future version. Check `isinstance(dtype, pd.SparseDtype)` instead.\n",
      "  if is_sparse(pd_dtype) or not is_extension_array_dtype(pd_dtype):\n"
     ]
    }
   ],
   "source": [
    "umbral = 0.5\n",
    "preds_train= model.predict(sm.add_constant(x_train))\n",
    "preds_test = model.predict(sm.add_constant(x_test))\n",
    "predicciones_clase_train = (preds_train > umbral).astype(int)\n",
    "predicciones_clase_test = (preds_test > umbral).astype(int)\n",
    "precision_train = accuracy_score(y_train, predicciones_clase_train)\n",
    "print('score de train con statsmodels: ', precision_train)\n",
    "\n",
    "precision_test = accuracy_score(y_test, predicciones_clase_test)\n",
    "print('score de test con statsmodels: ', precision_test)"
   ]
  },
  {
   "cell_type": "markdown",
   "metadata": {},
   "source": [
    "- Los coeficientes difieren bastante, esto se puede deber a que StatsModels utiliza una parametrización del modelo logístico distinta a sklearn. En particular, los coeficientes de StatsModels están en una escala diferente debido a la parametrización específica utilizada. Sin embargo, ambas formas nos ofrecen la misma tasa de acierto."
   ]
  },
  {
   "cell_type": "markdown",
   "metadata": {},
   "source": [
    "### <span style='color:burlywood'> 2.1.2 Saca por pantalla la información estadística del modelo: desviación estándar de los coeficientes, valores p, intervalos de confianza de los coeficientes. Con una significancia estadística del 95%, ¿qué variables parece que no aportan información?</span>"
   ]
  },
  {
   "cell_type": "code",
   "execution_count": 477,
   "metadata": {},
   "outputs": [
    {
     "data": {
      "text/html": [
       "<table class=\"simpletable\">\n",
       "<caption>Logit Regression Results</caption>\n",
       "<tr>\n",
       "  <th>Dep. Variable:</th>     <td>Churn Status</td>   <th>  No. Observations:  </th>  <td>   777</td>  \n",
       "</tr>\n",
       "<tr>\n",
       "  <th>Model:</th>                 <td>Logit</td>      <th>  Df Residuals:      </th>  <td>   751</td>  \n",
       "</tr>\n",
       "<tr>\n",
       "  <th>Method:</th>                 <td>MLE</td>       <th>  Df Model:          </th>  <td>    25</td>  \n",
       "</tr>\n",
       "<tr>\n",
       "  <th>Date:</th>            <td>Thu, 30 Nov 2023</td> <th>  Pseudo R-squ.:     </th>  <td>0.2176</td>  \n",
       "</tr>\n",
       "<tr>\n",
       "  <th>Time:</th>                <td>17:27:31</td>     <th>  Log-Likelihood:    </th> <td> -420.96</td> \n",
       "</tr>\n",
       "<tr>\n",
       "  <th>converged:</th>             <td>True</td>       <th>  LL-Null:           </th> <td> -538.03</td> \n",
       "</tr>\n",
       "<tr>\n",
       "  <th>Covariance Type:</th>     <td>nonrobust</td>    <th>  LLR p-value:       </th> <td>7.101e-36</td>\n",
       "</tr>\n",
       "</table>\n",
       "<table class=\"simpletable\">\n",
       "<tr>\n",
       "                          <td></td>                             <th>coef</th>     <th>std err</th>      <th>z</th>      <th>P>|z|</th>  <th>[0.025</th>    <th>0.975]</th>  \n",
       "</tr>\n",
       "<tr>\n",
       "  <th>const</th>                                             <td>   -0.6904</td> <td>    0.651</td> <td>   -1.061</td> <td> 0.289</td> <td>   -1.966</td> <td>    0.585</td>\n",
       "</tr>\n",
       "<tr>\n",
       "  <th>network_age</th>                                       <td>   -0.2629</td> <td>    1.059</td> <td>   -0.248</td> <td> 0.804</td> <td>   -2.338</td> <td>    1.812</td>\n",
       "</tr>\n",
       "<tr>\n",
       "  <th>Customer tenure in month</th>                          <td>    7.8806</td> <td>   31.759</td> <td>    0.248</td> <td> 0.804</td> <td>  -54.365</td> <td>   70.126</td>\n",
       "</tr>\n",
       "<tr>\n",
       "  <th>Total Spend in Months 1 and 2 of 2017</th>             <td>   -0.0006</td> <td>    0.000</td> <td>   -2.963</td> <td> 0.003</td> <td>   -0.001</td> <td>   -0.000</td>\n",
       "</tr>\n",
       "<tr>\n",
       "  <th>Total SMS Spend</th>                                   <td>    0.0055</td> <td>    0.003</td> <td>    2.145</td> <td> 0.032</td> <td>    0.000</td> <td>    0.010</td>\n",
       "</tr>\n",
       "<tr>\n",
       "  <th>Total Data Spend</th>                                  <td>    0.0032</td> <td>    0.001</td> <td>    3.723</td> <td> 0.000</td> <td>    0.002</td> <td>    0.005</td>\n",
       "</tr>\n",
       "<tr>\n",
       "  <th>Total Data Consumption</th>                            <td>-1.076e-07</td> <td> 2.51e-08</td> <td>   -4.293</td> <td> 0.000</td> <td>-1.57e-07</td> <td>-5.85e-08</td>\n",
       "</tr>\n",
       "<tr>\n",
       "  <th>Total Unique Calls</th>                                <td>   -0.0005</td> <td>    0.000</td> <td>   -1.026</td> <td> 0.305</td> <td>   -0.001</td> <td>    0.000</td>\n",
       "</tr>\n",
       "<tr>\n",
       "  <th>Total Onnet spend</th>                                 <td>-3.447e-06</td> <td> 9.12e-06</td> <td>   -0.378</td> <td> 0.705</td> <td>-2.13e-05</td> <td> 1.44e-05</td>\n",
       "</tr>\n",
       "<tr>\n",
       "  <th>Total Offnet spend</th>                                <td> 2.459e-05</td> <td> 5.47e-06</td> <td>    4.497</td> <td> 0.000</td> <td> 1.39e-05</td> <td> 3.53e-05</td>\n",
       "</tr>\n",
       "<tr>\n",
       "  <th>Total Call centre complaint calls</th>                 <td>   -0.0258</td> <td>    0.035</td> <td>   -0.740</td> <td> 0.459</td> <td>   -0.094</td> <td>    0.042</td>\n",
       "</tr>\n",
       "<tr>\n",
       "  <th>Network type subscription in Month 1_2G</th>           <td>    0.3729</td> <td>    0.808</td> <td>    0.462</td> <td> 0.644</td> <td>   -1.211</td> <td>    1.956</td>\n",
       "</tr>\n",
       "<tr>\n",
       "  <th>Network type subscription in Month 1_3G</th>           <td>    0.7287</td> <td>    0.741</td> <td>    0.983</td> <td> 0.325</td> <td>   -0.724</td> <td>    2.181</td>\n",
       "</tr>\n",
       "<tr>\n",
       "  <th>Network type subscription in Month 2_2G</th>           <td>    0.3694</td> <td>    0.784</td> <td>    0.471</td> <td> 0.638</td> <td>   -1.168</td> <td>    1.907</td>\n",
       "</tr>\n",
       "<tr>\n",
       "  <th>Network type subscription in Month 2_3G</th>           <td>    0.0257</td> <td>    0.717</td> <td>    0.036</td> <td> 0.971</td> <td>   -1.380</td> <td>    1.432</td>\n",
       "</tr>\n",
       "<tr>\n",
       "  <th>Most Loved Competitor network in Month 1_Mango</th>    <td>    1.2613</td> <td>    0.600</td> <td>    2.103</td> <td> 0.035</td> <td>    0.086</td> <td>    2.437</td>\n",
       "</tr>\n",
       "<tr>\n",
       "  <th>Most Loved Competitor network in Month 1_PQza</th>     <td>    0.7590</td> <td>    0.598</td> <td>    1.270</td> <td> 0.204</td> <td>   -0.412</td> <td>    1.930</td>\n",
       "</tr>\n",
       "<tr>\n",
       "  <th>Most Loved Competitor network in Month 1_ToCall</th>   <td>    0.5188</td> <td>    0.603</td> <td>    0.860</td> <td> 0.390</td> <td>   -0.663</td> <td>    1.700</td>\n",
       "</tr>\n",
       "<tr>\n",
       "  <th>Most Loved Competitor network in Month 1_Uxaa</th>     <td>    0.7873</td> <td>    0.586</td> <td>    1.343</td> <td> 0.179</td> <td>   -0.362</td> <td>    1.936</td>\n",
       "</tr>\n",
       "<tr>\n",
       "  <th>Most Loved Competitor network in Month 1_Weematel</th> <td>    0.3907</td> <td>    0.616</td> <td>    0.634</td> <td> 0.526</td> <td>   -0.817</td> <td>    1.599</td>\n",
       "</tr>\n",
       "<tr>\n",
       "  <th>Most Loved Competitor network in Month 1_Zintel</th>   <td>    0.4290</td> <td>    0.630</td> <td>    0.681</td> <td> 0.496</td> <td>   -0.806</td> <td>    1.664</td>\n",
       "</tr>\n",
       "<tr>\n",
       "  <th>Most Loved Competitor network in Month 2_PQza</th>     <td>    0.7658</td> <td>    0.361</td> <td>    2.121</td> <td> 0.034</td> <td>    0.058</td> <td>    1.473</td>\n",
       "</tr>\n",
       "<tr>\n",
       "  <th>Most Loved Competitor network in Month 2_ToCall</th>   <td>    0.7768</td> <td>    0.514</td> <td>    1.512</td> <td> 0.131</td> <td>   -0.230</td> <td>    1.784</td>\n",
       "</tr>\n",
       "<tr>\n",
       "  <th>Most Loved Competitor network in Month 2_Uxaa</th>     <td>   -0.9086</td> <td>    0.322</td> <td>   -2.820</td> <td> 0.005</td> <td>   -1.540</td> <td>   -0.277</td>\n",
       "</tr>\n",
       "<tr>\n",
       "  <th>Most Loved Competitor network in Month 2_Weematel</th> <td>    0.1663</td> <td>    0.556</td> <td>    0.299</td> <td> 0.765</td> <td>   -0.924</td> <td>    1.256</td>\n",
       "</tr>\n",
       "<tr>\n",
       "  <th>Most Loved Competitor network in Month 2_Zintel</th>   <td>    0.8216</td> <td>    0.645</td> <td>    1.274</td> <td> 0.203</td> <td>   -0.442</td> <td>    2.085</td>\n",
       "</tr>\n",
       "</table>"
      ],
      "text/latex": [
       "\\begin{center}\n",
       "\\begin{tabular}{lclc}\n",
       "\\toprule\n",
       "\\textbf{Dep. Variable:}                                     &   Churn Status   & \\textbf{  No. Observations:  } &      777    \\\\\n",
       "\\textbf{Model:}                                             &      Logit       & \\textbf{  Df Residuals:      } &      751    \\\\\n",
       "\\textbf{Method:}                                            &       MLE        & \\textbf{  Df Model:          } &       25    \\\\\n",
       "\\textbf{Date:}                                              & Thu, 30 Nov 2023 & \\textbf{  Pseudo R-squ.:     } &   0.2176    \\\\\n",
       "\\textbf{Time:}                                              &     17:27:31     & \\textbf{  Log-Likelihood:    } &   -420.96   \\\\\n",
       "\\textbf{converged:}                                         &       True       & \\textbf{  LL-Null:           } &   -538.03   \\\\\n",
       "\\textbf{Covariance Type:}                                   &    nonrobust     & \\textbf{  LLR p-value:       } & 7.101e-36   \\\\\n",
       "\\bottomrule\n",
       "\\end{tabular}\n",
       "\\begin{tabular}{lcccccc}\n",
       "                                                            & \\textbf{coef} & \\textbf{std err} & \\textbf{z} & \\textbf{P$> |$z$|$} & \\textbf{[0.025} & \\textbf{0.975]}  \\\\\n",
       "\\midrule\n",
       "\\textbf{const}                                              &      -0.6904  &        0.651     &    -1.061  &         0.289        &       -1.966    &        0.585     \\\\\n",
       "\\textbf{network\\_age}                                       &      -0.2629  &        1.059     &    -0.248  &         0.804        &       -2.338    &        1.812     \\\\\n",
       "\\textbf{Customer tenure in month}                           &       7.8806  &       31.759     &     0.248  &         0.804        &      -54.365    &       70.126     \\\\\n",
       "\\textbf{Total Spend in Months 1 and 2 of 2017}              &      -0.0006  &        0.000     &    -2.963  &         0.003        &       -0.001    &       -0.000     \\\\\n",
       "\\textbf{Total SMS Spend}                                    &       0.0055  &        0.003     &     2.145  &         0.032        &        0.000    &        0.010     \\\\\n",
       "\\textbf{Total Data Spend}                                   &       0.0032  &        0.001     &     3.723  &         0.000        &        0.002    &        0.005     \\\\\n",
       "\\textbf{Total Data Consumption}                             &   -1.076e-07  &     2.51e-08     &    -4.293  &         0.000        &    -1.57e-07    &    -5.85e-08     \\\\\n",
       "\\textbf{Total Unique Calls}                                 &      -0.0005  &        0.000     &    -1.026  &         0.305        &       -0.001    &        0.000     \\\\\n",
       "\\textbf{Total Onnet spend}                                  &   -3.447e-06  &     9.12e-06     &    -0.378  &         0.705        &    -2.13e-05    &     1.44e-05     \\\\\n",
       "\\textbf{Total Offnet spend}                                 &    2.459e-05  &     5.47e-06     &     4.497  &         0.000        &     1.39e-05    &     3.53e-05     \\\\\n",
       "\\textbf{Total Call centre complaint calls}                  &      -0.0258  &        0.035     &    -0.740  &         0.459        &       -0.094    &        0.042     \\\\\n",
       "\\textbf{Network type subscription in Month 1\\_2G}           &       0.3729  &        0.808     &     0.462  &         0.644        &       -1.211    &        1.956     \\\\\n",
       "\\textbf{Network type subscription in Month 1\\_3G}           &       0.7287  &        0.741     &     0.983  &         0.325        &       -0.724    &        2.181     \\\\\n",
       "\\textbf{Network type subscription in Month 2\\_2G}           &       0.3694  &        0.784     &     0.471  &         0.638        &       -1.168    &        1.907     \\\\\n",
       "\\textbf{Network type subscription in Month 2\\_3G}           &       0.0257  &        0.717     &     0.036  &         0.971        &       -1.380    &        1.432     \\\\\n",
       "\\textbf{Most Loved Competitor network in Month 1\\_Mango}    &       1.2613  &        0.600     &     2.103  &         0.035        &        0.086    &        2.437     \\\\\n",
       "\\textbf{Most Loved Competitor network in Month 1\\_PQza}     &       0.7590  &        0.598     &     1.270  &         0.204        &       -0.412    &        1.930     \\\\\n",
       "\\textbf{Most Loved Competitor network in Month 1\\_ToCall}   &       0.5188  &        0.603     &     0.860  &         0.390        &       -0.663    &        1.700     \\\\\n",
       "\\textbf{Most Loved Competitor network in Month 1\\_Uxaa}     &       0.7873  &        0.586     &     1.343  &         0.179        &       -0.362    &        1.936     \\\\\n",
       "\\textbf{Most Loved Competitor network in Month 1\\_Weematel} &       0.3907  &        0.616     &     0.634  &         0.526        &       -0.817    &        1.599     \\\\\n",
       "\\textbf{Most Loved Competitor network in Month 1\\_Zintel}   &       0.4290  &        0.630     &     0.681  &         0.496        &       -0.806    &        1.664     \\\\\n",
       "\\textbf{Most Loved Competitor network in Month 2\\_PQza}     &       0.7658  &        0.361     &     2.121  &         0.034        &        0.058    &        1.473     \\\\\n",
       "\\textbf{Most Loved Competitor network in Month 2\\_ToCall}   &       0.7768  &        0.514     &     1.512  &         0.131        &       -0.230    &        1.784     \\\\\n",
       "\\textbf{Most Loved Competitor network in Month 2\\_Uxaa}     &      -0.9086  &        0.322     &    -2.820  &         0.005        &       -1.540    &       -0.277     \\\\\n",
       "\\textbf{Most Loved Competitor network in Month 2\\_Weematel} &       0.1663  &        0.556     &     0.299  &         0.765        &       -0.924    &        1.256     \\\\\n",
       "\\textbf{Most Loved Competitor network in Month 2\\_Zintel}   &       0.8216  &        0.645     &     1.274  &         0.203        &       -0.442    &        2.085     \\\\\n",
       "\\bottomrule\n",
       "\\end{tabular}\n",
       "%\\caption{Logit Regression Results}\n",
       "\\end{center}"
      ],
      "text/plain": [
       "<class 'statsmodels.iolib.summary.Summary'>\n",
       "\"\"\"\n",
       "                           Logit Regression Results                           \n",
       "==============================================================================\n",
       "Dep. Variable:           Churn Status   No. Observations:                  777\n",
       "Model:                          Logit   Df Residuals:                      751\n",
       "Method:                           MLE   Df Model:                           25\n",
       "Date:                Thu, 30 Nov 2023   Pseudo R-squ.:                  0.2176\n",
       "Time:                        17:27:31   Log-Likelihood:                -420.96\n",
       "converged:                       True   LL-Null:                       -538.03\n",
       "Covariance Type:            nonrobust   LLR p-value:                 7.101e-36\n",
       "=====================================================================================================================\n",
       "                                                        coef    std err          z      P>|z|      [0.025      0.975]\n",
       "---------------------------------------------------------------------------------------------------------------------\n",
       "const                                                -0.6904      0.651     -1.061      0.289      -1.966       0.585\n",
       "network_age                                          -0.2629      1.059     -0.248      0.804      -2.338       1.812\n",
       "Customer tenure in month                              7.8806     31.759      0.248      0.804     -54.365      70.126\n",
       "Total Spend in Months 1 and 2 of 2017                -0.0006      0.000     -2.963      0.003      -0.001      -0.000\n",
       "Total SMS Spend                                       0.0055      0.003      2.145      0.032       0.000       0.010\n",
       "Total Data Spend                                      0.0032      0.001      3.723      0.000       0.002       0.005\n",
       "Total Data Consumption                            -1.076e-07   2.51e-08     -4.293      0.000   -1.57e-07   -5.85e-08\n",
       "Total Unique Calls                                   -0.0005      0.000     -1.026      0.305      -0.001       0.000\n",
       "Total Onnet spend                                 -3.447e-06   9.12e-06     -0.378      0.705   -2.13e-05    1.44e-05\n",
       "Total Offnet spend                                 2.459e-05   5.47e-06      4.497      0.000    1.39e-05    3.53e-05\n",
       "Total Call centre complaint calls                    -0.0258      0.035     -0.740      0.459      -0.094       0.042\n",
       "Network type subscription in Month 1_2G               0.3729      0.808      0.462      0.644      -1.211       1.956\n",
       "Network type subscription in Month 1_3G               0.7287      0.741      0.983      0.325      -0.724       2.181\n",
       "Network type subscription in Month 2_2G               0.3694      0.784      0.471      0.638      -1.168       1.907\n",
       "Network type subscription in Month 2_3G               0.0257      0.717      0.036      0.971      -1.380       1.432\n",
       "Most Loved Competitor network in Month 1_Mango        1.2613      0.600      2.103      0.035       0.086       2.437\n",
       "Most Loved Competitor network in Month 1_PQza         0.7590      0.598      1.270      0.204      -0.412       1.930\n",
       "Most Loved Competitor network in Month 1_ToCall       0.5188      0.603      0.860      0.390      -0.663       1.700\n",
       "Most Loved Competitor network in Month 1_Uxaa         0.7873      0.586      1.343      0.179      -0.362       1.936\n",
       "Most Loved Competitor network in Month 1_Weematel     0.3907      0.616      0.634      0.526      -0.817       1.599\n",
       "Most Loved Competitor network in Month 1_Zintel       0.4290      0.630      0.681      0.496      -0.806       1.664\n",
       "Most Loved Competitor network in Month 2_PQza         0.7658      0.361      2.121      0.034       0.058       1.473\n",
       "Most Loved Competitor network in Month 2_ToCall       0.7768      0.514      1.512      0.131      -0.230       1.784\n",
       "Most Loved Competitor network in Month 2_Uxaa        -0.9086      0.322     -2.820      0.005      -1.540      -0.277\n",
       "Most Loved Competitor network in Month 2_Weematel     0.1663      0.556      0.299      0.765      -0.924       1.256\n",
       "Most Loved Competitor network in Month 2_Zintel       0.8216      0.645      1.274      0.203      -0.442       2.085\n",
       "=====================================================================================================================\n",
       "\"\"\""
      ]
     },
     "execution_count": 477,
     "metadata": {},
     "output_type": "execute_result"
    }
   ],
   "source": [
    "model.summary()"
   ]
  },
  {
   "cell_type": "markdown",
   "metadata": {},
   "source": [
    "- Como para cada constante se está haciendo un contraste de significación, la hipótesis nula (se afirma que la variable no es significativa) se rechaza si el p-valor es menor que el nivel de significación, que es un 5%, y por tanto nos quedamos con la hipótesis alternativa, que afirma que la variable sí es significativa para nuestras predicciones. Por tanto, consideramos que no aportan información aquellas variables con un p-valor<0.05, que son: \n",
    "\n",
    "    - Total Spend in Months 1 and 2 of 2017 \n",
    "\n",
    "    - Total SMS Spend\n",
    "\n",
    "    - Total Data Spend\n",
    "\n",
    "    - Total Data Consumption\n",
    "\n",
    "    - Total Offnet spend\n",
    "\n",
    "    - Most Loved Competitor network in Month 1_Mango\n",
    "\n",
    "    - Most Loved Competitor network in Month 2_PQza\n",
    "\n",
    "    - Most Loved Competitor network in Month 2_Uxaa"
   ]
  },
  {
   "cell_type": "markdown",
   "metadata": {},
   "source": [
    "## <span style='color:darksalmon'> Paso 2: Selección de variables con librería statsmodels </span>"
   ]
  },
  {
   "cell_type": "markdown",
   "metadata": {},
   "source": [
    "### <span style='color:burlywood'> 2.2.1 Implementa un algoritmo similar al que implementaste en la práctica 2 para la selección de variables con statsmodels </span>"
   ]
  },
  {
   "cell_type": "markdown",
   "metadata": {},
   "source": [
    "- Empezamos importanto las librerías necesarias"
   ]
  },
  {
   "cell_type": "code",
   "execution_count": 478,
   "metadata": {},
   "outputs": [],
   "source": [
    "import statsmodels.api as sm\n",
    "from sklearn.metrics import accuracy_score"
   ]
  },
  {
   "cell_type": "markdown",
   "metadata": {},
   "source": [
    "- Implementamos el algoritmo"
   ]
  },
  {
   "cell_type": "code",
   "execution_count": 479,
   "metadata": {},
   "outputs": [],
   "source": [
    "x = data.drop('Churn Status', axis=1)\n",
    "y = data['Churn Status']\n",
    "x_train, x_test, y_train, y_test = train_test_split(x, y, test_size=0.3, random_state=1)\n",
    "#Definimos cols\n",
    "cols = list(x_train.columns)"
   ]
  },
  {
   "cell_type": "code",
   "execution_count": 480,
   "metadata": {},
   "outputs": [
    {
     "name": "stdout",
     "output_type": "stream",
     "text": [
      "Optimization terminated successfully.\n",
      "         Current function value: 0.541777\n",
      "         Iterations 7\n",
      "Variable 'Network type subscription in Month 2_3G' eliminada (p-value: 0.9714516333927313)\n",
      "Optimization terminated successfully.\n",
      "         Current function value: 0.541778\n",
      "         Iterations 7\n",
      "Variable 'Customer tenure in month' eliminada (p-value: 0.8053049921934394)\n",
      "Optimization terminated successfully.\n",
      "         Current function value: 0.541817\n",
      "         Iterations 7\n",
      "Variable 'Most Loved Competitor network in Month 2_Weematel' eliminada (p-value: 0.7680807097410385)\n",
      "Optimization terminated successfully.\n",
      "         Current function value: 0.541874\n",
      "         Iterations 7\n",
      "Variable 'Total Onnet spend' eliminada (p-value: 0.6955246521605403)\n",
      "Optimization terminated successfully.\n",
      "         Current function value: 0.541974\n",
      "         Iterations 7\n",
      "Variable 'Most Loved Competitor network in Month 1_Weematel' eliminada (p-value: 0.5189431657379043)\n",
      "Optimization terminated successfully.\n",
      "         Current function value: 0.542250\n",
      "         Iterations 7\n",
      "Variable 'Most Loved Competitor network in Month 1_Zintel' eliminada (p-value: 0.763062082992694)\n",
      "Optimization terminated successfully.\n",
      "         Current function value: 0.542308\n",
      "         Iterations 7\n",
      "Variable 'Most Loved Competitor network in Month 1_ToCall' eliminada (p-value: 0.5993715000976934)\n",
      "Optimization terminated successfully.\n",
      "         Current function value: 0.542485\n",
      "         Iterations 7\n",
      "Variable 'Total Call centre complaint calls' eliminada (p-value: 0.4300966153014061)\n",
      "Optimization terminated successfully.\n",
      "         Current function value: 0.542849\n",
      "         Iterations 7\n",
      "Variable 'Network type subscription in Month 1_2G' eliminada (p-value: 0.31019785911913655)\n",
      "Optimization terminated successfully.\n",
      "         Current function value: 0.543514\n",
      "         Iterations 7\n",
      "Variable 'Total Unique Calls' eliminada (p-value: 0.31815319995504143)\n",
      "Optimization terminated successfully.\n",
      "         Current function value: 0.544158\n",
      "         Iterations 7\n",
      "Variable 'Most Loved Competitor network in Month 2_Zintel' eliminada (p-value: 0.16194477480983205)\n",
      "Optimization terminated successfully.\n",
      "         Current function value: 0.545510\n",
      "         Iterations 7\n",
      "Variable 'Most Loved Competitor network in Month 2_ToCall' eliminada (p-value: 0.21364571073840466)\n",
      "Optimization terminated successfully.\n",
      "         Current function value: 0.546552\n",
      "         Iterations 7\n",
      "Variable 'Most Loved Competitor network in Month 1_PQza' eliminada (p-value: 0.17808531558400398)\n",
      "Optimization terminated successfully.\n",
      "         Current function value: 0.547714\n",
      "         Iterations 7\n",
      "Variable 'Most Loved Competitor network in Month 1_Uxaa' eliminada (p-value: 0.23972592282389538)\n",
      "Optimization terminated successfully.\n",
      "         Current function value: 0.548604\n",
      "         Iterations 7\n",
      "11\n"
     ]
    }
   ],
   "source": [
    "cols = list(x_train.columns)\n",
    "while True:\n",
    "    # Construir el modelo de regresión logística actual con las variables en cols\n",
    "    model = sm.Logit(y_train, sm.add_constant(x_train[cols])).fit()\n",
    "\n",
    "    # Obtener los valores p para todas las variables\n",
    "    p_values = model.pvalues.iloc[1:]  \n",
    "\n",
    "    # Encontrar la variable con el valor p más grande\n",
    "    max_p = p_values.max()\n",
    "    if max_p > 0.05:\n",
    "        # Quitar la variable correspondiente de cols\n",
    "        remove = p_values.idxmax()\n",
    "        cols.remove(remove)\n",
    "        print(f\"Variable '{remove}' eliminada (p-value: {max_p})\")\n",
    "    else:\n",
    "        # Si no hay ninguna variable con valor p > significance_level, terminar el bucle\n",
    "        break\n",
    "print(len(cols))"
   ]
  },
  {
   "cell_type": "markdown",
   "metadata": {},
   "source": [
    "### <span style='color:burlywood'> 2.2.2  ¿Con cuántas variables te quedas usando este algoritmo? ¿Qué scores obtienes? ¿Es mejor que el modelo sin seleccionar variables? </span>"
   ]
  },
  {
   "cell_type": "markdown",
   "metadata": {},
   "source": [
    "- Variables depués de aplicar el algoritmo"
   ]
  },
  {
   "cell_type": "code",
   "execution_count": 481,
   "metadata": {},
   "outputs": [
    {
     "data": {
      "text/plain": [
       "['network_age',\n",
       " 'Total Spend in Months 1 and 2 of 2017',\n",
       " 'Total SMS Spend',\n",
       " 'Total Data Spend',\n",
       " 'Total Data Consumption',\n",
       " 'Total Offnet spend',\n",
       " 'Network type subscription in Month 1_3G',\n",
       " 'Network type subscription in Month 2_2G',\n",
       " 'Most Loved Competitor network in Month 1_Mango',\n",
       " 'Most Loved Competitor network in Month 2_PQza',\n",
       " 'Most Loved Competitor network in Month 2_Uxaa']"
      ]
     },
     "execution_count": 481,
     "metadata": {},
     "output_type": "execute_result"
    }
   ],
   "source": [
    "cols"
   ]
  },
  {
   "cell_type": "code",
   "execution_count": 482,
   "metadata": {},
   "outputs": [
    {
     "ename": "IndexError",
     "evalue": "only integers, slices (`:`), ellipsis (`...`), numpy.newaxis (`None`) and integer or boolean arrays are valid indices",
     "output_type": "error",
     "traceback": [
      "\u001b[1;31m---------------------------------------------------------------------------\u001b[0m",
      "\u001b[1;31mIndexError\u001b[0m                                Traceback (most recent call last)",
      "\u001b[1;32mc:\\Users\\juanj\\Documents\\3ercuatri\\repositorio2\\p3_aa\\AA1_P3-12_Viernes_11 (1)-final.ipynb Celda 139\u001b[0m line \u001b[0;36m1\n\u001b[1;32m----> <a href='vscode-notebook-cell:/c%3A/Users/juanj/Documents/3ercuatri/repositorio2/p3_aa/AA1_P3-12_Viernes_11%20%281%29-final.ipynb#Y415sZmlsZQ%3D%3D?line=0'>1</a>\u001b[0m x_train_a\u001b[39m=\u001b[39mx_train_scaled[cols]\n\u001b[0;32m      <a href='vscode-notebook-cell:/c%3A/Users/juanj/Documents/3ercuatri/repositorio2/p3_aa/AA1_P3-12_Viernes_11%20%281%29-final.ipynb#Y415sZmlsZQ%3D%3D?line=1'>2</a>\u001b[0m x_test_a\u001b[39m=\u001b[39mx_test_scaled[cols]\n",
      "\u001b[1;31mIndexError\u001b[0m: only integers, slices (`:`), ellipsis (`...`), numpy.newaxis (`None`) and integer or boolean arrays are valid indices"
     ]
    }
   ],
   "source": [
    "x_train_a=x_train_scaled[cols]\n",
    "x_test_a=x_test_scaled[cols]\n",
    "data_explot=data_explot[cols]\n",
    "data_explot.drop (columns='Churn Status')\n",
    "\n",
    "\n"
   ]
  },
  {
   "cell_type": "markdown",
   "metadata": {},
   "source": [
    "- Score:"
   ]
  },
  {
   "cell_type": "code",
   "execution_count": null,
   "metadata": {},
   "outputs": [
    {
     "name": "stdout",
     "output_type": "stream",
     "text": [
      "score de train con statsmodels:  0.722007722007722\n",
      "score de test con statsmodels:  0.6586826347305389\n"
     ]
    },
    {
     "name": "stderr",
     "output_type": "stream",
     "text": [
      "C:\\Users\\juanj\\AppData\\Local\\Packages\\PythonSoftwareFoundation.Python.3.10_qbz5n2kfra8p0\\LocalCache\\local-packages\\Python310\\site-packages\\sklearn\\utils\\validation.py:605: FutureWarning: is_sparse is deprecated and will be removed in a future version. Check `isinstance(dtype, pd.SparseDtype)` instead.\n",
      "  if is_sparse(pd_dtype):\n",
      "C:\\Users\\juanj\\AppData\\Local\\Packages\\PythonSoftwareFoundation.Python.3.10_qbz5n2kfra8p0\\LocalCache\\local-packages\\Python310\\site-packages\\sklearn\\utils\\validation.py:614: FutureWarning: is_sparse is deprecated and will be removed in a future version. Check `isinstance(dtype, pd.SparseDtype)` instead.\n",
      "  if is_sparse(pd_dtype) or not is_extension_array_dtype(pd_dtype):\n",
      "C:\\Users\\juanj\\AppData\\Local\\Packages\\PythonSoftwareFoundation.Python.3.10_qbz5n2kfra8p0\\LocalCache\\local-packages\\Python310\\site-packages\\sklearn\\utils\\validation.py:605: FutureWarning: is_sparse is deprecated and will be removed in a future version. Check `isinstance(dtype, pd.SparseDtype)` instead.\n",
      "  if is_sparse(pd_dtype):\n",
      "C:\\Users\\juanj\\AppData\\Local\\Packages\\PythonSoftwareFoundation.Python.3.10_qbz5n2kfra8p0\\LocalCache\\local-packages\\Python310\\site-packages\\sklearn\\utils\\validation.py:614: FutureWarning: is_sparse is deprecated and will be removed in a future version. Check `isinstance(dtype, pd.SparseDtype)` instead.\n",
      "  if is_sparse(pd_dtype) or not is_extension_array_dtype(pd_dtype):\n",
      "C:\\Users\\juanj\\AppData\\Local\\Packages\\PythonSoftwareFoundation.Python.3.10_qbz5n2kfra8p0\\LocalCache\\local-packages\\Python310\\site-packages\\sklearn\\utils\\validation.py:605: FutureWarning: is_sparse is deprecated and will be removed in a future version. Check `isinstance(dtype, pd.SparseDtype)` instead.\n",
      "  if is_sparse(pd_dtype):\n",
      "C:\\Users\\juanj\\AppData\\Local\\Packages\\PythonSoftwareFoundation.Python.3.10_qbz5n2kfra8p0\\LocalCache\\local-packages\\Python310\\site-packages\\sklearn\\utils\\validation.py:614: FutureWarning: is_sparse is deprecated and will be removed in a future version. Check `isinstance(dtype, pd.SparseDtype)` instead.\n",
      "  if is_sparse(pd_dtype) or not is_extension_array_dtype(pd_dtype):\n",
      "C:\\Users\\juanj\\AppData\\Local\\Packages\\PythonSoftwareFoundation.Python.3.10_qbz5n2kfra8p0\\LocalCache\\local-packages\\Python310\\site-packages\\sklearn\\utils\\validation.py:605: FutureWarning: is_sparse is deprecated and will be removed in a future version. Check `isinstance(dtype, pd.SparseDtype)` instead.\n",
      "  if is_sparse(pd_dtype):\n",
      "C:\\Users\\juanj\\AppData\\Local\\Packages\\PythonSoftwareFoundation.Python.3.10_qbz5n2kfra8p0\\LocalCache\\local-packages\\Python310\\site-packages\\sklearn\\utils\\validation.py:614: FutureWarning: is_sparse is deprecated and will be removed in a future version. Check `isinstance(dtype, pd.SparseDtype)` instead.\n",
      "  if is_sparse(pd_dtype) or not is_extension_array_dtype(pd_dtype):\n",
      "C:\\Users\\juanj\\AppData\\Local\\Packages\\PythonSoftwareFoundation.Python.3.10_qbz5n2kfra8p0\\LocalCache\\local-packages\\Python310\\site-packages\\sklearn\\utils\\validation.py:605: FutureWarning: is_sparse is deprecated and will be removed in a future version. Check `isinstance(dtype, pd.SparseDtype)` instead.\n",
      "  if is_sparse(pd_dtype):\n",
      "C:\\Users\\juanj\\AppData\\Local\\Packages\\PythonSoftwareFoundation.Python.3.10_qbz5n2kfra8p0\\LocalCache\\local-packages\\Python310\\site-packages\\sklearn\\utils\\validation.py:614: FutureWarning: is_sparse is deprecated and will be removed in a future version. Check `isinstance(dtype, pd.SparseDtype)` instead.\n",
      "  if is_sparse(pd_dtype) or not is_extension_array_dtype(pd_dtype):\n",
      "C:\\Users\\juanj\\AppData\\Local\\Packages\\PythonSoftwareFoundation.Python.3.10_qbz5n2kfra8p0\\LocalCache\\local-packages\\Python310\\site-packages\\sklearn\\utils\\validation.py:605: FutureWarning: is_sparse is deprecated and will be removed in a future version. Check `isinstance(dtype, pd.SparseDtype)` instead.\n",
      "  if is_sparse(pd_dtype):\n",
      "C:\\Users\\juanj\\AppData\\Local\\Packages\\PythonSoftwareFoundation.Python.3.10_qbz5n2kfra8p0\\LocalCache\\local-packages\\Python310\\site-packages\\sklearn\\utils\\validation.py:614: FutureWarning: is_sparse is deprecated and will be removed in a future version. Check `isinstance(dtype, pd.SparseDtype)` instead.\n",
      "  if is_sparse(pd_dtype) or not is_extension_array_dtype(pd_dtype):\n",
      "C:\\Users\\juanj\\AppData\\Local\\Packages\\PythonSoftwareFoundation.Python.3.10_qbz5n2kfra8p0\\LocalCache\\local-packages\\Python310\\site-packages\\sklearn\\utils\\validation.py:605: FutureWarning: is_sparse is deprecated and will be removed in a future version. Check `isinstance(dtype, pd.SparseDtype)` instead.\n",
      "  if is_sparse(pd_dtype):\n",
      "C:\\Users\\juanj\\AppData\\Local\\Packages\\PythonSoftwareFoundation.Python.3.10_qbz5n2kfra8p0\\LocalCache\\local-packages\\Python310\\site-packages\\sklearn\\utils\\validation.py:614: FutureWarning: is_sparse is deprecated and will be removed in a future version. Check `isinstance(dtype, pd.SparseDtype)` instead.\n",
      "  if is_sparse(pd_dtype) or not is_extension_array_dtype(pd_dtype):\n",
      "C:\\Users\\juanj\\AppData\\Local\\Packages\\PythonSoftwareFoundation.Python.3.10_qbz5n2kfra8p0\\LocalCache\\local-packages\\Python310\\site-packages\\sklearn\\utils\\validation.py:605: FutureWarning: is_sparse is deprecated and will be removed in a future version. Check `isinstance(dtype, pd.SparseDtype)` instead.\n",
      "  if is_sparse(pd_dtype):\n",
      "C:\\Users\\juanj\\AppData\\Local\\Packages\\PythonSoftwareFoundation.Python.3.10_qbz5n2kfra8p0\\LocalCache\\local-packages\\Python310\\site-packages\\sklearn\\utils\\validation.py:614: FutureWarning: is_sparse is deprecated and will be removed in a future version. Check `isinstance(dtype, pd.SparseDtype)` instead.\n",
      "  if is_sparse(pd_dtype) or not is_extension_array_dtype(pd_dtype):\n",
      "C:\\Users\\juanj\\AppData\\Local\\Packages\\PythonSoftwareFoundation.Python.3.10_qbz5n2kfra8p0\\LocalCache\\local-packages\\Python310\\site-packages\\sklearn\\utils\\validation.py:605: FutureWarning: is_sparse is deprecated and will be removed in a future version. Check `isinstance(dtype, pd.SparseDtype)` instead.\n",
      "  if is_sparse(pd_dtype):\n",
      "C:\\Users\\juanj\\AppData\\Local\\Packages\\PythonSoftwareFoundation.Python.3.10_qbz5n2kfra8p0\\LocalCache\\local-packages\\Python310\\site-packages\\sklearn\\utils\\validation.py:614: FutureWarning: is_sparse is deprecated and will be removed in a future version. Check `isinstance(dtype, pd.SparseDtype)` instead.\n",
      "  if is_sparse(pd_dtype) or not is_extension_array_dtype(pd_dtype):\n",
      "C:\\Users\\juanj\\AppData\\Local\\Packages\\PythonSoftwareFoundation.Python.3.10_qbz5n2kfra8p0\\LocalCache\\local-packages\\Python310\\site-packages\\sklearn\\utils\\validation.py:605: FutureWarning: is_sparse is deprecated and will be removed in a future version. Check `isinstance(dtype, pd.SparseDtype)` instead.\n",
      "  if is_sparse(pd_dtype):\n",
      "C:\\Users\\juanj\\AppData\\Local\\Packages\\PythonSoftwareFoundation.Python.3.10_qbz5n2kfra8p0\\LocalCache\\local-packages\\Python310\\site-packages\\sklearn\\utils\\validation.py:614: FutureWarning: is_sparse is deprecated and will be removed in a future version. Check `isinstance(dtype, pd.SparseDtype)` instead.\n",
      "  if is_sparse(pd_dtype) or not is_extension_array_dtype(pd_dtype):\n",
      "C:\\Users\\juanj\\AppData\\Local\\Packages\\PythonSoftwareFoundation.Python.3.10_qbz5n2kfra8p0\\LocalCache\\local-packages\\Python310\\site-packages\\sklearn\\utils\\validation.py:605: FutureWarning: is_sparse is deprecated and will be removed in a future version. Check `isinstance(dtype, pd.SparseDtype)` instead.\n",
      "  if is_sparse(pd_dtype):\n",
      "C:\\Users\\juanj\\AppData\\Local\\Packages\\PythonSoftwareFoundation.Python.3.10_qbz5n2kfra8p0\\LocalCache\\local-packages\\Python310\\site-packages\\sklearn\\utils\\validation.py:614: FutureWarning: is_sparse is deprecated and will be removed in a future version. Check `isinstance(dtype, pd.SparseDtype)` instead.\n",
      "  if is_sparse(pd_dtype) or not is_extension_array_dtype(pd_dtype):\n",
      "C:\\Users\\juanj\\AppData\\Local\\Packages\\PythonSoftwareFoundation.Python.3.10_qbz5n2kfra8p0\\LocalCache\\local-packages\\Python310\\site-packages\\sklearn\\utils\\validation.py:605: FutureWarning: is_sparse is deprecated and will be removed in a future version. Check `isinstance(dtype, pd.SparseDtype)` instead.\n",
      "  if is_sparse(pd_dtype):\n",
      "C:\\Users\\juanj\\AppData\\Local\\Packages\\PythonSoftwareFoundation.Python.3.10_qbz5n2kfra8p0\\LocalCache\\local-packages\\Python310\\site-packages\\sklearn\\utils\\validation.py:614: FutureWarning: is_sparse is deprecated and will be removed in a future version. Check `isinstance(dtype, pd.SparseDtype)` instead.\n",
      "  if is_sparse(pd_dtype) or not is_extension_array_dtype(pd_dtype):\n"
     ]
    }
   ],
   "source": [
    "umbral = 0.5\n",
    "predicciones_train= model.predict(sm.add_constant(x_train[cols]))\n",
    "predicciones_test = model.predict(sm.add_constant(x_test[cols]))\n",
    "predicciones_clase_train2 = (predicciones_train > umbral).astype(int)\n",
    "predicciones_clase_tes2t = (predicciones_test > umbral).astype(int)\n",
    "precision_train2 = accuracy_score(y_train, predicciones_clase_train2)\n",
    "print('score de train con statsmodels: ', precision_train2)\n",
    "\n",
    "precision_test = accuracy_score(y_test, predicciones_clase_tes2t)\n",
    "print('score de test con statsmodels: ', precision_test)"
   ]
  },
  {
   "cell_type": "markdown",
   "metadata": {},
   "source": [
    "- El score de test ha mejorado al quitar esas variables"
   ]
  },
  {
   "cell_type": "markdown",
   "metadata": {},
   "source": [
    "## <span style='color:darksalmon'> Paso 3: Usando el mejor modelo de regresión logística que hayas obtenido hasta ahora, extrae las siguientes métricas compáralas con el modelo dummy </span>"
   ]
  },
  {
   "cell_type": "markdown",
   "metadata": {},
   "source": [
    "### <span style='color:burlywood'> 2.3.1 Matriz de confusión </span>"
   ]
  },
  {
   "cell_type": "markdown",
   "metadata": {},
   "source": [
    "- Usaremos el modelo de regresión logística que hemos obtenido con sklearn, aunque no habría problema en usar statsmodels ya que la precisión es la misma.\n",
    "\n",
    "- Para comprobar que la matriz es correcta, podemos dividir el número de predicciones correctas (VP+VN) entre el total de predicciones. (130+114)/(130+114+37+53)~0.73, que coincide con el score calculado anteriormente."
   ]
  },
  {
   "cell_type": "code",
   "execution_count": null,
   "metadata": {},
   "outputs": [
    {
     "name": "stdout",
     "output_type": "stream",
     "text": [
      "[[111  46]\n",
      " [ 58 119]]\n"
     ]
    },
    {
     "name": "stderr",
     "output_type": "stream",
     "text": [
      "C:\\Users\\juanj\\AppData\\Local\\Packages\\PythonSoftwareFoundation.Python.3.10_qbz5n2kfra8p0\\LocalCache\\local-packages\\Python310\\site-packages\\sklearn\\utils\\validation.py:605: FutureWarning: is_sparse is deprecated and will be removed in a future version. Check `isinstance(dtype, pd.SparseDtype)` instead.\n",
      "  if is_sparse(pd_dtype):\n",
      "C:\\Users\\juanj\\AppData\\Local\\Packages\\PythonSoftwareFoundation.Python.3.10_qbz5n2kfra8p0\\LocalCache\\local-packages\\Python310\\site-packages\\sklearn\\utils\\validation.py:614: FutureWarning: is_sparse is deprecated and will be removed in a future version. Check `isinstance(dtype, pd.SparseDtype)` instead.\n",
      "  if is_sparse(pd_dtype) or not is_extension_array_dtype(pd_dtype):\n",
      "C:\\Users\\juanj\\AppData\\Local\\Packages\\PythonSoftwareFoundation.Python.3.10_qbz5n2kfra8p0\\LocalCache\\local-packages\\Python310\\site-packages\\sklearn\\utils\\validation.py:605: FutureWarning: is_sparse is deprecated and will be removed in a future version. Check `isinstance(dtype, pd.SparseDtype)` instead.\n",
      "  if is_sparse(pd_dtype):\n",
      "C:\\Users\\juanj\\AppData\\Local\\Packages\\PythonSoftwareFoundation.Python.3.10_qbz5n2kfra8p0\\LocalCache\\local-packages\\Python310\\site-packages\\sklearn\\utils\\validation.py:614: FutureWarning: is_sparse is deprecated and will be removed in a future version. Check `isinstance(dtype, pd.SparseDtype)` instead.\n",
      "  if is_sparse(pd_dtype) or not is_extension_array_dtype(pd_dtype):\n",
      "C:\\Users\\juanj\\AppData\\Local\\Packages\\PythonSoftwareFoundation.Python.3.10_qbz5n2kfra8p0\\LocalCache\\local-packages\\Python310\\site-packages\\sklearn\\utils\\validation.py:605: FutureWarning: is_sparse is deprecated and will be removed in a future version. Check `isinstance(dtype, pd.SparseDtype)` instead.\n",
      "  if is_sparse(pd_dtype):\n",
      "C:\\Users\\juanj\\AppData\\Local\\Packages\\PythonSoftwareFoundation.Python.3.10_qbz5n2kfra8p0\\LocalCache\\local-packages\\Python310\\site-packages\\sklearn\\utils\\validation.py:614: FutureWarning: is_sparse is deprecated and will be removed in a future version. Check `isinstance(dtype, pd.SparseDtype)` instead.\n",
      "  if is_sparse(pd_dtype) or not is_extension_array_dtype(pd_dtype):\n"
     ]
    }
   ],
   "source": [
    "#y_pred fue definida anteriormente\n",
    "print(sklearn.metrics.confusion_matrix(y_pred,y_test)) #y_real es y_test"
   ]
  },
  {
   "cell_type": "markdown",
   "metadata": {},
   "source": [
    "### <span style='color:burlywood'> 2.3.2 Curva ROC y área bajo la curva (AUC) </span>"
   ]
  },
  {
   "cell_type": "markdown",
   "metadata": {},
   "source": [
    "- Usaremos solo los parámetros y_true, y_score (las probabilidades del modelo para la clase \"positiva\"), y pos_label (cuál de las dos clases es la \"positiva\").\n",
    "- Una vez calculado el TPR y el FPR habría que representar la gráfica de TPR (eje vertical) en función del FPR (eje horizontal).\n",
    "- Para calcular el AUC (área bajo la curva). Usaremos solo los parámetros y_true e y_score"
   ]
  },
  {
   "cell_type": "markdown",
   "metadata": {},
   "source": [
    "- Curva Roc"
   ]
  },
  {
   "cell_type": "code",
   "execution_count": null,
   "metadata": {},
   "outputs": [
    {
     "name": "stderr",
     "output_type": "stream",
     "text": [
      "C:\\Users\\juanj\\AppData\\Local\\Packages\\PythonSoftwareFoundation.Python.3.10_qbz5n2kfra8p0\\LocalCache\\local-packages\\Python310\\site-packages\\sklearn\\utils\\validation.py:605: FutureWarning: is_sparse is deprecated and will be removed in a future version. Check `isinstance(dtype, pd.SparseDtype)` instead.\n",
      "  if is_sparse(pd_dtype):\n",
      "C:\\Users\\juanj\\AppData\\Local\\Packages\\PythonSoftwareFoundation.Python.3.10_qbz5n2kfra8p0\\LocalCache\\local-packages\\Python310\\site-packages\\sklearn\\utils\\validation.py:614: FutureWarning: is_sparse is deprecated and will be removed in a future version. Check `isinstance(dtype, pd.SparseDtype)` instead.\n",
      "  if is_sparse(pd_dtype) or not is_extension_array_dtype(pd_dtype):\n",
      "C:\\Users\\juanj\\AppData\\Local\\Packages\\PythonSoftwareFoundation.Python.3.10_qbz5n2kfra8p0\\LocalCache\\local-packages\\Python310\\site-packages\\sklearn\\utils\\validation.py:605: FutureWarning: is_sparse is deprecated and will be removed in a future version. Check `isinstance(dtype, pd.SparseDtype)` instead.\n",
      "  if is_sparse(pd_dtype):\n",
      "C:\\Users\\juanj\\AppData\\Local\\Packages\\PythonSoftwareFoundation.Python.3.10_qbz5n2kfra8p0\\LocalCache\\local-packages\\Python310\\site-packages\\sklearn\\utils\\validation.py:614: FutureWarning: is_sparse is deprecated and will be removed in a future version. Check `isinstance(dtype, pd.SparseDtype)` instead.\n",
      "  if is_sparse(pd_dtype) or not is_extension_array_dtype(pd_dtype):\n",
      "C:\\Users\\juanj\\AppData\\Local\\Packages\\PythonSoftwareFoundation.Python.3.10_qbz5n2kfra8p0\\LocalCache\\local-packages\\Python310\\site-packages\\sklearn\\utils\\validation.py:605: FutureWarning: is_sparse is deprecated and will be removed in a future version. Check `isinstance(dtype, pd.SparseDtype)` instead.\n",
      "  if is_sparse(pd_dtype):\n",
      "C:\\Users\\juanj\\AppData\\Local\\Packages\\PythonSoftwareFoundation.Python.3.10_qbz5n2kfra8p0\\LocalCache\\local-packages\\Python310\\site-packages\\sklearn\\utils\\validation.py:614: FutureWarning: is_sparse is deprecated and will be removed in a future version. Check `isinstance(dtype, pd.SparseDtype)` instead.\n",
      "  if is_sparse(pd_dtype) or not is_extension_array_dtype(pd_dtype):\n"
     ]
    },
    {
     "data": {
      "text/plain": [
       "Text(0, 0.5, 'Tasa de verdaderos positivos')"
      ]
     },
     "execution_count": 248,
     "metadata": {},
     "output_type": "execute_result"
    },
    {
     "data": {
      "image/png": "[encoded data removed]",
      "text/plain": [
       "<Figure size 640x480 with 1 Axes>"
      ]
     },
     "metadata": {},
     "output_type": "display_data"
    }
   ],
   "source": [
    "predicciones_01=modelo.predict(x_test_scaled) # Estimación clases, y_pred\n",
    "probabilidades_01=modelo.predict_proba(x_test_scaled)  \n",
    "prob_clase1=probabilidades_01[:,1]\n",
    "prob_clase0=probabilidades_01[:,0]\n",
    "tpr,fpr,_=sklearn.metrics.roc_curve(y_true=y_test, y_score=prob_clase1, pos_label=1) #nuestra clase positiva es 1\n",
    "plt.plot(tpr,fpr) ;plt.xlabel('Tasa de falsos positivos') ; plt.ylabel('Tasa de verdaderos positivos')"
   ]
  },
  {
   "cell_type": "markdown",
   "metadata": {},
   "source": [
    "- AUC"
   ]
  },
  {
   "cell_type": "code",
   "execution_count": null,
   "metadata": {},
   "outputs": [
    {
     "name": "stderr",
     "output_type": "stream",
     "text": [
      "C:\\Users\\juanj\\AppData\\Local\\Packages\\PythonSoftwareFoundation.Python.3.10_qbz5n2kfra8p0\\LocalCache\\local-packages\\Python310\\site-packages\\sklearn\\utils\\validation.py:605: FutureWarning: is_sparse is deprecated and will be removed in a future version. Check `isinstance(dtype, pd.SparseDtype)` instead.\n",
      "  if is_sparse(pd_dtype):\n",
      "C:\\Users\\juanj\\AppData\\Local\\Packages\\PythonSoftwareFoundation.Python.3.10_qbz5n2kfra8p0\\LocalCache\\local-packages\\Python310\\site-packages\\sklearn\\utils\\validation.py:614: FutureWarning: is_sparse is deprecated and will be removed in a future version. Check `isinstance(dtype, pd.SparseDtype)` instead.\n",
      "  if is_sparse(pd_dtype) or not is_extension_array_dtype(pd_dtype):\n",
      "C:\\Users\\juanj\\AppData\\Local\\Packages\\PythonSoftwareFoundation.Python.3.10_qbz5n2kfra8p0\\LocalCache\\local-packages\\Python310\\site-packages\\sklearn\\utils\\validation.py:605: FutureWarning: is_sparse is deprecated and will be removed in a future version. Check `isinstance(dtype, pd.SparseDtype)` instead.\n",
      "  if is_sparse(pd_dtype):\n",
      "C:\\Users\\juanj\\AppData\\Local\\Packages\\PythonSoftwareFoundation.Python.3.10_qbz5n2kfra8p0\\LocalCache\\local-packages\\Python310\\site-packages\\sklearn\\utils\\validation.py:614: FutureWarning: is_sparse is deprecated and will be removed in a future version. Check `isinstance(dtype, pd.SparseDtype)` instead.\n",
      "  if is_sparse(pd_dtype) or not is_extension_array_dtype(pd_dtype):\n",
      "C:\\Users\\juanj\\AppData\\Local\\Packages\\PythonSoftwareFoundation.Python.3.10_qbz5n2kfra8p0\\LocalCache\\local-packages\\Python310\\site-packages\\sklearn\\utils\\validation.py:605: FutureWarning: is_sparse is deprecated and will be removed in a future version. Check `isinstance(dtype, pd.SparseDtype)` instead.\n",
      "  if is_sparse(pd_dtype):\n",
      "C:\\Users\\juanj\\AppData\\Local\\Packages\\PythonSoftwareFoundation.Python.3.10_qbz5n2kfra8p0\\LocalCache\\local-packages\\Python310\\site-packages\\sklearn\\utils\\validation.py:614: FutureWarning: is_sparse is deprecated and will be removed in a future version. Check `isinstance(dtype, pd.SparseDtype)` instead.\n",
      "  if is_sparse(pd_dtype) or not is_extension_array_dtype(pd_dtype):\n"
     ]
    },
    {
     "data": {
      "text/plain": [
       "0.7152590998744845"
      ]
     },
     "execution_count": 249,
     "metadata": {},
     "output_type": "execute_result"
    }
   ],
   "source": [
    "sklearn.metrics.roc_auc_score(y_test, prob_clase1)"
   ]
  },
  {
   "cell_type": "markdown",
   "metadata": {},
   "source": [
    "- Como el área bajo la curva es 0.7152590998744845, podemos decir que el modelo no es muy bueno pero tampoco malo."
   ]
  },
  {
   "cell_type": "markdown",
   "metadata": {},
   "source": [
    "### <span style='color:burlywood'> 2.3.3 F1 </span>"
   ]
  },
  {
   "cell_type": "markdown",
   "metadata": {},
   "source": [
    "- El F1-sore viene a ser la media armónica entre la precisión y el recall (sensibilidad)"
   ]
  },
  {
   "cell_type": "code",
   "execution_count": null,
   "metadata": {},
   "outputs": [
    {
     "name": "stdout",
     "output_type": "stream",
     "text": [
      "F1 score: 0.6959064327485379\n"
     ]
    },
    {
     "name": "stderr",
     "output_type": "stream",
     "text": [
      "C:\\Users\\juanj\\AppData\\Local\\Packages\\PythonSoftwareFoundation.Python.3.10_qbz5n2kfra8p0\\LocalCache\\local-packages\\Python310\\site-packages\\sklearn\\utils\\validation.py:605: FutureWarning: is_sparse is deprecated and will be removed in a future version. Check `isinstance(dtype, pd.SparseDtype)` instead.\n",
      "  if is_sparse(pd_dtype):\n",
      "C:\\Users\\juanj\\AppData\\Local\\Packages\\PythonSoftwareFoundation.Python.3.10_qbz5n2kfra8p0\\LocalCache\\local-packages\\Python310\\site-packages\\sklearn\\utils\\validation.py:614: FutureWarning: is_sparse is deprecated and will be removed in a future version. Check `isinstance(dtype, pd.SparseDtype)` instead.\n",
      "  if is_sparse(pd_dtype) or not is_extension_array_dtype(pd_dtype):\n",
      "C:\\Users\\juanj\\AppData\\Local\\Packages\\PythonSoftwareFoundation.Python.3.10_qbz5n2kfra8p0\\LocalCache\\local-packages\\Python310\\site-packages\\sklearn\\utils\\validation.py:605: FutureWarning: is_sparse is deprecated and will be removed in a future version. Check `isinstance(dtype, pd.SparseDtype)` instead.\n",
      "  if is_sparse(pd_dtype):\n",
      "C:\\Users\\juanj\\AppData\\Local\\Packages\\PythonSoftwareFoundation.Python.3.10_qbz5n2kfra8p0\\LocalCache\\local-packages\\Python310\\site-packages\\sklearn\\utils\\validation.py:614: FutureWarning: is_sparse is deprecated and will be removed in a future version. Check `isinstance(dtype, pd.SparseDtype)` instead.\n",
      "  if is_sparse(pd_dtype) or not is_extension_array_dtype(pd_dtype):\n",
      "C:\\Users\\juanj\\AppData\\Local\\Packages\\PythonSoftwareFoundation.Python.3.10_qbz5n2kfra8p0\\LocalCache\\local-packages\\Python310\\site-packages\\sklearn\\utils\\validation.py:605: FutureWarning: is_sparse is deprecated and will be removed in a future version. Check `isinstance(dtype, pd.SparseDtype)` instead.\n",
      "  if is_sparse(pd_dtype):\n",
      "C:\\Users\\juanj\\AppData\\Local\\Packages\\PythonSoftwareFoundation.Python.3.10_qbz5n2kfra8p0\\LocalCache\\local-packages\\Python310\\site-packages\\sklearn\\utils\\validation.py:614: FutureWarning: is_sparse is deprecated and will be removed in a future version. Check `isinstance(dtype, pd.SparseDtype)` instead.\n",
      "  if is_sparse(pd_dtype) or not is_extension_array_dtype(pd_dtype):\n",
      "C:\\Users\\juanj\\AppData\\Local\\Packages\\PythonSoftwareFoundation.Python.3.10_qbz5n2kfra8p0\\LocalCache\\local-packages\\Python310\\site-packages\\sklearn\\utils\\validation.py:605: FutureWarning: is_sparse is deprecated and will be removed in a future version. Check `isinstance(dtype, pd.SparseDtype)` instead.\n",
      "  if is_sparse(pd_dtype):\n",
      "C:\\Users\\juanj\\AppData\\Local\\Packages\\PythonSoftwareFoundation.Python.3.10_qbz5n2kfra8p0\\LocalCache\\local-packages\\Python310\\site-packages\\sklearn\\utils\\validation.py:614: FutureWarning: is_sparse is deprecated and will be removed in a future version. Check `isinstance(dtype, pd.SparseDtype)` instead.\n",
      "  if is_sparse(pd_dtype) or not is_extension_array_dtype(pd_dtype):\n",
      "C:\\Users\\juanj\\AppData\\Local\\Packages\\PythonSoftwareFoundation.Python.3.10_qbz5n2kfra8p0\\LocalCache\\local-packages\\Python310\\site-packages\\sklearn\\utils\\validation.py:605: FutureWarning: is_sparse is deprecated and will be removed in a future version. Check `isinstance(dtype, pd.SparseDtype)` instead.\n",
      "  if is_sparse(pd_dtype):\n",
      "C:\\Users\\juanj\\AppData\\Local\\Packages\\PythonSoftwareFoundation.Python.3.10_qbz5n2kfra8p0\\LocalCache\\local-packages\\Python310\\site-packages\\sklearn\\utils\\validation.py:614: FutureWarning: is_sparse is deprecated and will be removed in a future version. Check `isinstance(dtype, pd.SparseDtype)` instead.\n",
      "  if is_sparse(pd_dtype) or not is_extension_array_dtype(pd_dtype):\n",
      "C:\\Users\\juanj\\AppData\\Local\\Packages\\PythonSoftwareFoundation.Python.3.10_qbz5n2kfra8p0\\LocalCache\\local-packages\\Python310\\site-packages\\sklearn\\utils\\validation.py:605: FutureWarning: is_sparse is deprecated and will be removed in a future version. Check `isinstance(dtype, pd.SparseDtype)` instead.\n",
      "  if is_sparse(pd_dtype):\n",
      "C:\\Users\\juanj\\AppData\\Local\\Packages\\PythonSoftwareFoundation.Python.3.10_qbz5n2kfra8p0\\LocalCache\\local-packages\\Python310\\site-packages\\sklearn\\utils\\validation.py:614: FutureWarning: is_sparse is deprecated and will be removed in a future version. Check `isinstance(dtype, pd.SparseDtype)` instead.\n",
      "  if is_sparse(pd_dtype) or not is_extension_array_dtype(pd_dtype):\n"
     ]
    }
   ],
   "source": [
    "print('F1 score:',sklearn.metrics.f1_score(y_true=y_test, y_pred=predicciones_01))"
   ]
  },
  {
   "cell_type": "markdown",
   "metadata": {},
   "source": [
    "### <span style='color:burlywood'> 2.3.4 Curva de precision-recall </span>"
   ]
  },
  {
   "cell_type": "code",
   "execution_count": null,
   "metadata": {},
   "outputs": [
    {
     "name": "stderr",
     "output_type": "stream",
     "text": [
      "C:\\Users\\juanj\\AppData\\Local\\Packages\\PythonSoftwareFoundation.Python.3.10_qbz5n2kfra8p0\\LocalCache\\local-packages\\Python310\\site-packages\\sklearn\\utils\\validation.py:605: FutureWarning: is_sparse is deprecated and will be removed in a future version. Check `isinstance(dtype, pd.SparseDtype)` instead.\n",
      "  if is_sparse(pd_dtype):\n",
      "C:\\Users\\juanj\\AppData\\Local\\Packages\\PythonSoftwareFoundation.Python.3.10_qbz5n2kfra8p0\\LocalCache\\local-packages\\Python310\\site-packages\\sklearn\\utils\\validation.py:614: FutureWarning: is_sparse is deprecated and will be removed in a future version. Check `isinstance(dtype, pd.SparseDtype)` instead.\n",
      "  if is_sparse(pd_dtype) or not is_extension_array_dtype(pd_dtype):\n",
      "C:\\Users\\juanj\\AppData\\Local\\Packages\\PythonSoftwareFoundation.Python.3.10_qbz5n2kfra8p0\\LocalCache\\local-packages\\Python310\\site-packages\\sklearn\\utils\\validation.py:605: FutureWarning: is_sparse is deprecated and will be removed in a future version. Check `isinstance(dtype, pd.SparseDtype)` instead.\n",
      "  if is_sparse(pd_dtype):\n",
      "C:\\Users\\juanj\\AppData\\Local\\Packages\\PythonSoftwareFoundation.Python.3.10_qbz5n2kfra8p0\\LocalCache\\local-packages\\Python310\\site-packages\\sklearn\\utils\\validation.py:614: FutureWarning: is_sparse is deprecated and will be removed in a future version. Check `isinstance(dtype, pd.SparseDtype)` instead.\n",
      "  if is_sparse(pd_dtype) or not is_extension_array_dtype(pd_dtype):\n",
      "C:\\Users\\juanj\\AppData\\Local\\Packages\\PythonSoftwareFoundation.Python.3.10_qbz5n2kfra8p0\\LocalCache\\local-packages\\Python310\\site-packages\\sklearn\\utils\\validation.py:605: FutureWarning: is_sparse is deprecated and will be removed in a future version. Check `isinstance(dtype, pd.SparseDtype)` instead.\n",
      "  if is_sparse(pd_dtype):\n",
      "C:\\Users\\juanj\\AppData\\Local\\Packages\\PythonSoftwareFoundation.Python.3.10_qbz5n2kfra8p0\\LocalCache\\local-packages\\Python310\\site-packages\\sklearn\\utils\\validation.py:614: FutureWarning: is_sparse is deprecated and will be removed in a future version. Check `isinstance(dtype, pd.SparseDtype)` instead.\n",
      "  if is_sparse(pd_dtype) or not is_extension_array_dtype(pd_dtype):\n"
     ]
    },
    {
     "name": "stdout",
     "output_type": "stream",
     "text": [
      "<class 'numpy.ndarray'>\n"
     ]
    },
    {
     "data": {
      "image/png": "[encoded data removed]",
      "text/plain": [
       "<Figure size 640x480 with 1 Axes>"
      ]
     },
     "metadata": {},
     "output_type": "display_data"
    }
   ],
   "source": [
    "pr_recall=sklearn.metrics.precision_recall_curve(y_true=y_test, probas_pred=prob_clase1, pos_label=1) #curva de precisión-recall\n",
    "precision,recall,_=pr_recall\n",
    "plt.plot(recall,precision) ;plt.xlabel('recall') ; plt.ylabel('precision')\n",
    "print(type(x_train_scaled))"
   ]
  },
  {
   "cell_type": "markdown",
   "metadata": {},
   "source": [
    "## <span style='color:darksalmon'> Paso 4: Implementa a mano (sin ayuda de funciones de sklearn) el cálculo de la curva ROC y su AUC </span>"
   ]
  },
  {
   "cell_type": "markdown",
   "metadata": {},
   "source": [
    "- Función para calcular la curva ROC"
   ]
  },
  {
   "cell_type": "code",
   "execution_count": null,
   "metadata": {},
   "outputs": [],
   "source": [
    "def curva_roc(yreal,probabilidades):\n",
    "    umbral = np.unique(probabilidades) #Toma los valores únicos para crear el umbral\n",
    "    clases_predichas ={}\n",
    "    tpr = []\n",
    "    fpr = []\n",
    "    for i in umbral:\n",
    "        clases_predichas[i] = [0 if j < i else 1 for j in probabilidades] #0 si está debajo del umbral, 1 en caso contrario\n",
    "    for clase_predicha in clases_predichas.values():\n",
    "        tpr.append(sum(1 for x, y in zip(yreal, clase_predicha) if x == 1 and y == 1)/yreal.count(1))#true positive rate\n",
    "        fpr.append(sum(1 for x, y in zip(yreal, clase_predicha) if x == 0 and y == 1)/yreal.count(0))#false positive rate\n",
    "    return tpr, fpr"
   ]
  },
  {
   "cell_type": "code",
   "execution_count": null,
   "metadata": {},
   "outputs": [
    {
     "data": {
      "image/png": "[encoded data removed]",
      "text/plain": [
       "<Figure size 1000x1000 with 1 Axes>"
      ]
     },
     "metadata": {},
     "output_type": "display_data"
    }
   ],
   "source": [
    "tpr, fpr = curva_roc(list(y_test),preds_test)\n",
    "plt.figure(figsize=(10, 10))\n",
    "plt.plot(fpr, tpr, color='lightcoral')\n",
    "plt.title('Curva ROC')\n",
    "plt.xlabel('Tasa de Falsos Positivos (FPR)')\n",
    "plt.ylabel('Tasa de Verdaderos Positivos (TPR)')\n",
    "plt.grid(True)\n",
    "plt.show()"
   ]
  },
  {
   "cell_type": "markdown",
   "metadata": {},
   "source": [
    "- Función para calcular su AUC"
   ]
  },
  {
   "cell_type": "code",
   "execution_count": null,
   "metadata": {},
   "outputs": [
    {
     "data": {
      "text/plain": [
       "0.7158149542764927"
      ]
     },
     "execution_count": 254,
     "metadata": {},
     "output_type": "execute_result"
    }
   ],
   "source": [
    "def calculate_auc(fpr, tpr):\n",
    "    # Asegurarse de que las listas estén ordenadas por FPR\n",
    "    indices = sorted(range(len(fpr)), key=lambda k: fpr[k])\n",
    "    fpr = [fpr[i] for i in indices]\n",
    "    tpr = [tpr[i] for i in indices]\n",
    "\n",
    "    auc = 0.0\n",
    "    n = len(fpr)\n",
    "\n",
    "    for i in range(1, n):\n",
    "        auc += (fpr[i] - fpr[i-1]) * (tpr[i] + tpr[i-1]) / 2.0\n",
    "\n",
    "    return auc\n",
    "calculate_auc(fpr, tpr)"
   ]
  },
  {
   "cell_type": "markdown",
   "metadata": {},
   "source": [
    "### <span style='color:burlywood'> 2.4.1 ¿Coinciden la curva ROC y el AUC implementados a mano con lo que obtienes con sklearn? </span>"
   ]
  },
  {
   "cell_type": "markdown",
   "metadata": {},
   "source": [
    "- Efectivamente coinciden"
   ]
  },
  {
   "cell_type": "markdown",
   "metadata": {},
   "source": [
    "## <span style='color:darksalmon'> Paso 5 </span>"
   ]
  },
  {
   "cell_type": "markdown",
   "metadata": {},
   "source": [
    "### <span style='color:burlywood'> 2.5.1  Suponiendo que un falso positivo (un cliente que se predice que va a irse de la empresa pero se queda) cuesta 1, y un falso positivo (un cliente que se predice que va a quedarse en la empresa pero se va) cuesta 10, calcula, en función del umbral utilizado para decidir con el modelo, el coste promedio. Calcula el umbral óptimo de decisión según esa curva. </span>"
   ]
  },
  {
   "cell_type": "code",
   "execution_count": null,
   "metadata": {},
   "outputs": [
    {
     "name": "stdout",
     "output_type": "stream",
     "text": [
      "Umbral Óptimo: 0.004899590905863499, Costo Promedio: 0.9940828402366864\n"
     ]
    }
   ],
   "source": [
    "def calcular_coste(yreal, probabilidades, fn=1, fp=10):\n",
    "    tpr, fpr = curva_roc(yreal, probabilidades)\n",
    "    \n",
    "    # Calcular el coste para diferentes umbrales a partir del tpr y del fpr\n",
    "    coste = [fn * fpr_i + fp * (1 - tpr_i) for fpr_i, tpr_i in zip(fpr, tpr)]\n",
    "    \n",
    "    # Encontrar el umbral que minimiza el costo promedio\n",
    "    umbral_optimo = np.unique(probabilidades)[np.argmin(coste)]\n",
    "    costo_promedio = min(coste)\n",
    "    \n",
    "    return umbral_optimo, costo_promedio\n",
    "umbral_optimo, costo_promedio = calcular_coste(list(y_test),preds_test)\n",
    "print(f'Umbral Óptimo: {umbral_optimo}, Costo Promedio: {costo_promedio}')"
   ]
  },
  {
   "cell_type": "markdown",
   "metadata": {},
   "source": [
    "# <span style='color:tan'> SEMANA 3 </span>"
   ]
  },
  {
   "cell_type": "markdown",
   "metadata": {},
   "source": []
  },
  {
   "cell_type": "markdown",
   "metadata": {},
   "source": [
    "## <span style='color:darksalmon'> Paso 1: Clase  Naïve Bayes </span>"
   ]
  },
  {
   "cell_type": "code",
   "execution_count": null,
   "metadata": {},
   "outputs": [],
   "source": [
    "class Naive_Bayes:\n",
    "    def __init__(self,x_train_scaled,y_train,x_test_scaled=None,y_test=None,laplace=False):\n",
    "        self.laplace=laplace\n",
    "        self.x_train_scaled=x_train_scaled\n",
    "        self.y_train=y_train\n",
    "        self.x_test_scaled=x_test_scaled\n",
    "        self.y_test=y_test\n",
    "    def sacar_mean_std(self,col):\n",
    "        mean=col.mean()\n",
    "        \n",
    "        std=col.std()\n",
    "        return mean,std    \n",
    "    def prob_x_distribucion_normal(self,x,mean,sigma)->callable: #\n",
    "        '''introducimos la función de densidad de probabilidad con parámetros determinados para cada variable numérica'''\n",
    "        return (1 / np.sqrt(2 * np.pi) * sigma) * np.exp(-((x-mean)**2 / (2 * sigma**2)))    \n",
    "    def prob_col_numerica(self,col,mean,sigma):\n",
    "        col=pd.Series(col) #para aplicar apply debe ser una serie\n",
    "        \n",
    "        try:\n",
    "            return col.apply(lambda x:self.prob_x_distribucion_normal(x,mean=mean,sigma=sigma))  #col no cambia, para ello tendríamos que volver a definir la var\n",
    "        except:\n",
    "            print(sigma)\n",
    "            raise Exception\n",
    "    def prob_col_nominal(self,col):  #trataremos las cols de dummies              \n",
    "        col=pd.Series(col)\n",
    "        longitud=len(col)\n",
    "        if self.laplace==True:\n",
    "            muestra_add=1 #añadimos muestras ficticias\n",
    "        else:\n",
    "            muestra_add=0 #no aplicamos laplace\n",
    "            d_probs={}\n",
    "        vc=col.value_counts()\n",
    "        for fila in col:\n",
    "            d_probs[fila]=(vc.loc[fila]+muestra_add)/(longitud+2*muestra_add) #numero de veces que aparece ese atributo/numero de muestras\n",
    "        return d_probs\n",
    "\n",
    "    def fit(self,X:pd.DataFrame,y):  #train x scaled, train y\n",
    "        X=pd.DataFrame(X)\n",
    "        #primero separo muestras de clase 0 y 1\n",
    "        muestras_c0=X[y==0]\n",
    "        muestras_c1=X[y==1]\n",
    "        #diferencio vars numericas y categoricas\n",
    "        vars_num_c0 = muestras_c0.loc[:, data.dtypes != 'int32'] ;vars_dummy_c0=muestras_c0.loc[:, data.dtypes == 'int32'] #int32 son el tipo que solo tienen las variables dummy\n",
    "        vars_num_c1 = muestras_c1.loc[:, data.dtypes != 'int32'] ;vars_dummy_c1=muestras_c1.loc[:, data.dtypes == 'int32']\n",
    "        \n",
    "        list_mean_std_c0=[] ; list_mean_std_c1=[]\n",
    "        list_prob_dummy_c0=[] ; list_prob_dummy_c1=[]\n",
    "        #listas de tuplas con la media y el error correspondientes a cada variable, separando los conjuntos de las 2 clases.\n",
    "\n",
    "        \n",
    "        resultados = vars_num_c0.agg(['mean', 'std']).T\n",
    "        list_mean_std_c0 = [tuple(x) for x in resultados.values]\n",
    "        resultados = vars_num_c1.agg(['mean', 'std']).T\n",
    "        list_mean_std_c1 = [tuple(x) for x in resultados.values] #la media y error para cada columna (cambian dependiendo de la clase que condiciona)\n",
    "\n",
    "\n",
    "        for col in vars_dummy_c1.columns:\n",
    "            col=X[col].values\n",
    "            list_prob_dummy_c1.append(self.prob_col_nominal(col))\n",
    "        for col in vars_dummy_c0.columns:\n",
    "            col=X[col].values\n",
    "            list_prob_dummy_c0.append(self.prob_col_nominal(col))\n",
    "        \n",
    "        p_c1=len(muestras_c1)/(len(muestras_c1)+len(muestras_c0)) ; p_c0=1-p_c1\n",
    "        \n",
    "        return list_mean_std_c0,list_mean_std_c1,list_prob_dummy_c0,list_prob_dummy_c1,p_c0,p_c1\n",
    "\n",
    "    def predict(self,X:pd.DataFrame): #x_test_scaled\n",
    "        \n",
    "        list_mean_std_c0,list_mean_std_c1,list_prob_dummy_c0,list_prob_dummy_c1,p_c0,p_c1=self.fit(self.x_train_scaled,self.y_train)\n",
    "        prob_atributos_test_c0=[] ; prob_atributos_test_c1=[]\n",
    "        \n",
    "        for lista_prob,lista_param_cont,lista_dicts in (prob_atributos_test_c0,list_mean_std_c0,list_prob_dummy_c0),(prob_atributos_test_c1,list_mean_std_c1,list_prob_dummy_c1):\n",
    "            for colu in X:\n",
    "                col=X[colu].values #cogemos los valores dentro de la serie\n",
    "                \n",
    "                \n",
    "                if X[colu].dtype!='int32': #var continua\n",
    "                    \n",
    "                    \n",
    "                    mean,sigma=lista_param_cont.pop(0)\n",
    "                    #print(mean,sigma)\n",
    "                    lista_prob.append(self.prob_col_numerica(col,mean,sigma))\n",
    "                else:\n",
    "                    \n",
    "                    l=[] ; d=lista_dicts.pop(0)    #esto es una lista de dicts con las probabilidades por cada valor\n",
    "                    \n",
    "                    for value in col:\n",
    "                        l.append(d[value])\n",
    "                    lista_prob.append(pd.Series(l))\n",
    "        \n",
    "        df_probabilidades_c0,df_probabilidades_c1=pd.DataFrame(prob_atributos_test_c0).T,pd.DataFrame(prob_atributos_test_c1).T\n",
    "        \n",
    "        prob_finales_test_c0=df_probabilidades_c0.prod(axis=1)*p_c0 #hacemos los productorios y multiplicamos por la prob de la clase\n",
    "        prob_finales_test_c1=df_probabilidades_c1.prod(axis=1)*p_c1\n",
    "        df_probabilidades=pd.DataFrame([prob_finales_test_c0,prob_finales_test_c1]).T\n",
    "        predicciones=[]\n",
    "        for i in range(len(df_probabilidades)):\n",
    "            \n",
    "            if df_probabilidades[0][i]>df_probabilidades[1][i]:\n",
    "                predicciones.append(0)\n",
    "            else:\n",
    "                predicciones.append(1)\n",
    "        \n",
    "        return pd.Series(predicciones) #misma longitud que x_test: 334 filas\n",
    "        \n",
    "    def score(self,X,y): #x_test_scaled, y_test\n",
    "        predicciones=self.predict(pd.DataFrame(X))\n",
    "        #del conjunto test\n",
    "        pd.set_option('display.max_rows', 25)\n",
    "        \n",
    "        predicciones=predicciones.reset_index(drop=True) #tenemos que quitar los indices para ir comparando de uno en uno\n",
    "        y=y.reset_index(drop=True)                      #la primera predicción que tenemos se corresponde con la primera fila del conjunto test\n",
    "        longitud=len(y) ; contador=0\n",
    "        \n",
    "        for i,k in zip(predicciones,y):\n",
    "            if i==k: \n",
    "                contador +=1 #un acierto más\n",
    "        print('Score:') \n",
    "        return contador/longitud\n",
    "    "
   ]
  },
  {
   "cell_type": "markdown",
   "metadata": {},
   "source": [
    "## <span style='color:darksalmon'> Paso 2: Utiliza la clase Naïve Bayes creada en el paso anterior para calcular el score del clasificador en el dataset con el que estamos trabajando en la práctica. </span>"
   ]
  },
  {
   "cell_type": "code",
   "execution_count": 484,
   "metadata": {},
   "outputs": [
    {
     "name": "stdout",
     "output_type": "stream",
     "text": [
      "Score:\n"
     ]
    },
    {
     "data": {
      "text/plain": [
       "0.5479041916167665"
      ]
     },
     "execution_count": 484,
     "metadata": {},
     "output_type": "execute_result"
    }
   ],
   "source": [
    "pd.set_option('display.max_rows', 25)\n",
    " #para dividir entre filas de clase 0 y 1,\n",
    "prueba=Naive_Bayes(pd.DataFrame(x_train_a, columns=x_train_a.columns, index=x_train_a.index),y_train)        \n",
    "#necesitamos que x_train_scaled tenga los índices de filas de x_train\n",
    "a=prueba.score(x_test_a,y_test) \n",
    "xa\n",
    "\n"
   ]
  },
  {
   "cell_type": "markdown",
   "metadata": {},
   "source": [
    "## <span style='color:darksalmon'> Paso 3: Clasifica el conjunto de datos con cada uno de los tres algoritmos de Scikit Learn y compara sus accuracy con el obtenido con la implementación propia. ¿Cuál funciona mejor? ¿Por qué? </span>"
   ]
  },
  {
   "cell_type": "markdown",
   "metadata": {},
   "source": [
    "- Impotamos las librerías necesarias"
   ]
  },
  {
   "cell_type": "code",
   "execution_count": 67,
   "metadata": {},
   "outputs": [],
   "source": [
    "from sklearn.preprocessing import MinMaxScaler\n",
    "from sklearn.naive_bayes import MultinomialNB, GaussianNB, CategoricalNB"
   ]
  },
  {
   "cell_type": "markdown",
   "metadata": {},
   "source": [
    "- Ajustamos los datos para eliminar los valores negativos"
   ]
  },
  {
   "cell_type": "code",
   "execution_count": 68,
   "metadata": {},
   "outputs": [],
   "source": [
    "scaler = MinMaxScaler()\n",
    "x_train_transformed = scaler.fit_transform(x_train) \n",
    "x_test_transformed = scaler.transform(x_test)"
   ]
  },
  {
   "cell_type": "markdown",
   "metadata": {},
   "source": [
    "### <span style='color:burlywood'> CategoricalNB </span>"
   ]
  },
  {
   "cell_type": "markdown",
   "metadata": {},
   "source": [
    "- Aplicamos el método"
   ]
  },
  {
   "cell_type": "code",
   "execution_count": 69,
   "metadata": {},
   "outputs": [
    {
     "name": "stderr",
     "output_type": "stream",
     "text": [
      "c:\\Users\\jimen\\AppData\\Local\\Programs\\Python\\Python311\\Lib\\site-packages\\sklearn\\naive_bayes.py:624: FutureWarning: The default value for `force_alpha` will change to `True` in 1.4. To suppress this warning, manually set the value of `force_alpha`.\n",
      "  warnings.warn(\n",
      "c:\\Users\\jimen\\AppData\\Local\\Programs\\Python\\Python311\\Lib\\site-packages\\sklearn\\naive_bayes.py:633: UserWarning: alpha too small will result in numeric errors, setting alpha = 1.0e-10. Use `force_alpha=True` to keep alpha unchanged.\n",
      "  warnings.warn(\n"
     ]
    }
   ],
   "source": [
    "categorical = CategoricalNB(fit_prior=True, alpha=0)\n",
    "categorical.fit(x_train_transformed, y_train)\n",
    "\n",
    "categorical_nb_train_score = categorical.score(x_train_transformed, y_train)\n",
    "categorical_nb_test_score = categorical.score(x_test_transformed, y_test)"
   ]
  },
  {
   "cell_type": "markdown",
   "metadata": {},
   "source": [
    "- Al contrario que para MultinomialNB, como se verá más adelante, aquí hemos obtenido el valor a priori de cada clase a partir de los datos (fit_prior=True) ya que el modelo aconsejaba (se obtenía un mejor score), y por tanto no hemos tenido que realizar el suavizado."
   ]
  },
  {
   "cell_type": "markdown",
   "metadata": {},
   "source": [
    "- Scores:"
   ]
  },
  {
   "cell_type": "code",
   "execution_count": 70,
   "metadata": {},
   "outputs": [
    {
     "data": {
      "text/plain": [
       "0.7001287001287001"
      ]
     },
     "execution_count": 70,
     "metadata": {},
     "output_type": "execute_result"
    }
   ],
   "source": [
    "#Conjunto entrenamiento\n",
    "categorical_nb_train_score"
   ]
  },
  {
   "cell_type": "code",
   "execution_count": 71,
   "metadata": {},
   "outputs": [
    {
     "data": {
      "text/plain": [
       "0.655688622754491"
      ]
     },
     "execution_count": 71,
     "metadata": {},
     "output_type": "execute_result"
    }
   ],
   "source": [
    "#Conjunto test\n",
    "categorical_nb_test_score"
   ]
  },
  {
   "cell_type": "markdown",
   "metadata": {},
   "source": [
    "- Aquí hay alguna diferencia entre los scores. Se produce un poco de sobreajuste"
   ]
  },
  {
   "cell_type": "markdown",
   "metadata": {},
   "source": [
    "### <span style='color:burlywood'> MultinomialNB </span>"
   ]
  },
  {
   "cell_type": "markdown",
   "metadata": {},
   "source": [
    "- Aplicamos el método"
   ]
  },
  {
   "cell_type": "code",
   "execution_count": 72,
   "metadata": {},
   "outputs": [],
   "source": [
    "multinomial_nb = MultinomialNB(fit_prior=False,alpha=1)\n",
    "multinomial_nb.fit(x_train_transformed, y_train)\n",
    "multinomial_predicciones = multinomial_nb.predict(x_test_transformed)\n",
    "multinomial_train_score = multinomial_nb.score(x_train_transformed, y_train)\n",
    "multinomial_test_score = multinomial_nb.score(x_test_transformed, y_test)"
   ]
  },
  {
   "cell_type": "markdown",
   "metadata": {},
   "source": [
    "- No se asume el valor a priori de la clase (fit_prior=False) y se aplica la corrección de Laplace ya que hay alguna vraiable categorica que que tiene cero frecuencias observadas (alpha=1). "
   ]
  },
  {
   "cell_type": "markdown",
   "metadata": {},
   "source": [
    "- Predicciones:"
   ]
  },
  {
   "cell_type": "code",
   "execution_count": 73,
   "metadata": {},
   "outputs": [
    {
     "data": {
      "text/plain": [
       "array([0, 0, 1, 1, 0, 0, 1, 0, 0, 0, 0, 0, 1, 0, 1, 1, 0, 1, 1, 0, 1, 0,\n",
       "       0, 0, 1, 0, 1, 0, 1, 0, 0, 0, 1, 1, 0, 0, 1, 0, 1, 1, 0, 1, 0, 1,\n",
       "       1, 1, 0, 1, 1, 0, 0, 1, 1, 1, 0, 0, 0, 0, 0, 1, 1, 0, 0, 1, 0, 0,\n",
       "       0, 1, 0, 1, 1, 0, 1, 0, 0, 0, 0, 1, 1, 0, 1, 0, 1, 0, 0, 0, 0, 0,\n",
       "       1, 0, 0, 0, 0, 1, 0, 0, 0, 1, 1, 0, 0, 1, 1, 1, 0, 0, 0, 0, 1, 0,\n",
       "       1, 0, 0, 0, 0, 1, 1, 1, 1, 0, 0, 1, 1, 1, 0, 0, 0, 1, 1, 0, 0, 1,\n",
       "       0, 0, 1, 1, 1, 0, 1, 0, 1, 1, 0, 0, 0, 0, 0, 0, 1, 1, 0, 1, 1, 0,\n",
       "       1, 0, 0, 1, 1, 1, 0, 0, 0, 0, 1, 0, 0, 0, 0, 1, 0, 1, 0, 1, 0, 1,\n",
       "       0, 0, 0, 1, 1, 1, 0, 1, 1, 1, 0, 1, 1, 0, 0, 1, 1, 0, 0, 1, 0, 0,\n",
       "       1, 0, 0, 0, 0, 0, 1, 1, 0, 0, 0, 1, 1, 0, 1, 1, 0, 1, 0, 1, 1, 1,\n",
       "       0, 1, 1, 1, 0, 1, 1, 1, 0, 0, 0, 1, 0, 0, 0, 0, 1, 0, 0, 0, 0, 0,\n",
       "       0, 0, 0, 1, 1, 1, 1, 0, 1, 1, 1, 0, 0, 1, 0, 1, 1, 0, 1, 1, 0, 0,\n",
       "       0, 1, 1, 1, 1, 0, 1, 0, 0, 1, 0, 1, 1, 0, 1, 1, 0, 0, 0, 0, 1, 0,\n",
       "       0, 1, 1, 0, 0, 1, 1, 1, 1, 0, 1, 0, 1, 0, 0, 1, 1, 0, 1, 0, 1, 1,\n",
       "       1, 1, 1, 1, 0, 0, 0, 0, 1, 1, 1, 1, 1, 1, 0, 1, 0, 0, 0, 1, 1, 0,\n",
       "       1, 1, 1, 0], dtype=int64)"
      ]
     },
     "execution_count": 73,
     "metadata": {},
     "output_type": "execute_result"
    }
   ],
   "source": [
    "multinomial_predicciones"
   ]
  },
  {
   "cell_type": "markdown",
   "metadata": {},
   "source": [
    "- Score:"
   ]
  },
  {
   "cell_type": "code",
   "execution_count": 74,
   "metadata": {},
   "outputs": [
    {
     "data": {
      "text/plain": [
       "0.6924066924066924"
      ]
     },
     "execution_count": 74,
     "metadata": {},
     "output_type": "execute_result"
    }
   ],
   "source": [
    "#Conjunto entrenamiento\n",
    "multinomial_train_score"
   ]
  },
  {
   "cell_type": "code",
   "execution_count": 75,
   "metadata": {},
   "outputs": [
    {
     "data": {
      "text/plain": [
       "0.6407185628742516"
      ]
     },
     "execution_count": 75,
     "metadata": {},
     "output_type": "execute_result"
    }
   ],
   "source": [
    "#Conjunto test\n",
    "multinomial_test_score"
   ]
  },
  {
   "cell_type": "markdown",
   "metadata": {},
   "source": [
    "- Se ajusta mejor al de entrenamiento que al de test, aunque la diferencia no es tan grande como para que haya sobreajuste"
   ]
  },
  {
   "cell_type": "markdown",
   "metadata": {},
   "source": [
    "### <span style='color:burlywood'> GaussianNB </span>"
   ]
  },
  {
   "cell_type": "markdown",
   "metadata": {},
   "source": [
    "- Aplicamos el método"
   ]
  },
  {
   "cell_type": "code",
   "execution_count": 76,
   "metadata": {},
   "outputs": [],
   "source": [
    "gaussian_nb = GaussianNB()\n",
    "gaussian_nb.fit(x_train_transformed, y_train)\n",
    "gaussian_predicciones = gaussian_nb.predict(x_test_transformed)\n",
    "gaussian_nb_train_score = gaussian_nb.score(x_train_transformed, y_train)\n",
    "gaussian_nb_test_score = gaussian_nb.score(x_test_transformed, y_test)"
   ]
  },
  {
   "cell_type": "markdown",
   "metadata": {},
   "source": [
    "- Predicciones:"
   ]
  },
  {
   "cell_type": "code",
   "execution_count": 77,
   "metadata": {},
   "outputs": [
    {
     "data": {
      "text/plain": [
       "array([0, 0, 0, 1, 1, 0, 0, 0, 0, 0, 0, 0, 1, 0, 1, 1, 0, 0, 1, 0, 0, 0,\n",
       "       0, 0, 1, 0, 1, 0, 0, 0, 0, 1, 1, 1, 0, 0, 0, 0, 1, 0, 0, 0, 0, 0,\n",
       "       1, 1, 0, 1, 1, 0, 0, 0, 1, 1, 0, 0, 0, 1, 0, 0, 0, 0, 0, 1, 0, 0,\n",
       "       0, 1, 0, 1, 1, 0, 1, 0, 0, 0, 0, 1, 0, 0, 0, 0, 0, 0, 0, 0, 0, 0,\n",
       "       1, 0, 0, 0, 1, 1, 0, 0, 0, 1, 1, 0, 0, 1, 1, 0, 1, 0, 1, 0, 1, 0,\n",
       "       1, 0, 0, 0, 0, 1, 1, 0, 1, 0, 0, 0, 1, 1, 0, 0, 0, 0, 1, 0, 0, 1,\n",
       "       0, 0, 0, 1, 1, 0, 0, 0, 1, 0, 0, 0, 0, 0, 0, 0, 1, 1, 0, 1, 0, 0,\n",
       "       1, 1, 0, 1, 1, 0, 0, 0, 0, 0, 1, 0, 0, 0, 0, 1, 0, 1, 0, 0, 0, 1,\n",
       "       0, 0, 0, 1, 1, 0, 0, 1, 1, 0, 0, 1, 0, 0, 0, 0, 1, 0, 0, 1, 0, 0,\n",
       "       0, 0, 0, 0, 0, 0, 1, 0, 0, 0, 0, 1, 1, 0, 1, 0, 0, 1, 0, 0, 0, 1,\n",
       "       0, 1, 0, 0, 0, 1, 1, 1, 0, 0, 0, 1, 0, 0, 1, 0, 1, 1, 0, 0, 0, 0,\n",
       "       0, 0, 0, 1, 1, 1, 0, 0, 1, 0, 1, 0, 1, 1, 0, 0, 1, 0, 1, 0, 0, 0,\n",
       "       0, 1, 0, 0, 1, 0, 0, 0, 0, 1, 0, 1, 0, 0, 1, 0, 0, 1, 0, 1, 1, 0,\n",
       "       0, 1, 1, 0, 0, 1, 1, 1, 1, 0, 0, 1, 1, 0, 1, 0, 1, 1, 1, 0, 1, 1,\n",
       "       1, 0, 1, 1, 0, 0, 0, 0, 0, 1, 1, 1, 1, 0, 0, 1, 0, 0, 0, 1, 1, 0,\n",
       "       0, 1, 0, 0], dtype=int64)"
      ]
     },
     "execution_count": 77,
     "metadata": {},
     "output_type": "execute_result"
    }
   ],
   "source": [
    "gaussian_predicciones"
   ]
  },
  {
   "cell_type": "markdown",
   "metadata": {},
   "source": [
    "- Score:"
   ]
  },
  {
   "cell_type": "code",
   "execution_count": 78,
   "metadata": {},
   "outputs": [
    {
     "data": {
      "text/plain": [
       "0.6975546975546976"
      ]
     },
     "execution_count": 78,
     "metadata": {},
     "output_type": "execute_result"
    }
   ],
   "source": [
    "gaussian_nb_train_score"
   ]
  },
  {
   "cell_type": "code",
   "execution_count": 79,
   "metadata": {},
   "outputs": [
    {
     "data": {
      "text/plain": [
       "0.625748502994012"
      ]
     },
     "execution_count": 79,
     "metadata": {},
     "output_type": "execute_result"
    }
   ],
   "source": [
    "gaussian_nb_test_score"
   ]
  },
  {
   "cell_type": "markdown",
   "metadata": {},
   "source": [
    "- Hay una diferencia algo grande entre los scores, hay algo de sobreajuste. El score es algo alto, la verosimilitud de las variables se acerca a una distribución normal"
   ]
  },
  {
   "cell_type": "markdown",
   "metadata": {},
   "source": [
    "## <span style='color:darksalmon'> Entregables </span>"
   ]
  },
  {
   "cell_type": "markdown",
   "metadata": {},
   "source": [
    "- Después de haber probado todos estos modelos, creemos que la mejor opción para hacer las predicciones es el modelo de regresión logística implementado con sklearn (también se puede hacer con stasmodel, ya que son parecidas)"
   ]
  },
  {
   "cell_type": "code",
   "execution_count": 81,
   "metadata": {},
   "outputs": [
    {
     "name": "stderr",
     "output_type": "stream",
     "text": [
      "c:\\Users\\jimen\\AppData\\Local\\Programs\\Python\\Python311\\Lib\\site-packages\\sklearn\\linear_model\\_logistic.py:460: ConvergenceWarning: lbfgs failed to converge (status=1):\n",
      "STOP: TOTAL NO. of ITERATIONS REACHED LIMIT.\n",
      "\n",
      "Increase the number of iterations (max_iter) or scale the data as shown in:\n",
      "    https://scikit-learn.org/stable/modules/preprocessing.html\n",
      "Please also refer to the documentation for alternative solver options:\n",
      "    https://scikit-learn.org/stable/modules/linear_model.html#logistic-regression\n",
      "  n_iter_i = _check_optimize_result(\n"
     ]
    }
   ],
   "source": [
    "predicciones = pd.read_csv('predicciones.csv') #Abrimos el csv\n",
    "xe = data_explot.drop('Churn Status', axis=1)\n",
    "ye = data_explot['Churn Status']\n",
    "#Hacemos la partición\n",
    "x_train_e, x_test_e, y_train_e, y_test_e = train_test_split(xe, ye, test_size=0.3, random_state=1) #partición train y test\n",
    "#Implementamos el modelo\n",
    "modelo = linear_model.LogisticRegression()\n",
    "modelo.fit(x_train_e, y_train_e)\n",
    "# Realizar predicciones \n",
    "prediccion = modelo.predict(x_test_e)\n",
    "for i in range(len(predicciones)):\n",
    "        if prediccion[i] == 1: #Nos piden incluir el id del cliente que permanecerá en la compañía\n",
    "            nuevo_valor = predicciones.at[i, 'Customer ID']\n",
    "            predicciones.at[i, 'Customer ID'] = nuevo_valor\n",
    "#Sobreescribimos el archivo\n",
    "#predicciones = pd.DataFrame({'Customer ID': prediccion})\n",
    "predicciones.to_csv('predicciones.csv', index=False)"
   ]
  }
 ],
 "metadata": {
  "kernelspec": {
   "display_name": "Python 3",
   "language": "python",
   "name": "python3"
  },
  "language_info": {
   "codemirror_mode": {
    "name": "ipython",
    "version": 3
   },
   "file_extension": ".py",
   "mimetype": "text/x-python",
   "name": "python",
   "nbconvert_exporter": "python",
   "pygments_lexer": "ipython3",
   "version": "3.10.11"
  }
 },
 "nbformat": 4,
 "nbformat_minor": 2
}
