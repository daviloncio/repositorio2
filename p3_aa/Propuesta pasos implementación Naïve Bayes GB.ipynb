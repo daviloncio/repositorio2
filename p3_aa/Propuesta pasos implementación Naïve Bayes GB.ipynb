{
 "cells": [
  {
   "cell_type": "markdown",
   "metadata": {},
   "source": [
    "# Grado en Ingeniería de datos 23/24. Propuesta para implementación de Naive Bayes GB"
   ]
  },
  {
   "cell_type": "markdown",
   "metadata": {},
   "source": [
    "## Objetivo\n",
    "\n",
    "Tener una clase que pueda entrenar el modelo, predecir y sacar score, cumpliendo la plantilla propuesta. \n",
    "\n",
    "Esta plantilla cumple la interfaz de todos los los tipos de modelos que hemos visto hasta ahora. \n",
    "\n",
    "## Supuestos\n",
    "\n",
    "Uso de NumPy y Pandas pero **no** scikit-learn"
   ]
  },
  {
   "cell_type": "markdown",
   "metadata": {},
   "source": [
    "## Pasos\n",
    "\n",
    "1. Pensar en los métodos necesarios para implementar el entrenamiento\n",
    "   1.  Separar muestras en clases\n",
    "   \n",
    "        Responde a _dame las muestras en la clase C_. Nos permitirá calcular sus probabilidades\n",
    "\n",
    "       ¿Cómo resolver con Pandas?\n",
    "\n",
    "   1.  Calcular los datos para probabilidades de atributos contínuos\n",
    "\n",
    "       Necesitaremos media y desviación estándar\n",
    "\n",
    "       ¿Cómo calcular la media y desviación estándar de una columna con Pandas?\n",
    "\n",
    "       Sugerencia: crear un método que devuelva estos dos valores a partir de una Serie (columna)\n",
    "\n",
    "       Sugerencia 2: pásale los datos de una columna creada a mano y verifica que los datos son correctos frente a lo esperado\n",
    "\n",
    "    1. Calcula la densidad de probalidad gaussiana\n",
    "\n",
    "        f(x) = (1 / sqrt(2 * PI) * sigma) * exp(-((x-mean)^2 / (2 * sigma^2)))\n",
    "\n",
    "        Sugerencia: crear método que la calcula para una columna continua\n",
    "\n",
    "    1. Calcula la probablidad de atributos contínuos\n",
    "\n",
    "       Sugerencia: usando los pasos anteriores crear un método que devuelve una P para una columna continua\n",
    "\n",
    "       Sugerencia2: verifica que funciona con datos existentes\n",
    "\n",
    "    1. Calcular las probabilidades de atributos nominales\n",
    "\n",
    "        Necesitamos contar el número de apariciones frente al total\n",
    "\n",
    "        Sugerencia: crear un método que devuelva esta probabilidad a partir de una Serie de tipo nominal (`dtype=object`)\n",
    "\n",
    "        Sugerencia2: verifica que funciona correctamente con datos ()\n",
    "\n",
    "    1. Calcular las probabilidades del dataset == train\n",
    "\n",
    "        Dado un dataset, calcula las probabilidades de cada clase para cada atributo:\n",
    "        ```python\n",
    "        datos_modelo \n",
    "        Para cada clase:\n",
    "          para cada atributo:\n",
    "             calcula su probalidad\n",
    "             almacena en los datos del modelo para clase y atributo\n",
    "        ```\n",
    "\n",
    "        Sugerencia: Probar con datasets pequeños. Si los métodos anteriores están bien probados, los fallos solo pueden estar \n",
    "        en este método\n",
    "    1. Predict\n",
    "\n",
    "    1. Score"
   ]
  },
  {
   "cell_type": "markdown",
   "metadata": {},
   "source": []
  }
 ],
 "metadata": {
  "kernelspec": {
   "display_name": ".venv",
   "language": "python",
   "name": "python3"
  },
  "language_info": {
   "codemirror_mode": {
    "name": "ipython",
    "version": 3
   },
   "file_extension": ".py",
   "mimetype": "text/x-python",
   "name": "python",
   "nbconvert_exporter": "python",
   "pygments_lexer": "ipython3",
   "version": "3.9.2"
  }
 },
 "nbformat": 4,
 "nbformat_minor": 2
}
