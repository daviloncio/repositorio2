{
 "cells": [
  {
   "cell_type": "markdown",
   "metadata": {},
   "source": [
    "David López Valdivia y Jimena de Prado González"
   ]
  },
  {
   "cell_type": "markdown",
   "metadata": {},
   "source": [
    "# SEMANA 1"
   ]
  },
  {
   "cell_type": "markdown",
   "metadata": {},
   "source": [
    "- Empezamos importando las librerías que vamos a usar y el dataset"
   ]
  },
  {
   "cell_type": "code",
   "execution_count": 40,
   "metadata": {},
   "outputs": [],
   "source": [
    "import numpy as np, pandas as pd, seaborn as sns\n",
    "import scipy\n",
    "from matplotlib import pyplot as plt\n",
    "pd.set_option.display_maxcolumns = 100\n",
    "data = pd.read_csv('fuga_clientes_empresa_telefonica_construccion.csv')"
   ]
  },
  {
   "cell_type": "markdown",
   "metadata": {},
   "source": [
    "## 1.1 Limpieza del dataset"
   ]
  },
  {
   "cell_type": "markdown",
   "metadata": {},
   "source": [
    "- Vamos a empezar indicando que variables tienen valores nulos y cuáles tienen outliers para facilitar el preprocesado"
   ]
  },
  {
   "cell_type": "markdown",
   "metadata": {},
   "source": [
    "#### <span style='color:steelblue'> Valores nulos: </span>"
   ]
  },
  {
   "cell_type": "code",
   "execution_count": 3,
   "metadata": {},
   "outputs": [
    {
     "data": {
      "text/plain": [
       "Customer ID                                  0\n",
       "network_age                                  0\n",
       "Customer tenure in month                     0\n",
       "Total Spend in Months 1 and 2 of 2017        0\n",
       "Total SMS Spend                              0\n",
       "Total Data Spend                             0\n",
       "Total Data Consumption                       0\n",
       "Total Unique Calls                           0\n",
       "Total Onnet spend                            0\n",
       "Total Offnet spend                           0\n",
       "Total Call centre complaint calls            0\n",
       "Network type subscription in Month 1         0\n",
       "Network type subscription in Month 2        22\n",
       "Most Loved Competitor network in Month 1     1\n",
       "Most Loved Competitor network in Month 2     1\n",
       "Churn Status                                 0\n",
       "dtype: int64"
      ]
     },
     "execution_count": 3,
     "metadata": {},
     "output_type": "execute_result"
    }
   ],
   "source": [
    "data.isnull().sum()"
   ]
  },
  {
   "cell_type": "markdown",
   "metadata": {},
   "source": [
    "#### <span style='color:steelblue'> Outliers: </span>"
   ]
  },
  {
   "cell_type": "code",
   "execution_count": 9,
   "metadata": {},
   "outputs": [
    {
     "data": {
      "text/plain": [
       "network_age                                5\n",
       "Customer tenure in month                   5\n",
       "Total Spend in Months 1 and 2 of 2017     62\n",
       "Total SMS Spend                          111\n",
       "Total Data Spend                         114\n",
       "Total Data Consumption                   157\n",
       "Total Unique Calls                       101\n",
       "Total Onnet spend                        120\n",
       "Total Offnet spend                       145\n",
       "Total Call centre complaint calls        124\n",
       "Churn Status                               0\n",
       "dtype: int64"
      ]
     },
     "execution_count": 9,
     "metadata": {},
     "output_type": "execute_result"
    }
   ],
   "source": [
    "#Función para detectar outliers:\n",
    "def is_outlier_IQR(df):\n",
    "    Q1=df.quantile(0.25)\n",
    "    Q3=df.quantile(0.75)\n",
    "    IQR = Q3-Q1\n",
    "    return (df<(Q1-1.5*IQR)) | (df>(Q3+1.5*IQR))\n",
    "#Tomamos solo las variables numéricas\n",
    "data_numericos = data.loc[:, data.dtypes != object]\n",
    "is_outlier_IQR(data_numericos).sum()"
   ]
  },
  {
   "cell_type": "markdown",
   "metadata": {},
   "source": [
    "### a) Customer ID"
   ]
  },
  {
   "cell_type": "markdown",
   "metadata": {},
   "source": [
    "- Esta variable representa los ID de todos los clientes, veamos sus valores únicos para comprobarlo:"
   ]
  },
  {
   "cell_type": "code",
   "execution_count": 2,
   "metadata": {},
   "outputs": [
    {
     "data": {
      "text/plain": [
       "array(['ADF0039', 'ADF0040', 'ADF0041', ..., 'ADF1998', 'ADF1999',\n",
       "       'ADF2000'], dtype=object)"
      ]
     },
     "execution_count": 2,
     "metadata": {},
     "output_type": "execute_result"
    }
   ],
   "source": [
    "data['Customer ID'].unique()"
   ]
  },
  {
   "cell_type": "markdown",
   "metadata": {},
   "source": [
    "- Como esta variable no es relevante podemos eliminarla"
   ]
  },
  {
   "cell_type": "code",
   "execution_count": 3,
   "metadata": {},
   "outputs": [],
   "source": [
    "data= data.drop('Customer ID', axis = 1)"
   ]
  },
  {
   "cell_type": "markdown",
   "metadata": {},
   "source": [
    "### c) Customer tenure in month"
   ]
  },
  {
   "cell_type": "code",
   "execution_count": 6,
   "metadata": {},
   "outputs": [
    {
     "data": {
      "text/plain": [
       "Customer tenure in month\n",
       "3.90      7\n",
       "3.67      6\n",
       "4.17      5\n",
       "4.00      4\n",
       "3.57      4\n",
       "         ..\n",
       "20.87     1\n",
       "107.10    1\n",
       "23.97     1\n",
       "73.83     1\n",
       "31.23     1\n",
       "Name: count, Length: 883, dtype: int64"
      ]
     },
     "execution_count": 6,
     "metadata": {},
     "output_type": "execute_result"
    }
   ],
   "source": [
    "data['Customer tenure in month'].value_counts()"
   ]
  },
  {
   "cell_type": "markdown",
   "metadata": {},
   "source": [
    "- Por sus valores se puede deducir que se trata de una variable numérica representa los meses que lleva un cliente en la compañía"
   ]
  },
  {
   "cell_type": "markdown",
   "metadata": {},
   "source": [
    "- Recordemos que esta columna tenía 5 outliers, veamos cuales son sus valores"
   ]
  },
  {
   "cell_type": "code",
   "execution_count": 10,
   "metadata": {},
   "outputs": [
    {
     "data": {
      "text/plain": [
       "8      177.80\n",
       "172    172.60\n",
       "208    181.70\n",
       "353    172.70\n",
       "484    179.13\n",
       "Name: Customer tenure in month, dtype: float64"
      ]
     },
     "execution_count": 10,
     "metadata": {},
     "output_type": "execute_result"
    }
   ],
   "source": [
    "outliermth = data['Customer tenure in month'][is_outlier_IQR(data['Customer tenure in month'])]\n",
    "outliermth"
   ]
  },
  {
   "cell_type": "markdown",
   "metadata": {},
   "source": [
    "- Consideremos la posibilidad de que pueda tener una distribución de cola pesada"
   ]
  },
  {
   "cell_type": "code",
   "execution_count": 5,
   "metadata": {},
   "outputs": [
    {
     "data": {
      "image/png": "[encoded data removed]",
      "text/plain": [
       "<Figure size 640x480 with 1 Axes>"
      ]
     },
     "metadata": {},
     "output_type": "display_data"
    }
   ],
   "source": [
    "fig, ax = plt.subplots(1, 1) \n",
    "ax.hist(data['Customer tenure in month'],color = \"purple\") \n",
    "  \n",
    "ax.set_title(\"Customer tenure in month\")\n",
    "plt.grid()\n",
    "plt.show()"
   ]
  },
  {
   "cell_type": "markdown",
   "metadata": {},
   "source": [
    "- Como así es, realicemos un ajuste logarítmico para ver si dejamos de tener outliers"
   ]
  },
  {
   "cell_type": "code",
   "execution_count": 25,
   "metadata": {},
   "outputs": [],
   "source": [
    "log = np.log10(data['Customer tenure in month']+1)"
   ]
  },
  {
   "cell_type": "code",
   "execution_count": 26,
   "metadata": {},
   "outputs": [
    {
     "data": {
      "image/png": "[encoded data removed]",
      "text/plain": [
       "<Figure size 640x480 with 1 Axes>"
      ]
     },
     "metadata": {},
     "output_type": "display_data"
    }
   ],
   "source": [
    "fig, ax = plt.subplots(1, 1) \n",
    "ax.hist(log,color = \"purple\") \n",
    "  \n",
    "ax.set_title(\"Customer tenure in month logarítmico\")\n",
    "plt.grid()\n",
    "plt.show()"
   ]
  },
  {
   "cell_type": "markdown",
   "metadata": {},
   "source": [
    "### e) Total SMS Spend"
   ]
  },
  {
   "cell_type": "code",
   "execution_count": 19,
   "metadata": {},
   "outputs": [
    {
     "data": {
      "text/plain": [
       "Total SMS Spend\n",
       "0.00     161\n",
       "1.75      41\n",
       "3.50      20\n",
       "0.01      19\n",
       "5.25      18\n",
       "        ... \n",
       "56.72      1\n",
       "35.32      1\n",
       "26.18      1\n",
       "9.49       1\n",
       "32.40      1\n",
       "Name: count, Length: 600, dtype: int64"
      ]
     },
     "execution_count": 19,
     "metadata": {},
     "output_type": "execute_result"
    }
   ],
   "source": [
    "data['Total SMS Spend'].value_counts()"
   ]
  },
  {
   "cell_type": "markdown",
   "metadata": {},
   "source": [
    "- Por estos valores podemos deducir que se trata del gasto en mensajes SMS de cada cliente "
   ]
  },
  {
   "cell_type": "code",
   "execution_count": 22,
   "metadata": {},
   "outputs": [
    {
     "data": {
      "image/png": "[encoded data removed]",
      "text/plain": [
       "<Figure size 640x480 with 1 Axes>"
      ]
     },
     "metadata": {},
     "output_type": "display_data"
    }
   ],
   "source": [
    "fig, ax = plt.subplots(1, 1) \n",
    "ax.hist(data['Total SMS Spend'],color = \"violet\") \n",
    "  \n",
    "ax.set_title('Total gastado en SMS')\n",
    "plt.grid()\n",
    "plt.show()"
   ]
  },
  {
   "cell_type": "markdown",
   "metadata": {},
   "source": [
    "- Veamos si con una distribución logarítmica podemos tartar el problema de los outliers"
   ]
  },
  {
   "cell_type": "code",
   "execution_count": 27,
   "metadata": {},
   "outputs": [
    {
     "data": {
      "image/png": "[encoded data removed]",
      "text/plain": [
       "<Figure size 640x480 with 1 Axes>"
      ]
     },
     "metadata": {},
     "output_type": "display_data"
    }
   ],
   "source": [
    "fig, ax = plt.subplots(1, 1) \n",
    "ax.hist(np.log10(data['Total SMS Spend']+1) )\n",
    "  \n",
    "ax.set_title('Total gastado en SMS')\n",
    "plt.grid()\n",
    "plt.show()"
   ]
  },
  {
   "cell_type": "markdown",
   "metadata": {},
   "source": [
    "### g) Total Data Consumption"
   ]
  },
  {
   "cell_type": "code",
   "execution_count": 31,
   "metadata": {},
   "outputs": [
    {
     "data": {
      "text/plain": [
       "array([1.47383000e+01, 8.34497342e+07, 7.11599229e+04, ...,\n",
       "       1.31274587e+05, 2.16600627e+06, 1.82811500e+02])"
      ]
     },
     "execution_count": 31,
     "metadata": {},
     "output_type": "execute_result"
    }
   ],
   "source": [
    "data['Total Data Consumption'].unique()"
   ]
  },
  {
   "cell_type": "markdown",
   "metadata": {},
   "source": [
    "** Es numérica la dejamos de momento"
   ]
  },
  {
   "cell_type": "markdown",
   "metadata": {},
   "source": [
    "### i) Total Onnet spend"
   ]
  },
  {
   "cell_type": "code",
   "execution_count": 32,
   "metadata": {},
   "outputs": [
    {
     "data": {
      "text/plain": [
       "array([  2940,      0,    131,    696,  18635,   5532,    600,   2892,\n",
       "        15225,   1428,   2155,    120,  10578,  17184,  10305,   1470,\n",
       "        13980,    885,   7260,   2832,     60,    480,   1024,    906,\n",
       "          228,     24,    168,    888,  38778,  10255,    486,  24828,\n",
       "         1254,  31601,   2710,    502,  11478,   1908,     12,  75699,\n",
       "          564,   3024,  10516,   5080,    275,  24450,   5271,  11378,\n",
       "          813,  18100,   4744,    992,   1092,   5713,    804,   4338,\n",
       "          558,   1304,  49351,   5568,  10008,    324,  55390,   5287,\n",
       "         1506,   2799,   9395,   1829,   5472,  71208,   3387,  12324,\n",
       "          287,    216,  48720,   2850,    970,  16087,    753,  64872,\n",
       "         4131,    526,   4584,   4853,   8928,   2421,    738,   1243,\n",
       "         4569,   5634,    570,    132,   7608,  18603,   9666,   2700,\n",
       "         2268,   3452,   4434,   8856,  17408,   2634,  10137,   1248,\n",
       "        18157,    610,  15228,   7852,  37401,   4260,   8608,    240,\n",
       "         1836,   3786,   5844,   3000,   3513,  20376,  17496,   3819,\n",
       "         3504,    954,   1734,  25356,    684,   2488,   4386,   2571,\n",
       "         6678,   3012,  18714,    348,   8227,   5873,  18144,   5478,\n",
       "         1932,   4595,   2514,   2400,   6199,    622,  10267,   3172,\n",
       "         5856,   7644,   3454,   2640,  24774,   2069,   1746,  57341,\n",
       "         1626,   1032,  15406,   4936,  34495,  24636,   1296,   7465,\n",
       "         8979,  10044,   3526,  18510,  22188,   2572,    859,  99804,\n",
       "         2325,    144,  16540,  11485,  24468,   4032,  14752,   6250,\n",
       "        17862,   7866,    360,    980,    114,  29832,   9504,    239,\n",
       "        20951,   7980,   5323,    726,   7290,   5166,   7155,   3672,\n",
       "         3036,   4344,   3732,  16709,    874,  20568,   6201,  24903,\n",
       "         3612,  30120,  10542,    318,  19687,  13155,   1231,   3167,\n",
       "          264,  20034,   9279,  21177,   6036,    801,  18048,  36480,\n",
       "        16650,   3384,   1949,  10971,   2350,   4996,    546,  10035,\n",
       "         1095,   2737,  15888,    108,   9843,   9096,  30142,   1996,\n",
       "         1548,   2367,    936,  12432,   1608,  41184,    798,   1494,\n",
       "         7683,   2379,   4650,    378,  21714,   2112,   6569,   1212,\n",
       "         1745,   6408,   6876,    780,  10617,  17103,   9108,    852,\n",
       "           36,   7761,   8964,   2082,    912,   8124,   3353,   4914,\n",
       "         4104,   3062,  42736,   1386,  27228,   8904,   9179,  45413,\n",
       "        18540,    744,    516,   1146,    956,     48,   4230,   8067,\n",
       "        22247,   3564,   1673,  53448,  21012,    741,  20668,  31977,\n",
       "        46380,   3924,   2292,    489,  29382,   3222,  10411,   1944,\n",
       "         1372,   2714,  28218,   5403,    204,   6816,  13988,   4522,\n",
       "         5260,   1194,   5390,    358,   1464,   7628,  19614,   4195,\n",
       "          634,    716,    587,   2385,  30071,  12593,   5263,   3050,\n",
       "          252,   9002,    477,    816,    762,  10926,   4752,  43740,\n",
       "         2445,   5076,   4320,   4770,   7690,    490,   4717,    420,\n",
       "        22176,   4112,   3941,   1232,   3156,   5130,  13704,   3516,\n",
       "         8907,   4057,  29724, 112074,   6786,    858,   4151,   1979,\n",
       "         2524,   8088,  17831,   2952,   3408,  12186,    609,   3636,\n",
       "         3507,  34918,    708,  21708,    525,  18306,   9732,    765,\n",
       "          894,  17148,   6552,    396,   4728,    366,   4665,   1937,\n",
       "        13888,   6225,   8753,  12652,   7733,  51846,    729,   3816,\n",
       "         8649,   5227,    900,   7110,   1920,  21304,    369,   1308,\n",
       "         2763,   3647,   1579,  24956,   9024,   9552,  18528,  23007,\n",
       "        20400,  31716,   6328,    288,  17224,   5955,    857,   9384,\n",
       "         2904,  14616,    300,  13961,    789,    672,    990,  30422,\n",
       "         3251,   2962,   9468,   9872,  24918,   1509,   2689,  31482,\n",
       "         6847,    882,   2235,   1224,   2963,   3478,   9894,   5474,\n",
       "         6335,   5105,   8218,  18775,  10105,   1872,   3474,  16159,\n",
       "         1551,   6503,   1722,  35499,   8700,  24804,  12999,    330,\n",
       "         5450,    660,   4830,   5123,   1728,  12645,   5890,  21872,\n",
       "        15524,   1781,   8796,    311,   4095,  16344,   6822,  14665,\n",
       "        13503,   1644,   4904,   4140,  23760,   6638,   6792,   1933,\n",
       "        16902,   8208,   1458,   1340,   8076,   1974,  13904,     96,\n",
       "        34344,   5247,  30838,  13608,   4518,   3450,  18288,   1190,\n",
       "        11520,   5607,   7331,  37349,  22380,   3972,   4007,   1164,\n",
       "        14663,  36300,   1524,   1004,   7793,   3400,   7296,   9298,\n",
       "         3246,  20988,  23016,    335,  10428,   7584,   2175,   1229,\n",
       "        42894,  11688,    945,  26400,   2484,   1980,   3648,   5124,\n",
       "          251,  10912,    933,   8557,  10014,   5298,  35856,   2916,\n",
       "         9700,  16452,  14497,   4143,   1040,   1434,   2724,   7422,\n",
       "          540,   4257,   2304,   7051,   2582,  39261,   2900,  13920,\n",
       "        18814,   1080,  14796,  15682,  11760,   8408,   1238,   6840,\n",
       "        16934,  11973,  14845,   1956,    323,  12671,   2580,   1928,\n",
       "          909,   1014,  62690,  16290,    372,   2272,   8220,   2184,\n",
       "          102,  30069,    492,     84,  25523,   1733,   4980,  15741,\n",
       "         1320,  29173,  52860,   9952,  14310,  14584,   4629, 146344,\n",
       "        21518,    636,   4302,   5244,   2409,    620,   5775,   2508,\n",
       "         2666,   1500,   9462,  10828,  11969,   4685,   2893,   6169,\n",
       "         2761,  10655,    718,  13724,  12856,   4222,   1811,   2988,\n",
       "          618,  50556,   3351,   2670,  40032,    408,   7635,    534,\n",
       "        20963,    846,  85260,    276,   6209,   1344,  51329,   4266,\n",
       "         2665,  14788,    630,    432,   3489,   2978,   2826,   3378,\n",
       "         1482,  12642,   1556,   2152,  15468,   5367,   1697,   6276,\n",
       "        10087,  12564,   1116,   1451,   2378,   5884,    263,   2656,\n",
       "         7360,   6948,   1176,   1279,   9406,  30445,    946,  17628,\n",
       "          156,   7668,   1762,   4722,   1416,   9480,   4560,  56040,\n",
       "         3585,   9782,    192,   5019,   1124,   2537,  20812,   8820,\n",
       "         2011,   4488,   2964,   5964,  72120,   2532,   1205])"
      ]
     },
     "execution_count": 32,
     "metadata": {},
     "output_type": "execute_result"
    }
   ],
   "source": [
    "data['Total Onnet spend'].unique()"
   ]
  },
  {
   "cell_type": "markdown",
   "metadata": {},
   "source": [
    "** Es numérica lo dejas hasta hacer el modelo "
   ]
  },
  {
   "cell_type": "markdown",
   "metadata": {},
   "source": [
    "### k) Total Call centre complaint calls"
   ]
  },
  {
   "cell_type": "code",
   "execution_count": 33,
   "metadata": {},
   "outputs": [
    {
     "data": {
      "text/plain": [
       "array([ 4,  2,  1,  3,  5, 13, 12,  6, 14, 16,  7,  8, 11, 21, 10,  9, 18,\n",
       "       15, 49])"
      ]
     },
     "execution_count": 33,
     "metadata": {},
     "output_type": "execute_result"
    }
   ],
   "source": [
    "data['Total Call centre complaint calls'].unique()"
   ]
  },
  {
   "cell_type": "markdown",
   "metadata": {},
   "source": [
    "** Es numérica siguiente"
   ]
  },
  {
   "cell_type": "markdown",
   "metadata": {},
   "source": [
    "### k) Total Call centre complaint calls"
   ]
  },
  {
   "cell_type": "markdown",
   "metadata": {},
   "source": [
    "# Tratamos los valores nulos antes de seguir con el modelo. Probamos, y luego volvemos por si tenemos que tratar outliers"
   ]
  },
  {
   "cell_type": "markdown",
   "metadata": {},
   "source": [
    "### m) Network type subscription in Month 2"
   ]
  },
  {
   "cell_type": "markdown",
   "metadata": {},
   "source": [
    "- Representa el tipo de red a la que se suscribió el cliente en el segundo mes. Veamos los valores nulos"
   ]
  },
  {
   "cell_type": "code",
   "execution_count": 30,
   "metadata": {},
   "outputs": [
    {
     "data": {
      "text/plain": [
       "array(['2G', '3G', 'Other', nan], dtype=object)"
      ]
     },
     "execution_count": 30,
     "metadata": {},
     "output_type": "execute_result"
    }
   ],
   "source": [
    "data['Network type subscription in Month 2'].unique()"
   ]
  },
  {
   "cell_type": "code",
   "execution_count": 28,
   "metadata": {},
   "outputs": [
    {
     "data": {
      "text/plain": [
       "38      NaN\n",
       "160     NaN\n",
       "198     NaN\n",
       "203     NaN\n",
       "227     NaN\n",
       "419     NaN\n",
       "428     NaN\n",
       "439     NaN\n",
       "519     NaN\n",
       "523     NaN\n",
       "537     NaN\n",
       "590     NaN\n",
       "600     NaN\n",
       "619     NaN\n",
       "655     NaN\n",
       "664     NaN\n",
       "679     NaN\n",
       "731     NaN\n",
       "761     NaN\n",
       "866     NaN\n",
       "943     NaN\n",
       "1032    NaN\n",
       "Name: Network type subscription in Month 2, dtype: object"
      ]
     },
     "execution_count": 28,
     "metadata": {},
     "output_type": "execute_result"
    }
   ],
   "source": [
    "data['Network type subscription in Month 2'][data['Network type subscription in Month 2'].isnull() == True]"
   ]
  },
  {
   "cell_type": "markdown",
   "metadata": {},
   "source": [
    "- Hacemos la codificación 'one-hot'"
   ]
  },
  {
   "cell_type": "code",
   "execution_count": 41,
   "metadata": {},
   "outputs": [],
   "source": [
    "data = pd.get_dummies(data, columns=['Network type subscription in Month 2'], dtype= int)"
   ]
  },
  {
   "cell_type": "markdown",
   "metadata": {},
   "source": [
    "- Drop_first pero para el valor 'other'"
   ]
  },
  {
   "cell_type": "code",
   "execution_count": 43,
   "metadata": {},
   "outputs": [],
   "source": [
    "data = data.drop('Network type subscription in Month 2_Other', axis=1)"
   ]
  },
  {
   "cell_type": "markdown",
   "metadata": {},
   "source": [
    "### ñ) Most Loved Competitor network in Month 2"
   ]
  },
  {
   "cell_type": "code",
   "execution_count": 44,
   "metadata": {},
   "outputs": [
    {
     "data": {
      "text/plain": [
       "array(['Uxaa', 'PQza', 'Mango', 'Weematel', 'ToCall', 'Zintel', nan],\n",
       "      dtype=object)"
      ]
     },
     "execution_count": 44,
     "metadata": {},
     "output_type": "execute_result"
    }
   ],
   "source": [
    "data['Most Loved Competitor network in Month 2'].unique()"
   ]
  },
  {
   "cell_type": "markdown",
   "metadata": {},
   "source": [
    "- Son categóricas, codificamos"
   ]
  },
  {
   "cell_type": "code",
   "execution_count": null,
   "metadata": {},
   "outputs": [],
   "source": [
    "data = pd.get_dummies(data, columns=['Most Loved Competitor network in Month 2'], dtype= int, drop_first= True)"
   ]
  }
 ],
 "metadata": {
  "kernelspec": {
   "display_name": "Python 3",
   "language": "python",
   "name": "python3"
  },
  "language_info": {
   "codemirror_mode": {
    "name": "ipython",
    "version": 3
   },
   "file_extension": ".py",
   "mimetype": "text/x-python",
   "name": "python",
   "nbconvert_exporter": "python",
   "pygments_lexer": "ipython3",
   "version": "3.10.12"
  }
 },
 "nbformat": 4,
 "nbformat_minor": 2
}
