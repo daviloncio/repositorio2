{
 "cells": [
  {
   "cell_type": "markdown",
   "metadata": {},
   "source": [
    "David López Valdivia y Jimena de Prado González"
   ]
  },
  {
   "cell_type": "markdown",
   "metadata": {},
   "source": [
    "# SEMANA 1"
   ]
  },
  {
   "cell_type": "markdown",
   "metadata": {},
   "source": [
    "- Empezamos importando las librerías que vamos a usar y el dataset"
   ]
  },
  {
   "cell_type": "code",
   "execution_count": 2,
   "metadata": {},
   "outputs": [],
   "source": [
    "import numpy as np, pandas as pd, seaborn as sns\n",
    "import scipy\n",
    "from matplotlib import pyplot as plt\n",
    "pd.set_option.display_maxcolumns = 100\n",
    "data = pd.read_csv('fuga_clientes_empresa_telefonica_construccion.csv')\n",
    "data_explot=pd.read_csv('fuga_clientes_empresa_telefonica_construccion.csv')\n",
    "\n",
    "\n"
   ]
  },
  {
   "cell_type": "markdown",
   "metadata": {},
   "source": [
    "## 1.1 Limpieza del dataset"
   ]
  },
  {
   "cell_type": "markdown",
   "metadata": {},
   "source": [
    "- Vamos a empezar indicando que variables tienen valores nulos y cuáles tienen outliers para facilitar el preprocesado. \n",
    "\n",
    "Haremos la partición de train y test al final del preprocesado para evitar más lineas de las necesarias, ya que todas las modificaciones que aplicamos son válidas para ambos conjuntos. Una vez creemos test haremos algún cambio adicional sobre este, como borrar Churn Status."
   ]
  },
  {
   "cell_type": "markdown",
   "metadata": {},
   "source": [
    "#### <span style='color:steelblue'> Valores nulos: </span>"
   ]
  },
  {
   "cell_type": "code",
   "execution_count": 3,
   "metadata": {},
   "outputs": [
    {
     "data": {
      "text/plain": [
       "Customer ID                                  0\n",
       "network_age                                  0\n",
       "Customer tenure in month                     0\n",
       "Total Spend in Months 1 and 2 of 2017        0\n",
       "Total SMS Spend                              0\n",
       "Total Data Spend                             0\n",
       "Total Data Consumption                       0\n",
       "Total Unique Calls                           0\n",
       "Total Onnet spend                            0\n",
       "Total Offnet spend                           0\n",
       "Total Call centre complaint calls            0\n",
       "Network type subscription in Month 1         0\n",
       "Network type subscription in Month 2        22\n",
       "Most Loved Competitor network in Month 1     1\n",
       "Most Loved Competitor network in Month 2     1\n",
       "Churn Status                                 0\n",
       "dtype: int64"
      ]
     },
     "execution_count": 3,
     "metadata": {},
     "output_type": "execute_result"
    }
   ],
   "source": [
    "data.isnull().sum()"
   ]
  },
  {
   "cell_type": "markdown",
   "metadata": {},
   "source": [
    "#### <span style='color:steelblue'> Outliers: </span>"
   ]
  },
  {
   "cell_type": "code",
   "execution_count": 4,
   "metadata": {},
   "outputs": [
    {
     "data": {
      "text/plain": [
       "network_age                                5\n",
       "Customer tenure in month                   5\n",
       "Total Spend in Months 1 and 2 of 2017     62\n",
       "Total SMS Spend                          111\n",
       "Total Data Spend                         114\n",
       "Total Data Consumption                   157\n",
       "Total Unique Calls                       101\n",
       "Total Onnet spend                        120\n",
       "Total Offnet spend                       145\n",
       "Total Call centre complaint calls        124\n",
       "Churn Status                               0\n",
       "dtype: int64"
      ]
     },
     "execution_count": 4,
     "metadata": {},
     "output_type": "execute_result"
    }
   ],
   "source": [
    "#Función para detectar outliers:\n",
    "def is_outlier_IQR(df):\n",
    "    Q1=df.quantile(0.25)\n",
    "    Q3=df.quantile(0.75)\n",
    "    IQR = Q3-Q1\n",
    "    return (df<(Q1-1.5*IQR)) | (df>(Q3+1.5*IQR))\n",
    "#Tomamos solo las variables numéricas\n",
    "data_numericos = data.loc[:, data.dtypes != object]\n",
    "is_outlier_IQR(data_numericos).sum()"
   ]
  },
  {
   "cell_type": "markdown",
   "metadata": {},
   "source": [
    "### a) Customer ID"
   ]
  },
  {
   "cell_type": "markdown",
   "metadata": {},
   "source": [
    "- Esta variable representa los ID de todos los clientes, veamos sus valores únicos para comprobarlo:"
   ]
  },
  {
   "cell_type": "code",
   "execution_count": 5,
   "metadata": {},
   "outputs": [
    {
     "data": {
      "text/plain": [
       "array(['ADF0039', 'ADF0040', 'ADF0041', ..., 'ADF1998', 'ADF1999',\n",
       "       'ADF2000'], dtype=object)"
      ]
     },
     "execution_count": 5,
     "metadata": {},
     "output_type": "execute_result"
    }
   ],
   "source": [
    "data['Customer ID'].unique()"
   ]
  },
  {
   "cell_type": "markdown",
   "metadata": {},
   "source": [
    "- Como esta variable no es relevante podemos eliminarla"
   ]
  },
  {
   "cell_type": "code",
   "execution_count": 6,
   "metadata": {},
   "outputs": [],
   "source": [
    "data= data.drop('Customer ID', axis = 1)"
   ]
  },
  {
   "cell_type": "markdown",
   "metadata": {},
   "source": [
    "### b) network_age"
   ]
  },
  {
   "cell_type": "markdown",
   "metadata": {},
   "source": [
    "Esta variable numérica informa sobre ...... .Nos encontramos 5 outliers"
   ]
  },
  {
   "cell_type": "code",
   "execution_count": 7,
   "metadata": {},
   "outputs": [
    {
     "name": "stdout",
     "output_type": "stream",
     "text": [
      "Número de outliers: 5\n",
      "Numero de valores nulos: 0\n"
     ]
    }
   ],
   "source": [
    "print('Número de outliers:',is_outlier_IQR(data['network_age']).sum())\n",
    "print('Numero de valores nulos:',data['network_age'].isnull().sum())"
   ]
  },
  {
   "cell_type": "code",
   "execution_count": 8,
   "metadata": {},
   "outputs": [
    {
     "data": {
      "image/png": "[encoded data removed]",
      "text/plain": [
       "<Figure size 640x480 with 1 Axes>"
      ]
     },
     "metadata": {},
     "output_type": "display_data"
    }
   ],
   "source": [
    "fig, ax = plt.subplots(1, 1) \n",
    "ax.hist(data['network_age'],color = \"green\") \n",
    "  \n",
    "ax.set_title(\"network_age\")\n",
    "plt.grid()\n",
    "plt.show()"
   ]
  },
  {
   "cell_type": "code",
   "execution_count": null,
   "metadata": {},
   "outputs": [],
   "source": []
  },
  {
   "cell_type": "markdown",
   "metadata": {},
   "source": [
    "### c) Customer tenure in month"
   ]
  },
  {
   "cell_type": "code",
   "execution_count": 9,
   "metadata": {},
   "outputs": [
    {
     "data": {
      "text/plain": [
       "Customer tenure in month\n",
       "3.90      7\n",
       "3.67      6\n",
       "4.17      5\n",
       "4.00      4\n",
       "3.57      4\n",
       "         ..\n",
       "20.87     1\n",
       "107.10    1\n",
       "23.97     1\n",
       "73.83     1\n",
       "31.23     1\n",
       "Name: count, Length: 883, dtype: int64"
      ]
     },
     "execution_count": 9,
     "metadata": {},
     "output_type": "execute_result"
    }
   ],
   "source": [
    "data['Customer tenure in month'].value_counts()"
   ]
  },
  {
   "cell_type": "markdown",
   "metadata": {},
   "source": [
    "- Por sus valores se puede deducir que se trata de una variable numérica representa los meses que lleva un cliente en la compañía"
   ]
  },
  {
   "cell_type": "markdown",
   "metadata": {},
   "source": [
    "- Recordemos que esta columna tenía 5 outliers, veamos cuales son sus valores"
   ]
  },
  {
   "cell_type": "code",
   "execution_count": 10,
   "metadata": {},
   "outputs": [
    {
     "data": {
      "text/plain": [
       "8      177.80\n",
       "172    172.60\n",
       "208    181.70\n",
       "353    172.70\n",
       "484    179.13\n",
       "Name: Customer tenure in month, dtype: float64"
      ]
     },
     "execution_count": 10,
     "metadata": {},
     "output_type": "execute_result"
    }
   ],
   "source": [
    "outliermth = data['Customer tenure in month'][is_outlier_IQR(data['Customer tenure in month'])]\n",
    "outliermth"
   ]
  },
  {
   "cell_type": "markdown",
   "metadata": {},
   "source": [
    "- Consideremos la posibilidad de que pueda tener una distribución de cola pesada"
   ]
  },
  {
   "cell_type": "code",
   "execution_count": 11,
   "metadata": {},
   "outputs": [
    {
     "data": {
      "image/png": "[encoded data removed]",
      "text/plain": [
       "<Figure size 640x480 with 1 Axes>"
      ]
     },
     "metadata": {},
     "output_type": "display_data"
    }
   ],
   "source": [
    "fig, ax = plt.subplots(1, 1) \n",
    "ax.hist(data['Customer tenure in month'],color = \"purple\") \n",
    "  \n",
    "ax.set_title(\"Customer tenure in month\")\n",
    "plt.grid()\n",
    "plt.show()"
   ]
  },
  {
   "cell_type": "markdown",
   "metadata": {},
   "source": [
    "- Como así es, realicemos un ajuste logarítmico para ver si dejamos de tener outliers"
   ]
  },
  {
   "cell_type": "code",
   "execution_count": 12,
   "metadata": {},
   "outputs": [],
   "source": [
    "log = np.log10(data['Customer tenure in month']+1)"
   ]
  },
  {
   "cell_type": "code",
   "execution_count": 13,
   "metadata": {},
   "outputs": [
    {
     "data": {
      "image/png": "[encoded data removed]",
      "text/plain": [
       "<Figure size 640x480 with 1 Axes>"
      ]
     },
     "metadata": {},
     "output_type": "display_data"
    }
   ],
   "source": [
    "fig, ax = plt.subplots(1, 1) \n",
    "ax.hist(log,color = \"purple\") \n",
    "  \n",
    "ax.set_title(\"Customer tenure in month logarítmico\")\n",
    "plt.grid()\n",
    "plt.show()"
   ]
  },
  {
   "cell_type": "markdown",
   "metadata": {},
   "source": [
    "### d) Total Spend in Months 1 and 2 of 2017"
   ]
  },
  {
   "cell_type": "code",
   "execution_count": 14,
   "metadata": {},
   "outputs": [
    {
     "name": "stdout",
     "output_type": "stream",
     "text": [
      "Número de outliers: 5\n",
      "Número de valores nulos: 0\n"
     ]
    }
   ],
   "source": [
    "print('Número de outliers:',is_outlier_IQR(data['network_age']).sum())\n",
    "print('Número de valores nulos:',data['network_age'].isnull().sum())"
   ]
  },
  {
   "cell_type": "markdown",
   "metadata": {},
   "source": [
    "Esta variable nos hablar de"
   ]
  },
  {
   "cell_type": "markdown",
   "metadata": {},
   "source": [
    "### e) Total SMS Spend"
   ]
  },
  {
   "cell_type": "code",
   "execution_count": 15,
   "metadata": {},
   "outputs": [
    {
     "data": {
      "text/plain": [
       "Total SMS Spend\n",
       "0.00     163\n",
       "1.75      42\n",
       "3.50      20\n",
       "0.01      19\n",
       "5.25      18\n",
       "        ... \n",
       "56.72      1\n",
       "35.32      1\n",
       "26.18      1\n",
       "9.49       1\n",
       "32.40      1\n",
       "Name: count, Length: 601, dtype: int64"
      ]
     },
     "execution_count": 15,
     "metadata": {},
     "output_type": "execute_result"
    }
   ],
   "source": [
    "data['Total SMS Spend'].value_counts()"
   ]
  },
  {
   "cell_type": "markdown",
   "metadata": {},
   "source": [
    "- Por estos valores podemos deducir que se trata del gasto en mensajes SMS de cada cliente "
   ]
  },
  {
   "cell_type": "code",
   "execution_count": 16,
   "metadata": {},
   "outputs": [
    {
     "data": {
      "image/png": "[encoded data removed]",
      "text/plain": [
       "<Figure size 640x480 with 1 Axes>"
      ]
     },
     "metadata": {},
     "output_type": "display_data"
    }
   ],
   "source": [
    "fig, ax = plt.subplots(1, 1) \n",
    "ax.hist(data['Total SMS Spend'],color = \"violet\") \n",
    "  \n",
    "ax.set_title('Total gastado en SMS')\n",
    "plt.grid()\n",
    "plt.show()"
   ]
  },
  {
   "cell_type": "markdown",
   "metadata": {},
   "source": [
    "- Veamos si con una distribución logarítmica podemos tartar el problema de los outliers"
   ]
  },
  {
   "cell_type": "code",
   "execution_count": 17,
   "metadata": {},
   "outputs": [
    {
     "data": {
      "image/png": "[encoded data removed]",
      "text/plain": [
       "<Figure size 640x480 with 1 Axes>"
      ]
     },
     "metadata": {},
     "output_type": "display_data"
    }
   ],
   "source": [
    "fig, ax = plt.subplots(1, 1) \n",
    "ax.hist(np.log10(data['Total SMS Spend']+1) )\n",
    "  \n",
    "ax.set_title('Total gastado en SMS')\n",
    "plt.grid()\n",
    "plt.show()"
   ]
  },
  {
   "cell_type": "markdown",
   "metadata": {},
   "source": [
    "### f) Total Data Spend"
   ]
  },
  {
   "cell_type": "markdown",
   "metadata": {},
   "source": [
    "### g) Total Data Consumption"
   ]
  },
  {
   "cell_type": "code",
   "execution_count": 18,
   "metadata": {},
   "outputs": [
    {
     "data": {
      "text/plain": [
       "array([1.47383000e+01, 8.34497342e+07, 7.11599229e+04, ...,\n",
       "       1.31274587e+05, 2.16600627e+06, 1.82811500e+02])"
      ]
     },
     "execution_count": 18,
     "metadata": {},
     "output_type": "execute_result"
    }
   ],
   "source": [
    "data['Total Data Consumption'].unique()"
   ]
  },
  {
   "cell_type": "markdown",
   "metadata": {},
   "source": [
    "** Es numérica la dejamos de momento"
   ]
  },
  {
   "cell_type": "markdown",
   "metadata": {},
   "source": [
    "### h) Total Unique Calls"
   ]
  },
  {
   "cell_type": "markdown",
   "metadata": {},
   "source": [
    "### i) Total Onnet spend"
   ]
  },
  {
   "cell_type": "code",
   "execution_count": 19,
   "metadata": {},
   "outputs": [
    {
     "data": {
      "text/plain": [
       "array([  2940,      0,    131,    696,  18635,   5532,    600,   2892,\n",
       "        15225,   1428,   2155,    120,  10578,  17184,  10305,   1470,\n",
       "        13980,    885,   7260,   2832,     60,    480,   1024,    906,\n",
       "          228,     24,    168,    888,  38778,  10255,    486,  24828,\n",
       "         1254,  31601,   2710,    502,  11478,   1908,     12,  75699,\n",
       "          564,   3024,  10516,   5080,    275,  24450,   5271,  11378,\n",
       "          813,  18100,   4744,    992,   1092,   5713,    804,   4338,\n",
       "          558,   1304,  49351,   5568,  10008,    324,  55390,   5287,\n",
       "         1506,   2799,   9395,   1829,   5472,  71208,   3387,  12324,\n",
       "          287,    216,  48720,   2850,    970,  16087,    753,  64872,\n",
       "         4131,    526,   4584,   4853,   8928,   2421,    738,   1243,\n",
       "         4569,   5634,    570,    132,   7608,  18603,   9666,   2700,\n",
       "         2268,   3452,   4434,   8856,  17408,   2634,  10137,   1248,\n",
       "        18157,    610,  15228,   7852,  37401,   4260,   8608,    240,\n",
       "         1836,   3786,   5844,   3000,   3513,  20376,  17496,   3819,\n",
       "         3504,    954,   1734,  25356,    684,   2488,   4386,   2571,\n",
       "         6678,   3012,  18714,  41538,    348,   8227,   5873,  18144,\n",
       "         5478,   1932,   4595,   2514,   2400,   6199,    622,  10267,\n",
       "         3172,   5856,   7644,   3454,   2640,  24774,   2069,   1746,\n",
       "        57341,   1626,   1032,  15406,   4936,  34495,  24636,   1296,\n",
       "         7465,   8979,  10044,   3526,  18510,  22188,   2572,    859,\n",
       "        99804,   2325,    144,  16540,  11485,  24468,   4032,  14752,\n",
       "         6250,  17862,   7866,    360,    980,    114,  29832,   9504,\n",
       "          239,  20951,   7980,   5323,    726,   7290,   5166,   7155,\n",
       "         3672,   3036,   4344,   3732,  16709,    874,  20568,   6201,\n",
       "        24903,   3612,  30120,  10542,    318,  19687,  13155,   1231,\n",
       "         3167,    264,  20034,   9279,  21177,   6036,    801,  18048,\n",
       "        36480,  16650,   3384,   1949,  10971,   2350,   4996,    546,\n",
       "        10035,   1095,   2737,  15888,    108,   9843,   9096,  30142,\n",
       "         1996,   1548,   2367,    936,  12432,   1608,  41184,    798,\n",
       "         1494,   7683,   2379,    741,   4650,    378,  21714,   2112,\n",
       "         6569,   1212,   1745,   6408,   6876,    780,  10617,  17103,\n",
       "         9108,    852,     36,   7761,   8964,   2082,    912,   8124,\n",
       "         3353,   4914,   4104,   3062,  42736,   1386,  27228,   8904,\n",
       "         9179,  45413,  18540,    744,    516,   1146,    956,     48,\n",
       "         4230,   8067,  22247,   3564,   1673,  53448,  21012,  20668,\n",
       "        31977,  46380,   3924,   2292,    489,  29382,   3222,  10411,\n",
       "         1944,   1372,   2714,  28218,   5403,    204,   6816,  13988,\n",
       "         4522,   5260,   1194,   5390,    358,   1464,   7628,  19614,\n",
       "         4195,    634,    716,    587,   2385,  30071,  12593,   5263,\n",
       "         3050,    252,   9002,    477,    816,    762,  10926,   4752,\n",
       "        43740,   2445,   5076,   4320,   4770,   7690,    490,   4717,\n",
       "          420,  22176,   4112,   3941,   1232,   3156,   5130,  13704,\n",
       "         3516,   8907,   4057,  29724, 112074,   6786,    858,   4151,\n",
       "         1979,   2524,   8088,  17831,   2952,   3408,  12186,    609,\n",
       "         3636,   3507,  34918,    708,  21708,    525,  18306,   9732,\n",
       "          765,    894,  17148,   6552,    396,   4728,    366,   4665,\n",
       "         1937,  13888,   6225,   8753,  12652,   7733,  51846,    729,\n",
       "         3816,   8649,   5227,    900,   7110,   1920,  21304,    369,\n",
       "         1308,   2763,   3647,   1579,  24956,   9024,   9552,  18528,\n",
       "        23007,  20400,  31716,   6328,    288,  17224,   5955,    857,\n",
       "         9384,   2904,  14616,    300,  13961,    789,    672,    990,\n",
       "        30422,   3251,   2962,   9468,   9872,  24918,   1509,   2689,\n",
       "        31482,   6847,    882,   2235,   1224,   2963,   3478,   9894,\n",
       "         5474,   6335,   5105,   8218,  18775,  10105,   1872,   3474,\n",
       "        16159,   1551,   6503,   1722,  35499,   8700,  24804,  12999,\n",
       "          330,   5450,    660,   4830,   5123,   1728,  12645,   5890,\n",
       "        21872,  15524,   1781,   8796,    311,   4095,  16344,   6822,\n",
       "        14665,  13503,   1644,   4904,   4140,  23760,   6638,   6792,\n",
       "         1933,  16902,   8208,   1458,   1340,   8076,   1974,  13904,\n",
       "           96,  34344,   5247,  30838,  13608,   4518,   3450,  18288,\n",
       "         1190,  11520,   5607,   7331,  37349,  22380,   3972,   4007,\n",
       "         1164,  14663,  36300,   1524,   1004,   7793,   3400,   7296,\n",
       "         9298,   3246,  20988,  23016,    335,  10428,   7584,   2175,\n",
       "         1229,  42894,  11688,    945,  26400,   2484,   1980,   3648,\n",
       "         5124,    251,  10912,    933,   8557,  10014,   5298,  35856,\n",
       "         2916,   9700,  16452,  14497,   4143,   1040,   1434,   2724,\n",
       "         7422,    540,   4257,   2304,   7051,   2582,  39261,   2900,\n",
       "        13920,  18814,   1080,  14796,  15682,  11760,   8408,   1238,\n",
       "         6840,  16934,  11973,  14845,   1956,    323,  12671,   2580,\n",
       "         1928,    909,   1014,  62690,  16290,    372,   2272,   8220,\n",
       "         2184,    102,  30069,    492,     84,  25523,   1733,   4980,\n",
       "        15741,   1320,  29173,  52860,   9952,  14310,  14584,   4629,\n",
       "       146344,  21518,    636,   4302,   5244,   2409,    620,   5775,\n",
       "         2508,   2666,   1500,   9462,  10828,  11969,   4685,   2893,\n",
       "         6169,   2761,  10655,    718,  13724,  12856,   4222,   1811,\n",
       "         2988,    618,  50556,   3351,   2670,  40032,    408,   7635,\n",
       "          534,  20963,    846,  85260,    276,   6209,   1344,  51329,\n",
       "         4266,   2665,  14788,    630,    432,   3489,   2978,   2826,\n",
       "         3378,   1482,  12642,   1556,   2152,  15468,   5367,   1697,\n",
       "         6276,  10087,  12564,   1116,   1451,   2378,   5884,    263,\n",
       "         2656,   7360,   6948,   1176,   1279,   9406,  30445,    946,\n",
       "        17628,    156,   7668,   1762,   4722,   1416,   9480,   4560,\n",
       "        56040,   3585,   9782,    192,   5019,   1124,   2537,  20812,\n",
       "         8820,   2011,   4488,   2964,   5964,  72120,   2532,   1205],\n",
       "      dtype=int64)"
      ]
     },
     "execution_count": 19,
     "metadata": {},
     "output_type": "execute_result"
    }
   ],
   "source": [
    "data['Total Onnet spend'].unique()"
   ]
  },
  {
   "cell_type": "markdown",
   "metadata": {},
   "source": [
    "** Es numérica lo dejas hasta hacer el modelo "
   ]
  },
  {
   "cell_type": "markdown",
   "metadata": {},
   "source": [
    "### j) Total Offnet spend"
   ]
  },
  {
   "cell_type": "markdown",
   "metadata": {},
   "source": [
    "### k) Total Call centre complaint calls"
   ]
  },
  {
   "cell_type": "code",
   "execution_count": 20,
   "metadata": {},
   "outputs": [
    {
     "data": {
      "text/plain": [
       "array([ 4,  2,  1,  3,  5, 13, 12,  6, 14,  8, 16,  7, 11, 21, 10,  9, 18,\n",
       "       15, 49], dtype=int64)"
      ]
     },
     "execution_count": 20,
     "metadata": {},
     "output_type": "execute_result"
    }
   ],
   "source": [
    "data['Total Call centre complaint calls'].unique()"
   ]
  },
  {
   "cell_type": "markdown",
   "metadata": {},
   "source": [
    "** Es numérica siguiente"
   ]
  },
  {
   "cell_type": "markdown",
   "metadata": {},
   "source": [
    "### l)Network type subscription in Month 1"
   ]
  },
  {
   "cell_type": "markdown",
   "metadata": {},
   "source": [
    "Variable categórica que nos indica el tipo de suscripción en el primer mes."
   ]
  },
  {
   "cell_type": "code",
   "execution_count": 21,
   "metadata": {},
   "outputs": [],
   "source": [
    "data = pd.get_dummies(data, columns=['Network type subscription in Month 1'], dtype= int, drop_first= True)\n",
    "data_explot = pd.get_dummies(data_explot, columns=['Network type subscription in Month 1'], dtype= int, drop_first= True)"
   ]
  },
  {
   "cell_type": "code",
   "execution_count": null,
   "metadata": {},
   "outputs": [],
   "source": []
  },
  {
   "cell_type": "markdown",
   "metadata": {},
   "source": [
    "# Tratamos los valores nulos antes de seguir con el modelo. Probamos, y luego volvemos por si tenemos que tratar outliers"
   ]
  },
  {
   "cell_type": "markdown",
   "metadata": {},
   "source": [
    "### m) Network type subscription in Month 2"
   ]
  },
  {
   "cell_type": "markdown",
   "metadata": {},
   "source": [
    "- Representa el tipo de red a la que se suscribió el cliente en el segundo mes. Veamos los valores nulos"
   ]
  },
  {
   "cell_type": "code",
   "execution_count": 22,
   "metadata": {},
   "outputs": [
    {
     "data": {
      "text/plain": [
       "array(['2G', '3G', 'Other', nan], dtype=object)"
      ]
     },
     "execution_count": 22,
     "metadata": {},
     "output_type": "execute_result"
    }
   ],
   "source": [
    "data['Network type subscription in Month 2'].unique()"
   ]
  },
  {
   "cell_type": "code",
   "execution_count": 23,
   "metadata": {},
   "outputs": [
    {
     "data": {
      "text/plain": [
       "38      NaN\n",
       "160     NaN\n",
       "198     NaN\n",
       "203     NaN\n",
       "227     NaN\n",
       "419     NaN\n",
       "428     NaN\n",
       "439     NaN\n",
       "519     NaN\n",
       "523     NaN\n",
       "537     NaN\n",
       "590     NaN\n",
       "600     NaN\n",
       "619     NaN\n",
       "655     NaN\n",
       "664     NaN\n",
       "679     NaN\n",
       "731     NaN\n",
       "761     NaN\n",
       "866     NaN\n",
       "943     NaN\n",
       "1032    NaN\n",
       "Name: Network type subscription in Month 2, dtype: object"
      ]
     },
     "execution_count": 23,
     "metadata": {},
     "output_type": "execute_result"
    }
   ],
   "source": [
    "data['Network type subscription in Month 2'][data['Network type subscription in Month 2'].isnull() == True]"
   ]
  },
  {
   "cell_type": "markdown",
   "metadata": {},
   "source": [
    "- Hacemos la codificación 'one-hot'"
   ]
  },
  {
   "cell_type": "code",
   "execution_count": 24,
   "metadata": {},
   "outputs": [],
   "source": [
    "data = pd.get_dummies(data, columns=['Network type subscription in Month 2'], dtype= int)\n",
    "data_explot= pd.get_dummies(data_explot, columns=['Network type subscription in Month 2'], dtype= int, drop_first= True)"
   ]
  },
  {
   "cell_type": "markdown",
   "metadata": {},
   "source": [
    "- Drop_first pero para el valor 'other'"
   ]
  },
  {
   "cell_type": "code",
   "execution_count": 25,
   "metadata": {},
   "outputs": [],
   "source": [
    "data = data.drop('Network type subscription in Month 2_Other', axis=1)"
   ]
  },
  {
   "cell_type": "markdown",
   "metadata": {},
   "source": [
    "### n) Most Loved Competitor network in in Month 1"
   ]
  },
  {
   "cell_type": "markdown",
   "metadata": {},
   "source": [
    "Variable categórica ordenada que nos informa del trabajador de la compañía más gustado por el cliente en el primer mes."
   ]
  },
  {
   "cell_type": "code",
   "execution_count": 26,
   "metadata": {},
   "outputs": [],
   "source": [
    "data= pd.get_dummies(data, columns=['Most Loved Competitor network in Month 1'], dtype= int, drop_first= True)\n",
    "data_explot = pd.get_dummies(data_explot, columns=['Most Loved Competitor network in Month 1'], dtype= int, drop_first= True)"
   ]
  },
  {
   "cell_type": "markdown",
   "metadata": {},
   "source": [
    "### ñ) Most Loved Competitor network in Month 2"
   ]
  },
  {
   "cell_type": "code",
   "execution_count": 27,
   "metadata": {},
   "outputs": [
    {
     "data": {
      "text/plain": [
       "array(['Uxaa', 'PQza', 'Mango', 'Weematel', 'ToCall', 'Zintel', nan],\n",
       "      dtype=object)"
      ]
     },
     "execution_count": 27,
     "metadata": {},
     "output_type": "execute_result"
    }
   ],
   "source": [
    "data['Most Loved Competitor network in Month 2'].unique()"
   ]
  },
  {
   "cell_type": "markdown",
   "metadata": {},
   "source": [
    "- Son categóricas, codificamos"
   ]
  },
  {
   "cell_type": "code",
   "execution_count": 28,
   "metadata": {},
   "outputs": [],
   "source": [
    "data = pd.get_dummies(data, columns=['Most Loved Competitor network in Month 2'], dtype= int, drop_first= True)\n",
    "data_explot = pd.get_dummies(data_explot, columns=['Most Loved Competitor network in Month 2'], dtype= int, drop_first= True)"
   ]
  },
  {
   "cell_type": "markdown",
   "metadata": {},
   "source": [
    "### o) Churn Status"
   ]
  },
  {
   "cell_type": "markdown",
   "metadata": {},
   "source": [
    "Variable categórica dicotómica, es 0 si el cliente no abandona la compañía y 1 si lo hace.\n",
    "Es nuestra variable a predecir, por tanto, eliminamos la columna de nuestro conjunto test que introducimos en el modelo (x_test).\n",
    "En cuanto hagamos la partición de train y test, haremos esta separación entre x_test e y_test (esta última es la columna Churn)"
   ]
  },
  {
   "cell_type": "markdown",
   "metadata": {},
   "source": [
    "### Eliminación de variables dependientes"
   ]
  },
  {
   "cell_type": "markdown",
   "metadata": {},
   "source": [
    "Hacemos la matriz de correlación una vez hemos pasado toda slas variables categóricas a dummies."
   ]
  },
  {
   "cell_type": "code",
   "execution_count": 29,
   "metadata": {},
   "outputs": [
    {
     "name": "stdout",
     "output_type": "stream",
     "text": [
      "26\n"
     ]
    }
   ],
   "source": [
    "matriz_corr=data.corr()\n",
    "\n",
    "data2=data.copy()\n",
    "rank1=np.linalg.matrix_rank(matriz_corr) #hay una columna a eliminar\n",
    "cols=data.columns\n",
    "for col in cols:\n",
    "    cols2 = cols.drop(col) #Eliminamos una columna para ver si cambia el rango\n",
    "    data2 = data2[cols2] #Cogemos el dataset sin esa columna\n",
    "    rank2 = np.linalg.matrix_rank(data2.corr()) #Hallamos el rango de ese datset\n",
    "    if rank1 == rank2: #Si los rangos siguen igual, se elimina esa columna porque es linealmente dependiente\n",
    "        cols = cols2\n",
    "        print(f'columna que hemos eliminado: {col}')\n",
    "    else:\n",
    "        data2 = data #si son distintos, esa columna es linealmente independiente y no se quita\n",
    "\n",
    "#Nos quedamos con las columnas linealmente independientes\n",
    "data= data[cols] \n",
    "#nos quitamos la columna Network type subscription in Month 1, que tb quitamos del conjunto de explotacion\n",
    "data_explot=data[cols]\n",
    "\n",
    "print(len(data.columns)) #trabajaremos con 26 variables, han aumentado tras la codificación de dummies"
   ]
  },
  {
   "cell_type": "markdown",
   "metadata": {},
   "source": [
    "### Partición train y test"
   ]
  },
  {
   "cell_type": "code",
   "execution_count": 61,
   "metadata": {},
   "outputs": [
    {
     "name": "stdout",
     "output_type": "stream",
     "text": [
      "Index(['network_age', 'Customer tenure in month',\n",
      "       'Total Spend in Months 1 and 2 of 2017', 'Total SMS Spend',\n",
      "       'Total Data Spend', 'Total Data Consumption', 'Total Unique Calls',\n",
      "       'Total Onnet spend', 'Total Offnet spend',\n",
      "       'Total Call centre complaint calls', 'Churn Status',\n",
      "       'Network type subscription in Month 1_3G',\n",
      "       'Network type subscription in Month 1_Other',\n",
      "       'Network type subscription in Month 2_2G',\n",
      "       'Network type subscription in Month 2_3G',\n",
      "       'Most Loved Competitor network in Month 1_Mango',\n",
      "       'Most Loved Competitor network in Month 1_PQza',\n",
      "       'Most Loved Competitor network in Month 1_ToCall',\n",
      "       'Most Loved Competitor network in Month 1_Uxaa',\n",
      "       'Most Loved Competitor network in Month 1_Weematel',\n",
      "       'Most Loved Competitor network in Month 1_Zintel',\n",
      "       'Most Loved Competitor network in Month 2_PQza',\n",
      "       'Most Loved Competitor network in Month 2_ToCall',\n",
      "       'Most Loved Competitor network in Month 2_Uxaa',\n",
      "       'Most Loved Competitor network in Month 2_Weematel',\n",
      "       'Most Loved Competitor network in Month 2_Zintel'],\n",
      "      dtype='object')\n"
     ]
    }
   ],
   "source": [
    "from sklearn.model_selection import train_test_split\n",
    "\n",
    "x = data.drop('Churn Status', axis=1)\n",
    "print(data.columns)\n",
    "y = data['Churn Status']\n",
    "\n",
    "#las vairables y contienen la columna churn\n",
    "x_train, x_test, y_train, y_test = train_test_split(x, y, test_size=0.3, random_state=42)\n"
   ]
  },
  {
   "cell_type": "markdown",
   "metadata": {},
   "source": [
    "### Paso 3: Construcción y análisis de un modelo de regresión logística usando la librería scikit-klearn "
   ]
  },
  {
   "cell_type": "markdown",
   "metadata": {},
   "source": [
    "• Construye con sklearn un modelo de regresión logística (clase\n",
    "sklearn.lineal_model.LogisticRegression). No te olvides de estandarizar las\n",
    "variables de entrada. ¿Cuáles son los scores obtenidos en entrenamiento y en\n",
    "test? ¿Hay sobreajuste? ¿Cómo se comparan con los obtenidos con el\n",
    "DummyClassifier?\n"
   ]
  },
  {
   "cell_type": "markdown",
   "metadata": {},
   "source": [
    "La tasa de acierto obtenida en el entrenamiento es de 0.718146 y en test 0.72155, un poco mayor."
   ]
  },
  {
   "cell_type": "code",
   "execution_count": 55,
   "metadata": {},
   "outputs": [
    {
     "name": "stdout",
     "output_type": "stream",
     "text": [
      "[[-0.08953928 -0.08964618 -0.63741448  0.36578944  0.40192539 -0.39624858\n",
      "  -0.28293471 -0.23507033  0.83291485 -0.03609426  0.15431051 -0.13882729\n",
      "   0.10368932  0.00264669  0.29062252  0.27867484  0.08762484  0.17593679\n",
      "  -0.00651806  0.10561304  0.12799172  0.10791161 -0.41526236 -0.01615845\n",
      "   0.01511222]]\n",
      "[-0.11651442]\n",
      "[[0.85342529 0.14657471]\n",
      " [0.23441492 0.76558508]\n",
      " [0.44726133 0.55273867]\n",
      " [0.36053076 0.63946924]\n",
      " [0.67336672 0.32663328]\n",
      " [0.28098645 0.71901355]\n",
      " [0.20336345 0.79663655]\n",
      " [0.34614381 0.65385619]\n",
      " [0.65947625 0.34052375]\n",
      " [0.29749742 0.70250258]\n",
      " [0.19967716 0.80032284]\n",
      " [0.59140423 0.40859577]\n",
      " [0.64454708 0.35545292]\n",
      " [0.86691095 0.13308905]\n",
      " [0.36822695 0.63177305]\n",
      " [0.4917141  0.5082859 ]\n",
      " [0.63390117 0.36609883]\n",
      " [0.30731123 0.69268877]\n",
      " [0.19213772 0.80786228]\n",
      " [0.46022315 0.53977685]\n",
      " [0.5280787  0.4719213 ]\n",
      " [0.68430111 0.31569889]\n",
      " [0.43576128 0.56423872]\n",
      " [0.6461329  0.3538671 ]\n",
      " [0.20575864 0.79424136]\n",
      " [0.6714887  0.3285113 ]\n",
      " [0.78372419 0.21627581]\n",
      " [0.26962645 0.73037355]\n",
      " [0.52695055 0.47304945]\n",
      " [0.43038242 0.56961758]\n",
      " [0.44150008 0.55849992]\n",
      " [0.61637573 0.38362427]\n",
      " [0.36567613 0.63432387]\n",
      " [0.25096259 0.74903741]\n",
      " [0.45489087 0.54510913]\n",
      " [0.62303145 0.37696855]\n",
      " [0.65168518 0.34831482]\n",
      " [0.3482312  0.6517688 ]\n",
      " [0.69207099 0.30792901]\n",
      " [0.57041928 0.42958072]\n",
      " [0.5778405  0.4221595 ]\n",
      " [0.81022105 0.18977895]\n",
      " [0.9001367  0.0998633 ]\n",
      " [0.5694164  0.4305836 ]\n",
      " [0.62950301 0.37049699]\n",
      " [0.12308687 0.87691313]\n",
      " [0.63438848 0.36561152]\n",
      " [0.63712975 0.36287025]\n",
      " [0.55117404 0.44882596]\n",
      " [0.68966817 0.31033183]\n",
      " [0.28747996 0.71252004]\n",
      " [0.69491134 0.30508866]\n",
      " [0.42092692 0.57907308]\n",
      " [0.28662007 0.71337993]\n",
      " [0.49231234 0.50768766]\n",
      " [0.68403026 0.31596974]\n",
      " [0.59558792 0.40441208]\n",
      " [0.42245056 0.57754944]\n",
      " [0.38591502 0.61408498]\n",
      " [0.65875844 0.34124156]\n",
      " [0.25577208 0.74422792]\n",
      " [0.7727368  0.2272632 ]\n",
      " [0.8779012  0.1220988 ]\n",
      " [0.25961399 0.74038601]\n",
      " [0.7833525  0.2166475 ]\n",
      " [0.74089259 0.25910741]\n",
      " [0.26642767 0.73357233]\n",
      " [0.65062925 0.34937075]\n",
      " [0.24272848 0.75727152]\n",
      " [0.66463279 0.33536721]\n",
      " [0.54474986 0.45525014]\n",
      " [0.56606217 0.43393783]\n",
      " [0.60596417 0.39403583]\n",
      " [0.55052098 0.44947902]\n",
      " [0.47470461 0.52529539]\n",
      " [0.76617813 0.23382187]\n",
      " [0.55600378 0.44399622]\n",
      " [0.07075487 0.92924513]\n",
      " [0.79234761 0.20765239]\n",
      " [0.67938445 0.32061555]\n",
      " [0.62541469 0.37458531]\n",
      " [0.38984416 0.61015584]\n",
      " [0.83282901 0.16717099]\n",
      " [0.73177645 0.26822355]\n",
      " [0.84444774 0.15555226]\n",
      " [0.26155369 0.73844631]\n",
      " [0.759734   0.240266  ]\n",
      " [0.77488936 0.22511064]\n",
      " [0.65695381 0.34304619]\n",
      " [0.59252629 0.40747371]\n",
      " [0.83394159 0.16605841]\n",
      " [0.5493763  0.4506237 ]\n",
      " [0.79396114 0.20603886]\n",
      " [0.04111063 0.95888937]\n",
      " [0.86084963 0.13915037]\n",
      " [0.82848569 0.17151431]\n",
      " [0.25221826 0.74778174]\n",
      " [0.70883273 0.29116727]\n",
      " [0.72811142 0.27188858]\n",
      " [0.39866077 0.60133923]\n",
      " [0.34363482 0.65636518]\n",
      " [0.65398128 0.34601872]\n",
      " [0.39739265 0.60260735]\n",
      " [0.75127548 0.24872452]\n",
      " [0.16011873 0.83988127]\n",
      " [0.77142796 0.22857204]\n",
      " [0.48867864 0.51132136]\n",
      " [0.90329722 0.09670278]\n",
      " [0.36479168 0.63520832]\n",
      " [0.77959476 0.22040524]\n",
      " [0.20190861 0.79809139]\n",
      " [0.29496854 0.70503146]\n",
      " [0.27816057 0.72183943]\n",
      " [0.79860201 0.20139799]\n",
      " [0.70681783 0.29318217]\n",
      " [0.77868332 0.22131668]\n",
      " [0.77601502 0.22398498]\n",
      " [0.80686876 0.19313124]\n",
      " [0.66928199 0.33071801]\n",
      " [0.54033798 0.45966202]\n",
      " [0.45422058 0.54577942]\n",
      " [0.28600594 0.71399406]\n",
      " [0.35458044 0.64541956]\n",
      " [0.27755204 0.72244796]\n",
      " [0.52995681 0.47004319]\n",
      " [0.84610594 0.15389406]\n",
      " [0.73687277 0.26312723]\n",
      " [0.70811364 0.29188636]\n",
      " [0.78286247 0.21713753]\n",
      " [0.19708822 0.80291178]\n",
      " [0.77632416 0.22367584]\n",
      " [0.23067429 0.76932571]\n",
      " [0.90157074 0.09842926]\n",
      " [0.28945552 0.71054448]\n",
      " [0.65392811 0.34607189]\n",
      " [0.49092278 0.50907722]\n",
      " [0.188242   0.811758  ]\n",
      " [0.36237738 0.63762262]\n",
      " [0.58543828 0.41456172]\n",
      " [0.57137824 0.42862176]\n",
      " [0.24308739 0.75691261]\n",
      " [0.72367758 0.27632242]\n",
      " [0.17155053 0.82844947]\n",
      " [0.3770234  0.6229766 ]\n",
      " [0.40088135 0.59911865]\n",
      " [0.24110702 0.75889298]\n",
      " [0.37559293 0.62440707]\n",
      " [0.6338366  0.3661634 ]\n",
      " [0.38486938 0.61513062]\n",
      " [0.63839679 0.36160321]\n",
      " [0.79153106 0.20846894]\n",
      " [0.40030777 0.59969223]\n",
      " [0.37735462 0.62264538]\n",
      " [0.2108276  0.7891724 ]\n",
      " [0.74626339 0.25373661]\n",
      " [0.40626139 0.59373861]\n",
      " [0.74723787 0.25276213]\n",
      " [0.63662246 0.36337754]\n",
      " [0.63739474 0.36260526]\n",
      " [0.82027757 0.17972243]\n",
      " [0.72640784 0.27359216]\n",
      " [0.32559526 0.67440474]\n",
      " [0.29110931 0.70889069]\n",
      " [0.85670109 0.14329891]\n",
      " [0.48223957 0.51776043]\n",
      " [0.73571875 0.26428125]\n",
      " [0.62372747 0.37627253]\n",
      " [0.84989056 0.15010944]\n",
      " [0.22442325 0.77557675]\n",
      " [0.76382562 0.23617438]\n",
      " [0.96597484 0.03402516]\n",
      " [0.49850787 0.50149213]\n",
      " [0.29916192 0.70083808]\n",
      " [0.28766272 0.71233728]\n",
      " [0.81275725 0.18724275]\n",
      " [0.55563365 0.44436635]\n",
      " [0.66353839 0.33646161]\n",
      " [0.23419967 0.76580033]\n",
      " [0.8709744  0.1290256 ]\n",
      " [0.78150831 0.21849169]\n",
      " [0.1350122  0.8649878 ]\n",
      " [0.66083717 0.33916283]\n",
      " [0.7017481  0.2982519 ]\n",
      " [0.29565174 0.70434826]\n",
      " [0.59102376 0.40897624]\n",
      " [0.78896134 0.21103866]\n",
      " [0.69713179 0.30286821]\n",
      " [0.79848996 0.20151004]\n",
      " [0.5614591  0.4385409 ]\n",
      " [0.84992404 0.15007596]\n",
      " [0.24926077 0.75073923]\n",
      " [0.42269347 0.57730653]\n",
      " [0.79370721 0.20629279]\n",
      " [0.72540433 0.27459567]\n",
      " [0.39924739 0.60075261]\n",
      " [0.88289008 0.11710992]\n",
      " [0.31948933 0.68051067]\n",
      " [0.80166451 0.19833549]\n",
      " [0.2392258  0.7607742 ]\n",
      " [0.26971229 0.73028771]\n",
      " [0.53120816 0.46879184]\n",
      " [0.59419766 0.40580234]\n",
      " [0.55634377 0.44365623]\n",
      " [0.75785219 0.24214781]\n",
      " [0.4983267  0.5016733 ]\n",
      " [0.17292828 0.82707172]\n",
      " [0.78274696 0.21725304]\n",
      " [0.62062833 0.37937167]\n",
      " [0.28361617 0.71638383]\n",
      " [0.35787656 0.64212344]\n",
      " [0.56916268 0.43083732]\n",
      " [0.20148991 0.79851009]\n",
      " [0.34663195 0.65336805]\n",
      " [0.16260111 0.83739889]\n",
      " [0.88309662 0.11690338]\n",
      " [0.19152512 0.80847488]\n",
      " [0.2272146  0.7727854 ]\n",
      " [0.34343037 0.65656963]\n",
      " [0.9595099  0.0404901 ]\n",
      " [0.41557296 0.58442704]\n",
      " [0.59975344 0.40024656]\n",
      " [0.92474407 0.07525593]\n",
      " [0.16991963 0.83008037]\n",
      " [0.70003129 0.29996871]\n",
      " [0.82042441 0.17957559]\n",
      " [0.23272523 0.76727477]\n",
      " [0.02220187 0.97779813]\n",
      " [0.11052455 0.88947545]\n",
      " [0.41052559 0.58947441]\n",
      " [0.44205131 0.55794869]\n",
      " [0.29329818 0.70670182]\n",
      " [0.2263636  0.7736364 ]\n",
      " [0.70957006 0.29042994]\n",
      " [0.33439965 0.66560035]\n",
      " [0.31269926 0.68730074]\n",
      " [0.70941353 0.29058647]\n",
      " [0.08223777 0.91776223]\n",
      " [0.76121582 0.23878418]\n",
      " [0.67006331 0.32993669]\n",
      " [0.64402506 0.35597494]\n",
      " [0.28469434 0.71530566]\n",
      " [0.65262917 0.34737083]\n",
      " [0.59544024 0.40455976]\n",
      " [0.37221713 0.62778287]\n",
      " [0.30963297 0.69036703]\n",
      " [0.15678343 0.84321657]\n",
      " [0.06986314 0.93013686]\n",
      " [0.79507264 0.20492736]\n",
      " [0.8122199  0.1877801 ]\n",
      " [0.82623476 0.17376524]\n",
      " [0.12575637 0.87424363]\n",
      " [0.92971175 0.07028825]\n",
      " [0.9000418  0.0999582 ]\n",
      " [0.83482109 0.16517891]\n",
      " [0.78754041 0.21245959]\n",
      " [0.24848558 0.75151442]\n",
      " [0.22683794 0.77316206]\n",
      " [0.2997939  0.7002061 ]\n",
      " [0.21314212 0.78685788]\n",
      " [0.765647   0.234353  ]\n",
      " [0.31781691 0.68218309]\n",
      " [0.28609739 0.71390261]\n",
      " [0.64874251 0.35125749]\n",
      " [0.74718623 0.25281377]\n",
      " [0.67526796 0.32473204]\n",
      " [0.43892826 0.56107174]\n",
      " [0.68603276 0.31396724]\n",
      " [0.73887709 0.26112291]\n",
      " [0.35815814 0.64184186]\n",
      " [0.41592611 0.58407389]\n",
      " [0.23901526 0.76098474]\n",
      " [0.63651064 0.36348936]\n",
      " [0.56105316 0.43894684]\n",
      " [0.22528992 0.77471008]\n",
      " [0.25691901 0.74308099]\n",
      " [0.65602659 0.34397341]\n",
      " [0.33895443 0.66104557]\n",
      " [0.59814967 0.40185033]\n",
      " [0.18493421 0.81506579]\n",
      " [0.62197568 0.37802432]\n",
      " [0.57741244 0.42258756]\n",
      " [0.70015032 0.29984968]\n",
      " [0.76053268 0.23946732]\n",
      " [0.46971582 0.53028418]\n",
      " [0.00163787 0.99836213]\n",
      " [0.7370379  0.2629621 ]\n",
      " [0.31783767 0.68216233]\n",
      " [0.42280166 0.57719834]\n",
      " [0.30810032 0.69189968]\n",
      " [0.1725175  0.8274825 ]\n",
      " [0.25346881 0.74653119]\n",
      " [0.96406954 0.03593046]\n",
      " [0.90079525 0.09920475]\n",
      " [0.27036249 0.72963751]\n",
      " [0.67691103 0.32308897]\n",
      " [0.56947841 0.43052159]\n",
      " [0.34641324 0.65358676]\n",
      " [0.56666871 0.43333129]\n",
      " [0.41659915 0.58340085]\n",
      " [0.83570524 0.16429476]\n",
      " [0.23898013 0.76101987]\n",
      " [0.23555995 0.76444005]\n",
      " [0.57730833 0.42269167]\n",
      " [0.6396147  0.3603853 ]\n",
      " [0.70036163 0.29963837]\n",
      " [0.46723321 0.53276679]\n",
      " [0.71726024 0.28273976]\n",
      " [0.53726655 0.46273345]\n",
      " [0.83371145 0.16628855]\n",
      " [0.62227543 0.37772457]\n",
      " [0.47601387 0.52398613]\n",
      " [0.49220656 0.50779344]\n",
      " [0.40971675 0.59028325]\n",
      " [0.74435362 0.25564638]\n",
      " [0.39456646 0.60543354]\n",
      " [0.61998079 0.38001921]\n",
      " [0.78347207 0.21652793]\n",
      " [0.3327784  0.6672216 ]\n",
      " [0.75651254 0.24348746]\n",
      " [0.31702116 0.68297884]\n",
      " [0.49433768 0.50566232]\n",
      " [0.48897108 0.51102892]\n",
      " [0.53707784 0.46292216]\n",
      " [0.75781674 0.24218326]\n",
      " [0.55200699 0.44799301]\n",
      " [0.30148103 0.69851897]\n",
      " [0.7907819  0.2092181 ]\n",
      " [0.28442811 0.71557189]\n",
      " [0.26106782 0.73893218]\n",
      " [0.73285038 0.26714962]\n",
      " [0.50343464 0.49656536]\n",
      " [0.49989625 0.50010375]\n",
      " [0.65563804 0.34436196]\n",
      " [0.72488388 0.27511612]]\n",
      "Tasa de acierto en train: 0.7181467181467182\n",
      "Tasa de acierto en test: 0.7215568862275449\n"
     ]
    },
    {
     "name": "stderr",
     "output_type": "stream",
     "text": [
      "C:\\Users\\juanj\\AppData\\Local\\Packages\\PythonSoftwareFoundation.Python.3.10_qbz5n2kfra8p0\\LocalCache\\local-packages\\Python310\\site-packages\\sklearn\\utils\\validation.py:767: FutureWarning: is_sparse is deprecated and will be removed in a future version. Check `isinstance(dtype, pd.SparseDtype)` instead.\n",
      "  if not hasattr(array, \"sparse\") and array.dtypes.apply(is_sparse).any():\n",
      "C:\\Users\\juanj\\AppData\\Local\\Packages\\PythonSoftwareFoundation.Python.3.10_qbz5n2kfra8p0\\LocalCache\\local-packages\\Python310\\site-packages\\sklearn\\utils\\validation.py:605: FutureWarning: is_sparse is deprecated and will be removed in a future version. Check `isinstance(dtype, pd.SparseDtype)` instead.\n",
      "  if is_sparse(pd_dtype):\n",
      "C:\\Users\\juanj\\AppData\\Local\\Packages\\PythonSoftwareFoundation.Python.3.10_qbz5n2kfra8p0\\LocalCache\\local-packages\\Python310\\site-packages\\sklearn\\utils\\validation.py:614: FutureWarning: is_sparse is deprecated and will be removed in a future version. Check `isinstance(dtype, pd.SparseDtype)` instead.\n",
      "  if is_sparse(pd_dtype) or not is_extension_array_dtype(pd_dtype):\n",
      "C:\\Users\\juanj\\AppData\\Local\\Packages\\PythonSoftwareFoundation.Python.3.10_qbz5n2kfra8p0\\LocalCache\\local-packages\\Python310\\site-packages\\sklearn\\utils\\validation.py:767: FutureWarning: is_sparse is deprecated and will be removed in a future version. Check `isinstance(dtype, pd.SparseDtype)` instead.\n",
      "  if not hasattr(array, \"sparse\") and array.dtypes.apply(is_sparse).any():\n",
      "C:\\Users\\juanj\\AppData\\Local\\Packages\\PythonSoftwareFoundation.Python.3.10_qbz5n2kfra8p0\\LocalCache\\local-packages\\Python310\\site-packages\\sklearn\\utils\\validation.py:605: FutureWarning: is_sparse is deprecated and will be removed in a future version. Check `isinstance(dtype, pd.SparseDtype)` instead.\n",
      "  if is_sparse(pd_dtype):\n",
      "C:\\Users\\juanj\\AppData\\Local\\Packages\\PythonSoftwareFoundation.Python.3.10_qbz5n2kfra8p0\\LocalCache\\local-packages\\Python310\\site-packages\\sklearn\\utils\\validation.py:614: FutureWarning: is_sparse is deprecated and will be removed in a future version. Check `isinstance(dtype, pd.SparseDtype)` instead.\n",
      "  if is_sparse(pd_dtype) or not is_extension_array_dtype(pd_dtype):\n",
      "C:\\Users\\juanj\\AppData\\Local\\Packages\\PythonSoftwareFoundation.Python.3.10_qbz5n2kfra8p0\\LocalCache\\local-packages\\Python310\\site-packages\\sklearn\\utils\\validation.py:767: FutureWarning: is_sparse is deprecated and will be removed in a future version. Check `isinstance(dtype, pd.SparseDtype)` instead.\n",
      "  if not hasattr(array, \"sparse\") and array.dtypes.apply(is_sparse).any():\n",
      "C:\\Users\\juanj\\AppData\\Local\\Packages\\PythonSoftwareFoundation.Python.3.10_qbz5n2kfra8p0\\LocalCache\\local-packages\\Python310\\site-packages\\sklearn\\utils\\validation.py:605: FutureWarning: is_sparse is deprecated and will be removed in a future version. Check `isinstance(dtype, pd.SparseDtype)` instead.\n",
      "  if is_sparse(pd_dtype):\n",
      "C:\\Users\\juanj\\AppData\\Local\\Packages\\PythonSoftwareFoundation.Python.3.10_qbz5n2kfra8p0\\LocalCache\\local-packages\\Python310\\site-packages\\sklearn\\utils\\validation.py:614: FutureWarning: is_sparse is deprecated and will be removed in a future version. Check `isinstance(dtype, pd.SparseDtype)` instead.\n",
      "  if is_sparse(pd_dtype) or not is_extension_array_dtype(pd_dtype):\n",
      "C:\\Users\\juanj\\AppData\\Local\\Packages\\PythonSoftwareFoundation.Python.3.10_qbz5n2kfra8p0\\LocalCache\\local-packages\\Python310\\site-packages\\sklearn\\utils\\validation.py:767: FutureWarning: is_sparse is deprecated and will be removed in a future version. Check `isinstance(dtype, pd.SparseDtype)` instead.\n",
      "  if not hasattr(array, \"sparse\") and array.dtypes.apply(is_sparse).any():\n",
      "C:\\Users\\juanj\\AppData\\Local\\Packages\\PythonSoftwareFoundation.Python.3.10_qbz5n2kfra8p0\\LocalCache\\local-packages\\Python310\\site-packages\\sklearn\\utils\\validation.py:605: FutureWarning: is_sparse is deprecated and will be removed in a future version. Check `isinstance(dtype, pd.SparseDtype)` instead.\n",
      "  if is_sparse(pd_dtype):\n",
      "C:\\Users\\juanj\\AppData\\Local\\Packages\\PythonSoftwareFoundation.Python.3.10_qbz5n2kfra8p0\\LocalCache\\local-packages\\Python310\\site-packages\\sklearn\\utils\\validation.py:614: FutureWarning: is_sparse is deprecated and will be removed in a future version. Check `isinstance(dtype, pd.SparseDtype)` instead.\n",
      "  if is_sparse(pd_dtype) or not is_extension_array_dtype(pd_dtype):\n",
      "C:\\Users\\juanj\\AppData\\Local\\Packages\\PythonSoftwareFoundation.Python.3.10_qbz5n2kfra8p0\\LocalCache\\local-packages\\Python310\\site-packages\\sklearn\\utils\\validation.py:605: FutureWarning: is_sparse is deprecated and will be removed in a future version. Check `isinstance(dtype, pd.SparseDtype)` instead.\n",
      "  if is_sparse(pd_dtype):\n",
      "C:\\Users\\juanj\\AppData\\Local\\Packages\\PythonSoftwareFoundation.Python.3.10_qbz5n2kfra8p0\\LocalCache\\local-packages\\Python310\\site-packages\\sklearn\\utils\\validation.py:614: FutureWarning: is_sparse is deprecated and will be removed in a future version. Check `isinstance(dtype, pd.SparseDtype)` instead.\n",
      "  if is_sparse(pd_dtype) or not is_extension_array_dtype(pd_dtype):\n",
      "C:\\Users\\juanj\\AppData\\Local\\Packages\\PythonSoftwareFoundation.Python.3.10_qbz5n2kfra8p0\\LocalCache\\local-packages\\Python310\\site-packages\\sklearn\\utils\\validation.py:605: FutureWarning: is_sparse is deprecated and will be removed in a future version. Check `isinstance(dtype, pd.SparseDtype)` instead.\n",
      "  if is_sparse(pd_dtype):\n",
      "C:\\Users\\juanj\\AppData\\Local\\Packages\\PythonSoftwareFoundation.Python.3.10_qbz5n2kfra8p0\\LocalCache\\local-packages\\Python310\\site-packages\\sklearn\\utils\\validation.py:614: FutureWarning: is_sparse is deprecated and will be removed in a future version. Check `isinstance(dtype, pd.SparseDtype)` instead.\n",
      "  if is_sparse(pd_dtype) or not is_extension_array_dtype(pd_dtype):\n",
      "C:\\Users\\juanj\\AppData\\Local\\Packages\\PythonSoftwareFoundation.Python.3.10_qbz5n2kfra8p0\\LocalCache\\local-packages\\Python310\\site-packages\\sklearn\\utils\\validation.py:605: FutureWarning: is_sparse is deprecated and will be removed in a future version. Check `isinstance(dtype, pd.SparseDtype)` instead.\n",
      "  if is_sparse(pd_dtype):\n",
      "C:\\Users\\juanj\\AppData\\Local\\Packages\\PythonSoftwareFoundation.Python.3.10_qbz5n2kfra8p0\\LocalCache\\local-packages\\Python310\\site-packages\\sklearn\\utils\\validation.py:614: FutureWarning: is_sparse is deprecated and will be removed in a future version. Check `isinstance(dtype, pd.SparseDtype)` instead.\n",
      "  if is_sparse(pd_dtype) or not is_extension_array_dtype(pd_dtype):\n"
     ]
    }
   ],
   "source": [
    "import sklearn ; from sklearn import linear_model\n",
    "from sklearn.preprocessing import StandardScaler\n",
    "from matplotlib import pyplot\n",
    "\n",
    "xscaler = StandardScaler() ; xtscaler=StandardScaler()\n",
    "modelo= sklearn.linear_model.LogisticRegression()\n",
    "\n",
    "\n",
    "x_train_scaled = xscaler.fit_transform(x_train) ; x_test_scaled = xtscaler.fit_transform(x_test)\n",
    " \n",
    "modelo.fit(x_train_scaled,y_train)\n",
    "\n",
    "print(modelo.coef_) # w0, w1, w2, ... calculados\n",
    "print(modelo.intercept_ )\n",
    "\n",
    "predicciones_01=modelo.predict(x_test_scaled) # Estimación clases\n",
    "print(modelo.predict_proba(x_test_scaled))\n",
    "\n",
    "\n",
    "print('Tasa de acierto en train:',modelo.score(x_train_scaled,y_train) )\n",
    "print('Tasa de acierto en test:',modelo.score(x_test_scaled,y_test) )\n",
    "\n",
    "\n",
    "\n"
   ]
  },
  {
   "cell_type": "markdown",
   "metadata": {},
   "source": [
    "• Si no se especifica en LogisticRegression el parámetro C, este es 1, indicando\n",
    "un grado medio de regularización. Al igual que con la regresión lineal, podemos\n",
    "hacer que sklearn ajuste automáticamente ese parámetro de regularización\n",
    "usando LogisticRegressionCV. ¿Qué obtienes ahora? ¿es mejor que el anterior\n",
    "modelo?"
   ]
  },
  {
   "cell_type": "markdown",
   "metadata": {},
   "source": [
    "# SEMANA 2"
   ]
  },
  {
   "cell_type": "markdown",
   "metadata": {},
   "source": [
    "### Paso 1. Construcción y análisis de un modelo de regresión logística usando la librería statsmodels"
   ]
  },
  {
   "cell_type": "code",
   "execution_count": 60,
   "metadata": {},
   "outputs": [
    {
     "data": {
      "text/plain": [
       "numpy.ndarray"
      ]
     },
     "execution_count": 60,
     "metadata": {},
     "output_type": "execute_result"
    }
   ],
   "source": []
  },
  {
   "cell_type": "markdown",
   "metadata": {},
   "source": [
    "• Construye un modelo de regresión logística usando la librería statsmodels (clase\n",
    "Logit de statsmodels.api). ¿Obtiene los mismos coeficientes que sklearn? ¿Los\n",
    "scores son los mismos?"
   ]
  },
  {
   "cell_type": "code",
   "execution_count": 58,
   "metadata": {},
   "outputs": [
    {
     "name": "stdout",
     "output_type": "stream",
     "text": [
      "                 Generalized Linear Model Regression Results                  \n",
      "==============================================================================\n",
      "Dep. Variable:                      y   No. Observations:                  777\n",
      "Model:                            GLM   Df Residuals:                      751\n",
      "Model Family:                Binomial   Df Model:                           25\n",
      "Link Function:                  Logit   Scale:                          1.0000\n",
      "Method:                          IRLS   Log-Likelihood:                -442.80\n",
      "Date:                Sun, 26 Nov 2023   Deviance:                       885.60\n",
      "Time:                        12:11:23   Pearson chi2:                     862.\n",
      "No. Iterations:                     5   Pseudo R-squ. (CS):             0.2171\n",
      "Covariance Type:            nonrobust                                         \n",
      "==============================================================================\n",
      "                 coef    std err          z      P>|z|      [0.025      0.975]\n",
      "------------------------------------------------------------------------------\n",
      "const         -0.1182      0.083     -1.423      0.155      -0.281       0.045\n",
      "x1           527.3769   1291.606      0.408      0.683   -2004.125    3058.879\n",
      "x2          -527.5565   1291.606     -0.408      0.683   -3059.059    2003.946\n",
      "x3            -0.7004      0.246     -2.842      0.004      -1.183      -0.217\n",
      "x4             0.3782      0.128      2.951      0.003       0.127       0.629\n",
      "x5             0.4314      0.157      2.753      0.006       0.124       0.739\n",
      "x6            -0.3977      0.125     -3.179      0.001      -0.643      -0.152\n",
      "x7            -0.2802      0.148     -1.897      0.058      -0.570       0.009\n",
      "x8            -0.2457      0.120     -2.053      0.040      -0.480      -0.011\n",
      "x9             0.8824      0.191      4.623      0.000       0.508       1.256\n",
      "x10           -0.0353      0.084     -0.419      0.675      -0.201       0.130\n",
      "x11            0.1591      0.159      1.000      0.317      -0.153       0.471\n",
      "x12           -0.1397      0.257     -0.543      0.587      -0.644       0.364\n",
      "x13            0.1067      0.285      0.375      0.708      -0.452       0.665\n",
      "x14            0.0009      0.291      0.003      0.997      -0.569       0.571\n",
      "x15            0.3285      0.208      1.579      0.114      -0.079       0.736\n",
      "x16            0.3231      0.242      1.337      0.181      -0.151       0.797\n",
      "x17            0.1235      0.208      0.594      0.552      -0.284       0.531\n",
      "x18            0.2193      0.241      0.912      0.362      -0.252       0.691\n",
      "x19            0.0242      0.181      0.133      0.894      -0.331       0.379\n",
      "x20            0.1385      0.183      0.757      0.449      -0.220       0.497\n",
      "x21            0.1281      0.148      0.865      0.387      -0.162       0.419\n",
      "x22            0.1094      0.103      1.058      0.290      -0.093       0.312\n",
      "x23           -0.4112      0.164     -2.510      0.012      -0.732      -0.090\n",
      "x24           -0.0183      0.102     -0.181      0.857      -0.217       0.181\n",
      "x25            0.0142      0.097      0.147      0.883      -0.175       0.204\n",
      "==============================================================================\n"
     ]
    }
   ],
   "source": [
    "import statsmodels.api as sm\n",
    "\n",
    "model = sm.GLM(y_train.values, sm.add_constant(x_train_scaled),family=sm.families.Binomial())\n",
    "result = model.fit()\n",
    "result.summary()\n",
    "preds_train= result.predict(sm.add_constant(x_train_scaled))\n",
    "preds_test = result.predict(sm.add_constant(x_test_scaled))\n",
    "preds_test  #probabilidades de pertenecer a la clase positiva\n",
    "\n",
    "print('Coeficientes con statsmodels:',result.params)\n",
    "umbral = 0.5\n",
    "print(result.summary())\n",
    "predicciones_clase_train = (preds_test > umbral).astype(int)\n",
    "\n",
    "\n"
   ]
  },
  {
   "cell_type": "markdown",
   "metadata": {},
   "source": [
    "• Saca por pantalla la información estadística del modelo: desviación estándar de\n",
    "los coeficientes, valores p, intervalos de confianza de los coeficientes. Con una\n",
    "significancia estadística del 95%, ¿qué variables parece que no aportan\n",
    "información?"
   ]
  },
  {
   "cell_type": "markdown",
   "metadata": {},
   "source": [
    "Como para cada constante se está haciendo un contraste de significación, la hipótesis nula (se afirma que la variable no es significativa) se rechaza si el p-valor es menor\n",
    "que el nivel de significación, que es un 5%, y por tanto nos quedamos con la hipótesis alternativa, que afirma que la variable sí es significativa para nuestras predicciones.\n",
    "Por tanto, consideramos que no aportan información aquellas variables con un p-valor<0.05, que son: \n",
    "\n",
    "x3  Total Spend in Months 1 and 2 of 2017 \n",
    "\n",
    "x4  Total SMS Spend\n",
    "\n",
    "x5  Total Data Spend\n",
    "\n",
    "x6  Total Data Consumption\n",
    "\n",
    "x8  Total Onnet spend\n",
    "\n",
    "x9  Total Offnet spend\n",
    "\n",
    "x23 Most Loved Competitor network in Month 2_Uxaa\n"
   ]
  },
  {
   "cell_type": "code",
   "execution_count": 59,
   "metadata": {},
   "outputs": [
    {
     "data": {
      "text/html": [
       "<table class=\"simpletable\">\n",
       "<caption>Generalized Linear Model Regression Results</caption>\n",
       "<tr>\n",
       "  <th>Dep. Variable:</th>           <td>y</td>        <th>  No. Observations:  </th>  <td>   777</td> \n",
       "</tr>\n",
       "<tr>\n",
       "  <th>Model:</th>                  <td>GLM</td>       <th>  Df Residuals:      </th>  <td>   751</td> \n",
       "</tr>\n",
       "<tr>\n",
       "  <th>Model Family:</th>        <td>Binomial</td>     <th>  Df Model:          </th>  <td>    25</td> \n",
       "</tr>\n",
       "<tr>\n",
       "  <th>Link Function:</th>         <td>Logit</td>      <th>  Scale:             </th> <td>  1.0000</td>\n",
       "</tr>\n",
       "<tr>\n",
       "  <th>Method:</th>                <td>IRLS</td>       <th>  Log-Likelihood:    </th> <td> -442.80</td>\n",
       "</tr>\n",
       "<tr>\n",
       "  <th>Date:</th>            <td>Sun, 26 Nov 2023</td> <th>  Deviance:          </th> <td>  885.60</td>\n",
       "</tr>\n",
       "<tr>\n",
       "  <th>Time:</th>                <td>12:14:32</td>     <th>  Pearson chi2:      </th>  <td>  862.</td> \n",
       "</tr>\n",
       "<tr>\n",
       "  <th>No. Iterations:</th>          <td>5</td>        <th>  Pseudo R-squ. (CS):</th>  <td>0.2171</td> \n",
       "</tr>\n",
       "<tr>\n",
       "  <th>Covariance Type:</th>     <td>nonrobust</td>    <th>                     </th>     <td> </td>   \n",
       "</tr>\n",
       "</table>\n",
       "<table class=\"simpletable\">\n",
       "<tr>\n",
       "    <td></td>       <th>coef</th>     <th>std err</th>      <th>z</th>      <th>P>|z|</th>  <th>[0.025</th>    <th>0.975]</th>  \n",
       "</tr>\n",
       "<tr>\n",
       "  <th>const</th> <td>   -0.1182</td> <td>    0.083</td> <td>   -1.423</td> <td> 0.155</td> <td>   -0.281</td> <td>    0.045</td>\n",
       "</tr>\n",
       "<tr>\n",
       "  <th>x1</th>    <td>  527.3769</td> <td> 1291.606</td> <td>    0.408</td> <td> 0.683</td> <td>-2004.125</td> <td> 3058.879</td>\n",
       "</tr>\n",
       "<tr>\n",
       "  <th>x2</th>    <td> -527.5565</td> <td> 1291.606</td> <td>   -0.408</td> <td> 0.683</td> <td>-3059.059</td> <td> 2003.946</td>\n",
       "</tr>\n",
       "<tr>\n",
       "  <th>x3</th>    <td>   -0.7004</td> <td>    0.246</td> <td>   -2.842</td> <td> 0.004</td> <td>   -1.183</td> <td>   -0.217</td>\n",
       "</tr>\n",
       "<tr>\n",
       "  <th>x4</th>    <td>    0.3782</td> <td>    0.128</td> <td>    2.951</td> <td> 0.003</td> <td>    0.127</td> <td>    0.629</td>\n",
       "</tr>\n",
       "<tr>\n",
       "  <th>x5</th>    <td>    0.4314</td> <td>    0.157</td> <td>    2.753</td> <td> 0.006</td> <td>    0.124</td> <td>    0.739</td>\n",
       "</tr>\n",
       "<tr>\n",
       "  <th>x6</th>    <td>   -0.3977</td> <td>    0.125</td> <td>   -3.179</td> <td> 0.001</td> <td>   -0.643</td> <td>   -0.152</td>\n",
       "</tr>\n",
       "<tr>\n",
       "  <th>x7</th>    <td>   -0.2802</td> <td>    0.148</td> <td>   -1.897</td> <td> 0.058</td> <td>   -0.570</td> <td>    0.009</td>\n",
       "</tr>\n",
       "<tr>\n",
       "  <th>x8</th>    <td>   -0.2457</td> <td>    0.120</td> <td>   -2.053</td> <td> 0.040</td> <td>   -0.480</td> <td>   -0.011</td>\n",
       "</tr>\n",
       "<tr>\n",
       "  <th>x9</th>    <td>    0.8824</td> <td>    0.191</td> <td>    4.623</td> <td> 0.000</td> <td>    0.508</td> <td>    1.256</td>\n",
       "</tr>\n",
       "<tr>\n",
       "  <th>x10</th>   <td>   -0.0353</td> <td>    0.084</td> <td>   -0.419</td> <td> 0.675</td> <td>   -0.201</td> <td>    0.130</td>\n",
       "</tr>\n",
       "<tr>\n",
       "  <th>x11</th>   <td>    0.1591</td> <td>    0.159</td> <td>    1.000</td> <td> 0.317</td> <td>   -0.153</td> <td>    0.471</td>\n",
       "</tr>\n",
       "<tr>\n",
       "  <th>x12</th>   <td>   -0.1397</td> <td>    0.257</td> <td>   -0.543</td> <td> 0.587</td> <td>   -0.644</td> <td>    0.364</td>\n",
       "</tr>\n",
       "<tr>\n",
       "  <th>x13</th>   <td>    0.1067</td> <td>    0.285</td> <td>    0.375</td> <td> 0.708</td> <td>   -0.452</td> <td>    0.665</td>\n",
       "</tr>\n",
       "<tr>\n",
       "  <th>x14</th>   <td>    0.0009</td> <td>    0.291</td> <td>    0.003</td> <td> 0.997</td> <td>   -0.569</td> <td>    0.571</td>\n",
       "</tr>\n",
       "<tr>\n",
       "  <th>x15</th>   <td>    0.3285</td> <td>    0.208</td> <td>    1.579</td> <td> 0.114</td> <td>   -0.079</td> <td>    0.736</td>\n",
       "</tr>\n",
       "<tr>\n",
       "  <th>x16</th>   <td>    0.3231</td> <td>    0.242</td> <td>    1.337</td> <td> 0.181</td> <td>   -0.151</td> <td>    0.797</td>\n",
       "</tr>\n",
       "<tr>\n",
       "  <th>x17</th>   <td>    0.1235</td> <td>    0.208</td> <td>    0.594</td> <td> 0.552</td> <td>   -0.284</td> <td>    0.531</td>\n",
       "</tr>\n",
       "<tr>\n",
       "  <th>x18</th>   <td>    0.2193</td> <td>    0.241</td> <td>    0.912</td> <td> 0.362</td> <td>   -0.252</td> <td>    0.691</td>\n",
       "</tr>\n",
       "<tr>\n",
       "  <th>x19</th>   <td>    0.0242</td> <td>    0.181</td> <td>    0.133</td> <td> 0.894</td> <td>   -0.331</td> <td>    0.379</td>\n",
       "</tr>\n",
       "<tr>\n",
       "  <th>x20</th>   <td>    0.1385</td> <td>    0.183</td> <td>    0.757</td> <td> 0.449</td> <td>   -0.220</td> <td>    0.497</td>\n",
       "</tr>\n",
       "<tr>\n",
       "  <th>x21</th>   <td>    0.1281</td> <td>    0.148</td> <td>    0.865</td> <td> 0.387</td> <td>   -0.162</td> <td>    0.419</td>\n",
       "</tr>\n",
       "<tr>\n",
       "  <th>x22</th>   <td>    0.1094</td> <td>    0.103</td> <td>    1.058</td> <td> 0.290</td> <td>   -0.093</td> <td>    0.312</td>\n",
       "</tr>\n",
       "<tr>\n",
       "  <th>x23</th>   <td>   -0.4112</td> <td>    0.164</td> <td>   -2.510</td> <td> 0.012</td> <td>   -0.732</td> <td>   -0.090</td>\n",
       "</tr>\n",
       "<tr>\n",
       "  <th>x24</th>   <td>   -0.0183</td> <td>    0.102</td> <td>   -0.181</td> <td> 0.857</td> <td>   -0.217</td> <td>    0.181</td>\n",
       "</tr>\n",
       "<tr>\n",
       "  <th>x25</th>   <td>    0.0142</td> <td>    0.097</td> <td>    0.147</td> <td> 0.883</td> <td>   -0.175</td> <td>    0.204</td>\n",
       "</tr>\n",
       "</table>"
      ],
      "text/latex": [
       "\\begin{center}\n",
       "\\begin{tabular}{lclc}\n",
       "\\toprule\n",
       "\\textbf{Dep. Variable:}   &        y         & \\textbf{  No. Observations:  } &      777    \\\\\n",
       "\\textbf{Model:}           &       GLM        & \\textbf{  Df Residuals:      } &      751    \\\\\n",
       "\\textbf{Model Family:}    &     Binomial     & \\textbf{  Df Model:          } &       25    \\\\\n",
       "\\textbf{Link Function:}   &      Logit       & \\textbf{  Scale:             } &    1.0000   \\\\\n",
       "\\textbf{Method:}          &       IRLS       & \\textbf{  Log-Likelihood:    } &   -442.80   \\\\\n",
       "\\textbf{Date:}            & Sun, 26 Nov 2023 & \\textbf{  Deviance:          } &    885.60   \\\\\n",
       "\\textbf{Time:}            &     12:14:32     & \\textbf{  Pearson chi2:      } &     862.    \\\\\n",
       "\\textbf{No. Iterations:}  &        5         & \\textbf{  Pseudo R-squ. (CS):} &   0.2171    \\\\\n",
       "\\textbf{Covariance Type:} &    nonrobust     & \\textbf{                     } &             \\\\\n",
       "\\bottomrule\n",
       "\\end{tabular}\n",
       "\\begin{tabular}{lcccccc}\n",
       "               & \\textbf{coef} & \\textbf{std err} & \\textbf{z} & \\textbf{P$> |$z$|$} & \\textbf{[0.025} & \\textbf{0.975]}  \\\\\n",
       "\\midrule\n",
       "\\textbf{const} &      -0.1182  &        0.083     &    -1.423  &         0.155        &       -0.281    &        0.045     \\\\\n",
       "\\textbf{x1}    &     527.3769  &     1291.606     &     0.408  &         0.683        &    -2004.125    &     3058.879     \\\\\n",
       "\\textbf{x2}    &    -527.5565  &     1291.606     &    -0.408  &         0.683        &    -3059.059    &     2003.946     \\\\\n",
       "\\textbf{x3}    &      -0.7004  &        0.246     &    -2.842  &         0.004        &       -1.183    &       -0.217     \\\\\n",
       "\\textbf{x4}    &       0.3782  &        0.128     &     2.951  &         0.003        &        0.127    &        0.629     \\\\\n",
       "\\textbf{x5}    &       0.4314  &        0.157     &     2.753  &         0.006        &        0.124    &        0.739     \\\\\n",
       "\\textbf{x6}    &      -0.3977  &        0.125     &    -3.179  &         0.001        &       -0.643    &       -0.152     \\\\\n",
       "\\textbf{x7}    &      -0.2802  &        0.148     &    -1.897  &         0.058        &       -0.570    &        0.009     \\\\\n",
       "\\textbf{x8}    &      -0.2457  &        0.120     &    -2.053  &         0.040        &       -0.480    &       -0.011     \\\\\n",
       "\\textbf{x9}    &       0.8824  &        0.191     &     4.623  &         0.000        &        0.508    &        1.256     \\\\\n",
       "\\textbf{x10}   &      -0.0353  &        0.084     &    -0.419  &         0.675        &       -0.201    &        0.130     \\\\\n",
       "\\textbf{x11}   &       0.1591  &        0.159     &     1.000  &         0.317        &       -0.153    &        0.471     \\\\\n",
       "\\textbf{x12}   &      -0.1397  &        0.257     &    -0.543  &         0.587        &       -0.644    &        0.364     \\\\\n",
       "\\textbf{x13}   &       0.1067  &        0.285     &     0.375  &         0.708        &       -0.452    &        0.665     \\\\\n",
       "\\textbf{x14}   &       0.0009  &        0.291     &     0.003  &         0.997        &       -0.569    &        0.571     \\\\\n",
       "\\textbf{x15}   &       0.3285  &        0.208     &     1.579  &         0.114        &       -0.079    &        0.736     \\\\\n",
       "\\textbf{x16}   &       0.3231  &        0.242     &     1.337  &         0.181        &       -0.151    &        0.797     \\\\\n",
       "\\textbf{x17}   &       0.1235  &        0.208     &     0.594  &         0.552        &       -0.284    &        0.531     \\\\\n",
       "\\textbf{x18}   &       0.2193  &        0.241     &     0.912  &         0.362        &       -0.252    &        0.691     \\\\\n",
       "\\textbf{x19}   &       0.0242  &        0.181     &     0.133  &         0.894        &       -0.331    &        0.379     \\\\\n",
       "\\textbf{x20}   &       0.1385  &        0.183     &     0.757  &         0.449        &       -0.220    &        0.497     \\\\\n",
       "\\textbf{x21}   &       0.1281  &        0.148     &     0.865  &         0.387        &       -0.162    &        0.419     \\\\\n",
       "\\textbf{x22}   &       0.1094  &        0.103     &     1.058  &         0.290        &       -0.093    &        0.312     \\\\\n",
       "\\textbf{x23}   &      -0.4112  &        0.164     &    -2.510  &         0.012        &       -0.732    &       -0.090     \\\\\n",
       "\\textbf{x24}   &      -0.0183  &        0.102     &    -0.181  &         0.857        &       -0.217    &        0.181     \\\\\n",
       "\\textbf{x25}   &       0.0142  &        0.097     &     0.147  &         0.883        &       -0.175    &        0.204     \\\\\n",
       "\\bottomrule\n",
       "\\end{tabular}\n",
       "%\\caption{Generalized Linear Model Regression Results}\n",
       "\\end{center}"
      ],
      "text/plain": [
       "<class 'statsmodels.iolib.summary.Summary'>\n",
       "\"\"\"\n",
       "                 Generalized Linear Model Regression Results                  \n",
       "==============================================================================\n",
       "Dep. Variable:                      y   No. Observations:                  777\n",
       "Model:                            GLM   Df Residuals:                      751\n",
       "Model Family:                Binomial   Df Model:                           25\n",
       "Link Function:                  Logit   Scale:                          1.0000\n",
       "Method:                          IRLS   Log-Likelihood:                -442.80\n",
       "Date:                Sun, 26 Nov 2023   Deviance:                       885.60\n",
       "Time:                        12:14:32   Pearson chi2:                     862.\n",
       "No. Iterations:                     5   Pseudo R-squ. (CS):             0.2171\n",
       "Covariance Type:            nonrobust                                         \n",
       "==============================================================================\n",
       "                 coef    std err          z      P>|z|      [0.025      0.975]\n",
       "------------------------------------------------------------------------------\n",
       "const         -0.1182      0.083     -1.423      0.155      -0.281       0.045\n",
       "x1           527.3769   1291.606      0.408      0.683   -2004.125    3058.879\n",
       "x2          -527.5565   1291.606     -0.408      0.683   -3059.059    2003.946\n",
       "x3            -0.7004      0.246     -2.842      0.004      -1.183      -0.217\n",
       "x4             0.3782      0.128      2.951      0.003       0.127       0.629\n",
       "x5             0.4314      0.157      2.753      0.006       0.124       0.739\n",
       "x6            -0.3977      0.125     -3.179      0.001      -0.643      -0.152\n",
       "x7            -0.2802      0.148     -1.897      0.058      -0.570       0.009\n",
       "x8            -0.2457      0.120     -2.053      0.040      -0.480      -0.011\n",
       "x9             0.8824      0.191      4.623      0.000       0.508       1.256\n",
       "x10           -0.0353      0.084     -0.419      0.675      -0.201       0.130\n",
       "x11            0.1591      0.159      1.000      0.317      -0.153       0.471\n",
       "x12           -0.1397      0.257     -0.543      0.587      -0.644       0.364\n",
       "x13            0.1067      0.285      0.375      0.708      -0.452       0.665\n",
       "x14            0.0009      0.291      0.003      0.997      -0.569       0.571\n",
       "x15            0.3285      0.208      1.579      0.114      -0.079       0.736\n",
       "x16            0.3231      0.242      1.337      0.181      -0.151       0.797\n",
       "x17            0.1235      0.208      0.594      0.552      -0.284       0.531\n",
       "x18            0.2193      0.241      0.912      0.362      -0.252       0.691\n",
       "x19            0.0242      0.181      0.133      0.894      -0.331       0.379\n",
       "x20            0.1385      0.183      0.757      0.449      -0.220       0.497\n",
       "x21            0.1281      0.148      0.865      0.387      -0.162       0.419\n",
       "x22            0.1094      0.103      1.058      0.290      -0.093       0.312\n",
       "x23           -0.4112      0.164     -2.510      0.012      -0.732      -0.090\n",
       "x24           -0.0183      0.102     -0.181      0.857      -0.217       0.181\n",
       "x25            0.0142      0.097      0.147      0.883      -0.175       0.204\n",
       "==============================================================================\n",
       "\"\"\""
      ]
     },
     "execution_count": 59,
     "metadata": {},
     "output_type": "execute_result"
    }
   ],
   "source": [
    "result.summary()"
   ]
  },
  {
   "cell_type": "markdown",
   "metadata": {},
   "source": [
    "### Paso 2: Selección de variables con librería statsmodels"
   ]
  },
  {
   "cell_type": "markdown",
   "metadata": {},
   "source": [
    "• Implementa un algoritmo similar al que implementaste en la práctica 2 para la\n",
    "selección de variables con statsmodels:\n",
    "1. Construye modelo con variables cols\n",
    "2. Detecta qué variables parece que no aportan información de acuerdo al\n",
    "criterio de los valores P. Si no encuentras ninguna, fin del algoritmo. Si\n",
    "encuentras una o varias, toma la que tenga un valor P mayor y quítala de\n",
    "cols. Vuelve a 1\n"
   ]
  },
  {
   "cell_type": "markdown",
   "metadata": {},
   "source": []
  },
  {
   "cell_type": "code",
   "execution_count": null,
   "metadata": {},
   "outputs": [],
   "source": []
  },
  {
   "cell_type": "markdown",
   "metadata": {},
   "source": [
    "• ¿Con cuántas variables te quedas usando este algoritmo? ¿Qué scores\n",
    "obtienes? ¿Es mejor que el modelo sin seleccionar variables?\n",
    "\n"
   ]
  },
  {
   "cell_type": "markdown",
   "metadata": {},
   "source": []
  },
  {
   "cell_type": "code",
   "execution_count": null,
   "metadata": {},
   "outputs": [],
   "source": []
  }
 ],
 "metadata": {
  "kernelspec": {
   "display_name": "Python 3",
   "language": "python",
   "name": "python3"
  },
  "language_info": {
   "codemirror_mode": {
    "name": "ipython",
    "version": 3
   },
   "file_extension": ".py",
   "mimetype": "text/x-python",
   "name": "python",
   "nbconvert_exporter": "python",
   "pygments_lexer": "ipython3",
   "version": "3.10.11"
  }
 },
 "nbformat": 4,
 "nbformat_minor": 2
}
