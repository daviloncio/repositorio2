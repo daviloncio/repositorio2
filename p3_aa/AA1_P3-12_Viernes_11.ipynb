{
 "cells": [
  {
   "cell_type": "markdown",
   "metadata": {},
   "source": [
    "David López Valdivia y Jimena de Prado González"
   ]
  },
  {
   "cell_type": "markdown",
   "metadata": {},
   "source": [
    "# SEMANA 1"
   ]
  },
  {
   "cell_type": "markdown",
   "metadata": {},
   "source": [
    "- Empezamos importando las librerías que vamos a usar y el dataset"
   ]
  },
  {
   "cell_type": "code",
   "execution_count": 402,
   "metadata": {},
   "outputs": [],
   "source": [
    "import numpy as np, pandas as pd, seaborn as sns\n",
    "import scipy\n",
    "from matplotlib import pyplot as plt\n",
    "pd.set_option.display_maxcolumns = 100\n",
    "data = pd.read_csv('fuga_clientes_empresa_telefonica_construccion.csv')\n",
    "data_explot=pd.read_csv('fuga_clientes_empresa_telefonica_construccion.csv')\n",
    "\n",
    "\n"
   ]
  },
  {
   "cell_type": "markdown",
   "metadata": {},
   "source": [
    "## 1.1 Limpieza del dataset"
   ]
  },
  {
   "cell_type": "markdown",
   "metadata": {},
   "source": [
    "- Vamos a empezar indicando que variables tienen valores nulos y cuáles tienen outliers para facilitar el preprocesado. \n",
    "\n",
    "Haremos la partición de train y test al final del preprocesado para evitar más lineas de las necesarias, ya que todas las modificaciones que aplicamos son válidas para ambos conjuntos. Una vez creemos test haremos algún cambio adicional sobre este, como borrar Churn Status."
   ]
  },
  {
   "cell_type": "markdown",
   "metadata": {},
   "source": [
    "#### <span style='color:steelblue'> Valores nulos: </span>"
   ]
  },
  {
   "cell_type": "code",
   "execution_count": 403,
   "metadata": {},
   "outputs": [
    {
     "data": {
      "text/plain": [
       "Customer ID                                  0\n",
       "network_age                                  0\n",
       "Customer tenure in month                     0\n",
       "Total Spend in Months 1 and 2 of 2017        0\n",
       "Total SMS Spend                              0\n",
       "Total Data Spend                             0\n",
       "Total Data Consumption                       0\n",
       "Total Unique Calls                           0\n",
       "Total Onnet spend                            0\n",
       "Total Offnet spend                           0\n",
       "Total Call centre complaint calls            0\n",
       "Network type subscription in Month 1         0\n",
       "Network type subscription in Month 2        22\n",
       "Most Loved Competitor network in Month 1     1\n",
       "Most Loved Competitor network in Month 2     1\n",
       "Churn Status                                 0\n",
       "dtype: int64"
      ]
     },
     "execution_count": 403,
     "metadata": {},
     "output_type": "execute_result"
    }
   ],
   "source": [
    "data.isnull().sum()"
   ]
  },
  {
   "cell_type": "markdown",
   "metadata": {},
   "source": [
    "#### <span style='color:steelblue'> Outliers: </span>"
   ]
  },
  {
   "cell_type": "code",
   "execution_count": 404,
   "metadata": {},
   "outputs": [
    {
     "data": {
      "text/plain": [
       "network_age                                5\n",
       "Customer tenure in month                   5\n",
       "Total Spend in Months 1 and 2 of 2017     62\n",
       "Total SMS Spend                          111\n",
       "Total Data Spend                         114\n",
       "Total Data Consumption                   157\n",
       "Total Unique Calls                       101\n",
       "Total Onnet spend                        120\n",
       "Total Offnet spend                       145\n",
       "Total Call centre complaint calls        124\n",
       "Churn Status                               0\n",
       "dtype: int64"
      ]
     },
     "execution_count": 404,
     "metadata": {},
     "output_type": "execute_result"
    }
   ],
   "source": [
    "#Función para detectar outliers:\n",
    "def is_outlier_IQR(df):\n",
    "    Q1=df.quantile(0.25)\n",
    "    Q3=df.quantile(0.75)\n",
    "    IQR = Q3-Q1\n",
    "    return (df<(Q1-1.5*IQR)) | (df>(Q3+1.5*IQR))\n",
    "#Tomamos solo las variables numéricas\n",
    "data_numericos = data.loc[:, data.dtypes != object]\n",
    "\n",
    "is_outlier_IQR(data_numericos).sum()"
   ]
  },
  {
   "cell_type": "markdown",
   "metadata": {},
   "source": [
    "### a) Customer ID"
   ]
  },
  {
   "cell_type": "markdown",
   "metadata": {},
   "source": [
    "- Esta variable representa los ID de todos los clientes, veamos sus valores únicos para comprobarlo:"
   ]
  },
  {
   "cell_type": "code",
   "execution_count": 405,
   "metadata": {},
   "outputs": [
    {
     "data": {
      "text/plain": [
       "array(['ADF0039', 'ADF0040', 'ADF0041', ..., 'ADF1998', 'ADF1999',\n",
       "       'ADF2000'], dtype=object)"
      ]
     },
     "execution_count": 405,
     "metadata": {},
     "output_type": "execute_result"
    }
   ],
   "source": [
    "data['Customer ID'].unique()"
   ]
  },
  {
   "cell_type": "markdown",
   "metadata": {},
   "source": [
    "- Como esta variable no es relevante podemos eliminarla"
   ]
  },
  {
   "cell_type": "code",
   "execution_count": 406,
   "metadata": {},
   "outputs": [],
   "source": [
    "data= data.drop('Customer ID', axis = 1)"
   ]
  },
  {
   "cell_type": "markdown",
   "metadata": {},
   "source": [
    "### b) network_age"
   ]
  },
  {
   "cell_type": "markdown",
   "metadata": {},
   "source": [
    "Esta variable numérica informa sobre ...... .Nos encontramos 5 outliers"
   ]
  },
  {
   "cell_type": "code",
   "execution_count": 407,
   "metadata": {},
   "outputs": [
    {
     "name": "stdout",
     "output_type": "stream",
     "text": [
      "Número de outliers: 5\n",
      "Numero de valores nulos: 0\n"
     ]
    }
   ],
   "source": [
    "print('Número de outliers:',is_outlier_IQR(data['network_age']).sum())\n",
    "print('Numero de valores nulos:',data['network_age'].isnull().sum())"
   ]
  },
  {
   "cell_type": "code",
   "execution_count": 408,
   "metadata": {},
   "outputs": [
    {
     "data": {
      "image/png": "[encoded data removed]",
      "text/plain": [
       "<Figure size 640x480 with 1 Axes>"
      ]
     },
     "metadata": {},
     "output_type": "display_data"
    }
   ],
   "source": [
    "fig, ax = plt.subplots(1, 1) \n",
    "ax.hist(data['network_age'],color = \"green\") \n",
    "  \n",
    "ax.set_title(\"network_age\")\n",
    "plt.grid()\n",
    "plt.show()"
   ]
  },
  {
   "cell_type": "code",
   "execution_count": null,
   "metadata": {},
   "outputs": [],
   "source": []
  },
  {
   "cell_type": "markdown",
   "metadata": {},
   "source": [
    "### c) Customer tenure in month"
   ]
  },
  {
   "cell_type": "code",
   "execution_count": 409,
   "metadata": {},
   "outputs": [
    {
     "data": {
      "text/plain": [
       "Customer tenure in month\n",
       "3.90      7\n",
       "3.67      6\n",
       "4.17      5\n",
       "4.00      4\n",
       "3.57      4\n",
       "         ..\n",
       "20.87     1\n",
       "107.10    1\n",
       "23.97     1\n",
       "73.83     1\n",
       "31.23     1\n",
       "Name: count, Length: 883, dtype: int64"
      ]
     },
     "execution_count": 409,
     "metadata": {},
     "output_type": "execute_result"
    }
   ],
   "source": [
    "data['Customer tenure in month'].value_counts()"
   ]
  },
  {
   "cell_type": "markdown",
   "metadata": {},
   "source": [
    "- Por sus valores se puede deducir que se trata de una variable numérica representa los meses que lleva un cliente en la compañía"
   ]
  },
  {
   "cell_type": "markdown",
   "metadata": {},
   "source": [
    "- Recordemos que esta columna tenía 5 outliers, veamos cuales son sus valores"
   ]
  },
  {
   "cell_type": "code",
   "execution_count": 410,
   "metadata": {},
   "outputs": [
    {
     "data": {
      "text/plain": [
       "8      177.80\n",
       "172    172.60\n",
       "208    181.70\n",
       "353    172.70\n",
       "484    179.13\n",
       "Name: Customer tenure in month, dtype: float64"
      ]
     },
     "execution_count": 410,
     "metadata": {},
     "output_type": "execute_result"
    }
   ],
   "source": [
    "outliermth = data['Customer tenure in month'][is_outlier_IQR(data['Customer tenure in month'])]\n",
    "outliermth"
   ]
  },
  {
   "cell_type": "markdown",
   "metadata": {},
   "source": [
    "- Consideremos la posibilidad de que pueda tener una distribución de cola pesada"
   ]
  },
  {
   "cell_type": "code",
   "execution_count": 411,
   "metadata": {},
   "outputs": [
    {
     "data": {
      "image/png": "[encoded data removed]",
      "text/plain": [
       "<Figure size 640x480 with 1 Axes>"
      ]
     },
     "metadata": {},
     "output_type": "display_data"
    }
   ],
   "source": [
    "fig, ax = plt.subplots(1, 1) \n",
    "ax.hist(data['Customer tenure in month'],color = \"purple\") \n",
    "  \n",
    "ax.set_title(\"Customer tenure in month\")\n",
    "plt.grid()\n",
    "plt.show()"
   ]
  },
  {
   "cell_type": "markdown",
   "metadata": {},
   "source": [
    "- Como así es, realicemos un ajuste logarítmico para ver si dejamos de tener outliers"
   ]
  },
  {
   "cell_type": "code",
   "execution_count": 412,
   "metadata": {},
   "outputs": [],
   "source": [
    "log = np.log10(data['Customer tenure in month']+1)"
   ]
  },
  {
   "cell_type": "code",
   "execution_count": 413,
   "metadata": {},
   "outputs": [
    {
     "data": {
      "image/png": "[encoded data removed]",
      "text/plain": [
       "<Figure size 640x480 with 1 Axes>"
      ]
     },
     "metadata": {},
     "output_type": "display_data"
    }
   ],
   "source": [
    "fig, ax = plt.subplots(1, 1) \n",
    "ax.hist(log,color = \"purple\") \n",
    "  \n",
    "ax.set_title(\"Customer tenure in month logarítmico\")\n",
    "plt.grid()\n",
    "plt.show()"
   ]
  },
  {
   "cell_type": "markdown",
   "metadata": {},
   "source": [
    "### d) Total Spend in Months 1 and 2 of 2017"
   ]
  },
  {
   "cell_type": "code",
   "execution_count": 414,
   "metadata": {},
   "outputs": [
    {
     "name": "stdout",
     "output_type": "stream",
     "text": [
      "Número de outliers: 5\n",
      "Número de valores nulos: 0\n"
     ]
    }
   ],
   "source": [
    "print('Número de outliers:',is_outlier_IQR(data['network_age']).sum())\n",
    "print('Número de valores nulos:',data['network_age'].isnull().sum())"
   ]
  },
  {
   "cell_type": "markdown",
   "metadata": {},
   "source": [
    "Esta variable nos hablar de"
   ]
  },
  {
   "cell_type": "markdown",
   "metadata": {},
   "source": [
    "### e) Total SMS Spend"
   ]
  },
  {
   "cell_type": "code",
   "execution_count": 415,
   "metadata": {},
   "outputs": [
    {
     "data": {
      "text/plain": [
       "Total SMS Spend\n",
       "0.00     163\n",
       "1.75      42\n",
       "3.50      20\n",
       "0.01      19\n",
       "5.25      18\n",
       "        ... \n",
       "56.72      1\n",
       "35.32      1\n",
       "26.18      1\n",
       "9.49       1\n",
       "32.40      1\n",
       "Name: count, Length: 601, dtype: int64"
      ]
     },
     "execution_count": 415,
     "metadata": {},
     "output_type": "execute_result"
    }
   ],
   "source": [
    "data['Total SMS Spend'].value_counts()"
   ]
  },
  {
   "cell_type": "markdown",
   "metadata": {},
   "source": [
    "- Por estos valores podemos deducir que se trata del gasto en mensajes SMS de cada cliente "
   ]
  },
  {
   "cell_type": "code",
   "execution_count": 416,
   "metadata": {},
   "outputs": [
    {
     "data": {
      "image/png": "[encoded data removed]",
      "text/plain": [
       "<Figure size 640x480 with 1 Axes>"
      ]
     },
     "metadata": {},
     "output_type": "display_data"
    }
   ],
   "source": [
    "fig, ax = plt.subplots(1, 1) \n",
    "ax.hist(data['Total SMS Spend'],color = \"violet\") \n",
    "  \n",
    "ax.set_title('Total gastado en SMS')\n",
    "plt.grid()\n",
    "plt.show()"
   ]
  },
  {
   "cell_type": "markdown",
   "metadata": {},
   "source": [
    "- Veamos si con una distribución logarítmica podemos tartar el problema de los outliers"
   ]
  },
  {
   "cell_type": "code",
   "execution_count": 417,
   "metadata": {},
   "outputs": [
    {
     "data": {
      "image/png": "[encoded data removed]",
      "text/plain": [
       "<Figure size 640x480 with 1 Axes>"
      ]
     },
     "metadata": {},
     "output_type": "display_data"
    }
   ],
   "source": [
    "fig, ax = plt.subplots(1, 1) \n",
    "ax.hist(np.log10(data['Total SMS Spend']+1) )\n",
    "  \n",
    "ax.set_title('Total gastado en SMS')\n",
    "plt.grid()\n",
    "plt.show()"
   ]
  },
  {
   "cell_type": "markdown",
   "metadata": {},
   "source": [
    "### f) Total Data Spend"
   ]
  },
  {
   "cell_type": "markdown",
   "metadata": {},
   "source": [
    "### g) Total Data Consumption"
   ]
  },
  {
   "cell_type": "code",
   "execution_count": 418,
   "metadata": {},
   "outputs": [
    {
     "data": {
      "text/plain": [
       "array([1.47383000e+01, 8.34497342e+07, 7.11599229e+04, ...,\n",
       "       1.31274587e+05, 2.16600627e+06, 1.82811500e+02])"
      ]
     },
     "execution_count": 418,
     "metadata": {},
     "output_type": "execute_result"
    }
   ],
   "source": [
    "data['Total Data Consumption'].unique()"
   ]
  },
  {
   "cell_type": "markdown",
   "metadata": {},
   "source": [
    "** Es numérica la dejamos de momento"
   ]
  },
  {
   "cell_type": "markdown",
   "metadata": {},
   "source": [
    "### h) Total Unique Calls"
   ]
  },
  {
   "cell_type": "markdown",
   "metadata": {},
   "source": [
    "### i) Total Onnet spend"
   ]
  },
  {
   "cell_type": "code",
   "execution_count": 419,
   "metadata": {},
   "outputs": [
    {
     "data": {
      "text/plain": [
       "array([  2940,      0,    131,    696,  18635,   5532,    600,   2892,\n",
       "        15225,   1428,   2155,    120,  10578,  17184,  10305,   1470,\n",
       "        13980,    885,   7260,   2832,     60,    480,   1024,    906,\n",
       "          228,     24,    168,    888,  38778,  10255,    486,  24828,\n",
       "         1254,  31601,   2710,    502,  11478,   1908,     12,  75699,\n",
       "          564,   3024,  10516,   5080,    275,  24450,   5271,  11378,\n",
       "          813,  18100,   4744,    992,   1092,   5713,    804,   4338,\n",
       "          558,   1304,  49351,   5568,  10008,    324,  55390,   5287,\n",
       "         1506,   2799,   9395,   1829,   5472,  71208,   3387,  12324,\n",
       "          287,    216,  48720,   2850,    970,  16087,    753,  64872,\n",
       "         4131,    526,   4584,   4853,   8928,   2421,    738,   1243,\n",
       "         4569,   5634,    570,    132,   7608,  18603,   9666,   2700,\n",
       "         2268,   3452,   4434,   8856,  17408,   2634,  10137,   1248,\n",
       "        18157,    610,  15228,   7852,  37401,   4260,   8608,    240,\n",
       "         1836,   3786,   5844,   3000,   3513,  20376,  17496,   3819,\n",
       "         3504,    954,   1734,  25356,    684,   2488,   4386,   2571,\n",
       "         6678,   3012,  18714,  41538,    348,   8227,   5873,  18144,\n",
       "         5478,   1932,   4595,   2514,   2400,   6199,    622,  10267,\n",
       "         3172,   5856,   7644,   3454,   2640,  24774,   2069,   1746,\n",
       "        57341,   1626,   1032,  15406,   4936,  34495,  24636,   1296,\n",
       "         7465,   8979,  10044,   3526,  18510,  22188,   2572,    859,\n",
       "        99804,   2325,    144,  16540,  11485,  24468,   4032,  14752,\n",
       "         6250,  17862,   7866,    360,    980,    114,  29832,   9504,\n",
       "          239,  20951,   7980,   5323,    726,   7290,   5166,   7155,\n",
       "         3672,   3036,   4344,   3732,  16709,    874,  20568,   6201,\n",
       "        24903,   3612,  30120,  10542,    318,  19687,  13155,   1231,\n",
       "         3167,    264,  20034,   9279,  21177,   6036,    801,  18048,\n",
       "        36480,  16650,   3384,   1949,  10971,   2350,   4996,    546,\n",
       "        10035,   1095,   2737,  15888,    108,   9843,   9096,  30142,\n",
       "         1996,   1548,   2367,    936,  12432,   1608,  41184,    798,\n",
       "         1494,   7683,   2379,    741,   4650,    378,  21714,   2112,\n",
       "         6569,   1212,   1745,   6408,   6876,    780,  10617,  17103,\n",
       "         9108,    852,     36,   7761,   8964,   2082,    912,   8124,\n",
       "         3353,   4914,   4104,   3062,  42736,   1386,  27228,   8904,\n",
       "         9179,  45413,  18540,    744,    516,   1146,    956,     48,\n",
       "         4230,   8067,  22247,   3564,   1673,  53448,  21012,  20668,\n",
       "        31977,  46380,   3924,   2292,    489,  29382,   3222,  10411,\n",
       "         1944,   1372,   2714,  28218,   5403,    204,   6816,  13988,\n",
       "         4522,   5260,   1194,   5390,    358,   1464,   7628,  19614,\n",
       "         4195,    634,    716,    587,   2385,  30071,  12593,   5263,\n",
       "         3050,    252,   9002,    477,    816,    762,  10926,   4752,\n",
       "        43740,   2445,   5076,   4320,   4770,   7690,    490,   4717,\n",
       "          420,  22176,   4112,   3941,   1232,   3156,   5130,  13704,\n",
       "         3516,   8907,   4057,  29724, 112074,   6786,    858,   4151,\n",
       "         1979,   2524,   8088,  17831,   2952,   3408,  12186,    609,\n",
       "         3636,   3507,  34918,    708,  21708,    525,  18306,   9732,\n",
       "          765,    894,  17148,   6552,    396,   4728,    366,   4665,\n",
       "         1937,  13888,   6225,   8753,  12652,   7733,  51846,    729,\n",
       "         3816,   8649,   5227,    900,   7110,   1920,  21304,    369,\n",
       "         1308,   2763,   3647,   1579,  24956,   9024,   9552,  18528,\n",
       "        23007,  20400,  31716,   6328,    288,  17224,   5955,    857,\n",
       "         9384,   2904,  14616,    300,  13961,    789,    672,    990,\n",
       "        30422,   3251,   2962,   9468,   9872,  24918,   1509,   2689,\n",
       "        31482,   6847,    882,   2235,   1224,   2963,   3478,   9894,\n",
       "         5474,   6335,   5105,   8218,  18775,  10105,   1872,   3474,\n",
       "        16159,   1551,   6503,   1722,  35499,   8700,  24804,  12999,\n",
       "          330,   5450,    660,   4830,   5123,   1728,  12645,   5890,\n",
       "        21872,  15524,   1781,   8796,    311,   4095,  16344,   6822,\n",
       "        14665,  13503,   1644,   4904,   4140,  23760,   6638,   6792,\n",
       "         1933,  16902,   8208,   1458,   1340,   8076,   1974,  13904,\n",
       "           96,  34344,   5247,  30838,  13608,   4518,   3450,  18288,\n",
       "         1190,  11520,   5607,   7331,  37349,  22380,   3972,   4007,\n",
       "         1164,  14663,  36300,   1524,   1004,   7793,   3400,   7296,\n",
       "         9298,   3246,  20988,  23016,    335,  10428,   7584,   2175,\n",
       "         1229,  42894,  11688,    945,  26400,   2484,   1980,   3648,\n",
       "         5124,    251,  10912,    933,   8557,  10014,   5298,  35856,\n",
       "         2916,   9700,  16452,  14497,   4143,   1040,   1434,   2724,\n",
       "         7422,    540,   4257,   2304,   7051,   2582,  39261,   2900,\n",
       "        13920,  18814,   1080,  14796,  15682,  11760,   8408,   1238,\n",
       "         6840,  16934,  11973,  14845,   1956,    323,  12671,   2580,\n",
       "         1928,    909,   1014,  62690,  16290,    372,   2272,   8220,\n",
       "         2184,    102,  30069,    492,     84,  25523,   1733,   4980,\n",
       "        15741,   1320,  29173,  52860,   9952,  14310,  14584,   4629,\n",
       "       146344,  21518,    636,   4302,   5244,   2409,    620,   5775,\n",
       "         2508,   2666,   1500,   9462,  10828,  11969,   4685,   2893,\n",
       "         6169,   2761,  10655,    718,  13724,  12856,   4222,   1811,\n",
       "         2988,    618,  50556,   3351,   2670,  40032,    408,   7635,\n",
       "          534,  20963,    846,  85260,    276,   6209,   1344,  51329,\n",
       "         4266,   2665,  14788,    630,    432,   3489,   2978,   2826,\n",
       "         3378,   1482,  12642,   1556,   2152,  15468,   5367,   1697,\n",
       "         6276,  10087,  12564,   1116,   1451,   2378,   5884,    263,\n",
       "         2656,   7360,   6948,   1176,   1279,   9406,  30445,    946,\n",
       "        17628,    156,   7668,   1762,   4722,   1416,   9480,   4560,\n",
       "        56040,   3585,   9782,    192,   5019,   1124,   2537,  20812,\n",
       "         8820,   2011,   4488,   2964,   5964,  72120,   2532,   1205],\n",
       "      dtype=int64)"
      ]
     },
     "execution_count": 419,
     "metadata": {},
     "output_type": "execute_result"
    }
   ],
   "source": [
    "data['Total Onnet spend'].unique()"
   ]
  },
  {
   "cell_type": "markdown",
   "metadata": {},
   "source": [
    "** Es numérica lo dejas hasta hacer el modelo "
   ]
  },
  {
   "cell_type": "markdown",
   "metadata": {},
   "source": [
    "### j) Total Offnet spend"
   ]
  },
  {
   "cell_type": "markdown",
   "metadata": {},
   "source": [
    "### k) Total Call centre complaint calls"
   ]
  },
  {
   "cell_type": "code",
   "execution_count": 420,
   "metadata": {},
   "outputs": [
    {
     "data": {
      "text/plain": [
       "array([ 4,  2,  1,  3,  5, 13, 12,  6, 14,  8, 16,  7, 11, 21, 10,  9, 18,\n",
       "       15, 49], dtype=int64)"
      ]
     },
     "execution_count": 420,
     "metadata": {},
     "output_type": "execute_result"
    }
   ],
   "source": [
    "data['Total Call centre complaint calls'].unique()"
   ]
  },
  {
   "cell_type": "markdown",
   "metadata": {},
   "source": [
    "** Es numérica siguiente"
   ]
  },
  {
   "cell_type": "markdown",
   "metadata": {},
   "source": [
    "### l)Network type subscription in Month 1"
   ]
  },
  {
   "cell_type": "markdown",
   "metadata": {},
   "source": [
    "Variable categórica que nos indica el tipo de suscripción en el primer mes."
   ]
  },
  {
   "cell_type": "code",
   "execution_count": 421,
   "metadata": {},
   "outputs": [],
   "source": [
    "data = pd.get_dummies(data, columns=['Network type subscription in Month 1'], dtype= int, drop_first= True)\n",
    "data_explot = pd.get_dummies(data_explot, columns=['Network type subscription in Month 1'], dtype= int, drop_first= True)"
   ]
  },
  {
   "cell_type": "code",
   "execution_count": null,
   "metadata": {},
   "outputs": [],
   "source": []
  },
  {
   "cell_type": "markdown",
   "metadata": {},
   "source": [
    "# Tratamos los valores nulos antes de seguir con el modelo. Probamos, y luego volvemos por si tenemos que tratar outliers"
   ]
  },
  {
   "cell_type": "markdown",
   "metadata": {},
   "source": [
    "### m) Network type subscription in Month 2"
   ]
  },
  {
   "cell_type": "markdown",
   "metadata": {},
   "source": [
    "- Representa el tipo de red a la que se suscribió el cliente en el segundo mes. Veamos los valores nulos"
   ]
  },
  {
   "cell_type": "code",
   "execution_count": 422,
   "metadata": {},
   "outputs": [
    {
     "data": {
      "text/plain": [
       "array(['2G', '3G', 'Other', nan], dtype=object)"
      ]
     },
     "execution_count": 422,
     "metadata": {},
     "output_type": "execute_result"
    }
   ],
   "source": [
    "data['Network type subscription in Month 2'].unique()"
   ]
  },
  {
   "cell_type": "code",
   "execution_count": 423,
   "metadata": {},
   "outputs": [
    {
     "data": {
      "text/plain": [
       "38      NaN\n",
       "160     NaN\n",
       "198     NaN\n",
       "203     NaN\n",
       "227     NaN\n",
       "419     NaN\n",
       "428     NaN\n",
       "439     NaN\n",
       "519     NaN\n",
       "523     NaN\n",
       "537     NaN\n",
       "590     NaN\n",
       "600     NaN\n",
       "619     NaN\n",
       "655     NaN\n",
       "664     NaN\n",
       "679     NaN\n",
       "731     NaN\n",
       "761     NaN\n",
       "866     NaN\n",
       "943     NaN\n",
       "1032    NaN\n",
       "Name: Network type subscription in Month 2, dtype: object"
      ]
     },
     "execution_count": 423,
     "metadata": {},
     "output_type": "execute_result"
    }
   ],
   "source": [
    "data['Network type subscription in Month 2'][data['Network type subscription in Month 2'].isnull() == True]"
   ]
  },
  {
   "cell_type": "markdown",
   "metadata": {},
   "source": [
    "- Hacemos la codificación 'one-hot'"
   ]
  },
  {
   "cell_type": "code",
   "execution_count": 424,
   "metadata": {},
   "outputs": [],
   "source": [
    "data = pd.get_dummies(data, columns=['Network type subscription in Month 2'], dtype= int)\n",
    "data_explot= pd.get_dummies(data_explot, columns=['Network type subscription in Month 2'], dtype= int, drop_first= True)"
   ]
  },
  {
   "cell_type": "markdown",
   "metadata": {},
   "source": [
    "- Drop_first pero para el valor 'other'"
   ]
  },
  {
   "cell_type": "code",
   "execution_count": 425,
   "metadata": {},
   "outputs": [],
   "source": [
    "data = data.drop('Network type subscription in Month 2_Other', axis=1)"
   ]
  },
  {
   "cell_type": "markdown",
   "metadata": {},
   "source": [
    "### n) Most Loved Competitor network in in Month 1"
   ]
  },
  {
   "cell_type": "markdown",
   "metadata": {},
   "source": [
    "Variable categórica ordenada que nos informa del trabajador de la compañía más gustado por el cliente en el primer mes."
   ]
  },
  {
   "cell_type": "code",
   "execution_count": 426,
   "metadata": {},
   "outputs": [],
   "source": [
    "data= pd.get_dummies(data, columns=['Most Loved Competitor network in Month 1'], dtype= int, drop_first= True)\n",
    "data_explot = pd.get_dummies(data_explot, columns=['Most Loved Competitor network in Month 1'], dtype= int, drop_first= True)"
   ]
  },
  {
   "cell_type": "markdown",
   "metadata": {},
   "source": [
    "### ñ) Most Loved Competitor network in Month 2"
   ]
  },
  {
   "cell_type": "code",
   "execution_count": 427,
   "metadata": {},
   "outputs": [
    {
     "data": {
      "text/plain": [
       "array(['Uxaa', 'PQza', 'Mango', 'Weematel', 'ToCall', 'Zintel', nan],\n",
       "      dtype=object)"
      ]
     },
     "execution_count": 427,
     "metadata": {},
     "output_type": "execute_result"
    }
   ],
   "source": [
    "data['Most Loved Competitor network in Month 2'].unique()"
   ]
  },
  {
   "cell_type": "markdown",
   "metadata": {},
   "source": [
    "- Son categóricas, codificamos"
   ]
  },
  {
   "cell_type": "code",
   "execution_count": 428,
   "metadata": {},
   "outputs": [],
   "source": [
    "data = pd.get_dummies(data, columns=['Most Loved Competitor network in Month 2'], dtype= int, drop_first= True)\n",
    "data_explot = pd.get_dummies(data_explot, columns=['Most Loved Competitor network in Month 2'], dtype= int, drop_first= True)"
   ]
  },
  {
   "cell_type": "markdown",
   "metadata": {},
   "source": [
    "### o) Churn Status"
   ]
  },
  {
   "cell_type": "markdown",
   "metadata": {},
   "source": [
    "Variable categórica dicotómica, es 0 si el cliente no abandona la compañía y 1 si lo hace.\n",
    "Es nuestra variable a predecir, por tanto, eliminamos la columna de nuestro conjunto test que introducimos en el modelo (x_test).\n",
    "En cuanto hagamos la partición de train y test, haremos esta separación entre x_test e y_test (esta última es la columna Churn)"
   ]
  },
  {
   "cell_type": "markdown",
   "metadata": {},
   "source": [
    "### Eliminación de variables dependientes"
   ]
  },
  {
   "cell_type": "code",
   "execution_count": 429,
   "metadata": {},
   "outputs": [
    {
     "data": {
      "image/png": "[encoded data removed]",
      "text/plain": [
       "<Figure size 1200x1200 with 4 Axes>"
      ]
     },
     "metadata": {},
     "output_type": "display_data"
    }
   ],
   "source": [
    "import seaborn as sns\n",
    "matriz_corr=data.corr()\n",
    "sns.clustermap(matriz_corr, cmap=\"bwr\", vmin=-1, vmax=1, figsize=(12,12));"
   ]
  },
  {
   "cell_type": "markdown",
   "metadata": {},
   "source": [
    "Hacemos la matriz de correlación una vez hemos pasado toda slas variables categóricas a dummies."
   ]
  },
  {
   "cell_type": "code",
   "execution_count": 430,
   "metadata": {},
   "outputs": [
    {
     "name": "stdout",
     "output_type": "stream",
     "text": [
      "26\n"
     ]
    }
   ],
   "source": [
    "\n",
    "\n",
    "data2=data.copy()\n",
    "rank1=np.linalg.matrix_rank(matriz_corr) #hay una columna a eliminar\n",
    "cols=data.columns\n",
    "for col in cols:\n",
    "    cols2 = cols.drop(col) #Eliminamos una columna para ver si cambia el rango\n",
    "    data2 = data2[cols2] #Cogemos el dataset sin esa columna\n",
    "    rank2 = np.linalg.matrix_rank(data2.corr()) #Hallamos el rango de ese datset\n",
    "    if rank1 == rank2: #Si los rangos siguen igual, se elimina esa columna porque es linealmente dependiente\n",
    "        cols = cols2\n",
    "        print(f'columna que hemos eliminado: {col}')\n",
    "    else:\n",
    "        data2 = data #si son distintos, esa columna es linealmente independiente y no se quita\n",
    "\n",
    "#Nos quedamos con las columnas linealmente independientes\n",
    "data= data[cols] \n",
    "#nos quitamos la columna Network type subscription in Month 1, que tb quitamos del conjunto de explotacion\n",
    "data_explot=data[cols]\n",
    "\n",
    "print(len(data.columns)) #trabajaremos con 26 variables, han aumentado tras la codificación de dummies"
   ]
  },
  {
   "cell_type": "markdown",
   "metadata": {},
   "source": [
    "### Partición train y test"
   ]
  },
  {
   "cell_type": "code",
   "execution_count": 443,
   "metadata": {},
   "outputs": [
    {
     "name": "stdout",
     "output_type": "stream",
     "text": [
      "Index(['network_age', 'Customer tenure in month',\n",
      "       'Total Spend in Months 1 and 2 of 2017', 'Total SMS Spend',\n",
      "       'Total Data Spend', 'Total Data Consumption', 'Total Unique Calls',\n",
      "       'Total Onnet spend', 'Total Offnet spend',\n",
      "       'Total Call centre complaint calls', 'Churn Status',\n",
      "       'Network type subscription in Month 1_3G',\n",
      "       'Network type subscription in Month 1_Other',\n",
      "       'Network type subscription in Month 2_2G',\n",
      "       'Network type subscription in Month 2_3G',\n",
      "       'Most Loved Competitor network in Month 1_Mango',\n",
      "       'Most Loved Competitor network in Month 1_PQza',\n",
      "       'Most Loved Competitor network in Month 1_ToCall',\n",
      "       'Most Loved Competitor network in Month 1_Uxaa',\n",
      "       'Most Loved Competitor network in Month 1_Weematel',\n",
      "       'Most Loved Competitor network in Month 1_Zintel',\n",
      "       'Most Loved Competitor network in Month 2_PQza',\n",
      "       'Most Loved Competitor network in Month 2_ToCall',\n",
      "       'Most Loved Competitor network in Month 2_Uxaa',\n",
      "       'Most Loved Competitor network in Month 2_Weematel',\n",
      "       'Most Loved Competitor network in Month 2_Zintel'],\n",
      "      dtype='object')\n",
      "663     0\n",
      "737     0\n",
      "126     0\n",
      "354     1\n",
      "1077    0\n",
      "       ..\n",
      "1021    1\n",
      "958     1\n",
      "1078    0\n",
      "779     1\n",
      "840     0\n",
      "Name: Churn Status, Length: 334, dtype: int64\n"
     ]
    }
   ],
   "source": [
    "from sklearn.model_selection import train_test_split\n",
    "\n",
    "x = data.drop('Churn Status', axis=1)\n",
    "print(data.columns)\n",
    "y = data['Churn Status']\n",
    "\n",
    "#las vairables y contienen la columna churn\n",
    "x_train, x_test, y_train, y_test = train_test_split(x, y, test_size=0.3, random_state=1)\n",
    "\n",
    "print(y_test)\n",
    "\n",
    "\n"
   ]
  },
  {
   "cell_type": "markdown",
   "metadata": {},
   "source": [
    "### Paso 3: Construcción y análisis de un modelo de regresión logística usando la librería scikit-klearn "
   ]
  },
  {
   "cell_type": "markdown",
   "metadata": {},
   "source": [
    "• Construye con sklearn un modelo de regresión logística (clase\n",
    "sklearn.lineal_model.LogisticRegression). No te olvides de estandarizar las\n",
    "variables de entrada. ¿Cuáles son los scores obtenidos en entrenamiento y en\n",
    "test? ¿Hay sobreajuste? ¿Cómo se comparan con los obtenidos con el\n",
    "DummyClassifier?\n"
   ]
  },
  {
   "cell_type": "markdown",
   "metadata": {},
   "source": [
    "El método transform realiza la estandarización de las características basándose en las estadísticas aprendidas durante la fase de ajuste de fit().\n",
    "La tasa de acierto obtenida en el entrenamiento es de 0.72 y en test 0.68, un poco menor. Nos encontramos sobreajuste cuando a la hora de hacer la tasa de acierto\n",
    "sobre el conjunto de test encontramos un valor más pequeño que el score del entrenamiento, lo que quiere decir que el modelo se ajusta demasaido a los datos de entrenamiento \n",
    "y por tanto no generaliza bien. Como es un poco más bajo el score de test, podemos decir que  hay sobreajuste.\n",
    "\n",
    "Si comparamos los scores con los de el DummyClasifier, es evidente que este modelo es mucho más preciso que un modelo basado en predecir siempre la clase que más se repite en los datos, ya que DummyClassifier tiene un score de 0.52 y este 0.733."
   ]
  },
  {
   "cell_type": "code",
   "execution_count": 432,
   "metadata": {},
   "outputs": [
    {
     "name": "stdout",
     "output_type": "stream",
     "text": [
      "[[-0.12253674 -0.12230306 -0.71269442  0.27943718  0.926286   -0.77292729\n",
      "  -0.15739299 -0.04380071  0.8347928  -0.06613772  0.31388935 -0.39240398\n",
      "   0.31950276  0.00780992  0.77951605  0.33035858  0.10624401  0.34600244\n",
      "  -0.02065442  0.01016795  0.66385082  0.57368487 -0.97406233  0.07232674\n",
      "   0.56337206]]\n",
      "[-0.2101842]\n",
      "[0 0 1 1 1 0 1 0 0 0 0 0 1 0 1 1 0 1 1 0 1 1 1 0 1 0 1 0 1 0 0 1 1 1 0 0 1\n",
      " 0 1 1 0 0 0 0 1 1 1 1 1 0 1 1 1 1 0 0 0 1 0 0 1 0 0 1 1 0 0 1 1 1 1 0 1 0\n",
      " 0 1 0 1 1 1 1 0 0 0 0 0 0 0 1 0 0 1 0 1 0 0 0 1 1 0 1 1 1 0 1 0 1 0 1 0 1\n",
      " 0 0 0 0 1 1 1 1 1 0 1 1 1 0 0 0 1 1 0 0 1 0 0 0 1 1 0 1 0 1 1 1 0 0 0 0 1\n",
      " 1 1 0 1 1 0 1 1 0 1 1 0 0 0 0 0 1 0 1 0 0 1 0 1 0 0 0 1 0 0 0 1 1 1 0 1 1\n",
      " 1 0 1 1 0 0 1 1 0 0 1 0 0 1 1 1 0 0 0 1 1 1 0 1 1 1 0 1 1 0 1 0 1 1 1 0 1\n",
      " 1 1 0 1 1 1 0 0 0 1 0 0 0 0 1 1 0 1 0 0 0 0 0 1 1 1 0 0 1 0 1 0 0 1 0 0 1\n",
      " 1 1 1 0 0 0 1 1 1 1 0 1 0 1 1 0 1 0 0 1 1 0 1 0 1 1 1 0 1 1 0 0 1 1 1 1 0\n",
      " 1 1 1 0 0 0 1 1 1 1 1 1 1 1 1 1 0 0 0 0 1 1 1 0 1 1 0 1 0 1 0 1 1 1 1 1 1\n",
      " 0]\n",
      "[[8.17146727e-01 1.82853273e-01]\n",
      " [8.43237297e-01 1.56762703e-01]\n",
      " [2.31223146e-01 7.68776854e-01]\n",
      " [1.96331659e-01 8.03668341e-01]\n",
      " [1.18037128e-02 9.88196287e-01]\n",
      " [6.86904417e-01 3.13095583e-01]\n",
      " [4.18104576e-01 5.81895424e-01]\n",
      " [7.44645797e-01 2.55354203e-01]\n",
      " [5.99173011e-01 4.00826989e-01]\n",
      " [6.18456430e-01 3.81543570e-01]\n",
      " [6.64874238e-01 3.35125762e-01]\n",
      " [5.07087041e-01 4.92912959e-01]\n",
      " [3.02879357e-01 6.97120643e-01]\n",
      " [8.83382355e-01 1.16617645e-01]\n",
      " [1.46003399e-01 8.53996601e-01]\n",
      " [3.31219354e-01 6.68780646e-01]\n",
      " [7.90667641e-01 2.09332359e-01]\n",
      " [2.58695629e-01 7.41304371e-01]\n",
      " [1.50518092e-01 8.49481908e-01]\n",
      " [7.25717254e-01 2.74282746e-01]\n",
      " [4.79253874e-01 5.20746126e-01]\n",
      " [4.16889816e-01 5.83110184e-01]\n",
      " [4.61293519e-01 5.38706481e-01]\n",
      " [5.45922630e-01 4.54077370e-01]\n",
      " [1.58811460e-01 8.41188540e-01]\n",
      " [9.79471614e-01 2.05283862e-02]\n",
      " [2.87586892e-01 7.12413108e-01]\n",
      " [7.70254031e-01 2.29745969e-01]\n",
      " [2.46690628e-01 7.53309372e-01]\n",
      " [5.56653812e-01 4.43346188e-01]\n",
      " [5.72495485e-01 4.27504515e-01]\n",
      " [2.58069781e-01 7.41930219e-01]\n",
      " [2.65762988e-01 7.34237012e-01]\n",
      " [3.87533427e-01 6.12466573e-01]\n",
      " [5.87404743e-01 4.12595257e-01]\n",
      " [5.65712985e-01 4.34287015e-01]\n",
      " [4.08520614e-01 5.91479386e-01]\n",
      " [6.49679730e-01 3.50320270e-01]\n",
      " [2.63738208e-01 7.36261792e-01]\n",
      " [2.59646476e-01 7.40353524e-01]\n",
      " [5.91165623e-01 4.08834377e-01]\n",
      " [9.42717880e-01 5.72821198e-02]\n",
      " [7.25614727e-01 2.74385273e-01]\n",
      " [8.94552647e-01 1.05447353e-01]\n",
      " [1.76927290e-01 8.23072710e-01]\n",
      " [3.47871082e-01 6.52128918e-01]\n",
      " [4.18853353e-01 5.81146647e-01]\n",
      " [2.09035315e-01 7.90964685e-01]\n",
      " [2.04929784e-01 7.95070216e-01]\n",
      " [5.62333996e-01 4.37666004e-01]\n",
      " [4.91542483e-01 5.08457517e-01]\n",
      " [2.42524569e-01 7.57475431e-01]\n",
      " [2.65695315e-01 7.34304685e-01]\n",
      " [1.83838690e-01 8.16161310e-01]\n",
      " [7.99808585e-01 2.00191415e-01]\n",
      " [8.22944480e-01 1.77055520e-01]\n",
      " [8.96017637e-01 1.03982363e-01]\n",
      " [4.03332244e-01 5.96667756e-01]\n",
      " [7.06095869e-01 2.93904131e-01]\n",
      " [6.16116383e-01 3.83883617e-01]\n",
      " [2.88116003e-01 7.11883997e-01]\n",
      " [8.10256669e-01 1.89743331e-01]\n",
      " [8.37523476e-01 1.62476524e-01]\n",
      " [1.79884646e-01 8.20115354e-01]\n",
      " [4.41910435e-01 5.58089565e-01]\n",
      " [9.86131167e-01 1.38688332e-02]\n",
      " [6.85433061e-01 3.14566939e-01]\n",
      " [1.23447544e-01 8.76552456e-01]\n",
      " [4.42025700e-01 5.57974300e-01]\n",
      " [2.19351005e-01 7.80648995e-01]\n",
      " [3.25705616e-01 6.74294384e-01]\n",
      " [7.71245936e-01 2.28754064e-01]\n",
      " [4.12702399e-01 5.87297601e-01]\n",
      " [8.24310536e-01 1.75689464e-01]\n",
      " [9.12873604e-01 8.71263964e-02]\n",
      " [4.84042880e-01 5.15957120e-01]\n",
      " [5.89384791e-01 4.10615209e-01]\n",
      " [2.48661005e-01 7.51338995e-01]\n",
      " [4.84468409e-01 5.15531591e-01]\n",
      " [4.79958041e-01 5.20041959e-01]\n",
      " [1.79062753e-01 8.20937247e-01]\n",
      " [8.08106820e-01 1.91893180e-01]\n",
      " [7.11004857e-01 2.88995143e-01]\n",
      " [8.09823821e-01 1.90176179e-01]\n",
      " [7.52381207e-01 2.47618793e-01]\n",
      " [6.47203808e-01 3.52796192e-01]\n",
      " [7.47220172e-01 2.52779828e-01]\n",
      " [9.75498114e-01 2.45018859e-02]\n",
      " [3.08483918e-02 9.69151608e-01]\n",
      " [6.26108665e-01 3.73891335e-01]\n",
      " [8.11956945e-01 1.88043055e-01]\n",
      " [4.63840307e-01 5.36159693e-01]\n",
      " [7.21614371e-01 2.78385629e-01]\n",
      " [3.48747285e-01 6.51252715e-01]\n",
      " [7.00605478e-01 2.99394522e-01]\n",
      " [8.41951433e-01 1.58048567e-01]\n",
      " [7.79159246e-01 2.20840754e-01]\n",
      " [2.35453289e-01 7.64546711e-01]\n",
      " [3.12840679e-01 6.87159321e-01]\n",
      " [8.87209835e-01 1.12790165e-01]\n",
      " [4.99271931e-01 5.00728069e-01]\n",
      " [3.71555911e-01 6.28444089e-01]\n",
      " [2.08920955e-01 7.91079045e-01]\n",
      " [6.26864833e-01 3.73135167e-01]\n",
      " [3.08141144e-04 9.99691859e-01]\n",
      " [8.28480678e-01 1.71519322e-01]\n",
      " [1.04529616e-01 8.95470384e-01]\n",
      " [8.77248319e-01 1.22751681e-01]\n",
      " [4.58789234e-01 5.41210766e-01]\n",
      " [7.20870779e-01 2.79129221e-01]\n",
      " [1.81544880e-01 8.18455120e-01]\n",
      " [8.62095422e-01 1.37904578e-01]\n",
      " [7.55301818e-01 2.44698182e-01]\n",
      " [8.08537131e-01 1.91462869e-01]\n",
      " [5.82158158e-01 4.17841842e-01]\n",
      " [2.21264605e-02 9.77873539e-01]\n",
      " [2.50358272e-01 7.49641728e-01]\n",
      " [4.17946743e-01 5.82053257e-01]\n",
      " [1.72448479e-01 8.27551521e-01]\n",
      " [1.92206278e-01 8.07793722e-01]\n",
      " [6.04132430e-01 3.95867570e-01]\n",
      " [3.14744632e-01 6.85255368e-01]\n",
      " [2.92742372e-01 7.07257628e-01]\n",
      " [1.64467367e-01 8.35532633e-01]\n",
      " [5.64127708e-01 4.35872292e-01]\n",
      " [6.82967881e-01 3.17032119e-01]\n",
      " [6.48878082e-01 3.51121918e-01]\n",
      " [3.02196415e-01 6.97803585e-01]\n",
      " [4.94694568e-01 5.05305432e-01]\n",
      " [8.14238586e-01 1.85761414e-01]\n",
      " [7.15003083e-01 2.84996917e-01]\n",
      " [1.76159391e-01 8.23840609e-01]\n",
      " [9.38428572e-01 6.15714278e-02]\n",
      " [7.05274886e-01 2.94725114e-01]\n",
      " [6.80434067e-01 3.19565933e-01]\n",
      " [1.47810636e-01 8.52189364e-01]\n",
      " [3.09990525e-02 9.69000947e-01]\n",
      " [6.70225060e-01 3.29774940e-01]\n",
      " [3.24514577e-01 6.75485423e-01]\n",
      " [7.22384469e-01 2.77615531e-01]\n",
      " [1.82434761e-01 8.17565239e-01]\n",
      " [2.85933196e-01 7.14066804e-01]\n",
      " [4.87299922e-01 5.12700078e-01]\n",
      " [8.02919018e-01 1.97080982e-01]\n",
      " [8.34338782e-01 1.65661218e-01]\n",
      " [7.16279665e-01 2.83720335e-01]\n",
      " [7.03977575e-01 2.96022425e-01]\n",
      " [3.85090609e-01 6.14909391e-01]\n",
      " [2.67370188e-01 7.32629812e-01]\n",
      " [3.14798782e-01 6.85201218e-01]\n",
      " [7.56623825e-01 2.43376175e-01]\n",
      " [4.14203512e-02 9.58579649e-01]\n",
      " [3.42158553e-01 6.57841447e-01]\n",
      " [7.47655128e-01 2.52344872e-01]\n",
      " [4.02471361e-01 5.97528639e-01]\n",
      " [6.13427527e-02 9.38657247e-01]\n",
      " [9.00501042e-01 9.94989582e-02]\n",
      " [9.83009534e-02 9.01699047e-01]\n",
      " [3.13653380e-01 6.86346620e-01]\n",
      " [5.99459660e-01 4.00540340e-01]\n",
      " [6.58482743e-01 3.41517257e-01]\n",
      " [5.22932271e-01 4.77067729e-01]\n",
      " [5.32140691e-01 4.67859309e-01]\n",
      " [7.50192347e-01 2.49807653e-01]\n",
      " [1.27638465e-01 8.72361535e-01]\n",
      " [5.27616285e-01 4.72383715e-01]\n",
      " [4.91762926e-01 5.08237074e-01]\n",
      " [8.18812558e-01 1.81187442e-01]\n",
      " [6.50378764e-01 3.49621236e-01]\n",
      " [1.88837841e-01 8.11162159e-01]\n",
      " [9.39577724e-01 6.04222758e-02]\n",
      " [2.72405470e-01 7.27594530e-01]\n",
      " [7.23253976e-01 2.76746024e-01]\n",
      " [6.16657643e-01 3.83342357e-01]\n",
      " [7.79868683e-01 2.20131317e-01]\n",
      " [3.82709494e-01 6.17290506e-01]\n",
      " [7.40931122e-01 2.59068878e-01]\n",
      " [8.57227419e-01 1.42772581e-01]\n",
      " [9.28105218e-01 7.18947820e-02]\n",
      " [2.08038007e-01 7.91961993e-01]\n",
      " [1.20710335e-01 8.79289665e-01]\n",
      " [2.35283944e-01 7.64716056e-01]\n",
      " [6.34490875e-01 3.65509125e-01]\n",
      " [1.72189557e-01 8.27810443e-01]\n",
      " [8.93780662e-02 9.10621934e-01]\n",
      " [3.25143784e-01 6.74856216e-01]\n",
      " [7.61550293e-01 2.38449707e-01]\n",
      " [8.64673887e-02 9.13532611e-01]\n",
      " [2.44406978e-01 7.55593022e-01]\n",
      " [5.23169050e-01 4.76830950e-01]\n",
      " [7.51345909e-01 2.48654091e-01]\n",
      " [4.59125457e-01 5.40874543e-01]\n",
      " [2.20528953e-01 7.79471047e-01]\n",
      " [8.19364807e-01 1.80635193e-01]\n",
      " [6.97767451e-01 3.02232549e-01]\n",
      " [2.74409384e-01 7.25590616e-01]\n",
      " [6.38297761e-01 3.61702239e-01]\n",
      " [6.49278661e-01 3.50721339e-01]\n",
      " [4.53847316e-01 5.46152684e-01]\n",
      " [4.31362385e-01 5.68637615e-01]\n",
      " [1.36997646e-01 8.63002354e-01]\n",
      " [8.65467030e-01 1.34532970e-01]\n",
      " [7.97858733e-01 2.02141267e-01]\n",
      " [5.56144579e-01 4.43855421e-01]\n",
      " [1.60385541e-01 8.39614459e-01]\n",
      " [3.54006169e-01 6.45993831e-01]\n",
      " [3.17907078e-01 6.82092922e-01]\n",
      " [8.08023522e-01 1.91976478e-01]\n",
      " [3.44711689e-01 6.55288311e-01]\n",
      " [2.81475376e-01 7.18524624e-01]\n",
      " [3.44501026e-01 6.55498974e-01]\n",
      " [7.13421077e-01 2.86578923e-01]\n",
      " [2.06312188e-01 7.93687812e-01]\n",
      " [2.26147569e-01 7.73852431e-01]\n",
      " [8.45396323e-01 1.54603677e-01]\n",
      " [2.53758139e-01 7.46241861e-01]\n",
      " [8.68230826e-01 1.31769174e-01]\n",
      " [4.52892928e-01 5.47107072e-01]\n",
      " [4.02425511e-01 5.97574489e-01]\n",
      " [6.72788115e-02 9.32721188e-01]\n",
      " [6.51435250e-01 3.48564750e-01]\n",
      " [3.10887464e-01 6.89112536e-01]\n",
      " [3.90624480e-01 6.09375520e-01]\n",
      " [2.89044040e-01 7.10955960e-01]\n",
      " [7.83095996e-01 2.16904004e-01]\n",
      " [2.08145881e-01 7.91854119e-01]\n",
      " [2.40082255e-01 7.59917745e-01]\n",
      " [8.26530481e-03 9.91734695e-01]\n",
      " [8.19254310e-01 1.80745690e-01]\n",
      " [7.10144286e-01 2.89855714e-01]\n",
      " [8.85585980e-01 1.14414020e-01]\n",
      " [1.76635032e-01 8.23364968e-01]\n",
      " [7.11884098e-01 2.88115902e-01]\n",
      " [9.65900504e-01 3.40994963e-02]\n",
      " [5.95003681e-01 4.04996319e-01]\n",
      " [8.28473315e-01 1.71526685e-01]\n",
      " [1.84970639e-01 8.15029361e-01]\n",
      " [1.75065170e-01 8.24934830e-01]\n",
      " [6.52395280e-01 3.47604720e-01]\n",
      " [4.78730795e-01 5.21269205e-01]\n",
      " [7.97541069e-01 2.02458931e-01]\n",
      " [9.93541809e-01 6.45819128e-03]\n",
      " [8.92710002e-01 1.07289998e-01]\n",
      " [7.86975134e-01 2.13024866e-01]\n",
      " [7.93563221e-01 2.06436779e-01]\n",
      " [1.84841609e-01 8.15158391e-01]\n",
      " [2.88284780e-01 7.11715220e-01]\n",
      " [3.12847694e-01 6.87152306e-01]\n",
      " [5.11304569e-01 4.88695431e-01]\n",
      " [8.62034489e-01 1.37965511e-01]\n",
      " [2.34812766e-01 7.65187234e-01]\n",
      " [5.05541207e-01 4.94458793e-01]\n",
      " [2.24760859e-01 7.75239141e-01]\n",
      " [6.86504305e-01 3.13495695e-01]\n",
      " [5.66674120e-01 4.33325880e-01]\n",
      " [3.09184530e-01 6.90815470e-01]\n",
      " [6.95516231e-01 3.04483769e-01]\n",
      " [5.87235985e-01 4.12764015e-01]\n",
      " [1.83958312e-01 8.16041688e-01]\n",
      " [4.96963788e-01 5.03036212e-01]\n",
      " [1.88712502e-01 8.11287498e-01]\n",
      " [2.59392572e-01 7.40607428e-01]\n",
      " [8.11331081e-01 1.88668919e-01]\n",
      " [5.29051481e-01 4.70948519e-01]\n",
      " [8.13006980e-01 1.86993020e-01]\n",
      " [3.51719558e-01 6.48280442e-01]\n",
      " [1.65465372e-01 8.34534628e-01]\n",
      " [4.17589444e-01 5.82410556e-01]\n",
      " [2.11779177e-01 7.88220823e-01]\n",
      " [5.33549840e-01 4.66450160e-01]\n",
      " [4.18231525e-01 5.81768475e-01]\n",
      " [6.96737567e-01 3.03262433e-01]\n",
      " [4.25792688e-01 5.74207312e-01]\n",
      " [1.64211390e-01 8.35788610e-01]\n",
      " [5.19377378e-01 4.80622622e-01]\n",
      " [3.17645936e-01 6.82354064e-01]\n",
      " [6.80745560e-01 3.19254440e-01]\n",
      " [7.69498119e-01 2.30501881e-01]\n",
      " [1.09472264e-01 8.90527736e-01]\n",
      " [4.28918668e-01 5.71081332e-01]\n",
      " [8.30677219e-01 1.69322781e-01]\n",
      " [1.63479539e-01 8.36520461e-01]\n",
      " [9.99230231e-01 7.69768560e-04]\n",
      " [4.93731158e-01 5.06268842e-01]\n",
      " [4.18801210e-01 5.81198790e-01]\n",
      " [4.93886509e-01 5.06113491e-01]\n",
      " [5.26710296e-01 4.73289704e-01]\n",
      " [2.13917097e-01 7.86082903e-01]\n",
      " [9.02283809e-02 9.09771619e-01]\n",
      " [8.82901111e-01 1.17098889e-01]\n",
      " [7.80498325e-01 2.19501675e-01]\n",
      " [9.76677091e-02 9.02332291e-01]\n",
      " [2.26521912e-01 7.73478088e-01]\n",
      " [3.12838501e-01 6.87161499e-01]\n",
      " [3.59011841e-01 6.40988159e-01]\n",
      " [5.48991566e-01 4.51008434e-01]\n",
      " [3.29916897e-01 6.70083103e-01]\n",
      " [2.85589840e-01 7.14410160e-01]\n",
      " [3.46969582e-01 6.53030418e-01]\n",
      " [9.17777302e-01 8.22226979e-02]\n",
      " [8.78213915e-01 1.21786085e-01]\n",
      " [5.34386348e-01 4.65613652e-01]\n",
      " [2.52081975e-01 7.47918025e-01]\n",
      " [2.62448112e-02 9.73755189e-01]\n",
      " [2.04598175e-01 7.95401825e-01]\n",
      " [4.94274674e-01 5.05725326e-01]\n",
      " [2.83372807e-01 7.16627193e-01]\n",
      " [1.02077146e-04 9.99897923e-01]\n",
      " [3.26326169e-01 6.73673831e-01]\n",
      " [2.19864822e-01 7.80135178e-01]\n",
      " [1.30384626e-01 8.69615374e-01]\n",
      " [2.36565173e-01 7.63434827e-01]\n",
      " [8.81317116e-01 1.18682884e-01]\n",
      " [6.99631227e-01 3.00368773e-01]\n",
      " [8.10087373e-01 1.89912627e-01]\n",
      " [5.96639426e-01 4.03360574e-01]\n",
      " [3.60482705e-01 6.39517295e-01]\n",
      " [2.33582390e-01 7.66417610e-01]\n",
      " [2.35844620e-01 7.64155380e-01]\n",
      " [5.25826143e-01 4.74173857e-01]\n",
      " [1.33742654e-01 8.66257346e-01]\n",
      " [4.91768568e-01 5.08231432e-01]\n",
      " [6.77413040e-01 3.22586960e-01]\n",
      " [2.04576333e-01 7.95423667e-01]\n",
      " [8.63642494e-01 1.36357506e-01]\n",
      " [4.89130435e-01 5.10869565e-01]\n",
      " [6.42501090e-01 3.57498910e-01]\n",
      " [2.10433872e-01 7.89566128e-01]\n",
      " [1.93193119e-01 8.06806881e-01]\n",
      " [3.17447895e-01 6.82552105e-01]\n",
      " [3.75103579e-01 6.24896421e-01]\n",
      " [1.00345647e-01 8.99654353e-01]\n",
      " [2.12422673e-01 7.87577327e-01]\n",
      " [8.19725446e-01 1.80274554e-01]]\n",
      "Tasa de acierto en train: 0.7245817245817245\n",
      "Tasa de acierto en test: 0.6826347305389222\n"
     ]
    },
    {
     "name": "stderr",
     "output_type": "stream",
     "text": [
      "C:\\Users\\juanj\\AppData\\Local\\Packages\\PythonSoftwareFoundation.Python.3.10_qbz5n2kfra8p0\\LocalCache\\local-packages\\Python310\\site-packages\\sklearn\\utils\\validation.py:767: FutureWarning: is_sparse is deprecated and will be removed in a future version. Check `isinstance(dtype, pd.SparseDtype)` instead.\n",
      "  if not hasattr(array, \"sparse\") and array.dtypes.apply(is_sparse).any():\n",
      "C:\\Users\\juanj\\AppData\\Local\\Packages\\PythonSoftwareFoundation.Python.3.10_qbz5n2kfra8p0\\LocalCache\\local-packages\\Python310\\site-packages\\sklearn\\utils\\validation.py:605: FutureWarning: is_sparse is deprecated and will be removed in a future version. Check `isinstance(dtype, pd.SparseDtype)` instead.\n",
      "  if is_sparse(pd_dtype):\n",
      "C:\\Users\\juanj\\AppData\\Local\\Packages\\PythonSoftwareFoundation.Python.3.10_qbz5n2kfra8p0\\LocalCache\\local-packages\\Python310\\site-packages\\sklearn\\utils\\validation.py:614: FutureWarning: is_sparse is deprecated and will be removed in a future version. Check `isinstance(dtype, pd.SparseDtype)` instead.\n",
      "  if is_sparse(pd_dtype) or not is_extension_array_dtype(pd_dtype):\n",
      "C:\\Users\\juanj\\AppData\\Local\\Packages\\PythonSoftwareFoundation.Python.3.10_qbz5n2kfra8p0\\LocalCache\\local-packages\\Python310\\site-packages\\sklearn\\utils\\validation.py:767: FutureWarning: is_sparse is deprecated and will be removed in a future version. Check `isinstance(dtype, pd.SparseDtype)` instead.\n",
      "  if not hasattr(array, \"sparse\") and array.dtypes.apply(is_sparse).any():\n",
      "C:\\Users\\juanj\\AppData\\Local\\Packages\\PythonSoftwareFoundation.Python.3.10_qbz5n2kfra8p0\\LocalCache\\local-packages\\Python310\\site-packages\\sklearn\\utils\\validation.py:605: FutureWarning: is_sparse is deprecated and will be removed in a future version. Check `isinstance(dtype, pd.SparseDtype)` instead.\n",
      "  if is_sparse(pd_dtype):\n",
      "C:\\Users\\juanj\\AppData\\Local\\Packages\\PythonSoftwareFoundation.Python.3.10_qbz5n2kfra8p0\\LocalCache\\local-packages\\Python310\\site-packages\\sklearn\\utils\\validation.py:614: FutureWarning: is_sparse is deprecated and will be removed in a future version. Check `isinstance(dtype, pd.SparseDtype)` instead.\n",
      "  if is_sparse(pd_dtype) or not is_extension_array_dtype(pd_dtype):\n",
      "C:\\Users\\juanj\\AppData\\Local\\Packages\\PythonSoftwareFoundation.Python.3.10_qbz5n2kfra8p0\\LocalCache\\local-packages\\Python310\\site-packages\\sklearn\\utils\\validation.py:767: FutureWarning: is_sparse is deprecated and will be removed in a future version. Check `isinstance(dtype, pd.SparseDtype)` instead.\n",
      "  if not hasattr(array, \"sparse\") and array.dtypes.apply(is_sparse).any():\n",
      "C:\\Users\\juanj\\AppData\\Local\\Packages\\PythonSoftwareFoundation.Python.3.10_qbz5n2kfra8p0\\LocalCache\\local-packages\\Python310\\site-packages\\sklearn\\utils\\validation.py:605: FutureWarning: is_sparse is deprecated and will be removed in a future version. Check `isinstance(dtype, pd.SparseDtype)` instead.\n",
      "  if is_sparse(pd_dtype):\n",
      "C:\\Users\\juanj\\AppData\\Local\\Packages\\PythonSoftwareFoundation.Python.3.10_qbz5n2kfra8p0\\LocalCache\\local-packages\\Python310\\site-packages\\sklearn\\utils\\validation.py:614: FutureWarning: is_sparse is deprecated and will be removed in a future version. Check `isinstance(dtype, pd.SparseDtype)` instead.\n",
      "  if is_sparse(pd_dtype) or not is_extension_array_dtype(pd_dtype):\n",
      "C:\\Users\\juanj\\AppData\\Local\\Packages\\PythonSoftwareFoundation.Python.3.10_qbz5n2kfra8p0\\LocalCache\\local-packages\\Python310\\site-packages\\sklearn\\utils\\validation.py:767: FutureWarning: is_sparse is deprecated and will be removed in a future version. Check `isinstance(dtype, pd.SparseDtype)` instead.\n",
      "  if not hasattr(array, \"sparse\") and array.dtypes.apply(is_sparse).any():\n",
      "C:\\Users\\juanj\\AppData\\Local\\Packages\\PythonSoftwareFoundation.Python.3.10_qbz5n2kfra8p0\\LocalCache\\local-packages\\Python310\\site-packages\\sklearn\\utils\\validation.py:605: FutureWarning: is_sparse is deprecated and will be removed in a future version. Check `isinstance(dtype, pd.SparseDtype)` instead.\n",
      "  if is_sparse(pd_dtype):\n",
      "C:\\Users\\juanj\\AppData\\Local\\Packages\\PythonSoftwareFoundation.Python.3.10_qbz5n2kfra8p0\\LocalCache\\local-packages\\Python310\\site-packages\\sklearn\\utils\\validation.py:614: FutureWarning: is_sparse is deprecated and will be removed in a future version. Check `isinstance(dtype, pd.SparseDtype)` instead.\n",
      "  if is_sparse(pd_dtype) or not is_extension_array_dtype(pd_dtype):\n",
      "C:\\Users\\juanj\\AppData\\Local\\Packages\\PythonSoftwareFoundation.Python.3.10_qbz5n2kfra8p0\\LocalCache\\local-packages\\Python310\\site-packages\\sklearn\\utils\\validation.py:605: FutureWarning: is_sparse is deprecated and will be removed in a future version. Check `isinstance(dtype, pd.SparseDtype)` instead.\n",
      "  if is_sparse(pd_dtype):\n",
      "C:\\Users\\juanj\\AppData\\Local\\Packages\\PythonSoftwareFoundation.Python.3.10_qbz5n2kfra8p0\\LocalCache\\local-packages\\Python310\\site-packages\\sklearn\\utils\\validation.py:614: FutureWarning: is_sparse is deprecated and will be removed in a future version. Check `isinstance(dtype, pd.SparseDtype)` instead.\n",
      "  if is_sparse(pd_dtype) or not is_extension_array_dtype(pd_dtype):\n",
      "C:\\Users\\juanj\\AppData\\Local\\Packages\\PythonSoftwareFoundation.Python.3.10_qbz5n2kfra8p0\\LocalCache\\local-packages\\Python310\\site-packages\\sklearn\\utils\\validation.py:767: FutureWarning: is_sparse is deprecated and will be removed in a future version. Check `isinstance(dtype, pd.SparseDtype)` instead.\n",
      "  if not hasattr(array, \"sparse\") and array.dtypes.apply(is_sparse).any():\n",
      "C:\\Users\\juanj\\AppData\\Local\\Packages\\PythonSoftwareFoundation.Python.3.10_qbz5n2kfra8p0\\LocalCache\\local-packages\\Python310\\site-packages\\sklearn\\utils\\validation.py:605: FutureWarning: is_sparse is deprecated and will be removed in a future version. Check `isinstance(dtype, pd.SparseDtype)` instead.\n",
      "  if is_sparse(pd_dtype):\n",
      "C:\\Users\\juanj\\AppData\\Local\\Packages\\PythonSoftwareFoundation.Python.3.10_qbz5n2kfra8p0\\LocalCache\\local-packages\\Python310\\site-packages\\sklearn\\utils\\validation.py:614: FutureWarning: is_sparse is deprecated and will be removed in a future version. Check `isinstance(dtype, pd.SparseDtype)` instead.\n",
      "  if is_sparse(pd_dtype) or not is_extension_array_dtype(pd_dtype):\n",
      "C:\\Users\\juanj\\AppData\\Local\\Packages\\PythonSoftwareFoundation.Python.3.10_qbz5n2kfra8p0\\LocalCache\\local-packages\\Python310\\site-packages\\sklearn\\utils\\validation.py:767: FutureWarning: is_sparse is deprecated and will be removed in a future version. Check `isinstance(dtype, pd.SparseDtype)` instead.\n",
      "  if not hasattr(array, \"sparse\") and array.dtypes.apply(is_sparse).any():\n",
      "C:\\Users\\juanj\\AppData\\Local\\Packages\\PythonSoftwareFoundation.Python.3.10_qbz5n2kfra8p0\\LocalCache\\local-packages\\Python310\\site-packages\\sklearn\\utils\\validation.py:605: FutureWarning: is_sparse is deprecated and will be removed in a future version. Check `isinstance(dtype, pd.SparseDtype)` instead.\n",
      "  if is_sparse(pd_dtype):\n",
      "C:\\Users\\juanj\\AppData\\Local\\Packages\\PythonSoftwareFoundation.Python.3.10_qbz5n2kfra8p0\\LocalCache\\local-packages\\Python310\\site-packages\\sklearn\\utils\\validation.py:614: FutureWarning: is_sparse is deprecated and will be removed in a future version. Check `isinstance(dtype, pd.SparseDtype)` instead.\n",
      "  if is_sparse(pd_dtype) or not is_extension_array_dtype(pd_dtype):\n",
      "C:\\Users\\juanj\\AppData\\Local\\Packages\\PythonSoftwareFoundation.Python.3.10_qbz5n2kfra8p0\\LocalCache\\local-packages\\Python310\\site-packages\\sklearn\\utils\\validation.py:767: FutureWarning: is_sparse is deprecated and will be removed in a future version. Check `isinstance(dtype, pd.SparseDtype)` instead.\n",
      "  if not hasattr(array, \"sparse\") and array.dtypes.apply(is_sparse).any():\n",
      "C:\\Users\\juanj\\AppData\\Local\\Packages\\PythonSoftwareFoundation.Python.3.10_qbz5n2kfra8p0\\LocalCache\\local-packages\\Python310\\site-packages\\sklearn\\utils\\validation.py:605: FutureWarning: is_sparse is deprecated and will be removed in a future version. Check `isinstance(dtype, pd.SparseDtype)` instead.\n",
      "  if is_sparse(pd_dtype):\n",
      "C:\\Users\\juanj\\AppData\\Local\\Packages\\PythonSoftwareFoundation.Python.3.10_qbz5n2kfra8p0\\LocalCache\\local-packages\\Python310\\site-packages\\sklearn\\utils\\validation.py:614: FutureWarning: is_sparse is deprecated and will be removed in a future version. Check `isinstance(dtype, pd.SparseDtype)` instead.\n",
      "  if is_sparse(pd_dtype) or not is_extension_array_dtype(pd_dtype):\n",
      "C:\\Users\\juanj\\AppData\\Local\\Packages\\PythonSoftwareFoundation.Python.3.10_qbz5n2kfra8p0\\LocalCache\\local-packages\\Python310\\site-packages\\sklearn\\utils\\validation.py:605: FutureWarning: is_sparse is deprecated and will be removed in a future version. Check `isinstance(dtype, pd.SparseDtype)` instead.\n",
      "  if is_sparse(pd_dtype):\n",
      "C:\\Users\\juanj\\AppData\\Local\\Packages\\PythonSoftwareFoundation.Python.3.10_qbz5n2kfra8p0\\LocalCache\\local-packages\\Python310\\site-packages\\sklearn\\utils\\validation.py:614: FutureWarning: is_sparse is deprecated and will be removed in a future version. Check `isinstance(dtype, pd.SparseDtype)` instead.\n",
      "  if is_sparse(pd_dtype) or not is_extension_array_dtype(pd_dtype):\n",
      "C:\\Users\\juanj\\AppData\\Local\\Packages\\PythonSoftwareFoundation.Python.3.10_qbz5n2kfra8p0\\LocalCache\\local-packages\\Python310\\site-packages\\sklearn\\utils\\validation.py:767: FutureWarning: is_sparse is deprecated and will be removed in a future version. Check `isinstance(dtype, pd.SparseDtype)` instead.\n",
      "  if not hasattr(array, \"sparse\") and array.dtypes.apply(is_sparse).any():\n",
      "C:\\Users\\juanj\\AppData\\Local\\Packages\\PythonSoftwareFoundation.Python.3.10_qbz5n2kfra8p0\\LocalCache\\local-packages\\Python310\\site-packages\\sklearn\\utils\\validation.py:605: FutureWarning: is_sparse is deprecated and will be removed in a future version. Check `isinstance(dtype, pd.SparseDtype)` instead.\n",
      "  if is_sparse(pd_dtype):\n",
      "C:\\Users\\juanj\\AppData\\Local\\Packages\\PythonSoftwareFoundation.Python.3.10_qbz5n2kfra8p0\\LocalCache\\local-packages\\Python310\\site-packages\\sklearn\\utils\\validation.py:614: FutureWarning: is_sparse is deprecated and will be removed in a future version. Check `isinstance(dtype, pd.SparseDtype)` instead.\n",
      "  if is_sparse(pd_dtype) or not is_extension_array_dtype(pd_dtype):\n",
      "C:\\Users\\juanj\\AppData\\Local\\Packages\\PythonSoftwareFoundation.Python.3.10_qbz5n2kfra8p0\\LocalCache\\local-packages\\Python310\\site-packages\\sklearn\\utils\\validation.py:605: FutureWarning: is_sparse is deprecated and will be removed in a future version. Check `isinstance(dtype, pd.SparseDtype)` instead.\n",
      "  if is_sparse(pd_dtype):\n",
      "C:\\Users\\juanj\\AppData\\Local\\Packages\\PythonSoftwareFoundation.Python.3.10_qbz5n2kfra8p0\\LocalCache\\local-packages\\Python310\\site-packages\\sklearn\\utils\\validation.py:614: FutureWarning: is_sparse is deprecated and will be removed in a future version. Check `isinstance(dtype, pd.SparseDtype)` instead.\n",
      "  if is_sparse(pd_dtype) or not is_extension_array_dtype(pd_dtype):\n"
     ]
    }
   ],
   "source": [
    "import sklearn ; from sklearn import linear_model\n",
    "from sklearn.preprocessing import StandardScaler\n",
    "from matplotlib import pyplot\n",
    "\n",
    "from sklearn.preprocessing import StandardScaler\n",
    "from sklearn.linear_model import LogisticRegression\n",
    "\n",
    "# Crear un objeto StandardScaler\n",
    "xscaler = StandardScaler()\n",
    "\n",
    "# Obtener las columnas numéricas\n",
    "col_numericos = x_train.select_dtypes(include=['int64', 'float64']).columns\n",
    "\n",
    "# Estandarizar solo las columnas numéricas en x_train\n",
    "x_train_scaled = x_train.copy()\n",
    "x_train_scaled[col_numericos] = xscaler.fit_transform(x_train[col_numericos])\n",
    "\n",
    "# Estandarizar solo las columnas numéricas en x_test\n",
    "x_test_scaled = x_test.copy()\n",
    "x_test_scaled[col_numericos] = xscaler.transform(x_test[col_numericos])\n",
    "\n",
    "# Crear un modelo de regresión logística\n",
    "modelo = LogisticRegression()\n",
    "\n",
    "\n",
    "\n",
    "\n",
    "\n",
    "\n",
    "modelo.fit(x_train_scaled,y_train)\n",
    "\n",
    "print(modelo.coef_) # w0, w1, w2, ... calculados\n",
    "print(modelo.intercept_ )\n",
    "\n",
    "predicciones_01=modelo.predict(x_test_scaled) # Estimación clases, y_pred\n",
    "print(predicciones_01)\n",
    "\n",
    "probabilidades_01=modelo.predict_proba(x_test_scaled)  #USAREMOS MÁS ADELANTE ESTAS VARIABLES PARA EL PASO 3 DE LA SEMANA 3\n",
    "print(probabilidades_01)\n",
    "\n",
    "\n",
    "\n",
    "\n",
    "print('Tasa de acierto en train:',modelo.score(x_train_scaled,y_train) )\n",
    "print('Tasa de acierto en test:',modelo.score(x_test_scaled,y_test) )\n",
    "\n",
    "\n",
    "\n"
   ]
  },
  {
   "cell_type": "code",
   "execution_count": 433,
   "metadata": {},
   "outputs": [
    {
     "data": {
      "text/html": [
       "<div>\n",
       "<style scoped>\n",
       "    .dataframe tbody tr th:only-of-type {\n",
       "        vertical-align: middle;\n",
       "    }\n",
       "\n",
       "    .dataframe tbody tr th {\n",
       "        vertical-align: top;\n",
       "    }\n",
       "\n",
       "    .dataframe thead th {\n",
       "        text-align: right;\n",
       "    }\n",
       "</style>\n",
       "<table border=\"1\" class=\"dataframe\">\n",
       "  <thead>\n",
       "    <tr style=\"text-align: right;\">\n",
       "      <th></th>\n",
       "      <th>network_age</th>\n",
       "      <th>Customer tenure in month</th>\n",
       "      <th>Total Spend in Months 1 and 2 of 2017</th>\n",
       "      <th>Total SMS Spend</th>\n",
       "      <th>Total Data Spend</th>\n",
       "      <th>Total Data Consumption</th>\n",
       "      <th>Total Unique Calls</th>\n",
       "      <th>Total Onnet spend</th>\n",
       "      <th>Total Offnet spend</th>\n",
       "      <th>Total Call centre complaint calls</th>\n",
       "      <th>Network type subscription in Month 1_3G</th>\n",
       "      <th>Network type subscription in Month 1_Other</th>\n",
       "      <th>Network type subscription in Month 2_2G</th>\n",
       "      <th>Network type subscription in Month 2_3G</th>\n",
       "      <th>Most Loved Competitor network in Month 1_Mango</th>\n",
       "      <th>Most Loved Competitor network in Month 1_PQza</th>\n",
       "      <th>Most Loved Competitor network in Month 1_ToCall</th>\n",
       "      <th>Most Loved Competitor network in Month 1_Uxaa</th>\n",
       "      <th>Most Loved Competitor network in Month 1_Weematel</th>\n",
       "      <th>Most Loved Competitor network in Month 1_Zintel</th>\n",
       "      <th>Most Loved Competitor network in Month 2_PQza</th>\n",
       "      <th>Most Loved Competitor network in Month 2_ToCall</th>\n",
       "      <th>Most Loved Competitor network in Month 2_Uxaa</th>\n",
       "      <th>Most Loved Competitor network in Month 2_Weematel</th>\n",
       "      <th>Most Loved Competitor network in Month 2_Zintel</th>\n",
       "    </tr>\n",
       "  </thead>\n",
       "  <tbody>\n",
       "    <tr>\n",
       "      <th>663</th>\n",
       "      <td>1.935265</td>\n",
       "      <td>1.935190</td>\n",
       "      <td>-0.208415</td>\n",
       "      <td>-0.439333</td>\n",
       "      <td>-0.165802</td>\n",
       "      <td>-0.303650</td>\n",
       "      <td>-0.167566</td>\n",
       "      <td>0.294583</td>\n",
       "      <td>0.074760</td>\n",
       "      <td>-0.371427</td>\n",
       "      <td>0</td>\n",
       "      <td>1</td>\n",
       "      <td>0</td>\n",
       "      <td>0</td>\n",
       "      <td>0</td>\n",
       "      <td>0</td>\n",
       "      <td>0</td>\n",
       "      <td>1</td>\n",
       "      <td>0</td>\n",
       "      <td>0</td>\n",
       "      <td>0</td>\n",
       "      <td>0</td>\n",
       "      <td>1</td>\n",
       "      <td>0</td>\n",
       "      <td>0</td>\n",
       "    </tr>\n",
       "    <tr>\n",
       "      <th>737</th>\n",
       "      <td>0.617496</td>\n",
       "      <td>0.617576</td>\n",
       "      <td>0.274912</td>\n",
       "      <td>-0.104732</td>\n",
       "      <td>-0.127791</td>\n",
       "      <td>0.117611</td>\n",
       "      <td>1.751379</td>\n",
       "      <td>0.637643</td>\n",
       "      <td>-0.280457</td>\n",
       "      <td>0.407517</td>\n",
       "      <td>1</td>\n",
       "      <td>0</td>\n",
       "      <td>0</td>\n",
       "      <td>1</td>\n",
       "      <td>0</td>\n",
       "      <td>1</td>\n",
       "      <td>0</td>\n",
       "      <td>0</td>\n",
       "      <td>0</td>\n",
       "      <td>0</td>\n",
       "      <td>0</td>\n",
       "      <td>0</td>\n",
       "      <td>1</td>\n",
       "      <td>0</td>\n",
       "      <td>0</td>\n",
       "    </tr>\n",
       "    <tr>\n",
       "      <th>126</th>\n",
       "      <td>1.810708</td>\n",
       "      <td>1.810711</td>\n",
       "      <td>-0.428848</td>\n",
       "      <td>-0.305416</td>\n",
       "      <td>-0.162001</td>\n",
       "      <td>-0.303645</td>\n",
       "      <td>-0.523419</td>\n",
       "      <td>0.242550</td>\n",
       "      <td>-0.177482</td>\n",
       "      <td>0.018045</td>\n",
       "      <td>1</td>\n",
       "      <td>0</td>\n",
       "      <td>1</td>\n",
       "      <td>0</td>\n",
       "      <td>0</td>\n",
       "      <td>1</td>\n",
       "      <td>0</td>\n",
       "      <td>0</td>\n",
       "      <td>0</td>\n",
       "      <td>0</td>\n",
       "      <td>1</td>\n",
       "      <td>0</td>\n",
       "      <td>0</td>\n",
       "      <td>0</td>\n",
       "      <td>0</td>\n",
       "    </tr>\n",
       "    <tr>\n",
       "      <th>354</th>\n",
       "      <td>-0.088594</td>\n",
       "      <td>-0.088594</td>\n",
       "      <td>0.236070</td>\n",
       "      <td>-0.061305</td>\n",
       "      <td>-0.116387</td>\n",
       "      <td>-0.303496</td>\n",
       "      <td>0.467648</td>\n",
       "      <td>-0.115048</td>\n",
       "      <td>1.723436</td>\n",
       "      <td>0.018045</td>\n",
       "      <td>0</td>\n",
       "      <td>1</td>\n",
       "      <td>0</td>\n",
       "      <td>0</td>\n",
       "      <td>0</td>\n",
       "      <td>0</td>\n",
       "      <td>1</td>\n",
       "      <td>0</td>\n",
       "      <td>0</td>\n",
       "      <td>0</td>\n",
       "      <td>0</td>\n",
       "      <td>1</td>\n",
       "      <td>0</td>\n",
       "      <td>0</td>\n",
       "      <td>0</td>\n",
       "    </tr>\n",
       "    <tr>\n",
       "      <th>1077</th>\n",
       "      <td>0.968954</td>\n",
       "      <td>0.968876</td>\n",
       "      <td>6.759682</td>\n",
       "      <td>10.429337</td>\n",
       "      <td>5.155847</td>\n",
       "      <td>0.622188</td>\n",
       "      <td>6.603617</td>\n",
       "      <td>4.254181</td>\n",
       "      <td>5.067717</td>\n",
       "      <td>-0.371427</td>\n",
       "      <td>1</td>\n",
       "      <td>0</td>\n",
       "      <td>0</td>\n",
       "      <td>1</td>\n",
       "      <td>0</td>\n",
       "      <td>0</td>\n",
       "      <td>1</td>\n",
       "      <td>0</td>\n",
       "      <td>0</td>\n",
       "      <td>0</td>\n",
       "      <td>0</td>\n",
       "      <td>0</td>\n",
       "      <td>1</td>\n",
       "      <td>0</td>\n",
       "      <td>0</td>\n",
       "    </tr>\n",
       "    <tr>\n",
       "      <th>...</th>\n",
       "      <td>...</td>\n",
       "      <td>...</td>\n",
       "      <td>...</td>\n",
       "      <td>...</td>\n",
       "      <td>...</td>\n",
       "      <td>...</td>\n",
       "      <td>...</td>\n",
       "      <td>...</td>\n",
       "      <td>...</td>\n",
       "      <td>...</td>\n",
       "      <td>...</td>\n",
       "      <td>...</td>\n",
       "      <td>...</td>\n",
       "      <td>...</td>\n",
       "      <td>...</td>\n",
       "      <td>...</td>\n",
       "      <td>...</td>\n",
       "      <td>...</td>\n",
       "      <td>...</td>\n",
       "      <td>...</td>\n",
       "      <td>...</td>\n",
       "      <td>...</td>\n",
       "      <td>...</td>\n",
       "      <td>...</td>\n",
       "      <td>...</td>\n",
       "    </tr>\n",
       "    <tr>\n",
       "      <th>1021</th>\n",
       "      <td>-0.558262</td>\n",
       "      <td>-0.558184</td>\n",
       "      <td>-0.053070</td>\n",
       "      <td>0.607512</td>\n",
       "      <td>-0.173405</td>\n",
       "      <td>-0.182079</td>\n",
       "      <td>-0.540048</td>\n",
       "      <td>-0.223195</td>\n",
       "      <td>0.239736</td>\n",
       "      <td>-0.371427</td>\n",
       "      <td>1</td>\n",
       "      <td>0</td>\n",
       "      <td>0</td>\n",
       "      <td>1</td>\n",
       "      <td>0</td>\n",
       "      <td>0</td>\n",
       "      <td>0</td>\n",
       "      <td>0</td>\n",
       "      <td>0</td>\n",
       "      <td>1</td>\n",
       "      <td>0</td>\n",
       "      <td>0</td>\n",
       "      <td>0</td>\n",
       "      <td>0</td>\n",
       "      <td>0</td>\n",
       "    </tr>\n",
       "    <tr>\n",
       "      <th>958</th>\n",
       "      <td>-1.109647</td>\n",
       "      <td>-1.109649</td>\n",
       "      <td>-0.504627</td>\n",
       "      <td>-0.238458</td>\n",
       "      <td>-0.082177</td>\n",
       "      <td>1.148082</td>\n",
       "      <td>-0.633168</td>\n",
       "      <td>-0.297163</td>\n",
       "      <td>-0.368970</td>\n",
       "      <td>0.018045</td>\n",
       "      <td>1</td>\n",
       "      <td>0</td>\n",
       "      <td>0</td>\n",
       "      <td>1</td>\n",
       "      <td>0</td>\n",
       "      <td>1</td>\n",
       "      <td>0</td>\n",
       "      <td>0</td>\n",
       "      <td>0</td>\n",
       "      <td>0</td>\n",
       "      <td>1</td>\n",
       "      <td>0</td>\n",
       "      <td>0</td>\n",
       "      <td>0</td>\n",
       "      <td>0</td>\n",
       "    </tr>\n",
       "    <tr>\n",
       "      <th>1078</th>\n",
       "      <td>-0.874019</td>\n",
       "      <td>-0.874021</td>\n",
       "      <td>-0.281716</td>\n",
       "      <td>0.255694</td>\n",
       "      <td>-0.184808</td>\n",
       "      <td>-0.303687</td>\n",
       "      <td>-0.423647</td>\n",
       "      <td>-0.505294</td>\n",
       "      <td>0.081132</td>\n",
       "      <td>-0.371427</td>\n",
       "      <td>0</td>\n",
       "      <td>0</td>\n",
       "      <td>1</td>\n",
       "      <td>0</td>\n",
       "      <td>1</td>\n",
       "      <td>0</td>\n",
       "      <td>0</td>\n",
       "      <td>0</td>\n",
       "      <td>0</td>\n",
       "      <td>0</td>\n",
       "      <td>0</td>\n",
       "      <td>1</td>\n",
       "      <td>0</td>\n",
       "      <td>0</td>\n",
       "      <td>0</td>\n",
       "    </tr>\n",
       "    <tr>\n",
       "      <th>779</th>\n",
       "      <td>-1.043798</td>\n",
       "      <td>-1.043721</td>\n",
       "      <td>0.057283</td>\n",
       "      <td>0.692071</td>\n",
       "      <td>0.020455</td>\n",
       "      <td>-0.209918</td>\n",
       "      <td>-0.476859</td>\n",
       "      <td>-0.217073</td>\n",
       "      <td>-0.177094</td>\n",
       "      <td>0.018045</td>\n",
       "      <td>1</td>\n",
       "      <td>0</td>\n",
       "      <td>0</td>\n",
       "      <td>1</td>\n",
       "      <td>0</td>\n",
       "      <td>0</td>\n",
       "      <td>0</td>\n",
       "      <td>0</td>\n",
       "      <td>0</td>\n",
       "      <td>1</td>\n",
       "      <td>1</td>\n",
       "      <td>0</td>\n",
       "      <td>0</td>\n",
       "      <td>0</td>\n",
       "      <td>0</td>\n",
       "    </tr>\n",
       "    <tr>\n",
       "      <th>840</th>\n",
       "      <td>2.118531</td>\n",
       "      <td>2.118456</td>\n",
       "      <td>0.295944</td>\n",
       "      <td>0.077394</td>\n",
       "      <td>-0.188610</td>\n",
       "      <td>-0.294805</td>\n",
       "      <td>1.285777</td>\n",
       "      <td>-0.510396</td>\n",
       "      <td>-0.101380</td>\n",
       "      <td>1.186462</td>\n",
       "      <td>1</td>\n",
       "      <td>0</td>\n",
       "      <td>0</td>\n",
       "      <td>1</td>\n",
       "      <td>0</td>\n",
       "      <td>0</td>\n",
       "      <td>0</td>\n",
       "      <td>1</td>\n",
       "      <td>0</td>\n",
       "      <td>0</td>\n",
       "      <td>0</td>\n",
       "      <td>0</td>\n",
       "      <td>1</td>\n",
       "      <td>0</td>\n",
       "      <td>0</td>\n",
       "    </tr>\n",
       "  </tbody>\n",
       "</table>\n",
       "<p>334 rows × 25 columns</p>\n",
       "</div>"
      ],
      "text/plain": [
       "      network_age  Customer tenure in month  \\\n",
       "663      1.935265                  1.935190   \n",
       "737      0.617496                  0.617576   \n",
       "126      1.810708                  1.810711   \n",
       "354     -0.088594                 -0.088594   \n",
       "1077     0.968954                  0.968876   \n",
       "...           ...                       ...   \n",
       "1021    -0.558262                 -0.558184   \n",
       "958     -1.109647                 -1.109649   \n",
       "1078    -0.874019                 -0.874021   \n",
       "779     -1.043798                 -1.043721   \n",
       "840      2.118531                  2.118456   \n",
       "\n",
       "      Total Spend in Months 1 and 2 of 2017  Total SMS Spend  \\\n",
       "663                               -0.208415        -0.439333   \n",
       "737                                0.274912        -0.104732   \n",
       "126                               -0.428848        -0.305416   \n",
       "354                                0.236070        -0.061305   \n",
       "1077                               6.759682        10.429337   \n",
       "...                                     ...              ...   \n",
       "1021                              -0.053070         0.607512   \n",
       "958                               -0.504627        -0.238458   \n",
       "1078                              -0.281716         0.255694   \n",
       "779                                0.057283         0.692071   \n",
       "840                                0.295944         0.077394   \n",
       "\n",
       "      Total Data Spend  Total Data Consumption  Total Unique Calls  \\\n",
       "663          -0.165802               -0.303650           -0.167566   \n",
       "737          -0.127791                0.117611            1.751379   \n",
       "126          -0.162001               -0.303645           -0.523419   \n",
       "354          -0.116387               -0.303496            0.467648   \n",
       "1077          5.155847                0.622188            6.603617   \n",
       "...                ...                     ...                 ...   \n",
       "1021         -0.173405               -0.182079           -0.540048   \n",
       "958          -0.082177                1.148082           -0.633168   \n",
       "1078         -0.184808               -0.303687           -0.423647   \n",
       "779           0.020455               -0.209918           -0.476859   \n",
       "840          -0.188610               -0.294805            1.285777   \n",
       "\n",
       "      Total Onnet spend  Total Offnet spend  \\\n",
       "663            0.294583            0.074760   \n",
       "737            0.637643           -0.280457   \n",
       "126            0.242550           -0.177482   \n",
       "354           -0.115048            1.723436   \n",
       "1077           4.254181            5.067717   \n",
       "...                 ...                 ...   \n",
       "1021          -0.223195            0.239736   \n",
       "958           -0.297163           -0.368970   \n",
       "1078          -0.505294            0.081132   \n",
       "779           -0.217073           -0.177094   \n",
       "840           -0.510396           -0.101380   \n",
       "\n",
       "      Total Call centre complaint calls  \\\n",
       "663                           -0.371427   \n",
       "737                            0.407517   \n",
       "126                            0.018045   \n",
       "354                            0.018045   \n",
       "1077                          -0.371427   \n",
       "...                                 ...   \n",
       "1021                          -0.371427   \n",
       "958                            0.018045   \n",
       "1078                          -0.371427   \n",
       "779                            0.018045   \n",
       "840                            1.186462   \n",
       "\n",
       "      Network type subscription in Month 1_3G  \\\n",
       "663                                         0   \n",
       "737                                         1   \n",
       "126                                         1   \n",
       "354                                         0   \n",
       "1077                                        1   \n",
       "...                                       ...   \n",
       "1021                                        1   \n",
       "958                                         1   \n",
       "1078                                        0   \n",
       "779                                         1   \n",
       "840                                         1   \n",
       "\n",
       "      Network type subscription in Month 1_Other  \\\n",
       "663                                            1   \n",
       "737                                            0   \n",
       "126                                            0   \n",
       "354                                            1   \n",
       "1077                                           0   \n",
       "...                                          ...   \n",
       "1021                                           0   \n",
       "958                                            0   \n",
       "1078                                           0   \n",
       "779                                            0   \n",
       "840                                            0   \n",
       "\n",
       "      Network type subscription in Month 2_2G  \\\n",
       "663                                         0   \n",
       "737                                         0   \n",
       "126                                         1   \n",
       "354                                         0   \n",
       "1077                                        0   \n",
       "...                                       ...   \n",
       "1021                                        0   \n",
       "958                                         0   \n",
       "1078                                        1   \n",
       "779                                         0   \n",
       "840                                         0   \n",
       "\n",
       "      Network type subscription in Month 2_3G  \\\n",
       "663                                         0   \n",
       "737                                         1   \n",
       "126                                         0   \n",
       "354                                         0   \n",
       "1077                                        1   \n",
       "...                                       ...   \n",
       "1021                                        1   \n",
       "958                                         1   \n",
       "1078                                        0   \n",
       "779                                         1   \n",
       "840                                         1   \n",
       "\n",
       "      Most Loved Competitor network in Month 1_Mango  \\\n",
       "663                                                0   \n",
       "737                                                0   \n",
       "126                                                0   \n",
       "354                                                0   \n",
       "1077                                               0   \n",
       "...                                              ...   \n",
       "1021                                               0   \n",
       "958                                                0   \n",
       "1078                                               1   \n",
       "779                                                0   \n",
       "840                                                0   \n",
       "\n",
       "      Most Loved Competitor network in Month 1_PQza  \\\n",
       "663                                               0   \n",
       "737                                               1   \n",
       "126                                               1   \n",
       "354                                               0   \n",
       "1077                                              0   \n",
       "...                                             ...   \n",
       "1021                                              0   \n",
       "958                                               1   \n",
       "1078                                              0   \n",
       "779                                               0   \n",
       "840                                               0   \n",
       "\n",
       "      Most Loved Competitor network in Month 1_ToCall  \\\n",
       "663                                                 0   \n",
       "737                                                 0   \n",
       "126                                                 0   \n",
       "354                                                 1   \n",
       "1077                                                1   \n",
       "...                                               ...   \n",
       "1021                                                0   \n",
       "958                                                 0   \n",
       "1078                                                0   \n",
       "779                                                 0   \n",
       "840                                                 0   \n",
       "\n",
       "      Most Loved Competitor network in Month 1_Uxaa  \\\n",
       "663                                               1   \n",
       "737                                               0   \n",
       "126                                               0   \n",
       "354                                               0   \n",
       "1077                                              0   \n",
       "...                                             ...   \n",
       "1021                                              0   \n",
       "958                                               0   \n",
       "1078                                              0   \n",
       "779                                               0   \n",
       "840                                               1   \n",
       "\n",
       "      Most Loved Competitor network in Month 1_Weematel  \\\n",
       "663                                                   0   \n",
       "737                                                   0   \n",
       "126                                                   0   \n",
       "354                                                   0   \n",
       "1077                                                  0   \n",
       "...                                                 ...   \n",
       "1021                                                  0   \n",
       "958                                                   0   \n",
       "1078                                                  0   \n",
       "779                                                   0   \n",
       "840                                                   0   \n",
       "\n",
       "      Most Loved Competitor network in Month 1_Zintel  \\\n",
       "663                                                 0   \n",
       "737                                                 0   \n",
       "126                                                 0   \n",
       "354                                                 0   \n",
       "1077                                                0   \n",
       "...                                               ...   \n",
       "1021                                                1   \n",
       "958                                                 0   \n",
       "1078                                                0   \n",
       "779                                                 1   \n",
       "840                                                 0   \n",
       "\n",
       "      Most Loved Competitor network in Month 2_PQza  \\\n",
       "663                                               0   \n",
       "737                                               0   \n",
       "126                                               1   \n",
       "354                                               0   \n",
       "1077                                              0   \n",
       "...                                             ...   \n",
       "1021                                              0   \n",
       "958                                               1   \n",
       "1078                                              0   \n",
       "779                                               1   \n",
       "840                                               0   \n",
       "\n",
       "      Most Loved Competitor network in Month 2_ToCall  \\\n",
       "663                                                 0   \n",
       "737                                                 0   \n",
       "126                                                 0   \n",
       "354                                                 1   \n",
       "1077                                                0   \n",
       "...                                               ...   \n",
       "1021                                                0   \n",
       "958                                                 0   \n",
       "1078                                                1   \n",
       "779                                                 0   \n",
       "840                                                 0   \n",
       "\n",
       "      Most Loved Competitor network in Month 2_Uxaa  \\\n",
       "663                                               1   \n",
       "737                                               1   \n",
       "126                                               0   \n",
       "354                                               0   \n",
       "1077                                              1   \n",
       "...                                             ...   \n",
       "1021                                              0   \n",
       "958                                               0   \n",
       "1078                                              0   \n",
       "779                                               0   \n",
       "840                                               1   \n",
       "\n",
       "      Most Loved Competitor network in Month 2_Weematel  \\\n",
       "663                                                   0   \n",
       "737                                                   0   \n",
       "126                                                   0   \n",
       "354                                                   0   \n",
       "1077                                                  0   \n",
       "...                                                 ...   \n",
       "1021                                                  0   \n",
       "958                                                   0   \n",
       "1078                                                  0   \n",
       "779                                                   0   \n",
       "840                                                   0   \n",
       "\n",
       "      Most Loved Competitor network in Month 2_Zintel  \n",
       "663                                                 0  \n",
       "737                                                 0  \n",
       "126                                                 0  \n",
       "354                                                 0  \n",
       "1077                                                0  \n",
       "...                                               ...  \n",
       "1021                                                0  \n",
       "958                                                 0  \n",
       "1078                                                0  \n",
       "779                                                 0  \n",
       "840                                                 0  \n",
       "\n",
       "[334 rows x 25 columns]"
      ]
     },
     "execution_count": 433,
     "metadata": {},
     "output_type": "execute_result"
    }
   ],
   "source": [
    "pd.DataFrame(x_test_scaled)"
   ]
  },
  {
   "cell_type": "markdown",
   "metadata": {},
   "source": [
    "• Si no se especifica en LogisticRegression el parámetro C, este es 1, indicando\n",
    "un grado medio de regularización. Al igual que con la regresión lineal, podemos\n",
    "hacer que sklearn ajuste automáticamente ese parámetro de regularización\n",
    "usando LogisticRegressionCV. ¿Qué obtienes ahora? ¿es mejor que el anterior\n",
    "modelo?"
   ]
  },
  {
   "cell_type": "markdown",
   "metadata": {},
   "source": [
    "Al usar LogisticRegressionCV() permitimos una selección automática el parametro C. Si eligiésemos LogisticRegression() con el parámetro C por defecto, corremos el riesgo \n",
    "de obtener un modelo menos robusto y generalizable, es decir, hay más probabilidades de que haya sobreajuste. Sin embargo, LogisticRegressionCV() ayuda a mitigar este riesgo al seleccionar automáticamente el mejor valor de C basándose en validación cruzada.\n",
    "\n",
    "Podemos observar que los coeficientes son muy similares y los scores son iguales, pero en caso de que al usar LogisticRegresion() con C=1 tuviésemos sobreajuste, ajustar la regularización podría ayudarnos a conseguir un mejor modelo, pero en esto, no podemos decir que sea un mejor modelo ya que ambos tienen la misma precisión."
   ]
  },
  {
   "cell_type": "code",
   "execution_count": 434,
   "metadata": {},
   "outputs": [
    {
     "name": "stderr",
     "output_type": "stream",
     "text": [
      "C:\\Users\\juanj\\AppData\\Local\\Packages\\PythonSoftwareFoundation.Python.3.10_qbz5n2kfra8p0\\LocalCache\\local-packages\\Python310\\site-packages\\sklearn\\utils\\validation.py:767: FutureWarning: is_sparse is deprecated and will be removed in a future version. Check `isinstance(dtype, pd.SparseDtype)` instead.\n",
      "  if not hasattr(array, \"sparse\") and array.dtypes.apply(is_sparse).any():\n",
      "C:\\Users\\juanj\\AppData\\Local\\Packages\\PythonSoftwareFoundation.Python.3.10_qbz5n2kfra8p0\\LocalCache\\local-packages\\Python310\\site-packages\\sklearn\\utils\\validation.py:605: FutureWarning: is_sparse is deprecated and will be removed in a future version. Check `isinstance(dtype, pd.SparseDtype)` instead.\n",
      "  if is_sparse(pd_dtype):\n",
      "C:\\Users\\juanj\\AppData\\Local\\Packages\\PythonSoftwareFoundation.Python.3.10_qbz5n2kfra8p0\\LocalCache\\local-packages\\Python310\\site-packages\\sklearn\\utils\\validation.py:614: FutureWarning: is_sparse is deprecated and will be removed in a future version. Check `isinstance(dtype, pd.SparseDtype)` instead.\n",
      "  if is_sparse(pd_dtype) or not is_extension_array_dtype(pd_dtype):\n",
      "C:\\Users\\juanj\\AppData\\Local\\Packages\\PythonSoftwareFoundation.Python.3.10_qbz5n2kfra8p0\\LocalCache\\local-packages\\Python310\\site-packages\\sklearn\\utils\\validation.py:605: FutureWarning: is_sparse is deprecated and will be removed in a future version. Check `isinstance(dtype, pd.SparseDtype)` instead.\n",
      "  if is_sparse(pd_dtype):\n",
      "C:\\Users\\juanj\\AppData\\Local\\Packages\\PythonSoftwareFoundation.Python.3.10_qbz5n2kfra8p0\\LocalCache\\local-packages\\Python310\\site-packages\\sklearn\\utils\\validation.py:614: FutureWarning: is_sparse is deprecated and will be removed in a future version. Check `isinstance(dtype, pd.SparseDtype)` instead.\n",
      "  if is_sparse(pd_dtype) or not is_extension_array_dtype(pd_dtype):\n"
     ]
    },
    {
     "name": "stdout",
     "output_type": "stream",
     "text": [
      "Coeficientes con sklearn [[-0.12279661 -0.12277952 -0.24828418  0.23240635  0.29850369 -0.48332999\n",
      "  -0.21139327 -0.0612554   0.50824526 -0.05790228  0.09731557 -0.21068781\n",
      "   0.15807498  0.03458087  0.25240415  0.12141489 -0.04647179  0.01284493\n",
      "  -0.08672912 -0.11319174  0.38910338  0.16642811 -0.74247905  0.03906622\n",
      "   0.10711108]]\n",
      "[0.11992077]\n",
      "Tasa de acierto en train: 0.7297297297297297\n",
      "Tasa de acierto en test: 0.6916167664670658\n"
     ]
    },
    {
     "name": "stderr",
     "output_type": "stream",
     "text": [
      "C:\\Users\\juanj\\AppData\\Local\\Packages\\PythonSoftwareFoundation.Python.3.10_qbz5n2kfra8p0\\LocalCache\\local-packages\\Python310\\site-packages\\sklearn\\utils\\validation.py:767: FutureWarning: is_sparse is deprecated and will be removed in a future version. Check `isinstance(dtype, pd.SparseDtype)` instead.\n",
      "  if not hasattr(array, \"sparse\") and array.dtypes.apply(is_sparse).any():\n",
      "C:\\Users\\juanj\\AppData\\Local\\Packages\\PythonSoftwareFoundation.Python.3.10_qbz5n2kfra8p0\\LocalCache\\local-packages\\Python310\\site-packages\\sklearn\\utils\\validation.py:605: FutureWarning: is_sparse is deprecated and will be removed in a future version. Check `isinstance(dtype, pd.SparseDtype)` instead.\n",
      "  if is_sparse(pd_dtype):\n",
      "C:\\Users\\juanj\\AppData\\Local\\Packages\\PythonSoftwareFoundation.Python.3.10_qbz5n2kfra8p0\\LocalCache\\local-packages\\Python310\\site-packages\\sklearn\\utils\\validation.py:614: FutureWarning: is_sparse is deprecated and will be removed in a future version. Check `isinstance(dtype, pd.SparseDtype)` instead.\n",
      "  if is_sparse(pd_dtype) or not is_extension_array_dtype(pd_dtype):\n",
      "C:\\Users\\juanj\\AppData\\Local\\Packages\\PythonSoftwareFoundation.Python.3.10_qbz5n2kfra8p0\\LocalCache\\local-packages\\Python310\\site-packages\\sklearn\\utils\\validation.py:767: FutureWarning: is_sparse is deprecated and will be removed in a future version. Check `isinstance(dtype, pd.SparseDtype)` instead.\n",
      "  if not hasattr(array, \"sparse\") and array.dtypes.apply(is_sparse).any():\n",
      "C:\\Users\\juanj\\AppData\\Local\\Packages\\PythonSoftwareFoundation.Python.3.10_qbz5n2kfra8p0\\LocalCache\\local-packages\\Python310\\site-packages\\sklearn\\utils\\validation.py:605: FutureWarning: is_sparse is deprecated and will be removed in a future version. Check `isinstance(dtype, pd.SparseDtype)` instead.\n",
      "  if is_sparse(pd_dtype):\n",
      "C:\\Users\\juanj\\AppData\\Local\\Packages\\PythonSoftwareFoundation.Python.3.10_qbz5n2kfra8p0\\LocalCache\\local-packages\\Python310\\site-packages\\sklearn\\utils\\validation.py:614: FutureWarning: is_sparse is deprecated and will be removed in a future version. Check `isinstance(dtype, pd.SparseDtype)` instead.\n",
      "  if is_sparse(pd_dtype) or not is_extension_array_dtype(pd_dtype):\n",
      "C:\\Users\\juanj\\AppData\\Local\\Packages\\PythonSoftwareFoundation.Python.3.10_qbz5n2kfra8p0\\LocalCache\\local-packages\\Python310\\site-packages\\sklearn\\utils\\validation.py:605: FutureWarning: is_sparse is deprecated and will be removed in a future version. Check `isinstance(dtype, pd.SparseDtype)` instead.\n",
      "  if is_sparse(pd_dtype):\n",
      "C:\\Users\\juanj\\AppData\\Local\\Packages\\PythonSoftwareFoundation.Python.3.10_qbz5n2kfra8p0\\LocalCache\\local-packages\\Python310\\site-packages\\sklearn\\utils\\validation.py:614: FutureWarning: is_sparse is deprecated and will be removed in a future version. Check `isinstance(dtype, pd.SparseDtype)` instead.\n",
      "  if is_sparse(pd_dtype) or not is_extension_array_dtype(pd_dtype):\n",
      "C:\\Users\\juanj\\AppData\\Local\\Packages\\PythonSoftwareFoundation.Python.3.10_qbz5n2kfra8p0\\LocalCache\\local-packages\\Python310\\site-packages\\sklearn\\utils\\validation.py:767: FutureWarning: is_sparse is deprecated and will be removed in a future version. Check `isinstance(dtype, pd.SparseDtype)` instead.\n",
      "  if not hasattr(array, \"sparse\") and array.dtypes.apply(is_sparse).any():\n",
      "C:\\Users\\juanj\\AppData\\Local\\Packages\\PythonSoftwareFoundation.Python.3.10_qbz5n2kfra8p0\\LocalCache\\local-packages\\Python310\\site-packages\\sklearn\\utils\\validation.py:605: FutureWarning: is_sparse is deprecated and will be removed in a future version. Check `isinstance(dtype, pd.SparseDtype)` instead.\n",
      "  if is_sparse(pd_dtype):\n",
      "C:\\Users\\juanj\\AppData\\Local\\Packages\\PythonSoftwareFoundation.Python.3.10_qbz5n2kfra8p0\\LocalCache\\local-packages\\Python310\\site-packages\\sklearn\\utils\\validation.py:614: FutureWarning: is_sparse is deprecated and will be removed in a future version. Check `isinstance(dtype, pd.SparseDtype)` instead.\n",
      "  if is_sparse(pd_dtype) or not is_extension_array_dtype(pd_dtype):\n",
      "C:\\Users\\juanj\\AppData\\Local\\Packages\\PythonSoftwareFoundation.Python.3.10_qbz5n2kfra8p0\\LocalCache\\local-packages\\Python310\\site-packages\\sklearn\\utils\\validation.py:605: FutureWarning: is_sparse is deprecated and will be removed in a future version. Check `isinstance(dtype, pd.SparseDtype)` instead.\n",
      "  if is_sparse(pd_dtype):\n",
      "C:\\Users\\juanj\\AppData\\Local\\Packages\\PythonSoftwareFoundation.Python.3.10_qbz5n2kfra8p0\\LocalCache\\local-packages\\Python310\\site-packages\\sklearn\\utils\\validation.py:614: FutureWarning: is_sparse is deprecated and will be removed in a future version. Check `isinstance(dtype, pd.SparseDtype)` instead.\n",
      "  if is_sparse(pd_dtype) or not is_extension_array_dtype(pd_dtype):\n"
     ]
    }
   ],
   "source": [
    "xscaler = StandardScaler() ; \n",
    "modelo= sklearn.linear_model.LogisticRegressionCV()\n",
    "\n",
    "\n",
    "\n",
    "modelo.fit(x_train_scaled,y_train)\n",
    "\n",
    "print('Coeficientes con sklearn',modelo.coef_) # w0, w1, w2, ... calculados\n",
    "print(modelo.intercept_ )\n",
    "\n",
    "y_pred=modelo.predict(x_test_scaled) # Estimación clases\n",
    "\n",
    "\n",
    "\n",
    "print('Tasa de acierto en train:',modelo.score(x_train_scaled,y_train) )\n",
    "print('Tasa de acierto en test:',modelo.score(x_test_scaled,y_test) )"
   ]
  },
  {
   "cell_type": "markdown",
   "metadata": {},
   "source": [
    "# SEMANA 2"
   ]
  },
  {
   "cell_type": "markdown",
   "metadata": {},
   "source": [
    "### Paso 1. Construcción y análisis de un modelo de regresión logística usando la librería statsmodels"
   ]
  },
  {
   "cell_type": "markdown",
   "metadata": {},
   "source": [
    "• Construye un modelo de regresión logística usando la librería statsmodels (clase\n",
    "Logit de statsmodels.api). ¿Obtiene los mismos coeficientes que sklearn? ¿Los\n",
    "scores son los mismos?"
   ]
  },
  {
   "cell_type": "markdown",
   "metadata": {},
   "source": [
    "Como esta librería no tiene una función que devuelva la precisión en el contexto de la clasificación como lo hace scikit-learn, hemos creado el modelo con statsmodels y para \n",
    "medir el score hemos usado la función accuracy_score de sklearn.metrics.\n",
    "\n",
    "Los coeficientes difieren bastante ; se puede ver que dos de los primeros coeficientes de statsmodels son 527 y -527, y el resto de coeficientes también son distintos. \n",
    "Esto se puede deber a que StatsModels utiliza una parametrización del modelo logístico distinta a sklearn. En particular, los coeficientes de StatsModels están en una escala diferente debido a la parametrización específica utilizada. Sin embargo, ambas formas nos ofrecen una tasa de acierto de 71% en train y 73% en test."
   ]
  },
  {
   "cell_type": "code",
   "execution_count": 435,
   "metadata": {},
   "outputs": [
    {
     "name": "stdout",
     "output_type": "stream",
     "text": [
      "Coeficientes con statsmodels: const                                                 -0.763440\n",
      "network_age                                         -331.348646\n",
      "Customer tenure in month                             331.104279\n",
      "Total Spend in Months 1 and 2 of 2017                 -0.799715\n",
      "Total SMS Spend                                        0.285372\n",
      "                                                        ...    \n",
      "Most Loved Competitor network in Month 2_PQza          0.765809\n",
      "Most Loved Competitor network in Month 2_ToCall        0.776775\n",
      "Most Loved Competitor network in Month 2_Uxaa         -0.908580\n",
      "Most Loved Competitor network in Month 2_Weematel      0.166274\n",
      "Most Loved Competitor network in Month 2_Zintel        0.821604\n",
      "Length: 26, dtype: float64\n",
      "score de train con statsmodels:  0.7245817245817245\n",
      "score de test con statsmodels:  0.688622754491018\n"
     ]
    },
    {
     "name": "stderr",
     "output_type": "stream",
     "text": [
      "C:\\Users\\juanj\\AppData\\Local\\Packages\\PythonSoftwareFoundation.Python.3.10_qbz5n2kfra8p0\\LocalCache\\local-packages\\Python310\\site-packages\\sklearn\\utils\\validation.py:605: FutureWarning: is_sparse is deprecated and will be removed in a future version. Check `isinstance(dtype, pd.SparseDtype)` instead.\n",
      "  if is_sparse(pd_dtype):\n",
      "C:\\Users\\juanj\\AppData\\Local\\Packages\\PythonSoftwareFoundation.Python.3.10_qbz5n2kfra8p0\\LocalCache\\local-packages\\Python310\\site-packages\\sklearn\\utils\\validation.py:614: FutureWarning: is_sparse is deprecated and will be removed in a future version. Check `isinstance(dtype, pd.SparseDtype)` instead.\n",
      "  if is_sparse(pd_dtype) or not is_extension_array_dtype(pd_dtype):\n",
      "C:\\Users\\juanj\\AppData\\Local\\Packages\\PythonSoftwareFoundation.Python.3.10_qbz5n2kfra8p0\\LocalCache\\local-packages\\Python310\\site-packages\\sklearn\\utils\\validation.py:605: FutureWarning: is_sparse is deprecated and will be removed in a future version. Check `isinstance(dtype, pd.SparseDtype)` instead.\n",
      "  if is_sparse(pd_dtype):\n",
      "C:\\Users\\juanj\\AppData\\Local\\Packages\\PythonSoftwareFoundation.Python.3.10_qbz5n2kfra8p0\\LocalCache\\local-packages\\Python310\\site-packages\\sklearn\\utils\\validation.py:614: FutureWarning: is_sparse is deprecated and will be removed in a future version. Check `isinstance(dtype, pd.SparseDtype)` instead.\n",
      "  if is_sparse(pd_dtype) or not is_extension_array_dtype(pd_dtype):\n",
      "C:\\Users\\juanj\\AppData\\Local\\Packages\\PythonSoftwareFoundation.Python.3.10_qbz5n2kfra8p0\\LocalCache\\local-packages\\Python310\\site-packages\\sklearn\\utils\\validation.py:605: FutureWarning: is_sparse is deprecated and will be removed in a future version. Check `isinstance(dtype, pd.SparseDtype)` instead.\n",
      "  if is_sparse(pd_dtype):\n",
      "C:\\Users\\juanj\\AppData\\Local\\Packages\\PythonSoftwareFoundation.Python.3.10_qbz5n2kfra8p0\\LocalCache\\local-packages\\Python310\\site-packages\\sklearn\\utils\\validation.py:614: FutureWarning: is_sparse is deprecated and will be removed in a future version. Check `isinstance(dtype, pd.SparseDtype)` instead.\n",
      "  if is_sparse(pd_dtype) or not is_extension_array_dtype(pd_dtype):\n",
      "C:\\Users\\juanj\\AppData\\Local\\Packages\\PythonSoftwareFoundation.Python.3.10_qbz5n2kfra8p0\\LocalCache\\local-packages\\Python310\\site-packages\\sklearn\\utils\\validation.py:605: FutureWarning: is_sparse is deprecated and will be removed in a future version. Check `isinstance(dtype, pd.SparseDtype)` instead.\n",
      "  if is_sparse(pd_dtype):\n",
      "C:\\Users\\juanj\\AppData\\Local\\Packages\\PythonSoftwareFoundation.Python.3.10_qbz5n2kfra8p0\\LocalCache\\local-packages\\Python310\\site-packages\\sklearn\\utils\\validation.py:614: FutureWarning: is_sparse is deprecated and will be removed in a future version. Check `isinstance(dtype, pd.SparseDtype)` instead.\n",
      "  if is_sparse(pd_dtype) or not is_extension_array_dtype(pd_dtype):\n"
     ]
    }
   ],
   "source": [
    "import statsmodels.api as sm ; from sklearn.metrics import accuracy_score\n",
    "\n",
    "model = sm.GLM(y_train.values, sm.add_constant(x_train_scaled),family=sm.families.Binomial())\n",
    "result = model.fit()\n",
    "result.summary()\n",
    "preds_train= result.predict(sm.add_constant(x_train_scaled))\n",
    "preds_test = result.predict(sm.add_constant(x_test_scaled))\n",
    "preds_test  #probabilidades de pertenecer a la clase positiva\n",
    "\n",
    "print('Coeficientes con statsmodels:',result.params)\n",
    "umbral = 0.5\n",
    "\n",
    "predicciones_clase_train = (preds_train > umbral).astype(int)\n",
    "predicciones_clase_test = (preds_test > umbral).astype(int)\n",
    "\n",
    "precision_train = accuracy_score(y_train, predicciones_clase_train)\n",
    "print('score de train con statsmodels: ', precision_train)\n",
    "\n",
    "\n",
    "precision_test = accuracy_score(y_test, predicciones_clase_test)\n",
    "print('score de test con statsmodels: ', precision_test)"
   ]
  },
  {
   "cell_type": "markdown",
   "metadata": {},
   "source": [
    "• Saca por pantalla la información estadística del modelo: desviación estándar de\n",
    "los coeficientes, valores p, intervalos de confianza de los coeficientes. Con una\n",
    "significancia estadística del 95%, ¿qué variables parece que no aportan\n",
    "información?"
   ]
  },
  {
   "cell_type": "markdown",
   "metadata": {},
   "source": [
    "Como para cada constante se está haciendo un contraste de significación, la hipótesis nula (se afirma que la variable no es significativa) se rechaza si el p-valor es menor\n",
    "que el nivel de significación, que es un 5%, y por tanto nos quedamos con la hipótesis alternativa, que afirma que la variable sí es significativa para nuestras predicciones.\n",
    "Por tanto, consideramos que no aportan información aquellas variables con un p-valor<0.05, que son: \n",
    "\n",
    "x3  Total Spend in Months 1 and 2 of 2017 \n",
    "\n",
    "x4  Total SMS Spend\n",
    "\n",
    "x5  Total Data Spend\n",
    "\n",
    "x6  Total Data Consumption\n",
    "\n",
    "x8  Total Onnet spend\n",
    "\n",
    "x9  Total Offnet spend\n",
    "\n",
    "x23 Most Loved Competitor network in Month 2_Uxaa\n"
   ]
  },
  {
   "cell_type": "code",
   "execution_count": 436,
   "metadata": {},
   "outputs": [
    {
     "data": {
      "text/html": [
       "<table class=\"simpletable\">\n",
       "<caption>Generalized Linear Model Regression Results</caption>\n",
       "<tr>\n",
       "  <th>Dep. Variable:</th>           <td>y</td>        <th>  No. Observations:  </th>  <td>   777</td> \n",
       "</tr>\n",
       "<tr>\n",
       "  <th>Model:</th>                  <td>GLM</td>       <th>  Df Residuals:      </th>  <td>   751</td> \n",
       "</tr>\n",
       "<tr>\n",
       "  <th>Model Family:</th>        <td>Binomial</td>     <th>  Df Model:          </th>  <td>    25</td> \n",
       "</tr>\n",
       "<tr>\n",
       "  <th>Link Function:</th>         <td>Logit</td>      <th>  Scale:             </th> <td>  1.0000</td>\n",
       "</tr>\n",
       "<tr>\n",
       "  <th>Method:</th>                <td>IRLS</td>       <th>  Log-Likelihood:    </th> <td> -420.96</td>\n",
       "</tr>\n",
       "<tr>\n",
       "  <th>Date:</th>            <td>Thu, 30 Nov 2023</td> <th>  Deviance:          </th> <td>  841.92</td>\n",
       "</tr>\n",
       "<tr>\n",
       "  <th>Time:</th>                <td>03:27:34</td>     <th>  Pearson chi2:      </th>  <td>  801.</td> \n",
       "</tr>\n",
       "<tr>\n",
       "  <th>No. Iterations:</th>          <td>6</td>        <th>  Pseudo R-squ. (CS):</th>  <td>0.2602</td> \n",
       "</tr>\n",
       "<tr>\n",
       "  <th>Covariance Type:</th>     <td>nonrobust</td>    <th>                     </th>     <td> </td>   \n",
       "</tr>\n",
       "</table>\n",
       "<table class=\"simpletable\">\n",
       "<tr>\n",
       "                          <td></td>                             <th>coef</th>     <th>std err</th>      <th>z</th>      <th>P>|z|</th>  <th>[0.025</th>    <th>0.975]</th>  \n",
       "</tr>\n",
       "<tr>\n",
       "  <th>const</th>                                             <td>   -0.7634</td> <td>    1.002</td> <td>   -0.762</td> <td> 0.446</td> <td>   -2.728</td> <td>    1.201</td>\n",
       "</tr>\n",
       "<tr>\n",
       "  <th>network_age</th>                                       <td> -331.3486</td> <td> 1334.353</td> <td>   -0.248</td> <td> 0.804</td> <td>-2946.633</td> <td> 2283.935</td>\n",
       "</tr>\n",
       "<tr>\n",
       "  <th>Customer tenure in month</th>                          <td>  331.1043</td> <td> 1334.352</td> <td>    0.248</td> <td> 0.804</td> <td>-2284.178</td> <td> 2946.387</td>\n",
       "</tr>\n",
       "<tr>\n",
       "  <th>Total Spend in Months 1 and 2 of 2017</th>             <td>   -0.7997</td> <td>    0.270</td> <td>   -2.963</td> <td> 0.003</td> <td>   -1.329</td> <td>   -0.271</td>\n",
       "</tr>\n",
       "<tr>\n",
       "  <th>Total SMS Spend</th>                                   <td>    0.2854</td> <td>    0.133</td> <td>    2.145</td> <td> 0.032</td> <td>    0.025</td> <td>    0.546</td>\n",
       "</tr>\n",
       "<tr>\n",
       "  <th>Total Data Spend</th>                                  <td>    1.0454</td> <td>    0.281</td> <td>    3.723</td> <td> 0.000</td> <td>    0.495</td> <td>    1.596</td>\n",
       "</tr>\n",
       "<tr>\n",
       "  <th>Total Data Consumption</th>                            <td>   -0.8159</td> <td>    0.190</td> <td>   -4.293</td> <td> 0.000</td> <td>   -1.188</td> <td>   -0.443</td>\n",
       "</tr>\n",
       "<tr>\n",
       "  <th>Total Unique Calls</th>                                <td>   -0.1435</td> <td>    0.140</td> <td>   -1.026</td> <td> 0.305</td> <td>   -0.418</td> <td>    0.131</td>\n",
       "</tr>\n",
       "<tr>\n",
       "  <th>Total Onnet spend</th>                                 <td>   -0.0405</td> <td>    0.107</td> <td>   -0.378</td> <td> 0.705</td> <td>   -0.251</td> <td>    0.170</td>\n",
       "</tr>\n",
       "<tr>\n",
       "  <th>Total Offnet spend</th>                                <td>    0.8875</td> <td>    0.197</td> <td>    4.497</td> <td> 0.000</td> <td>    0.501</td> <td>    1.274</td>\n",
       "</tr>\n",
       "<tr>\n",
       "  <th>Total Call centre complaint calls</th>                 <td>   -0.0661</td> <td>    0.089</td> <td>   -0.740</td> <td> 0.459</td> <td>   -0.241</td> <td>    0.109</td>\n",
       "</tr>\n",
       "<tr>\n",
       "  <th>Network type subscription in Month 1_3G</th>           <td>    0.3558</td> <td>    0.329</td> <td>    1.082</td> <td> 0.279</td> <td>   -0.289</td> <td>    1.000</td>\n",
       "</tr>\n",
       "<tr>\n",
       "  <th>Network type subscription in Month 1_Other</th>        <td>   -0.3729</td> <td>    0.808</td> <td>   -0.462</td> <td> 0.644</td> <td>   -1.956</td> <td>    1.211</td>\n",
       "</tr>\n",
       "<tr>\n",
       "  <th>Network type subscription in Month 2_2G</th>           <td>    0.3694</td> <td>    0.784</td> <td>    0.471</td> <td> 0.638</td> <td>   -1.168</td> <td>    1.907</td>\n",
       "</tr>\n",
       "<tr>\n",
       "  <th>Network type subscription in Month 2_3G</th>           <td>    0.0257</td> <td>    0.717</td> <td>    0.036</td> <td> 0.971</td> <td>   -1.380</td> <td>    1.432</td>\n",
       "</tr>\n",
       "<tr>\n",
       "  <th>Most Loved Competitor network in Month 1_Mango</th>    <td>    1.2613</td> <td>    0.600</td> <td>    2.103</td> <td> 0.035</td> <td>    0.086</td> <td>    2.437</td>\n",
       "</tr>\n",
       "<tr>\n",
       "  <th>Most Loved Competitor network in Month 1_PQza</th>     <td>    0.7590</td> <td>    0.598</td> <td>    1.270</td> <td> 0.204</td> <td>   -0.412</td> <td>    1.930</td>\n",
       "</tr>\n",
       "<tr>\n",
       "  <th>Most Loved Competitor network in Month 1_ToCall</th>   <td>    0.5188</td> <td>    0.603</td> <td>    0.860</td> <td> 0.390</td> <td>   -0.663</td> <td>    1.700</td>\n",
       "</tr>\n",
       "<tr>\n",
       "  <th>Most Loved Competitor network in Month 1_Uxaa</th>     <td>    0.7873</td> <td>    0.586</td> <td>    1.343</td> <td> 0.179</td> <td>   -0.362</td> <td>    1.936</td>\n",
       "</tr>\n",
       "<tr>\n",
       "  <th>Most Loved Competitor network in Month 1_Weematel</th> <td>    0.3907</td> <td>    0.616</td> <td>    0.634</td> <td> 0.526</td> <td>   -0.817</td> <td>    1.599</td>\n",
       "</tr>\n",
       "<tr>\n",
       "  <th>Most Loved Competitor network in Month 1_Zintel</th>   <td>    0.4290</td> <td>    0.630</td> <td>    0.681</td> <td> 0.496</td> <td>   -0.806</td> <td>    1.664</td>\n",
       "</tr>\n",
       "<tr>\n",
       "  <th>Most Loved Competitor network in Month 2_PQza</th>     <td>    0.7658</td> <td>    0.361</td> <td>    2.121</td> <td> 0.034</td> <td>    0.058</td> <td>    1.473</td>\n",
       "</tr>\n",
       "<tr>\n",
       "  <th>Most Loved Competitor network in Month 2_ToCall</th>   <td>    0.7768</td> <td>    0.514</td> <td>    1.512</td> <td> 0.131</td> <td>   -0.230</td> <td>    1.784</td>\n",
       "</tr>\n",
       "<tr>\n",
       "  <th>Most Loved Competitor network in Month 2_Uxaa</th>     <td>   -0.9086</td> <td>    0.322</td> <td>   -2.820</td> <td> 0.005</td> <td>   -1.540</td> <td>   -0.277</td>\n",
       "</tr>\n",
       "<tr>\n",
       "  <th>Most Loved Competitor network in Month 2_Weematel</th> <td>    0.1663</td> <td>    0.556</td> <td>    0.299</td> <td> 0.765</td> <td>   -0.924</td> <td>    1.256</td>\n",
       "</tr>\n",
       "<tr>\n",
       "  <th>Most Loved Competitor network in Month 2_Zintel</th>   <td>    0.8216</td> <td>    0.645</td> <td>    1.274</td> <td> 0.203</td> <td>   -0.442</td> <td>    2.085</td>\n",
       "</tr>\n",
       "</table>"
      ],
      "text/latex": [
       "\\begin{center}\n",
       "\\begin{tabular}{lclc}\n",
       "\\toprule\n",
       "\\textbf{Dep. Variable:}                                     &        y         & \\textbf{  No. Observations:  } &      777    \\\\\n",
       "\\textbf{Model:}                                             &       GLM        & \\textbf{  Df Residuals:      } &      751    \\\\\n",
       "\\textbf{Model Family:}                                      &     Binomial     & \\textbf{  Df Model:          } &       25    \\\\\n",
       "\\textbf{Link Function:}                                     &      Logit       & \\textbf{  Scale:             } &    1.0000   \\\\\n",
       "\\textbf{Method:}                                            &       IRLS       & \\textbf{  Log-Likelihood:    } &   -420.96   \\\\\n",
       "\\textbf{Date:}                                              & Thu, 30 Nov 2023 & \\textbf{  Deviance:          } &    841.92   \\\\\n",
       "\\textbf{Time:}                                              &     03:27:34     & \\textbf{  Pearson chi2:      } &     801.    \\\\\n",
       "\\textbf{No. Iterations:}                                    &        6         & \\textbf{  Pseudo R-squ. (CS):} &   0.2602    \\\\\n",
       "\\textbf{Covariance Type:}                                   &    nonrobust     & \\textbf{                     } &             \\\\\n",
       "\\bottomrule\n",
       "\\end{tabular}\n",
       "\\begin{tabular}{lcccccc}\n",
       "                                                            & \\textbf{coef} & \\textbf{std err} & \\textbf{z} & \\textbf{P$> |$z$|$} & \\textbf{[0.025} & \\textbf{0.975]}  \\\\\n",
       "\\midrule\n",
       "\\textbf{const}                                              &      -0.7634  &        1.002     &    -0.762  &         0.446        &       -2.728    &        1.201     \\\\\n",
       "\\textbf{network\\_age}                                       &    -331.3486  &     1334.353     &    -0.248  &         0.804        &    -2946.633    &     2283.935     \\\\\n",
       "\\textbf{Customer tenure in month}                           &     331.1043  &     1334.352     &     0.248  &         0.804        &    -2284.178    &     2946.387     \\\\\n",
       "\\textbf{Total Spend in Months 1 and 2 of 2017}              &      -0.7997  &        0.270     &    -2.963  &         0.003        &       -1.329    &       -0.271     \\\\\n",
       "\\textbf{Total SMS Spend}                                    &       0.2854  &        0.133     &     2.145  &         0.032        &        0.025    &        0.546     \\\\\n",
       "\\textbf{Total Data Spend}                                   &       1.0454  &        0.281     &     3.723  &         0.000        &        0.495    &        1.596     \\\\\n",
       "\\textbf{Total Data Consumption}                             &      -0.8159  &        0.190     &    -4.293  &         0.000        &       -1.188    &       -0.443     \\\\\n",
       "\\textbf{Total Unique Calls}                                 &      -0.1435  &        0.140     &    -1.026  &         0.305        &       -0.418    &        0.131     \\\\\n",
       "\\textbf{Total Onnet spend}                                  &      -0.0405  &        0.107     &    -0.378  &         0.705        &       -0.251    &        0.170     \\\\\n",
       "\\textbf{Total Offnet spend}                                 &       0.8875  &        0.197     &     4.497  &         0.000        &        0.501    &        1.274     \\\\\n",
       "\\textbf{Total Call centre complaint calls}                  &      -0.0661  &        0.089     &    -0.740  &         0.459        &       -0.241    &        0.109     \\\\\n",
       "\\textbf{Network type subscription in Month 1\\_3G}           &       0.3558  &        0.329     &     1.082  &         0.279        &       -0.289    &        1.000     \\\\\n",
       "\\textbf{Network type subscription in Month 1\\_Other}        &      -0.3729  &        0.808     &    -0.462  &         0.644        &       -1.956    &        1.211     \\\\\n",
       "\\textbf{Network type subscription in Month 2\\_2G}           &       0.3694  &        0.784     &     0.471  &         0.638        &       -1.168    &        1.907     \\\\\n",
       "\\textbf{Network type subscription in Month 2\\_3G}           &       0.0257  &        0.717     &     0.036  &         0.971        &       -1.380    &        1.432     \\\\\n",
       "\\textbf{Most Loved Competitor network in Month 1\\_Mango}    &       1.2613  &        0.600     &     2.103  &         0.035        &        0.086    &        2.437     \\\\\n",
       "\\textbf{Most Loved Competitor network in Month 1\\_PQza}     &       0.7590  &        0.598     &     1.270  &         0.204        &       -0.412    &        1.930     \\\\\n",
       "\\textbf{Most Loved Competitor network in Month 1\\_ToCall}   &       0.5188  &        0.603     &     0.860  &         0.390        &       -0.663    &        1.700     \\\\\n",
       "\\textbf{Most Loved Competitor network in Month 1\\_Uxaa}     &       0.7873  &        0.586     &     1.343  &         0.179        &       -0.362    &        1.936     \\\\\n",
       "\\textbf{Most Loved Competitor network in Month 1\\_Weematel} &       0.3907  &        0.616     &     0.634  &         0.526        &       -0.817    &        1.599     \\\\\n",
       "\\textbf{Most Loved Competitor network in Month 1\\_Zintel}   &       0.4290  &        0.630     &     0.681  &         0.496        &       -0.806    &        1.664     \\\\\n",
       "\\textbf{Most Loved Competitor network in Month 2\\_PQza}     &       0.7658  &        0.361     &     2.121  &         0.034        &        0.058    &        1.473     \\\\\n",
       "\\textbf{Most Loved Competitor network in Month 2\\_ToCall}   &       0.7768  &        0.514     &     1.512  &         0.131        &       -0.230    &        1.784     \\\\\n",
       "\\textbf{Most Loved Competitor network in Month 2\\_Uxaa}     &      -0.9086  &        0.322     &    -2.820  &         0.005        &       -1.540    &       -0.277     \\\\\n",
       "\\textbf{Most Loved Competitor network in Month 2\\_Weematel} &       0.1663  &        0.556     &     0.299  &         0.765        &       -0.924    &        1.256     \\\\\n",
       "\\textbf{Most Loved Competitor network in Month 2\\_Zintel}   &       0.8216  &        0.645     &     1.274  &         0.203        &       -0.442    &        2.085     \\\\\n",
       "\\bottomrule\n",
       "\\end{tabular}\n",
       "%\\caption{Generalized Linear Model Regression Results}\n",
       "\\end{center}"
      ],
      "text/plain": [
       "<class 'statsmodels.iolib.summary.Summary'>\n",
       "\"\"\"\n",
       "                 Generalized Linear Model Regression Results                  \n",
       "==============================================================================\n",
       "Dep. Variable:                      y   No. Observations:                  777\n",
       "Model:                            GLM   Df Residuals:                      751\n",
       "Model Family:                Binomial   Df Model:                           25\n",
       "Link Function:                  Logit   Scale:                          1.0000\n",
       "Method:                          IRLS   Log-Likelihood:                -420.96\n",
       "Date:                Thu, 30 Nov 2023   Deviance:                       841.92\n",
       "Time:                        03:27:34   Pearson chi2:                     801.\n",
       "No. Iterations:                     6   Pseudo R-squ. (CS):             0.2602\n",
       "Covariance Type:            nonrobust                                         \n",
       "=====================================================================================================================\n",
       "                                                        coef    std err          z      P>|z|      [0.025      0.975]\n",
       "---------------------------------------------------------------------------------------------------------------------\n",
       "const                                                -0.7634      1.002     -0.762      0.446      -2.728       1.201\n",
       "network_age                                        -331.3486   1334.353     -0.248      0.804   -2946.633    2283.935\n",
       "Customer tenure in month                            331.1043   1334.352      0.248      0.804   -2284.178    2946.387\n",
       "Total Spend in Months 1 and 2 of 2017                -0.7997      0.270     -2.963      0.003      -1.329      -0.271\n",
       "Total SMS Spend                                       0.2854      0.133      2.145      0.032       0.025       0.546\n",
       "Total Data Spend                                      1.0454      0.281      3.723      0.000       0.495       1.596\n",
       "Total Data Consumption                               -0.8159      0.190     -4.293      0.000      -1.188      -0.443\n",
       "Total Unique Calls                                   -0.1435      0.140     -1.026      0.305      -0.418       0.131\n",
       "Total Onnet spend                                    -0.0405      0.107     -0.378      0.705      -0.251       0.170\n",
       "Total Offnet spend                                    0.8875      0.197      4.497      0.000       0.501       1.274\n",
       "Total Call centre complaint calls                    -0.0661      0.089     -0.740      0.459      -0.241       0.109\n",
       "Network type subscription in Month 1_3G               0.3558      0.329      1.082      0.279      -0.289       1.000\n",
       "Network type subscription in Month 1_Other           -0.3729      0.808     -0.462      0.644      -1.956       1.211\n",
       "Network type subscription in Month 2_2G               0.3694      0.784      0.471      0.638      -1.168       1.907\n",
       "Network type subscription in Month 2_3G               0.0257      0.717      0.036      0.971      -1.380       1.432\n",
       "Most Loved Competitor network in Month 1_Mango        1.2613      0.600      2.103      0.035       0.086       2.437\n",
       "Most Loved Competitor network in Month 1_PQza         0.7590      0.598      1.270      0.204      -0.412       1.930\n",
       "Most Loved Competitor network in Month 1_ToCall       0.5188      0.603      0.860      0.390      -0.663       1.700\n",
       "Most Loved Competitor network in Month 1_Uxaa         0.7873      0.586      1.343      0.179      -0.362       1.936\n",
       "Most Loved Competitor network in Month 1_Weematel     0.3907      0.616      0.634      0.526      -0.817       1.599\n",
       "Most Loved Competitor network in Month 1_Zintel       0.4290      0.630      0.681      0.496      -0.806       1.664\n",
       "Most Loved Competitor network in Month 2_PQza         0.7658      0.361      2.121      0.034       0.058       1.473\n",
       "Most Loved Competitor network in Month 2_ToCall       0.7768      0.514      1.512      0.131      -0.230       1.784\n",
       "Most Loved Competitor network in Month 2_Uxaa        -0.9086      0.322     -2.820      0.005      -1.540      -0.277\n",
       "Most Loved Competitor network in Month 2_Weematel     0.1663      0.556      0.299      0.765      -0.924       1.256\n",
       "Most Loved Competitor network in Month 2_Zintel       0.8216      0.645      1.274      0.203      -0.442       2.085\n",
       "=====================================================================================================================\n",
       "\"\"\""
      ]
     },
     "execution_count": 436,
     "metadata": {},
     "output_type": "execute_result"
    }
   ],
   "source": [
    "result.summary()"
   ]
  },
  {
   "cell_type": "markdown",
   "metadata": {},
   "source": [
    "### Paso 2: Selección de variables con librería statsmodels"
   ]
  },
  {
   "cell_type": "markdown",
   "metadata": {},
   "source": [
    "• Implementa un algoritmo similar al que implementaste en la práctica 2 para la\n",
    "selección de variables con statsmodels:\n",
    "1. Construye modelo con variables cols\n",
    "2. Detecta qué variables parece que no aportan información de acuerdo al\n",
    "criterio de los valores P. Si no encuentras ninguna, fin del algoritmo. Si\n",
    "encuentras una o varias, toma la que tenga un valor P mayor y quítala de\n",
    "cols. Vuelve a 1\n"
   ]
  },
  {
   "cell_type": "markdown",
   "metadata": {},
   "source": []
  },
  {
   "cell_type": "code",
   "execution_count": null,
   "metadata": {},
   "outputs": [],
   "source": []
  },
  {
   "cell_type": "markdown",
   "metadata": {},
   "source": [
    "• ¿Con cuántas variables te quedas usando este algoritmo? ¿Qué scores\n",
    "obtienes? ¿Es mejor que el modelo sin seleccionar variables?\n",
    "\n"
   ]
  },
  {
   "cell_type": "markdown",
   "metadata": {},
   "source": []
  },
  {
   "cell_type": "markdown",
   "metadata": {},
   "source": [
    "### Paso 3"
   ]
  },
  {
   "cell_type": "markdown",
   "metadata": {},
   "source": [
    "Usando el mejor modelo de regresión logística que hayas obtenido hasta ahora, extrae\n",
    "las siguientes métricas compáralas con el modelo dummy:\n"
   ]
  },
  {
   "cell_type": "markdown",
   "metadata": {},
   "source": [
    "o Matriz de confusión. Usaremos solo los dos primeros parámetros y_true, y_pred"
   ]
  },
  {
   "cell_type": "markdown",
   "metadata": {},
   "source": [
    "Usaremos el modelo de regresión logística que hemos obtenido con sklearn, aunque no habría problema en usar statsmodels ya que la precisión es la misma.\n",
    "\n",
    "Para comprobar que la matriz es correcta, podemos dividir el número de predicciones correctas (VP+VN) entre el total de predicciones. (130+114)/(130+114+37+53)=0.73, que coincide con el score calculado anteriormente."
   ]
  },
  {
   "cell_type": "code",
   "execution_count": 437,
   "metadata": {},
   "outputs": [
    {
     "name": "stdout",
     "output_type": "stream",
     "text": [
      "[[113  47]\n",
      " [ 56 118]]\n"
     ]
    },
    {
     "name": "stderr",
     "output_type": "stream",
     "text": [
      "C:\\Users\\juanj\\AppData\\Local\\Packages\\PythonSoftwareFoundation.Python.3.10_qbz5n2kfra8p0\\LocalCache\\local-packages\\Python310\\site-packages\\sklearn\\utils\\validation.py:605: FutureWarning: is_sparse is deprecated and will be removed in a future version. Check `isinstance(dtype, pd.SparseDtype)` instead.\n",
      "  if is_sparse(pd_dtype):\n",
      "C:\\Users\\juanj\\AppData\\Local\\Packages\\PythonSoftwareFoundation.Python.3.10_qbz5n2kfra8p0\\LocalCache\\local-packages\\Python310\\site-packages\\sklearn\\utils\\validation.py:614: FutureWarning: is_sparse is deprecated and will be removed in a future version. Check `isinstance(dtype, pd.SparseDtype)` instead.\n",
      "  if is_sparse(pd_dtype) or not is_extension_array_dtype(pd_dtype):\n"
     ]
    }
   ],
   "source": [
    "#y_pred fue definida anteriormente\n",
    "\n",
    "print(sklearn.metrics.confusion_matrix(y_pred,y_test)) #y_real es y_test\n",
    "score_test=(130+114)/(130+114+37+53)\n"
   ]
  },
  {
   "cell_type": "markdown",
   "metadata": {},
   "source": [
    "o Curva ROC y área bajo la curva (AUC)\n",
    "\n",
    "▪ Usaremos solo los parámetros y_true, y_score (las\n",
    "probabilidades del modelo para la clase \"positiva\"), y pos_label\n",
    "(cuál de las dos clases es la \"positiva\").\n",
    "▪ Una vez calculado el TPR y el FPR habría que representar la\n",
    "gráfica de TPR (eje vertical) en función del FPR (eje horizontal).\n",
    "▪ Para calcular el AUC (área bajo la curva). Usaremos solo los parámetros y_true e y_score\n"
   ]
  },
  {
   "cell_type": "markdown",
   "metadata": {},
   "source": [
    "Como el área bajo la curva es 0.7766861486607624, podemos decir que el modelo no es muy bueno pero tampoco malo."
   ]
  },
  {
   "cell_type": "code",
   "execution_count": 438,
   "metadata": {},
   "outputs": [
    {
     "name": "stderr",
     "output_type": "stream",
     "text": [
      "C:\\Users\\juanj\\AppData\\Local\\Packages\\PythonSoftwareFoundation.Python.3.10_qbz5n2kfra8p0\\LocalCache\\local-packages\\Python310\\site-packages\\sklearn\\utils\\validation.py:605: FutureWarning: is_sparse is deprecated and will be removed in a future version. Check `isinstance(dtype, pd.SparseDtype)` instead.\n",
      "  if is_sparse(pd_dtype):\n",
      "C:\\Users\\juanj\\AppData\\Local\\Packages\\PythonSoftwareFoundation.Python.3.10_qbz5n2kfra8p0\\LocalCache\\local-packages\\Python310\\site-packages\\sklearn\\utils\\validation.py:614: FutureWarning: is_sparse is deprecated and will be removed in a future version. Check `isinstance(dtype, pd.SparseDtype)` instead.\n",
      "  if is_sparse(pd_dtype) or not is_extension_array_dtype(pd_dtype):\n"
     ]
    },
    {
     "data": {
      "text/plain": [
       "Text(0, 0.5, 'Tasa de verdaderos positivos')"
      ]
     },
     "execution_count": 438,
     "metadata": {},
     "output_type": "execute_result"
    },
    {
     "data": {
      "image/png": "[encoded data removed]",
      "text/plain": [
       "<Figure size 640x480 with 1 Axes>"
      ]
     },
     "metadata": {},
     "output_type": "display_data"
    }
   ],
   "source": [
    "from matplotlib import pyplot as plt\n",
    "prob_clase1=probabilidades_01[:,1]\n",
    "prob_clase0=probabilidades_01[:,0]\n",
    "tpr,fpr,_=sklearn.metrics.roc_curve(y_true=y_test, y_score=prob_clase1, pos_label=1) #nuestra clase positiva es 1\n",
    "plt.plot(tpr,fpr) ;plt.xlabel('Tasa de falsos positivos') ; plt.ylabel('Tasa de verdaderos positivos')\n",
    "\n"
   ]
  },
  {
   "cell_type": "markdown",
   "metadata": {},
   "source": [
    "o F1. Usaremos solo los parámetros y_true e y_score"
   ]
  },
  {
   "cell_type": "markdown",
   "metadata": {},
   "source": [
    "El F1-sore viene a ser la media armónica entre la precisión y el recall (sensibilidad), que en nuestro caso nos da 0.7210031347962382."
   ]
  },
  {
   "cell_type": "code",
   "execution_count": 439,
   "metadata": {},
   "outputs": [
    {
     "name": "stdout",
     "output_type": "stream",
     "text": [
      "F1 score: 0.691860465116279\n"
     ]
    },
    {
     "name": "stderr",
     "output_type": "stream",
     "text": [
      "C:\\Users\\juanj\\AppData\\Local\\Packages\\PythonSoftwareFoundation.Python.3.10_qbz5n2kfra8p0\\LocalCache\\local-packages\\Python310\\site-packages\\sklearn\\utils\\validation.py:605: FutureWarning: is_sparse is deprecated and will be removed in a future version. Check `isinstance(dtype, pd.SparseDtype)` instead.\n",
      "  if is_sparse(pd_dtype):\n",
      "C:\\Users\\juanj\\AppData\\Local\\Packages\\PythonSoftwareFoundation.Python.3.10_qbz5n2kfra8p0\\LocalCache\\local-packages\\Python310\\site-packages\\sklearn\\utils\\validation.py:614: FutureWarning: is_sparse is deprecated and will be removed in a future version. Check `isinstance(dtype, pd.SparseDtype)` instead.\n",
      "  if is_sparse(pd_dtype) or not is_extension_array_dtype(pd_dtype):\n",
      "C:\\Users\\juanj\\AppData\\Local\\Packages\\PythonSoftwareFoundation.Python.3.10_qbz5n2kfra8p0\\LocalCache\\local-packages\\Python310\\site-packages\\sklearn\\utils\\validation.py:605: FutureWarning: is_sparse is deprecated and will be removed in a future version. Check `isinstance(dtype, pd.SparseDtype)` instead.\n",
      "  if is_sparse(pd_dtype):\n",
      "C:\\Users\\juanj\\AppData\\Local\\Packages\\PythonSoftwareFoundation.Python.3.10_qbz5n2kfra8p0\\LocalCache\\local-packages\\Python310\\site-packages\\sklearn\\utils\\validation.py:614: FutureWarning: is_sparse is deprecated and will be removed in a future version. Check `isinstance(dtype, pd.SparseDtype)` instead.\n",
      "  if is_sparse(pd_dtype) or not is_extension_array_dtype(pd_dtype):\n"
     ]
    }
   ],
   "source": [
    "print('F1 score:',sklearn.metrics.f1_score(y_true=y_test, y_pred=predicciones_01))"
   ]
  },
  {
   "cell_type": "markdown",
   "metadata": {},
   "source": [
    "o Curva de precision-recall. Usaremos los parámetros y_true, probas_pred (probabilidades\n",
    "predichas para la clase positiva), pos_label (cuál de las dos\n",
    "clases es la \"positiva\").▪ Una vez calculado el precision y el recall habría que representar\n",
    "la gráfica de Precision (eje vertical) en función del Recall (eje\n",
    "horizontal)."
   ]
  },
  {
   "cell_type": "code",
   "execution_count": 440,
   "metadata": {},
   "outputs": [
    {
     "name": "stdout",
     "output_type": "stream",
     "text": [
      "curva precision-recall: (array([0.49401198, 0.4954955 , 0.4939759 , 0.49546828, 0.4969697 ,\n",
      "       0.49544073, 0.49695122, 0.49847095, 0.49693252, 0.49846154,\n",
      "       0.49691358, 0.49845201, 0.5       , 0.49844237, 0.496875  ,\n",
      "       0.4984326 , 0.5       , 0.50157729, 0.5       , 0.5015873 ,\n",
      "       0.50318471, 0.50479233, 0.50641026, 0.50482315, 0.50645161,\n",
      "       0.50809061, 0.50974026, 0.51140065, 0.5130719 , 0.5147541 ,\n",
      "       0.51644737, 0.51815182, 0.51986755, 0.52159468, 0.52      ,\n",
      "       0.52173913, 0.52013423, 0.52188552, 0.52364865, 0.52542373,\n",
      "       0.52721088, 0.52901024, 0.53082192, 0.52920962, 0.53103448,\n",
      "       0.53287197, 0.53472222, 0.53310105, 0.53496503, 0.53684211,\n",
      "       0.53873239, 0.54063604, 0.54255319, 0.54448399, 0.54642857,\n",
      "       0.54480287, 0.54676259, 0.54873646, 0.55072464, 0.55272727,\n",
      "       0.55474453, 0.55677656, 0.55882353, 0.56088561, 0.56296296,\n",
      "       0.56505576, 0.56343284, 0.56179775, 0.56390977, 0.56603774,\n",
      "       0.56439394, 0.56653992, 0.56870229, 0.57088123, 0.56923077,\n",
      "       0.57142857, 0.56976744, 0.57198444, 0.5703125 , 0.57254902,\n",
      "       0.57480315, 0.5770751 , 0.57539683, 0.57768924, 0.58      ,\n",
      "       0.58232932, 0.58064516, 0.57894737, 0.57723577, 0.5755102 ,\n",
      "       0.57786885, 0.58024691, 0.58264463, 0.58506224, 0.5875    ,\n",
      "       0.58995816, 0.58823529, 0.5907173 , 0.58898305, 0.58723404,\n",
      "       0.58547009, 0.58798283, 0.59051724, 0.59307359, 0.59565217,\n",
      "       0.59388646, 0.59649123, 0.59911894, 0.60176991, 0.6       ,\n",
      "       0.60267857, 0.60538117, 0.60810811, 0.61085973, 0.61363636,\n",
      "       0.61643836, 0.61926606, 0.62211982, 0.625     , 0.62790698,\n",
      "       0.63084112, 0.62910798, 0.63207547, 0.63033175, 0.63333333,\n",
      "       0.63157895, 0.63461538, 0.63768116, 0.6407767 , 0.63902439,\n",
      "       0.6372549 , 0.63546798, 0.63861386, 0.64179104, 0.64      ,\n",
      "       0.64321608, 0.64646465, 0.64974619, 0.64795918, 0.64615385,\n",
      "       0.64948454, 0.65284974, 0.65104167, 0.65445026, 0.65263158,\n",
      "       0.65608466, 0.65957447, 0.65775401, 0.66129032, 0.65945946,\n",
      "       0.6576087 , 0.66120219, 0.65934066, 0.66298343, 0.66111111,\n",
      "       0.66480447, 0.66292135, 0.66666667, 0.67045455, 0.67428571,\n",
      "       0.67816092, 0.67630058, 0.68023256, 0.67836257, 0.67647059,\n",
      "       0.67455621, 0.67261905, 0.67065868, 0.6746988 , 0.67272727,\n",
      "       0.67682927, 0.6809816 , 0.67901235, 0.68322981, 0.6875    ,\n",
      "       0.68553459, 0.6835443 , 0.68789809, 0.69230769, 0.69032258,\n",
      "       0.68831169, 0.68627451, 0.69078947, 0.68874172, 0.68666667,\n",
      "       0.68456376, 0.68918919, 0.69387755, 0.69178082, 0.69655172,\n",
      "       0.70138889, 0.70629371, 0.70422535, 0.70212766, 0.7       ,\n",
      "       0.70503597, 0.70289855, 0.70072993, 0.70588235, 0.7037037 ,\n",
      "       0.70149254, 0.69924812, 0.6969697 , 0.69465649, 0.7       ,\n",
      "       0.70542636, 0.7109375 , 0.70866142, 0.70634921, 0.712     ,\n",
      "       0.70967742, 0.70731707, 0.70491803, 0.70247934, 0.70833333,\n",
      "       0.70588235, 0.70338983, 0.7008547 , 0.69827586, 0.69565217,\n",
      "       0.69298246, 0.69026549, 0.6875    , 0.68468468, 0.69090909,\n",
      "       0.68807339, 0.68518519, 0.69158879, 0.69811321, 0.7047619 ,\n",
      "       0.70192308, 0.70873786, 0.71568627, 0.71287129, 0.71      ,\n",
      "       0.70707071, 0.70408163, 0.70103093, 0.70833333, 0.70526316,\n",
      "       0.70212766, 0.69892473, 0.69565217, 0.69230769, 0.68888889,\n",
      "       0.68539326, 0.68181818, 0.67816092, 0.6744186 , 0.67058824,\n",
      "       0.67857143, 0.6746988 , 0.68292683, 0.67901235, 0.675     ,\n",
      "       0.6835443 , 0.69230769, 0.68831169, 0.69736842, 0.70666667,\n",
      "       0.7027027 , 0.71232877, 0.70833333, 0.71830986, 0.71428571,\n",
      "       0.72463768, 0.72058824, 0.71641791, 0.71212121, 0.72307692,\n",
      "       0.734375  , 0.73015873, 0.72580645, 0.73770492, 0.73333333,\n",
      "       0.72881356, 0.72413793, 0.73684211, 0.73214286, 0.74545455,\n",
      "       0.75925926, 0.75471698, 0.75      , 0.74509804, 0.74      ,\n",
      "       0.73469388, 0.72916667, 0.72340426, 0.7173913 , 0.71111111,\n",
      "       0.70454545, 0.69767442, 0.69047619, 0.68292683, 0.7       ,\n",
      "       0.71794872, 0.71052632, 0.7027027 , 0.72222222, 0.71428571,\n",
      "       0.70588235, 0.72727273, 0.75      , 0.77419355, 0.76666667,\n",
      "       0.75862069, 0.75      , 0.77777778, 0.76923077, 0.76      ,\n",
      "       0.75      , 0.73913043, 0.72727273, 0.71428571, 0.7       ,\n",
      "       0.68421053, 0.66666667, 0.70588235, 0.75      , 0.73333333,\n",
      "       0.71428571, 0.69230769, 0.66666667, 0.63636364, 0.6       ,\n",
      "       0.66666667, 0.625     , 0.57142857, 0.5       , 0.6       ,\n",
      "       0.5       , 0.66666667, 1.        , 1.        , 1.        ]), array([1.        , 1.        , 0.99393939, 0.99393939, 0.99393939,\n",
      "       0.98787879, 0.98787879, 0.98787879, 0.98181818, 0.98181818,\n",
      "       0.97575758, 0.97575758, 0.97575758, 0.96969697, 0.96363636,\n",
      "       0.96363636, 0.96363636, 0.96363636, 0.95757576, 0.95757576,\n",
      "       0.95757576, 0.95757576, 0.95757576, 0.95151515, 0.95151515,\n",
      "       0.95151515, 0.95151515, 0.95151515, 0.95151515, 0.95151515,\n",
      "       0.95151515, 0.95151515, 0.95151515, 0.95151515, 0.94545455,\n",
      "       0.94545455, 0.93939394, 0.93939394, 0.93939394, 0.93939394,\n",
      "       0.93939394, 0.93939394, 0.93939394, 0.93333333, 0.93333333,\n",
      "       0.93333333, 0.93333333, 0.92727273, 0.92727273, 0.92727273,\n",
      "       0.92727273, 0.92727273, 0.92727273, 0.92727273, 0.92727273,\n",
      "       0.92121212, 0.92121212, 0.92121212, 0.92121212, 0.92121212,\n",
      "       0.92121212, 0.92121212, 0.92121212, 0.92121212, 0.92121212,\n",
      "       0.92121212, 0.91515152, 0.90909091, 0.90909091, 0.90909091,\n",
      "       0.9030303 , 0.9030303 , 0.9030303 , 0.9030303 , 0.8969697 ,\n",
      "       0.8969697 , 0.89090909, 0.89090909, 0.88484848, 0.88484848,\n",
      "       0.88484848, 0.88484848, 0.87878788, 0.87878788, 0.87878788,\n",
      "       0.87878788, 0.87272727, 0.86666667, 0.86060606, 0.85454545,\n",
      "       0.85454545, 0.85454545, 0.85454545, 0.85454545, 0.85454545,\n",
      "       0.85454545, 0.84848485, 0.84848485, 0.84242424, 0.83636364,\n",
      "       0.83030303, 0.83030303, 0.83030303, 0.83030303, 0.83030303,\n",
      "       0.82424242, 0.82424242, 0.82424242, 0.82424242, 0.81818182,\n",
      "       0.81818182, 0.81818182, 0.81818182, 0.81818182, 0.81818182,\n",
      "       0.81818182, 0.81818182, 0.81818182, 0.81818182, 0.81818182,\n",
      "       0.81818182, 0.81212121, 0.81212121, 0.80606061, 0.80606061,\n",
      "       0.8       , 0.8       , 0.8       , 0.8       , 0.79393939,\n",
      "       0.78787879, 0.78181818, 0.78181818, 0.78181818, 0.77575758,\n",
      "       0.77575758, 0.77575758, 0.77575758, 0.76969697, 0.76363636,\n",
      "       0.76363636, 0.76363636, 0.75757576, 0.75757576, 0.75151515,\n",
      "       0.75151515, 0.75151515, 0.74545455, 0.74545455, 0.73939394,\n",
      "       0.73333333, 0.73333333, 0.72727273, 0.72727273, 0.72121212,\n",
      "       0.72121212, 0.71515152, 0.71515152, 0.71515152, 0.71515152,\n",
      "       0.71515152, 0.70909091, 0.70909091, 0.7030303 , 0.6969697 ,\n",
      "       0.69090909, 0.68484848, 0.67878788, 0.67878788, 0.67272727,\n",
      "       0.67272727, 0.67272727, 0.66666667, 0.66666667, 0.66666667,\n",
      "       0.66060606, 0.65454545, 0.65454545, 0.65454545, 0.64848485,\n",
      "       0.64242424, 0.63636364, 0.63636364, 0.63030303, 0.62424242,\n",
      "       0.61818182, 0.61818182, 0.61818182, 0.61212121, 0.61212121,\n",
      "       0.61212121, 0.61212121, 0.60606061, 0.6       , 0.59393939,\n",
      "       0.59393939, 0.58787879, 0.58181818, 0.58181818, 0.57575758,\n",
      "       0.56969697, 0.56363636, 0.55757576, 0.55151515, 0.55151515,\n",
      "       0.55151515, 0.55151515, 0.54545455, 0.53939394, 0.53939394,\n",
      "       0.53333333, 0.52727273, 0.52121212, 0.51515152, 0.51515152,\n",
      "       0.50909091, 0.5030303 , 0.4969697 , 0.49090909, 0.48484848,\n",
      "       0.47878788, 0.47272727, 0.46666667, 0.46060606, 0.46060606,\n",
      "       0.45454545, 0.44848485, 0.44848485, 0.44848485, 0.44848485,\n",
      "       0.44242424, 0.44242424, 0.44242424, 0.43636364, 0.43030303,\n",
      "       0.42424242, 0.41818182, 0.41212121, 0.41212121, 0.40606061,\n",
      "       0.4       , 0.39393939, 0.38787879, 0.38181818, 0.37575758,\n",
      "       0.36969697, 0.36363636, 0.35757576, 0.35151515, 0.34545455,\n",
      "       0.34545455, 0.33939394, 0.33939394, 0.33333333, 0.32727273,\n",
      "       0.32727273, 0.32727273, 0.32121212, 0.32121212, 0.32121212,\n",
      "       0.31515152, 0.31515152, 0.30909091, 0.30909091, 0.3030303 ,\n",
      "       0.3030303 , 0.2969697 , 0.29090909, 0.28484848, 0.28484848,\n",
      "       0.28484848, 0.27878788, 0.27272727, 0.27272727, 0.26666667,\n",
      "       0.26060606, 0.25454545, 0.25454545, 0.24848485, 0.24848485,\n",
      "       0.24848485, 0.24242424, 0.23636364, 0.23030303, 0.22424242,\n",
      "       0.21818182, 0.21212121, 0.20606061, 0.2       , 0.19393939,\n",
      "       0.18787879, 0.18181818, 0.17575758, 0.16969697, 0.16969697,\n",
      "       0.16969697, 0.16363636, 0.15757576, 0.15757576, 0.15151515,\n",
      "       0.14545455, 0.14545455, 0.14545455, 0.14545455, 0.13939394,\n",
      "       0.13333333, 0.12727273, 0.12727273, 0.12121212, 0.11515152,\n",
      "       0.10909091, 0.1030303 , 0.0969697 , 0.09090909, 0.08484848,\n",
      "       0.07878788, 0.07272727, 0.07272727, 0.07272727, 0.06666667,\n",
      "       0.06060606, 0.05454545, 0.04848485, 0.04242424, 0.03636364,\n",
      "       0.03636364, 0.03030303, 0.02424242, 0.01818182, 0.01818182,\n",
      "       0.01212121, 0.01212121, 0.01212121, 0.00606061, 0.        ]), array([7.69768560e-04, 6.45819128e-03, 1.38688332e-02, 2.05283862e-02,\n",
      "       2.45018859e-02, 3.40994963e-02, 5.72821198e-02, 6.04222758e-02,\n",
      "       6.15714278e-02, 7.18947820e-02, 8.22226979e-02, 8.71263964e-02,\n",
      "       9.94989582e-02, 1.03982363e-01, 1.05447353e-01, 1.07289998e-01,\n",
      "       1.12790165e-01, 1.14414020e-01, 1.16617645e-01, 1.17098889e-01,\n",
      "       1.18682884e-01, 1.21786085e-01, 1.22751681e-01, 1.31769174e-01,\n",
      "       1.34532970e-01, 1.36357506e-01, 1.37904578e-01, 1.37965511e-01,\n",
      "       1.42772581e-01, 1.54603677e-01, 1.56762703e-01, 1.58048567e-01,\n",
      "       1.62476524e-01, 1.65661218e-01, 1.69322781e-01, 1.71519322e-01,\n",
      "       1.71526685e-01, 1.75689464e-01, 1.77055520e-01, 1.80274554e-01,\n",
      "       1.80635193e-01, 1.80745690e-01, 1.81187442e-01, 1.82853273e-01,\n",
      "       1.85761414e-01, 1.86993020e-01, 1.88043055e-01, 1.88668919e-01,\n",
      "       1.89743331e-01, 1.89912627e-01, 1.90176179e-01, 1.91462869e-01,\n",
      "       1.91893180e-01, 1.91976478e-01, 1.97080982e-01, 2.00191415e-01,\n",
      "       2.02141267e-01, 2.02458931e-01, 2.06436779e-01, 2.09332359e-01,\n",
      "       2.13024866e-01, 2.16904004e-01, 2.19501675e-01, 2.20131317e-01,\n",
      "       2.20840754e-01, 2.28754064e-01, 2.29745969e-01, 2.30501881e-01,\n",
      "       2.38449707e-01, 2.43376175e-01, 2.44698182e-01, 2.47618793e-01,\n",
      "       2.48654091e-01, 2.49807653e-01, 2.52344872e-01, 2.52779828e-01,\n",
      "       2.55354203e-01, 2.59068878e-01, 2.74282746e-01, 2.74385273e-01,\n",
      "       2.76746024e-01, 2.77615531e-01, 2.78385629e-01, 2.79129221e-01,\n",
      "       2.83720335e-01, 2.84996917e-01, 2.86578923e-01, 2.88115902e-01,\n",
      "       2.88995143e-01, 2.89855714e-01, 2.93904131e-01, 2.94725114e-01,\n",
      "       2.96022425e-01, 2.99394522e-01, 3.00368773e-01, 3.02232549e-01,\n",
      "       3.03262433e-01, 3.04483769e-01, 3.13095583e-01, 3.13495695e-01,\n",
      "       3.14566939e-01, 3.17032119e-01, 3.19254440e-01, 3.19565933e-01,\n",
      "       3.22586960e-01, 3.29774940e-01, 3.35125762e-01, 3.41517257e-01,\n",
      "       3.47604720e-01, 3.48564750e-01, 3.49621236e-01, 3.50320270e-01,\n",
      "       3.50721339e-01, 3.51121918e-01, 3.52796192e-01, 3.57498910e-01,\n",
      "       3.61702239e-01, 3.65509125e-01, 3.73135167e-01, 3.73891335e-01,\n",
      "       3.81543570e-01, 3.83342357e-01, 3.83883617e-01, 3.95867570e-01,\n",
      "       4.00540340e-01, 4.00826989e-01, 4.03360574e-01, 4.04996319e-01,\n",
      "       4.08834377e-01, 4.10615209e-01, 4.12595257e-01, 4.12764015e-01,\n",
      "       4.17841842e-01, 4.27504515e-01, 4.33325880e-01, 4.34287015e-01,\n",
      "       4.35872292e-01, 4.37666004e-01, 4.43346188e-01, 4.43855421e-01,\n",
      "       4.51008434e-01, 4.54077370e-01, 4.65613652e-01, 4.66450160e-01,\n",
      "       4.67859309e-01, 4.70948519e-01, 4.72383715e-01, 4.73289704e-01,\n",
      "       4.74173857e-01, 4.76830950e-01, 4.77067729e-01, 4.80622622e-01,\n",
      "       4.88695431e-01, 4.92912959e-01, 4.94458793e-01, 5.00728069e-01,\n",
      "       5.03036212e-01, 5.05305432e-01, 5.05725326e-01, 5.06113491e-01,\n",
      "       5.06268842e-01, 5.08231432e-01, 5.08237074e-01, 5.08457517e-01,\n",
      "       5.10869565e-01, 5.12700078e-01, 5.15531591e-01, 5.15957120e-01,\n",
      "       5.20041959e-01, 5.20746126e-01, 5.21269205e-01, 5.36159693e-01,\n",
      "       5.38706481e-01, 5.40874543e-01, 5.41210766e-01, 5.46152684e-01,\n",
      "       5.47107072e-01, 5.57974300e-01, 5.58089565e-01, 5.68637615e-01,\n",
      "       5.71081332e-01, 5.74207312e-01, 5.81146647e-01, 5.81198790e-01,\n",
      "       5.81768475e-01, 5.81895424e-01, 5.82053257e-01, 5.82410556e-01,\n",
      "       5.83110184e-01, 5.87297601e-01, 5.91479386e-01, 5.96667756e-01,\n",
      "       5.97528639e-01, 5.97574489e-01, 6.09375520e-01, 6.12466573e-01,\n",
      "       6.14909391e-01, 6.17290506e-01, 6.24896421e-01, 6.28444089e-01,\n",
      "       6.39517295e-01, 6.40988159e-01, 6.45993831e-01, 6.48280442e-01,\n",
      "       6.51252715e-01, 6.52128918e-01, 6.53030418e-01, 6.55288311e-01,\n",
      "       6.55498974e-01, 6.57841447e-01, 6.68780646e-01, 6.70083103e-01,\n",
      "       6.73673831e-01, 6.74294384e-01, 6.74856216e-01, 6.75485423e-01,\n",
      "       6.82092922e-01, 6.82354064e-01, 6.82552105e-01, 6.85201218e-01,\n",
      "       6.85255368e-01, 6.86346620e-01, 6.87152306e-01, 6.87159321e-01,\n",
      "       6.87161499e-01, 6.89112536e-01, 6.90815470e-01, 6.97120643e-01,\n",
      "       6.97803585e-01, 7.07257628e-01, 7.10955960e-01, 7.11715220e-01,\n",
      "       7.11883997e-01, 7.12413108e-01, 7.14066804e-01, 7.14410160e-01,\n",
      "       7.16627193e-01, 7.18524624e-01, 7.25590616e-01, 7.27594530e-01,\n",
      "       7.32629812e-01, 7.34237012e-01, 7.34304685e-01, 7.36261792e-01,\n",
      "       7.40353524e-01, 7.40607428e-01, 7.41304371e-01, 7.41930219e-01,\n",
      "       7.46241861e-01, 7.47918025e-01, 7.49641728e-01, 7.51338995e-01,\n",
      "       7.53309372e-01, 7.55593022e-01, 7.57475431e-01, 7.59917745e-01,\n",
      "       7.63434827e-01, 7.64155380e-01, 7.64546711e-01, 7.64716056e-01,\n",
      "       7.65187234e-01, 7.66417610e-01, 7.68776854e-01, 7.73478088e-01,\n",
      "       7.73852431e-01, 7.75239141e-01, 7.79471047e-01, 7.80135178e-01,\n",
      "       7.80648995e-01, 7.86082903e-01, 7.87577327e-01, 7.88220823e-01,\n",
      "       7.89566128e-01, 7.90964685e-01, 7.91079045e-01, 7.91854119e-01,\n",
      "       7.91961993e-01, 7.93687812e-01, 7.95070216e-01, 7.95401825e-01,\n",
      "       7.95423667e-01, 8.03668341e-01, 8.06806881e-01, 8.07793722e-01,\n",
      "       8.11162159e-01, 8.11287498e-01, 8.15029361e-01, 8.15158391e-01,\n",
      "       8.16041688e-01, 8.16161310e-01, 8.17565239e-01, 8.18455120e-01,\n",
      "       8.20115354e-01, 8.20937247e-01, 8.23072710e-01, 8.23364968e-01,\n",
      "       8.23840609e-01, 8.24934830e-01, 8.27551521e-01, 8.27810443e-01,\n",
      "       8.34534628e-01, 8.35532633e-01, 8.35788610e-01, 8.36520461e-01,\n",
      "       8.39614459e-01, 8.41188540e-01, 8.49481908e-01, 8.52189364e-01,\n",
      "       8.53996601e-01, 8.63002354e-01, 8.66257346e-01, 8.69615374e-01,\n",
      "       8.72361535e-01, 8.76552456e-01, 8.79289665e-01, 8.90527736e-01,\n",
      "       8.95470384e-01, 8.99654353e-01, 9.01699047e-01, 9.02332291e-01,\n",
      "       9.09771619e-01, 9.10621934e-01, 9.13532611e-01, 9.32721188e-01,\n",
      "       9.38657247e-01, 9.58579649e-01, 9.69000947e-01, 9.69151608e-01,\n",
      "       9.73755189e-01, 9.77873539e-01, 9.88196287e-01, 9.91734695e-01,\n",
      "       9.99691859e-01, 9.99897923e-01]))\n",
      "<class 'pandas.core.frame.DataFrame'>\n"
     ]
    },
    {
     "name": "stderr",
     "output_type": "stream",
     "text": [
      "C:\\Users\\juanj\\AppData\\Local\\Packages\\PythonSoftwareFoundation.Python.3.10_qbz5n2kfra8p0\\LocalCache\\local-packages\\Python310\\site-packages\\sklearn\\utils\\validation.py:605: FutureWarning: is_sparse is deprecated and will be removed in a future version. Check `isinstance(dtype, pd.SparseDtype)` instead.\n",
      "  if is_sparse(pd_dtype):\n",
      "C:\\Users\\juanj\\AppData\\Local\\Packages\\PythonSoftwareFoundation.Python.3.10_qbz5n2kfra8p0\\LocalCache\\local-packages\\Python310\\site-packages\\sklearn\\utils\\validation.py:614: FutureWarning: is_sparse is deprecated and will be removed in a future version. Check `isinstance(dtype, pd.SparseDtype)` instead.\n",
      "  if is_sparse(pd_dtype) or not is_extension_array_dtype(pd_dtype):\n"
     ]
    },
    {
     "data": {
      "image/png": "[encoded data removed]",
      "text/plain": [
       "<Figure size 640x480 with 1 Axes>"
      ]
     },
     "metadata": {},
     "output_type": "display_data"
    }
   ],
   "source": [
    "pr_recall=sklearn.metrics.precision_recall_curve(y_true=y_test, probas_pred=prob_clase1, pos_label=1)\n",
    "print('curva precision-recall:',pr_recall)\n",
    "precision,recall,_=pr_recall\n",
    "plt.plot(recall,precision) ;plt.xlabel('recall') ; plt.ylabel('precision')\n",
    "print(type(x_train_scaled))"
   ]
  },
  {
   "cell_type": "markdown",
   "metadata": {},
   "source": [
    "# SEMANA 3"
   ]
  },
  {
   "cell_type": "markdown",
   "metadata": {},
   "source": [
    "### Paso 5"
   ]
  },
  {
   "cell_type": "markdown",
   "metadata": {},
   "source": [
    "Suponiendo que un falso positivo (un cliente que se predice que va a irse de la empresa\n",
    "pero se queda) cuesta 1, y un falso positivo (un cliente que se predice que va a quedarse\n",
    "en la empresa pero se va) cuesta 10, calcula, en función del umbral utilizado para decidir\n",
    "con el modelo, el coste promedio. Calcula el umbral óptimo de decisión según esa curva."
   ]
  },
  {
   "cell_type": "markdown",
   "metadata": {},
   "source": [
    "Paso 1:En esta semana se usará otro tipo de modelo, el Naïve Bayes, y se realizará una\n",
    "implementación propia. Para ello escribe la clase NaïveBayes, implementando al menos\n",
    "los métodos siguientes:\n",
    "\n",
    "El atributo Laplace indica si debe o no aplicarse la corrección de Laplace. Este y\n",
    "cualquier otro atributo que necesites debe pasarse al constructor de la clase. Los\n",
    "métodos fit, predict y score implementan una funcionalidad similar a la que hemos\n",
    "comprobado en las librerías de Scikit Learn:\n",
    "\n",
    "• fit(X,y): Calcula el modelo correspondiente a partir de los datos de train. En\n",
    "nuestra implementación se puede pasar un data frame que analice los atributos\n",
    "del dataset y calcule las probabilidades teniendo en cuenta si son valores\n",
    "nominales (tipo object) o numéricos (tipo int, float…). En Naïve Bayes el modelo\n",
    "es el conjunto de verosimilitudes y de probabilidades a priori, calculadas a partir\n",
    "de los datos de train.\n",
    "\n",
    "• predict(X): devuelve el conjunto de clases estimadas para cada uno de los datos\n",
    "de test\n",
    "• score(X, y): devuelve el accuracy medio, es decir, los aciertos en las\n",
    "predicciones del conjunto pasado como argumento.\n",
    "\n",
    "• score(X, y): devuelve el accuracy medio, es decir, los aciertos en las\n",
    "predicciones del conjunto pasado como argumento.\n"
   ]
  },
  {
   "cell_type": "markdown",
   "metadata": {},
   "source": []
  },
  {
   "cell_type": "code",
   "execution_count": 460,
   "metadata": {},
   "outputs": [
    {
     "data": {
      "text/plain": [
       "0.5419161676646707"
      ]
     },
     "execution_count": 460,
     "metadata": {},
     "output_type": "execute_result"
    }
   ],
   "source": [
    "class Naive_Bayes:\n",
    "    def __init__(self,x_train_scaled,y_train,x_test_scaled=None,y_test=None,laplace=False):\n",
    "        self.laplace=laplace\n",
    "        self.x_train_scaled=x_train_scaled\n",
    "        self.y_train=y_train\n",
    "        self.x_test_scaled=x_test_scaled\n",
    "        self.y_test=y_test\n",
    "    def sacar_mean_std(self,col):\n",
    "        mean=col.mean()\n",
    "        \n",
    "        std=col.std()\n",
    "        return mean,std    \n",
    "    def prob_x_distribucion_normal(self,x,mean,sigma)->callable: #\n",
    "        '''introducimos la función de densidad de probabilidad con parámetros determinados para cada variable numérica'''\n",
    "        return (1 / np.sqrt(2 * np.pi) * sigma) * np.exp(-((x-mean)**2 / (2 * sigma**2)))    \n",
    "    def prob_col_numerica(self,col,mean,sigma):\n",
    "        col=pd.Series(col) #para aplicar apply debe ser una serie\n",
    "        \n",
    "        try:\n",
    "            return col.apply(lambda x:self.prob_x_distribucion_normal(x,mean=mean,sigma=sigma))  #col no cambia, para ello tendríamos que volver a definir la var\n",
    "        except:\n",
    "            print(sigma)\n",
    "            raise Exception\n",
    "    def prob_col_nominal(self,col):  #trataremos las cols de dummies              \n",
    "        col=pd.Series(col)\n",
    "        longitud=len(col)\n",
    "        if self.laplace==True:\n",
    "            muestra_add=1 #añadimos muestras ficticias\n",
    "        else:\n",
    "            muestra_add=0 #no aplicamos laplace\n",
    "            d_probs={}\n",
    "        vc=col.value_counts()\n",
    "        for fila in col:\n",
    "            d_probs[fila]=(vc.loc[fila]+muestra_add)/(longitud+2*muestra_add) #numero de veces que aparece ese atributo/numero de muestras\n",
    "        return d_probs\n",
    "\n",
    "    def fit(self,X:pd.DataFrame,y):  #train x scaled, train y\n",
    "        X=pd.DataFrame(X)\n",
    "        #primero separo muestras de clase 0 y 1\n",
    "        muestras_c0=X[y==0]\n",
    "        muestras_c1=X[y==1]\n",
    "        #diferencio vars numericas y categoricas\n",
    "        vars_num_c0 = muestras_c0.loc[:, data.dtypes != 'int32'] ;vars_dummy_c0=muestras_c0.loc[:, data.dtypes == 'int32'] #int32 son el tipo que solo tienen las variables dummy\n",
    "        vars_num_c1 = muestras_c1.loc[:, data.dtypes != 'int32'] ;vars_dummy_c1=muestras_c1.loc[:, data.dtypes == 'int32']\n",
    "        \n",
    "        list_mean_std_c0=[] ; list_mean_std_c1=[]\n",
    "        list_prob_dummy_c0=[] ; list_prob_dummy_c1=[]\n",
    "        #listas de tuplas con la media y el error correspondientes a cada variable, separando los conjuntos de las 2 clases.\n",
    "\n",
    "        \n",
    "        resultados = vars_num_c0.agg(['mean', 'std']).T\n",
    "        list_mean_std_c0 = [tuple(x) for x in resultados.values]\n",
    "        resultados = vars_num_c1.agg(['mean', 'std']).T\n",
    "        list_mean_std_c1 = [tuple(x) for x in resultados.values] #la media y error para cada columna (cambian dependiendo de la clase que condiciona)\n",
    "\n",
    "\n",
    "        for col in vars_dummy_c1.columns:\n",
    "            col=X[col].values\n",
    "            list_prob_dummy_c1.append(self.prob_col_nominal(col))\n",
    "        for col in vars_dummy_c0.columns:\n",
    "            col=X[col].values\n",
    "            list_prob_dummy_c0.append(self.prob_col_nominal(col))\n",
    "        \n",
    "        p_c1=len(muestras_c1)/(len(muestras_c1)+len(muestras_c0)) ; p_c0=1-p_c1\n",
    "        \n",
    "        return list_mean_std_c0,list_mean_std_c1,list_prob_dummy_c0,list_prob_dummy_c1,p_c0,p_c1\n",
    "\n",
    "    def predict(self,X:pd.DataFrame): #x_test_scaled\n",
    "        \n",
    "        list_mean_std_c0,list_mean_std_c1,list_prob_dummy_c0,list_prob_dummy_c1,p_c0,p_c1=self.fit(self.x_train_scaled,self.y_train)\n",
    "        prob_atributos_test_c0=[] ; prob_atributos_test_c1=[]\n",
    "        \n",
    "        for lista_prob,lista_param_cont,lista_dicts in (prob_atributos_test_c0,list_mean_std_c0,list_prob_dummy_c0),(prob_atributos_test_c1,list_mean_std_c1,list_prob_dummy_c1):\n",
    "            for colu in X:\n",
    "                col=X[colu].values #cogemos los valores dentro de la serie\n",
    "                \n",
    "                \n",
    "                if X[colu].dtype!='int32': #var continua\n",
    "                    \n",
    "                    \n",
    "                    mean,sigma=lista_param_cont.pop(0)\n",
    "                    #print(mean,sigma)\n",
    "                    lista_prob.append(self.prob_col_numerica(col,mean,sigma))\n",
    "                else:\n",
    "                    \n",
    "                    l=[] ; d=lista_dicts.pop(0)    #esto es una lista de dicts con las probabilidades por cada valor\n",
    "                    \n",
    "                    for value in col:\n",
    "                        l.append(d[value])\n",
    "                    lista_prob.append(pd.Series(l))\n",
    "        \n",
    "        df_probabilidades_c0,df_probabilidades_c1=pd.DataFrame(prob_atributos_test_c0).T,pd.DataFrame(prob_atributos_test_c1).T\n",
    "        \n",
    "        prob_finales_test_c0=df_probabilidades_c0.prod(axis=1)*p_c0 #hacemos los productorios y multiplicamos por la prob de la clase\n",
    "        prob_finales_test_c1=df_probabilidades_c1.prod(axis=1)*p_c1\n",
    "        df_probabilidades=pd.DataFrame([prob_finales_test_c0,prob_finales_test_c1]).T\n",
    "        predicciones=[]\n",
    "        for i in range(len(df_probabilidades)):\n",
    "            \n",
    "            if df_probabilidades[0][i]>df_probabilidades[1][i]:\n",
    "                predicciones.append(0)\n",
    "            else:\n",
    "                predicciones.append(1)\n",
    "        \n",
    "        return pd.Series(predicciones) #misma longitud que x_test: 334 filas\n",
    "        \n",
    "    def score(self,X,y): #x_test_scaled, y_test\n",
    "        predicciones=self.predict(pd.DataFrame(X))\n",
    "        #del conjunto test\n",
    "        pd.set_option('display.max_rows', 25)\n",
    "        \n",
    "        predicciones=predicciones.reset_index(drop=True) #tenemos que quitar los indices para ir comparando de uno en uno\n",
    "        y=y.reset_index(drop=True)                      #la primera predicción que tenemos se corresponde con la primera fila del conjunto test\n",
    "        longitud=len(y) ; contador=0\n",
    "        \n",
    "        for i,k in zip(predicciones,y):\n",
    "            if i==k: \n",
    "                contador +=1 #un acierto más\n",
    "        print('Score:') \n",
    "        return contador/longitud\n",
    "    \n",
    "pd.set_option('display.max_rows', 25)\n",
    " #para dividir entre filas de clase 0 y 1,\n",
    "prueba=Naive_Bayes(pd.DataFrame(x_train_scaled, columns=x_train.columns, index=x_train.index),y_train)        \n",
    "#necesitamos que x_train_scaled tenga los índices de filas de x_train\n",
    "a=prueba.score(x_test_scaled,y_test) \n",
    "\n",
    "a\n",
    "\n",
    "\n",
    "        "
   ]
  },
  {
   "cell_type": "code",
   "execution_count": 372,
   "metadata": {},
   "outputs": [
    {
     "data": {
      "text/html": [
       "<div>\n",
       "<style scoped>\n",
       "    .dataframe tbody tr th:only-of-type {\n",
       "        vertical-align: middle;\n",
       "    }\n",
       "\n",
       "    .dataframe tbody tr th {\n",
       "        vertical-align: top;\n",
       "    }\n",
       "\n",
       "    .dataframe thead th {\n",
       "        text-align: right;\n",
       "    }\n",
       "</style>\n",
       "<table border=\"1\" class=\"dataframe\">\n",
       "  <thead>\n",
       "    <tr style=\"text-align: right;\">\n",
       "      <th></th>\n",
       "      <th>Churn Status</th>\n",
       "    </tr>\n",
       "  </thead>\n",
       "  <tbody>\n",
       "    <tr>\n",
       "      <th>663</th>\n",
       "      <td>0</td>\n",
       "    </tr>\n",
       "    <tr>\n",
       "      <th>737</th>\n",
       "      <td>0</td>\n",
       "    </tr>\n",
       "    <tr>\n",
       "      <th>126</th>\n",
       "      <td>0</td>\n",
       "    </tr>\n",
       "    <tr>\n",
       "      <th>354</th>\n",
       "      <td>1</td>\n",
       "    </tr>\n",
       "    <tr>\n",
       "      <th>1077</th>\n",
       "      <td>0</td>\n",
       "    </tr>\n",
       "    <tr>\n",
       "      <th>...</th>\n",
       "      <td>...</td>\n",
       "    </tr>\n",
       "    <tr>\n",
       "      <th>1021</th>\n",
       "      <td>1</td>\n",
       "    </tr>\n",
       "    <tr>\n",
       "      <th>958</th>\n",
       "      <td>1</td>\n",
       "    </tr>\n",
       "    <tr>\n",
       "      <th>1078</th>\n",
       "      <td>0</td>\n",
       "    </tr>\n",
       "    <tr>\n",
       "      <th>779</th>\n",
       "      <td>1</td>\n",
       "    </tr>\n",
       "    <tr>\n",
       "      <th>840</th>\n",
       "      <td>0</td>\n",
       "    </tr>\n",
       "  </tbody>\n",
       "</table>\n",
       "<p>334 rows × 1 columns</p>\n",
       "</div>"
      ],
      "text/plain": [
       "      Churn Status\n",
       "663              0\n",
       "737              0\n",
       "126              0\n",
       "354              1\n",
       "1077             0\n",
       "...            ...\n",
       "1021             1\n",
       "958              1\n",
       "1078             0\n",
       "779              1\n",
       "840              0\n",
       "\n",
       "[334 rows x 1 columns]"
      ]
     },
     "execution_count": 372,
     "metadata": {},
     "output_type": "execute_result"
    }
   ],
   "source": [
    "pd.DataFrame(y_test)\n",
    "#pd.DataFrame(x_train_scaled)\n",
    "#muestras_c0=pd.DataFrame(muestras_c0)\n",
    "#muestras_c0.info()"
   ]
  },
  {
   "cell_type": "code",
   "execution_count": 116,
   "metadata": {},
   "outputs": [
    {
     "name": "stdout",
     "output_type": "stream",
     "text": [
      "<class 'pandas.core.frame.DataFrame'>\n",
      "Index: 777 entries, 952 to 1061\n",
      "Data columns (total 25 columns):\n",
      " #   Column                                             Non-Null Count  Dtype  \n",
      "---  ------                                             --------------  -----  \n",
      " 0   network_age                                        777 non-null    int64  \n",
      " 1   Customer tenure in month                           777 non-null    float64\n",
      " 2   Total Spend in Months 1 and 2 of 2017              777 non-null    float64\n",
      " 3   Total SMS Spend                                    777 non-null    float64\n",
      " 4   Total Data Spend                                   777 non-null    float64\n",
      " 5   Total Data Consumption                             777 non-null    float64\n",
      " 6   Total Unique Calls                                 777 non-null    int64  \n",
      " 7   Total Onnet spend                                  777 non-null    int64  \n",
      " 8   Total Offnet spend                                 777 non-null    int64  \n",
      " 9   Total Call centre complaint calls                  777 non-null    int64  \n",
      " 10  Network type subscription in Month 1_3G            777 non-null    int32  \n",
      " 11  Network type subscription in Month 1_Other         777 non-null    int32  \n",
      " 12  Network type subscription in Month 2_2G            777 non-null    int32  \n",
      " 13  Network type subscription in Month 2_3G            777 non-null    int32  \n",
      " 14  Most Loved Competitor network in Month 1_Mango     777 non-null    int32  \n",
      " 15  Most Loved Competitor network in Month 1_PQza      777 non-null    int32  \n",
      " 16  Most Loved Competitor network in Month 1_ToCall    777 non-null    int32  \n",
      " 17  Most Loved Competitor network in Month 1_Uxaa      777 non-null    int32  \n",
      " 18  Most Loved Competitor network in Month 1_Weematel  777 non-null    int32  \n",
      " 19  Most Loved Competitor network in Month 1_Zintel    777 non-null    int32  \n",
      " 20  Most Loved Competitor network in Month 2_PQza      777 non-null    int32  \n",
      " 21  Most Loved Competitor network in Month 2_ToCall    777 non-null    int32  \n",
      " 22  Most Loved Competitor network in Month 2_Uxaa      777 non-null    int32  \n",
      " 23  Most Loved Competitor network in Month 2_Weematel  777 non-null    int32  \n",
      " 24  Most Loved Competitor network in Month 2_Zintel    777 non-null    int32  \n",
      "dtypes: float64(5), int32(15), int64(5)\n",
      "memory usage: 112.3 KB\n"
     ]
    }
   ],
   "source": [
    "class prueba:\n",
    "    def __init__(self,laplace=False):\n",
    "        self.laplace=laplace\n",
    "    def printeo(laplace):\n",
    "        if laplace==True:\n",
    "            print('yeaaaah')\n",
    "        else:\n",
    "            pass\n",
    "        \n",
    "h=prueba(laplace=True)\n",
    "x_train_num.info()"
   ]
  },
  {
   "cell_type": "code",
   "execution_count": 43,
   "metadata": {},
   "outputs": [
    {
     "name": "stdout",
     "output_type": "stream",
     "text": [
      "952     0\n",
      "651     0\n",
      "824     1\n",
      "434     1\n",
      "789     1\n",
      "       ..\n",
      "715     0\n",
      "905     0\n",
      "1096    1\n",
      "235     0\n",
      "1061    0\n",
      "Name: Churn Status, Length: 777, dtype: int64       network_age  Customer tenure in month  \\\n",
      "952           103                      3.43   \n",
      "651          1856                     61.87   \n",
      "824          1606                     53.53   \n",
      "434           136                      4.53   \n",
      "789          1502                     50.07   \n",
      "...           ...                       ...   \n",
      "715          3762                    125.40   \n",
      "905           418                     13.93   \n",
      "1096         2226                     74.20   \n",
      "235          1794                     59.80   \n",
      "1061         1284                     42.80   \n",
      "\n",
      "      Total Spend in Months 1 and 2 of 2017  Total SMS Spend  \\\n",
      "952                                153.7964             3.50   \n",
      "651                                646.1308             3.50   \n",
      "824                                154.6272            49.85   \n",
      "434                                146.7660             4.10   \n",
      "789                                 93.6660             1.20   \n",
      "...                                     ...              ...   \n",
      "715                                317.3620             0.60   \n",
      "905                                480.3660             1.75   \n",
      "1096                              1322.3600            39.31   \n",
      "235                               1248.5104            57.73   \n",
      "1061                               113.3880            10.50   \n",
      "\n",
      "      Total Data Spend  Total Data Consumption  Total Unique Calls  \\\n",
      "952               8.75            2.202878e+04                  34   \n",
      "651              67.50            9.544388e+04                  73   \n",
      "824              50.00            2.305155e+03                  10   \n",
      "434              32.50            2.268703e+03                  21   \n",
      "789              72.50            3.851398e+06                   8   \n",
      "...                ...                     ...                 ...   \n",
      "715              16.25            8.007617e+02                  53   \n",
      "905              52.50            2.362759e+07                   3   \n",
      "1096             22.50            7.382053e+04                 257   \n",
      "235             158.75            5.109445e+06                 308   \n",
      "1061              8.75            2.286556e+04                  64   \n",
      "\n",
      "      Total Onnet spend  Total Offnet spend  \\\n",
      "952                5244                4452   \n",
      "651               13961                1039   \n",
      "824                   0                1829   \n",
      "434                2292                1361   \n",
      "789                  60                 537   \n",
      "...                 ...                 ...   \n",
      "715                4830                3776   \n",
      "905                   0                 509   \n",
      "1096               8820               61293   \n",
      "235               16540               20590   \n",
      "1061                946                2987   \n",
      "\n",
      "      Total Call centre complaint calls  ...  \\\n",
      "952                                   1  ...   \n",
      "651                                   1  ...   \n",
      "824                                   1  ...   \n",
      "434                                   1  ...   \n",
      "789                                   1  ...   \n",
      "...                                 ...  ...   \n",
      "715                                   1  ...   \n",
      "905                                   1  ...   \n",
      "1096                                  1  ...   \n",
      "235                                   2  ...   \n",
      "1061                                  2  ...   \n",
      "\n",
      "      Most Loved Competitor network in Month 1_PQza  \\\n",
      "952                                               0   \n",
      "651                                               0   \n",
      "824                                               0   \n",
      "434                                               1   \n",
      "789                                               0   \n",
      "...                                             ...   \n",
      "715                                               0   \n",
      "905                                               1   \n",
      "1096                                              0   \n",
      "235                                               1   \n",
      "1061                                              0   \n",
      "\n",
      "      Most Loved Competitor network in Month 1_ToCall  \\\n",
      "952                                                 0   \n",
      "651                                                 0   \n",
      "824                                                 0   \n",
      "434                                                 0   \n",
      "789                                                 0   \n",
      "...                                               ...   \n",
      "715                                                 0   \n",
      "905                                                 0   \n",
      "1096                                                0   \n",
      "235                                                 0   \n",
      "1061                                                0   \n",
      "\n",
      "      Most Loved Competitor network in Month 1_Uxaa  \\\n",
      "952                                               1   \n",
      "651                                               1   \n",
      "824                                               0   \n",
      "434                                               0   \n",
      "789                                               1   \n",
      "...                                             ...   \n",
      "715                                               0   \n",
      "905                                               0   \n",
      "1096                                              0   \n",
      "235                                               0   \n",
      "1061                                              1   \n",
      "\n",
      "      Most Loved Competitor network in Month 1_Weematel  \\\n",
      "952                                                   0   \n",
      "651                                                   0   \n",
      "824                                                   0   \n",
      "434                                                   0   \n",
      "789                                                   0   \n",
      "...                                                 ...   \n",
      "715                                                   0   \n",
      "905                                                   0   \n",
      "1096                                                  1   \n",
      "235                                                   0   \n",
      "1061                                                  0   \n",
      "\n",
      "      Most Loved Competitor network in Month 1_Zintel  \\\n",
      "952                                                 0   \n",
      "651                                                 0   \n",
      "824                                                 0   \n",
      "434                                                 0   \n",
      "789                                                 0   \n",
      "...                                               ...   \n",
      "715                                                 1   \n",
      "905                                                 0   \n",
      "1096                                                0   \n",
      "235                                                 0   \n",
      "1061                                                0   \n",
      "\n",
      "      Most Loved Competitor network in Month 2_PQza  \\\n",
      "952                                               0   \n",
      "651                                               0   \n",
      "824                                               1   \n",
      "434                                               0   \n",
      "789                                               1   \n",
      "...                                             ...   \n",
      "715                                               0   \n",
      "905                                               1   \n",
      "1096                                              0   \n",
      "235                                               0   \n",
      "1061                                              0   \n",
      "\n",
      "      Most Loved Competitor network in Month 2_ToCall  \\\n",
      "952                                                 0   \n",
      "651                                                 0   \n",
      "824                                                 0   \n",
      "434                                                 0   \n",
      "789                                                 0   \n",
      "...                                               ...   \n",
      "715                                                 0   \n",
      "905                                                 0   \n",
      "1096                                                0   \n",
      "235                                                 0   \n",
      "1061                                                0   \n",
      "\n",
      "      Most Loved Competitor network in Month 2_Uxaa  \\\n",
      "952                                               1   \n",
      "651                                               1   \n",
      "824                                               0   \n",
      "434                                               0   \n",
      "789                                               0   \n",
      "...                                             ...   \n",
      "715                                               1   \n",
      "905                                               0   \n",
      "1096                                              1   \n",
      "235                                               1   \n",
      "1061                                              1   \n",
      "\n",
      "      Most Loved Competitor network in Month 2_Weematel  \\\n",
      "952                                                   0   \n",
      "651                                                   0   \n",
      "824                                                   0   \n",
      "434                                                   0   \n",
      "789                                                   0   \n",
      "...                                                 ...   \n",
      "715                                                   0   \n",
      "905                                                   0   \n",
      "1096                                                  0   \n",
      "235                                                   0   \n",
      "1061                                                  0   \n",
      "\n",
      "      Most Loved Competitor network in Month 2_Zintel  \n",
      "952                                                 0  \n",
      "651                                                 0  \n",
      "824                                                 0  \n",
      "434                                                 1  \n",
      "789                                                 0  \n",
      "...                                               ...  \n",
      "715                                                 0  \n",
      "905                                                 0  \n",
      "1096                                                0  \n",
      "235                                                 0  \n",
      "1061                                                0  \n",
      "\n",
      "[777 rows x 25 columns]\n",
      "[0.4, 0.6, 0.4, 0.6, 0.6]\n"
     ]
    }
   ],
   "source": [
    "print(y_train,x_train)\n",
    "\n",
    "\n",
    "#print(len(x_train),len(muestras_c0),len(muestras_c1))\n",
    "\n",
    "import pandas as pd\n",
    "color=pd.Series([0,1,0,1,1])\n",
    "l=len(color)\n",
    "vc=color.value_counts()\n",
    "#print(vc.loc['r']/l)\n",
    "frecs=[]\n",
    "for casilla in color:\n",
    "    frecs.append(vc.loc[casilla]/l)\n",
    "print(frecs)"
   ]
  }
 ],
 "metadata": {
  "kernelspec": {
   "display_name": "Python 3",
   "language": "python",
   "name": "python3"
  },
  "language_info": {
   "codemirror_mode": {
    "name": "ipython",
    "version": 3
   },
   "file_extension": ".py",
   "mimetype": "text/x-python",
   "name": "python",
   "nbconvert_exporter": "python",
   "pygments_lexer": "ipython3",
   "version": "3.10.11"
  }
 },
 "nbformat": 4,
 "nbformat_minor": 2
}
