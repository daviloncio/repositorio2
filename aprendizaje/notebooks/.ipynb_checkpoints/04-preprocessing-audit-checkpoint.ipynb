{
 "cells": [
  {
   "cell_type": "markdown",
   "metadata": {},
   "source": [
    "<font color=\"#CA3532\"><h1 align=\"left\">Auditoría de datos</h1></font>\n",
    "\n",
    "**Manuel Sánchez-Montañés**"
   ]
  },
  {
   "cell_type": "markdown",
   "metadata": {},
   "source": [
    "## <font color=\"#CA3532\">Inspección y auditoría de datos</font>\n",
    "\n",
    "El primer paso siempre es mirar los datos y ver qué contienen. Algunas tareas típicas que se realizan durante esta etapa son calcular estadísticas descriptivas básicas y representar histogramas y diagramas de dispersión para diferentes pares de variables son .\n",
    "\n",
    "Primero importamos las librerías *pandas* y *matplotlib*, establecemos el modo en línea *matplotlib* y establecemos el estilo de dibujo:"
   ]
  },
  {
   "cell_type": "code",
   "execution_count": null,
   "metadata": {},
   "outputs": [],
   "source": [
    "import pandas as pd\n",
    "import matplotlib\n",
    "import matplotlib.pyplot as plt\n",
    "%matplotlib inline\n",
    "matplotlib.style.use('ggplot')"
   ]
  },
  {
   "cell_type": "markdown",
   "metadata": {},
   "source": [
    "### <font color=\"#CA3532\">Carga de datos con *pandas*</font>\n",
    "\n",
    "Ahora cargaremos unos datos sencillos usando la función <a href=\"http://pandas.pydata.org/pandas-docs/stable/generated/pandas.read_csv.html\">pandas.read_csv</a>:"
   ]
  },
  {
   "cell_type": "code",
   "execution_count": null,
   "metadata": {},
   "outputs": [],
   "source": [
    "data = pd.read_csv(\"../datasets/small.csv\",\n",
    "                   na_values = [\"?\", \"none\"],\n",
    "#                   sep = \",\"\n",
    "                  )"
   ]
  },
  {
   "cell_type": "markdown",
   "metadata": {},
   "source": [
    "Mostramos los datos que acabamos de leer:"
   ]
  },
  {
   "cell_type": "code",
   "execution_count": null,
   "metadata": {},
   "outputs": [],
   "source": [
    "data"
   ]
  },
  {
   "cell_type": "code",
   "execution_count": null,
   "metadata": {},
   "outputs": [],
   "source": [
    "data.dtypes"
   ]
  },
  {
   "cell_type": "markdown",
   "metadata": {},
   "source": [
    "Repetimos lo mismo pero ahora con ua base de datos más grande:"
   ]
  },
  {
   "cell_type": "code",
   "execution_count": null,
   "metadata": {},
   "outputs": [],
   "source": [
    "data = pd.read_csv(\"../datasets/adult.csv\", na_values = [\"?\"],\n",
    "#                   sep = \",\"\n",
    "                  )\n",
    "data.head()"
   ]
  },
  {
   "cell_type": "code",
   "execution_count": null,
   "metadata": {},
   "outputs": [],
   "source": [
    "data.shape"
   ]
  },
  {
   "cell_type": "code",
   "execution_count": null,
   "metadata": {},
   "outputs": [],
   "source": [
    "data.dtypes"
   ]
  },
  {
   "cell_type": "markdown",
   "metadata": {},
   "source": [
    "### <font color=\"#CA3532\">Estadísticas descriptivas</font>\n",
    "\n",
    "Puedes sacar pon pantalla estadísticas descriptivas básicas usando el método <a  href=\"http://pandas.pydata.org/pandas-docs/stable/generated/pandas.DataFrame.describe.html#pandas-dataframe-describe\"> pandas.DataFrame.describe</a>, tanto para variables numéricas:"
   ]
  },
  {
   "cell_type": "code",
   "execution_count": null,
   "metadata": {},
   "outputs": [],
   "source": [
    "data.describe().T[[\"count\", \"min\", \"max\", \"mean\", \"std\"]]"
   ]
  },
  {
   "cell_type": "markdown",
   "metadata": {},
   "source": [
    "como para variables categóricas:"
   ]
  },
  {
   "cell_type": "code",
   "execution_count": null,
   "metadata": {},
   "outputs": [],
   "source": [
    "data.describe(include = \"object\").T"
   ]
  },
  {
   "cell_type": "markdown",
   "metadata": {},
   "source": [
    "Por cada variable se puede contar el número de repeticiones de cada valor con el método <a href=\"http://pandas.pydata.org/pandas-docs/stable/generated/pandas.Series.value_counts.html#pandas-series-value-counts\">pandas.Series.value_counts()</a>. Aunque esto se puede realizar tanto en atributos numéricos como categóricos, tiene mucho más sentido hacerlo en los categóricos:"
   ]
  },
  {
   "cell_type": "code",
   "execution_count": null,
   "metadata": {},
   "outputs": [],
   "source": [
    "data[\"workclass\"].value_counts()"
   ]
  },
  {
   "cell_type": "markdown",
   "metadata": {},
   "source": [
    "Podemos chequear ahora si hay alguna variable que presente valores ausentes (missing values):"
   ]
  },
  {
   "cell_type": "code",
   "execution_count": null,
   "metadata": {},
   "outputs": [],
   "source": [
    "#data.isnull()\n",
    "data.isna()"
   ]
  },
  {
   "cell_type": "code",
   "execution_count": null,
   "metadata": {},
   "outputs": [],
   "source": [
    "data.isna().any()"
   ]
  },
  {
   "cell_type": "markdown",
   "metadata": {},
   "source": [
    "Y contar cuántos missing values hay en cada variable:"
   ]
  },
  {
   "cell_type": "code",
   "execution_count": null,
   "metadata": {},
   "outputs": [],
   "source": [
    "100*data.isna().mean()"
   ]
  },
  {
   "cell_type": "code",
   "execution_count": null,
   "metadata": {},
   "outputs": [],
   "source": [
    "aux = 100*data.isna().mean()\n",
    "aux"
   ]
  },
  {
   "cell_type": "code",
   "execution_count": null,
   "metadata": {},
   "outputs": [],
   "source": [
    "aux[aux>0]"
   ]
  },
  {
   "cell_type": "code",
   "execution_count": null,
   "metadata": {},
   "outputs": [],
   "source": [
    "from mi_libreria import my_missings, my_message"
   ]
  },
  {
   "cell_type": "code",
   "execution_count": null,
   "metadata": {},
   "outputs": [],
   "source": [
    "my_message()"
   ]
  },
  {
   "cell_type": "markdown",
   "metadata": {},
   "source": [
    "### <font color=\"#CA3532\">Visualización de los datos</font>\n",
    "\n",
    "Finalmente podemos realizar diferentes tipos de gráficos para visualizar los datos.\n",
    "\n",
    "Histogramas para datos numéricos:"
   ]
  },
  {
   "cell_type": "code",
   "execution_count": null,
   "metadata": {},
   "outputs": [],
   "source": [
    "#data[\"capital-gain\"].unique()"
   ]
  },
  {
   "cell_type": "code",
   "execution_count": null,
   "metadata": {},
   "outputs": [],
   "source": [
    "import numpy as np\n",
    "np.unique(data[\"capital-gain\"])"
   ]
  },
  {
   "cell_type": "code",
   "execution_count": null,
   "metadata": {},
   "outputs": [],
   "source": [
    "sum(data[\"capital-gain\"] == 99999)"
   ]
  },
  {
   "cell_type": "code",
   "execution_count": null,
   "metadata": {},
   "outputs": [],
   "source": [
    "np.unique(data[\"marital-status\"],\n",
    "          return_counts=True)"
   ]
  },
  {
   "cell_type": "code",
   "execution_count": null,
   "metadata": {},
   "outputs": [],
   "source": [
    "data[\"marital-status\"].value_counts()"
   ]
  },
  {
   "cell_type": "code",
   "execution_count": null,
   "metadata": {},
   "outputs": [],
   "source": [
    "data[\"age\"].hist(bins=15, figsize=(4,2)) # 4 ancho, 2 alto\n",
    "plt.xlim(0,100);"
   ]
  },
  {
   "cell_type": "code",
   "execution_count": null,
   "metadata": {},
   "outputs": [],
   "source": [
    "data[\"age\"].hist(bins=200, figsize=(4,2)) # 4 ancho, 2 alto\n",
    "plt.xlim(0,100);\n"
   ]
  },
  {
   "cell_type": "code",
   "execution_count": null,
   "metadata": {},
   "outputs": [],
   "source": [
    "data[\"age\"].plot.density(figsize=(4,2))\n",
    "plt.xlim(0,100);"
   ]
  },
  {
   "cell_type": "code",
   "execution_count": null,
   "metadata": {},
   "outputs": [],
   "source": [
    "h = data.hist(bins = 20, figsize = (12, 12))"
   ]
  },
  {
   "cell_type": "markdown",
   "metadata": {},
   "source": [
    "Y diagramas de barras o circulares (también conocidos como \"diagramas de tarta\") mostrando el número de repeticiones de cada valor en un atributo categórico:"
   ]
  },
  {
   "cell_type": "code",
   "execution_count": null,
   "metadata": {},
   "outputs": [],
   "source": [
    "var = \"relationship\"\n",
    "h = data[var].value_counts().plot(kind = 'bar',\n",
    "                                  figsize = (4, 3),\n",
    "                                  title = var,\n",
    "                                  color = 'firebrick')"
   ]
  },
  {
   "cell_type": "code",
   "execution_count": null,
   "metadata": {},
   "outputs": [],
   "source": [
    "var = \"relationship\"\n",
    "h = data[var].value_counts().plot(kind = 'pie',\n",
    "                                  figsize = (4, 4),\n",
    "                                  title = var).set_ylabel('')"
   ]
  },
  {
   "cell_type": "markdown",
   "metadata": {},
   "source": [
    "Si queremos mostrar todos los gráficos circulares juntos podemos hacer:"
   ]
  },
  {
   "cell_type": "code",
   "execution_count": null,
   "metadata": {},
   "outputs": [],
   "source": [
    "data.dtypes == object"
   ]
  },
  {
   "cell_type": "code",
   "execution_count": null,
   "metadata": {},
   "outputs": [],
   "source": [
    "import numpy as np\n",
    "categorical_data = data.loc[:, data.dtypes == object].copy()\n",
    "numerical_data   = data.loc[:, data.dtypes != object].copy()"
   ]
  },
  {
   "cell_type": "code",
   "execution_count": null,
   "metadata": {},
   "outputs": [],
   "source": [
    "categorical_data.head(5)"
   ]
  },
  {
   "cell_type": "code",
   "execution_count": null,
   "metadata": {},
   "outputs": [],
   "source": [
    "numerical_data.head(5)"
   ]
  },
  {
   "cell_type": "code",
   "execution_count": null,
   "metadata": {},
   "outputs": [],
   "source": [
    "categorical_data.columns"
   ]
  },
  {
   "cell_type": "code",
   "execution_count": null,
   "metadata": {},
   "outputs": [],
   "source": [
    "for i, var in enumerate(categorical_data.columns):\n",
    "    print(i%2, (i%2)==0, i%2+1)"
   ]
  },
  {
   "cell_type": "code",
   "execution_count": null,
   "metadata": {},
   "outputs": [],
   "source": [
    "for i, var in enumerate(categorical_data.columns):\n",
    "    print(i%2, (i%2)==0, i%2+1)\n",
    "    \n",
    "    if i%2 == 0:\n",
    "        plt.figure(figsize=(10,3))\n",
    "    # plt.subplot(num_filas, num_cols, num_figura_a_dibujar)\n",
    "    plt.subplot(1,2,i%2+1) # si i es par, el tercer argumento es 1. Si no, es 2\n",
    "    p = categorical_data[var].value_counts().plot(kind = 'bar',\n",
    "                                                  color='firebrick',\n",
    "                                                  title = var)\n",
    "    if i%2 == 1:\n",
    "        plt.show()\n",
    "    \n",
    "    #input(\"Intro para seguir\");"
   ]
  },
  {
   "cell_type": "markdown",
   "metadata": {},
   "source": [
    "#### Diagramas de dispersión para datos numéricos:"
   ]
  },
  {
   "cell_type": "code",
   "execution_count": null,
   "metadata": {},
   "outputs": [],
   "source": [
    "#?data.plot.scatter"
   ]
  },
  {
   "cell_type": "code",
   "execution_count": null,
   "metadata": {},
   "outputs": [],
   "source": [
    "h = data.plot.scatter(x='age', y='hours-per-week',\n",
    "                      figsize = (8, 5))"
   ]
  },
  {
   "cell_type": "markdown",
   "metadata": {},
   "source": [
    "#### Para que se vea mejor la estructura de la nube de puntos introducimos un factor alpha (transparencia):"
   ]
  },
  {
   "cell_type": "code",
   "execution_count": null,
   "metadata": {},
   "outputs": [],
   "source": [
    "h = data.plot.scatter(x='age', y='hours-per-week', \n",
    "                      figsize = (8, 5),\n",
    "                      alpha=0.1)"
   ]
  },
  {
   "cell_type": "code",
   "execution_count": null,
   "metadata": {},
   "outputs": [],
   "source": [
    "h = pd.plotting.scatter_matrix(data, alpha=0.005, figsize=(12, 12),\n",
    "                               diagonal='kde', marker = 'o', s = 50)"
   ]
  },
  {
   "cell_type": "markdown",
   "metadata": {},
   "source": [
    "#### Y si ahora quiero distinguir los puntos de cada clase con colores:"
   ]
  },
  {
   "cell_type": "code",
   "execution_count": null,
   "metadata": {},
   "outputs": [],
   "source": [
    "np.unique(data['class'])"
   ]
  },
  {
   "cell_type": "code",
   "execution_count": null,
   "metadata": {},
   "outputs": [],
   "source": [
    "labels = data['class'] == '>50K'"
   ]
  },
  {
   "cell_type": "code",
   "execution_count": null,
   "metadata": {},
   "outputs": [],
   "source": [
    "labels"
   ]
  },
  {
   "cell_type": "code",
   "execution_count": null,
   "metadata": {},
   "outputs": [],
   "source": [
    "h = pd.plotting.scatter_matrix(data, alpha=0.01, figsize=(12, 12),\n",
    "                               diagonal='kde', marker = 'o', s = 50,\n",
    "                               c = labels)"
   ]
  },
  {
   "cell_type": "code",
   "execution_count": null,
   "metadata": {},
   "outputs": [],
   "source": [
    "import seaborn as sns # librería avanzada de visualización"
   ]
  },
  {
   "cell_type": "code",
   "execution_count": null,
   "metadata": {},
   "outputs": [],
   "source": [
    "data.head()"
   ]
  },
  {
   "cell_type": "code",
   "execution_count": null,
   "metadata": {},
   "outputs": [],
   "source": [
    "# datos numéricos:\n",
    "\n",
    "data_num = data.loc[:,data.dtypes != object]\n",
    "data_num.head()"
   ]
  },
  {
   "cell_type": "code",
   "execution_count": null,
   "metadata": {},
   "outputs": [],
   "source": [
    "# correlación entre todas las variables numéricas:\n",
    "\n",
    "data_num.corr()"
   ]
  },
  {
   "cell_type": "markdown",
   "metadata": {},
   "source": [
    "#### Matriz de correlación dibujada como heatmap\n",
    "\n",
    "Información sobre diferentes mapas de color: https://matplotlib.org/3.1.0/tutorials/colors/colormaps.html"
   ]
  },
  {
   "cell_type": "code",
   "execution_count": null,
   "metadata": {},
   "outputs": [],
   "source": [
    "sns.heatmap(data_num.corr(), cmap=\"bwr\", vmin=-1, vmax=1);"
   ]
  },
  {
   "cell_type": "code",
   "execution_count": null,
   "metadata": {},
   "outputs": [],
   "source": [
    "# matriz de correlación dibujada de manera ordenada con clustermap:\n",
    "\n",
    "sns.clustermap(data_num.corr(), cmap=\"bwr\", vmin=-1, vmax=1,\n",
    "               figsize=(5,5));"
   ]
  },
  {
   "cell_type": "markdown",
   "metadata": {},
   "source": [
    "#### Ahora añado \"class_num\" que es una columna numérica nueva que es 1 si class<=50K, y 0 en caso contrario:"
   ]
  },
  {
   "cell_type": "code",
   "execution_count": null,
   "metadata": {},
   "outputs": [],
   "source": [
    "data2 = data_num.copy()\n",
    "data2[\"class_num\"] = 1*labels\n",
    "data2"
   ]
  },
  {
   "cell_type": "code",
   "execution_count": null,
   "metadata": {},
   "outputs": [],
   "source": [
    "# clustermap teniendo en cuenta esta variable:\n",
    "\n",
    "sns.clustermap(data2.corr(), cmap=\"bwr\", vmax=1, vmin=-1,\n",
    "               figsize=(5,5));"
   ]
  },
  {
   "cell_type": "code",
   "execution_count": null,
   "metadata": {},
   "outputs": [],
   "source": [
    "# correlación de todas las variables numéricas con class_num:\n",
    "\n",
    "data2.corr()[\"class_num\"]"
   ]
  },
  {
   "cell_type": "markdown",
   "metadata": {},
   "source": [
    "Para más información sobre visualización usando *pandas*: https://pandas.pydata.org/pandas-docs/stable/visualization.html"
   ]
  },
  {
   "cell_type": "markdown",
   "metadata": {},
   "source": [
    "### <font color=\"#CA3532\">Ejercicio</font>\n",
    "\n",
    "Crea una versión de este notebook donde cargues la base de datos *loan.csv* (carpeta datasets) y resuelve las siguientes preguntas:\n",
    "\n",
    "- ¿Cuántas instancias (filas) hay?  ¿y cuántos atributos (columnas)?\n",
    "- ¿Hay valores ausentes (missing)?\n",
    "- ¿Hay otros valores que deberían ser tratados como missing?\n",
    "- ¿Hay alguna variable que deberíamos descartar?\n",
    "- ¿Hay alguna variable que debería transformarse?\n",
    "- ¿Hay otros hechos relevantes que deberían ser comentados?\n",
    "\n",
    "**Nota:** para entender el problema descarga y lee detenidamente el fichero **loan_data_dictionary.xls** (carpeta datasets) . Este fichero contiene la descripción de las columnas del dataset.\n",
    "Una estrategia muy útil en la práctica es \"incrustar\" esta descripción en el notebook del ejercicio. La idea es cargar este excel como si fuera otra tabla y visualizarla dentro del notebook. De esa forma toda la información relevante estará contenida en el notebook."
   ]
  },
  {
   "cell_type": "code",
   "execution_count": null,
   "metadata": {},
   "outputs": [],
   "source": [
    "pd.options.display.max_colwidth = 200"
   ]
  },
  {
   "cell_type": "code",
   "execution_count": null,
   "metadata": {},
   "outputs": [],
   "source": [
    "# leo y muestro diccionario de datos:\n",
    "pd.read_excel(\"../datasets/loan_data_dictionary.xls\", header=1).set_index(\"Variable Name\")"
   ]
  },
  {
   "cell_type": "code",
   "execution_count": null,
   "metadata": {},
   "outputs": [],
   "source": [
    "# leo dataset:\n",
    "data = pd.read_csv(\"../datasets/loan.csv\")\n",
    "data.sample(5).T"
   ]
  },
  {
   "cell_type": "code",
   "execution_count": null,
   "metadata": {},
   "outputs": [],
   "source": [
    "data.describe().T[[\"count\", \"min\", \"max\", \"mean\", \"std\"]]"
   ]
  },
  {
   "cell_type": "code",
   "execution_count": null,
   "metadata": {},
   "outputs": [],
   "source": [
    "data.shape"
   ]
  },
  {
   "cell_type": "code",
   "execution_count": null,
   "metadata": {},
   "outputs": [],
   "source": [
    "data.dtypes"
   ]
  },
  {
   "cell_type": "code",
   "execution_count": null,
   "metadata": {},
   "outputs": [],
   "source": [
    "len(data), data[\"ID\"].nunique()"
   ]
  },
  {
   "cell_type": "code",
   "execution_count": null,
   "metadata": {},
   "outputs": [],
   "source": [
    "# Conclusión: ID es un identificador único. Lo pongo como índice:\n",
    "\n",
    "data = data.set_index(\"ID\")"
   ]
  },
  {
   "cell_type": "code",
   "execution_count": null,
   "metadata": {},
   "outputs": [],
   "source": [
    "# Histograma de las variables:\n",
    "\n",
    "data.hist(figsize=(10,40), layout=(10,2));"
   ]
  },
  {
   "cell_type": "code",
   "execution_count": null,
   "metadata": {},
   "outputs": [],
   "source": [
    "my_missings(data)"
   ]
  },
  {
   "cell_type": "code",
   "execution_count": null,
   "metadata": {},
   "outputs": [],
   "source": [
    "data_num = data.loc[:, data.dtypes != object]"
   ]
  },
  {
   "cell_type": "code",
   "execution_count": null,
   "metadata": {},
   "outputs": [],
   "source": [
    "data_num.mean()"
   ]
  },
  {
   "cell_type": "code",
   "execution_count": null,
   "metadata": {},
   "outputs": [],
   "source": [
    "# Una estrategia para quitar missing values:\n",
    "\n",
    "data2 = data.fillna(value={\"MonthlyIncome\": 1000,\n",
    "                           \"NumberOfDependents\": data[\"NumberOfDependents\"].median()})\n",
    "\n",
    "# Otra:\n",
    "\n",
    "data2 = data.fillna(data_num.mean())"
   ]
  },
  {
   "cell_type": "code",
   "execution_count": null,
   "metadata": {},
   "outputs": [],
   "source": [
    "# Tras lo que no quedará ningún missing value:\n",
    "\n",
    "my_missings(data2)"
   ]
  },
  {
   "cell_type": "code",
   "execution_count": null,
   "metadata": {},
   "outputs": [],
   "source": [
    "# Lo que en realidad haremos: eliminar filas que contienen missing values en MonthlyIncome:\n",
    "\n",
    "data3 = data.dropna(subset=[\"MonthlyIncome\"])"
   ]
  },
  {
   "cell_type": "code",
   "execution_count": null,
   "metadata": {},
   "outputs": [],
   "source": [
    "data3.shape"
   ]
  },
  {
   "cell_type": "code",
   "execution_count": null,
   "metadata": {},
   "outputs": [],
   "source": [
    "my_missings(data3)"
   ]
  },
  {
   "cell_type": "code",
   "execution_count": null,
   "metadata": {},
   "outputs": [],
   "source": [
    "# Como vemos, esto ha eliminado los missing values también en NumberOfDependents.\n",
    "# Es decir, todas las filas con missing en NumberOfDependents tenían missing\n",
    "# también en MonthlyIncome "
   ]
  },
  {
   "cell_type": "code",
   "execution_count": null,
   "metadata": {},
   "outputs": [],
   "source": [
    "data3.describe().T[[\"count\", \"min\", \"max\", \"mean\", \"std\"]]"
   ]
  },
  {
   "cell_type": "code",
   "execution_count": null,
   "metadata": {},
   "outputs": [],
   "source": [
    "aux = data3[\"age\"].value_counts()\n",
    "for i,x in zip(aux.index,aux):\n",
    "    print(i,x)"
   ]
  },
  {
   "cell_type": "code",
   "execution_count": null,
   "metadata": {},
   "outputs": [],
   "source": [
    "# Hay valores de edad < 18, por lo que los quitamos:\n",
    "\n",
    "data3 = data3[data3[\"age\"]>=18]"
   ]
  },
  {
   "cell_type": "code",
   "execution_count": null,
   "metadata": {},
   "outputs": [],
   "source": [
    "# A continuación representaremos las variables numéricas logarítmicamente:"
   ]
  },
  {
   "cell_type": "code",
   "execution_count": null,
   "metadata": {},
   "outputs": [],
   "source": [
    "cols = data3.columns.drop(\"SeriousDlqin2yrs\")\n",
    "cols"
   ]
  },
  {
   "cell_type": "code",
   "execution_count": null,
   "metadata": {},
   "outputs": [],
   "source": [
    "def faux(x):\n",
    "    return np.log10(1+x)\n",
    "\n",
    "data4 = data3.copy()\n",
    "cols = data3.columns.drop(\"SeriousDlqin2yrs\")\n",
    "for c in cols:\n",
    "    data4[c] = data4[c].apply(faux)"
   ]
  },
  {
   "cell_type": "code",
   "execution_count": null,
   "metadata": {},
   "outputs": [],
   "source": [
    "# Histogramas sin logaritmos:\n",
    "data.hist(figsize=(10,40), layout=(10,2));"
   ]
  },
  {
   "cell_type": "code",
   "execution_count": null,
   "metadata": {},
   "outputs": [],
   "source": [
    "# Histogramas con logaritmos:\n",
    "data4.hist(figsize=(10,40), layout=(10,2));"
   ]
  },
  {
   "cell_type": "code",
   "execution_count": null,
   "metadata": {},
   "outputs": [],
   "source": []
  }
 ],
 "metadata": {
  "kernelspec": {
   "display_name": "Python 3 (ipykernel)",
   "language": "python",
   "name": "python3"
  },
  "language_info": {
   "codemirror_mode": {
    "name": "ipython",
    "version": 3
   },
   "file_extension": ".py",
   "mimetype": "text/x-python",
   "name": "python",
   "nbconvert_exporter": "python",
   "pygments_lexer": "ipython3",
   "version": "3.11.4"
  }
 },
 "nbformat": 4,
 "nbformat_minor": 1
}
