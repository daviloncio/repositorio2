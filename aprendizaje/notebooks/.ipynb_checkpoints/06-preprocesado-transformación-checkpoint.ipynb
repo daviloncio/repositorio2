{
 "cells": [
  {
   "cell_type": "markdown",
   "metadata": {},
   "source": [
    "<font color=\"#CA3532\"><h1 align=\"left\">Transformación de datos</h1></font>\n",
    "\n",
    "**Manuel Sánchez-Montañés**"
   ]
  },
  {
   "cell_type": "markdown",
   "metadata": {},
   "source": [
    "## <font color=\"#CA3532\">Transformación de los datos originales</font>\n",
    "\n",
    "Después de la limpieza de datos, es posible que tengamos que realizar algunas transformaciones en los datos. Veremos en detalle cómo realizar las siguientes tareas:\n",
    "\n",
    "- Normalización y / o estandarización de datos.\n",
    "- Agregación de datos.\n",
    "- Discretización de datos y / o dicotomización.\n",
    "- Manipulación de fechas.\n",
    "\n",
    "Otras transformaciones posibles que no están cubiertas en estas notas incluyen suavizado, segmentación de datos, compresión de series temporales, etc.\n",
    "\n",
    "Primero hacemos todos los imports necesarios:"
   ]
  },
  {
   "cell_type": "code",
   "execution_count": null,
   "metadata": {},
   "outputs": [],
   "source": [
    "import pandas as pd\n",
    "import matplotlib\n",
    "import matplotlib.pyplot as plt\n",
    "import numpy as np\n",
    "\n",
    "matplotlib.style.use('ggplot')"
   ]
  },
  {
   "cell_type": "markdown",
   "metadata": {},
   "source": [
    "### <font color=\"#CA3532\">Normalización de los datos</font>\n",
    "\n",
    "La normalización de datos es muy importante, especialmente cuando se han medido diferentes atributos con diferentes escalas. Aplicamos la normalización solo a los atributos numéricos. Una forma de normalizar bastante común es la estandarización, que consiste en restar la media y escalar para tener una media igual a 0 y una desviación estándar igual a 1."
   ]
  },
  {
   "cell_type": "code",
   "execution_count": null,
   "metadata": {},
   "outputs": [],
   "source": [
    "# Leer dataset \"labor\" y mantener sólo los atributos numéricos:\n",
    "data = pd.read_csv(\"../datasets/labor.csv\", na_values = [\"?\"], sep = \",\")\n",
    "data = data.loc[:, data.dtypes != object]\n",
    "data[:10]"
   ]
  },
  {
   "cell_type": "code",
   "execution_count": null,
   "metadata": {},
   "outputs": [],
   "source": [
    "data.mean()"
   ]
  },
  {
   "cell_type": "code",
   "execution_count": null,
   "metadata": {},
   "outputs": [],
   "source": [
    "data.std()"
   ]
  },
  {
   "cell_type": "code",
   "execution_count": null,
   "metadata": {},
   "outputs": [],
   "source": [
    "# Estandarización:\n",
    "data = (data - data.mean()) / data.std() # También se conoce como el \"Z-Score\"\n",
    "data[:10]"
   ]
  },
  {
   "cell_type": "code",
   "execution_count": null,
   "metadata": {},
   "outputs": [],
   "source": [
    "# Chequear que las medias son ahora 0 (o prácticamente 0):\n",
    "data.mean()"
   ]
  },
  {
   "cell_type": "code",
   "execution_count": null,
   "metadata": {},
   "outputs": [],
   "source": [
    "# Chequear que las stds son ahora 1:\n",
    "data.std()"
   ]
  },
  {
   "cell_type": "markdown",
   "metadata": {},
   "source": [
    "### <font color=\"#CA3532\">Agregación de datos</font>\n"
   ]
  },
  {
   "cell_type": "code",
   "execution_count": null,
   "metadata": {},
   "outputs": [],
   "source": [
    "# Load adult data set:\n",
    "data = pd.read_csv(\"../datasets/adult.csv\", na_values = [\"?\"], sep = \",\")\n",
    "data[:10]"
   ]
  },
  {
   "cell_type": "code",
   "execution_count": null,
   "metadata": {},
   "outputs": [],
   "source": [
    "# Agregar por campo education, calculando medias de atributos numéricos:\n",
    "grouped = data.groupby(data[\"education\"])\n",
    "filtro  = data.columns[data.dtypes != object] # nombres de columnas cuyo tipo no es \"object\"\n",
    "education_means = grouped[filtro].agg(\"mean\")\n",
    "education_means"
   ]
  },
  {
   "cell_type": "code",
   "execution_count": null,
   "metadata": {},
   "outputs": [],
   "source": [
    "# Mostrar gráfica media hours-per-week versus education:\n",
    "var = \"hours-per-week\"\n",
    "h = education_means[var].sort_values().plot(kind = 'bar', figsize = (8, 5),\n",
    "                                            title = var, color = 'firebrick')"
   ]
  },
  {
   "cell_type": "code",
   "execution_count": null,
   "metadata": {},
   "outputs": [],
   "source": [
    "data.head(5)"
   ]
  },
  {
   "cell_type": "code",
   "execution_count": null,
   "metadata": {},
   "outputs": [],
   "source": [
    "# Agregar por education, calculando frecuencia de salary >50K:\n",
    "def rate50(x):\n",
    "    return float(np.sum(x == \">50K\")) / len(x)\n",
    "    \n",
    "grouped = data[\"class\"].groupby(data[\"education\"])\n",
    "education_salary_50K = grouped.aggregate(rate50)\n",
    "education_salary_50K"
   ]
  },
  {
   "cell_type": "code",
   "execution_count": null,
   "metadata": {},
   "outputs": [],
   "source": [
    "# Gráfica de frecuencia de salary >50K versus education:\n",
    "h = education_salary_50K.sort_values().plot(kind = 'bar', figsize = (8, 5),\n",
    "                                            title = \"rate >50K\", color = 'firebrick')"
   ]
  },
  {
   "cell_type": "markdown",
   "metadata": {},
   "source": [
    "### <font color=\"#CA3532\">Discretización de los datos</font>"
   ]
  },
  {
   "cell_type": "code",
   "execution_count": null,
   "metadata": {},
   "outputs": [],
   "source": [
    "# Cargar dataset \"adult\" y mantener los primeros 6 atributos:\n",
    "data = pd.read_csv(\"../datasets/adult.csv\", na_values = [\"?\"], sep = \",\")\n",
    "data = data.iloc[:,:6]\n",
    "data[:10]"
   ]
  },
  {
   "cell_type": "code",
   "execution_count": null,
   "metadata": {},
   "outputs": [],
   "source": [
    "# Discretizar \"age\" en 5 grupos:\n",
    "age = data[\"age\"]\n",
    "bins = [0, 20, 30, 45, 65, 100]\n",
    "age_discretized = pd.cut(age, bins)\n",
    "age_discretized[:10]"
   ]
  },
  {
   "cell_type": "code",
   "execution_count": null,
   "metadata": {},
   "outputs": [],
   "source": [
    "# Número de casos en cada rango de edad:\n",
    "age_discretized.value_counts().sort_index()"
   ]
  },
  {
   "cell_type": "code",
   "execution_count": null,
   "metadata": {},
   "outputs": [],
   "source": [
    "# Añadir edad discretizada a los datos: \n",
    "data.insert(1, \"age-discretized\", age_discretized)\n",
    "data[:10]"
   ]
  },
  {
   "cell_type": "code",
   "execution_count": null,
   "metadata": {},
   "outputs": [],
   "source": [
    "data.dtypes"
   ]
  },
  {
   "cell_type": "markdown",
   "metadata": {},
   "source": [
    "### <font color=\"#CA3532\">Dicotomización</font>\n",
    "\n",
    "Convertir una variable categórica con *k* valores diferentes en *k* atributos binarios diferentes (\"*one-hot* encoding\")."
   ]
  },
  {
   "cell_type": "code",
   "execution_count": null,
   "metadata": {},
   "outputs": [],
   "source": [
    "# cargar el dataset \"adult\" y mantener los 6 primeros atributos:\n",
    "data = pd.read_csv(\"../datasets/adult.csv\", na_values = [\"?\"], sep = \",\")\n",
    "data = data.iloc[:,:6]\n",
    "data[:10]"
   ]
  },
  {
   "cell_type": "code",
   "execution_count": null,
   "metadata": {},
   "outputs": [],
   "source": [
    "data[\"workclass\"].value_counts()"
   ]
  },
  {
   "cell_type": "code",
   "execution_count": null,
   "metadata": {},
   "outputs": [],
   "source": [
    "pd.options.display.max_columns = None"
   ]
  },
  {
   "cell_type": "code",
   "execution_count": null,
   "metadata": {},
   "outputs": [],
   "source": [
    "pd.get_dummies(data).head(5)"
   ]
  },
  {
   "cell_type": "code",
   "execution_count": null,
   "metadata": {},
   "outputs": [],
   "source": [
    "pd.get_dummies(data)"
   ]
  },
  {
   "cell_type": "code",
   "execution_count": null,
   "metadata": {},
   "outputs": [],
   "source": [
    "# Dicotomizar la columna \"marital-status\":\n",
    "dummies = pd.get_dummies(data[\"marital-status\"])\n",
    "dummies[:10]"
   ]
  },
  {
   "cell_type": "code",
   "execution_count": null,
   "metadata": {},
   "outputs": [],
   "source": [
    "#?pd.merge"
   ]
  },
  {
   "cell_type": "code",
   "execution_count": null,
   "metadata": {},
   "outputs": [],
   "source": [
    "# Combinar las dos matrices de datos:\n",
    "new_data = pd.merge(data, dummies, left_index = True, right_index = True)\n",
    "new_data[:10]"
   ]
  },
  {
   "cell_type": "markdown",
   "metadata": {},
   "source": [
    "### <font color=\"#CA3532\">Manipulación de fechas</font>"
   ]
  },
  {
   "cell_type": "code",
   "execution_count": null,
   "metadata": {},
   "outputs": [],
   "source": [
    "# Simple example with dates:\n",
    "data = pd.DataFrame({\"id\": [1, 2, 3, 4, 5],\n",
    "                     \"birth\": [\"3/27/1989\", \"12/26/1998\", \"4/19/1972\",\n",
    "                               \"7/21/1967\", \"2/22/1976\"]}) \n",
    "data"
   ]
  },
  {
   "cell_type": "code",
   "execution_count": null,
   "metadata": {},
   "outputs": [],
   "source": [
    "data.dtypes"
   ]
  },
  {
   "cell_type": "code",
   "execution_count": null,
   "metadata": {},
   "outputs": [],
   "source": [
    "# Convertir la cadena \"birth\" a un objeto \"datetime\" de Python: \n",
    "from datetime import datetime"
   ]
  },
  {
   "cell_type": "code",
   "execution_count": null,
   "metadata": {},
   "outputs": [],
   "source": [
    "# Algunas pruebas:\n",
    "ref = datetime.strptime(\"150318\",\"%d%m%y\")\n",
    "#ref = datetime.strptime(\"15032018\",\"%d%m%Y\")\n",
    "nueva = datetime.strptime(\"23-04-2018\",\"%d-%m-%Y\")\n",
    "\n",
    "ref"
   ]
  },
  {
   "cell_type": "code",
   "execution_count": null,
   "metadata": {},
   "outputs": [],
   "source": [
    "nueva"
   ]
  },
  {
   "cell_type": "code",
   "execution_count": null,
   "metadata": {},
   "outputs": [],
   "source": [
    "#(nueva-ref).days()\n",
    "a=(nueva-ref)\n",
    "a.days"
   ]
  },
  {
   "cell_type": "code",
   "execution_count": null,
   "metadata": {},
   "outputs": [],
   "source": [
    "data[\"birth\"]"
   ]
  },
  {
   "cell_type": "code",
   "execution_count": null,
   "metadata": {},
   "outputs": [],
   "source": [
    "def fun(x):\n",
    "    return datetime.strptime(x, \"%m/%d/%Y\")\n",
    "\n",
    "data[\"birth2\"] = data[\"birth\"].apply(fun)"
   ]
  },
  {
   "cell_type": "code",
   "execution_count": null,
   "metadata": {},
   "outputs": [],
   "source": [
    "data"
   ]
  },
  {
   "cell_type": "code",
   "execution_count": null,
   "metadata": {},
   "outputs": [],
   "source": [
    "# Convertir \"birth\" a edad (en años) usando la\n",
    "# fecha 4/10/2010 como referencia:\n",
    "#reference = datetime(2010, 4, 10, 0, 0, 0, 0)\n",
    "reference = datetime.today()\n",
    "\n",
    "def myfun(x):\n",
    "    return (reference - x).days/365.25\n",
    "\n",
    "data[\"age\"] = data[\"birth2\"].apply(myfun)\n",
    "data"
   ]
  },
  {
   "cell_type": "markdown",
   "metadata": {},
   "source": [
    "### <font color=\"#CA3532\">Ejercicio</font>\n",
    "\n",
    "Carga la base de datos *loan* y transforma las variables que lo necesiten."
   ]
  },
  {
   "cell_type": "code",
   "execution_count": null,
   "metadata": {},
   "outputs": [],
   "source": []
  }
 ],
 "metadata": {
  "kernelspec": {
   "display_name": "Python 3 (ipykernel)",
   "language": "python",
   "name": "python3"
  },
  "language_info": {
   "codemirror_mode": {
    "name": "ipython",
    "version": 3
   },
   "file_extension": ".py",
   "mimetype": "text/x-python",
   "name": "python",
   "nbconvert_exporter": "python",
   "pygments_lexer": "ipython3",
   "version": "3.11.4"
  }
 },
 "nbformat": 4,
 "nbformat_minor": 1
}
