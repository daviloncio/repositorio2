{
    "cells": [
     {
      "cell_type": "markdown",
      "id": "2d5b56ba",
      "metadata": {},
      "source": [
       "# Construcción de un modelo lineal multivariable\n",
       "\n",
       "Manuel Sánchez-Montañés"
      ]
     },
     {
      "cell_type": "markdown",
      "id": "a4e140d8",
      "metadata": {},
      "source": [
       "**En este notebook se usarán 5 técnicas para construir un modelo lineal multivariable:**\n",
       "\n",
       "**1. LinearRegression con librería sklearn.**\n",
       "\n",
       "**2. Con ecuaciones analíticas vistas en clase.**\n",
       "\n",
       "**3. Con librería statsmodels.**\n",
       "\n",
       "**4. LassoCV (regularización L1 con cross-validation para ajustar alpha óptimo) con librería sklearn.**\n",
       "\n",
       "**4. RidgeCV (regularización L2 con cross-validation para ajustar alpha óptimo) con librería sklearn.**"
      ]
     },
     {
      "cell_type": "code",
      "execution_count": 1,
      "id": "0b1ce5dc",
      "metadata": {},
      "outputs": [],
      "source": [
       "from sklearn.datasets import load_diabetes\n",
       "import pandas as pd"
      ]
     },
     {
      "cell_type": "code",
      "execution_count": 2,
      "id": "de512af4",
      "metadata": {},
      "outputs": [],
      "source": [
       "data = load_diabetes()"
      ]
     },
     {
      "cell_type": "code",
      "execution_count": 3,
      "id": "54084955",
      "metadata": {},
      "outputs": [
       {
        "data": {
         "text/plain": [
          "dict_keys(['data', 'target', 'frame', 'DESCR', 'feature_names', 'data_filename', 'target_filename'])"
         ]
        },
        "execution_count": 3,
        "metadata": {},
        "output_type": "execute_result"
       }
      ],
      "source": [
       "data.keys()"
      ]
     },
     {
      "cell_type": "code",
      "execution_count": 4,
      "id": "134194cd",
      "metadata": {},
      "outputs": [
       {
        "name": "stdout",
        "output_type": "stream",
        "text": [
         ".. _diabetes_dataset:\n",
         "\n",
         "Diabetes dataset\n",
         "----------------\n",
         "\n",
         "Ten baseline variables, age, sex, body mass index, average blood\n",
         "pressure, and six blood serum measurements were obtained for each of n =\n",
         "442 diabetes patients, as well as the response of interest, a\n",
         "quantitative measure of disease progression one year after baseline.\n",
         "\n",
         "**Data Set Characteristics:**\n",
         "\n",
         "  :Number of Instances: 442\n",
         "\n",
         "  :Number of Attributes: First 10 columns are numeric predictive values\n",
         "\n",
         "  :Target: Column 11 is a quantitative measure of disease progression one year after baseline\n",
         "\n",
         "  :Attribute Information:\n",
         "      - age     age in years\n",
         "      - sex\n",
         "      - bmi     body mass index\n",
         "      - bp      average blood pressure\n",
         "      - s1      tc, total serum cholesterol\n",
         "      - s2      ldl, low-density lipoproteins\n",
         "      - s3      hdl, high-density lipoproteins\n",
         "      - s4      tch, total cholesterol / HDL\n",
         "      - s5      ltg, possibly log of serum triglycerides level\n",
         "      - s6      glu, blood sugar level\n",
         "\n",
         "Note: Each of these 10 feature variables have been mean centered and scaled by the standard deviation times `n_samples` (i.e. the sum of squares of each column totals 1).\n",
         "\n",
         "Source URL:\n",
         "https://www4.stat.ncsu.edu/~boos/var.select/diabetes.html\n",
         "\n",
         "For more information see:\n",
         "Bradley Efron, Trevor Hastie, Iain Johnstone and Robert Tibshirani (2004) \"Least Angle Regression,\" Annals of Statistics (with discussion), 407-499.\n",
         "(https://web.stanford.edu/~hastie/Papers/LARS/LeastAngle_2002.pdf)\n"
        ]
       }
      ],
      "source": [
       "print(data[\"DESCR\"])"
      ]
     },
     {
      "cell_type": "code",
      "execution_count": 5,
      "id": "a3655f9b",
      "metadata": {},
      "outputs": [
       {
        "data": {
         "text/plain": [
          "(442, 10)"
         ]
        },
        "execution_count": 5,
        "metadata": {},
        "output_type": "execute_result"
       }
      ],
      "source": [
       "data[\"data\"].shape # datos de entrada al modelo"
      ]
     },
     {
      "cell_type": "code",
      "execution_count": 6,
      "id": "139ce026",
      "metadata": {},
      "outputs": [
       {
        "data": {
         "text/plain": [
          "(442,)"
         ]
        },
        "execution_count": 6,
        "metadata": {},
        "output_type": "execute_result"
       }
      ],
      "source": [
       "data[\"target\"].shape"
      ]
     },
     {
      "cell_type": "code",
      "execution_count": 7,
      "id": "46009a42",
      "metadata": {},
      "outputs": [
       {
        "data": {
         "text/plain": [
          "['age', 'sex', 'bmi', 'bp', 's1', 's2', 's3', 's4', 's5', 's6']"
         ]
        },
        "execution_count": 7,
        "metadata": {},
        "output_type": "execute_result"
       }
      ],
      "source": [
       "data[\"feature_names\"]"
      ]
     },
     {
      "cell_type": "code",
      "execution_count": 8,
      "id": "52807aac",
      "metadata": {},
      "outputs": [
       {
        "data": {
         "text/html": [
          "<div>\n",
          "<style scoped>\n",
          "    .dataframe tbody tr th:only-of-type {\n",
          "        vertical-align: middle;\n",
          "    }\n",
          "\n",
          "    .dataframe tbody tr th {\n",
          "        vertical-align: top;\n",
          "    }\n",
          "\n",
          "    .dataframe thead th {\n",
          "        text-align: right;\n",
          "    }\n",
          "</style>\n",
          "<table border=\"1\" class=\"dataframe\">\n",
          "  <thead>\n",
          "    <tr style=\"text-align: right;\">\n",
          "      <th></th>\n",
          "      <th>age</th>\n",
          "      <th>sex</th>\n",
          "      <th>bmi</th>\n",
          "      <th>bp</th>\n",
          "      <th>s1</th>\n",
          "      <th>s2</th>\n",
          "      <th>s3</th>\n",
          "      <th>s4</th>\n",
          "      <th>s5</th>\n",
          "      <th>s6</th>\n",
          "      <th>target</th>\n",
          "    </tr>\n",
          "  </thead>\n",
          "  <tbody>\n",
          "    <tr>\n",
          "      <th>0</th>\n",
          "      <td>0.038076</td>\n",
          "      <td>0.050680</td>\n",
          "      <td>0.061696</td>\n",
          "      <td>0.021872</td>\n",
          "      <td>-0.044223</td>\n",
          "      <td>-0.034821</td>\n",
          "      <td>-0.043401</td>\n",
          "      <td>-0.002592</td>\n",
          "      <td>0.019908</td>\n",
          "      <td>-0.017646</td>\n",
          "      <td>151.0</td>\n",
          "    </tr>\n",
          "    <tr>\n",
          "      <th>1</th>\n",
          "      <td>-0.001882</td>\n",
          "      <td>-0.044642</td>\n",
          "      <td>-0.051474</td>\n",
          "      <td>-0.026328</td>\n",
          "      <td>-0.008449</td>\n",
          "      <td>-0.019163</td>\n",
          "      <td>0.074412</td>\n",
          "      <td>-0.039493</td>\n",
          "      <td>-0.068330</td>\n",
          "      <td>-0.092204</td>\n",
          "      <td>75.0</td>\n",
          "    </tr>\n",
          "    <tr>\n",
          "      <th>2</th>\n",
          "      <td>0.085299</td>\n",
          "      <td>0.050680</td>\n",
          "      <td>0.044451</td>\n",
          "      <td>-0.005671</td>\n",
          "      <td>-0.045599</td>\n",
          "      <td>-0.034194</td>\n",
          "      <td>-0.032356</td>\n",
          "      <td>-0.002592</td>\n",
          "      <td>0.002864</td>\n",
          "      <td>-0.025930</td>\n",
          "      <td>141.0</td>\n",
          "    </tr>\n",
          "    <tr>\n",
          "      <th>3</th>\n",
          "      <td>-0.089063</td>\n",
          "      <td>-0.044642</td>\n",
          "      <td>-0.011595</td>\n",
          "      <td>-0.036656</td>\n",
          "      <td>0.012191</td>\n",
          "      <td>0.024991</td>\n",
          "      <td>-0.036038</td>\n",
          "      <td>0.034309</td>\n",
          "      <td>0.022692</td>\n",
          "      <td>-0.009362</td>\n",
          "      <td>206.0</td>\n",
          "    </tr>\n",
          "    <tr>\n",
          "      <th>4</th>\n",
          "      <td>0.005383</td>\n",
          "      <td>-0.044642</td>\n",
          "      <td>-0.036385</td>\n",
          "      <td>0.021872</td>\n",
          "      <td>0.003935</td>\n",
          "      <td>0.015596</td>\n",
          "      <td>0.008142</td>\n",
          "      <td>-0.002592</td>\n",
          "      <td>-0.031991</td>\n",
          "      <td>-0.046641</td>\n",
          "      <td>135.0</td>\n",
          "    </tr>\n",
          "    <tr>\n",
          "      <th>...</th>\n",
          "      <td>...</td>\n",
          "      <td>...</td>\n",
          "      <td>...</td>\n",
          "      <td>...</td>\n",
          "      <td>...</td>\n",
          "      <td>...</td>\n",
          "      <td>...</td>\n",
          "      <td>...</td>\n",
          "      <td>...</td>\n",
          "      <td>...</td>\n",
          "      <td>...</td>\n",
          "    </tr>\n",
          "    <tr>\n",
          "      <th>437</th>\n",
          "      <td>0.041708</td>\n",
          "      <td>0.050680</td>\n",
          "      <td>0.019662</td>\n",
          "      <td>0.059744</td>\n",
          "      <td>-0.005697</td>\n",
          "      <td>-0.002566</td>\n",
          "      <td>-0.028674</td>\n",
          "      <td>-0.002592</td>\n",
          "      <td>0.031193</td>\n",
          "      <td>0.007207</td>\n",
          "      <td>178.0</td>\n",
          "    </tr>\n",
          "    <tr>\n",
          "      <th>438</th>\n",
          "      <td>-0.005515</td>\n",
          "      <td>0.050680</td>\n",
          "      <td>-0.015906</td>\n",
          "      <td>-0.067642</td>\n",
          "      <td>0.049341</td>\n",
          "      <td>0.079165</td>\n",
          "      <td>-0.028674</td>\n",
          "      <td>0.034309</td>\n",
          "      <td>-0.018118</td>\n",
          "      <td>0.044485</td>\n",
          "      <td>104.0</td>\n",
          "    </tr>\n",
          "    <tr>\n",
          "      <th>439</th>\n",
          "      <td>0.041708</td>\n",
          "      <td>0.050680</td>\n",
          "      <td>-0.015906</td>\n",
          "      <td>0.017282</td>\n",
          "      <td>-0.037344</td>\n",
          "      <td>-0.013840</td>\n",
          "      <td>-0.024993</td>\n",
          "      <td>-0.011080</td>\n",
          "      <td>-0.046879</td>\n",
          "      <td>0.015491</td>\n",
          "      <td>132.0</td>\n",
          "    </tr>\n",
          "    <tr>\n",
          "      <th>440</th>\n",
          "      <td>-0.045472</td>\n",
          "      <td>-0.044642</td>\n",
          "      <td>0.039062</td>\n",
          "      <td>0.001215</td>\n",
          "      <td>0.016318</td>\n",
          "      <td>0.015283</td>\n",
          "      <td>-0.028674</td>\n",
          "      <td>0.026560</td>\n",
          "      <td>0.044528</td>\n",
          "      <td>-0.025930</td>\n",
          "      <td>220.0</td>\n",
          "    </tr>\n",
          "    <tr>\n",
          "      <th>441</th>\n",
          "      <td>-0.045472</td>\n",
          "      <td>-0.044642</td>\n",
          "      <td>-0.073030</td>\n",
          "      <td>-0.081414</td>\n",
          "      <td>0.083740</td>\n",
          "      <td>0.027809</td>\n",
          "      <td>0.173816</td>\n",
          "      <td>-0.039493</td>\n",
          "      <td>-0.004220</td>\n",
          "      <td>0.003064</td>\n",
          "      <td>57.0</td>\n",
          "    </tr>\n",
          "  </tbody>\n",
          "</table>\n",
          "<p>442 rows × 11 columns</p>\n",
          "</div>"
         ],
         "text/plain": [
          "          age       sex       bmi        bp        s1        s2        s3  \\\n",
          "0    0.038076  0.050680  0.061696  0.021872 -0.044223 -0.034821 -0.043401   \n",
          "1   -0.001882 -0.044642 -0.051474 -0.026328 -0.008449 -0.019163  0.074412   \n",
          "2    0.085299  0.050680  0.044451 -0.005671 -0.045599 -0.034194 -0.032356   \n",
          "3   -0.089063 -0.044642 -0.011595 -0.036656  0.012191  0.024991 -0.036038   \n",
          "4    0.005383 -0.044642 -0.036385  0.021872  0.003935  0.015596  0.008142   \n",
          "..        ...       ...       ...       ...       ...       ...       ...   \n",
          "437  0.041708  0.050680  0.019662  0.059744 -0.005697 -0.002566 -0.028674   \n",
          "438 -0.005515  0.050680 -0.015906 -0.067642  0.049341  0.079165 -0.028674   \n",
          "439  0.041708  0.050680 -0.015906  0.017282 -0.037344 -0.013840 -0.024993   \n",
          "440 -0.045472 -0.044642  0.039062  0.001215  0.016318  0.015283 -0.028674   \n",
          "441 -0.045472 -0.044642 -0.073030 -0.081414  0.083740  0.027809  0.173816   \n",
          "\n",
          "           s4        s5        s6  target  \n",
          "0   -0.002592  0.019908 -0.017646   151.0  \n",
          "1   -0.039493 -0.068330 -0.092204    75.0  \n",
          "2   -0.002592  0.002864 -0.025930   141.0  \n",
          "3    0.034309  0.022692 -0.009362   206.0  \n",
          "4   -0.002592 -0.031991 -0.046641   135.0  \n",
          "..        ...       ...       ...     ...  \n",
          "437 -0.002592  0.031193  0.007207   178.0  \n",
          "438  0.034309 -0.018118  0.044485   104.0  \n",
          "439 -0.011080 -0.046879  0.015491   132.0  \n",
          "440  0.026560  0.044528 -0.025930   220.0  \n",
          "441 -0.039493 -0.004220  0.003064    57.0  \n",
          "\n",
          "[442 rows x 11 columns]"
         ]
        },
        "execution_count": 8,
        "metadata": {},
        "output_type": "execute_result"
       }
      ],
      "source": [
       "df = pd.DataFrame(data[\"data\"], columns=data[\"feature_names\"])\n",
       "df[\"target\"] = data[\"target\"]\n",
       "df"
      ]
     },
     {
      "cell_type": "code",
      "execution_count": 9,
      "id": "119ba2b2",
      "metadata": {},
      "outputs": [
       {
        "data": {
         "text/html": [
          "<div>\n",
          "<style scoped>\n",
          "    .dataframe tbody tr th:only-of-type {\n",
          "        vertical-align: middle;\n",
          "    }\n",
          "\n",
          "    .dataframe tbody tr th {\n",
          "        vertical-align: top;\n",
          "    }\n",
          "\n",
          "    .dataframe thead th {\n",
          "        text-align: right;\n",
          "    }\n",
          "</style>\n",
          "<table border=\"1\" class=\"dataframe\">\n",
          "  <thead>\n",
          "    <tr style=\"text-align: right;\">\n",
          "      <th></th>\n",
          "      <th>count</th>\n",
          "      <th>mean</th>\n",
          "      <th>std</th>\n",
          "      <th>min</th>\n",
          "      <th>25%</th>\n",
          "      <th>50%</th>\n",
          "      <th>75%</th>\n",
          "      <th>max</th>\n",
          "    </tr>\n",
          "  </thead>\n",
          "  <tbody>\n",
          "    <tr>\n",
          "      <th>age</th>\n",
          "      <td>442.0</td>\n",
          "      <td>-3.634285e-16</td>\n",
          "      <td>0.047619</td>\n",
          "      <td>-0.107226</td>\n",
          "      <td>-0.037299</td>\n",
          "      <td>0.005383</td>\n",
          "      <td>0.038076</td>\n",
          "      <td>0.110727</td>\n",
          "    </tr>\n",
          "    <tr>\n",
          "      <th>sex</th>\n",
          "      <td>442.0</td>\n",
          "      <td>1.308343e-16</td>\n",
          "      <td>0.047619</td>\n",
          "      <td>-0.044642</td>\n",
          "      <td>-0.044642</td>\n",
          "      <td>-0.044642</td>\n",
          "      <td>0.050680</td>\n",
          "      <td>0.050680</td>\n",
          "    </tr>\n",
          "    <tr>\n",
          "      <th>bmi</th>\n",
          "      <td>442.0</td>\n",
          "      <td>-8.045349e-16</td>\n",
          "      <td>0.047619</td>\n",
          "      <td>-0.090275</td>\n",
          "      <td>-0.034229</td>\n",
          "      <td>-0.007284</td>\n",
          "      <td>0.031248</td>\n",
          "      <td>0.170555</td>\n",
          "    </tr>\n",
          "    <tr>\n",
          "      <th>bp</th>\n",
          "      <td>442.0</td>\n",
          "      <td>1.281655e-16</td>\n",
          "      <td>0.047619</td>\n",
          "      <td>-0.112400</td>\n",
          "      <td>-0.036656</td>\n",
          "      <td>-0.005671</td>\n",
          "      <td>0.035644</td>\n",
          "      <td>0.132044</td>\n",
          "    </tr>\n",
          "    <tr>\n",
          "      <th>s1</th>\n",
          "      <td>442.0</td>\n",
          "      <td>-8.835316e-17</td>\n",
          "      <td>0.047619</td>\n",
          "      <td>-0.126781</td>\n",
          "      <td>-0.034248</td>\n",
          "      <td>-0.004321</td>\n",
          "      <td>0.028358</td>\n",
          "      <td>0.153914</td>\n",
          "    </tr>\n",
          "    <tr>\n",
          "      <th>s2</th>\n",
          "      <td>442.0</td>\n",
          "      <td>1.327024e-16</td>\n",
          "      <td>0.047619</td>\n",
          "      <td>-0.115613</td>\n",
          "      <td>-0.030358</td>\n",
          "      <td>-0.003819</td>\n",
          "      <td>0.029844</td>\n",
          "      <td>0.198788</td>\n",
          "    </tr>\n",
          "    <tr>\n",
          "      <th>s3</th>\n",
          "      <td>442.0</td>\n",
          "      <td>-4.574646e-16</td>\n",
          "      <td>0.047619</td>\n",
          "      <td>-0.102307</td>\n",
          "      <td>-0.035117</td>\n",
          "      <td>-0.006584</td>\n",
          "      <td>0.029312</td>\n",
          "      <td>0.181179</td>\n",
          "    </tr>\n",
          "    <tr>\n",
          "      <th>s4</th>\n",
          "      <td>442.0</td>\n",
          "      <td>3.777301e-16</td>\n",
          "      <td>0.047619</td>\n",
          "      <td>-0.076395</td>\n",
          "      <td>-0.039493</td>\n",
          "      <td>-0.002592</td>\n",
          "      <td>0.034309</td>\n",
          "      <td>0.185234</td>\n",
          "    </tr>\n",
          "    <tr>\n",
          "      <th>s5</th>\n",
          "      <td>442.0</td>\n",
          "      <td>-3.830854e-16</td>\n",
          "      <td>0.047619</td>\n",
          "      <td>-0.126097</td>\n",
          "      <td>-0.033249</td>\n",
          "      <td>-0.001948</td>\n",
          "      <td>0.032433</td>\n",
          "      <td>0.133599</td>\n",
          "    </tr>\n",
          "    <tr>\n",
          "      <th>s6</th>\n",
          "      <td>442.0</td>\n",
          "      <td>-3.412882e-16</td>\n",
          "      <td>0.047619</td>\n",
          "      <td>-0.137767</td>\n",
          "      <td>-0.033179</td>\n",
          "      <td>-0.001078</td>\n",
          "      <td>0.027917</td>\n",
          "      <td>0.135612</td>\n",
          "    </tr>\n",
          "    <tr>\n",
          "      <th>target</th>\n",
          "      <td>442.0</td>\n",
          "      <td>1.521335e+02</td>\n",
          "      <td>77.093005</td>\n",
          "      <td>25.000000</td>\n",
          "      <td>87.000000</td>\n",
          "      <td>140.500000</td>\n",
          "      <td>211.500000</td>\n",
          "      <td>346.000000</td>\n",
          "    </tr>\n",
          "  </tbody>\n",
          "</table>\n",
          "</div>"
         ],
         "text/plain": [
          "        count          mean        std        min        25%         50%  \\\n",
          "age     442.0 -3.634285e-16   0.047619  -0.107226  -0.037299    0.005383   \n",
          "sex     442.0  1.308343e-16   0.047619  -0.044642  -0.044642   -0.044642   \n",
          "bmi     442.0 -8.045349e-16   0.047619  -0.090275  -0.034229   -0.007284   \n",
          "bp      442.0  1.281655e-16   0.047619  -0.112400  -0.036656   -0.005671   \n",
          "s1      442.0 -8.835316e-17   0.047619  -0.126781  -0.034248   -0.004321   \n",
          "s2      442.0  1.327024e-16   0.047619  -0.115613  -0.030358   -0.003819   \n",
          "s3      442.0 -4.574646e-16   0.047619  -0.102307  -0.035117   -0.006584   \n",
          "s4      442.0  3.777301e-16   0.047619  -0.076395  -0.039493   -0.002592   \n",
          "s5      442.0 -3.830854e-16   0.047619  -0.126097  -0.033249   -0.001948   \n",
          "s6      442.0 -3.412882e-16   0.047619  -0.137767  -0.033179   -0.001078   \n",
          "target  442.0  1.521335e+02  77.093005  25.000000  87.000000  140.500000   \n",
          "\n",
          "               75%         max  \n",
          "age       0.038076    0.110727  \n",
          "sex       0.050680    0.050680  \n",
          "bmi       0.031248    0.170555  \n",
          "bp        0.035644    0.132044  \n",
          "s1        0.028358    0.153914  \n",
          "s2        0.029844    0.198788  \n",
          "s3        0.029312    0.181179  \n",
          "s4        0.034309    0.185234  \n",
          "s5        0.032433    0.133599  \n",
          "s6        0.027917    0.135612  \n",
          "target  211.500000  346.000000  "
         ]
        },
        "execution_count": 9,
        "metadata": {},
        "output_type": "execute_result"
       }
      ],
      "source": [
       "df.describe().T"
      ]
     },
     {
      "cell_type": "code",
      "execution_count": 10,
      "id": "9c28768a",
      "metadata": {},
      "outputs": [
       {
        "data": {
         "image/png": "[encoded data removed]",
         "text/plain": [
          "<Figure size 720x720 with 12 Axes>"
         ]
        },
        "metadata": {
         "needs_background": "light"
        },
        "output_type": "display_data"
       }
      ],
      "source": [
       "df.hist(figsize=(10,10));"
      ]
     },
     {
      "cell_type": "code",
      "execution_count": 11,
      "id": "4e49a03d",
      "metadata": {},
      "outputs": [
       {
        "data": {
         "image/png": "[encoded data removed]",
         "text/plain": [
          "<Figure size 360x360 with 4 Axes>"
         ]
        },
        "metadata": {
         "needs_background": "light"
        },
        "output_type": "display_data"
       }
      ],
      "source": [
       "import seaborn as sns\n",
       "\n",
       "sns.clustermap(df.corr(), cmap=\"bwr\", vmin=-1, vmax=1, figsize=(5,5));"
      ]
     },
     {
      "cell_type": "code",
      "execution_count": 12,
      "id": "bf7aa77d",
      "metadata": {},
      "outputs": [],
      "source": [
       "from sklearn.model_selection import train_test_split"
      ]
     },
     {
      "cell_type": "code",
      "execution_count": 13,
      "id": "f1607a46",
      "metadata": {},
      "outputs": [],
      "source": [
       "df_train, df_test = train_test_split(df, test_size=0.3, random_state=1)"
      ]
     },
     {
      "cell_type": "code",
      "execution_count": 14,
      "id": "631bb111",
      "metadata": {},
      "outputs": [],
      "source": [
       "X_train = df_train.drop(\"target\", axis=1)\n",
       "y_train = df_train[\"target\"]\n",
       "X_test  = df_test.drop(\"target\", axis=1)\n",
       "y_test  = df_test[\"target\"]"
      ]
     },
     {
      "cell_type": "markdown",
      "id": "a680ec18",
      "metadata": {},
      "source": [
       "# 1. Construcción del modelo lineal con sklearn"
      ]
     },
     {
      "cell_type": "code",
      "execution_count": 15,
      "id": "61721967",
      "metadata": {},
      "outputs": [],
      "source": [
       "from sklearn.linear_model import LinearRegression"
      ]
     },
     {
      "cell_type": "code",
      "execution_count": 16,
      "id": "c7e583dc",
      "metadata": {},
      "outputs": [
       {
        "data": {
         "text/plain": [
          "LinearRegression()"
         ]
        },
        "execution_count": 16,
        "metadata": {},
        "output_type": "execute_result"
       }
      ],
      "source": [
       "model = LinearRegression()\n",
       "model.fit(X_train, y_train)"
      ]
     },
     {
      "cell_type": "code",
      "execution_count": 17,
      "id": "e99bca77",
      "metadata": {},
      "outputs": [
       {
        "data": {
         "text/plain": [
          "0.5417930755782383"
         ]
        },
        "execution_count": 17,
        "metadata": {},
        "output_type": "execute_result"
       }
      ],
      "source": [
       "model.score(X_train, y_train) # Coeficiente de determinación R2"
      ]
     },
     {
      "cell_type": "code",
      "execution_count": 18,
      "id": "80bab097",
      "metadata": {},
      "outputs": [
       {
        "data": {
         "text/plain": [
          "0.4384569849129575"
         ]
        },
        "execution_count": 18,
        "metadata": {},
        "output_type": "execute_result"
       }
      ],
      "source": [
       "model.score(X_test, y_test) # Coeficiente de determinación R2"
      ]
     },
     {
      "cell_type": "code",
      "execution_count": 19,
      "id": "81710afe",
      "metadata": {},
      "outputs": [
       {
        "name": "stdout",
        "output_type": "stream",
        "text": [
         "0.5417930755782383\n",
         "0.4384569849129575\n"
        ]
       }
      ],
      "source": [
       "# Otra forma equivalente de calcular los coeficientes R2:\n",
       "from sklearn.metrics import r2_score\n",
       "\n",
       "print(r2_score(y_train, model.predict(X_train))) # en training\n",
       "print(r2_score(y_test, model.predict(X_test))) # en test"
      ]
     },
     {
      "cell_type": "code",
      "execution_count": 20,
      "id": "86860905",
      "metadata": {},
      "outputs": [
       {
        "data": {
         "text/plain": [
          "332    270.0\n",
          "307    172.0\n",
          "328     78.0\n",
          "275     94.0\n",
          "414    131.0\n",
          "127    109.0\n",
          "82      52.0\n",
          "403    275.0\n",
          "173    101.0\n",
          "27      85.0\n",
          "Name: target, dtype: float64"
         ]
        },
        "execution_count": 20,
        "metadata": {},
        "output_type": "execute_result"
       }
      ],
      "source": [
       "y_train[:10]"
      ]
     },
     {
      "cell_type": "code",
      "execution_count": 21,
      "id": "20c6956c",
      "metadata": {},
      "outputs": [
       {
        "data": {
         "text/plain": [
          "array([294.50710888, 142.45739494, 189.95498688, 153.8381543 ,\n",
          "       163.15140065, 110.34508956,  67.3089336 , 252.91627415,\n",
          "        91.68321513, 179.76380494])"
         ]
        },
        "execution_count": 21,
        "metadata": {},
        "output_type": "execute_result"
       }
      ],
      "source": [
       "model.predict(X_train)[:10]"
      ]
     },
     {
      "cell_type": "code",
      "execution_count": 22,
      "id": "1d7f0c3b",
      "metadata": {},
      "outputs": [],
      "source": [
       "import matplotlib.pyplot as plt"
      ]
     },
     {
      "cell_type": "code",
      "execution_count": 23,
      "id": "9300334e",
      "metadata": {},
      "outputs": [
       {
        "data": {
         "image/png": "[encoded data removed]",
         "text/plain": [
          "<Figure size 1080x504 with 2 Axes>"
         ]
        },
        "metadata": {
         "needs_background": "light"
        },
        "output_type": "display_data"
       }
      ],
      "source": [
       "plt.figure(figsize=(15,7))\n",
       "plt.subplot(1,2,1)\n",
       "plt.plot(y_train, model.predict(X_train), \"o\", alpha=0.5)\n",
       "aux = [0, 400]\n",
       "plt.plot(aux, aux, \"r\", label=\"modelo perfecto\")\n",
       "plt.xlim(aux)\n",
       "plt.ylim(aux)\n",
       "plt.xlabel(\"y real (training)\")\n",
       "plt.ylabel(\"y predicho (training)\")\n",
       "plt.legend()\n",
       "\n",
       "plt.subplot(1,2,2)\n",
       "plt.plot(y_test, model.predict(X_test), \"o\", alpha=0.5)\n",
       "plt.plot([0,400], [0, 400], \"r\", label=\"modelo perfecto\")\n",
       "plt.xlim([0, 400])\n",
       "plt.ylim([0, 400])\n",
       "plt.xlabel(\"y real (test)\")\n",
       "plt.ylabel(\"y predicho (test)\")\n",
       "plt.legend();"
      ]
     },
     {
      "cell_type": "markdown",
      "id": "678bc3f0",
      "metadata": {},
      "source": [
       "**Coeficientes w:**"
      ]
     },
     {
      "cell_type": "code",
      "execution_count": 24,
      "id": "e422c76e",
      "metadata": {},
      "outputs": [
       {
        "data": {
         "text/plain": [
          "array([ -13.30476433, -238.04429689,  582.20780727,  345.72234704,\n",
          "       -647.61205846,  340.89449144,   90.19356558,  217.6191519 ,\n",
          "        664.57956633,   46.12251913])"
         ]
        },
        "execution_count": 24,
        "metadata": {},
        "output_type": "execute_result"
       }
      ],
      "source": [
       "model.coef_"
      ]
     },
     {
      "cell_type": "markdown",
      "id": "a972786e",
      "metadata": {},
      "source": [
       "**Término constante:**"
      ]
     },
     {
      "cell_type": "code",
      "execution_count": 25,
      "id": "4774c36c",
      "metadata": {},
      "outputs": [
       {
        "data": {
         "text/plain": [
          "151.43044828536836"
         ]
        },
        "execution_count": 25,
        "metadata": {},
        "output_type": "execute_result"
       }
      ],
      "source": [
       "model.intercept_"
      ]
     },
     {
      "cell_type": "markdown",
      "id": "c07be9f9",
      "metadata": {},
      "source": [
       "# 2. Construcción del modelo lineal usando ecuaciones analíticas vistas en clase"
      ]
     },
     {
      "cell_type": "code",
      "execution_count": 26,
      "id": "49e6ccc7",
      "metadata": {},
      "outputs": [],
      "source": [
       "import numpy as np"
      ]
     },
     {
      "cell_type": "markdown",
      "id": "14aeb679",
      "metadata": {},
      "source": [
       "**Cálculo de la matriz de covarianza C y de su inversa:**"
      ]
     },
     {
      "cell_type": "code",
      "execution_count": 27,
      "id": "d5b31bcb",
      "metadata": {},
      "outputs": [
       {
        "name": "stdout",
        "output_type": "stream",
        "text": [
         "Dimensiones de C: (10, 10)\n",
         "Rango de C: 10\n",
         "Determinante de C: 1.5222423314660881e-30\n",
         "\n",
         "Inversa de C:\n"
        ]
       },
       {
        "data": {
         "text/plain": [
          "array([[ 5.34872230e+02, -4.71379343e+01,  3.83644589e+00,\n",
          "        -1.10923759e+02,  5.27863159e+00, -8.79896859e+01,\n",
          "        -1.33126339e+01,  5.58100449e+01, -1.06477606e+02,\n",
          "        -4.88529950e+01],\n",
          "       [-4.71379343e+01,  5.69542143e+02,  1.06967964e+02,\n",
          "        -1.49079727e+02,  2.38029838e+02, -1.59692239e+02,\n",
          "         4.95667985e+01, -1.55267130e+02,  9.43110444e+00,\n",
          "        -4.34848938e+01],\n",
          "       [ 3.83644589e+00,  1.06967964e+02,  6.84011086e+02,\n",
          "        -1.82159582e+02,  3.60833530e+02, -3.61675066e+02,\n",
          "         9.21456582e+01,  6.68806339e+01, -2.99108562e+02,\n",
          "        -9.95143967e+01],\n",
          "       [-1.10923759e+02, -1.49079727e+02, -1.82159582e+02,\n",
          "         7.16860633e+02, -2.47513314e+02,  1.62165958e+02,\n",
          "         1.04884989e+02,  1.28377663e+02, -4.54548026e+01,\n",
          "        -1.15585041e+02],\n",
          "       [ 5.27863159e+00,  2.38029838e+02,  3.60833530e+02,\n",
          "        -2.47513314e+02,  2.61033217e+04, -2.02269502e+04,\n",
          "        -1.16953287e+04, -3.65414472e+03, -9.58669028e+03,\n",
          "         1.91440331e+02],\n",
          "       [-8.79896859e+01, -1.59692239e+02, -3.61675066e+02,\n",
          "         1.62165958e+02, -2.02269502e+04,  1.69532091e+04,\n",
          "         8.12274893e+03,  1.19423324e+03,  7.75797030e+03,\n",
          "        -1.76100508e+02],\n",
          "       [-1.33126339e+01,  4.95667985e+01,  9.21456582e+01,\n",
          "         1.04884989e+02, -1.16953287e+04,  8.12274893e+03,\n",
          "         7.01049428e+03,  3.57196591e+03,  3.96163802e+03,\n",
          "        -1.06079601e+02],\n",
          "       [ 5.58100449e+01, -1.55267130e+02,  6.68806339e+01,\n",
          "         1.28377663e+02, -3.65414472e+03,  1.19423324e+03,\n",
          "         3.57196591e+03,  3.94989703e+03,  4.20319997e+02,\n",
          "        -8.65016314e+01],\n",
          "       [-1.06477606e+02,  9.43110444e+00, -2.99108562e+02,\n",
          "        -4.54548026e+01, -9.58669028e+03,  7.75797030e+03,\n",
          "         3.96163802e+03,  4.20319997e+02,  4.48151944e+03,\n",
          "        -2.00637366e+02],\n",
          "       [-4.88529950e+01, -4.34848938e+01, -9.95143967e+01,\n",
          "        -1.15585041e+02,  1.91440331e+02, -1.76100508e+02,\n",
          "        -1.06079601e+02, -8.65016314e+01, -2.00637366e+02,\n",
          "         6.18866825e+02]])"
         ]
        },
        "execution_count": 27,
        "metadata": {},
        "output_type": "execute_result"
       }
      ],
      "source": [
       "C = X_train.cov()\n",
       "print(\"Dimensiones de C:\", C.shape)\n",
       "print(\"Rango de C:\", np.linalg.matrix_rank(C))\n",
       "print(\"Determinante de C:\", np.linalg.det(C))\n",
       "print()\n",
       "print(\"Inversa de C:\")\n",
       "np.linalg.inv(C)"
      ]
     },
     {
      "cell_type": "markdown",
      "id": "99277677",
      "metadata": {},
      "source": [
       "**Covarianza entre X e y:**"
      ]
     },
     {
      "cell_type": "code",
      "execution_count": 28,
      "id": "55462a97",
      "metadata": {},
      "outputs": [
       {
        "data": {
         "text/plain": [
          "age    0.773057\n",
          "sex    0.139769\n",
          "bmi    2.412959\n",
          "bp     1.681213\n",
          "s1     0.753420\n",
          "s2     0.570397\n",
          "s3    -1.535366\n",
          "s4     1.661443\n",
          "s5     2.236003\n",
          "s6     1.470588\n",
          "Name: y, dtype: float64"
         ]
        },
        "execution_count": 28,
        "metadata": {},
        "output_type": "execute_result"
       }
      ],
      "source": [
       "Xy = X_train.copy()\n",
       "Xy[\"y\"] = y_train\n",
       "Xy.cov()[\"y\"].drop(\"y\")"
      ]
     },
     {
      "cell_type": "markdown",
      "id": "73aca178",
      "metadata": {},
      "source": [
       "**Cálculo de w óptimo según ecuación desarrollada en clase:**"
      ]
     },
     {
      "cell_type": "code",
      "execution_count": 29,
      "id": "d0c25ada",
      "metadata": {},
      "outputs": [
       {
        "data": {
         "text/plain": [
          "array([ -13.30476433, -238.04429689,  582.20780727,  345.72234704,\n",
          "       -647.61205846,  340.89449144,   90.19356558,  217.6191519 ,\n",
          "        664.57956633,   46.12251913])"
         ]
        },
        "execution_count": 29,
        "metadata": {},
        "output_type": "execute_result"
       }
      ],
      "source": [
       "w = np.dot(np.linalg.inv(C), Xy.cov()[\"y\"].drop(\"y\"))\n",
       "w"
      ]
     },
     {
      "cell_type": "markdown",
      "id": "fae2d664",
      "metadata": {},
      "source": [
       "**Comparación con los coeficientes ajustados en sklearn:**"
      ]
     },
     {
      "cell_type": "code",
      "execution_count": 30,
      "id": "e3ab618f",
      "metadata": {},
      "outputs": [
       {
        "data": {
         "text/plain": [
          "array([ -13.30476433, -238.04429689,  582.20780727,  345.72234704,\n",
          "       -647.61205846,  340.89449144,   90.19356558,  217.6191519 ,\n",
          "        664.57956633,   46.12251913])"
         ]
        },
        "execution_count": 30,
        "metadata": {},
        "output_type": "execute_result"
       }
      ],
      "source": [
       "model.coef_"
      ]
     },
     {
      "cell_type": "code",
      "execution_count": 31,
      "id": "0816ca69",
      "metadata": {},
      "outputs": [
       {
        "data": {
         "text/plain": [
          "154.06472491909386"
         ]
        },
        "execution_count": 31,
        "metadata": {},
        "output_type": "execute_result"
       }
      ],
      "source": [
       "y_train.mean()"
      ]
     },
     {
      "cell_type": "code",
      "execution_count": 32,
      "id": "25dfcab8",
      "metadata": {},
      "outputs": [
       {
        "data": {
         "text/plain": [
          "age    0.000681\n",
          "sex    0.000089\n",
          "bmi    0.002574\n",
          "bp     0.003165\n",
          "s1     0.001450\n",
          "s2     0.000849\n",
          "s3     0.000463\n",
          "s4     0.000080\n",
          "s5     0.000833\n",
          "s6     0.002354\n",
          "dtype: float64"
         ]
        },
        "execution_count": 32,
        "metadata": {},
        "output_type": "execute_result"
       }
      ],
      "source": [
       "X_train.mean()"
      ]
     },
     {
      "cell_type": "markdown",
      "id": "704ac8f4",
      "metadata": {},
      "source": [
       "**Cálculo del término constante según ecuación desarrollada en clase:**"
      ]
     },
     {
      "cell_type": "code",
      "execution_count": 33,
      "id": "670b9b5b",
      "metadata": {},
      "outputs": [
       {
        "data": {
         "text/plain": [
          "151.43044828536836"
         ]
        },
        "execution_count": 33,
        "metadata": {},
        "output_type": "execute_result"
       }
      ],
      "source": [
       "y_train.mean() - np.dot(w, X_train.mean())"
      ]
     },
     {
      "cell_type": "markdown",
      "id": "22d953e4",
      "metadata": {},
      "source": [
       "**Comparación con lo ajustado en sklearn:**"
      ]
     },
     {
      "cell_type": "code",
      "execution_count": 34,
      "id": "68e95959",
      "metadata": {},
      "outputs": [
       {
        "data": {
         "text/plain": [
          "151.43044828536836"
         ]
        },
        "execution_count": 34,
        "metadata": {},
        "output_type": "execute_result"
       }
      ],
      "source": [
       "model.intercept_"
      ]
     },
     {
      "cell_type": "markdown",
      "id": "e7ed54ca",
      "metadata": {},
      "source": [
       "# 3. Construcción del modelo lineal con librería statsmodels"
      ]
     },
     {
      "cell_type": "code",
      "execution_count": 35,
      "id": "703ce4e2",
      "metadata": {},
      "outputs": [
       {
        "name": "stderr",
        "output_type": "stream",
        "text": [
         "/opt/anaconda3/lib/python3.9/site-packages/statsmodels/tsa/tsatools.py:142: FutureWarning: In a future version of pandas all arguments of concat except for the argument 'objs' will be keyword-only\n",
         "  x = pd.concat(x[::order], 1)\n"
        ]
       },
       {
        "data": {
         "text/html": [
          "<table class=\"simpletable\">\n",
          "<caption>OLS Regression Results</caption>\n",
          "<tr>\n",
          "  <th>Dep. Variable:</th>         <td>target</td>      <th>  R-squared:         </th> <td>   0.542</td>\n",
          "</tr>\n",
          "<tr>\n",
          "  <th>Model:</th>                   <td>OLS</td>       <th>  Adj. R-squared:    </th> <td>   0.526</td>\n",
          "</tr>\n",
          "<tr>\n",
          "  <th>Method:</th>             <td>Least Squares</td>  <th>  F-statistic:       </th> <td>   35.24</td>\n",
          "</tr>\n",
          "<tr>\n",
          "  <th>Date:</th>             <td>Fri, 20 Oct 2023</td> <th>  Prob (F-statistic):</th> <td>6.09e-45</td>\n",
          "</tr>\n",
          "<tr>\n",
          "  <th>Time:</th>                 <td>01:11:03</td>     <th>  Log-Likelihood:    </th> <td> -1669.6</td>\n",
          "</tr>\n",
          "<tr>\n",
          "  <th>No. Observations:</th>      <td>   309</td>      <th>  AIC:               </th> <td>   3361.</td>\n",
          "</tr>\n",
          "<tr>\n",
          "  <th>Df Residuals:</th>          <td>   298</td>      <th>  BIC:               </th> <td>   3402.</td>\n",
          "</tr>\n",
          "<tr>\n",
          "  <th>Df Model:</th>              <td>    10</td>      <th>                     </th>     <td> </td>   \n",
          "</tr>\n",
          "<tr>\n",
          "  <th>Covariance Type:</th>      <td>nonrobust</td>    <th>                     </th>     <td> </td>   \n",
          "</tr>\n",
          "</table>\n",
          "<table class=\"simpletable\">\n",
          "<tr>\n",
          "    <td></td>       <th>coef</th>     <th>std err</th>      <th>t</th>      <th>P>|t|</th>  <th>[0.025</th>    <th>0.975]</th>  \n",
          "</tr>\n",
          "<tr>\n",
          "  <th>const</th> <td>  151.4304</td> <td>    3.129</td> <td>   48.398</td> <td> 0.000</td> <td>  145.273</td> <td>  157.588</td>\n",
          "</tr>\n",
          "<tr>\n",
          "  <th>age</th>   <td>  -13.3048</td> <td>   72.114</td> <td>   -0.184</td> <td> 0.854</td> <td> -155.223</td> <td>  128.613</td>\n",
          "</tr>\n",
          "<tr>\n",
          "  <th>sex</th>   <td> -238.0443</td> <td>   74.415</td> <td>   -3.199</td> <td> 0.002</td> <td> -384.489</td> <td>  -91.599</td>\n",
          "</tr>\n",
          "<tr>\n",
          "  <th>bmi</th>   <td>  582.2078</td> <td>   81.551</td> <td>    7.139</td> <td> 0.000</td> <td>  421.719</td> <td>  742.696</td>\n",
          "</tr>\n",
          "<tr>\n",
          "  <th>bp</th>    <td>  345.7223</td> <td>   83.486</td> <td>    4.141</td> <td> 0.000</td> <td>  181.425</td> <td>  510.019</td>\n",
          "</tr>\n",
          "<tr>\n",
          "  <th>s1</th>    <td> -647.6121</td> <td>  503.784</td> <td>   -1.285</td> <td> 0.200</td> <td>-1639.037</td> <td>  343.813</td>\n",
          "</tr>\n",
          "<tr>\n",
          "  <th>s2</th>    <td>  340.8945</td> <td>  405.997</td> <td>    0.840</td> <td> 0.402</td> <td> -458.090</td> <td> 1139.878</td>\n",
          "</tr>\n",
          "<tr>\n",
          "  <th>s3</th>    <td>   90.1936</td> <td>  261.078</td> <td>    0.345</td> <td> 0.730</td> <td> -423.597</td> <td>  603.985</td>\n",
          "</tr>\n",
          "<tr>\n",
          "  <th>s4</th>    <td>  217.6192</td> <td>  195.970</td> <td>    1.110</td> <td> 0.268</td> <td> -168.041</td> <td>  603.280</td>\n",
          "</tr>\n",
          "<tr>\n",
          "  <th>s5</th>    <td>  664.5796</td> <td>  208.742</td> <td>    3.184</td> <td> 0.002</td> <td>  253.785</td> <td> 1075.374</td>\n",
          "</tr>\n",
          "<tr>\n",
          "  <th>s6</th>    <td>   46.1225</td> <td>   77.570</td> <td>    0.595</td> <td> 0.553</td> <td> -106.532</td> <td>  198.777</td>\n",
          "</tr>\n",
          "</table>\n",
          "<table class=\"simpletable\">\n",
          "<tr>\n",
          "  <th>Omnibus:</th>       <td> 6.291</td> <th>  Durbin-Watson:     </th> <td>   2.010</td>\n",
          "</tr>\n",
          "<tr>\n",
          "  <th>Prob(Omnibus):</th> <td> 0.043</td> <th>  Jarque-Bera (JB):  </th> <td>   4.049</td>\n",
          "</tr>\n",
          "<tr>\n",
          "  <th>Skew:</th>          <td>-0.102</td> <th>  Prob(JB):          </th> <td>   0.132</td>\n",
          "</tr>\n",
          "<tr>\n",
          "  <th>Kurtosis:</th>      <td> 2.478</td> <th>  Cond. No.          </th> <td>    227.</td>\n",
          "</tr>\n",
          "</table><br/><br/>Notes:<br/>[1] Standard Errors assume that the covariance matrix of the errors is correctly specified."
         ],
         "text/plain": [
          "<class 'statsmodels.iolib.summary.Summary'>\n",
          "\"\"\"\n",
          "                            OLS Regression Results                            \n",
          "==============================================================================\n",
          "Dep. Variable:                 target   R-squared:                       0.542\n",
          "Model:                            OLS   Adj. R-squared:                  0.526\n",
          "Method:                 Least Squares   F-statistic:                     35.24\n",
          "Date:                Fri, 20 Oct 2023   Prob (F-statistic):           6.09e-45\n",
          "Time:                        01:11:03   Log-Likelihood:                -1669.6\n",
          "No. Observations:                 309   AIC:                             3361.\n",
          "Df Residuals:                     298   BIC:                             3402.\n",
          "Df Model:                          10                                         \n",
          "Covariance Type:            nonrobust                                         \n",
          "==============================================================================\n",
          "                 coef    std err          t      P>|t|      [0.025      0.975]\n",
          "------------------------------------------------------------------------------\n",
          "const        151.4304      3.129     48.398      0.000     145.273     157.588\n",
          "age          -13.3048     72.114     -0.184      0.854    -155.223     128.613\n",
          "sex         -238.0443     74.415     -3.199      0.002    -384.489     -91.599\n",
          "bmi          582.2078     81.551      7.139      0.000     421.719     742.696\n",
          "bp           345.7223     83.486      4.141      0.000     181.425     510.019\n",
          "s1          -647.6121    503.784     -1.285      0.200   -1639.037     343.813\n",
          "s2           340.8945    405.997      0.840      0.402    -458.090    1139.878\n",
          "s3            90.1936    261.078      0.345      0.730    -423.597     603.985\n",
          "s4           217.6192    195.970      1.110      0.268    -168.041     603.280\n",
          "s5           664.5796    208.742      3.184      0.002     253.785    1075.374\n",
          "s6            46.1225     77.570      0.595      0.553    -106.532     198.777\n",
          "==============================================================================\n",
          "Omnibus:                        6.291   Durbin-Watson:                   2.010\n",
          "Prob(Omnibus):                  0.043   Jarque-Bera (JB):                4.049\n",
          "Skew:                          -0.102   Prob(JB):                        0.132\n",
          "Kurtosis:                       2.478   Cond. No.                         227.\n",
          "==============================================================================\n",
          "\n",
          "Notes:\n",
          "[1] Standard Errors assume that the covariance matrix of the errors is correctly specified.\n",
          "\"\"\""
         ]
        },
        "metadata": {},
        "output_type": "display_data"
       }
      ],
      "source": [
       "import statsmodels.api as sm\n",
       "\n",
       "model2 = sm.OLS(y_train, sm.add_constant(X_train))\n",
       "# OLS: \"Ordinary Least Squares\"\n",
       "result = model2.fit()\n",
       "display(result.summary())"
      ]
     },
     {
      "cell_type": "markdown",
      "id": "7ad3a043",
      "metadata": {},
      "source": [
       "Vemos que el $R^2$ ajustado es 0.526"
      ]
     },
     {
      "cell_type": "markdown",
      "id": "63414bf1",
      "metadata": {},
      "source": [
       "**Ahora probamos a quitar, dentro de las variables con P>|t| mayor que el valor crítico, $\\alpha = 0.05$ (confianza del 100·(1-0.05) = 95%), la que tiene mayor P, que es age:**"
      ]
     },
     {
      "cell_type": "code",
      "execution_count": 36,
      "id": "5231b7bf",
      "metadata": {},
      "outputs": [
       {
        "name": "stderr",
        "output_type": "stream",
        "text": [
         "/opt/anaconda3/lib/python3.9/site-packages/statsmodels/tsa/tsatools.py:142: FutureWarning: In a future version of pandas all arguments of concat except for the argument 'objs' will be keyword-only\n",
         "  x = pd.concat(x[::order], 1)\n"
        ]
       },
       {
        "data": {
         "text/html": [
          "<table class=\"simpletable\">\n",
          "<caption>OLS Regression Results</caption>\n",
          "<tr>\n",
          "  <th>Dep. Variable:</th>         <td>target</td>      <th>  R-squared:         </th> <td>   0.542</td>\n",
          "</tr>\n",
          "<tr>\n",
          "  <th>Model:</th>                   <td>OLS</td>       <th>  Adj. R-squared:    </th> <td>   0.528</td>\n",
          "</tr>\n",
          "<tr>\n",
          "  <th>Method:</th>             <td>Least Squares</td>  <th>  F-statistic:       </th> <td>   39.27</td>\n",
          "</tr>\n",
          "<tr>\n",
          "  <th>Date:</th>             <td>Fri, 20 Oct 2023</td> <th>  Prob (F-statistic):</th> <td>9.58e-46</td>\n",
          "</tr>\n",
          "<tr>\n",
          "  <th>Time:</th>                 <td>01:11:03</td>     <th>  Log-Likelihood:    </th> <td> -1669.6</td>\n",
          "</tr>\n",
          "<tr>\n",
          "  <th>No. Observations:</th>      <td>   309</td>      <th>  AIC:               </th> <td>   3359.</td>\n",
          "</tr>\n",
          "<tr>\n",
          "  <th>Df Residuals:</th>          <td>   299</td>      <th>  BIC:               </th> <td>   3396.</td>\n",
          "</tr>\n",
          "<tr>\n",
          "  <th>Df Model:</th>              <td>     9</td>      <th>                     </th>     <td> </td>   \n",
          "</tr>\n",
          "<tr>\n",
          "  <th>Covariance Type:</th>      <td>nonrobust</td>    <th>                     </th>     <td> </td>   \n",
          "</tr>\n",
          "</table>\n",
          "<table class=\"simpletable\">\n",
          "<tr>\n",
          "    <td></td>       <th>coef</th>     <th>std err</th>      <th>t</th>      <th>P>|t|</th>  <th>[0.025</th>    <th>0.975]</th>  \n",
          "</tr>\n",
          "<tr>\n",
          "  <th>const</th> <td>  151.4368</td> <td>    3.124</td> <td>   48.481</td> <td> 0.000</td> <td>  145.290</td> <td>  157.584</td>\n",
          "</tr>\n",
          "<tr>\n",
          "  <th>sex</th>   <td> -239.2168</td> <td>   74.023</td> <td>   -3.232</td> <td> 0.001</td> <td> -384.889</td> <td>  -93.545</td>\n",
          "</tr>\n",
          "<tr>\n",
          "  <th>bmi</th>   <td>  582.3032</td> <td>   81.417</td> <td>    7.152</td> <td> 0.000</td> <td>  422.080</td> <td>  742.527</td>\n",
          "</tr>\n",
          "<tr>\n",
          "  <th>bp</th>    <td>  342.9632</td> <td>   82.003</td> <td>    4.182</td> <td> 0.000</td> <td>  181.587</td> <td>  504.339</td>\n",
          "</tr>\n",
          "<tr>\n",
          "  <th>s1</th>    <td> -647.4808</td> <td>  502.969</td> <td>   -1.287</td> <td> 0.199</td> <td>-1637.289</td> <td>  342.327</td>\n",
          "</tr>\n",
          "<tr>\n",
          "  <th>s2</th>    <td>  338.7058</td> <td>  405.167</td> <td>    0.836</td> <td> 0.404</td> <td> -458.635</td> <td> 1136.047</td>\n",
          "</tr>\n",
          "<tr>\n",
          "  <th>s3</th>    <td>   89.8624</td> <td>  260.650</td> <td>    0.345</td> <td> 0.731</td> <td> -423.079</td> <td>  602.804</td>\n",
          "</tr>\n",
          "<tr>\n",
          "  <th>s4</th>    <td>  219.0074</td> <td>  195.509</td> <td>    1.120</td> <td> 0.264</td> <td> -165.740</td> <td>  603.755</td>\n",
          "</tr>\n",
          "<tr>\n",
          "  <th>s5</th>    <td>  661.9310</td> <td>  207.911</td> <td>    3.184</td> <td> 0.002</td> <td>  252.777</td> <td> 1071.085</td>\n",
          "</tr>\n",
          "<tr>\n",
          "  <th>s6</th>    <td>   44.9073</td> <td>   77.165</td> <td>    0.582</td> <td> 0.561</td> <td> -106.948</td> <td>  196.763</td>\n",
          "</tr>\n",
          "</table>\n",
          "<table class=\"simpletable\">\n",
          "<tr>\n",
          "  <th>Omnibus:</th>       <td> 6.256</td> <th>  Durbin-Watson:     </th> <td>   2.008</td>\n",
          "</tr>\n",
          "<tr>\n",
          "  <th>Prob(Omnibus):</th> <td> 0.044</td> <th>  Jarque-Bera (JB):  </th> <td>   4.022</td>\n",
          "</tr>\n",
          "<tr>\n",
          "  <th>Skew:</th>          <td>-0.100</td> <th>  Prob(JB):          </th> <td>   0.134</td>\n",
          "</tr>\n",
          "<tr>\n",
          "  <th>Kurtosis:</th>      <td> 2.478</td> <th>  Cond. No.          </th> <td>    227.</td>\n",
          "</tr>\n",
          "</table><br/><br/>Notes:<br/>[1] Standard Errors assume that the covariance matrix of the errors is correctly specified."
         ],
         "text/plain": [
          "<class 'statsmodels.iolib.summary.Summary'>\n",
          "\"\"\"\n",
          "                            OLS Regression Results                            \n",
          "==============================================================================\n",
          "Dep. Variable:                 target   R-squared:                       0.542\n",
          "Model:                            OLS   Adj. R-squared:                  0.528\n",
          "Method:                 Least Squares   F-statistic:                     39.27\n",
          "Date:                Fri, 20 Oct 2023   Prob (F-statistic):           9.58e-46\n",
          "Time:                        01:11:03   Log-Likelihood:                -1669.6\n",
          "No. Observations:                 309   AIC:                             3359.\n",
          "Df Residuals:                     299   BIC:                             3396.\n",
          "Df Model:                           9                                         \n",
          "Covariance Type:            nonrobust                                         \n",
          "==============================================================================\n",
          "                 coef    std err          t      P>|t|      [0.025      0.975]\n",
          "------------------------------------------------------------------------------\n",
          "const        151.4368      3.124     48.481      0.000     145.290     157.584\n",
          "sex         -239.2168     74.023     -3.232      0.001    -384.889     -93.545\n",
          "bmi          582.3032     81.417      7.152      0.000     422.080     742.527\n",
          "bp           342.9632     82.003      4.182      0.000     181.587     504.339\n",
          "s1          -647.4808    502.969     -1.287      0.199   -1637.289     342.327\n",
          "s2           338.7058    405.167      0.836      0.404    -458.635    1136.047\n",
          "s3            89.8624    260.650      0.345      0.731    -423.079     602.804\n",
          "s4           219.0074    195.509      1.120      0.264    -165.740     603.755\n",
          "s5           661.9310    207.911      3.184      0.002     252.777    1071.085\n",
          "s6            44.9073     77.165      0.582      0.561    -106.948     196.763\n",
          "==============================================================================\n",
          "Omnibus:                        6.256   Durbin-Watson:                   2.008\n",
          "Prob(Omnibus):                  0.044   Jarque-Bera (JB):                4.022\n",
          "Skew:                          -0.100   Prob(JB):                        0.134\n",
          "Kurtosis:                       2.478   Cond. No.                         227.\n",
          "==============================================================================\n",
          "\n",
          "Notes:\n",
          "[1] Standard Errors assume that the covariance matrix of the errors is correctly specified.\n",
          "\"\"\""
         ]
        },
        "metadata": {},
        "output_type": "display_data"
       }
      ],
      "source": [
       "model2 = sm.OLS(y_train, sm.add_constant(X_train.drop([\"age\"], axis=1)))\n",
       "result = model2.fit()\n",
       "display(result.summary())"
      ]
     },
     {
      "cell_type": "markdown",
      "id": "7362a298",
      "metadata": {},
      "source": [
       "Vemos que el $R^2$ ajustado ha mejorado, ahora es 0.528"
      ]
     },
     {
      "cell_type": "markdown",
      "id": "630073d4",
      "metadata": {},
      "source": [
       "**Ahora quitamos, además de age, la variable s3, que dentro de las variables con P>|t| mayor que $\\alpha$ es ahora la que mayor P tiene:**"
      ]
     },
     {
      "cell_type": "code",
      "execution_count": 37,
      "id": "bd6238a8",
      "metadata": {},
      "outputs": [
       {
        "name": "stderr",
        "output_type": "stream",
        "text": [
         "/opt/anaconda3/lib/python3.9/site-packages/statsmodels/tsa/tsatools.py:142: FutureWarning: In a future version of pandas all arguments of concat except for the argument 'objs' will be keyword-only\n",
         "  x = pd.concat(x[::order], 1)\n"
        ]
       },
       {
        "data": {
         "text/html": [
          "<table class=\"simpletable\">\n",
          "<caption>OLS Regression Results</caption>\n",
          "<tr>\n",
          "  <th>Dep. Variable:</th>         <td>target</td>      <th>  R-squared:         </th> <td>   0.542</td>\n",
          "</tr>\n",
          "<tr>\n",
          "  <th>Model:</th>                   <td>OLS</td>       <th>  Adj. R-squared:    </th> <td>   0.529</td>\n",
          "</tr>\n",
          "<tr>\n",
          "  <th>Method:</th>             <td>Least Squares</td>  <th>  F-statistic:       </th> <td>   44.30</td>\n",
          "</tr>\n",
          "<tr>\n",
          "  <th>Date:</th>             <td>Fri, 20 Oct 2023</td> <th>  Prob (F-statistic):</th> <td>1.47e-46</td>\n",
          "</tr>\n",
          "<tr>\n",
          "  <th>Time:</th>                 <td>01:11:03</td>     <th>  Log-Likelihood:    </th> <td> -1669.6</td>\n",
          "</tr>\n",
          "<tr>\n",
          "  <th>No. Observations:</th>      <td>   309</td>      <th>  AIC:               </th> <td>   3357.</td>\n",
          "</tr>\n",
          "<tr>\n",
          "  <th>Df Residuals:</th>          <td>   300</td>      <th>  BIC:               </th> <td>   3391.</td>\n",
          "</tr>\n",
          "<tr>\n",
          "  <th>Df Model:</th>              <td>     8</td>      <th>                     </th>     <td> </td>   \n",
          "</tr>\n",
          "<tr>\n",
          "  <th>Covariance Type:</th>      <td>nonrobust</td>    <th>                     </th>     <td> </td>   \n",
          "</tr>\n",
          "</table>\n",
          "<table class=\"simpletable\">\n",
          "<tr>\n",
          "    <td></td>       <th>coef</th>     <th>std err</th>      <th>t</th>      <th>P>|t|</th>  <th>[0.025</th>    <th>0.975]</th>  \n",
          "</tr>\n",
          "<tr>\n",
          "  <th>const</th> <td>  151.3993</td> <td>    3.117</td> <td>   48.570</td> <td> 0.000</td> <td>  145.265</td> <td>  157.534</td>\n",
          "</tr>\n",
          "<tr>\n",
          "  <th>sex</th>   <td> -239.8372</td> <td>   73.892</td> <td>   -3.246</td> <td> 0.001</td> <td> -385.250</td> <td>  -94.424</td>\n",
          "</tr>\n",
          "<tr>\n",
          "  <th>bmi</th>   <td>  581.1208</td> <td>   81.226</td> <td>    7.154</td> <td> 0.000</td> <td>  421.277</td> <td>  740.965</td>\n",
          "</tr>\n",
          "<tr>\n",
          "  <th>bp</th>    <td>  341.6540</td> <td>   81.794</td> <td>    4.177</td> <td> 0.000</td> <td>  180.690</td> <td>  502.618</td>\n",
          "</tr>\n",
          "<tr>\n",
          "  <th>s1</th>    <td> -497.5615</td> <td>  252.384</td> <td>   -1.971</td> <td> 0.050</td> <td> -994.229</td> <td>   -0.894</td>\n",
          "</tr>\n",
          "<tr>\n",
          "  <th>s2</th>    <td>  234.6093</td> <td>  269.779</td> <td>    0.870</td> <td> 0.385</td> <td> -296.289</td> <td>  765.507</td>\n",
          "</tr>\n",
          "<tr>\n",
          "  <th>s4</th>    <td>  173.2010</td> <td>  143.215</td> <td>    1.209</td> <td> 0.227</td> <td> -108.632</td> <td>  455.034</td>\n",
          "</tr>\n",
          "<tr>\n",
          "  <th>s5</th>    <td>  611.1812</td> <td>  146.612</td> <td>    4.169</td> <td> 0.000</td> <td>  322.663</td> <td>  899.700</td>\n",
          "</tr>\n",
          "<tr>\n",
          "  <th>s6</th>    <td>   46.2827</td> <td>   76.949</td> <td>    0.601</td> <td> 0.548</td> <td> -105.145</td> <td>  197.710</td>\n",
          "</tr>\n",
          "</table>\n",
          "<table class=\"simpletable\">\n",
          "<tr>\n",
          "  <th>Omnibus:</th>       <td> 6.325</td> <th>  Durbin-Watson:     </th> <td>   2.013</td>\n",
          "</tr>\n",
          "<tr>\n",
          "  <th>Prob(Omnibus):</th> <td> 0.042</td> <th>  Jarque-Bera (JB):  </th> <td>   4.067</td>\n",
          "</tr>\n",
          "<tr>\n",
          "  <th>Skew:</th>          <td>-0.103</td> <th>  Prob(JB):          </th> <td>   0.131</td>\n",
          "</tr>\n",
          "<tr>\n",
          "  <th>Kurtosis:</th>      <td> 2.477</td> <th>  Cond. No.          </th> <td>    128.</td>\n",
          "</tr>\n",
          "</table><br/><br/>Notes:<br/>[1] Standard Errors assume that the covariance matrix of the errors is correctly specified."
         ],
         "text/plain": [
          "<class 'statsmodels.iolib.summary.Summary'>\n",
          "\"\"\"\n",
          "                            OLS Regression Results                            \n",
          "==============================================================================\n",
          "Dep. Variable:                 target   R-squared:                       0.542\n",
          "Model:                            OLS   Adj. R-squared:                  0.529\n",
          "Method:                 Least Squares   F-statistic:                     44.30\n",
          "Date:                Fri, 20 Oct 2023   Prob (F-statistic):           1.47e-46\n",
          "Time:                        01:11:03   Log-Likelihood:                -1669.6\n",
          "No. Observations:                 309   AIC:                             3357.\n",
          "Df Residuals:                     300   BIC:                             3391.\n",
          "Df Model:                           8                                         \n",
          "Covariance Type:            nonrobust                                         \n",
          "==============================================================================\n",
          "                 coef    std err          t      P>|t|      [0.025      0.975]\n",
          "------------------------------------------------------------------------------\n",
          "const        151.3993      3.117     48.570      0.000     145.265     157.534\n",
          "sex         -239.8372     73.892     -3.246      0.001    -385.250     -94.424\n",
          "bmi          581.1208     81.226      7.154      0.000     421.277     740.965\n",
          "bp           341.6540     81.794      4.177      0.000     180.690     502.618\n",
          "s1          -497.5615    252.384     -1.971      0.050    -994.229      -0.894\n",
          "s2           234.6093    269.779      0.870      0.385    -296.289     765.507\n",
          "s4           173.2010    143.215      1.209      0.227    -108.632     455.034\n",
          "s5           611.1812    146.612      4.169      0.000     322.663     899.700\n",
          "s6            46.2827     76.949      0.601      0.548    -105.145     197.710\n",
          "==============================================================================\n",
          "Omnibus:                        6.325   Durbin-Watson:                   2.013\n",
          "Prob(Omnibus):                  0.042   Jarque-Bera (JB):                4.067\n",
          "Skew:                          -0.103   Prob(JB):                        0.131\n",
          "Kurtosis:                       2.477   Cond. No.                         128.\n",
          "==============================================================================\n",
          "\n",
          "Notes:\n",
          "[1] Standard Errors assume that the covariance matrix of the errors is correctly specified.\n",
          "\"\"\""
         ]
        },
        "metadata": {},
        "output_type": "display_data"
       }
      ],
      "source": [
       "model2 = sm.OLS(y_train, sm.add_constant(X_train.drop([\"age\", \"s3\"], axis=1)))\n",
       "result = model2.fit()\n",
       "display(result.summary())"
      ]
     },
     {
      "cell_type": "markdown",
      "id": "34cee77f",
      "metadata": {},
      "source": [
       "Vemos que ahora el $R^2$ ajustado sube a 0.529"
      ]
     },
     {
      "cell_type": "markdown",
      "id": "4351cdbe",
      "metadata": {},
      "source": [
       "Sigue habiendo variables con P>$\\alpha$. La que tiene entre ellas mayor P es s6, con lo cual la eliminamos también:"
      ]
     },
     {
      "cell_type": "code",
      "execution_count": 38,
      "id": "4593f90d",
      "metadata": {},
      "outputs": [
       {
        "name": "stderr",
        "output_type": "stream",
        "text": [
         "/opt/anaconda3/lib/python3.9/site-packages/statsmodels/tsa/tsatools.py:142: FutureWarning: In a future version of pandas all arguments of concat except for the argument 'objs' will be keyword-only\n",
         "  x = pd.concat(x[::order], 1)\n"
        ]
       },
       {
        "data": {
         "text/html": [
          "<table class=\"simpletable\">\n",
          "<caption>OLS Regression Results</caption>\n",
          "<tr>\n",
          "  <th>Dep. Variable:</th>         <td>target</td>      <th>  R-squared:         </th> <td>   0.541</td>\n",
          "</tr>\n",
          "<tr>\n",
          "  <th>Model:</th>                   <td>OLS</td>       <th>  Adj. R-squared:    </th> <td>   0.530</td>\n",
          "</tr>\n",
          "<tr>\n",
          "  <th>Method:</th>             <td>Least Squares</td>  <th>  F-statistic:       </th> <td>   50.68</td>\n",
          "</tr>\n",
          "<tr>\n",
          "  <th>Date:</th>             <td>Fri, 20 Oct 2023</td> <th>  Prob (F-statistic):</th> <td>2.38e-47</td>\n",
          "</tr>\n",
          "<tr>\n",
          "  <th>Time:</th>                 <td>01:11:03</td>     <th>  Log-Likelihood:    </th> <td> -1669.8</td>\n",
          "</tr>\n",
          "<tr>\n",
          "  <th>No. Observations:</th>      <td>   309</td>      <th>  AIC:               </th> <td>   3356.</td>\n",
          "</tr>\n",
          "<tr>\n",
          "  <th>Df Residuals:</th>          <td>   301</td>      <th>  BIC:               </th> <td>   3386.</td>\n",
          "</tr>\n",
          "<tr>\n",
          "  <th>Df Model:</th>              <td>     7</td>      <th>                     </th>     <td> </td>   \n",
          "</tr>\n",
          "<tr>\n",
          "  <th>Covariance Type:</th>      <td>nonrobust</td>    <th>                     </th>     <td> </td>   \n",
          "</tr>\n",
          "</table>\n",
          "<table class=\"simpletable\">\n",
          "<tr>\n",
          "    <td></td>       <th>coef</th>     <th>std err</th>      <th>t</th>      <th>P>|t|</th>  <th>[0.025</th>    <th>0.975]</th>  \n",
          "</tr>\n",
          "<tr>\n",
          "  <th>const</th> <td>  151.4473</td> <td>    3.113</td> <td>   48.653</td> <td> 0.000</td> <td>  145.322</td> <td>  157.573</td>\n",
          "</tr>\n",
          "<tr>\n",
          "  <th>sex</th>   <td> -236.2835</td> <td>   73.578</td> <td>   -3.211</td> <td> 0.001</td> <td> -381.075</td> <td>  -91.492</td>\n",
          "</tr>\n",
          "<tr>\n",
          "  <th>bmi</th>   <td>  588.5042</td> <td>   80.207</td> <td>    7.337</td> <td> 0.000</td> <td>  430.666</td> <td>  746.342</td>\n",
          "</tr>\n",
          "<tr>\n",
          "  <th>bp</th>    <td>  351.0315</td> <td>   80.210</td> <td>    4.376</td> <td> 0.000</td> <td>  193.189</td> <td>  508.874</td>\n",
          "</tr>\n",
          "<tr>\n",
          "  <th>s1</th>    <td> -498.5373</td> <td>  252.111</td> <td>   -1.977</td> <td> 0.049</td> <td> -994.661</td> <td>   -2.414</td>\n",
          "</tr>\n",
          "<tr>\n",
          "  <th>s2</th>    <td>  239.1296</td> <td>  269.388</td> <td>    0.888</td> <td> 0.375</td> <td> -290.992</td> <td>  769.251</td>\n",
          "</tr>\n",
          "<tr>\n",
          "  <th>s4</th>    <td>  175.2186</td> <td>  143.024</td> <td>    1.225</td> <td> 0.221</td> <td> -106.235</td> <td>  456.672</td>\n",
          "</tr>\n",
          "<tr>\n",
          "  <th>s5</th>    <td>  622.4933</td> <td>  145.247</td> <td>    4.286</td> <td> 0.000</td> <td>  336.666</td> <td>  908.321</td>\n",
          "</tr>\n",
          "</table>\n",
          "<table class=\"simpletable\">\n",
          "<tr>\n",
          "  <th>Omnibus:</th>       <td> 5.808</td> <th>  Durbin-Watson:     </th> <td>   2.013</td>\n",
          "</tr>\n",
          "<tr>\n",
          "  <th>Prob(Omnibus):</th> <td> 0.055</td> <th>  Jarque-Bera (JB):  </th> <td>   3.812</td>\n",
          "</tr>\n",
          "<tr>\n",
          "  <th>Skew:</th>          <td>-0.096</td> <th>  Prob(JB):          </th> <td>   0.149</td>\n",
          "</tr>\n",
          "<tr>\n",
          "  <th>Kurtosis:</th>      <td> 2.491</td> <th>  Cond. No.          </th> <td>    128.</td>\n",
          "</tr>\n",
          "</table><br/><br/>Notes:<br/>[1] Standard Errors assume that the covariance matrix of the errors is correctly specified."
         ],
         "text/plain": [
          "<class 'statsmodels.iolib.summary.Summary'>\n",
          "\"\"\"\n",
          "                            OLS Regression Results                            \n",
          "==============================================================================\n",
          "Dep. Variable:                 target   R-squared:                       0.541\n",
          "Model:                            OLS   Adj. R-squared:                  0.530\n",
          "Method:                 Least Squares   F-statistic:                     50.68\n",
          "Date:                Fri, 20 Oct 2023   Prob (F-statistic):           2.38e-47\n",
          "Time:                        01:11:03   Log-Likelihood:                -1669.8\n",
          "No. Observations:                 309   AIC:                             3356.\n",
          "Df Residuals:                     301   BIC:                             3386.\n",
          "Df Model:                           7                                         \n",
          "Covariance Type:            nonrobust                                         \n",
          "==============================================================================\n",
          "                 coef    std err          t      P>|t|      [0.025      0.975]\n",
          "------------------------------------------------------------------------------\n",
          "const        151.4473      3.113     48.653      0.000     145.322     157.573\n",
          "sex         -236.2835     73.578     -3.211      0.001    -381.075     -91.492\n",
          "bmi          588.5042     80.207      7.337      0.000     430.666     746.342\n",
          "bp           351.0315     80.210      4.376      0.000     193.189     508.874\n",
          "s1          -498.5373    252.111     -1.977      0.049    -994.661      -2.414\n",
          "s2           239.1296    269.388      0.888      0.375    -290.992     769.251\n",
          "s4           175.2186    143.024      1.225      0.221    -106.235     456.672\n",
          "s5           622.4933    145.247      4.286      0.000     336.666     908.321\n",
          "==============================================================================\n",
          "Omnibus:                        5.808   Durbin-Watson:                   2.013\n",
          "Prob(Omnibus):                  0.055   Jarque-Bera (JB):                3.812\n",
          "Skew:                          -0.096   Prob(JB):                        0.149\n",
          "Kurtosis:                       2.491   Cond. No.                         128.\n",
          "==============================================================================\n",
          "\n",
          "Notes:\n",
          "[1] Standard Errors assume that the covariance matrix of the errors is correctly specified.\n",
          "\"\"\""
         ]
        },
        "metadata": {},
        "output_type": "display_data"
       }
      ],
      "source": [
       "model2 = sm.OLS(y_train, sm.add_constant(X_train.drop([\"age\", \"s3\", \"s6\"], axis=1)))\n",
       "result = model2.fit()\n",
       "display(result.summary())"
      ]
     },
     {
      "cell_type": "markdown",
      "id": "822b4011",
      "metadata": {},
      "source": [
       "Vemos que ahora el $R^2$ ajustado sube a 0.530"
      ]
     },
     {
      "cell_type": "markdown",
      "id": "150a2f95",
      "metadata": {},
      "source": [
       "Ahora eliminamos también s2:"
      ]
     },
     {
      "cell_type": "code",
      "execution_count": 39,
      "id": "919bc9de",
      "metadata": {},
      "outputs": [
       {
        "name": "stderr",
        "output_type": "stream",
        "text": [
         "/opt/anaconda3/lib/python3.9/site-packages/statsmodels/tsa/tsatools.py:142: FutureWarning: In a future version of pandas all arguments of concat except for the argument 'objs' will be keyword-only\n",
         "  x = pd.concat(x[::order], 1)\n"
        ]
       },
       {
        "data": {
         "text/html": [
          "<table class=\"simpletable\">\n",
          "<caption>OLS Regression Results</caption>\n",
          "<tr>\n",
          "  <th>Dep. Variable:</th>         <td>target</td>      <th>  R-squared:         </th> <td>   0.540</td>\n",
          "</tr>\n",
          "<tr>\n",
          "  <th>Model:</th>                   <td>OLS</td>       <th>  Adj. R-squared:    </th> <td>   0.531</td>\n",
          "</tr>\n",
          "<tr>\n",
          "  <th>Method:</th>             <td>Least Squares</td>  <th>  F-statistic:       </th> <td>   59.04</td>\n",
          "</tr>\n",
          "<tr>\n",
          "  <th>Date:</th>             <td>Fri, 20 Oct 2023</td> <th>  Prob (F-statistic):</th> <td>4.36e-48</td>\n",
          "</tr>\n",
          "<tr>\n",
          "  <th>Time:</th>                 <td>01:11:03</td>     <th>  Log-Likelihood:    </th> <td> -1670.2</td>\n",
          "</tr>\n",
          "<tr>\n",
          "  <th>No. Observations:</th>      <td>   309</td>      <th>  AIC:               </th> <td>   3354.</td>\n",
          "</tr>\n",
          "<tr>\n",
          "  <th>Df Residuals:</th>          <td>   302</td>      <th>  BIC:               </th> <td>   3381.</td>\n",
          "</tr>\n",
          "<tr>\n",
          "  <th>Df Model:</th>              <td>     6</td>      <th>                     </th>     <td> </td>   \n",
          "</tr>\n",
          "<tr>\n",
          "  <th>Covariance Type:</th>      <td>nonrobust</td>    <th>                     </th>     <td> </td>   \n",
          "</tr>\n",
          "</table>\n",
          "<table class=\"simpletable\">\n",
          "<tr>\n",
          "    <td></td>       <th>coef</th>     <th>std err</th>      <th>t</th>      <th>P>|t|</th>  <th>[0.025</th>    <th>0.975]</th>  \n",
          "</tr>\n",
          "<tr>\n",
          "  <th>const</th> <td>  151.3800</td> <td>    3.111</td> <td>   48.662</td> <td> 0.000</td> <td>  145.258</td> <td>  157.502</td>\n",
          "</tr>\n",
          "<tr>\n",
          "  <th>sex</th>   <td> -229.0359</td> <td>   73.098</td> <td>   -3.133</td> <td> 0.002</td> <td> -372.881</td> <td>  -85.191</td>\n",
          "</tr>\n",
          "<tr>\n",
          "  <th>bmi</th>   <td>  603.6742</td> <td>   78.338</td> <td>    7.706</td> <td> 0.000</td> <td>  449.517</td> <td>  757.832</td>\n",
          "</tr>\n",
          "<tr>\n",
          "  <th>bp</th>    <td>  350.6028</td> <td>   80.180</td> <td>    4.373</td> <td> 0.000</td> <td>  192.820</td> <td>  508.385</td>\n",
          "</tr>\n",
          "<tr>\n",
          "  <th>s1</th>    <td> -286.3810</td> <td>   80.211</td> <td>   -3.570</td> <td> 0.000</td> <td> -444.224</td> <td> -128.538</td>\n",
          "</tr>\n",
          "<tr>\n",
          "  <th>s4</th>    <td>  268.5872</td> <td>   96.880</td> <td>    2.772</td> <td> 0.006</td> <td>   77.941</td> <td>  459.233</td>\n",
          "</tr>\n",
          "<tr>\n",
          "  <th>s5</th>    <td>  522.7324</td> <td>   91.981</td> <td>    5.683</td> <td> 0.000</td> <td>  341.728</td> <td>  703.737</td>\n",
          "</tr>\n",
          "</table>\n",
          "<table class=\"simpletable\">\n",
          "<tr>\n",
          "  <th>Omnibus:</th>       <td> 5.967</td> <th>  Durbin-Watson:     </th> <td>   2.013</td>\n",
          "</tr>\n",
          "<tr>\n",
          "  <th>Prob(Omnibus):</th> <td> 0.051</td> <th>  Jarque-Bera (JB):  </th> <td>   3.746</td>\n",
          "</tr>\n",
          "<tr>\n",
          "  <th>Skew:</th>          <td>-0.068</td> <th>  Prob(JB):          </th> <td>   0.154</td>\n",
          "</tr>\n",
          "<tr>\n",
          "  <th>Kurtosis:</th>      <td> 2.478</td> <th>  Cond. No.          </th> <td>    38.7</td>\n",
          "</tr>\n",
          "</table><br/><br/>Notes:<br/>[1] Standard Errors assume that the covariance matrix of the errors is correctly specified."
         ],
         "text/plain": [
          "<class 'statsmodels.iolib.summary.Summary'>\n",
          "\"\"\"\n",
          "                            OLS Regression Results                            \n",
          "==============================================================================\n",
          "Dep. Variable:                 target   R-squared:                       0.540\n",
          "Model:                            OLS   Adj. R-squared:                  0.531\n",
          "Method:                 Least Squares   F-statistic:                     59.04\n",
          "Date:                Fri, 20 Oct 2023   Prob (F-statistic):           4.36e-48\n",
          "Time:                        01:11:03   Log-Likelihood:                -1670.2\n",
          "No. Observations:                 309   AIC:                             3354.\n",
          "Df Residuals:                     302   BIC:                             3381.\n",
          "Df Model:                           6                                         \n",
          "Covariance Type:            nonrobust                                         \n",
          "==============================================================================\n",
          "                 coef    std err          t      P>|t|      [0.025      0.975]\n",
          "------------------------------------------------------------------------------\n",
          "const        151.3800      3.111     48.662      0.000     145.258     157.502\n",
          "sex         -229.0359     73.098     -3.133      0.002    -372.881     -85.191\n",
          "bmi          603.6742     78.338      7.706      0.000     449.517     757.832\n",
          "bp           350.6028     80.180      4.373      0.000     192.820     508.385\n",
          "s1          -286.3810     80.211     -3.570      0.000    -444.224    -128.538\n",
          "s4           268.5872     96.880      2.772      0.006      77.941     459.233\n",
          "s5           522.7324     91.981      5.683      0.000     341.728     703.737\n",
          "==============================================================================\n",
          "Omnibus:                        5.967   Durbin-Watson:                   2.013\n",
          "Prob(Omnibus):                  0.051   Jarque-Bera (JB):                3.746\n",
          "Skew:                          -0.068   Prob(JB):                        0.154\n",
          "Kurtosis:                       2.478   Cond. No.                         38.7\n",
          "==============================================================================\n",
          "\n",
          "Notes:\n",
          "[1] Standard Errors assume that the covariance matrix of the errors is correctly specified.\n",
          "\"\"\""
         ]
        },
        "metadata": {},
        "output_type": "display_data"
       }
      ],
      "source": [
       "model2 = sm.OLS(y_train, sm.add_constant(X_train.drop([\"age\", \"s3\", \"s6\", \"s2\"], axis=1)))\n",
       "result = model2.fit()\n",
       "display(result.summary())"
      ]
     },
     {
      "cell_type": "markdown",
      "id": "8512c55c",
      "metadata": {},
      "source": [
       "Y el $R^2$ ajustado sube ahora a 0.531"
      ]
     },
     {
      "cell_type": "markdown",
      "id": "f2845c7b",
      "metadata": {},
      "source": [
       "Ahora ninguna variable tiene P>|t| mayor que el umbral 0.05, por lo que no habría que seguir eliminando ninguna.\n",
       "Si aun así eliminamos la que tiene mayor P, s4:"
      ]
     },
     {
      "cell_type": "code",
      "execution_count": 40,
      "id": "d984aa81",
      "metadata": {},
      "outputs": [
       {
        "name": "stderr",
        "output_type": "stream",
        "text": [
         "/opt/anaconda3/lib/python3.9/site-packages/statsmodels/tsa/tsatools.py:142: FutureWarning: In a future version of pandas all arguments of concat except for the argument 'objs' will be keyword-only\n",
         "  x = pd.concat(x[::order], 1)\n"
        ]
       },
       {
        "data": {
         "text/html": [
          "<table class=\"simpletable\">\n",
          "<caption>OLS Regression Results</caption>\n",
          "<tr>\n",
          "  <th>Dep. Variable:</th>         <td>target</td>      <th>  R-squared:         </th> <td>   0.528</td>\n",
          "</tr>\n",
          "<tr>\n",
          "  <th>Model:</th>                   <td>OLS</td>       <th>  Adj. R-squared:    </th> <td>   0.520</td>\n",
          "</tr>\n",
          "<tr>\n",
          "  <th>Method:</th>             <td>Least Squares</td>  <th>  F-statistic:       </th> <td>   67.81</td>\n",
          "</tr>\n",
          "<tr>\n",
          "  <th>Date:</th>             <td>Fri, 20 Oct 2023</td> <th>  Prob (F-statistic):</th> <td>2.14e-47</td>\n",
          "</tr>\n",
          "<tr>\n",
          "  <th>Time:</th>                 <td>01:11:03</td>     <th>  Log-Likelihood:    </th> <td> -1674.1</td>\n",
          "</tr>\n",
          "<tr>\n",
          "  <th>No. Observations:</th>      <td>   309</td>      <th>  AIC:               </th> <td>   3360.</td>\n",
          "</tr>\n",
          "<tr>\n",
          "  <th>Df Residuals:</th>          <td>   303</td>      <th>  BIC:               </th> <td>   3383.</td>\n",
          "</tr>\n",
          "<tr>\n",
          "  <th>Df Model:</th>              <td>     5</td>      <th>                     </th>     <td> </td>   \n",
          "</tr>\n",
          "<tr>\n",
          "  <th>Covariance Type:</th>      <td>nonrobust</td>    <th>                     </th>     <td> </td>   \n",
          "</tr>\n",
          "</table>\n",
          "<table class=\"simpletable\">\n",
          "<tr>\n",
          "    <td></td>       <th>coef</th>     <th>std err</th>      <th>t</th>      <th>P>|t|</th>  <th>[0.025</th>    <th>0.975]</th>  \n",
          "</tr>\n",
          "<tr>\n",
          "  <th>const</th> <td>  151.1460</td> <td>    3.144</td> <td>   48.078</td> <td> 0.000</td> <td>  144.960</td> <td>  157.332</td>\n",
          "</tr>\n",
          "<tr>\n",
          "  <th>sex</th>   <td> -155.6534</td> <td>   68.885</td> <td>   -2.260</td> <td> 0.025</td> <td> -291.206</td> <td>  -20.101</td>\n",
          "</tr>\n",
          "<tr>\n",
          "  <th>bmi</th>   <td>  650.8859</td> <td>   77.304</td> <td>    8.420</td> <td> 0.000</td> <td>  498.766</td> <td>  803.006</td>\n",
          "</tr>\n",
          "<tr>\n",
          "  <th>bp</th>    <td>  326.4064</td> <td>   80.578</td> <td>    4.051</td> <td> 0.000</td> <td>  167.843</td> <td>  484.970</td>\n",
          "</tr>\n",
          "<tr>\n",
          "  <th>s1</th>    <td> -203.7338</td> <td>   75.282</td> <td>   -2.706</td> <td> 0.007</td> <td> -351.876</td> <td>  -55.591</td>\n",
          "</tr>\n",
          "<tr>\n",
          "  <th>s5</th>    <td>  623.9923</td> <td>   85.344</td> <td>    7.311</td> <td> 0.000</td> <td>  456.050</td> <td>  791.935</td>\n",
          "</tr>\n",
          "</table>\n",
          "<table class=\"simpletable\">\n",
          "<tr>\n",
          "  <th>Omnibus:</th>       <td> 4.528</td> <th>  Durbin-Watson:     </th> <td>   2.014</td>\n",
          "</tr>\n",
          "<tr>\n",
          "  <th>Prob(Omnibus):</th> <td> 0.104</td> <th>  Jarque-Bera (JB):  </th> <td>   2.993</td>\n",
          "</tr>\n",
          "<tr>\n",
          "  <th>Skew:</th>          <td>-0.012</td> <th>  Prob(JB):          </th> <td>   0.224</td>\n",
          "</tr>\n",
          "<tr>\n",
          "  <th>Kurtosis:</th>      <td> 2.518</td> <th>  Cond. No.          </th> <td>    33.0</td>\n",
          "</tr>\n",
          "</table><br/><br/>Notes:<br/>[1] Standard Errors assume that the covariance matrix of the errors is correctly specified."
         ],
         "text/plain": [
          "<class 'statsmodels.iolib.summary.Summary'>\n",
          "\"\"\"\n",
          "                            OLS Regression Results                            \n",
          "==============================================================================\n",
          "Dep. Variable:                 target   R-squared:                       0.528\n",
          "Model:                            OLS   Adj. R-squared:                  0.520\n",
          "Method:                 Least Squares   F-statistic:                     67.81\n",
          "Date:                Fri, 20 Oct 2023   Prob (F-statistic):           2.14e-47\n",
          "Time:                        01:11:03   Log-Likelihood:                -1674.1\n",
          "No. Observations:                 309   AIC:                             3360.\n",
          "Df Residuals:                     303   BIC:                             3383.\n",
          "Df Model:                           5                                         \n",
          "Covariance Type:            nonrobust                                         \n",
          "==============================================================================\n",
          "                 coef    std err          t      P>|t|      [0.025      0.975]\n",
          "------------------------------------------------------------------------------\n",
          "const        151.1460      3.144     48.078      0.000     144.960     157.332\n",
          "sex         -155.6534     68.885     -2.260      0.025    -291.206     -20.101\n",
          "bmi          650.8859     77.304      8.420      0.000     498.766     803.006\n",
          "bp           326.4064     80.578      4.051      0.000     167.843     484.970\n",
          "s1          -203.7338     75.282     -2.706      0.007    -351.876     -55.591\n",
          "s5           623.9923     85.344      7.311      0.000     456.050     791.935\n",
          "==============================================================================\n",
          "Omnibus:                        4.528   Durbin-Watson:                   2.014\n",
          "Prob(Omnibus):                  0.104   Jarque-Bera (JB):                2.993\n",
          "Skew:                          -0.012   Prob(JB):                        0.224\n",
          "Kurtosis:                       2.518   Cond. No.                         33.0\n",
          "==============================================================================\n",
          "\n",
          "Notes:\n",
          "[1] Standard Errors assume that the covariance matrix of the errors is correctly specified.\n",
          "\"\"\""
         ]
        },
        "metadata": {},
        "output_type": "display_data"
       }
      ],
      "source": [
       "model2 = sm.OLS(y_train, sm.add_constant(X_train.drop([\"age\", \"s3\", \"s6\", \"s2\", \"s4\"], axis=1)))\n",
       "result = model2.fit()\n",
       "display(result.summary())"
      ]
     },
     {
      "cell_type": "markdown",
      "id": "ed2d69c7",
      "metadata": {},
      "source": [
       "Vemos que el $R^2$ ajustado empeora ahora: baja a 0.520, indicando que el modelo es peor."
      ]
     },
     {
      "cell_type": "markdown",
      "id": "2f04df2d",
      "metadata": {},
      "source": [
       "Por tanto, a través de los estadísticos P>|t| hemos ido simplificando y mejorando el modelo eliminando variables innecesarias, en el sentido de que no aportan información relevante al modelo. En nuestro caso, las variables detectadas como innecesarias son age, s3, s6 y s2. Esta es una de las técnicas para abordar lo que se denomina **\"selección de variables\"**."
      ]
     },
     {
      "cell_type": "code",
      "execution_count": 41,
      "id": "7fe74b32",
      "metadata": {},
      "outputs": [
       {
        "name": "stderr",
        "output_type": "stream",
        "text": [
         "/opt/anaconda3/lib/python3.9/site-packages/statsmodels/tsa/tsatools.py:142: FutureWarning: In a future version of pandas all arguments of concat except for the argument 'objs' will be keyword-only\n",
         "  x = pd.concat(x[::order], 1)\n"
        ]
       }
      ],
      "source": [
       "preds_test = result.predict(sm.add_constant(X_test.drop([\"age\", \"s3\", \"s6\", \"s2\", \"s4\"], axis=1)))"
      ]
     },
     {
      "cell_type": "code",
      "execution_count": 42,
      "id": "42ac024a",
      "metadata": {},
      "outputs": [
       {
        "data": {
         "text/plain": [
          "0.40969316102405795"
         ]
        },
        "execution_count": 42,
        "metadata": {},
        "output_type": "execute_result"
       }
      ],
      "source": [
       "# R2 con statsmodels + eliminación de variables por P-values:\n",
       "\n",
       "r2_score(y_test, preds_test)"
      ]
     },
     {
      "cell_type": "markdown",
      "id": "6f1682bd",
      "metadata": {},
      "source": [
       "# 4. Construcción del modelo lineal con LassoCV (regularización L1 con cross-validation para ajustar alpha óptimo) con librería sklearn"
      ]
     },
     {
      "cell_type": "markdown",
      "id": "3b29bf8e",
      "metadata": {},
      "source": [
       "Ejercicio:\n",
       "    \n",
       "* Crear un modelo con regularización L1 con todas las variables originales.\n",
       "* Chequea su R2 en test. ¿Es mejor que los anteriores del notebook?\n",
       "* ¿Usa todas las variables? Comparar con el modelo creado con statsmodels\n",
       "* Hacer lo mismo con regularización L2"
      ]
     },
     {
      "cell_type": "code",
      "execution_count": 43,
      "id": "2ad1f619",
      "metadata": {},
      "outputs": [
       {
        "name": "stdout",
        "output_type": "stream",
        "text": [
         "0.4335362733554443\n"
        ]
       },
       {
        "data": {
         "text/plain": [
          "0.4335362733554443"
         ]
        },
        "execution_count": 43,
        "metadata": {},
        "output_type": "execute_result"
       }
      ],
      "source": [
       "from sklearn.preprocessing import StandardScaler\n",
       "from sklearn.linear_model import LassoCV\n",
       "from sklearn.pipeline import Pipeline\n",
       "\n",
       "model3 = Pipeline([('scaler', StandardScaler()), ('LR', LassoCV())])\n",
       "ymean, ystd = y_train.mean(), y_train.std()\n",
       "\n",
       "y_train_scaled = (y_train - ymean) / ystd\n",
       "y_test_scaled = (y_test - ymean) / ystd\n",
       "\n",
       "model3.fit(X_train, y_train_scaled)\n",
       "print(model3.score(X_test, y_test_scaled))\n",
       "\n",
       "y_predicted_scaled = model3.predict(X_test)\n",
       "y_predicted = ymean + ystd*y_predicted_scaled\n",
       "r2_score(y_test, y_predicted)"
      ]
     },
     {
      "cell_type": "code",
      "execution_count": 44,
      "id": "2b8c09db",
      "metadata": {},
      "outputs": [
       {
        "data": {
         "text/plain": [
          "array([-0.        , -0.11749331,  0.35614648,  0.18235758, -0.07165024,\n",
          "       -0.        , -0.10555001,  0.02674713,  0.29926166,  0.0215278 ])"
         ]
        },
        "execution_count": 44,
        "metadata": {},
        "output_type": "execute_result"
       }
      ],
      "source": [
       "model3[\"LR\"].coef_"
      ]
     },
     {
      "cell_type": "code",
      "execution_count": 45,
      "id": "85ae2803",
      "metadata": {},
      "outputs": [
       {
        "data": {
         "text/plain": [
          "Index(['age', 'sex', 'bmi', 'bp', 's1', 's2', 's3', 's4', 's5', 's6'], dtype='object')"
         ]
        },
        "execution_count": 45,
        "metadata": {},
        "output_type": "execute_result"
       }
      ],
      "source": [
       "X_test.columns"
      ]
     },
     {
      "cell_type": "code",
      "execution_count": 46,
      "id": "0729d328",
      "metadata": {},
      "outputs": [
       {
        "data": {
         "text/plain": [
          "array([ -13.30476433, -238.04429689,  582.20780727,  345.72234704,\n",
          "       -647.61205846,  340.89449144,   90.19356558,  217.6191519 ,\n",
          "        664.57956633,   46.12251913])"
         ]
        },
        "execution_count": 46,
        "metadata": {},
        "output_type": "execute_result"
       }
      ],
      "source": [
       "model.coef_"
      ]
     },
     {
      "cell_type": "markdown",
      "id": "453cb345",
      "metadata": {},
      "source": [
       "**Nota: relación entre los coeficientes de un modelo lineal usando las variables sin estandarizar, y otro con las variables estandarizadas**"
      ]
     },
     {
      "cell_type": "code",
      "execution_count": 47,
      "id": "87f65b05",
      "metadata": {},
      "outputs": [
       {
        "name": "stdout",
        "output_type": "stream",
        "text": [
         "Coeficientes w: [-0.00795921 -0.14240437  0.35369239  0.1999526  -0.39694488  0.20566525\n",
         "  0.05291071  0.13042557  0.40907921  0.02807411]\n",
         "Término b     : -1.5266603456472376e-16\n"
        ]
       }
      ],
      "source": [
       "# Modelo lineal (sin regularizar) con las variables estandarizadas:\n",
       "\n",
       "model4 = Pipeline([('scaler', StandardScaler()), ('LR', LinearRegression())])\n",
       "model4.fit(X_train, y_train_scaled)\n",
       "print(\"Coeficientes w:\", model4[\"LR\"].coef_)\n",
       "print(\"Término b     :\", model4[\"LR\"].intercept_)"
      ]
     },
     {
      "cell_type": "code",
      "execution_count": 48,
      "id": "66b477d1",
      "metadata": {},
      "outputs": [
       {
        "name": "stdout",
        "output_type": "stream",
        "text": [
         "Coeficientes w: [ -13.30476433 -238.04429689  582.20780727  345.72234704 -647.61205846\n",
         "  340.89449144   90.19356558  217.6191519   664.57956633   46.12251913]\n",
         "Término b     : 151.43044828536836\n"
        ]
       }
      ],
      "source": [
       "# Modelo lineal (sin regularizar) con las variables originales (sin estandarizar):\n",
       "\n",
       "print(\"Coeficientes w:\", model.coef_)\n",
       "print(\"Término b     :\", model.intercept_)"
      ]
     },
     {
      "cell_type": "markdown",
      "id": "20d06df6",
      "metadata": {},
      "source": [
       "**Modelo con variables sin estandarizar:**\n",
       "\n",
       "$\n",
       "\\hat y_i = b + {\\bf w}^T \\cdot {\\bf x} = b + \\sum_j w^{(j)} \\cdot x^{(i)}\n",
       "$\n",
       "\n",
       "**Modelo con variables estandarizadas:**\n",
       "\n",
       "$\n",
       "\\left( \\frac{\\hat y_i - \\overline y}{std(y)} \\right) = b' + \\sum_j v^{(j)} \\cdot \\left( \\frac{x^{(j)}_i - \\overline{x^{(j)}}}{std(x^{(j)})} \\right)\n",
       "$\n",
       "\n",
       "Reorganizando nos queda:\n",
       "\n",
       "$\n",
       "\\hat y_i = \\overline y + std(y) \\cdot \\left[ b' + \\sum_j v^{(j)} \\cdot \\left( \\frac{x^{(j)}_i - \\overline{x^{(j)}}}{std(x^{(j)})} \\right) \\right]\n",
       "$\n",
       "\n",
       "y reorganizando un poco más, nos queda:\n",
       "\n",
       "$\n",
       "\\hat y_i = \\left[ \\overline y + std(y) \\cdot \\left( b' - \\sum_j \\frac{v^{(j)} \\cdot \\overline{x^{(j)}}}{std(x^{(j)})} \\right) \\right] + \\sum_j \\left[ \\left( \\frac{std(y) \\cdot v^{(j)}}{std(x^{(j)})} \\right) \\cdot x^{(j)}_i \\right]\n",
       "$\n",
       "\n",
       "Con lo cual, nos queda la siguiente relación entre un modelo lineal entrenado con las variables originales y otro entrenado con las variables estandarizados (ambos modelos sin regularizar):\n",
       "\n",
       "(1)$\\,\\,\\,$ $\n",
       "b = \\overline y + std(y) \\cdot \\left( b' - \\sum_j \\frac{v^{(j)} \\cdot \\overline{x^{(j)}}}{std(x^{(j)})} \\right)\n",
       "$\n",
       "\n",
       "(2)$\\,\\,\\,$ $\n",
       "w^{(j)} = \\frac{std(y) \\cdot v^{(j)}}{std(x^{(j)})}\n",
       "$"
      ]
     },
     {
      "cell_type": "code",
      "execution_count": 49,
      "id": "a528692b",
      "metadata": {},
      "outputs": [
       {
        "data": {
         "text/plain": [
          "array([ -13.30476433, -238.04429689,  582.20780727,  345.72234704,\n",
          "       -647.61205846,  340.89449144,   90.19356558,  217.6191519 ,\n",
          "        664.57956633,   46.12251913])"
         ]
        },
        "execution_count": 49,
        "metadata": {},
        "output_type": "execute_result"
       }
      ],
      "source": [
       "# Coeficientes w del modelo ajustado con variables originales:\n",
       "\n",
       "model.coef_"
      ]
     },
     {
      "cell_type": "code",
      "execution_count": 50,
      "id": "c21644d6",
      "metadata": {},
      "outputs": [
       {
        "data": {
         "text/plain": [
          "array([-0.00795921, -0.14240437,  0.35369239,  0.1999526 , -0.39694488,\n",
          "        0.20566525,  0.05291071,  0.13042557,  0.40907921,  0.02807411])"
         ]
        },
        "execution_count": 50,
        "metadata": {},
        "output_type": "execute_result"
       }
      ],
      "source": [
       "# Coeficientes v del modelo ajustado con variables estandarizadas:\n",
       "\n",
       "model4[\"LR\"].coef_"
      ]
     },
     {
      "cell_type": "code",
      "execution_count": 51,
      "id": "bee9f9fc",
      "metadata": {},
      "outputs": [
       {
        "data": {
         "text/plain": [
          "array([ -13.30476433, -238.04429689,  582.20780727,  345.72234704,\n",
          "       -647.61205846,  340.89449144,   90.19356558,  217.6191519 ,\n",
          "        664.57956633,   46.12251913])"
         ]
        },
        "execution_count": 51,
        "metadata": {},
        "output_type": "execute_result"
       }
      ],
      "source": [
       "# Coeficientes w del modelo con variables originales\n",
       "# obtenidos a partir del modelo ajustado con variables estandarizadas:\n",
       "\n",
       "model4[\"LR\"].coef_*ystd/X_train.std(ddof=0).values"
      ]
     },
     {
      "cell_type": "code",
      "execution_count": 52,
      "id": "33aff555",
      "metadata": {},
      "outputs": [
       {
        "data": {
         "text/plain": [
          "151.43044828536836"
         ]
        },
        "execution_count": 52,
        "metadata": {},
        "output_type": "execute_result"
       }
      ],
      "source": [
       "# b del modelo ajustado con variables originales:\n",
       "\n",
       "model.intercept_"
      ]
     },
     {
      "cell_type": "code",
      "execution_count": 53,
      "id": "c10544cf",
      "metadata": {},
      "outputs": [
       {
        "data": {
         "text/plain": [
          "-1.5266603456472376e-16"
         ]
        },
        "execution_count": 53,
        "metadata": {},
        "output_type": "execute_result"
       }
      ],
      "source": [
       "# b' del modelo ajustado con variables estandarizadas:\n",
       "\n",
       "model4[\"LR\"].intercept_"
      ]
     },
     {
      "cell_type": "code",
      "execution_count": 54,
      "id": "454ba897",
      "metadata": {},
      "outputs": [
       {
        "data": {
         "text/plain": [
          "151.43044828536836"
         ]
        },
        "execution_count": 54,
        "metadata": {},
        "output_type": "execute_result"
       }
      ],
      "source": [
       "# b del modelo con variables originales\n",
       "# obtenido a partir del modelo ajustado con variables estandarizadas:\n",
       "\n",
       "ymean + ystd*(model4[\"LR\"].intercept_ - sum(model4[\"LR\"].coef_*X_train.mean()/X_train.std(ddof=0)))"
      ]
     },
     {
      "cell_type": "markdown",
      "id": "5044241a",
      "metadata": {},
      "source": [
       "**Como vemos, las ecuaciones (1) y (2) se cumplen exactamente**"
      ]
     },
     {
      "cell_type": "markdown",
      "id": "601153e3",
      "metadata": {},
      "source": [
       "# 5. Construcción del modelo lineal con RidgeCV (regularización L2 con cross-validation para ajustar alpha óptimo) con librería sklearn"
      ]
     },
     {
      "cell_type": "code",
      "execution_count": 55,
      "id": "2684ee30",
      "metadata": {},
      "outputs": [],
      "source": [
       "# Ejercicio: realizar este apartado"
      ]
     },
     {
      "cell_type": "code",
      "execution_count": null,
      "id": "283ebe74",
      "metadata": {},
      "outputs": [],
      "source": []
     }
    ],
    "metadata": {
     "kernelspec": {
      "display_name": "Python 3 (ipykernel)",
      "language": "python",
      "name": "python3"
     },
     "language_info": {
      "codemirror_mode": {
       "name": "ipython",
       "version": 3
      },
      "file_extension": ".py",
      "mimetype": "text/x-python",
      "name": "python",
      "nbconvert_exporter": "python",
      "pygments_lexer": "ipython3",
      "version": "3.9.7"
     }
    },
    "nbformat": 4,
    "nbformat_minor": 5
   }